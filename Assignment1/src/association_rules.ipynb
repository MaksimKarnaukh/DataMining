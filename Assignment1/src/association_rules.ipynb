{
 "cells": [
  {
   "cell_type": "code",
   "execution_count": 127,
   "id": "initial_id",
   "metadata": {
    "collapsed": true,
    "ExecuteTime": {
     "end_time": "2024-03-13T04:32:44.118050300Z",
     "start_time": "2024-03-13T04:32:44.091123400Z"
    }
   },
   "outputs": [],
   "source": [
    "from apyori import apriori\n",
    "from helper_functions import load_dataset\n",
    "from typing import List, Tuple\n",
    "import pandas as pd"
   ]
  },
  {
   "cell_type": "markdown",
   "source": [
    "### Loading the cleaned dataset"
   ],
   "metadata": {
    "collapsed": false
   },
   "id": "a54808ae25d6dd97"
  },
  {
   "cell_type": "code",
   "outputs": [],
   "source": [
    "transactions: List[List] = None\n",
    "try:\n",
    "    data: pd.DataFrame = load_dataset('../data/assignment1_income_levels_cleaned.xlsx')\n",
    "    transactions = data.astype(str).values.tolist()\n",
    "except FileNotFoundError:\n",
    "    print('File not found')"
   ],
   "metadata": {
    "collapsed": false,
    "ExecuteTime": {
     "end_time": "2024-03-13T04:32:46.383017Z",
     "start_time": "2024-03-13T04:32:44.123036100Z"
    }
   },
   "id": "5e4cd67cef06d5b3",
   "execution_count": 128
  },
  {
   "cell_type": "markdown",
   "source": [
    "## 2) Search for Association Rules "
   ],
   "metadata": {
    "collapsed": false
   },
   "id": "d3b4c76d716be41a"
  },
  {
   "cell_type": "markdown",
   "source": [
    "### Function to run the apriori algorithm"
   ],
   "metadata": {
    "collapsed": false
   },
   "id": "3119a6dc08041707"
  },
  {
   "cell_type": "code",
   "outputs": [],
   "source": [
    "def run_apriori(transactions: List[List], min_support: float, min_confidence: float, min_length: int=2, sorted_by_support: bool=True, consequence:List[str]=None):\n",
    "    \"\"\"\n",
    "    Runs the apriori algorithm and writes the results (rules) to a txt file.\n",
    "    :param transactions: dataset as a list of lists\n",
    "    :param min_support: minimum support of relations\n",
    "    :param min_confidence: minimum confidence of relations\n",
    "    :param min_length: minimum number of items in a rule\n",
    "    :param sorted_by_support: True if the apriori results should be sorted by support, False otherwise\n",
    "    :param consequence: list of strings, where the rules should have at least one of the strings as their consequence\n",
    "    :return: \n",
    "    \"\"\"\n",
    "    file_name: str = f'../output/output_{str(int(consequence is not None))}_{min_support}_{min_confidence}_{min_length}.txt'\n",
    "    results: List[Tuple] = list(apriori(transactions, min_support=min_support, min_confidence=min_confidence, min_length=min_length))\n",
    "    try:\n",
    "        with open(file_name, 'w') as file:\n",
    "            if sorted_by_support:\n",
    "                results = sorted(results, key=lambda x: x.support, reverse=True) # this means our final output will be sorted by support too\n",
    "            for rule in results:\n",
    "                if len(rule.items) == 1:\n",
    "                    continue\n",
    "                to_write: str = f\"Items: ({', '.join(rule.items)})\\n\" # for writing to txt file\n",
    "                is_consequence_present: bool = False\n",
    "                for i in range(0, len(rule.ordered_statistics)):\n",
    "                    antecedent: str = ', '.join(rule.ordered_statistics[i].items_base) # \"left side\" of the rule\n",
    "                    consequent: str = ', '.join(rule.ordered_statistics[i].items_add) # \"right side\" of the rule\n",
    "                    \n",
    "                    # skip rules with empty antecedent or consequent\n",
    "                    if len(antecedent) == 0 or len(consequent) == 0: \n",
    "                        continue\n",
    "                        \n",
    "                    # if we are looking for a specific consequence, we skip the rules that do not have it\n",
    "                    if consequence is not None and consequent not in consequence:\n",
    "                        continue\n",
    "                    is_consequence_present = True\n",
    "                        \n",
    "                    support: str = str(rule.support)[:7] # float, so we need to convert it to string and limit the number of decimal places\n",
    "                    confidence: str = str(rule.ordered_statistics[i].confidence)[:7] # float, so we need to convert it to string and limit the number of decimal places\n",
    "                    lift: str = str(rule.ordered_statistics[i].lift)[:7] # float, so we need to convert it to string and limit the number of decimal places\n",
    "                \n",
    "                    to_write += f\"\\t{antecedent} => {consequent} (support: {support}, confidence: {confidence}, lift: {lift})\\n\"\n",
    "                to_write += '\\n'\n",
    "                if consequence is not None and not is_consequence_present:\n",
    "                    to_write = ''\n",
    "                file.write(to_write)\n",
    "                \n",
    "                return\n",
    "                \n",
    "    except FileNotFoundError:\n",
    "        print('File not found')\n",
    "    except Exception as e:\n",
    "        print(e)"
   ],
   "metadata": {
    "collapsed": false,
    "ExecuteTime": {
     "end_time": "2024-03-13T04:32:46.398379Z",
     "start_time": "2024-03-13T04:32:46.385013600Z"
    }
   },
   "id": "89fa2f7e9fb729bc",
   "execution_count": 129
  },
  {
   "cell_type": "markdown",
   "source": [
    "### a) Running the apriori algorithm\n",
    "\n",
    "Here, we play around with the algorithm and run it for different values for the \"minimum support\" and \"minimum confidence\" values."
   ],
   "metadata": {
    "collapsed": false
   },
   "id": "88e41af2b6eef6d7"
  },
  {
   "cell_type": "code",
   "outputs": [],
   "source": [
    "min_length: int = 2\n",
    "sorted_by_support: bool = True\n",
    "\n",
    "supp_conf_values: List[Tuple] = [(0.2, 0.95), (0.6, 0.95), (0.8, 0.9), (0.8, 0.2), (0.6, 0.5), (0.2, 0.2)]\n",
    "\n",
    "for min_support, min_confidence in supp_conf_values:\n",
    "    run_apriori(transactions, min_support, min_confidence, min_length, sorted_by_support)"
   ],
   "metadata": {
    "collapsed": false,
    "ExecuteTime": {
     "end_time": "2024-03-13T04:32:48.739577800Z",
     "start_time": "2024-03-13T04:32:46.402370300Z"
    }
   },
   "id": "a47ebaecd15fbe1f",
   "execution_count": 130
  },
  {
   "cell_type": "markdown",
   "source": [
    "### b) Running the apriori algorithm\n",
    "\n",
    "Here, we extract rules that have “sex = Male” or “sex = Female” as their consequence. "
   ],
   "metadata": {
    "collapsed": false
   },
   "id": "aa8d8897d509c10"
  },
  {
   "cell_type": "code",
   "outputs": [],
   "source": [
    "supp_conf_values = [(0.2, 0.8), (0.8, 0.95), (0.9, 0.95), (0.2, 0.1)]\n",
    "consequence: List[str] = [\"Male\", \"Female\"]\n",
    "\n",
    "for min_support, min_confidence in supp_conf_values:\n",
    "    run_apriori(transactions, min_support, min_confidence, min_length, sorted_by_support, consequence) "
   ],
   "metadata": {
    "collapsed": false,
    "ExecuteTime": {
     "end_time": "2024-03-13T04:32:50.954047600Z",
     "start_time": "2024-03-13T04:32:48.740575900Z"
    }
   },
   "id": "73e4a7b8d8e0ddec",
   "execution_count": 131
  }
 ],
 "metadata": {
  "kernelspec": {
   "display_name": "Python 3",
   "language": "python",
   "name": "python3"
  },
  "language_info": {
   "codemirror_mode": {
    "name": "ipython",
    "version": 2
   },
   "file_extension": ".py",
   "mimetype": "text/x-python",
   "name": "python",
   "nbconvert_exporter": "python",
   "pygments_lexer": "ipython2",
   "version": "2.7.6"
  }
 },
 "nbformat": 4,
 "nbformat_minor": 5
}
