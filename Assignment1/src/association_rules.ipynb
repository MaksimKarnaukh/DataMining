{
 "cells": [
  {
   "cell_type": "code",
   "execution_count": null,
   "id": "initial_id",
   "metadata": {
    "collapsed": true
   },
   "outputs": [],
   "source": [
    "from apyori import apriori, load_transactions"
   ]
  },
  {
   "cell_type": "code",
   "outputs": [],
   "source": [
    "transactions = None\n",
    "try:\n",
    "    transactions = load_transactions('../data/assignment1_income_levels.xlsx')\n",
    "except FileNotFoundError:\n",
    "    print('File not found')"
   ],
   "metadata": {
    "collapsed": false
   },
   "id": "5e4cd67cef06d5b3"
  },
  {
   "cell_type": "code",
   "outputs": [],
   "source": [
    "rules = apriori(transactions, min_support=0.5, min_confidence=0.5)"
   ],
   "metadata": {
    "collapsed": false
   },
   "id": "1cee39bcf1fb8984"
  }
 ],
 "metadata": {
  "kernelspec": {
   "display_name": "Python 3",
   "language": "python",
   "name": "python3"
  },
  "language_info": {
   "codemirror_mode": {
    "name": "ipython",
    "version": 2
   },
   "file_extension": ".py",
   "mimetype": "text/x-python",
   "name": "python",
   "nbconvert_exporter": "python",
   "pygments_lexer": "ipython2",
   "version": "2.7.6"
  }
 },
 "nbformat": 4,
 "nbformat_minor": 5
}
