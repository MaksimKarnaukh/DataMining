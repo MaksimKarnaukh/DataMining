{
 "cells": [
  {
   "cell_type": "code",
   "execution_count": 99,
   "id": "initial_id",
   "metadata": {
    "collapsed": true,
    "ExecuteTime": {
     "end_time": "2024-03-13T01:23:16.397571400Z",
     "start_time": "2024-03-13T01:23:16.381486100Z"
    }
   },
   "outputs": [],
   "source": [
    "from apyori import apriori\n",
    "from helper_functions import load_dataset\n",
    "from typing import List"
   ]
  },
  {
   "cell_type": "markdown",
   "source": [
    "### Loading the cleaned dataset"
   ],
   "metadata": {
    "collapsed": false
   },
   "id": "a54808ae25d6dd97"
  },
  {
   "cell_type": "code",
   "outputs": [],
   "source": [
    "transactions = None\n",
    "try:\n",
    "    data = load_dataset('../data/assignment1_income_levels_cleaned.xlsx')\n",
    "    transactions = data.astype(str).values.tolist()\n",
    "except FileNotFoundError:\n",
    "    print('File not found')"
   ],
   "metadata": {
    "collapsed": false,
    "ExecuteTime": {
     "end_time": "2024-03-13T01:23:18.897041200Z",
     "start_time": "2024-03-13T01:23:16.402558800Z"
    }
   },
   "id": "5e4cd67cef06d5b3",
   "execution_count": 100
  },
  {
   "cell_type": "markdown",
   "source": [
    "## 2) Search for Association Rules "
   ],
   "metadata": {
    "collapsed": false
   },
   "id": "d3b4c76d716be41a"
  },
  {
   "cell_type": "markdown",
   "source": [
    "### Function to run the apriori algorithm"
   ],
   "metadata": {
    "collapsed": false
   },
   "id": "3119a6dc08041707"
  },
  {
   "cell_type": "code",
   "outputs": [],
   "source": [
    "def run_apriori(transactions: List[List], min_support: float, min_confidence: float, min_length: int, sorted_by_support: bool=True):\n",
    "    \"\"\"\n",
    "    Run the apriori algorithm and write the results (rules) to a txt file\n",
    "    :param transactions: dataset as a list of lists\n",
    "    :param min_support: minimum support of relations\n",
    "    :param min_confidence: minimum confidence of relations\n",
    "    :param min_length: minimum number of items in a rule\n",
    "    :param sorted_by_support: True if the results should be sorted by support, False otherwise\n",
    "    :return: \n",
    "    \"\"\"\n",
    "    file_name = f'../output/output_{min_support}_{min_confidence}_{min_length}.txt'\n",
    "    results = list(apriori(transactions, min_support=min_support, min_confidence=min_confidence, min_length=min_length))\n",
    "    try:\n",
    "        with open(file_name, 'w') as file:\n",
    "            if sorted_by_support:\n",
    "                results = sorted(results, key=lambda x: x.support, reverse=True)\n",
    "            for rule in results:\n",
    "                if len(rule.items) == 1:\n",
    "                    continue\n",
    "                file.write(f\"Items: ({', '.join(rule.items)})\\n\")\n",
    "                for i in range(0, len(rule.ordered_statistics)):\n",
    "                    antecedent = ', '.join(rule.ordered_statistics[i].items_base)\n",
    "                    consequent = ', '.join(rule.ordered_statistics[i].items_add)\n",
    "                    \n",
    "                    if len(antecedent) == 0 or len(consequent) == 0: # skip rules with empty antecedent or consequent\n",
    "                        continue\n",
    "                        \n",
    "                    support = str(rule.support)[:7] # support is a float, so we need to convert it to string and limit the number of decimal places\n",
    "                    confidence = str(rule.ordered_statistics[i].confidence)[:7] # confidence is a float, so we need to convert it to string and limit the number of decimal places\n",
    "                    lift = str(rule.ordered_statistics[i].lift)[:7] # lift is a float, so we need to convert it to string and limit the number of decimal places\n",
    "                \n",
    "                    file.write(f\"\\t{antecedent} => {consequent} (support: {support}, confidence: {confidence}, lift: {lift})\\n\")\n",
    "                file.write('\\n')\n",
    "                \n",
    "    except FileNotFoundError:\n",
    "        print('File not found')"
   ],
   "metadata": {
    "collapsed": false
   },
   "id": "89fa2f7e9fb729bc"
  },
  {
   "cell_type": "markdown",
   "source": [
    "### a) Running the apriori algorithm"
   ],
   "metadata": {
    "collapsed": false
   },
   "id": "88e41af2b6eef6d7"
  },
  {
   "cell_type": "code",
   "outputs": [],
   "source": [
    "min_support = 0.2\n",
    "min_confidence = 0.95\n",
    "min_length = 2\n",
    "\n",
    "sorted_by_support = True\n",
    "run_apriori(transactions, min_support, min_confidence, min_length, sorted_by_support)"
   ],
   "metadata": {
    "collapsed": false,
    "ExecuteTime": {
     "end_time": "2024-03-13T01:23:20.004496400Z",
     "start_time": "2024-03-13T01:23:18.899037900Z"
    }
   },
   "id": "a47ebaecd15fbe1f",
   "execution_count": 101
  },
  {
   "cell_type": "markdown",
   "source": [
    "### b) Running the apriori algorithm"
   ],
   "metadata": {
    "collapsed": false
   },
   "id": "aa8d8897d509c10"
  },
  {
   "cell_type": "code",
   "outputs": [],
   "source": [],
   "metadata": {
    "collapsed": false
   },
   "id": "73e4a7b8d8e0ddec"
  }
 ],
 "metadata": {
  "kernelspec": {
   "display_name": "Python 3",
   "language": "python",
   "name": "python3"
  },
  "language_info": {
   "codemirror_mode": {
    "name": "ipython",
    "version": 2
   },
   "file_extension": ".py",
   "mimetype": "text/x-python",
   "name": "python",
   "nbconvert_exporter": "python",
   "pygments_lexer": "ipython2",
   "version": "2.7.6"
  }
 },
 "nbformat": 4,
 "nbformat_minor": 5
}
