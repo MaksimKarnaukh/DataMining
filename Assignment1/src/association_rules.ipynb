{
 "cells": [
  {
   "cell_type": "code",
   "execution_count": 96,
   "id": "initial_id",
   "metadata": {
    "collapsed": true,
    "ExecuteTime": {
     "end_time": "2024-03-13T01:01:47.379774100Z",
     "start_time": "2024-03-13T01:01:47.362280100Z"
    }
   },
   "outputs": [],
   "source": [
    "from apyori import apriori, load_transactions\n",
    "from helper_functions import load_dataset"
   ]
  },
  {
   "cell_type": "code",
   "outputs": [],
   "source": [
    "transactions = None\n",
    "try:\n",
    "    data = load_dataset('../data/assignment1_income_levels_cleaned.xlsx')\n",
    "    transactions = data.astype(str).values.tolist()\n",
    "except FileNotFoundError:\n",
    "    print('File not found')"
   ],
   "metadata": {
    "collapsed": false,
    "ExecuteTime": {
     "end_time": "2024-03-13T01:01:50.140721600Z",
     "start_time": "2024-03-13T01:01:47.383732200Z"
    }
   },
   "id": "5e4cd67cef06d5b3",
   "execution_count": 97
  },
  {
   "cell_type": "code",
   "outputs": [],
   "source": [
    "min_support = 0.2\n",
    "min_confidence = 0.95\n",
    "min_length = 2\n",
    "results = list(apriori(transactions, min_support=min_support, min_confidence=min_confidence, min_length=min_length))\n",
    "\n",
    "file_name = f'../output/output_{min_support}_{min_confidence}_{min_length}.txt'\n",
    "try:\n",
    "    with open(file_name, 'w') as file:\n",
    "        for rule in results:\n",
    "            if len(rule.items) == 1:\n",
    "                continue\n",
    "            file.write(f\"Items: {', '.join(rule.items)}\\n\")\n",
    "            for i in range(0, len(rule.ordered_statistics)):\n",
    "                antecedent = ', '.join(rule.ordered_statistics[i].items_base)\n",
    "                consequent = ', '.join(rule.ordered_statistics[i].items_add)\n",
    "                \n",
    "                if len(antecedent) == 0 or len(consequent) == 0:\n",
    "                    continue\n",
    "                    \n",
    "                support = str(rule.support)[:7]\n",
    "                confidence = str(rule.ordered_statistics[i].confidence)[:7]\n",
    "                lift = str(rule.ordered_statistics[i].lift)[:7]\n",
    "            \n",
    "                file.write(f\"\\t{antecedent} => {consequent} (support: {support}, confidence: {confidence}, lift: {lift})\\n\")\n",
    "            file.write('\\n')\n",
    "            \n",
    "except FileNotFoundError:\n",
    "    print('File not found')"
   ],
   "metadata": {
    "collapsed": false,
    "ExecuteTime": {
     "end_time": "2024-03-13T01:01:51.451591600Z",
     "start_time": "2024-03-13T01:01:50.147703100Z"
    }
   },
   "id": "a47ebaecd15fbe1f",
   "execution_count": 98
  }
 ],
 "metadata": {
  "kernelspec": {
   "display_name": "Python 3",
   "language": "python",
   "name": "python3"
  },
  "language_info": {
   "codemirror_mode": {
    "name": "ipython",
    "version": 2
   },
   "file_extension": ".py",
   "mimetype": "text/x-python",
   "name": "python",
   "nbconvert_exporter": "python",
   "pygments_lexer": "ipython2",
   "version": "2.7.6"
  }
 },
 "nbformat": 4,
 "nbformat_minor": 5
}
