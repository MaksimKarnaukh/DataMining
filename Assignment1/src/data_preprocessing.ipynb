{
 "cells": [
  {
   "cell_type": "code",
   "execution_count": 117,
   "id": "initial_id",
   "metadata": {
    "collapsed": true,
    "ExecuteTime": {
     "end_time": "2024-03-11T03:53:10.904186700Z",
     "start_time": "2024-03-11T03:53:10.745607600Z"
    }
   },
   "outputs": [],
   "source": [
    "import pandas as pd\n",
    "import matplotlib\n",
    "import seaborn as sns\n",
    "from helper_functions import load_dataset, save_dataset"
   ]
  },
  {
   "cell_type": "markdown",
   "source": [
    "### Loading the dataset"
   ],
   "metadata": {
    "collapsed": false
   },
   "id": "c78e6b2511ae4d27"
  },
  {
   "cell_type": "code",
   "outputs": [],
   "source": [
    "data = load_dataset(\"../data/assignment1_income_levels.xlsx\")"
   ],
   "metadata": {
    "collapsed": false,
    "ExecuteTime": {
     "end_time": "2024-03-11T03:53:11.927030800Z",
     "start_time": "2024-03-11T03:53:10.803456200Z"
    }
   },
   "id": "4e165449a3c30d28",
   "execution_count": 118
  },
  {
   "cell_type": "markdown",
   "source": [
    "### Inspecting the dataset"
   ],
   "metadata": {
    "collapsed": false
   },
   "id": "db16e4e109a979a7"
  },
  {
   "cell_type": "code",
   "outputs": [
    {
     "data": {
      "text/plain": "   age      workclass  education marital status                   occupation  \\\n0   52  self employed         16        Widowed                    Transport   \n1   60        private         20       Divorced  Healthcare/Medical Services   \n2   64        private         21       Divorced          Management/Business   \n3   64        private         17        Husband                    Transport   \n4   31        private         15        Husband                    Transport   \n\n   workinghours     sex  ability to speak english gave birth this year income  \n0            50    Male                       NaN                  NaN   high  \n1            30  Female                       NaN                  NaN    low  \n2            40    Male                       NaN                  NaN    low  \n3            40    Male                       NaN                  NaN    low  \n4            40    Male                       NaN                  NaN    low  ",
      "text/html": "<div>\n<style scoped>\n    .dataframe tbody tr th:only-of-type {\n        vertical-align: middle;\n    }\n\n    .dataframe tbody tr th {\n        vertical-align: top;\n    }\n\n    .dataframe thead th {\n        text-align: right;\n    }\n</style>\n<table border=\"1\" class=\"dataframe\">\n  <thead>\n    <tr style=\"text-align: right;\">\n      <th></th>\n      <th>age</th>\n      <th>workclass</th>\n      <th>education</th>\n      <th>marital status</th>\n      <th>occupation</th>\n      <th>workinghours</th>\n      <th>sex</th>\n      <th>ability to speak english</th>\n      <th>gave birth this year</th>\n      <th>income</th>\n    </tr>\n  </thead>\n  <tbody>\n    <tr>\n      <th>0</th>\n      <td>52</td>\n      <td>self employed</td>\n      <td>16</td>\n      <td>Widowed</td>\n      <td>Transport</td>\n      <td>50</td>\n      <td>Male</td>\n      <td>NaN</td>\n      <td>NaN</td>\n      <td>high</td>\n    </tr>\n    <tr>\n      <th>1</th>\n      <td>60</td>\n      <td>private</td>\n      <td>20</td>\n      <td>Divorced</td>\n      <td>Healthcare/Medical Services</td>\n      <td>30</td>\n      <td>Female</td>\n      <td>NaN</td>\n      <td>NaN</td>\n      <td>low</td>\n    </tr>\n    <tr>\n      <th>2</th>\n      <td>64</td>\n      <td>private</td>\n      <td>21</td>\n      <td>Divorced</td>\n      <td>Management/Business</td>\n      <td>40</td>\n      <td>Male</td>\n      <td>NaN</td>\n      <td>NaN</td>\n      <td>low</td>\n    </tr>\n    <tr>\n      <th>3</th>\n      <td>64</td>\n      <td>private</td>\n      <td>17</td>\n      <td>Husband</td>\n      <td>Transport</td>\n      <td>40</td>\n      <td>Male</td>\n      <td>NaN</td>\n      <td>NaN</td>\n      <td>low</td>\n    </tr>\n    <tr>\n      <th>4</th>\n      <td>31</td>\n      <td>private</td>\n      <td>15</td>\n      <td>Husband</td>\n      <td>Transport</td>\n      <td>40</td>\n      <td>Male</td>\n      <td>NaN</td>\n      <td>NaN</td>\n      <td>low</td>\n    </tr>\n  </tbody>\n</table>\n</div>"
     },
     "execution_count": 119,
     "metadata": {},
     "output_type": "execute_result"
    }
   ],
   "source": [
    "data.head()"
   ],
   "metadata": {
    "collapsed": false,
    "ExecuteTime": {
     "end_time": "2024-03-11T03:53:11.944879300Z",
     "start_time": "2024-03-11T03:53:11.927030800Z"
    }
   },
   "id": "ceefc662128d139d",
   "execution_count": 119
  },
  {
   "cell_type": "code",
   "outputs": [
    {
     "name": "stdout",
     "output_type": "stream",
     "text": [
      "<class 'pandas.core.frame.DataFrame'>\n",
      "RangeIndex: 9000 entries, 0 to 8999\n",
      "Data columns (total 10 columns):\n",
      " #   Column                    Non-Null Count  Dtype  \n",
      "---  ------                    --------------  -----  \n",
      " 0   age                       9000 non-null   int64  \n",
      " 1   workclass                 9000 non-null   object \n",
      " 2   education                 9000 non-null   int64  \n",
      " 3   marital status            9000 non-null   object \n",
      " 4   occupation                9000 non-null   object \n",
      " 5   workinghours              9000 non-null   int64  \n",
      " 6   sex                       9000 non-null   object \n",
      " 7   ability to speak english  403 non-null    float64\n",
      " 8   gave birth this year      1942 non-null   object \n",
      " 9   income                    9000 non-null   object \n",
      "dtypes: float64(1), int64(3), object(6)\n",
      "memory usage: 703.3+ KB\n"
     ]
    }
   ],
   "source": [
    "data.info()"
   ],
   "metadata": {
    "collapsed": false,
    "ExecuteTime": {
     "end_time": "2024-03-11T03:53:11.968487200Z",
     "start_time": "2024-03-11T03:53:11.940889600Z"
    }
   },
   "id": "698a43f7eb28c035",
   "execution_count": 120
  },
  {
   "cell_type": "code",
   "outputs": [
    {
     "data": {
      "text/plain": "               age    education  workinghours  ability to speak english\ncount  9000.000000  9000.000000   9000.000000                403.000000\nmean     43.557556    18.298778     39.227889                  1.660050\nstd      15.280589     3.212958     12.462668                  0.867355\nmin      17.000000     1.000000      1.000000                  1.000000\n25%      30.000000    16.000000     37.000000                  1.000000\n50%      44.000000    19.000000     40.000000                  1.000000\n75%      56.000000    21.000000     44.000000                  2.000000\nmax      93.000000    24.000000     99.000000                  4.000000",
      "text/html": "<div>\n<style scoped>\n    .dataframe tbody tr th:only-of-type {\n        vertical-align: middle;\n    }\n\n    .dataframe tbody tr th {\n        vertical-align: top;\n    }\n\n    .dataframe thead th {\n        text-align: right;\n    }\n</style>\n<table border=\"1\" class=\"dataframe\">\n  <thead>\n    <tr style=\"text-align: right;\">\n      <th></th>\n      <th>age</th>\n      <th>education</th>\n      <th>workinghours</th>\n      <th>ability to speak english</th>\n    </tr>\n  </thead>\n  <tbody>\n    <tr>\n      <th>count</th>\n      <td>9000.000000</td>\n      <td>9000.000000</td>\n      <td>9000.000000</td>\n      <td>403.000000</td>\n    </tr>\n    <tr>\n      <th>mean</th>\n      <td>43.557556</td>\n      <td>18.298778</td>\n      <td>39.227889</td>\n      <td>1.660050</td>\n    </tr>\n    <tr>\n      <th>std</th>\n      <td>15.280589</td>\n      <td>3.212958</td>\n      <td>12.462668</td>\n      <td>0.867355</td>\n    </tr>\n    <tr>\n      <th>min</th>\n      <td>17.000000</td>\n      <td>1.000000</td>\n      <td>1.000000</td>\n      <td>1.000000</td>\n    </tr>\n    <tr>\n      <th>25%</th>\n      <td>30.000000</td>\n      <td>16.000000</td>\n      <td>37.000000</td>\n      <td>1.000000</td>\n    </tr>\n    <tr>\n      <th>50%</th>\n      <td>44.000000</td>\n      <td>19.000000</td>\n      <td>40.000000</td>\n      <td>1.000000</td>\n    </tr>\n    <tr>\n      <th>75%</th>\n      <td>56.000000</td>\n      <td>21.000000</td>\n      <td>44.000000</td>\n      <td>2.000000</td>\n    </tr>\n    <tr>\n      <th>max</th>\n      <td>93.000000</td>\n      <td>24.000000</td>\n      <td>99.000000</td>\n      <td>4.000000</td>\n    </tr>\n  </tbody>\n</table>\n</div>"
     },
     "execution_count": 121,
     "metadata": {},
     "output_type": "execute_result"
    }
   ],
   "source": [
    "data.describe()"
   ],
   "metadata": {
    "collapsed": false,
    "ExecuteTime": {
     "end_time": "2024-03-11T03:53:11.995301500Z",
     "start_time": "2024-03-11T03:53:11.954346100Z"
    }
   },
   "id": "511450a96d14e84c",
   "execution_count": 121
  },
  {
   "cell_type": "code",
   "outputs": [
    {
     "data": {
      "text/plain": "age                            0\nworkclass                      0\neducation                      0\nmarital status                 0\noccupation                     0\nworkinghours                   0\nsex                            0\nability to speak english    8597\ngave birth this year        7058\nincome                         0\ndtype: int64"
     },
     "execution_count": 122,
     "metadata": {},
     "output_type": "execute_result"
    }
   ],
   "source": [
    "data.isnull().sum()"
   ],
   "metadata": {
    "collapsed": false,
    "ExecuteTime": {
     "end_time": "2024-03-11T03:53:12.061436900Z",
     "start_time": "2024-03-11T03:53:11.970485100Z"
    }
   },
   "id": "124c81f4a0471fa2",
   "execution_count": 122
  },
  {
   "cell_type": "code",
   "outputs": [
    {
     "data": {
      "text/plain": "95.52222222222223"
     },
     "execution_count": 123,
     "metadata": {},
     "output_type": "execute_result"
    }
   ],
   "source": [
    "# percentage of missing values in 'ability to speak english' column\n",
    "data['ability to speak english'].isnull().sum() / len(data) * 100"
   ],
   "metadata": {
    "collapsed": false,
    "ExecuteTime": {
     "end_time": "2024-03-11T03:53:12.087368100Z",
     "start_time": "2024-03-11T03:53:11.983496900Z"
    }
   },
   "id": "f3e71540108db03a",
   "execution_count": 123
  },
  {
   "cell_type": "code",
   "outputs": [
    {
     "data": {
      "text/plain": "78.42222222222223"
     },
     "execution_count": 124,
     "metadata": {},
     "output_type": "execute_result"
    }
   ],
   "source": [
    "# percentage of missing values in 'gave birth this year' column\n",
    "data['gave birth this year'].isnull().sum() / len(data) * 100"
   ],
   "metadata": {
    "collapsed": false,
    "ExecuteTime": {
     "end_time": "2024-03-11T03:53:12.089362400Z",
     "start_time": "2024-03-11T03:53:11.992309200Z"
    }
   },
   "id": "bd1b3fbc88f6161f",
   "execution_count": 124
  },
  {
   "cell_type": "markdown",
   "source": [
    "### Imputing missing values & changing data types"
   ],
   "metadata": {
    "collapsed": false
   },
   "id": "59f4754f62514b09"
  },
  {
   "cell_type": "code",
   "outputs": [],
   "source": [
    "# Impute missing values in 'ability to speak English' column with 0 (for native speakers)\n",
    "data['ability to speak english'] = data['ability to speak english'].fillna(0)"
   ],
   "metadata": {
    "collapsed": false,
    "ExecuteTime": {
     "end_time": "2024-03-11T03:53:12.090359600Z",
     "start_time": "2024-03-11T03:53:12.001360200Z"
    }
   },
   "id": "c95e49135aeff2cf",
   "execution_count": 125
  },
  {
   "cell_type": "code",
   "outputs": [],
   "source": [
    "# Impute missing values in 'gave birth this year' column with a 'No'\n",
    "data['gave birth this year'] = data['gave birth this year'].fillna('No')"
   ],
   "metadata": {
    "collapsed": false,
    "ExecuteTime": {
     "end_time": "2024-03-11T03:53:12.091357100Z",
     "start_time": "2024-03-11T03:53:12.008237Z"
    }
   },
   "id": "23210f30d5c0155b",
   "execution_count": 126
  },
  {
   "cell_type": "code",
   "outputs": [],
   "source": [
    "# change the data type of certain columns if they can be represented with smaller data types to save memory\n",
    "data['age'] = data['age'].astype('int8') # in our dataset: min age is 17 and max age is 93\n",
    "data['education'] = data['education'].astype('int8') # in our dataset: min education is 1 and max education is 24\n",
    "data['workinghours'] = data['workinghours'].astype('int8') # in our dataset: min working hours is 1 and max working hours is 99\n",
    "data['ability to speak english'] = data['ability to speak english'].astype('int8') # in our dataset: min number of 'ability to speak english' is 0 and max ability to speak english is 4"
   ],
   "metadata": {
    "collapsed": false,
    "ExecuteTime": {
     "end_time": "2024-03-11T03:53:12.114296200Z",
     "start_time": "2024-03-11T03:53:12.027158100Z"
    }
   },
   "id": "67988124ff4e1d98",
   "execution_count": 127
  },
  {
   "cell_type": "markdown",
   "source": [
    "### Binning columns: 'age', 'workinghours', 'education'"
   ],
   "metadata": {
    "collapsed": false
   },
   "id": "9b73ecadada7c16e"
  },
  {
   "cell_type": "code",
   "outputs": [
    {
     "data": {
      "text/plain": "<seaborn.axisgrid.FacetGrid at 0x2359bc27b10>"
     },
     "execution_count": 128,
     "metadata": {},
     "output_type": "execute_result"
    },
    {
     "data": {
      "text/plain": "<Figure size 500x500 with 1 Axes>",
      "image/png": "[encoded data removed]"
     },
     "metadata": {},
     "output_type": "display_data"
    }
   ],
   "source": [
    "# plot the distribution of the 'age' column\n",
    "sns.displot(data['age'], kde=True, bins=20)"
   ],
   "metadata": {
    "collapsed": false,
    "ExecuteTime": {
     "end_time": "2024-03-11T03:53:12.622993300Z",
     "start_time": "2024-03-11T03:53:12.049469200Z"
    }
   },
   "id": "1804e9e7555d3a44",
   "execution_count": 128
  },
  {
   "cell_type": "code",
   "outputs": [],
   "source": [
    "# data['age_bin'] = pd.cut(data['age'], bins=[0, 20, 30, 40, 50, 60, 70, 80, 90, 100], labels=['0-20', '20-30', '30-40', '40-50', '50-60', '60-70', '70-80', '80-90', '90-100'])"
   ],
   "metadata": {
    "collapsed": false,
    "ExecuteTime": {
     "end_time": "2024-03-11T03:53:12.623990300Z",
     "start_time": "2024-03-11T03:53:12.618577900Z"
    }
   },
   "id": "fe024ccef1b50795",
   "execution_count": 129
  },
  {
   "cell_type": "code",
   "outputs": [
    {
     "data": {
      "text/plain": "(0         (49.0, 58.0]\n 1         (58.0, 93.0]\n 2         (58.0, 93.0]\n 3         (58.0, 93.0]\n 4         (28.0, 38.0]\n              ...      \n 8995    (16.999, 28.0]\n 8996      (58.0, 93.0]\n 8997      (28.0, 38.0]\n 8998      (58.0, 93.0]\n 8999      (49.0, 58.0]\n Name: age, Length: 9000, dtype: category\n Categories (5, interval[float64, right]): [(16.999, 28.0] < (28.0, 38.0] < (38.0, 49.0] < (49.0, 58.0] < (58.0, 93.0]],\n array([17., 28., 38., 49., 58., 93.]))"
     },
     "execution_count": 130,
     "metadata": {},
     "output_type": "execute_result"
    }
   ],
   "source": [
    "pd.qcut(data['age'], q=5, retbins=True)"
   ],
   "metadata": {
    "collapsed": false,
    "ExecuteTime": {
     "end_time": "2024-03-11T03:53:12.698461800Z",
     "start_time": "2024-03-11T03:53:12.624987100Z"
    }
   },
   "id": "83c70b1d3c31e7d3",
   "execution_count": 130
  },
  {
   "cell_type": "code",
   "outputs": [],
   "source": [
    "data['age_bin'] = pd.qcut(data['age'], q=5, labels=['(17-28]', '(28-38]', '(38-49]', '(49-58]', '(58-93]'])"
   ],
   "metadata": {
    "collapsed": false,
    "ExecuteTime": {
     "end_time": "2024-03-11T03:53:12.699459700Z",
     "start_time": "2024-03-11T03:53:12.640098500Z"
    }
   },
   "id": "c94869f6f0495603",
   "execution_count": 131
  },
  {
   "cell_type": "code",
   "outputs": [
    {
     "data": {
      "text/plain": "age_bin\n(38-49]    1936\n(17-28]    1893\n(58-93]    1740\n(49-58]    1721\n(28-38]    1710\nName: count, dtype: int64"
     },
     "execution_count": 132,
     "metadata": {},
     "output_type": "execute_result"
    }
   ],
   "source": [
    "data['age_bin'].value_counts()"
   ],
   "metadata": {
    "collapsed": false,
    "ExecuteTime": {
     "end_time": "2024-03-11T03:53:12.700457Z",
     "start_time": "2024-03-11T03:53:12.649528900Z"
    }
   },
   "id": "5cbad6226393ea84",
   "execution_count": 132
  },
  {
   "cell_type": "code",
   "outputs": [
    {
     "data": {
      "text/plain": "<seaborn.axisgrid.FacetGrid at 0x235a0422c90>"
     },
     "execution_count": 133,
     "metadata": {},
     "output_type": "execute_result"
    },
    {
     "data": {
      "text/plain": "<Figure size 500x500 with 1 Axes>",
      "image/png": "[encoded data removed]"
     },
     "metadata": {},
     "output_type": "display_data"
    }
   ],
   "source": [
    "# plot the distribution of the 'workinghours' column\n",
    "sns.displot(data['workinghours'], kde=True, bins=20)"
   ],
   "metadata": {
    "collapsed": false,
    "ExecuteTime": {
     "end_time": "2024-03-11T03:53:13.072075900Z",
     "start_time": "2024-03-11T03:53:12.659565900Z"
    }
   },
   "id": "dca050fdca00cbbc",
   "execution_count": 133
  },
  {
   "cell_type": "code",
   "outputs": [
    {
     "data": {
      "text/plain": "workinghours\n(0, 5]        113\n(5, 10]       184\n(10, 15]      218\n(15, 20]      452\n(20, 25]      300\n(25, 30]      446\n(30, 35]      382\n(35, 40]     4467\n(40, 45]      650\n(45, 50]      988\n(50, 55]      199\n(55, 60]      360\n(60, 65]       51\n(65, 70]       73\n(70, 75]       28\n(75, 80]       46\n(80, 85]       24\n(85, 90]        6\n(90, 95]        1\n(95, 100]      12\nName: count, dtype: int64"
     },
     "execution_count": 134,
     "metadata": {},
     "output_type": "execute_result"
    }
   ],
   "source": [
    "# print, for bins of size 5, the frequency of each bin in ascending order on the ranges\n",
    "pd.cut(data['workinghours'], bins=range(0, 105, 5)).value_counts().sort_index()"
   ],
   "metadata": {
    "collapsed": false,
    "ExecuteTime": {
     "end_time": "2024-03-11T03:53:13.079418Z",
     "start_time": "2024-03-11T03:53:13.068086300Z"
    }
   },
   "id": "b906b4a48e6222ae",
   "execution_count": 134
  },
  {
   "cell_type": "code",
   "outputs": [
    {
     "data": {
      "text/plain": "workinghours\n40    4190\n45     461\n42     102\n44      38\n43      38\n41      11\nName: count, dtype: int64"
     },
     "execution_count": 137,
     "metadata": {},
     "output_type": "execute_result"
    }
   ],
   "source": [
    "# for the ages 40 to 45, print their frequencies\n",
    "data['workinghours'][(data['workinghours'] >= 40) & (data['workinghours'] <= 45)].value_counts()"
   ],
   "metadata": {
    "collapsed": false,
    "ExecuteTime": {
     "end_time": "2024-03-11T03:54:48.602658200Z",
     "start_time": "2024-03-11T03:54:48.588713Z"
    }
   },
   "id": "738b6cc7f3cab3da",
   "execution_count": 137
  },
  {
   "cell_type": "code",
   "outputs": [],
   "source": [
    "# we will do customized binning for the 'workinghours' column; 'Part-time' (0-30 hours), 'Full-time' (31-40 hours), and 'Overtime' (41-99 hours)\n",
    "data['workinghours_bin'] = pd.cut(data['workinghours'], bins=[0, 30, 40, 99], labels=['(0, 30]', '(30-40]', '(40-99]'])"
   ],
   "metadata": {
    "collapsed": false,
    "ExecuteTime": {
     "end_time": "2024-03-11T04:05:47.113581900Z",
     "start_time": "2024-03-11T04:05:47.088580500Z"
    }
   },
   "id": "df5beba65825b41c",
   "execution_count": 138
  },
  {
   "cell_type": "code",
   "outputs": [
    {
     "data": {
      "text/plain": "workinghours_bin\n(30-40]    4849\n(40-99]    2438\n(0, 30]    1713\nName: count, dtype: int64"
     },
     "execution_count": 139,
     "metadata": {},
     "output_type": "execute_result"
    }
   ],
   "source": [
    "data['workinghours_bin'].value_counts()"
   ],
   "metadata": {
    "collapsed": false,
    "ExecuteTime": {
     "end_time": "2024-03-11T04:06:10.445201800Z",
     "start_time": "2024-03-11T04:06:10.435613100Z"
    }
   },
   "id": "b12b088a58cdadec",
   "execution_count": 139
  },
  {
   "cell_type": "code",
   "outputs": [
    {
     "data": {
      "text/plain": "<seaborn.axisgrid.FacetGrid at 0x23598b2b710>"
     },
     "execution_count": 140,
     "metadata": {},
     "output_type": "execute_result"
    },
    {
     "data": {
      "text/plain": "<Figure size 500x500 with 1 Axes>",
      "image/png": "[encoded data removed]"
     },
     "metadata": {},
     "output_type": "display_data"
    }
   ],
   "source": [
    "# plot the distribution of the 'education' column\n",
    "sns.displot(data['education'], kde=True, bins=20)"
   ],
   "metadata": {
    "collapsed": false,
    "ExecuteTime": {
     "end_time": "2024-03-11T04:06:25.262758200Z",
     "start_time": "2024-03-11T04:06:24.827503800Z"
    }
   },
   "id": "8869f62c5125a6a8",
   "execution_count": 140
  },
  {
   "cell_type": "code",
   "outputs": [
    {
     "data": {
      "text/plain": "      age      workclass  education marital status  \\\n0      52  self employed         16        Widowed   \n1      60        private         20       Divorced   \n2      64        private         21       Divorced   \n3      64        private         17        Husband   \n4      31        private         15        Husband   \n...   ...            ...        ...            ...   \n8995   28        private         16  Never married   \n8996   61   governmental         24           Wife   \n8997   34   governmental         23           Wife   \n8998   60        private         19        Husband   \n8999   50        private         20           Wife   \n\n                       occupation  workinghours     sex  \\\n0                       Transport            50    Male   \n1     Healthcare/Medical Services            30  Female   \n2             Management/Business            40    Male   \n3                       Transport            40    Male   \n4                       Transport            40    Male   \n...                           ...           ...     ...   \n8995                    Education            40  Female   \n8996                    Education            40  Female   \n8997  Healthcare/Medical Services            50  Female   \n8998          Management/Business            40    Male   \n8999                        Sales            30  Female   \n\n      ability to speak english gave birth this year income  age_bin  \n0                            0                   No   high  (49-58]  \n1                            0                   No    low  (58-93]  \n2                            0                   No    low  (58-93]  \n3                            0                   No    low  (58-93]  \n4                            0                   No    low  (28-38]  \n...                        ...                  ...    ...      ...  \n8995                         0                   No    low  (17-28]  \n8996                         0                   No   high  (58-93]  \n8997                         0                   No   high  (28-38]  \n8998                         0                   No    low  (58-93]  \n8999                         0                   No    low  (49-58]  \n\n[9000 rows x 11 columns]",
      "text/html": "<div>\n<style scoped>\n    .dataframe tbody tr th:only-of-type {\n        vertical-align: middle;\n    }\n\n    .dataframe tbody tr th {\n        vertical-align: top;\n    }\n\n    .dataframe thead th {\n        text-align: right;\n    }\n</style>\n<table border=\"1\" class=\"dataframe\">\n  <thead>\n    <tr style=\"text-align: right;\">\n      <th></th>\n      <th>age</th>\n      <th>workclass</th>\n      <th>education</th>\n      <th>marital status</th>\n      <th>occupation</th>\n      <th>workinghours</th>\n      <th>sex</th>\n      <th>ability to speak english</th>\n      <th>gave birth this year</th>\n      <th>income</th>\n      <th>age_bin</th>\n    </tr>\n  </thead>\n  <tbody>\n    <tr>\n      <th>0</th>\n      <td>52</td>\n      <td>self employed</td>\n      <td>16</td>\n      <td>Widowed</td>\n      <td>Transport</td>\n      <td>50</td>\n      <td>Male</td>\n      <td>0</td>\n      <td>No</td>\n      <td>high</td>\n      <td>(49-58]</td>\n    </tr>\n    <tr>\n      <th>1</th>\n      <td>60</td>\n      <td>private</td>\n      <td>20</td>\n      <td>Divorced</td>\n      <td>Healthcare/Medical Services</td>\n      <td>30</td>\n      <td>Female</td>\n      <td>0</td>\n      <td>No</td>\n      <td>low</td>\n      <td>(58-93]</td>\n    </tr>\n    <tr>\n      <th>2</th>\n      <td>64</td>\n      <td>private</td>\n      <td>21</td>\n      <td>Divorced</td>\n      <td>Management/Business</td>\n      <td>40</td>\n      <td>Male</td>\n      <td>0</td>\n      <td>No</td>\n      <td>low</td>\n      <td>(58-93]</td>\n    </tr>\n    <tr>\n      <th>3</th>\n      <td>64</td>\n      <td>private</td>\n      <td>17</td>\n      <td>Husband</td>\n      <td>Transport</td>\n      <td>40</td>\n      <td>Male</td>\n      <td>0</td>\n      <td>No</td>\n      <td>low</td>\n      <td>(58-93]</td>\n    </tr>\n    <tr>\n      <th>4</th>\n      <td>31</td>\n      <td>private</td>\n      <td>15</td>\n      <td>Husband</td>\n      <td>Transport</td>\n      <td>40</td>\n      <td>Male</td>\n      <td>0</td>\n      <td>No</td>\n      <td>low</td>\n      <td>(28-38]</td>\n    </tr>\n    <tr>\n      <th>...</th>\n      <td>...</td>\n      <td>...</td>\n      <td>...</td>\n      <td>...</td>\n      <td>...</td>\n      <td>...</td>\n      <td>...</td>\n      <td>...</td>\n      <td>...</td>\n      <td>...</td>\n      <td>...</td>\n    </tr>\n    <tr>\n      <th>8995</th>\n      <td>28</td>\n      <td>private</td>\n      <td>16</td>\n      <td>Never married</td>\n      <td>Education</td>\n      <td>40</td>\n      <td>Female</td>\n      <td>0</td>\n      <td>No</td>\n      <td>low</td>\n      <td>(17-28]</td>\n    </tr>\n    <tr>\n      <th>8996</th>\n      <td>61</td>\n      <td>governmental</td>\n      <td>24</td>\n      <td>Wife</td>\n      <td>Education</td>\n      <td>40</td>\n      <td>Female</td>\n      <td>0</td>\n      <td>No</td>\n      <td>high</td>\n      <td>(58-93]</td>\n    </tr>\n    <tr>\n      <th>8997</th>\n      <td>34</td>\n      <td>governmental</td>\n      <td>23</td>\n      <td>Wife</td>\n      <td>Healthcare/Medical Services</td>\n      <td>50</td>\n      <td>Female</td>\n      <td>0</td>\n      <td>No</td>\n      <td>high</td>\n      <td>(28-38]</td>\n    </tr>\n    <tr>\n      <th>8998</th>\n      <td>60</td>\n      <td>private</td>\n      <td>19</td>\n      <td>Husband</td>\n      <td>Management/Business</td>\n      <td>40</td>\n      <td>Male</td>\n      <td>0</td>\n      <td>No</td>\n      <td>low</td>\n      <td>(58-93]</td>\n    </tr>\n    <tr>\n      <th>8999</th>\n      <td>50</td>\n      <td>private</td>\n      <td>20</td>\n      <td>Wife</td>\n      <td>Sales</td>\n      <td>30</td>\n      <td>Female</td>\n      <td>0</td>\n      <td>No</td>\n      <td>low</td>\n      <td>(49-58]</td>\n    </tr>\n  </tbody>\n</table>\n<p>9000 rows × 11 columns</p>\n</div>"
     },
     "execution_count": 135,
     "metadata": {},
     "output_type": "execute_result"
    }
   ],
   "source": [
    "data"
   ],
   "metadata": {
    "collapsed": false,
    "ExecuteTime": {
     "end_time": "2024-03-11T03:53:13.148296400Z",
     "start_time": "2024-03-11T03:53:13.080416200Z"
    }
   },
   "id": "a5521bb724c71091",
   "execution_count": 135
  },
  {
   "cell_type": "code",
   "outputs": [],
   "source": [
    "# write cleaned dataset to new file\n",
    "save_dataset(data, \"../data/assignment1_income_levels_cleaned.xlsx\")"
   ],
   "metadata": {
    "collapsed": false,
    "ExecuteTime": {
     "end_time": "2024-03-11T03:53:15.505606700Z",
     "start_time": "2024-03-11T03:53:13.095438Z"
    }
   },
   "id": "584085f3b0d93ea6",
   "execution_count": 136
  }
 ],
 "metadata": {
  "kernelspec": {
   "display_name": "Python 3",
   "language": "python",
   "name": "python3"
  },
  "language_info": {
   "codemirror_mode": {
    "name": "ipython",
    "version": 2
   },
   "file_extension": ".py",
   "mimetype": "text/x-python",
   "name": "python",
   "nbconvert_exporter": "python",
   "pygments_lexer": "ipython2",
   "version": "2.7.6"
  }
 },
 "nbformat": 4,
 "nbformat_minor": 5
}
