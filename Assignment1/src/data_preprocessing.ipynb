{
 "cells": [
  {
   "cell_type": "code",
   "execution_count": 1,
   "id": "initial_id",
   "metadata": {
    "collapsed": true,
    "ExecuteTime": {
     "end_time": "2024-03-25T03:37:12.565083600Z",
     "start_time": "2024-03-25T03:37:12.553929500Z"
    }
   },
   "outputs": [],
   "source": [
    "import pandas as pd\n",
    "import matplotlib\n",
    "from matplotlib import pyplot as plt\n",
    "import seaborn as sns\n",
    "from helper_functions import load_dataset, save_dataset"
   ]
  },
  {
   "cell_type": "markdown",
   "source": [
    "### Loading the dataset"
   ],
   "metadata": {
    "collapsed": false
   },
   "id": "c78e6b2511ae4d27"
  },
  {
   "cell_type": "code",
   "outputs": [],
   "source": [
    "data = load_dataset(\"../data/assignment1_income_levels.xlsx\")"
   ],
   "metadata": {
    "collapsed": false,
    "ExecuteTime": {
     "end_time": "2024-03-25T03:37:13.794200700Z",
     "start_time": "2024-03-25T03:37:12.561094800Z"
    }
   },
   "id": "4e165449a3c30d28",
   "execution_count": 2
  },
  {
   "cell_type": "markdown",
   "source": [
    "## 1) Data Inspection and Preparation"
   ],
   "metadata": {
    "collapsed": false
   },
   "id": "db16e4e109a979a7"
  },
  {
   "cell_type": "markdown",
   "source": [
    "First, we do some basic inspection of the dataset, such as checking the first few rows, the data types, the amount of missing values, and the value counts of certain columns."
   ],
   "metadata": {
    "collapsed": false
   },
   "id": "e699f54b26baa87"
  },
  {
   "cell_type": "code",
   "outputs": [
    {
     "data": {
      "text/plain": "   age      workclass  education marital status                   occupation  \\\n0   52  self employed         16        Widowed                    Transport   \n1   60        private         20       Divorced  Healthcare/Medical Services   \n2   64        private         21       Divorced          Management/Business   \n3   64        private         17        Husband                    Transport   \n4   31        private         15        Husband                    Transport   \n\n   workinghours     sex  ability to speak english gave birth this year income  \n0            50    Male                       NaN                  NaN   high  \n1            30  Female                       NaN                  NaN    low  \n2            40    Male                       NaN                  NaN    low  \n3            40    Male                       NaN                  NaN    low  \n4            40    Male                       NaN                  NaN    low  ",
      "text/html": "<div>\n<style scoped>\n    .dataframe tbody tr th:only-of-type {\n        vertical-align: middle;\n    }\n\n    .dataframe tbody tr th {\n        vertical-align: top;\n    }\n\n    .dataframe thead th {\n        text-align: right;\n    }\n</style>\n<table border=\"1\" class=\"dataframe\">\n  <thead>\n    <tr style=\"text-align: right;\">\n      <th></th>\n      <th>age</th>\n      <th>workclass</th>\n      <th>education</th>\n      <th>marital status</th>\n      <th>occupation</th>\n      <th>workinghours</th>\n      <th>sex</th>\n      <th>ability to speak english</th>\n      <th>gave birth this year</th>\n      <th>income</th>\n    </tr>\n  </thead>\n  <tbody>\n    <tr>\n      <th>0</th>\n      <td>52</td>\n      <td>self employed</td>\n      <td>16</td>\n      <td>Widowed</td>\n      <td>Transport</td>\n      <td>50</td>\n      <td>Male</td>\n      <td>NaN</td>\n      <td>NaN</td>\n      <td>high</td>\n    </tr>\n    <tr>\n      <th>1</th>\n      <td>60</td>\n      <td>private</td>\n      <td>20</td>\n      <td>Divorced</td>\n      <td>Healthcare/Medical Services</td>\n      <td>30</td>\n      <td>Female</td>\n      <td>NaN</td>\n      <td>NaN</td>\n      <td>low</td>\n    </tr>\n    <tr>\n      <th>2</th>\n      <td>64</td>\n      <td>private</td>\n      <td>21</td>\n      <td>Divorced</td>\n      <td>Management/Business</td>\n      <td>40</td>\n      <td>Male</td>\n      <td>NaN</td>\n      <td>NaN</td>\n      <td>low</td>\n    </tr>\n    <tr>\n      <th>3</th>\n      <td>64</td>\n      <td>private</td>\n      <td>17</td>\n      <td>Husband</td>\n      <td>Transport</td>\n      <td>40</td>\n      <td>Male</td>\n      <td>NaN</td>\n      <td>NaN</td>\n      <td>low</td>\n    </tr>\n    <tr>\n      <th>4</th>\n      <td>31</td>\n      <td>private</td>\n      <td>15</td>\n      <td>Husband</td>\n      <td>Transport</td>\n      <td>40</td>\n      <td>Male</td>\n      <td>NaN</td>\n      <td>NaN</td>\n      <td>low</td>\n    </tr>\n  </tbody>\n</table>\n</div>"
     },
     "execution_count": 3,
     "metadata": {},
     "output_type": "execute_result"
    }
   ],
   "source": [
    "data.head()"
   ],
   "metadata": {
    "collapsed": false,
    "ExecuteTime": {
     "end_time": "2024-03-25T03:37:13.871028400Z",
     "start_time": "2024-03-25T03:37:13.798185800Z"
    }
   },
   "id": "ceefc662128d139d",
   "execution_count": 3
  },
  {
   "cell_type": "code",
   "outputs": [
    {
     "name": "stdout",
     "output_type": "stream",
     "text": [
      "<class 'pandas.core.frame.DataFrame'>\n",
      "RangeIndex: 9000 entries, 0 to 8999\n",
      "Data columns (total 10 columns):\n",
      " #   Column                    Non-Null Count  Dtype  \n",
      "---  ------                    --------------  -----  \n",
      " 0   age                       9000 non-null   int64  \n",
      " 1   workclass                 9000 non-null   object \n",
      " 2   education                 9000 non-null   int64  \n",
      " 3   marital status            9000 non-null   object \n",
      " 4   occupation                9000 non-null   object \n",
      " 5   workinghours              9000 non-null   int64  \n",
      " 6   sex                       9000 non-null   object \n",
      " 7   ability to speak english  403 non-null    float64\n",
      " 8   gave birth this year      1942 non-null   object \n",
      " 9   income                    9000 non-null   object \n",
      "dtypes: float64(1), int64(3), object(6)\n",
      "memory usage: 703.3+ KB\n"
     ]
    }
   ],
   "source": [
    "data.info()"
   ],
   "metadata": {
    "collapsed": false,
    "ExecuteTime": {
     "end_time": "2024-03-25T03:37:14.048262500Z",
     "start_time": "2024-03-25T03:37:13.856069400Z"
    }
   },
   "id": "698a43f7eb28c035",
   "execution_count": 4
  },
  {
   "cell_type": "code",
   "outputs": [
    {
     "data": {
      "text/plain": "               age    education  workinghours  ability to speak english\ncount  9000.000000  9000.000000   9000.000000                403.000000\nmean     43.557556    18.298778     39.227889                  1.660050\nstd      15.280589     3.212958     12.462668                  0.867355\nmin      17.000000     1.000000      1.000000                  1.000000\n25%      30.000000    16.000000     37.000000                  1.000000\n50%      44.000000    19.000000     40.000000                  1.000000\n75%      56.000000    21.000000     44.000000                  2.000000\nmax      93.000000    24.000000     99.000000                  4.000000",
      "text/html": "<div>\n<style scoped>\n    .dataframe tbody tr th:only-of-type {\n        vertical-align: middle;\n    }\n\n    .dataframe tbody tr th {\n        vertical-align: top;\n    }\n\n    .dataframe thead th {\n        text-align: right;\n    }\n</style>\n<table border=\"1\" class=\"dataframe\">\n  <thead>\n    <tr style=\"text-align: right;\">\n      <th></th>\n      <th>age</th>\n      <th>education</th>\n      <th>workinghours</th>\n      <th>ability to speak english</th>\n    </tr>\n  </thead>\n  <tbody>\n    <tr>\n      <th>count</th>\n      <td>9000.000000</td>\n      <td>9000.000000</td>\n      <td>9000.000000</td>\n      <td>403.000000</td>\n    </tr>\n    <tr>\n      <th>mean</th>\n      <td>43.557556</td>\n      <td>18.298778</td>\n      <td>39.227889</td>\n      <td>1.660050</td>\n    </tr>\n    <tr>\n      <th>std</th>\n      <td>15.280589</td>\n      <td>3.212958</td>\n      <td>12.462668</td>\n      <td>0.867355</td>\n    </tr>\n    <tr>\n      <th>min</th>\n      <td>17.000000</td>\n      <td>1.000000</td>\n      <td>1.000000</td>\n      <td>1.000000</td>\n    </tr>\n    <tr>\n      <th>25%</th>\n      <td>30.000000</td>\n      <td>16.000000</td>\n      <td>37.000000</td>\n      <td>1.000000</td>\n    </tr>\n    <tr>\n      <th>50%</th>\n      <td>44.000000</td>\n      <td>19.000000</td>\n      <td>40.000000</td>\n      <td>1.000000</td>\n    </tr>\n    <tr>\n      <th>75%</th>\n      <td>56.000000</td>\n      <td>21.000000</td>\n      <td>44.000000</td>\n      <td>2.000000</td>\n    </tr>\n    <tr>\n      <th>max</th>\n      <td>93.000000</td>\n      <td>24.000000</td>\n      <td>99.000000</td>\n      <td>4.000000</td>\n    </tr>\n  </tbody>\n</table>\n</div>"
     },
     "execution_count": 5,
     "metadata": {},
     "output_type": "execute_result"
    }
   ],
   "source": [
    "data.describe()"
   ],
   "metadata": {
    "collapsed": false,
    "ExecuteTime": {
     "end_time": "2024-03-25T03:37:14.168129400Z",
     "start_time": "2024-03-25T03:37:13.974949300Z"
    }
   },
   "id": "511450a96d14e84c",
   "execution_count": 5
  },
  {
   "cell_type": "code",
   "outputs": [
    {
     "data": {
      "text/plain": "age                            0\nworkclass                      0\neducation                      0\nmarital status                 0\noccupation                     0\nworkinghours                   0\nsex                            0\nability to speak english    8597\ngave birth this year        7058\nincome                         0\ndtype: int64"
     },
     "execution_count": 6,
     "metadata": {},
     "output_type": "execute_result"
    }
   ],
   "source": [
    "data.isnull().sum() # check amount of missing values per column"
   ],
   "metadata": {
    "collapsed": false,
    "ExecuteTime": {
     "end_time": "2024-03-25T03:37:14.171121600Z",
     "start_time": "2024-03-25T03:37:14.053756800Z"
    }
   },
   "id": "124c81f4a0471fa2",
   "execution_count": 6
  },
  {
   "cell_type": "code",
   "outputs": [
    {
     "data": {
      "text/plain": "95.52222222222223"
     },
     "execution_count": 7,
     "metadata": {},
     "output_type": "execute_result"
    }
   ],
   "source": [
    "# percentage of missing values in 'ability to speak english' column\n",
    "data['ability to speak english'].isnull().sum() / len(data) * 100"
   ],
   "metadata": {
    "collapsed": false,
    "ExecuteTime": {
     "end_time": "2024-03-25T03:37:14.187045700Z",
     "start_time": "2024-03-25T03:37:14.099362500Z"
    }
   },
   "id": "f3e71540108db03a",
   "execution_count": 7
  },
  {
   "cell_type": "code",
   "outputs": [
    {
     "data": {
      "text/plain": "78.42222222222223"
     },
     "execution_count": 8,
     "metadata": {},
     "output_type": "execute_result"
    }
   ],
   "source": [
    "# percentage of missing values in 'gave birth this year' column\n",
    "data['gave birth this year'].isnull().sum() / len(data) * 100"
   ],
   "metadata": {
    "collapsed": false,
    "ExecuteTime": {
     "end_time": "2024-03-25T03:37:14.240032200Z",
     "start_time": "2024-03-25T03:37:14.127104700Z"
    }
   },
   "id": "bd1b3fbc88f6161f",
   "execution_count": 8
  },
  {
   "cell_type": "code",
   "outputs": [
    {
     "data": {
      "text/plain": "gave birth this year\nNo     20.155556\nYes     1.422222\nName: count, dtype: float64"
     },
     "execution_count": 9,
     "metadata": {},
     "output_type": "execute_result"
    }
   ],
   "source": [
    "# percentage of \"Yes\" and \"No\" values in the 'gave birth this year' column\n",
    "data['gave birth this year'].value_counts() / len(data) * 100"
   ],
   "metadata": {
    "collapsed": false,
    "ExecuteTime": {
     "end_time": "2024-03-25T03:37:14.243024100Z",
     "start_time": "2024-03-25T03:37:14.138528300Z"
    }
   },
   "id": "ddb7c804893ec917",
   "execution_count": 9
  },
  {
   "cell_type": "code",
   "outputs": [
    {
     "data": {
      "text/plain": "sex\nMale      66.666667\nFemale    33.333333\nName: count, dtype: float64"
     },
     "execution_count": 10,
     "metadata": {},
     "output_type": "execute_result"
    }
   ],
   "source": [
    "# percentage of \"Male\" and \"Female\" values in the 'sex' column\n",
    "data['sex'].value_counts() / len(data) * 100"
   ],
   "metadata": {
    "collapsed": false,
    "ExecuteTime": {
     "end_time": "2024-03-25T03:37:14.272944300Z",
     "start_time": "2024-03-25T03:37:14.151970300Z"
    }
   },
   "id": "ff37cf4e7abd3e2b",
   "execution_count": 10
  },
  {
   "cell_type": "code",
   "outputs": [
    {
     "data": {
      "text/plain": "workclass\nprivate          73.822222\ngovernmental     15.722222\nself employed    10.188889\nno paid work      0.266667\nName: count, dtype: float64"
     },
     "execution_count": 11,
     "metadata": {},
     "output_type": "execute_result"
    }
   ],
   "source": [
    "# percentages of value counts for the 'workclass' column\n",
    "data['workclass'].value_counts() / len(data) * 100"
   ],
   "metadata": {
    "collapsed": false,
    "ExecuteTime": {
     "end_time": "2024-03-25T03:37:14.295882500Z",
     "start_time": "2024-03-25T03:37:14.168129400Z"
    }
   },
   "id": "62649362fa16702d",
   "execution_count": 11
  },
  {
   "cell_type": "code",
   "outputs": [
    {
     "data": {
      "text/plain": "marital status\nHusband          3588\nNever married    2388\nWife             1571\nDivorced         1105\nWidowed           188\nSeparated         160\nName: count, dtype: int64"
     },
     "execution_count": 12,
     "metadata": {},
     "output_type": "execute_result"
    }
   ],
   "source": [
    "# value counts for the 'marital status' column\n",
    "data['marital status'].value_counts()"
   ],
   "metadata": {
    "collapsed": false,
    "ExecuteTime": {
     "end_time": "2024-03-25T03:37:14.340997200Z",
     "start_time": "2024-03-25T03:37:14.191034900Z"
    }
   },
   "id": "6f6bd34e4adbe355",
   "execution_count": 12
  },
  {
   "cell_type": "code",
   "outputs": [],
   "source": [
    "# check for people younger than 25, 30, 40, how many of them are 'Never married'.\n",
    "never_married = [data[(data['age'] < 25) & (data['marital status'] == 'Never married')].shape[0],\n",
    "                 data[(data['age'] < 30) & (data['marital status'] == 'Never married')].shape[0],\n",
    "                 data[(data['age'] < 40) & (data['marital status'] == 'Never married')].shape[0]]\n",
    "# get total count of people who are never married\n",
    "total_never_married = data[data['marital status'] == 'Never married'].shape[0]\n",
    "# get the percentage of people who are never married\n",
    "never_married_percentages = [x / total_never_married * 100 for x in never_married]\n",
    "df = pd.DataFrame({'Age Group': ['<25', '<30', '<40'], 'Count of Never Married': never_married, 'Percentage of Never Married': never_married_percentages})"
   ],
   "metadata": {
    "collapsed": false,
    "ExecuteTime": {
     "end_time": "2024-03-25T03:37:14.464566300Z",
     "start_time": "2024-03-25T03:37:14.211109900Z"
    }
   },
   "id": "a459c342b04b36ed",
   "execution_count": 13
  },
  {
   "cell_type": "code",
   "outputs": [
    {
     "data": {
      "text/plain": "  Age Group  Count of Never Married  Percentage of Never Married\n0       <25                    1055                    44.179229\n1       <30                    1517                    63.525963\n2       <40                    1960                    82.077052",
      "text/html": "<div>\n<style scoped>\n    .dataframe tbody tr th:only-of-type {\n        vertical-align: middle;\n    }\n\n    .dataframe tbody tr th {\n        vertical-align: top;\n    }\n\n    .dataframe thead th {\n        text-align: right;\n    }\n</style>\n<table border=\"1\" class=\"dataframe\">\n  <thead>\n    <tr style=\"text-align: right;\">\n      <th></th>\n      <th>Age Group</th>\n      <th>Count of Never Married</th>\n      <th>Percentage of Never Married</th>\n    </tr>\n  </thead>\n  <tbody>\n    <tr>\n      <th>0</th>\n      <td>&lt;25</td>\n      <td>1055</td>\n      <td>44.179229</td>\n    </tr>\n    <tr>\n      <th>1</th>\n      <td>&lt;30</td>\n      <td>1517</td>\n      <td>63.525963</td>\n    </tr>\n    <tr>\n      <th>2</th>\n      <td>&lt;40</td>\n      <td>1960</td>\n      <td>82.077052</td>\n    </tr>\n  </tbody>\n</table>\n</div>"
     },
     "execution_count": 14,
     "metadata": {},
     "output_type": "execute_result"
    }
   ],
   "source": [
    "df"
   ],
   "metadata": {
    "collapsed": false,
    "ExecuteTime": {
     "end_time": "2024-03-25T03:37:14.490497200Z",
     "start_time": "2024-03-25T03:37:14.265963900Z"
    }
   },
   "id": "52f6772ec5f0d07b",
   "execution_count": 14
  },
  {
   "cell_type": "markdown",
   "source": [
    "We can see that there are way more men than women (66.7% vs 33.3%) in the dataset. People are mostly working in the 'private' sector (73.8%), with the second being 'governmental' (15.7%). The husband to wife ratio is a bit more than 2:1, which is reasonable considering the 'sex' column distribution. If we look at people younger than 40, we are already at 82% of the total amount of people who are 'Never married'. It seems to be decently correlated to age, which makes sense of course."
   ],
   "metadata": {
    "collapsed": false
   },
   "id": "7ba9fff12edbd662"
  },
  {
   "cell_type": "markdown",
   "source": [
    "### Imputing missing values & changing data types\n",
    "\n",
    "We have 2 columns with missing values: 'ability to speak english' and 'gave birth this year'. We will impute the missing values in the 'ability to speak english' column with 0 (for native speakers), and the missing values in the 'gave birth this year' column with a 'No'. We will also change the data type of certain columns if they can be represented with smaller data types to save memory."
   ],
   "metadata": {
    "collapsed": false
   },
   "id": "59f4754f62514b09"
  },
  {
   "cell_type": "code",
   "outputs": [],
   "source": [
    "# Impute missing values in 'ability to speak English' column with 0 (for native speakers)\n",
    "data['ability to speak english'] = data['ability to speak english'].fillna(0)"
   ],
   "metadata": {
    "collapsed": false,
    "ExecuteTime": {
     "end_time": "2024-03-25T03:37:14.606239700Z",
     "start_time": "2024-03-25T03:37:14.302100900Z"
    }
   },
   "id": "c95e49135aeff2cf",
   "execution_count": 15
  },
  {
   "cell_type": "code",
   "outputs": [],
   "source": [
    "# Impute missing values in 'gave birth this year' column with a 'No'\n",
    "data['gave birth this year'] = data['gave birth this year'].fillna('No')"
   ],
   "metadata": {
    "collapsed": false,
    "ExecuteTime": {
     "end_time": "2024-03-25T03:37:14.680041500Z",
     "start_time": "2024-03-25T03:37:14.353961900Z"
    }
   },
   "id": "23210f30d5c0155b",
   "execution_count": 16
  },
  {
   "cell_type": "code",
   "outputs": [],
   "source": [
    "# change the data type of certain columns if they can be represented with smaller data types to save memory\n",
    "data['age'] = data['age'].astype('int8') # in our dataset: min age is 17 and max age is 93\n",
    "data['education'] = data['education'].astype('int8') # in our dataset: min education is 1 and max education is 24\n",
    "data['workinghours'] = data['workinghours'].astype('int8') # in our dataset: min working hours is 1 and max working hours is 99\n",
    "data['ability to speak english'] = data['ability to speak english'].astype('int8') # in our dataset: min number of 'ability to speak english' is 0 and max ability to speak english is 4"
   ],
   "metadata": {
    "collapsed": false,
    "ExecuteTime": {
     "end_time": "2024-03-25T03:37:14.682035900Z",
     "start_time": "2024-03-25T03:37:14.386873700Z"
    }
   },
   "id": "67988124ff4e1d98",
   "execution_count": 17
  },
  {
   "cell_type": "markdown",
   "source": [
    "### Binning columns: 'age', 'workinghours', 'education'"
   ],
   "metadata": {
    "collapsed": false
   },
   "id": "9b73ecadada7c16e"
  },
  {
   "cell_type": "markdown",
   "source": [
    "#### 'age' column: extra analysis and binning"
   ],
   "metadata": {
    "collapsed": false
   },
   "id": "9516818a4e028060"
  },
  {
   "cell_type": "code",
   "outputs": [
    {
     "data": {
      "text/plain": "          mean  count\nage                  \n66   34.346939     98\n67   33.154762     84\n68   33.831169     77\n69   30.015625     64\n70   33.440678     59\n71   31.034483     58\n72   25.739130     23\n73   28.035714     28\n74   33.424242     33\n75   28.217391     23\n76   29.777778     18\n77   26.875000     16\n78   32.235294     17\n79   35.888889     18\n80   25.625000      8\n81   30.714286      7\n82   30.000000      5\n83   23.800000      5\n84   22.142857      7\n85   26.000000      2\n86   10.000000      2\n87   11.000000      2\n88   40.000000      1\n93   27.500000      2",
      "text/html": "<div>\n<style scoped>\n    .dataframe tbody tr th:only-of-type {\n        vertical-align: middle;\n    }\n\n    .dataframe tbody tr th {\n        vertical-align: top;\n    }\n\n    .dataframe thead th {\n        text-align: right;\n    }\n</style>\n<table border=\"1\" class=\"dataframe\">\n  <thead>\n    <tr style=\"text-align: right;\">\n      <th></th>\n      <th>mean</th>\n      <th>count</th>\n    </tr>\n    <tr>\n      <th>age</th>\n      <th></th>\n      <th></th>\n    </tr>\n  </thead>\n  <tbody>\n    <tr>\n      <th>66</th>\n      <td>34.346939</td>\n      <td>98</td>\n    </tr>\n    <tr>\n      <th>67</th>\n      <td>33.154762</td>\n      <td>84</td>\n    </tr>\n    <tr>\n      <th>68</th>\n      <td>33.831169</td>\n      <td>77</td>\n    </tr>\n    <tr>\n      <th>69</th>\n      <td>30.015625</td>\n      <td>64</td>\n    </tr>\n    <tr>\n      <th>70</th>\n      <td>33.440678</td>\n      <td>59</td>\n    </tr>\n    <tr>\n      <th>71</th>\n      <td>31.034483</td>\n      <td>58</td>\n    </tr>\n    <tr>\n      <th>72</th>\n      <td>25.739130</td>\n      <td>23</td>\n    </tr>\n    <tr>\n      <th>73</th>\n      <td>28.035714</td>\n      <td>28</td>\n    </tr>\n    <tr>\n      <th>74</th>\n      <td>33.424242</td>\n      <td>33</td>\n    </tr>\n    <tr>\n      <th>75</th>\n      <td>28.217391</td>\n      <td>23</td>\n    </tr>\n    <tr>\n      <th>76</th>\n      <td>29.777778</td>\n      <td>18</td>\n    </tr>\n    <tr>\n      <th>77</th>\n      <td>26.875000</td>\n      <td>16</td>\n    </tr>\n    <tr>\n      <th>78</th>\n      <td>32.235294</td>\n      <td>17</td>\n    </tr>\n    <tr>\n      <th>79</th>\n      <td>35.888889</td>\n      <td>18</td>\n    </tr>\n    <tr>\n      <th>80</th>\n      <td>25.625000</td>\n      <td>8</td>\n    </tr>\n    <tr>\n      <th>81</th>\n      <td>30.714286</td>\n      <td>7</td>\n    </tr>\n    <tr>\n      <th>82</th>\n      <td>30.000000</td>\n      <td>5</td>\n    </tr>\n    <tr>\n      <th>83</th>\n      <td>23.800000</td>\n      <td>5</td>\n    </tr>\n    <tr>\n      <th>84</th>\n      <td>22.142857</td>\n      <td>7</td>\n    </tr>\n    <tr>\n      <th>85</th>\n      <td>26.000000</td>\n      <td>2</td>\n    </tr>\n    <tr>\n      <th>86</th>\n      <td>10.000000</td>\n      <td>2</td>\n    </tr>\n    <tr>\n      <th>87</th>\n      <td>11.000000</td>\n      <td>2</td>\n    </tr>\n    <tr>\n      <th>88</th>\n      <td>40.000000</td>\n      <td>1</td>\n    </tr>\n    <tr>\n      <th>93</th>\n      <td>27.500000</td>\n      <td>2</td>\n    </tr>\n  </tbody>\n</table>\n</div>"
     },
     "execution_count": 18,
     "metadata": {},
     "output_type": "execute_result"
    }
   ],
   "source": [
    "# check how much a person has workinghours on average per age, for people older than 65\n",
    "data['workinghours'][data['age'] > 65].groupby(data['age']).agg(['mean', 'count'])"
   ],
   "metadata": {
    "collapsed": false,
    "ExecuteTime": {
     "end_time": "2024-03-25T03:37:14.864983600Z",
     "start_time": "2024-03-25T03:37:14.401734600Z"
    }
   },
   "id": "31ca224e0b845300",
   "execution_count": 18
  },
  {
   "cell_type": "markdown",
   "source": [
    "Although pension age is around 65, the mean of most ages > 65 is still quite high (we of course keep the per-age count in mind)."
   ],
   "metadata": {
    "collapsed": false
   },
   "id": "ca69fd2f3136f677"
  },
  {
   "cell_type": "code",
   "outputs": [
    {
     "data": {
      "text/plain": "<Figure size 640x480 with 1 Axes>",
      "image/png": "[encoded data removed]"
     },
     "metadata": {},
     "output_type": "display_data"
    }
   ],
   "source": [
    "p = sns.scatterplot(data=data['workinghours'][data['age'] > 16].groupby(data['age']).agg(['mean', 'count']).reset_index(), x='age', y='mean', size='count')\n",
    "p.set(xlabel='Age', ylabel='Average workinghours', title='Average workinghours per age')\n",
    "plt.show()"
   ],
   "metadata": {
    "collapsed": false,
    "ExecuteTime": {
     "end_time": "2024-03-25T03:37:15.320980400Z",
     "start_time": "2024-03-25T03:37:14.496532800Z"
    }
   },
   "id": "5ca0398e268b3f1c",
   "execution_count": 19
  },
  {
   "cell_type": "markdown",
   "source": [
    "Above is a plot of the previously generated dataframe, with x-axis as age, y-axis as average workinghours, and the size of the point as the amount of people of that age. We can see a reverse U-shape (parabola), which is quite interesting. We can observe that people on average work less when they are younger, then work more when they are in their 30s to their 60s, and then work less again when they are older."
   ],
   "metadata": {
    "collapsed": false
   },
   "id": "616c535b7dc8cbd1"
  },
  {
   "cell_type": "code",
   "outputs": [
    {
     "data": {
      "text/plain": "<Figure size 500x500 with 1 Axes>",
      "image/png": "[encoded data removed]"
     },
     "metadata": {},
     "output_type": "display_data"
    }
   ],
   "source": [
    "# plot of the distribution of the 'age' column for first easy inspection\n",
    "p = sns.displot(data['age'], kde=True, bins=20)\n",
    "p.set(xlabel='Age', ylabel='Count', title='Distribution of ages')\n",
    "plt.show()"
   ],
   "metadata": {
    "collapsed": false,
    "ExecuteTime": {
     "end_time": "2024-03-25T03:37:16.543716800Z",
     "start_time": "2024-03-25T03:37:15.320980400Z"
    }
   },
   "id": "1804e9e7555d3a44",
   "execution_count": 20
  },
  {
   "cell_type": "markdown",
   "source": [
    "We can see that the distribution of the ages has a bit of a negative skew (increasingly lower counts for 65+), with two small peaks in roughly the ranges 25-35 and 45-65."
   ],
   "metadata": {
    "collapsed": false
   },
   "id": "8dc07c944061311b"
  },
  {
   "cell_type": "code",
   "outputs": [
    {
     "data": {
      "text/plain": "(0         (49.0, 58.0]\n 1         (58.0, 93.0]\n 2         (58.0, 93.0]\n 3         (58.0, 93.0]\n 4         (28.0, 38.0]\n              ...      \n 8995    (16.999, 28.0]\n 8996      (58.0, 93.0]\n 8997      (28.0, 38.0]\n 8998      (58.0, 93.0]\n 8999      (49.0, 58.0]\n Name: age, Length: 9000, dtype: category\n Categories (5, interval[float64, right]): [(16.999, 28.0] < (28.0, 38.0] < (38.0, 49.0] < (49.0, 58.0] < (58.0, 93.0]],\n array([17., 28., 38., 49., 58., 93.]))"
     },
     "execution_count": 21,
     "metadata": {},
     "output_type": "execute_result"
    }
   ],
   "source": [
    "pd.qcut(data['age'], q=5, retbins=True) # quantile-based binning"
   ],
   "metadata": {
    "collapsed": false,
    "ExecuteTime": {
     "end_time": "2024-03-25T03:37:16.627317800Z",
     "start_time": "2024-03-25T03:37:16.536734200Z"
    }
   },
   "id": "83c70b1d3c31e7d3",
   "execution_count": 21
  },
  {
   "cell_type": "code",
   "outputs": [],
   "source": [
    "# we will do customized binning for the 'age' column; '17-28', '28-38', '38-49', '49-65', '65-93', but this is based on the quantile-based binning output.\n",
    "# Furthermore, other reasons for this binning include the results of the average workinghours scatterplot (where we see that people in the range 17-28 and in the range 65-93 are significantly different from the other age ranges, meaning the large 65-93 group is a viable option) and the fact that the first four age ranges have a difference of roughly 10 years, which is a not a bad amount of time for a generation.\n",
    "data['age_bin'] = pd.cut(data['age'], bins=[0,28,38,49,65,93], labels=['(17-28]', '(28-38]', '(38-49]', '(49-65]', '(65-93]'])"
   ],
   "metadata": {
    "collapsed": false,
    "ExecuteTime": {
     "end_time": "2024-03-25T03:37:16.650230800Z",
     "start_time": "2024-03-25T03:37:16.607479Z"
    }
   },
   "id": "c94869f6f0495603",
   "execution_count": 22
  },
  {
   "cell_type": "code",
   "outputs": [
    {
     "data": {
      "text/plain": "age_bin\n(17-28]    1893\n(28-38]    1710\n(38-49]    1936\n(49-65]    2804\n(65-93]     657\nName: count, dtype: int64"
     },
     "execution_count": 23,
     "metadata": {},
     "output_type": "execute_result"
    }
   ],
   "source": [
    "data['age_bin'].value_counts().sort_index() # check the frequency of each bin"
   ],
   "metadata": {
    "collapsed": false,
    "ExecuteTime": {
     "end_time": "2024-03-25T03:37:16.695111300Z",
     "start_time": "2024-03-25T03:37:16.629312200Z"
    }
   },
   "id": "5cbad6226393ea84",
   "execution_count": 23
  },
  {
   "cell_type": "markdown",
   "source": [
    "#### 'workinghours' column: extra analysis and binning"
   ],
   "metadata": {
    "collapsed": false
   },
   "id": "849bd7c2ba9b14b"
  },
  {
   "cell_type": "code",
   "outputs": [
    {
     "data": {
      "text/plain": "<Figure size 500x500 with 1 Axes>",
      "image/png": "[encoded data removed]"
     },
     "metadata": {},
     "output_type": "display_data"
    }
   ],
   "source": [
    "# plot of the distribution of the 'workinghours' column\n",
    "p = sns.displot(data['workinghours'], kde=True, bins=20)\n",
    "p.set(xlabel='Workinghours', ylabel='Count', title='Distribution of workinghours')\n",
    "plt.show()"
   ],
   "metadata": {
    "collapsed": false,
    "ExecuteTime": {
     "end_time": "2024-03-25T03:37:17.036840900Z",
     "start_time": "2024-03-25T03:37:16.642252700Z"
    }
   },
   "id": "dca050fdca00cbbc",
   "execution_count": 24
  },
  {
   "cell_type": "code",
   "outputs": [
    {
     "data": {
      "text/plain": "workinghours\n(0, 5]        113\n(5, 10]       184\n(10, 15]      218\n(15, 20]      452\n(20, 25]      300\n(25, 30]      446\n(30, 35]      382\n(35, 40]     4467\n(40, 45]      650\n(45, 50]      988\n(50, 55]      199\n(55, 60]      360\n(60, 65]       51\n(65, 70]       73\n(70, 75]       28\n(75, 80]       46\n(80, 85]       24\n(85, 90]        6\n(90, 95]        1\n(95, 100]      12\nName: count, dtype: int64"
     },
     "execution_count": 25,
     "metadata": {},
     "output_type": "execute_result"
    }
   ],
   "source": [
    "# we check for bins of size 5, the frequency of each bin\n",
    "pd.cut(data['workinghours'], bins=range(0, 105, 5)).value_counts().sort_index()"
   ],
   "metadata": {
    "collapsed": false,
    "ExecuteTime": {
     "end_time": "2024-03-25T03:37:17.052243500Z",
     "start_time": "2024-03-25T03:37:17.037836500Z"
    }
   },
   "id": "b906b4a48e6222ae",
   "execution_count": 25
  },
  {
   "cell_type": "code",
   "outputs": [
    {
     "data": {
      "text/plain": "workinghours\n40    4190\n45     461\n42     102\n44      38\n43      38\n41      11\nName: count, dtype: int64"
     },
     "execution_count": 26,
     "metadata": {},
     "output_type": "execute_result"
    }
   ],
   "source": [
    "data['workinghours'][(data['workinghours'] >= 40) & (data['workinghours'] <= 45)].value_counts()"
   ],
   "metadata": {
    "collapsed": false,
    "ExecuteTime": {
     "end_time": "2024-03-25T03:37:17.069497500Z",
     "start_time": "2024-03-25T03:37:17.052243500Z"
    }
   },
   "id": "738b6cc7f3cab3da",
   "execution_count": 26
  },
  {
   "cell_type": "code",
   "outputs": [],
   "source": [
    "# we will do customized binning for the 'workinghours' column; 'Part-time' (0-30 hours), 'Full-time' (31-40 hours), and 'Overtime' (41-99 hours)\n",
    "# https://www.bls.gov/cps/definitions.htm#fullparttime\n",
    "# https://www.glassdoor.com/blog/guide/how-many-hours-is-part-time/\n",
    "data['workinghours_bin'] = pd.cut(data['workinghours'], bins=[0, 30, 40, 99], labels=['Part-time', 'Full-time', 'Overtime'])"
   ],
   "metadata": {
    "collapsed": false,
    "ExecuteTime": {
     "end_time": "2024-03-25T03:37:17.142425700Z",
     "start_time": "2024-03-25T03:37:17.066505200Z"
    }
   },
   "id": "df5beba65825b41c",
   "execution_count": 27
  },
  {
   "cell_type": "code",
   "outputs": [
    {
     "data": {
      "text/plain": "workinghours_bin\nPart-time    1713\nFull-time    4849\nOvertime     2438\nName: count, dtype: int64"
     },
     "execution_count": 28,
     "metadata": {},
     "output_type": "execute_result"
    }
   ],
   "source": [
    "data['workinghours_bin'].value_counts().sort_index() # check the frequency of each bin"
   ],
   "metadata": {
    "collapsed": false,
    "ExecuteTime": {
     "end_time": "2024-03-25T03:37:17.144420600Z",
     "start_time": "2024-03-25T03:37:17.079470400Z"
    }
   },
   "id": "b12b088a58cdadec",
   "execution_count": 28
  },
  {
   "cell_type": "markdown",
   "source": [
    "#### 'education' column: extra analysis and binning"
   ],
   "metadata": {
    "collapsed": false
   },
   "id": "8443722dc39c8707"
  },
  {
   "cell_type": "code",
   "outputs": [
    {
     "data": {
      "text/plain": "<Figure size 500x500 with 1 Axes>",
      "image/png": "[encoded data removed]"
     },
     "metadata": {},
     "output_type": "display_data"
    }
   ],
   "source": [
    "# plot of the distribution of the 'education' column\n",
    "p = sns.displot(data['education'], kde=True, bins=20)\n",
    "p.set(xlabel='Education', ylabel='Count', title='Distribution of education')\n",
    "plt.show()"
   ],
   "metadata": {
    "collapsed": false,
    "ExecuteTime": {
     "end_time": "2024-03-25T03:37:17.505320Z",
     "start_time": "2024-03-25T03:37:17.098544200Z"
    }
   },
   "id": "8869f62c5125a6a8",
   "execution_count": 29
  },
  {
   "cell_type": "code",
   "outputs": [
    {
     "data": {
      "text/plain": "90.55555555555556"
     },
     "execution_count": 30,
     "metadata": {},
     "output_type": "execute_result"
    }
   ],
   "source": [
    "# percentage of people that have an education of atleast 16\n",
    "data['education'][data['education'] >= 16].value_counts().sum() / len(data) * 100"
   ],
   "metadata": {
    "collapsed": false,
    "ExecuteTime": {
     "end_time": "2024-03-25T03:37:17.518621500Z",
     "start_time": "2024-03-25T03:37:17.505320Z"
    }
   },
   "id": "ca96c8f220a2e557",
   "execution_count": 30
  },
  {
   "cell_type": "markdown",
   "source": [
    "We see on the graph, and in the percentage, that most people (~90%) have a somewhat higher education level."
   ],
   "metadata": {
    "collapsed": false
   },
   "id": "f9acc9f4cf06004a"
  },
  {
   "cell_type": "code",
   "outputs": [
    {
     "data": {
      "text/plain": "education\n1       78\n2        5\n3        1\n5        4\n6        6\n7        5\n8        8\n9       17\n10      30\n11      42\n12     101\n13     165\n14     242\n15     146\n16    2060\n17     434\n18     707\n19    1523\n20     807\n21    1641\n22     648\n23     185\n24     145\nName: count, dtype: int64"
     },
     "execution_count": 31,
     "metadata": {},
     "output_type": "execute_result"
    }
   ],
   "source": [
    "data['education'].value_counts().sort_index() # check the frequency of each education level"
   ],
   "metadata": {
    "collapsed": false,
    "ExecuteTime": {
     "end_time": "2024-03-25T03:37:17.535086200Z",
     "start_time": "2024-03-25T03:37:17.518621500Z"
    }
   },
   "id": "a304ed97a66df116",
   "execution_count": 31
  },
  {
   "cell_type": "code",
   "outputs": [],
   "source": [
    "# we will do customized binning for the 'education' column; https://ilostat.ilo.org/resources/concepts-and-definitions/classification-education/\n",
    "data['education_bin'] = pd.cut(data['education'], bins=[0, 3, 12, 20, 24], labels=['Less than basic', 'Basic', 'Intermediate', 'Advanced'])"
   ],
   "metadata": {
    "collapsed": false,
    "ExecuteTime": {
     "end_time": "2024-03-25T03:37:17.623614200Z",
     "start_time": "2024-03-25T03:37:17.539075500Z"
    }
   },
   "id": "1a625808f07ffbe4",
   "execution_count": 32
  },
  {
   "cell_type": "code",
   "outputs": [
    {
     "data": {
      "text/plain": "education_bin\nLess than basic      84\nBasic               213\nIntermediate       6084\nAdvanced           2619\nName: count, dtype: int64"
     },
     "execution_count": 33,
     "metadata": {},
     "output_type": "execute_result"
    }
   ],
   "source": [
    "data['education_bin'].value_counts().sort_index() # check the frequency of each bin"
   ],
   "metadata": {
    "collapsed": false,
    "ExecuteTime": {
     "end_time": "2024-03-25T03:37:17.665389700Z",
     "start_time": "2024-03-25T03:37:17.548200100Z"
    }
   },
   "id": "496777168ceef619",
   "execution_count": 33
  },
  {
   "cell_type": "markdown",
   "source": [
    "### Extra inspection of the dataset"
   ],
   "metadata": {
    "collapsed": false
   },
   "id": "55ef7fec69d1de00"
  },
  {
   "cell_type": "code",
   "outputs": [
    {
     "data": {
      "text/plain": "gave birth this year\nNo     98.577778\nYes     1.422222\nName: count, dtype: float64"
     },
     "execution_count": 34,
     "metadata": {},
     "output_type": "execute_result"
    }
   ],
   "source": [
    "# we check how many did not give birth this year in percentage\n",
    "data['gave birth this year'].value_counts() / len(data) * 100"
   ],
   "metadata": {
    "collapsed": false,
    "ExecuteTime": {
     "end_time": "2024-03-25T03:37:17.667383900Z",
     "start_time": "2024-03-25T03:37:17.562138500Z"
    }
   },
   "id": "900965e68787c960",
   "execution_count": 34
  },
  {
   "cell_type": "code",
   "outputs": [],
   "source": [
    "counts = data.groupby(['sex', 'income']).size().unstack(fill_value=0)\n",
    "total_counts = data['sex'].value_counts()\n",
    "# Calculate the percentage of each income level for each sex\n",
    "percentage = counts.div(total_counts, axis=0) * 100"
   ],
   "metadata": {
    "collapsed": false,
    "ExecuteTime": {
     "end_time": "2024-03-25T03:37:17.669378400Z",
     "start_time": "2024-03-25T03:37:17.573239900Z"
    }
   },
   "id": "58a980ff8c945cad",
   "execution_count": 35
  },
  {
   "cell_type": "code",
   "outputs": [
    {
     "data": {
      "text/plain": "income       high        low\nsex                         \nFemale  20.433333  79.566667\nMale    41.100000  58.900000",
      "text/html": "<div>\n<style scoped>\n    .dataframe tbody tr th:only-of-type {\n        vertical-align: middle;\n    }\n\n    .dataframe tbody tr th {\n        vertical-align: top;\n    }\n\n    .dataframe thead th {\n        text-align: right;\n    }\n</style>\n<table border=\"1\" class=\"dataframe\">\n  <thead>\n    <tr style=\"text-align: right;\">\n      <th>income</th>\n      <th>high</th>\n      <th>low</th>\n    </tr>\n    <tr>\n      <th>sex</th>\n      <th></th>\n      <th></th>\n    </tr>\n  </thead>\n  <tbody>\n    <tr>\n      <th>Female</th>\n      <td>20.433333</td>\n      <td>79.566667</td>\n    </tr>\n    <tr>\n      <th>Male</th>\n      <td>41.100000</td>\n      <td>58.900000</td>\n    </tr>\n  </tbody>\n</table>\n</div>"
     },
     "execution_count": 36,
     "metadata": {},
     "output_type": "execute_result"
    }
   ],
   "source": [
    "percentage"
   ],
   "metadata": {
    "collapsed": false,
    "ExecuteTime": {
     "end_time": "2024-03-25T03:37:17.686333Z",
     "start_time": "2024-03-25T03:37:17.597176Z"
    }
   },
   "id": "1277034a7f1a73a2",
   "execution_count": 36
  },
  {
   "cell_type": "markdown",
   "source": [
    "Above, we can see the income distribution ('high' or 'low') in percentages for male and female."
   ],
   "metadata": {
    "collapsed": false
   },
   "id": "1c50c2cc69a25318"
  },
  {
   "cell_type": "code",
   "outputs": [],
   "source": [
    "# we check the amount of men that work in the 'private' sector\n",
    "male_private_count = data[(data['sex'] == 'Male') & (data['workclass'] == 'private')].shape[0]"
   ],
   "metadata": {
    "collapsed": false,
    "ExecuteTime": {
     "end_time": "2024-03-25T03:37:17.707277Z",
     "start_time": "2024-03-25T03:37:17.619116900Z"
    }
   },
   "id": "bcec8c04efd402b7",
   "execution_count": 37
  },
  {
   "cell_type": "code",
   "outputs": [
    {
     "data": {
      "text/plain": "4404"
     },
     "execution_count": 38,
     "metadata": {},
     "output_type": "execute_result"
    }
   ],
   "source": [
    "male_private_count"
   ],
   "metadata": {
    "collapsed": false,
    "ExecuteTime": {
     "end_time": "2024-03-25T03:37:17.710270700Z",
     "start_time": "2024-03-25T03:37:17.635475600Z"
    }
   },
   "id": "247b686b36d96f20",
   "execution_count": 38
  },
  {
   "cell_type": "code",
   "outputs": [
    {
     "data": {
      "text/plain": "48.93333333333334"
     },
     "execution_count": 39,
     "metadata": {},
     "output_type": "execute_result"
    }
   ],
   "source": [
    "male_private_count / len(data) * 100"
   ],
   "metadata": {
    "collapsed": false,
    "ExecuteTime": {
     "end_time": "2024-03-25T03:37:17.781587900Z",
     "start_time": "2024-03-25T03:37:17.653714400Z"
    }
   },
   "id": "42aed6ecbb897742",
   "execution_count": 39
  },
  {
   "cell_type": "code",
   "outputs": [
    {
     "data": {
      "text/plain": "0.132"
     },
     "execution_count": 42,
     "metadata": {},
     "output_type": "execute_result"
    }
   ],
   "source": [
    "# check amount of rows with wife, low and female\n",
    "data[(data['marital status'] == 'Wife') & (data['income'] == 'low') & (data['sex'] == 'Female')].shape[0] / len(data)"
   ],
   "metadata": {
    "collapsed": false,
    "ExecuteTime": {
     "end_time": "2024-03-25T03:38:14.331151200Z",
     "start_time": "2024-03-25T03:38:14.290177300Z"
    }
   },
   "id": "91d1990c27a25b49",
   "execution_count": 42
  },
  {
   "cell_type": "code",
   "outputs": [
    {
     "data": {
      "text/plain": "0.26522222222222225"
     },
     "execution_count": 43,
     "metadata": {},
     "output_type": "execute_result"
    }
   ],
   "source": [
    "data[(data['income'] == 'low') & (data['sex'] == 'Female')].shape[0] / len(data)"
   ],
   "metadata": {
    "collapsed": false,
    "ExecuteTime": {
     "end_time": "2024-03-25T03:38:35.734005100Z",
     "start_time": "2024-03-25T03:38:35.610454700Z"
    }
   },
   "id": "e7af73403bce18f9",
   "execution_count": 43
  },
  {
   "cell_type": "markdown",
   "source": [
    "### Final step"
   ],
   "metadata": {
    "collapsed": false
   },
   "id": "677af7b502368b95"
  },
  {
   "cell_type": "code",
   "outputs": [],
   "source": [
    "data = data.drop(columns=['age', 'workinghours', 'education']) # we drop the original columns"
   ],
   "metadata": {
    "collapsed": false,
    "ExecuteTime": {
     "end_time": "2024-03-25T03:37:19.596362700Z",
     "start_time": "2024-03-25T03:37:19.588384Z"
    }
   },
   "id": "c406900e8f2839f5",
   "execution_count": null
  },
  {
   "cell_type": "code",
   "outputs": [],
   "source": [
    "data"
   ],
   "metadata": {
    "collapsed": false,
    "ExecuteTime": {
     "start_time": "2024-03-25T03:37:19.593370500Z"
    }
   },
   "id": "bd5ef2577ad54bb3",
   "execution_count": null
  },
  {
   "cell_type": "markdown",
   "source": [
    "### Writing the cleaned dataset to a new file"
   ],
   "metadata": {
    "collapsed": false
   },
   "id": "df57e990f6c89b38"
  },
  {
   "cell_type": "code",
   "outputs": [],
   "source": [
    "# write cleaned dataset to new file\n",
    "save_dataset(data, \"../data/assignment1_income_levels_cleaned.xlsx\")"
   ],
   "metadata": {
    "collapsed": false,
    "ExecuteTime": {
     "end_time": "2024-03-25T03:37:19.612319600Z",
     "start_time": "2024-03-25T03:37:19.596362700Z"
    }
   },
   "id": "584085f3b0d93ea6",
   "execution_count": null
  }
 ],
 "metadata": {
  "kernelspec": {
   "display_name": "Python 3",
   "language": "python",
   "name": "python3"
  },
  "language_info": {
   "codemirror_mode": {
    "name": "ipython",
    "version": 2
   },
   "file_extension": ".py",
   "mimetype": "text/x-python",
   "name": "python",
   "nbconvert_exporter": "python",
   "pygments_lexer": "ipython2",
   "version": "2.7.6"
  }
 },
 "nbformat": 4,
 "nbformat_minor": 5
}
