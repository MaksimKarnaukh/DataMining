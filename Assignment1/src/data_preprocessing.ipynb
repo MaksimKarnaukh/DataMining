{
 "cells": [
  {
   "cell_type": "code",
   "execution_count": 1,
   "id": "initial_id",
   "metadata": {
    "collapsed": true,
    "ExecuteTime": {
     "end_time": "2024-04-07T21:29:26.265013100Z",
     "start_time": "2024-04-07T21:29:26.201204400Z"
    }
   },
   "source": [
    "import pandas as pd\n",
    "import matplotlib\n",
    "from matplotlib import pyplot as plt\n",
    "import seaborn as sns\n",
    "from helper_functions import load_dataset, save_dataset"
   ],
   "outputs": []
  },
  {
   "cell_type": "markdown",
   "source": [
    "### Loading the dataset"
   ],
   "metadata": {
    "collapsed": false
   },
   "id": "c78e6b2511ae4d27"
  },
  {
   "cell_type": "code",
   "source": [
    "data = load_dataset(\"../data/assignment1_income_levels.xlsx\")"
   ],
   "metadata": {
    "collapsed": false,
    "ExecuteTime": {
     "end_time": "2024-04-07T21:29:29.481311700Z",
     "start_time": "2024-04-07T21:29:26.240080700Z"
    }
   },
   "id": "4e165449a3c30d28",
   "execution_count": 2,
   "outputs": []
  },
  {
   "cell_type": "markdown",
   "source": [
    "## 1) Data Inspection and Preparation"
   ],
   "metadata": {
    "collapsed": false
   },
   "id": "db16e4e109a979a7"
  },
  {
   "cell_type": "markdown",
   "source": [
    "First, we do some basic inspection of the dataset, such as checking the first few rows, the data types, the amount of missing values, and the value counts of certain columns."
   ],
   "metadata": {
    "collapsed": false
   },
   "id": "e699f54b26baa87"
  },
  {
   "cell_type": "code",
   "source": [
    "data.head()"
   ],
   "metadata": {
    "collapsed": false,
    "ExecuteTime": {
     "end_time": "2024-04-07T21:29:29.618007600Z",
     "start_time": "2024-04-07T21:29:29.482310Z"
    }
   },
   "id": "ceefc662128d139d",
   "execution_count": 3,
   "outputs": []
  },
  {
   "cell_type": "code",
   "source": [
    "data.info()"
   ],
   "metadata": {
    "collapsed": false,
    "ExecuteTime": {
     "end_time": "2024-04-07T21:29:29.786371500Z",
     "start_time": "2024-04-07T21:29:29.598998Z"
    }
   },
   "id": "698a43f7eb28c035",
   "execution_count": 4,
   "outputs": []
  },
  {
   "cell_type": "code",
   "source": [
    "data.describe()"
   ],
   "metadata": {
    "collapsed": false,
    "ExecuteTime": {
     "end_time": "2024-04-07T21:29:29.864334400Z",
     "start_time": "2024-04-07T21:29:29.737689400Z"
    }
   },
   "id": "511450a96d14e84c",
   "execution_count": 5,
   "outputs": []
  },
  {
   "cell_type": "code",
   "source": [
    "data.isnull().sum() # check amount of missing values per column"
   ],
   "metadata": {
    "collapsed": false,
    "ExecuteTime": {
     "end_time": "2024-04-07T21:29:29.867327800Z",
     "start_time": "2024-04-07T21:29:29.765932700Z"
    }
   },
   "id": "124c81f4a0471fa2",
   "execution_count": 6,
   "outputs": []
  },
  {
   "cell_type": "code",
   "source": [
    "# percentage of missing values in 'ability to speak english' column\n",
    "data['ability to speak english'].isnull().sum() / len(data) * 100"
   ],
   "metadata": {
    "collapsed": false,
    "ExecuteTime": {
     "end_time": "2024-04-07T21:29:29.894254600Z",
     "start_time": "2024-04-07T21:29:29.778897700Z"
    }
   },
   "id": "f3e71540108db03a",
   "execution_count": 7,
   "outputs": []
  },
  {
   "cell_type": "code",
   "source": [
    "# percentage of missing values in 'gave birth this year' column\n",
    "data['gave birth this year'].isnull().sum() / len(data) * 100"
   ],
   "metadata": {
    "collapsed": false,
    "ExecuteTime": {
     "end_time": "2024-04-07T21:29:29.912206700Z",
     "start_time": "2024-04-07T21:29:29.789364Z"
    }
   },
   "id": "bd1b3fbc88f6161f",
   "execution_count": 8,
   "outputs": []
  },
  {
   "cell_type": "code",
   "source": [
    "# percentage of \"Yes\" and \"No\" values in the 'gave birth this year' column\n",
    "data['gave birth this year'].value_counts() / len(data) * 100"
   ],
   "metadata": {
    "collapsed": false,
    "ExecuteTime": {
     "end_time": "2024-04-07T21:29:29.915279500Z",
     "start_time": "2024-04-07T21:29:29.801098700Z"
    }
   },
   "id": "ddb7c804893ec917",
   "execution_count": 9,
   "outputs": []
  },
  {
   "cell_type": "code",
   "source": [
    "# percentage of \"Male\" and \"Female\" values in the 'sex' column\n",
    "data['sex'].value_counts() / len(data) * 100"
   ],
   "metadata": {
    "collapsed": false,
    "ExecuteTime": {
     "end_time": "2024-04-07T21:29:29.931743700Z",
     "start_time": "2024-04-07T21:29:29.816494500Z"
    }
   },
   "id": "ff37cf4e7abd3e2b",
   "execution_count": 10,
   "outputs": []
  },
  {
   "cell_type": "code",
   "source": [
    "# percentages of value counts for the 'workclass' column\n",
    "data['workclass'].value_counts() / len(data) * 100"
   ],
   "metadata": {
    "collapsed": false,
    "ExecuteTime": {
     "end_time": "2024-04-07T21:29:29.992581400Z",
     "start_time": "2024-04-07T21:29:29.834446600Z"
    }
   },
   "id": "62649362fa16702d",
   "execution_count": 11,
   "outputs": []
  },
  {
   "cell_type": "code",
   "source": [
    "# value counts for the 'marital status' column\n",
    "data['marital status'].value_counts()"
   ],
   "metadata": {
    "collapsed": false,
    "ExecuteTime": {
     "end_time": "2024-04-07T21:29:30.017514700Z",
     "start_time": "2024-04-07T21:29:29.852646100Z"
    }
   },
   "id": "6f6bd34e4adbe355",
   "execution_count": 12,
   "outputs": []
  },
  {
   "cell_type": "code",
   "source": [
    "# check for people younger than 25, 30, 40, how many of them are 'Never married'.\n",
    "never_married = [data[(data['age'] < 25) & (data['marital status'] == 'Never married')].shape[0],\n",
    "                 data[(data['age'] < 30) & (data['marital status'] == 'Never married')].shape[0],\n",
    "                 data[(data['age'] < 40) & (data['marital status'] == 'Never married')].shape[0]]\n",
    "# get total count of people who are never married\n",
    "total_never_married = data[data['marital status'] == 'Never married'].shape[0]\n",
    "# get the percentage of people who are never married\n",
    "never_married_percentages = [x / total_never_married * 100 for x in never_married]\n",
    "df = pd.DataFrame({'Age Group': ['<25', '<30', '<40'], 'Count of Never Married': never_married, 'Percentage of Never Married': never_married_percentages})"
   ],
   "metadata": {
    "collapsed": false,
    "ExecuteTime": {
     "end_time": "2024-04-07T21:29:30.084335600Z",
     "start_time": "2024-04-07T21:29:29.868326900Z"
    }
   },
   "id": "a459c342b04b36ed",
   "execution_count": 13,
   "outputs": []
  },
  {
   "cell_type": "code",
   "source": [
    "df"
   ],
   "metadata": {
    "collapsed": false,
    "ExecuteTime": {
     "end_time": "2024-04-07T21:29:30.109268700Z",
     "start_time": "2024-04-07T21:29:29.921771300Z"
    }
   },
   "id": "52f6772ec5f0d07b",
   "execution_count": 14,
   "outputs": []
  },
  {
   "cell_type": "markdown",
   "source": [
    "We can see that there are way more men than women (66.7% vs 33.3%) in the dataset. People are mostly working in the 'private' sector (73.8%), with the second being 'governmental' (15.7%). The husband to wife ratio is a bit more than 2:1, which is reasonable considering the 'sex' column distribution. If we look at people younger than 40, we are already at 82% of the total amount of people who are 'Never married'. It seems to be decently correlated to age, which makes sense of course."
   ],
   "metadata": {
    "collapsed": false
   },
   "id": "7ba9fff12edbd662"
  },
  {
   "cell_type": "code",
   "source": [
    "# check the amount of missing values in the 'gave birth this year' column for the age bins (17-28, 28-38, 38-49, 49-65, 65-93) for females\n",
    "female_data = data[data['sex'] == 'Female']\n",
    "female_data['gave birth this year'][female_data['gave birth this year'].isnull()].groupby(pd.cut(female_data['age'], bins=[0,28,38,49,65,93]), observed=False).size()"
   ],
   "metadata": {
    "collapsed": false,
    "ExecuteTime": {
     "end_time": "2024-04-07T21:29:30.325121100Z",
     "start_time": "2024-04-07T21:29:29.941717800Z"
    }
   },
   "id": "cacaaa2c99319813",
   "execution_count": 15,
   "outputs": []
  },
  {
   "cell_type": "markdown",
   "source": [
    "We can see that the missing values in the 'gave birth this year' column are only present in the 49-93 age range. Since it was proven to be a higher health risk to give birth after ~35 years old for women, this could be seen as a reason for why the missing values are mostly in the 38+ age bin (also, we have to keep in mind menopause which occurs roughly between the ages of 45 and 55 years). This will be very useful for the imputation of the missing values in the 'gave birth this year' column.\n",
    "Sources used:\n",
    "- https://www.acog.org/womens-health/faqs/having-a-baby-after-age-35-how-aging-affects-fertility-and-pregnancy#:~:text=The%20risks%20of%20miscarriage%20and,chance%20of%20a%20multiple%20pregnancy.\n",
    "- https://www.who.int/news-room/fact-sheets/detail/menopause#:~:text=Most%20women%20experience%20menopause%20between,changes%20in%20the%20menstrual%20cycle."
   ],
   "metadata": {
    "collapsed": false
   },
   "id": "41bcd696020187fb"
  },
  {
   "cell_type": "markdown",
   "source": [
    "### Imputing missing values & changing data types\n",
    "\n",
    "We have 2 columns with missing values: 'ability to speak english' and 'gave birth this year'. We will impute the missing values in the 'ability to speak english' column with 0 (for native speakers), and the missing values in the 'gave birth this year' column with a 'No'. We will also change the data type of certain columns if they can be represented with smaller data types to save memory."
   ],
   "metadata": {
    "collapsed": false
   },
   "id": "59f4754f62514b09"
  },
  {
   "cell_type": "code",
   "source": [
    "# Impute missing values in 'ability to speak English' column with 0 (for native speakers)\n",
    "data['ability to speak english'] = data['ability to speak english'].fillna(0)"
   ],
   "metadata": {
    "collapsed": false,
    "ExecuteTime": {
     "end_time": "2024-04-07T21:29:30.327115700Z",
     "start_time": "2024-04-07T21:29:30.169109600Z"
    }
   },
   "id": "c95e49135aeff2cf",
   "execution_count": 16,
   "outputs": []
  },
  {
   "cell_type": "code",
   "source": [
    "# Impute missing values in 'gave birth this year' column with a 'No'\n",
    "data['gave birth this year'] = data['gave birth this year'].fillna('No')"
   ],
   "metadata": {
    "collapsed": false,
    "ExecuteTime": {
     "end_time": "2024-04-07T21:29:30.424854500Z",
     "start_time": "2024-04-07T21:29:30.175655200Z"
    }
   },
   "id": "23210f30d5c0155b",
   "execution_count": 17,
   "outputs": []
  },
  {
   "cell_type": "code",
   "source": [
    "# change the data type of certain columns if they can be represented with smaller data types to save memory\n",
    "data['age'] = data['age'].astype('int8') # in our dataset: min age is 17 and max age is 93\n",
    "data['education'] = data['education'].astype('int8') # in our dataset: min education is 1 and max education is 24\n",
    "data['workinghours'] = data['workinghours'].astype('int8') # in our dataset: min working hours is 1 and max working hours is 99\n",
    "data['ability to speak english'] = data['ability to speak english'].astype('int8') # in our dataset: min number of 'ability to speak english' is 0 and max ability to speak english is 4"
   ],
   "metadata": {
    "collapsed": false,
    "ExecuteTime": {
     "end_time": "2024-04-07T21:29:30.426848400Z",
     "start_time": "2024-04-07T21:29:30.200101200Z"
    }
   },
   "id": "67988124ff4e1d98",
   "execution_count": 18,
   "outputs": []
  },
  {
   "cell_type": "markdown",
   "source": [
    "### Binning columns: 'age', 'workinghours', 'education'"
   ],
   "metadata": {
    "collapsed": false
   },
   "id": "9b73ecadada7c16e"
  },
  {
   "cell_type": "markdown",
   "source": [
    "#### 'age' column: extra analysis and binning"
   ],
   "metadata": {
    "collapsed": false
   },
   "id": "9516818a4e028060"
  },
  {
   "cell_type": "code",
   "source": [
    "# check how much a person has workinghours on average per age, for people older than 65\n",
    "data['workinghours'][data['age'] > 65].groupby(data['age']).agg(['mean', 'count'])"
   ],
   "metadata": {
    "collapsed": false,
    "ExecuteTime": {
     "end_time": "2024-04-07T21:29:30.454235100Z",
     "start_time": "2024-04-07T21:29:30.214296600Z"
    }
   },
   "id": "31ca224e0b845300",
   "execution_count": 19,
   "outputs": []
  },
  {
   "cell_type": "markdown",
   "source": [
    "Although pension age is around 65, the mean of most ages > 65 is still quite high (we of course keep the per-age count in mind)."
   ],
   "metadata": {
    "collapsed": false
   },
   "id": "ca69fd2f3136f677"
  },
  {
   "cell_type": "code",
   "source": [
    "p = sns.scatterplot(data=data['workinghours'][data['age'] > 16].groupby(data['age']).agg(['mean', 'count']).reset_index(), x='age', y='mean', size='count')\n",
    "p.set(xlabel='Age', ylabel='Average workinghours', title='Average workinghours per age')\n",
    "plt.show()"
   ],
   "metadata": {
    "collapsed": false,
    "ExecuteTime": {
     "end_time": "2024-04-07T21:29:31.286511800Z",
     "start_time": "2024-04-07T21:29:30.267276100Z"
    }
   },
   "id": "5ca0398e268b3f1c",
   "execution_count": 20,
   "outputs": []
  },
  {
   "cell_type": "markdown",
   "source": [
    "Above is a plot of the previously generated dataframe, with x-axis as age, y-axis as average workinghours, and the size of the point as the amount of people of that age. We can see a reverse U-shape (parabola), which is quite interesting. We can observe that people on average work less when they are younger, then work more when they are in their 30s to their 60s, and then work less again when they are older."
   ],
   "metadata": {
    "collapsed": false
   },
   "id": "616c535b7dc8cbd1"
  },
  {
   "cell_type": "code",
   "source": [
    "# plot of the distribution of the 'age' column for first easy inspection\n",
    "p = sns.displot(data['age'], kde=True, bins=20)\n",
    "p.set(xlabel='Age', ylabel='Count', title='Distribution of ages')\n",
    "plt.show()"
   ],
   "metadata": {
    "collapsed": false,
    "ExecuteTime": {
     "end_time": "2024-04-07T21:29:32.150358700Z",
     "start_time": "2024-04-07T21:29:31.288505700Z"
    }
   },
   "id": "1804e9e7555d3a44",
   "execution_count": 21,
   "outputs": []
  },
  {
   "cell_type": "markdown",
   "source": [
    "We can see that the distribution of the ages has a bit of a negative skew (increasingly lower counts for 65+), with two small peaks in roughly the ranges 25-35 and 45-65."
   ],
   "metadata": {
    "collapsed": false
   },
   "id": "8dc07c944061311b"
  },
  {
   "cell_type": "code",
   "source": [
    "pd.qcut(data['age'], q=5, retbins=True) # quantile-based binning"
   ],
   "metadata": {
    "collapsed": false,
    "ExecuteTime": {
     "end_time": "2024-04-07T21:29:32.269882200Z",
     "start_time": "2024-04-07T21:29:32.150358700Z"
    }
   },
   "id": "83c70b1d3c31e7d3",
   "execution_count": 22,
   "outputs": []
  },
  {
   "cell_type": "code",
   "source": [
    "# we will do customized binning for the 'age' column; '17-28', '28-38', '38-49', '49-65', '65-93', but this is based on the above quantile-based binning output.\n",
    "# Furthermore, other reasons for this binning include the results of the average workinghours scatterplot (where we see that people in the range 17-28 and in the range 65-93 are significantly different from the other age ranges, meaning the large 65-93 group is a viable option) and the fact that the first four age ranges have a difference of roughly 10 years, which is a not a bad amount of time for a generation.\n",
    "data['age_bin'] = pd.cut(data['age'], bins=[0,28,38,49,65,93], labels=['(17-28]', '(28-38]', '(38-49]', '(49-65]', '(65-93]'])"
   ],
   "metadata": {
    "collapsed": false,
    "ExecuteTime": {
     "end_time": "2024-04-07T21:29:32.271877100Z",
     "start_time": "2024-04-07T21:29:32.194999400Z"
    }
   },
   "id": "c94869f6f0495603",
   "execution_count": 23,
   "outputs": []
  },
  {
   "cell_type": "code",
   "source": [
    "data['age_bin'].value_counts().sort_index() # check the frequency of each bin"
   ],
   "metadata": {
    "collapsed": false,
    "ExecuteTime": {
     "end_time": "2024-04-07T21:29:32.323741100Z",
     "start_time": "2024-04-07T21:29:32.203975300Z"
    }
   },
   "id": "5cbad6226393ea84",
   "execution_count": 24,
   "outputs": []
  },
  {
   "cell_type": "markdown",
   "source": [
    "#### 'workinghours' column: extra analysis and binning"
   ],
   "metadata": {
    "collapsed": false
   },
   "id": "849bd7c2ba9b14b"
  },
  {
   "cell_type": "code",
   "source": [
    "# plot of the distribution of the 'workinghours' column\n",
    "p = sns.displot(data['workinghours'], kde=True, bins=20)\n",
    "p.set(xlabel='Workinghours', ylabel='Count', title='Distribution of workinghours')\n",
    "plt.show()"
   ],
   "metadata": {
    "collapsed": false,
    "ExecuteTime": {
     "end_time": "2024-04-07T21:29:32.736004700Z",
     "start_time": "2024-04-07T21:29:32.226996800Z"
    }
   },
   "id": "dca050fdca00cbbc",
   "execution_count": 25,
   "outputs": []
  },
  {
   "cell_type": "code",
   "source": [
    "# we check for bins of size 5, the frequency of each bin\n",
    "pd.cut(data['workinghours'], bins=range(0, 105, 5)).value_counts().sort_index()"
   ],
   "metadata": {
    "collapsed": false,
    "ExecuteTime": {
     "end_time": "2024-04-07T21:29:32.753394300Z",
     "start_time": "2024-04-07T21:29:32.734010300Z"
    }
   },
   "id": "b906b4a48e6222ae",
   "execution_count": 26,
   "outputs": []
  },
  {
   "cell_type": "code",
   "source": [
    "data['workinghours'][(data['workinghours'] >= 40) & (data['workinghours'] <= 45)].value_counts()"
   ],
   "metadata": {
    "collapsed": false,
    "ExecuteTime": {
     "end_time": "2024-04-07T21:29:32.843400600Z",
     "start_time": "2024-04-07T21:29:32.750401Z"
    }
   },
   "id": "738b6cc7f3cab3da",
   "execution_count": 27,
   "outputs": []
  },
  {
   "cell_type": "code",
   "source": [
    "# we will do customized binning for the 'workinghours' column; 'Part-time' (0-30 hours), 'Full-time' (31-40 hours), and 'Overtime' (41-99 hours)\n",
    "# https://www.bls.gov/cps/definitions.htm#fullparttime\n",
    "# https://www.glassdoor.com/blog/guide/how-many-hours-is-part-time/\n",
    "data['workinghours_bin'] = pd.cut(data['workinghours'], bins=[0, 30, 40, 99], labels=['Part-time', 'Full-time', 'Overtime'])"
   ],
   "metadata": {
    "collapsed": false,
    "ExecuteTime": {
     "end_time": "2024-04-07T21:29:32.863347400Z",
     "start_time": "2024-04-07T21:29:32.760804600Z"
    }
   },
   "id": "df5beba65825b41c",
   "execution_count": 28,
   "outputs": []
  },
  {
   "cell_type": "code",
   "source": [
    "data['workinghours_bin'].value_counts().sort_index() # check the frequency of each bin"
   ],
   "metadata": {
    "collapsed": false,
    "ExecuteTime": {
     "end_time": "2024-04-07T21:29:32.865342900Z",
     "start_time": "2024-04-07T21:29:32.768597200Z"
    }
   },
   "id": "b12b088a58cdadec",
   "execution_count": 29,
   "outputs": []
  },
  {
   "cell_type": "markdown",
   "source": [
    "#### 'education' column: extra analysis and binning"
   ],
   "metadata": {
    "collapsed": false
   },
   "id": "8443722dc39c8707"
  },
  {
   "cell_type": "code",
   "source": [
    "# plot of the distribution of the 'education' column\n",
    "p = sns.displot(data['education'], kde=True, bins=20)\n",
    "p.set(xlabel='Education', ylabel='Count', title='Distribution of education')\n",
    "plt.show()"
   ],
   "metadata": {
    "collapsed": false,
    "ExecuteTime": {
     "end_time": "2024-04-07T21:29:33.369916100Z",
     "start_time": "2024-04-07T21:29:32.779567800Z"
    }
   },
   "id": "8869f62c5125a6a8",
   "execution_count": 30,
   "outputs": []
  },
  {
   "cell_type": "code",
   "source": [
    "# percentage of people that have an education of atleast 16\n",
    "data['education'][data['education'] >= 16].value_counts().sum() / len(data) * 100"
   ],
   "metadata": {
    "collapsed": false,
    "ExecuteTime": {
     "end_time": "2024-04-07T21:29:33.389384600Z",
     "start_time": "2024-04-07T21:29:33.370914200Z"
    }
   },
   "id": "ca96c8f220a2e557",
   "execution_count": 31,
   "outputs": []
  },
  {
   "cell_type": "markdown",
   "source": [
    "We see on the graph, and in the percentage, that most people (~90%) have a somewhat higher education level."
   ],
   "metadata": {
    "collapsed": false
   },
   "id": "f9acc9f4cf06004a"
  },
  {
   "cell_type": "code",
   "source": [
    "data['education'].value_counts().sort_index() # check the frequency of each education level"
   ],
   "metadata": {
    "collapsed": false,
    "ExecuteTime": {
     "end_time": "2024-04-07T21:29:33.503809500Z",
     "start_time": "2024-04-07T21:29:33.378892100Z"
    }
   },
   "id": "a304ed97a66df116",
   "execution_count": 32,
   "outputs": []
  },
  {
   "cell_type": "code",
   "source": [
    "# we will do customized binning for the 'education' column; https://ilostat.ilo.org/resources/concepts-and-definitions/classification-education/\n",
    "data['education_bin'] = pd.cut(data['education'], bins=[0, 3, 12, 20, 24], labels=['Less than basic', 'Basic', 'Intermediate', 'Advanced'])"
   ],
   "metadata": {
    "collapsed": false,
    "ExecuteTime": {
     "end_time": "2024-04-07T21:29:33.533390600Z",
     "start_time": "2024-04-07T21:29:33.391379900Z"
    }
   },
   "id": "1a625808f07ffbe4",
   "execution_count": 33,
   "outputs": []
  },
  {
   "cell_type": "code",
   "source": [
    "data['education_bin'].value_counts().sort_index() / len(data) # check the frequency of each bin"
   ],
   "metadata": {
    "collapsed": false,
    "ExecuteTime": {
     "end_time": "2024-04-07T21:29:33.536382300Z",
     "start_time": "2024-04-07T21:29:33.400635200Z"
    }
   },
   "id": "496777168ceef619",
   "execution_count": 34,
   "outputs": []
  },
  {
   "cell_type": "markdown",
   "source": [
    "### Extra inspection of the dataset"
   ],
   "metadata": {
    "collapsed": false
   },
   "id": "55ef7fec69d1de00"
  },
  {
   "cell_type": "code",
   "source": [
    "# we check how many did not give birth this year in percentage\n",
    "data['gave birth this year'].value_counts() / len(data) * 100"
   ],
   "metadata": {
    "collapsed": false,
    "ExecuteTime": {
     "end_time": "2024-04-07T21:29:33.553844100Z",
     "start_time": "2024-04-07T21:29:33.411124700Z"
    }
   },
   "id": "900965e68787c960",
   "execution_count": 35,
   "outputs": []
  },
  {
   "cell_type": "code",
   "source": [
    "counts = data.groupby(['sex', 'income']).size().unstack(fill_value=0)\n",
    "total_counts = data['sex'].value_counts()\n",
    "# Calculate the percentage of each income level for each sex\n",
    "percentage = counts.div(total_counts, axis=0) * 100"
   ],
   "metadata": {
    "collapsed": false,
    "ExecuteTime": {
     "end_time": "2024-04-07T21:29:33.619250900Z",
     "start_time": "2024-04-07T21:29:33.421229900Z"
    }
   },
   "id": "58a980ff8c945cad",
   "execution_count": 36,
   "outputs": []
  },
  {
   "cell_type": "code",
   "source": [
    "percentage"
   ],
   "metadata": {
    "collapsed": false,
    "ExecuteTime": {
     "end_time": "2024-04-07T21:29:33.623242100Z",
     "start_time": "2024-04-07T21:29:33.446024200Z"
    }
   },
   "id": "1277034a7f1a73a2",
   "execution_count": 37,
   "outputs": []
  },
  {
   "cell_type": "code",
   "source": [
    "# check value count of high and low income\n",
    "data['income'].value_counts() / len(data) * 100"
   ],
   "metadata": {
    "collapsed": false,
    "ExecuteTime": {
     "end_time": "2024-04-07T21:29:33.648173200Z",
     "start_time": "2024-04-07T21:29:33.459539300Z"
    }
   },
   "id": "ace59cf1185d832",
   "execution_count": 38,
   "outputs": []
  },
  {
   "cell_type": "markdown",
   "source": [
    "Above, we can see the income distribution ('high' or 'low') in percentages for male and female, and also the distribution of high and low income in general."
   ],
   "metadata": {
    "collapsed": false
   },
   "id": "1c50c2cc69a25318"
  },
  {
   "cell_type": "code",
   "source": [
    "# we check the amount of men that work in the 'private' sector\n",
    "male_private_count = data[(data['sex'] == 'Male') & (data['workclass'] == 'private')].shape[0]"
   ],
   "metadata": {
    "collapsed": false,
    "ExecuteTime": {
     "end_time": "2024-04-07T21:29:33.650167900Z",
     "start_time": "2024-04-07T21:29:33.470509900Z"
    }
   },
   "id": "bcec8c04efd402b7",
   "execution_count": 39,
   "outputs": []
  },
  {
   "cell_type": "code",
   "source": [
    "male_private_count"
   ],
   "metadata": {
    "collapsed": false,
    "ExecuteTime": {
     "end_time": "2024-04-07T21:29:33.652162600Z",
     "start_time": "2024-04-07T21:29:33.491885Z"
    }
   },
   "id": "247b686b36d96f20",
   "execution_count": 40,
   "outputs": []
  },
  {
   "cell_type": "code",
   "source": [
    "male_private_count / len(data) * 100"
   ],
   "metadata": {
    "collapsed": false,
    "ExecuteTime": {
     "end_time": "2024-04-07T21:29:33.670114300Z",
     "start_time": "2024-04-07T21:29:33.502812100Z"
    }
   },
   "id": "42aed6ecbb897742",
   "execution_count": 41,
   "outputs": []
  },
  {
   "cell_type": "code",
   "source": [
    "# check amount of rows with wife, low and female\n",
    "data[(data['marital status'] == 'Wife') & (data['income'] == 'low') & (data['sex'] == 'Female')].shape[0] / len(data)"
   ],
   "metadata": {
    "collapsed": false,
    "ExecuteTime": {
     "end_time": "2024-04-07T21:29:33.682082800Z",
     "start_time": "2024-04-07T21:29:33.512441Z"
    }
   },
   "id": "91d1990c27a25b49",
   "execution_count": 42,
   "outputs": []
  },
  {
   "cell_type": "code",
   "source": [
    "data['occupation'].value_counts() / len(data) * 100"
   ],
   "metadata": {
    "collapsed": false,
    "ExecuteTime": {
     "end_time": "2024-04-07T21:29:33.690061300Z",
     "start_time": "2024-04-07T21:29:33.536382300Z"
    }
   },
   "id": "e7af73403bce18f9",
   "execution_count": 43,
   "outputs": []
  },
  {
   "cell_type": "markdown",
   "source": [
    "### Final step"
   ],
   "metadata": {
    "collapsed": false
   },
   "id": "677af7b502368b95"
  },
  {
   "cell_type": "code",
   "source": [
    "data = data.drop(columns=['age', 'workinghours', 'education']) # we drop the original columns"
   ],
   "metadata": {
    "collapsed": false,
    "ExecuteTime": {
     "end_time": "2024-04-07T21:29:33.707015500Z",
     "start_time": "2024-04-07T21:29:33.549855200Z"
    }
   },
   "id": "c406900e8f2839f5",
   "execution_count": 44,
   "outputs": []
  },
  {
   "cell_type": "code",
   "source": [
    "data"
   ],
   "metadata": {
    "collapsed": false,
    "ExecuteTime": {
     "end_time": "2024-04-07T21:29:33.720978Z",
     "start_time": "2024-04-07T21:29:33.563436700Z"
    }
   },
   "id": "bd5ef2577ad54bb3",
   "execution_count": 45,
   "outputs": []
  },
  {
   "cell_type": "markdown",
   "source": [
    "### Writing the cleaned dataset to a new file"
   ],
   "metadata": {
    "collapsed": false
   },
   "id": "df57e990f6c89b38"
  },
  {
   "cell_type": "code",
   "source": [
    "# write cleaned dataset to new file\n",
    "save_dataset(data, \"../data/assignment1_income_levels_cleaned.xlsx\")"
   ],
   "metadata": {
    "collapsed": false,
    "ExecuteTime": {
     "end_time": "2024-04-07T21:29:36.135435700Z",
     "start_time": "2024-04-07T21:29:33.602296100Z"
    }
   },
   "id": "584085f3b0d93ea6",
   "execution_count": 47,
   "outputs": []
  }
 ],
 "metadata": {
  "kernelspec": {
   "display_name": "Python 3",
   "language": "python",
   "name": "python3"
  },
  "language_info": {
   "codemirror_mode": {
    "name": "ipython",
    "version": 2
   },
   "file_extension": ".py",
   "mimetype": "text/x-python",
   "name": "python",
   "nbconvert_exporter": "python",
   "pygments_lexer": "ipython2",
   "version": "2.7.6"
  }
 },
 "nbformat": 4,
 "nbformat_minor": 5
}
