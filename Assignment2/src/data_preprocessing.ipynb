{
 "cells": [
  {
   "cell_type": "code",
   "execution_count": 4,
   "id": "initial_id",
   "metadata": {
    "collapsed": true,
    "ExecuteTime": {
     "end_time": "2024-04-04T02:48:37.789837100Z",
     "start_time": "2024-04-04T02:48:37.729975900Z"
    }
   },
   "outputs": [],
   "source": [
    "import pandas as pd\n",
    "import matplotlib\n",
    "from matplotlib import pyplot as plt\n",
    "import seaborn as sns\n",
    "from helper_functions import load_dataset, save_dataset"
   ]
  },
  {
   "cell_type": "markdown",
   "source": [
    "### Loading the dataset"
   ],
   "metadata": {
    "collapsed": false
   },
   "id": "c78e6b2511ae4d27"
  },
  {
   "cell_type": "code",
   "outputs": [],
   "source": [
    "data = load_dataset(\"../data/assignment2_income.xlsx\")"
   ],
   "metadata": {
    "collapsed": false,
    "ExecuteTime": {
     "end_time": "2024-04-04T02:48:41.475778500Z",
     "start_time": "2024-04-04T02:48:37.775875200Z"
    }
   },
   "id": "4e165449a3c30d28",
   "execution_count": 5
  },
  {
   "cell_type": "code",
   "outputs": [],
   "source": [
    "data['ability to speak english'] = data['ability to speak english'].fillna(0)"
   ],
   "metadata": {
    "collapsed": false,
    "ExecuteTime": {
     "end_time": "2024-04-04T02:48:41.510200700Z",
     "start_time": "2024-04-04T02:48:41.475778500Z"
    }
   },
   "id": "c95e49135aeff2cf",
   "execution_count": 6
  },
  {
   "cell_type": "code",
   "outputs": [],
   "source": [
    "data['gave birth this year'] = data['gave birth this year'].fillna('No')"
   ],
   "metadata": {
    "collapsed": false,
    "ExecuteTime": {
     "end_time": "2024-04-04T02:48:41.525354100Z",
     "start_time": "2024-04-04T02:48:41.504210200Z"
    }
   },
   "id": "23210f30d5c0155b",
   "execution_count": 7
  },
  {
   "cell_type": "code",
   "outputs": [],
   "source": [
    "data['age'] = data['age'].astype('int8') # in our dataset: min age is 17 and max age is 93\n",
    "data['education'] = data['education'].astype('int8') # in our dataset: min education is 1 and max education is 24\n",
    "data['workinghours'] = data['workinghours'].astype('int8') # in our dataset: min working hours is 1 and max working hours is 99\n",
    "data['ability to speak english'] = data['ability to speak english'].astype('int8') # in our dataset: min number of 'ability to speak english' is 0 and max ability to speak english is 4"
   ],
   "metadata": {
    "collapsed": false,
    "ExecuteTime": {
     "end_time": "2024-04-04T02:48:41.542308800Z",
     "start_time": "2024-04-04T02:48:41.527349900Z"
    }
   },
   "id": "67988124ff4e1d98",
   "execution_count": 8
  },
  {
   "cell_type": "markdown",
   "source": [
    "### Binning columns: 'age', 'workinghours', 'education'"
   ],
   "metadata": {
    "collapsed": false
   },
   "id": "9b73ecadada7c16e"
  },
  {
   "cell_type": "code",
   "outputs": [],
   "source": [
    "data['age_bin'] = pd.cut(data['age'], bins=[0,28,38,49,65,93], labels=['(17-28]', '(28-38]', '(38-49]', '(49-65]', '(65-93]'])"
   ],
   "metadata": {
    "collapsed": false,
    "ExecuteTime": {
     "end_time": "2024-04-04T02:48:41.553913600Z",
     "start_time": "2024-04-04T02:48:41.537322100Z"
    }
   },
   "id": "c94869f6f0495603",
   "execution_count": 9
  },
  {
   "cell_type": "code",
   "outputs": [],
   "source": [
    "data['workinghours_bin'] = pd.cut(data['workinghours'], bins=[0, 30, 40, 99], labels=['Part-time', 'Full-time', 'Overtime'])"
   ],
   "metadata": {
    "collapsed": false,
    "ExecuteTime": {
     "end_time": "2024-04-04T02:48:41.565778800Z",
     "start_time": "2024-04-04T02:48:41.549925600Z"
    }
   },
   "id": "df5beba65825b41c",
   "execution_count": 10
  },
  {
   "cell_type": "code",
   "outputs": [],
   "source": [
    "data['education_bin'] = pd.cut(data['education'], bins=[0, 3, 12, 20, 24], labels=['Less than basic', 'Basic', 'Intermediate', 'Advanced'])"
   ],
   "metadata": {
    "collapsed": false,
    "ExecuteTime": {
     "end_time": "2024-04-04T02:48:41.584726200Z",
     "start_time": "2024-04-04T02:48:41.560488100Z"
    }
   },
   "id": "1a625808f07ffbe4",
   "execution_count": 11
  },
  {
   "cell_type": "markdown",
   "source": [
    "### Final step"
   ],
   "metadata": {
    "collapsed": false
   },
   "id": "677af7b502368b95"
  },
  {
   "cell_type": "code",
   "outputs": [],
   "source": [
    "data = data.drop(columns=['age', 'workinghours', 'education']) # we drop the original columns"
   ],
   "metadata": {
    "collapsed": false,
    "ExecuteTime": {
     "end_time": "2024-04-04T02:48:41.599026400Z",
     "start_time": "2024-04-04T02:48:41.570764300Z"
    }
   },
   "id": "c406900e8f2839f5",
   "execution_count": 12
  },
  {
   "cell_type": "code",
   "outputs": [
    {
     "data": {
      "text/plain": "          workclass marital status                   occupation     sex  \\\n0     self employed        Widowed                    Transport    Male   \n1           private       Divorced  Healthcare/Medical Services  Female   \n2           private       Divorced          Management/Business    Male   \n3           private        Husband                    Transport    Male   \n4           private        Husband                    Transport    Male   \n...             ...            ...                          ...     ...   \n8995        private  Never married                    Education  Female   \n8996   governmental           Wife                    Education  Female   \n8997   governmental           Wife  Healthcare/Medical Services  Female   \n8998        private        Husband          Management/Business    Male   \n8999        private           Wife                        Sales  Female   \n\n      ability to speak english gave birth this year income  age_bin  \\\n0                            0                   No   high  (49-65]   \n1                            0                   No    low  (49-65]   \n2                            0                   No    low  (49-65]   \n3                            0                   No    low  (49-65]   \n4                            0                   No    low  (28-38]   \n...                        ...                  ...    ...      ...   \n8995                         0                   No    low  (17-28]   \n8996                         0                   No   high  (49-65]   \n8997                         0                   No   high  (28-38]   \n8998                         0                   No    low  (49-65]   \n8999                         0                   No    low  (49-65]   \n\n     workinghours_bin education_bin  \n0            Overtime  Intermediate  \n1           Part-time  Intermediate  \n2           Full-time      Advanced  \n3           Full-time  Intermediate  \n4           Full-time  Intermediate  \n...               ...           ...  \n8995        Full-time  Intermediate  \n8996        Full-time      Advanced  \n8997         Overtime      Advanced  \n8998        Full-time  Intermediate  \n8999        Part-time  Intermediate  \n\n[9000 rows x 10 columns]",
      "text/html": "<div>\n<style scoped>\n    .dataframe tbody tr th:only-of-type {\n        vertical-align: middle;\n    }\n\n    .dataframe tbody tr th {\n        vertical-align: top;\n    }\n\n    .dataframe thead th {\n        text-align: right;\n    }\n</style>\n<table border=\"1\" class=\"dataframe\">\n  <thead>\n    <tr style=\"text-align: right;\">\n      <th></th>\n      <th>workclass</th>\n      <th>marital status</th>\n      <th>occupation</th>\n      <th>sex</th>\n      <th>ability to speak english</th>\n      <th>gave birth this year</th>\n      <th>income</th>\n      <th>age_bin</th>\n      <th>workinghours_bin</th>\n      <th>education_bin</th>\n    </tr>\n  </thead>\n  <tbody>\n    <tr>\n      <th>0</th>\n      <td>self employed</td>\n      <td>Widowed</td>\n      <td>Transport</td>\n      <td>Male</td>\n      <td>0</td>\n      <td>No</td>\n      <td>high</td>\n      <td>(49-65]</td>\n      <td>Overtime</td>\n      <td>Intermediate</td>\n    </tr>\n    <tr>\n      <th>1</th>\n      <td>private</td>\n      <td>Divorced</td>\n      <td>Healthcare/Medical Services</td>\n      <td>Female</td>\n      <td>0</td>\n      <td>No</td>\n      <td>low</td>\n      <td>(49-65]</td>\n      <td>Part-time</td>\n      <td>Intermediate</td>\n    </tr>\n    <tr>\n      <th>2</th>\n      <td>private</td>\n      <td>Divorced</td>\n      <td>Management/Business</td>\n      <td>Male</td>\n      <td>0</td>\n      <td>No</td>\n      <td>low</td>\n      <td>(49-65]</td>\n      <td>Full-time</td>\n      <td>Advanced</td>\n    </tr>\n    <tr>\n      <th>3</th>\n      <td>private</td>\n      <td>Husband</td>\n      <td>Transport</td>\n      <td>Male</td>\n      <td>0</td>\n      <td>No</td>\n      <td>low</td>\n      <td>(49-65]</td>\n      <td>Full-time</td>\n      <td>Intermediate</td>\n    </tr>\n    <tr>\n      <th>4</th>\n      <td>private</td>\n      <td>Husband</td>\n      <td>Transport</td>\n      <td>Male</td>\n      <td>0</td>\n      <td>No</td>\n      <td>low</td>\n      <td>(28-38]</td>\n      <td>Full-time</td>\n      <td>Intermediate</td>\n    </tr>\n    <tr>\n      <th>...</th>\n      <td>...</td>\n      <td>...</td>\n      <td>...</td>\n      <td>...</td>\n      <td>...</td>\n      <td>...</td>\n      <td>...</td>\n      <td>...</td>\n      <td>...</td>\n      <td>...</td>\n    </tr>\n    <tr>\n      <th>8995</th>\n      <td>private</td>\n      <td>Never married</td>\n      <td>Education</td>\n      <td>Female</td>\n      <td>0</td>\n      <td>No</td>\n      <td>low</td>\n      <td>(17-28]</td>\n      <td>Full-time</td>\n      <td>Intermediate</td>\n    </tr>\n    <tr>\n      <th>8996</th>\n      <td>governmental</td>\n      <td>Wife</td>\n      <td>Education</td>\n      <td>Female</td>\n      <td>0</td>\n      <td>No</td>\n      <td>high</td>\n      <td>(49-65]</td>\n      <td>Full-time</td>\n      <td>Advanced</td>\n    </tr>\n    <tr>\n      <th>8997</th>\n      <td>governmental</td>\n      <td>Wife</td>\n      <td>Healthcare/Medical Services</td>\n      <td>Female</td>\n      <td>0</td>\n      <td>No</td>\n      <td>high</td>\n      <td>(28-38]</td>\n      <td>Overtime</td>\n      <td>Advanced</td>\n    </tr>\n    <tr>\n      <th>8998</th>\n      <td>private</td>\n      <td>Husband</td>\n      <td>Management/Business</td>\n      <td>Male</td>\n      <td>0</td>\n      <td>No</td>\n      <td>low</td>\n      <td>(49-65]</td>\n      <td>Full-time</td>\n      <td>Intermediate</td>\n    </tr>\n    <tr>\n      <th>8999</th>\n      <td>private</td>\n      <td>Wife</td>\n      <td>Sales</td>\n      <td>Female</td>\n      <td>0</td>\n      <td>No</td>\n      <td>low</td>\n      <td>(49-65]</td>\n      <td>Part-time</td>\n      <td>Intermediate</td>\n    </tr>\n  </tbody>\n</table>\n<p>9000 rows × 10 columns</p>\n</div>"
     },
     "execution_count": 13,
     "metadata": {},
     "output_type": "execute_result"
    }
   ],
   "source": [
    "data"
   ],
   "metadata": {
    "collapsed": false,
    "ExecuteTime": {
     "end_time": "2024-04-04T02:48:41.656087700Z",
     "start_time": "2024-04-04T02:48:41.600024100Z"
    }
   },
   "id": "bd5ef2577ad54bb3",
   "execution_count": 13
  },
  {
   "cell_type": "markdown",
   "source": [
    "### Writing the cleaned dataset to a new file"
   ],
   "metadata": {
    "collapsed": false
   },
   "id": "df57e990f6c89b38"
  },
  {
   "cell_type": "code",
   "outputs": [],
   "source": [
    "# write cleaned dataset to new file\n",
    "save_dataset(data, \"../data/assignment2_income_cleaned.xlsx\")"
   ],
   "metadata": {
    "collapsed": false,
    "ExecuteTime": {
     "end_time": "2024-04-04T02:48:44.330688800Z",
     "start_time": "2024-04-04T02:48:41.655090Z"
    }
   },
   "id": "584085f3b0d93ea6",
   "execution_count": 14
  }
 ],
 "metadata": {
  "kernelspec": {
   "display_name": "Python 3",
   "language": "python",
   "name": "python3"
  },
  "language_info": {
   "codemirror_mode": {
    "name": "ipython",
    "version": 2
   },
   "file_extension": ".py",
   "mimetype": "text/x-python",
   "name": "python",
   "nbconvert_exporter": "python",
   "pygments_lexer": "ipython2",
   "version": "2.7.6"
  }
 },
 "nbformat": 4,
 "nbformat_minor": 5
}
