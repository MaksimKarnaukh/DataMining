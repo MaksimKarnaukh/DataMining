{
 "cells": [
  {
   "cell_type": "code",
   "execution_count": 1,
   "id": "initial_id",
   "metadata": {
    "collapsed": true,
    "ExecuteTime": {
     "end_time": "2024-04-04T02:46:59.386354800Z",
     "start_time": "2024-04-04T02:46:59.320531800Z"
    }
   },
   "outputs": [],
   "source": [
    "import pandas as pd\n",
    "import matplotlib\n",
    "from matplotlib import pyplot as plt\n",
    "import seaborn as sns\n",
    "from helper_functions import load_dataset, save_dataset"
   ]
  },
  {
   "cell_type": "markdown",
   "source": [
    "### Loading the dataset"
   ],
   "metadata": {
    "collapsed": false
   },
   "id": "c78e6b2511ae4d27"
  },
  {
   "cell_type": "code",
   "outputs": [
    {
     "name": "stdout",
     "output_type": "stream",
     "text": [
      "[Errno 2] No such file or directory: '../data/assignment2_income_levels.xlsx'\n",
      "Error: Unable to load dataset\n"
     ]
    }
   ],
   "source": [
    "data = load_dataset(\"../data/assignment2_income_levels.xlsx\")"
   ],
   "metadata": {
    "collapsed": false,
    "ExecuteTime": {
     "end_time": "2024-04-04T02:46:59.389347300Z",
     "start_time": "2024-04-04T02:46:59.362419500Z"
    }
   },
   "id": "4e165449a3c30d28",
   "execution_count": 2
  },
  {
   "cell_type": "code",
   "outputs": [
    {
     "ename": "TypeError",
     "evalue": "'NoneType' object is not subscriptable",
     "output_type": "error",
     "traceback": [
      "\u001B[1;31m---------------------------------------------------------------------------\u001B[0m",
      "\u001B[1;31mTypeError\u001B[0m                                 Traceback (most recent call last)",
      "Cell \u001B[1;32mIn[3], line 1\u001B[0m\n\u001B[1;32m----> 1\u001B[0m data[\u001B[38;5;124m'\u001B[39m\u001B[38;5;124mability to speak english\u001B[39m\u001B[38;5;124m'\u001B[39m] \u001B[38;5;241m=\u001B[39m \u001B[43mdata\u001B[49m\u001B[43m[\u001B[49m\u001B[38;5;124;43m'\u001B[39;49m\u001B[38;5;124;43mability to speak english\u001B[39;49m\u001B[38;5;124;43m'\u001B[39;49m\u001B[43m]\u001B[49m\u001B[38;5;241m.\u001B[39mfillna(\u001B[38;5;241m0\u001B[39m)\n",
      "\u001B[1;31mTypeError\u001B[0m: 'NoneType' object is not subscriptable"
     ]
    }
   ],
   "source": [
    "data['ability to speak english'] = data['ability to speak english'].fillna(0)"
   ],
   "metadata": {
    "collapsed": false,
    "ExecuteTime": {
     "end_time": "2024-04-04T02:47:00.085515Z",
     "start_time": "2024-04-04T02:46:59.365411300Z"
    }
   },
   "id": "c95e49135aeff2cf",
   "execution_count": 3
  },
  {
   "cell_type": "code",
   "outputs": [],
   "source": [
    "data['gave birth this year'] = data['gave birth this year'].fillna('No')"
   ],
   "metadata": {
    "collapsed": false,
    "ExecuteTime": {
     "start_time": "2024-04-04T02:47:00.076539200Z"
    }
   },
   "id": "23210f30d5c0155b",
   "execution_count": null
  },
  {
   "cell_type": "code",
   "outputs": [],
   "source": [
    "data['age'] = data['age'].astype('int8') # in our dataset: min age is 17 and max age is 93\n",
    "data['education'] = data['education'].astype('int8') # in our dataset: min education is 1 and max education is 24\n",
    "data['workinghours'] = data['workinghours'].astype('int8') # in our dataset: min working hours is 1 and max working hours is 99\n",
    "data['ability to speak english'] = data['ability to speak english'].astype('int8') # in our dataset: min number of 'ability to speak english' is 0 and max ability to speak english is 4"
   ],
   "metadata": {
    "collapsed": false,
    "ExecuteTime": {
     "start_time": "2024-04-04T02:47:00.079531Z"
    }
   },
   "id": "67988124ff4e1d98",
   "execution_count": null
  },
  {
   "cell_type": "markdown",
   "source": [
    "### Binning columns: 'age', 'workinghours', 'education'"
   ],
   "metadata": {
    "collapsed": false
   },
   "id": "9b73ecadada7c16e"
  },
  {
   "cell_type": "code",
   "outputs": [],
   "source": [
    "data['age_bin'] = pd.cut(data['age'], bins=[0,28,38,49,65,93], labels=['(17-28]', '(28-38]', '(38-49]', '(49-65]', '(65-93]'])"
   ],
   "metadata": {
    "collapsed": false,
    "ExecuteTime": {
     "start_time": "2024-04-04T02:47:00.081525500Z"
    }
   },
   "id": "c94869f6f0495603",
   "execution_count": null
  },
  {
   "cell_type": "code",
   "outputs": [],
   "source": [
    "data['workinghours_bin'] = pd.cut(data['workinghours'], bins=[0, 30, 40, 99], labels=['Part-time', 'Full-time', 'Overtime'])"
   ],
   "metadata": {
    "collapsed": false,
    "ExecuteTime": {
     "start_time": "2024-04-04T02:47:00.083520700Z"
    }
   },
   "id": "df5beba65825b41c",
   "execution_count": null
  },
  {
   "cell_type": "code",
   "outputs": [],
   "source": [
    "data['education_bin'] = pd.cut(data['education'], bins=[0, 3, 12, 20, 24], labels=['Less than basic', 'Basic', 'Intermediate', 'Advanced'])"
   ],
   "metadata": {
    "collapsed": false,
    "ExecuteTime": {
     "end_time": "2024-04-04T02:47:00.087509700Z",
     "start_time": "2024-04-04T02:47:00.086512800Z"
    }
   },
   "id": "1a625808f07ffbe4",
   "execution_count": null
  },
  {
   "cell_type": "markdown",
   "source": [
    "### Final step"
   ],
   "metadata": {
    "collapsed": false
   },
   "id": "677af7b502368b95"
  },
  {
   "cell_type": "code",
   "outputs": [],
   "source": [
    "data = data.drop(columns=['age', 'workinghours', 'education']) # we drop the original columns"
   ],
   "metadata": {
    "collapsed": false,
    "ExecuteTime": {
     "start_time": "2024-04-04T02:47:00.088507200Z"
    }
   },
   "id": "c406900e8f2839f5",
   "execution_count": null
  },
  {
   "cell_type": "code",
   "outputs": [],
   "source": [
    "data"
   ],
   "metadata": {
    "collapsed": false,
    "ExecuteTime": {
     "start_time": "2024-04-04T02:47:00.090502Z"
    }
   },
   "id": "bd5ef2577ad54bb3",
   "execution_count": null
  },
  {
   "cell_type": "markdown",
   "source": [
    "### Writing the cleaned dataset to a new file"
   ],
   "metadata": {
    "collapsed": false
   },
   "id": "df57e990f6c89b38"
  },
  {
   "cell_type": "code",
   "outputs": [],
   "source": [
    "# write cleaned dataset to new file\n",
    "save_dataset(data, \"../data/assignment2_income_levels_cleaned.xlsx\")"
   ],
   "metadata": {
    "collapsed": false,
    "ExecuteTime": {
     "start_time": "2024-04-04T02:47:00.092496400Z"
    }
   },
   "id": "584085f3b0d93ea6",
   "execution_count": null
  }
 ],
 "metadata": {
  "kernelspec": {
   "display_name": "Python 3",
   "language": "python",
   "name": "python3"
  },
  "language_info": {
   "codemirror_mode": {
    "name": "ipython",
    "version": 2
   },
   "file_extension": ".py",
   "mimetype": "text/x-python",
   "name": "python",
   "nbconvert_exporter": "python",
   "pygments_lexer": "ipython2",
   "version": "2.7.6"
  }
 },
 "nbformat": 4,
 "nbformat_minor": 5
}
