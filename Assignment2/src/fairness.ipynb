{
 "cells": [
  {
   "cell_type": "code",
   "execution_count": 116,
   "id": "initial_id",
   "metadata": {
    "collapsed": true,
    "ExecuteTime": {
     "end_time": "2024-04-29T03:05:36.998003700Z",
     "start_time": "2024-04-29T03:05:36.904912900Z"
    }
   },
   "outputs": [],
   "source": [
    "import warnings\n",
    "warnings.filterwarnings(\"ignore\")\n",
    "\n",
    "from typing import List, Tuple\n",
    "from helper.helper_functions import load_dataset, save_model, get_features_and_target, encode_all_features\n",
    "from helper.fairness_functions import statistical_measures, print_conf_matrix\n",
    "import pandas as pd\n",
    "import numpy as np\n",
    "import matplotlib.pyplot as plt\n",
    "\n",
    "from sklearn.model_selection import train_test_split\n",
    "from sklearn.metrics import make_scorer, accuracy_score, classification_report\n",
    "from sklearn.model_selection import GridSearchCV, StratifiedKFold\n",
    "from sklearn.neighbors import KNeighborsClassifier\n",
    "from sklearn.feature_selection import SequentialFeatureSelector\n",
    "from sklearn.tree import DecisionTreeClassifier\n",
    "from sklearn.metrics import precision_score, recall_score, f1_score, confusion_matrix"
   ]
  },
  {
   "cell_type": "code",
   "outputs": [],
   "source": [
    "data = load_dataset('../data/assignment2_income_cleaned.xlsx')"
   ],
   "metadata": {
    "collapsed": false,
    "ExecuteTime": {
     "end_time": "2024-04-29T03:05:39.612446100Z",
     "start_time": "2024-04-29T03:05:36.944148600Z"
    }
   },
   "id": "d498b42a08dba28f",
   "execution_count": 117
  },
  {
   "cell_type": "code",
   "outputs": [],
   "source": [
    "# Splitting the data into features (X) and target (y)\n",
    "X, y = get_features_and_target(data, 'income')\n",
    "columns_to_exclude = ['age', 'ability to speak english', 'gave birth this year']\n",
    "# Encoding the features and target, and excluding some columns\n",
    "X_encoded, y_encoded = encode_all_features(X, y, [])\n",
    "# Splitting the dataset into training and testing sets\n",
    "X_train, X_test, y_train, y_test = train_test_split(X_encoded, y_encoded, test_size=0.2, random_state=42)"
   ],
   "metadata": {
    "collapsed": false,
    "ExecuteTime": {
     "end_time": "2024-04-29T03:05:39.642679Z",
     "start_time": "2024-04-29T03:05:39.613443800Z"
    }
   },
   "id": "4aff552c13cb8e7d",
   "execution_count": 118
  },
  {
   "cell_type": "code",
   "outputs": [
    {
     "data": {
      "text/plain": "      age  education  workinghours  ability to speak english  \\\n6317   22         16            36                         0   \n740    61         22            40                         1   \n3781   48         16            40                         0   \n7850   62         18            65                         0   \n2963   53         19            44                         0   \n\n      gave birth this year_No  gave birth this year_Yes  \\\n6317                        1                         0   \n740                         1                         0   \n3781                        1                         0   \n7850                        1                         0   \n2963                        1                         0   \n\n      marital status_Divorced  marital status_Husband  \\\n6317                        0                       1   \n740                         1                       0   \n3781                        1                       0   \n7850                        0                       1   \n2963                        1                       0   \n\n      marital status_Never married  marital status_Separated  ...  \\\n6317                             0                         0  ...   \n740                              0                         0  ...   \n3781                             0                         0  ...   \n7850                             0                         0  ...   \n2963                             0                         0  ...   \n\n      occupation_Sales  occupation_Science, Engineering, Technology  \\\n6317                 0                                            0   \n740                  1                                            0   \n3781                 0                                            0   \n7850                 0                                            0   \n2963                 0                                            0   \n\n      occupation_Service/Hospitality  occupation_Transport  sex_Female  \\\n6317                               0                     0           0   \n740                                0                     0           0   \n3781                               0                     0           1   \n7850                               0                     0           0   \n2963                               0                     0           1   \n\n      sex_Male  workclass_governmental  workclass_no paid work  \\\n6317         1                       0                       0   \n740          1                       0                       0   \n3781         0                       0                       0   \n7850         1                       0                       0   \n2963         0                       1                       0   \n\n      workclass_private  workclass_self employed  \n6317                  1                        0  \n740                   0                        1  \n3781                  1                        0  \n7850                  1                        0  \n2963                  0                        0  \n\n[5 rows x 36 columns]",
      "text/html": "<div>\n<style scoped>\n    .dataframe tbody tr th:only-of-type {\n        vertical-align: middle;\n    }\n\n    .dataframe tbody tr th {\n        vertical-align: top;\n    }\n\n    .dataframe thead th {\n        text-align: right;\n    }\n</style>\n<table border=\"1\" class=\"dataframe\">\n  <thead>\n    <tr style=\"text-align: right;\">\n      <th></th>\n      <th>age</th>\n      <th>education</th>\n      <th>workinghours</th>\n      <th>ability to speak english</th>\n      <th>gave birth this year_No</th>\n      <th>gave birth this year_Yes</th>\n      <th>marital status_Divorced</th>\n      <th>marital status_Husband</th>\n      <th>marital status_Never married</th>\n      <th>marital status_Separated</th>\n      <th>...</th>\n      <th>occupation_Sales</th>\n      <th>occupation_Science, Engineering, Technology</th>\n      <th>occupation_Service/Hospitality</th>\n      <th>occupation_Transport</th>\n      <th>sex_Female</th>\n      <th>sex_Male</th>\n      <th>workclass_governmental</th>\n      <th>workclass_no paid work</th>\n      <th>workclass_private</th>\n      <th>workclass_self employed</th>\n    </tr>\n  </thead>\n  <tbody>\n    <tr>\n      <th>6317</th>\n      <td>22</td>\n      <td>16</td>\n      <td>36</td>\n      <td>0</td>\n      <td>1</td>\n      <td>0</td>\n      <td>0</td>\n      <td>1</td>\n      <td>0</td>\n      <td>0</td>\n      <td>...</td>\n      <td>0</td>\n      <td>0</td>\n      <td>0</td>\n      <td>0</td>\n      <td>0</td>\n      <td>1</td>\n      <td>0</td>\n      <td>0</td>\n      <td>1</td>\n      <td>0</td>\n    </tr>\n    <tr>\n      <th>740</th>\n      <td>61</td>\n      <td>22</td>\n      <td>40</td>\n      <td>1</td>\n      <td>1</td>\n      <td>0</td>\n      <td>1</td>\n      <td>0</td>\n      <td>0</td>\n      <td>0</td>\n      <td>...</td>\n      <td>1</td>\n      <td>0</td>\n      <td>0</td>\n      <td>0</td>\n      <td>0</td>\n      <td>1</td>\n      <td>0</td>\n      <td>0</td>\n      <td>0</td>\n      <td>1</td>\n    </tr>\n    <tr>\n      <th>3781</th>\n      <td>48</td>\n      <td>16</td>\n      <td>40</td>\n      <td>0</td>\n      <td>1</td>\n      <td>0</td>\n      <td>1</td>\n      <td>0</td>\n      <td>0</td>\n      <td>0</td>\n      <td>...</td>\n      <td>0</td>\n      <td>0</td>\n      <td>0</td>\n      <td>0</td>\n      <td>1</td>\n      <td>0</td>\n      <td>0</td>\n      <td>0</td>\n      <td>1</td>\n      <td>0</td>\n    </tr>\n    <tr>\n      <th>7850</th>\n      <td>62</td>\n      <td>18</td>\n      <td>65</td>\n      <td>0</td>\n      <td>1</td>\n      <td>0</td>\n      <td>0</td>\n      <td>1</td>\n      <td>0</td>\n      <td>0</td>\n      <td>...</td>\n      <td>0</td>\n      <td>0</td>\n      <td>0</td>\n      <td>0</td>\n      <td>0</td>\n      <td>1</td>\n      <td>0</td>\n      <td>0</td>\n      <td>1</td>\n      <td>0</td>\n    </tr>\n    <tr>\n      <th>2963</th>\n      <td>53</td>\n      <td>19</td>\n      <td>44</td>\n      <td>0</td>\n      <td>1</td>\n      <td>0</td>\n      <td>1</td>\n      <td>0</td>\n      <td>0</td>\n      <td>0</td>\n      <td>...</td>\n      <td>0</td>\n      <td>0</td>\n      <td>0</td>\n      <td>0</td>\n      <td>1</td>\n      <td>0</td>\n      <td>1</td>\n      <td>0</td>\n      <td>0</td>\n      <td>0</td>\n    </tr>\n  </tbody>\n</table>\n<p>5 rows × 36 columns</p>\n</div>"
     },
     "execution_count": 119,
     "metadata": {},
     "output_type": "execute_result"
    }
   ],
   "source": [
    "X_train.head()"
   ],
   "metadata": {
    "collapsed": false,
    "ExecuteTime": {
     "end_time": "2024-04-29T03:05:39.657959100Z",
     "start_time": "2024-04-29T03:05:39.639686900Z"
    }
   },
   "id": "8f0f6f1d9a6925a1",
   "execution_count": 119
  },
  {
   "cell_type": "code",
   "outputs": [
    {
     "name": "stdout",
     "output_type": "stream",
     "text": [
      "Disparate Impact (DI): 0.525\n",
      "Discrimination Score (DS): -0.198\n",
      "Equal Opportunity Difference (EO): 0.179\n",
      "Equalized Odds (EOdds): 0.097\n",
      "\n",
      "Confusion Matrix: \n",
      "Percentage of True positives = 0.21777777777777776\n",
      "Percentage of True negatives = 0.5177777777777778\n",
      "Percentage of False positives = 0.135\n",
      "Percentage of False negatives = 0.12944444444444445\n",
      "FPR:  0.20680851063829786\n",
      "TPR:  0.6272\n",
      "PPP:  0.6173228346456693\n"
     ]
    }
   ],
   "source": [
    "X_test['sex'] = X_test['sex_Male'] * 1\n",
    "X_train['sex'] = X_train['sex_Male'] * 1\n",
    "X_test = X_test.drop(columns=['sex_Male', 'sex_Female'])\n",
    "X_train = X_train.drop(columns=['sex_Male', 'sex_Female'])\n",
    "\n",
    "DI, DS, EO, EOdds, conf_matrix = statistical_measures(X_train, y_train, X_test, y_test, 'sex', use_lib_implementation=False)\n",
    "    \n",
    "print(f\"Disparate Impact (DI): {DI:.3f}\")\n",
    "print(f\"Discrimination Score (DS): {DS:.3f}\")\n",
    "print(f\"Equal Opportunity Difference (EO): {EO:.3f}\")\n",
    "print(f\"Equalized Odds (EOdds): {EOdds:.3f}\")\n",
    "\n",
    "print_conf_matrix(conf_matrix)"
   ],
   "metadata": {
    "collapsed": false,
    "ExecuteTime": {
     "end_time": "2024-04-29T03:05:40.072743Z",
     "start_time": "2024-04-29T03:05:39.659953800Z"
    }
   },
   "id": "f0e75972341ef24f",
   "execution_count": 120
  },
  {
   "cell_type": "code",
   "outputs": [],
   "source": [
    "def get_metrics(y_true: np.ndarray, y_pred: np.ndarray) -> Tuple[float, float, float, float]:\n",
    "    accuracy = accuracy_score(y_true, y_pred)\n",
    "    precision = precision_score(y_true, y_pred)\n",
    "    recall = recall_score(y_true, y_pred)\n",
    "    f1 = f1_score(y_true, y_pred)\n",
    "    return accuracy, precision, recall, f1\n",
    "#model, X_train, X_test, y_train, y_test\n",
    "def split_male_female_metrics(data: pd.DataFrame, is_encoded: bool = True) -> pd.DataFrame:\n",
    "    \n",
    "    X_, y_ = get_features_and_target(data, 'income')\n",
    "    if not is_encoded:\n",
    "        X_, y_ = encode_all_features(X_, y_, [])\n",
    "        \n",
    "    model = DecisionTreeClassifier(random_state=42)\n",
    "    X_train, X_test, y_train, y_test = train_test_split(X_, y_, test_size=0.2, random_state=42)\n",
    "    model.fit(X_train, y_train)\n",
    "        \n",
    "    X_male_train = X_train[X_train['sex_Male'] == 1]\n",
    "    X_male_test = X_test[X_test['sex_Male'] == 1]\n",
    "    y_male_train = y_train[X_train['sex_Male'] == 1]\n",
    "    y_male_test = y_test[X_test['sex_Male'] == 1]\n",
    "    \n",
    "    y_male_pred = model.predict(X_male_test)\n",
    "    \n",
    "    male_accuracy, male_precision, male_recall, male_f1 = get_metrics(y_male_test, y_male_pred)\n",
    "    \n",
    "    X_female_train = X_train[X_train['sex_Male'] == 0]\n",
    "    X_female_test = X_test[X_test['sex_Male'] == 0]\n",
    "    y_female_train = y_train[X_train['sex_Male'] == 0]\n",
    "    y_female_test = y_test[X_test['sex_Male'] == 0]\n",
    "    \n",
    "    y_female_pred = model.predict(X_female_test)\n",
    "    \n",
    "    female_accuracy, female_precision, female_recall, female_f1 = get_metrics(y_female_test, y_female_pred)\n",
    "    \n",
    "    # calculate male conf matrix\n",
    "    conf_matrix_male = confusion_matrix(y_male_test, y_male_pred)\n",
    "    # calculate male conf matrix\n",
    "    conf_matrix_female = confusion_matrix(y_female_test, y_female_pred)\n",
    "    \n",
    "    print(\"\\nConfusion Matrix for Male group\")\n",
    "    print_conf_matrix(conf_matrix_male)\n",
    "    print(\"\\nConfusion Matrix for Female group\")\n",
    "    print_conf_matrix(conf_matrix_female)\n",
    "    \n",
    "    # Compare the model's accuracy for male and female groups\n",
    "    metrics_table = pd.DataFrame({\n",
    "        'Gender': ['Male', 'Female'],\n",
    "        'Accuracy': [male_accuracy, female_accuracy],\n",
    "        'Precision': [male_precision, female_precision],\n",
    "        'Recall': [male_recall, female_recall],\n",
    "        'F1-score': [male_f1, female_f1]\n",
    "    })\n",
    "    \n",
    "    return metrics_table\n",
    "\n",
    "# def split_male_female_metrics(data: pd.DataFrame, is_encoded: bool = True) -> pd.DataFrame:\n",
    "#     \n",
    "#     X_, y_ = get_features_and_target(data, 'income')\n",
    "#     if not is_encoded:\n",
    "#         X_, y_ = encode_all_features(X_, y_, ['sex'])\n",
    "#         X_['sex'] = X_['sex'].map({'Female': 0, 'Male': 1})\n",
    "#         \n",
    "#     model = DecisionTreeClassifier(random_state=42)\n",
    "#     X_train, X_test, y_train, y_test = train_test_split(X_, y_, test_size=0.2, random_state=42)\n",
    "#     model.fit(X_train, y_train)\n",
    "#         \n",
    "#     X_male = X_[X_['sex'] == 1]\n",
    "#     X_female = X_[X_['sex'] == 0]\n",
    "#     y_male = y_[X_['sex'] == 1]\n",
    "#     y_female = y_[X_['sex'] == 0]\n",
    "#     \n",
    "#     print(f\"Length of Male dataset: {len(X_male)}\")\n",
    "#     print(f\"Length of Female dataset: {len(X_female)}\")\n",
    "#     \n",
    "#     # X_male_train, X_male_test, y_male_train, y_male_test = train_test_split(X_male, y_male, test_size=0.2, random_state=42)\n",
    "#     X_male_train = X_train[X_train['sex'] == 1]\n",
    "#     X_male_test = X_test[X_test['sex'] == 1]\n",
    "#     y_male_train = y_train[X_train['sex'] == 1]\n",
    "#     y_male_test = y_test[X_test['sex'] == 1]\n",
    "#     \n",
    "#     clf_male = model # DecisionTreeClassifier(random_state=42)\n",
    "#     # clf_male.fit(X_male_train, y_male_train)\n",
    "#     y_male_pred = clf_male.predict(X_male_test)\n",
    "#     \n",
    "#     male_accuracy, male_precision, male_recall, male_f1 = get_metrics(y_male_test, y_male_pred)\n",
    "#     \n",
    "#     # X_female_train, X_female_test, y_female_train, y_female_test = train_test_split(X_female, y_female, test_size=0.2, random_state=42)\n",
    "#     X_female_train = X_train[X_train['sex'] == 0]\n",
    "#     X_female_test = X_test[X_test['sex'] == 0]\n",
    "#     y_female_train = y_train[X_train['sex'] == 0]\n",
    "#     y_female_test = y_test[X_test['sex'] == 0]\n",
    "#     \n",
    "#     clf_female = model # DecisionTreeClassifier(random_state=42)\n",
    "#     # clf_female.fit(X_female_train, y_female_train)\n",
    "#     y_female_pred = clf_female.predict(X_female_test)\n",
    "#     \n",
    "#     female_accuracy, female_precision, female_recall, female_f1 = get_metrics(y_female_test, y_female_pred)\n",
    "#     \n",
    "#     # calculate male conf matrix\n",
    "#     conf_matrix_male = confusion_matrix(y_male_test, y_male_pred)\n",
    "#     # calculate male conf matrix\n",
    "#     conf_matrix_female = confusion_matrix(y_female_test, y_female_pred)\n",
    "#     \n",
    "#     print(\"\\nConfusion Matrix for Male group\")\n",
    "#     print_conf_matrix(conf_matrix_male)\n",
    "#     print(\"\\nConfusion Matrix for Female group\")\n",
    "#     print_conf_matrix(conf_matrix_female)\n",
    "#     \n",
    "#     # Compare the model's accuracy for male and female groups\n",
    "#     metrics_table = pd.DataFrame({\n",
    "#         'Gender': ['Male', 'Female'],\n",
    "#         'Accuracy': [male_accuracy, female_accuracy],\n",
    "#         'Precision': [male_precision, female_precision],\n",
    "#         'Recall': [male_recall, female_recall],\n",
    "#         'F1-score': [male_f1, female_f1]\n",
    "#     })\n",
    "#     \n",
    "#     return metrics_table"
   ],
   "metadata": {
    "collapsed": false,
    "ExecuteTime": {
     "end_time": "2024-04-29T03:05:40.082635Z",
     "start_time": "2024-04-29T03:05:40.068754800Z"
    }
   },
   "id": "88f2b3deef635717",
   "execution_count": 121
  },
  {
   "cell_type": "code",
   "outputs": [
    {
     "name": "stdout",
     "output_type": "stream",
     "text": [
      "\n",
      "Confusion Matrix for Male group\n",
      "\n",
      "Confusion Matrix: \n",
      "Percentage of True positives = 0.25\n",
      "Percentage of True negatives = 0.44950331125827814\n",
      "Percentage of False positives = 0.13741721854304637\n",
      "Percentage of False negatives = 0.1630794701986755\n",
      "FPR:  0.23413258110014104\n",
      "TPR:  0.6052104208416834\n",
      "PPP:  0.6452991452991453\n",
      "\n",
      "Confusion Matrix for Female group\n",
      "\n",
      "Confusion Matrix: \n",
      "Percentage of True positives = 0.10304054054054054\n",
      "Percentage of True negatives = 0.6587837837837838\n",
      "Percentage of False positives = 0.12837837837837837\n",
      "Percentage of False negatives = 0.1097972972972973\n",
      "FPR:  0.1630901287553648\n",
      "TPR:  0.48412698412698413\n",
      "PPP:  0.44525547445255476\n"
     ]
    },
    {
     "data": {
      "text/plain": "   Gender  Accuracy  Precision    Recall  F1-score\n0    Male  0.699503   0.645299  0.605210  0.624612\n1  Female  0.761824   0.445255  0.484127  0.463878",
      "text/html": "<div>\n<style scoped>\n    .dataframe tbody tr th:only-of-type {\n        vertical-align: middle;\n    }\n\n    .dataframe tbody tr th {\n        vertical-align: top;\n    }\n\n    .dataframe thead th {\n        text-align: right;\n    }\n</style>\n<table border=\"1\" class=\"dataframe\">\n  <thead>\n    <tr style=\"text-align: right;\">\n      <th></th>\n      <th>Gender</th>\n      <th>Accuracy</th>\n      <th>Precision</th>\n      <th>Recall</th>\n      <th>F1-score</th>\n    </tr>\n  </thead>\n  <tbody>\n    <tr>\n      <th>0</th>\n      <td>Male</td>\n      <td>0.699503</td>\n      <td>0.645299</td>\n      <td>0.605210</td>\n      <td>0.624612</td>\n    </tr>\n    <tr>\n      <th>1</th>\n      <td>Female</td>\n      <td>0.761824</td>\n      <td>0.445255</td>\n      <td>0.484127</td>\n      <td>0.463878</td>\n    </tr>\n  </tbody>\n</table>\n</div>"
     },
     "execution_count": 122,
     "metadata": {},
     "output_type": "execute_result"
    }
   ],
   "source": [
    "metrics_table = split_male_female_metrics(data, is_encoded=False)\n",
    "metrics_table"
   ],
   "metadata": {
    "collapsed": false,
    "ExecuteTime": {
     "end_time": "2024-04-29T03:05:40.194528100Z",
     "start_time": "2024-04-29T03:05:40.083633800Z"
    }
   },
   "id": "20db9bccac667b97",
   "execution_count": 122
  },
  {
   "cell_type": "markdown",
   "source": [
    "### Resampling the dataset"
   ],
   "metadata": {
    "collapsed": false
   },
   "id": "79d368309d19ae2f"
  },
  {
   "cell_type": "code",
   "outputs": [],
   "source": [
    "from imblearn.over_sampling import ADASYN\n",
    "\n",
    "adasyn = ADASYN(random_state=42)\n",
    "\n",
    "X_, y_ = get_features_and_target(data, 'income')\n",
    "X_, y_ = encode_all_features(X_, y_, ['sex'])\n",
    "X_['sex'] =  X_['sex'].map({'Female': 0, 'Male': 1})\n",
    "\n",
    "X_with_y = pd.concat([X_, y_], axis=1)\n",
    "\n",
    "X_ = X_with_y.drop(columns=['sex'])\n",
    "y_ = X_with_y['sex']\n",
    "\n",
    "# Resample the dataset\n",
    "X_resampled, y_resampled = adasyn.fit_resample(X_, y_)\n",
    "\n",
    "X_with_y_resampled = pd.concat([X_resampled, y_resampled], axis=1)"
   ],
   "metadata": {
    "collapsed": false,
    "ExecuteTime": {
     "end_time": "2024-04-29T03:05:41.636612100Z",
     "start_time": "2024-04-29T03:05:40.188545700Z"
    }
   },
   "id": "ae5c32688d9c4d35",
   "execution_count": 123
  },
  {
   "cell_type": "code",
   "outputs": [
    {
     "data": {
      "text/plain": "sex\n1    52.232959\n0    47.767041\nName: count, dtype: float64"
     },
     "execution_count": 124,
     "metadata": {},
     "output_type": "execute_result"
    }
   ],
   "source": [
    "X_with_y_resampled['sex'].value_counts() / len(X_with_y_resampled) * 100"
   ],
   "metadata": {
    "collapsed": false,
    "ExecuteTime": {
     "end_time": "2024-04-29T03:05:41.647990100Z",
     "start_time": "2024-04-29T03:05:41.634616800Z"
    }
   },
   "id": "98d7da67983a0359",
   "execution_count": 124
  },
  {
   "cell_type": "code",
   "outputs": [],
   "source": [
    "counts = X_with_y_resampled.groupby(['sex', 'income']).size().unstack(fill_value=0)\n",
    "total_counts = X_with_y_resampled['sex'].value_counts()\n",
    "# Calculate the percentage of each income level for each sex\n",
    "percentage = counts.div(total_counts, axis=0) * 100"
   ],
   "metadata": {
    "collapsed": false,
    "ExecuteTime": {
     "end_time": "2024-04-29T03:05:41.677826500Z",
     "start_time": "2024-04-29T03:05:41.644997900Z"
    }
   },
   "id": "83ac8aca558462f8",
   "execution_count": 125
  },
  {
   "cell_type": "code",
   "outputs": [
    {
     "data": {
      "text/plain": "income          0          1\nsex                         \n0       84.344815  15.655185\n1       58.900000  41.100000",
      "text/html": "<div>\n<style scoped>\n    .dataframe tbody tr th:only-of-type {\n        vertical-align: middle;\n    }\n\n    .dataframe tbody tr th {\n        vertical-align: top;\n    }\n\n    .dataframe thead th {\n        text-align: right;\n    }\n</style>\n<table border=\"1\" class=\"dataframe\">\n  <thead>\n    <tr style=\"text-align: right;\">\n      <th>income</th>\n      <th>0</th>\n      <th>1</th>\n    </tr>\n    <tr>\n      <th>sex</th>\n      <th></th>\n      <th></th>\n    </tr>\n  </thead>\n  <tbody>\n    <tr>\n      <th>0</th>\n      <td>84.344815</td>\n      <td>15.655185</td>\n    </tr>\n    <tr>\n      <th>1</th>\n      <td>58.900000</td>\n      <td>41.100000</td>\n    </tr>\n  </tbody>\n</table>\n</div>"
     },
     "execution_count": 126,
     "metadata": {},
     "output_type": "execute_result"
    }
   ],
   "source": [
    "percentage"
   ],
   "metadata": {
    "collapsed": false,
    "ExecuteTime": {
     "end_time": "2024-04-29T03:05:41.678824Z",
     "start_time": "2024-04-29T03:05:41.661594100Z"
    }
   },
   "id": "f880b424447039ec",
   "execution_count": 126
  },
  {
   "cell_type": "code",
   "outputs": [],
   "source": [
    "X_, y_ = get_features_and_target(X_with_y_resampled, 'income')"
   ],
   "metadata": {
    "collapsed": false,
    "ExecuteTime": {
     "end_time": "2024-04-29T03:05:41.711658500Z",
     "start_time": "2024-04-29T03:05:41.674834900Z"
    }
   },
   "id": "39c6d5112818f332",
   "execution_count": 127
  },
  {
   "cell_type": "code",
   "outputs": [
    {
     "name": "stdout",
     "output_type": "stream",
     "text": [
      "Disparate Impact (DI): 0.355\n",
      "Discrimination Score (DS): -0.252\n",
      "Equal Opportunity Difference (EO): 0.094\n",
      "Equalized Odds (EOdds): 0.161\n",
      "\n",
      "Confusion Matrix: \n",
      "Percentage of True positives = 0.17275892080069627\n",
      "Percentage of True negatives = 0.6100957354221062\n",
      "Percentage of False positives = 0.10008703220191471\n",
      "Percentage of False negatives = 0.11705831157528286\n",
      "FPR:  0.1409313725490196\n",
      "TPR:  0.5960960960960962\n",
      "PPP:  0.6331738437001595\n"
     ]
    }
   ],
   "source": [
    "X_train, X_test, y_train, y_test = train_test_split(X_, y_, test_size=0.2, random_state=42)\n",
    "\n",
    "DI, DS, EO, EOdds, conf_matrix = statistical_measures(X_train, y_train, X_test, y_test, 'sex', use_lib_implementation=False)\n",
    "    \n",
    "print(f\"Disparate Impact (DI): {DI:.3f}\")\n",
    "print(f\"Discrimination Score (DS): {DS:.3f}\")\n",
    "print(f\"Equal Opportunity Difference (EO): {EO:.3f}\")\n",
    "print(f\"Equalized Odds (EOdds): {EOdds:.3f}\")\n",
    "\n",
    "print_conf_matrix(conf_matrix)"
   ],
   "metadata": {
    "collapsed": false,
    "ExecuteTime": {
     "end_time": "2024-04-29T03:05:42.677730300Z",
     "start_time": "2024-04-29T03:05:41.685728600Z"
    }
   },
   "id": "2f8df55640d4bceb",
   "execution_count": 128
  },
  {
   "cell_type": "code",
   "outputs": [
    {
     "name": "stdout",
     "output_type": "stream",
     "text": [
      "\n",
      "Confusion Matrix for Male group\n",
      "\n",
      "Confusion Matrix: \n",
      "Percentage of True positives = 0.2542927228127555\n",
      "Percentage of True negatives = 0.4260016353229763\n",
      "Percentage of False positives = 0.16189697465249386\n",
      "Percentage of False negatives = 0.15780866721177433\n",
      "FPR:  0.2753824756606398\n",
      "TPR:  0.6170634920634921\n",
      "PPP:  0.6110019646365422\n",
      "\n",
      "Confusion Matrix for Female group\n",
      "\n",
      "Confusion Matrix: \n",
      "Percentage of True positives = 0.08372093023255814\n",
      "Percentage of True negatives = 0.7683720930232558\n",
      "Percentage of False positives = 0.08093023255813954\n",
      "Percentage of False negatives = 0.06697674418604652\n",
      "FPR:  0.09529025191675794\n",
      "TPR:  0.5555555555555556\n",
      "PPP:  0.5084745762711864\n"
     ]
    }
   ],
   "source": [
    "X_with_y_resampled['sex'] =  X_with_y_resampled['sex'].map({0: 'Female', 1: 'Male'})\n",
    "X_with_y_resampled = pd.get_dummies(X_with_y_resampled, columns=['sex'], dtype=int)\n",
    "metrics_table = split_male_female_metrics(X_with_y_resampled, is_encoded=True)"
   ],
   "metadata": {
    "collapsed": false,
    "ExecuteTime": {
     "end_time": "2024-04-29T03:05:42.769785900Z",
     "start_time": "2024-04-29T03:05:42.676733100Z"
    }
   },
   "id": "adb4d7f2941c640",
   "execution_count": 129
  },
  {
   "cell_type": "code",
   "outputs": [
    {
     "data": {
      "text/plain": "   Gender  Accuracy  Precision    Recall  F1-score\n0    Male  0.680294   0.611002  0.617063  0.614018\n1  Female  0.852093   0.508475  0.555556  0.530973",
      "text/html": "<div>\n<style scoped>\n    .dataframe tbody tr th:only-of-type {\n        vertical-align: middle;\n    }\n\n    .dataframe tbody tr th {\n        vertical-align: top;\n    }\n\n    .dataframe thead th {\n        text-align: right;\n    }\n</style>\n<table border=\"1\" class=\"dataframe\">\n  <thead>\n    <tr style=\"text-align: right;\">\n      <th></th>\n      <th>Gender</th>\n      <th>Accuracy</th>\n      <th>Precision</th>\n      <th>Recall</th>\n      <th>F1-score</th>\n    </tr>\n  </thead>\n  <tbody>\n    <tr>\n      <th>0</th>\n      <td>Male</td>\n      <td>0.680294</td>\n      <td>0.611002</td>\n      <td>0.617063</td>\n      <td>0.614018</td>\n    </tr>\n    <tr>\n      <th>1</th>\n      <td>Female</td>\n      <td>0.852093</td>\n      <td>0.508475</td>\n      <td>0.555556</td>\n      <td>0.530973</td>\n    </tr>\n  </tbody>\n</table>\n</div>"
     },
     "execution_count": 130,
     "metadata": {},
     "output_type": "execute_result"
    }
   ],
   "source": [
    "metrics_table"
   ],
   "metadata": {
    "collapsed": false,
    "ExecuteTime": {
     "end_time": "2024-04-29T03:05:42.789146300Z",
     "start_time": "2024-04-29T03:05:42.768788Z"
    }
   },
   "id": "d0b853af80db376f",
   "execution_count": 130
  }
 ],
 "metadata": {
  "kernelspec": {
   "display_name": "Python 3",
   "language": "python",
   "name": "python3"
  },
  "language_info": {
   "codemirror_mode": {
    "name": "ipython",
    "version": 2
   },
   "file_extension": ".py",
   "mimetype": "text/x-python",
   "name": "python",
   "nbconvert_exporter": "python",
   "pygments_lexer": "ipython2",
   "version": "2.7.6"
  }
 },
 "nbformat": 4,
 "nbformat_minor": 5
}
