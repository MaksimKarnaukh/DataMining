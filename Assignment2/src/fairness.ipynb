{
 "cells": [
  {
   "cell_type": "code",
   "execution_count": 1,
   "id": "initial_id",
   "metadata": {
    "collapsed": true,
    "ExecuteTime": {
     "end_time": "2024-04-30T01:45:29.896216500Z",
     "start_time": "2024-04-30T01:45:29.263314500Z"
    }
   },
   "outputs": [
    {
     "name": "stderr",
     "output_type": "stream",
     "text": [
      "WARNING:root:No module named 'tensorflow': AdversarialDebiasing will be unavailable. To install, run:\n",
      "pip install 'aif360[AdversarialDebiasing]'\n",
      "WARNING:root:No module named 'tensorflow': AdversarialDebiasing will be unavailable. To install, run:\n",
      "pip install 'aif360[AdversarialDebiasing]'\n",
      "WARNING:root:No module named 'fairlearn': ExponentiatedGradientReduction will be unavailable. To install, run:\n",
      "pip install 'aif360[Reductions]'\n",
      "WARNING:root:No module named 'fairlearn': GridSearchReduction will be unavailable. To install, run:\n",
      "pip install 'aif360[Reductions]'\n",
      "WARNING:root:No module named 'inFairness': SenSeI and SenSR will be unavailable. To install, run:\n",
      "pip install 'aif360[inFairness]'\n",
      "WARNING:root:No module named 'fairlearn': GridSearchReduction will be unavailable. To install, run:\n",
      "pip install 'aif360[Reductions]'\n",
      "WARNING:root:No module named 'ot': ot_distance will be unavailable. To install, run:\n",
      "pip install 'aif360[OptimalTransport]'\n"
     ]
    }
   ],
   "source": [
    "import warnings\n",
    "warnings.filterwarnings(\"ignore\")\n",
    "\n",
    "from typing import List, Tuple\n",
    "from helper.helper_functions import load_dataset, save_model, get_features_and_target, encode_all_features\n",
    "from helper.fairness_functions import statistical_measures, print_conf_matrix, print_statistical_measures, calc_fairness_metrics, get_metrics\n",
    "import pandas as pd\n",
    "import numpy as np\n",
    "import matplotlib.pyplot as plt\n",
    "\n",
    "from sklearn.model_selection import train_test_split\n",
    "from sklearn.neighbors import KNeighborsClassifier\n",
    "from sklearn.tree import DecisionTreeClassifier\n",
    "from sklearn.metrics import confusion_matrix"
   ]
  },
  {
   "cell_type": "code",
   "outputs": [],
   "source": [
    "data = load_dataset('../data/assignment2_income_cleaned.xlsx')"
   ],
   "metadata": {
    "collapsed": false,
    "ExecuteTime": {
     "end_time": "2024-04-30T01:45:32.489397700Z",
     "start_time": "2024-04-30T01:45:29.892226900Z"
    }
   },
   "id": "d498b42a08dba28f",
   "execution_count": 2
  },
  {
   "cell_type": "code",
   "outputs": [],
   "source": [
    "# Splitting the data into features (X) and target (y)\n",
    "X, y = get_features_and_target(data, 'income')\n",
    "columns_to_exclude = ['age', 'ability to speak english', 'gave birth this year']\n",
    "# Encoding the features and target, and excluding some columns\n",
    "X_encoded, y_encoded = encode_all_features(X, y, [])\n",
    "# Splitting the dataset into training and testing sets\n",
    "X_train, X_test, y_train, y_test = train_test_split(X_encoded, y_encoded, test_size=0.2, random_state=42)"
   ],
   "metadata": {
    "collapsed": false,
    "ExecuteTime": {
     "end_time": "2024-04-30T01:45:32.514841Z",
     "start_time": "2024-04-30T01:45:32.492391Z"
    }
   },
   "id": "4aff552c13cb8e7d",
   "execution_count": 3
  },
  {
   "cell_type": "code",
   "outputs": [
    {
     "data": {
      "text/plain": "      age  education  workinghours  ability to speak english  \\\n6317   22         16            36                         0   \n740    61         22            40                         1   \n3781   48         16            40                         0   \n7850   62         18            65                         0   \n2963   53         19            44                         0   \n\n      marital status_Divorced  marital status_Husband  \\\n6317                        0                       1   \n740                         1                       0   \n3781                        1                       0   \n7850                        0                       1   \n2963                        1                       0   \n\n      marital status_Never married  marital status_Separated  \\\n6317                             0                         0   \n740                              0                         0   \n3781                             0                         0   \n7850                             0                         0   \n2963                             0                         0   \n\n      marital status_Widowed  marital status_Wife  ...  \\\n6317                       0                    0  ...   \n740                        0                    0  ...   \n3781                       0                    0  ...   \n7850                       0                    0  ...   \n2963                       0                    0  ...   \n\n      occupation_Office/Administrative Support  \\\n6317                                         0   \n740                                          0   \n3781                                         1   \n7850                                         0   \n2963                                         1   \n\n      occupation_Production/Assembly  occupation_Protective Services  \\\n6317                               1                               0   \n740                                0                               0   \n3781                               0                               0   \n7850                               1                               0   \n2963                               0                               0   \n\n      occupation_Repair/Maintenance  occupation_Sales  \\\n6317                              0                 0   \n740                               0                 1   \n3781                              0                 0   \n7850                              0                 0   \n2963                              0                 0   \n\n      occupation_Science, Engineering, Technology  \\\n6317                                            0   \n740                                             0   \n3781                                            0   \n7850                                            0   \n2963                                            0   \n\n      occupation_Service/Hospitality  occupation_Transport  sex_Female  \\\n6317                               0                     0           0   \n740                                0                     0           0   \n3781                               0                     0           1   \n7850                               0                     0           0   \n2963                               0                     0           1   \n\n      sex_Male  \n6317         1  \n740          1  \n3781         0  \n7850         1  \n2963         0  \n\n[5 rows x 36 columns]",
      "text/html": "<div>\n<style scoped>\n    .dataframe tbody tr th:only-of-type {\n        vertical-align: middle;\n    }\n\n    .dataframe tbody tr th {\n        vertical-align: top;\n    }\n\n    .dataframe thead th {\n        text-align: right;\n    }\n</style>\n<table border=\"1\" class=\"dataframe\">\n  <thead>\n    <tr style=\"text-align: right;\">\n      <th></th>\n      <th>age</th>\n      <th>education</th>\n      <th>workinghours</th>\n      <th>ability to speak english</th>\n      <th>marital status_Divorced</th>\n      <th>marital status_Husband</th>\n      <th>marital status_Never married</th>\n      <th>marital status_Separated</th>\n      <th>marital status_Widowed</th>\n      <th>marital status_Wife</th>\n      <th>...</th>\n      <th>occupation_Office/Administrative Support</th>\n      <th>occupation_Production/Assembly</th>\n      <th>occupation_Protective Services</th>\n      <th>occupation_Repair/Maintenance</th>\n      <th>occupation_Sales</th>\n      <th>occupation_Science, Engineering, Technology</th>\n      <th>occupation_Service/Hospitality</th>\n      <th>occupation_Transport</th>\n      <th>sex_Female</th>\n      <th>sex_Male</th>\n    </tr>\n  </thead>\n  <tbody>\n    <tr>\n      <th>6317</th>\n      <td>22</td>\n      <td>16</td>\n      <td>36</td>\n      <td>0</td>\n      <td>0</td>\n      <td>1</td>\n      <td>0</td>\n      <td>0</td>\n      <td>0</td>\n      <td>0</td>\n      <td>...</td>\n      <td>0</td>\n      <td>1</td>\n      <td>0</td>\n      <td>0</td>\n      <td>0</td>\n      <td>0</td>\n      <td>0</td>\n      <td>0</td>\n      <td>0</td>\n      <td>1</td>\n    </tr>\n    <tr>\n      <th>740</th>\n      <td>61</td>\n      <td>22</td>\n      <td>40</td>\n      <td>1</td>\n      <td>1</td>\n      <td>0</td>\n      <td>0</td>\n      <td>0</td>\n      <td>0</td>\n      <td>0</td>\n      <td>...</td>\n      <td>0</td>\n      <td>0</td>\n      <td>0</td>\n      <td>0</td>\n      <td>1</td>\n      <td>0</td>\n      <td>0</td>\n      <td>0</td>\n      <td>0</td>\n      <td>1</td>\n    </tr>\n    <tr>\n      <th>3781</th>\n      <td>48</td>\n      <td>16</td>\n      <td>40</td>\n      <td>0</td>\n      <td>1</td>\n      <td>0</td>\n      <td>0</td>\n      <td>0</td>\n      <td>0</td>\n      <td>0</td>\n      <td>...</td>\n      <td>1</td>\n      <td>0</td>\n      <td>0</td>\n      <td>0</td>\n      <td>0</td>\n      <td>0</td>\n      <td>0</td>\n      <td>0</td>\n      <td>1</td>\n      <td>0</td>\n    </tr>\n    <tr>\n      <th>7850</th>\n      <td>62</td>\n      <td>18</td>\n      <td>65</td>\n      <td>0</td>\n      <td>0</td>\n      <td>1</td>\n      <td>0</td>\n      <td>0</td>\n      <td>0</td>\n      <td>0</td>\n      <td>...</td>\n      <td>0</td>\n      <td>1</td>\n      <td>0</td>\n      <td>0</td>\n      <td>0</td>\n      <td>0</td>\n      <td>0</td>\n      <td>0</td>\n      <td>0</td>\n      <td>1</td>\n    </tr>\n    <tr>\n      <th>2963</th>\n      <td>53</td>\n      <td>19</td>\n      <td>44</td>\n      <td>0</td>\n      <td>1</td>\n      <td>0</td>\n      <td>0</td>\n      <td>0</td>\n      <td>0</td>\n      <td>0</td>\n      <td>...</td>\n      <td>1</td>\n      <td>0</td>\n      <td>0</td>\n      <td>0</td>\n      <td>0</td>\n      <td>0</td>\n      <td>0</td>\n      <td>0</td>\n      <td>1</td>\n      <td>0</td>\n    </tr>\n  </tbody>\n</table>\n<p>5 rows × 36 columns</p>\n</div>"
     },
     "execution_count": 4,
     "metadata": {},
     "output_type": "execute_result"
    }
   ],
   "source": [
    "X_train.head()"
   ],
   "metadata": {
    "collapsed": false,
    "ExecuteTime": {
     "end_time": "2024-04-30T01:45:32.541000900Z",
     "start_time": "2024-04-30T01:45:32.513843200Z"
    }
   },
   "id": "8f0f6f1d9a6925a1",
   "execution_count": 4
  },
  {
   "cell_type": "code",
   "outputs": [
    {
     "name": "stdout",
     "output_type": "stream",
     "text": [
      "Disparate Impact (DI): 0.525\n",
      "Discrimination Score (DS): -0.198\n",
      "Equal Opportunity Difference (EO): 0.179\n",
      "Equalized Odds (EOdds): 0.097\n",
      "\n",
      "Confusion Matrix: \n",
      "Percentage of True positives = 0.21777777777777776\n",
      "Percentage of True negatives = 0.5177777777777778\n",
      "Percentage of False positives = 0.135\n",
      "Percentage of False negatives = 0.12944444444444445\n",
      "FPR:  0.20680851063829786\n",
      "TPR:  0.6272\n",
      "PPP:  0.6173228346456693\n"
     ]
    }
   ],
   "source": [
    "X_test['sex'] = X_test['sex_Male'] * 1\n",
    "X_train['sex'] = X_train['sex_Male'] * 1\n",
    "X_test = X_test.drop(columns=['sex_Male', 'sex_Female'])\n",
    "X_train = X_train.drop(columns=['sex_Male', 'sex_Female'])\n",
    "\n",
    "model = KNeighborsClassifier(n_neighbors=5)\n",
    "model.fit(X_train, y_train)\n",
    "y_pred = model.predict(X_test)\n",
    "DI, DS, EO, EOdds, conf_matrix = statistical_measures(X_test, y_test, y_pred, 'sex', use_lib_implementation=False)\n",
    "    \n",
    "print_statistical_measures(DI, DS, EO, EOdds)\n",
    "\n",
    "print_conf_matrix(conf_matrix)"
   ],
   "metadata": {
    "collapsed": false,
    "ExecuteTime": {
     "end_time": "2024-04-30T01:45:33.451456200Z",
     "start_time": "2024-04-30T01:45:32.535016600Z"
    }
   },
   "id": "f0e75972341ef24f",
   "execution_count": 5
  },
  {
   "cell_type": "code",
   "outputs": [],
   "source": [
    "def split_male_female_metrics(model, X_train, X_test, y_train, y_test):\n",
    "\n",
    "    X_male_train = X_train[X_train['sex_Male'] == 1]\n",
    "    X_male_test = X_test[X_test['sex_Male'] == 1]\n",
    "    y_male_train = y_train[X_train['sex_Male'] == 1]\n",
    "    y_male_test = y_test[X_test['sex_Male'] == 1]\n",
    "\n",
    "    y_male_pred = model.predict(X_male_test)\n",
    "\n",
    "    male_accuracy, male_precision, male_recall, male_f1 = get_metrics(y_male_test, y_male_pred)\n",
    "\n",
    "    X_female_train = X_train[X_train['sex_Male'] == 0]\n",
    "    X_female_test = X_test[X_test['sex_Male'] == 0]\n",
    "    y_female_train = y_train[X_train['sex_Male'] == 0]\n",
    "    y_female_test = y_test[X_test['sex_Male'] == 0]\n",
    "\n",
    "    y_female_pred = model.predict(X_female_test)\n",
    "\n",
    "    female_accuracy, female_precision, female_recall, female_f1 = get_metrics(y_female_test, y_female_pred)\n",
    "\n",
    "    # calculate male conf matrix\n",
    "    conf_matrix_male = confusion_matrix(y_male_test, y_male_pred)\n",
    "    # calculate male conf matrix\n",
    "    conf_matrix_female = confusion_matrix(y_female_test, y_female_pred)\n",
    "\n",
    "    print(\"\\nConfusion Matrix for Male group\")\n",
    "    print_conf_matrix(conf_matrix_male)\n",
    "    print(\"\\nConfusion Matrix for Female group\")\n",
    "    print_conf_matrix(conf_matrix_female)\n",
    "\n",
    "    # Compare the model's accuracy for male and female groups\n",
    "    metrics_table = pd.DataFrame({\n",
    "        'Gender': ['Male', 'Female'],\n",
    "        'Accuracy': [male_accuracy, female_accuracy],\n",
    "        'Precision': [male_precision, female_precision],\n",
    "        'Recall': [male_recall, female_recall],\n",
    "        'F1-score': [male_f1, female_f1]\n",
    "    })\n",
    "\n",
    "    return metrics_table"
   ],
   "metadata": {
    "collapsed": false,
    "ExecuteTime": {
     "end_time": "2024-04-30T01:45:33.452452600Z",
     "start_time": "2024-04-30T01:45:33.383636900Z"
    }
   },
   "id": "88f2b3deef635717",
   "execution_count": 6
  },
  {
   "cell_type": "code",
   "outputs": [
    {
     "name": "stdout",
     "output_type": "stream",
     "text": [
      "\n",
      "Confusion Matrix for Male group\n",
      "\n",
      "Confusion Matrix: \n",
      "Percentage of True positives = 0.24917218543046357\n",
      "Percentage of True negatives = 0.4478476821192053\n",
      "Percentage of False positives = 0.1390728476821192\n",
      "Percentage of False negatives = 0.16390728476821192\n",
      "FPR:  0.23695345557122707\n",
      "TPR:  0.6032064128256514\n",
      "PPP:  0.6417910447761194\n",
      "\n",
      "Confusion Matrix for Female group\n",
      "\n",
      "Confusion Matrix: \n",
      "Percentage of True positives = 0.10304054054054054\n",
      "Percentage of True negatives = 0.6554054054054054\n",
      "Percentage of False positives = 0.13175675675675674\n",
      "Percentage of False negatives = 0.1097972972972973\n",
      "FPR:  0.16738197424892703\n",
      "TPR:  0.48412698412698413\n",
      "PPP:  0.43884892086330934\n"
     ]
    },
    {
     "data": {
      "text/plain": "   Gender  Accuracy  Precision    Recall  F1-score\n0    Male  0.697020   0.641791  0.603206  0.621901\n1  Female  0.758446   0.438849  0.484127  0.460377",
      "text/html": "<div>\n<style scoped>\n    .dataframe tbody tr th:only-of-type {\n        vertical-align: middle;\n    }\n\n    .dataframe tbody tr th {\n        vertical-align: top;\n    }\n\n    .dataframe thead th {\n        text-align: right;\n    }\n</style>\n<table border=\"1\" class=\"dataframe\">\n  <thead>\n    <tr style=\"text-align: right;\">\n      <th></th>\n      <th>Gender</th>\n      <th>Accuracy</th>\n      <th>Precision</th>\n      <th>Recall</th>\n      <th>F1-score</th>\n    </tr>\n  </thead>\n  <tbody>\n    <tr>\n      <th>0</th>\n      <td>Male</td>\n      <td>0.697020</td>\n      <td>0.641791</td>\n      <td>0.603206</td>\n      <td>0.621901</td>\n    </tr>\n    <tr>\n      <th>1</th>\n      <td>Female</td>\n      <td>0.758446</td>\n      <td>0.438849</td>\n      <td>0.484127</td>\n      <td>0.460377</td>\n    </tr>\n  </tbody>\n</table>\n</div>"
     },
     "execution_count": 7,
     "metadata": {},
     "output_type": "execute_result"
    }
   ],
   "source": [
    "model = DecisionTreeClassifier(random_state=42)\n",
    "X_train, X_test, y_train, y_test = train_test_split(X_encoded, y_encoded, test_size=0.2, random_state=42)\n",
    "model.fit(X_train, y_train)\n",
    "metrics_table = split_male_female_metrics(model, X_train, X_test, y_train, y_test)\n",
    "metrics_table"
   ],
   "metadata": {
    "collapsed": false,
    "ExecuteTime": {
     "end_time": "2024-04-30T01:45:33.516578600Z",
     "start_time": "2024-04-30T01:45:33.383636900Z"
    }
   },
   "id": "20db9bccac667b97",
   "execution_count": 7
  },
  {
   "cell_type": "markdown",
   "source": [
    "### Resampling the dataset"
   ],
   "metadata": {
    "collapsed": false
   },
   "id": "79d368309d19ae2f"
  },
  {
   "cell_type": "code",
   "outputs": [],
   "source": [
    "from imblearn.over_sampling import ADASYN\n",
    "\n",
    "adasyn = ADASYN(random_state=42)\n",
    "\n",
    "X_, y_ = get_features_and_target(data, 'income')\n",
    "X_, y_ = encode_all_features(X_, y_, ['sex'])\n",
    "X_['sex'] =  X_['sex'].map({'Female': 0, 'Male': 1})\n",
    "\n",
    "X_with_y = pd.concat([X_, y_], axis=1)\n",
    "\n",
    "X_ = X_with_y.drop(columns=['sex'])\n",
    "y_ = X_with_y['sex']\n",
    "\n",
    "# Resample the dataset\n",
    "X_resampled, y_resampled = adasyn.fit_resample(X_, y_)\n",
    "\n",
    "X_with_y_resampled = pd.concat([X_resampled, y_resampled], axis=1)"
   ],
   "metadata": {
    "collapsed": false,
    "ExecuteTime": {
     "end_time": "2024-04-30T01:45:35.692075Z",
     "start_time": "2024-04-30T01:45:33.509597600Z"
    }
   },
   "id": "ae5c32688d9c4d35",
   "execution_count": 8
  },
  {
   "cell_type": "code",
   "outputs": [
    {
     "data": {
      "text/plain": "sex\n1    52.232959\n0    47.767041\nName: count, dtype: float64"
     },
     "execution_count": 9,
     "metadata": {},
     "output_type": "execute_result"
    }
   ],
   "source": [
    "X_with_y_resampled['sex'].value_counts() / len(X_with_y_resampled) * 100"
   ],
   "metadata": {
    "collapsed": false,
    "ExecuteTime": {
     "end_time": "2024-04-30T01:45:35.700800200Z",
     "start_time": "2024-04-30T01:45:35.694070500Z"
    }
   },
   "id": "98d7da67983a0359",
   "execution_count": 9
  },
  {
   "cell_type": "code",
   "outputs": [],
   "source": [
    "counts = X_with_y_resampled.groupby(['sex', 'income']).size().unstack(fill_value=0)\n",
    "total_counts = X_with_y_resampled['sex'].value_counts()\n",
    "# Calculate the percentage of each income level for each sex\n",
    "percentage = counts.div(total_counts, axis=0) * 100"
   ],
   "metadata": {
    "collapsed": false,
    "ExecuteTime": {
     "end_time": "2024-04-30T01:45:35.738140800Z",
     "start_time": "2024-04-30T01:45:35.701797600Z"
    }
   },
   "id": "83ac8aca558462f8",
   "execution_count": 10
  },
  {
   "cell_type": "code",
   "outputs": [
    {
     "data": {
      "text/plain": "income          0          1\nsex                         \n0       84.344815  15.655185\n1       58.900000  41.100000",
      "text/html": "<div>\n<style scoped>\n    .dataframe tbody tr th:only-of-type {\n        vertical-align: middle;\n    }\n\n    .dataframe tbody tr th {\n        vertical-align: top;\n    }\n\n    .dataframe thead th {\n        text-align: right;\n    }\n</style>\n<table border=\"1\" class=\"dataframe\">\n  <thead>\n    <tr style=\"text-align: right;\">\n      <th>income</th>\n      <th>0</th>\n      <th>1</th>\n    </tr>\n    <tr>\n      <th>sex</th>\n      <th></th>\n      <th></th>\n    </tr>\n  </thead>\n  <tbody>\n    <tr>\n      <th>0</th>\n      <td>84.344815</td>\n      <td>15.655185</td>\n    </tr>\n    <tr>\n      <th>1</th>\n      <td>58.900000</td>\n      <td>41.100000</td>\n    </tr>\n  </tbody>\n</table>\n</div>"
     },
     "execution_count": 11,
     "metadata": {},
     "output_type": "execute_result"
    }
   ],
   "source": [
    "percentage"
   ],
   "metadata": {
    "collapsed": false,
    "ExecuteTime": {
     "end_time": "2024-04-30T01:45:35.752103400Z",
     "start_time": "2024-04-30T01:45:35.716980800Z"
    }
   },
   "id": "f880b424447039ec",
   "execution_count": 11
  },
  {
   "cell_type": "code",
   "outputs": [],
   "source": [
    "X_, y_ = get_features_and_target(X_with_y_resampled, 'income')"
   ],
   "metadata": {
    "collapsed": false,
    "ExecuteTime": {
     "end_time": "2024-04-30T01:45:35.753101300Z",
     "start_time": "2024-04-30T01:45:35.750108300Z"
    }
   },
   "id": "39c6d5112818f332",
   "execution_count": 12
  },
  {
   "cell_type": "code",
   "outputs": [
    {
     "name": "stdout",
     "output_type": "stream",
     "text": [
      "Disparate Impact (DI): 0.355\n",
      "Discrimination Score (DS): -0.252\n",
      "Equal Opportunity Difference (EO): 0.094\n",
      "Equalized Odds (EOdds): 0.161\n",
      "\n",
      "Confusion Matrix: \n",
      "Percentage of True positives = 0.17275892080069627\n",
      "Percentage of True negatives = 0.6100957354221062\n",
      "Percentage of False positives = 0.10008703220191471\n",
      "Percentage of False negatives = 0.11705831157528286\n",
      "FPR:  0.1409313725490196\n",
      "TPR:  0.5960960960960962\n",
      "PPP:  0.6331738437001595\n"
     ]
    }
   ],
   "source": [
    "X_train, X_test, y_train, y_test = train_test_split(X_, y_, test_size=0.2, random_state=42)\n",
    "\n",
    "model = KNeighborsClassifier(n_neighbors=5)\n",
    "model.fit(X_train, y_train)\n",
    "y_pred = model.predict(X_test)\n",
    "DI, DS, EO, EOdds, conf_matrix = statistical_measures(X_test, y_test, y_pred, 'sex', use_lib_implementation=False)\n",
    "    \n",
    "print_statistical_measures(DI, DS, EO, EOdds)\n",
    "\n",
    "print_conf_matrix(conf_matrix)"
   ],
   "metadata": {
    "collapsed": false,
    "ExecuteTime": {
     "end_time": "2024-04-30T01:45:37.149386400Z",
     "start_time": "2024-04-30T01:45:35.753101300Z"
    }
   },
   "id": "2f8df55640d4bceb",
   "execution_count": 13
  },
  {
   "cell_type": "code",
   "outputs": [
    {
     "name": "stdout",
     "output_type": "stream",
     "text": [
      "\n",
      "Confusion Matrix for Male group\n",
      "\n",
      "Confusion Matrix: \n",
      "Percentage of True positives = 0.2534750613246116\n",
      "Percentage of True negatives = 0.4309076042518397\n",
      "Percentage of False positives = 0.15699100572363042\n",
      "Percentage of False negatives = 0.15862632869991825\n",
      "FPR:  0.2670375521557719\n",
      "TPR:  0.6150793650793651\n",
      "PPP:  0.6175298804780877\n",
      "\n",
      "Confusion Matrix for Female group\n",
      "\n",
      "Confusion Matrix: \n",
      "Percentage of True positives = 0.0827906976744186\n",
      "Percentage of True negatives = 0.7637209302325582\n",
      "Percentage of False positives = 0.08558139534883721\n",
      "Percentage of False negatives = 0.06790697674418604\n",
      "FPR:  0.10076670317634173\n",
      "TPR:  0.5493827160493827\n",
      "PPP:  0.49171270718232046\n"
     ]
    }
   ],
   "source": [
    "X_with_y_resampled['sex'] =  X_with_y_resampled['sex'].map({0: 'Female', 1: 'Male'})\n",
    "X_with_y_resampled = pd.get_dummies(X_with_y_resampled, columns=['sex'], dtype=int)\n",
    "model = DecisionTreeClassifier(random_state=42)\n",
    "X_train, X_test, y_train, y_test = train_test_split(X_with_y_resampled.drop(columns=['income']), X_with_y_resampled['income'], test_size=0.2, random_state=42)\n",
    "model.fit(X_train, y_train)\n",
    "metrics_table = split_male_female_metrics(model, X_train, X_test, y_train, y_test)"
   ],
   "metadata": {
    "collapsed": false,
    "ExecuteTime": {
     "end_time": "2024-04-30T01:45:37.247595200Z",
     "start_time": "2024-04-30T01:45:37.144399300Z"
    }
   },
   "id": "adb4d7f2941c640",
   "execution_count": 14
  },
  {
   "cell_type": "code",
   "outputs": [
    {
     "data": {
      "text/plain": "   Gender  Accuracy  Precision    Recall  F1-score\n0    Male  0.684383   0.617530  0.615079  0.616302\n1  Female  0.846512   0.491713  0.549383  0.518950",
      "text/html": "<div>\n<style scoped>\n    .dataframe tbody tr th:only-of-type {\n        vertical-align: middle;\n    }\n\n    .dataframe tbody tr th {\n        vertical-align: top;\n    }\n\n    .dataframe thead th {\n        text-align: right;\n    }\n</style>\n<table border=\"1\" class=\"dataframe\">\n  <thead>\n    <tr style=\"text-align: right;\">\n      <th></th>\n      <th>Gender</th>\n      <th>Accuracy</th>\n      <th>Precision</th>\n      <th>Recall</th>\n      <th>F1-score</th>\n    </tr>\n  </thead>\n  <tbody>\n    <tr>\n      <th>0</th>\n      <td>Male</td>\n      <td>0.684383</td>\n      <td>0.617530</td>\n      <td>0.615079</td>\n      <td>0.616302</td>\n    </tr>\n    <tr>\n      <th>1</th>\n      <td>Female</td>\n      <td>0.846512</td>\n      <td>0.491713</td>\n      <td>0.549383</td>\n      <td>0.518950</td>\n    </tr>\n  </tbody>\n</table>\n</div>"
     },
     "execution_count": 15,
     "metadata": {},
     "output_type": "execute_result"
    }
   ],
   "source": [
    "metrics_table"
   ],
   "metadata": {
    "collapsed": false,
    "ExecuteTime": {
     "end_time": "2024-04-30T01:45:37.256749500Z",
     "start_time": "2024-04-30T01:45:37.241612500Z"
    }
   },
   "id": "d0b853af80db376f",
   "execution_count": 15
  }
 ],
 "metadata": {
  "kernelspec": {
   "display_name": "Python 3",
   "language": "python",
   "name": "python3"
  },
  "language_info": {
   "codemirror_mode": {
    "name": "ipython",
    "version": 2
   },
   "file_extension": ".py",
   "mimetype": "text/x-python",
   "name": "python",
   "nbconvert_exporter": "python",
   "pygments_lexer": "ipython2",
   "version": "2.7.6"
  }
 },
 "nbformat": 4,
 "nbformat_minor": 5
}
