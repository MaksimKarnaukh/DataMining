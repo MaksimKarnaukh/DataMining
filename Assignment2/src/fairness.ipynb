{
 "cells": [
  {
   "cell_type": "code",
   "execution_count": 131,
   "id": "initial_id",
   "metadata": {
    "collapsed": true,
    "ExecuteTime": {
     "end_time": "2024-04-24T22:57:43.743993300Z",
     "start_time": "2024-04-24T22:57:43.727040800Z"
    }
   },
   "outputs": [],
   "source": [
    "import warnings\n",
    "warnings.filterwarnings(\"ignore\")\n",
    "\n",
    "from typing import List, Tuple\n",
    "from helper.helper_functions import load_dataset, save_model, get_features_and_target, encode_all_features\n",
    "from helper.fairness_functions import statistical_measures\n",
    "import pandas as pd\n",
    "import numpy as np\n",
    "import matplotlib.pyplot as plt\n",
    "\n",
    "from sklearn.model_selection import train_test_split\n",
    "from sklearn.metrics import make_scorer, accuracy_score, classification_report\n",
    "from sklearn.model_selection import GridSearchCV, StratifiedKFold\n",
    "from sklearn.neighbors import KNeighborsClassifier\n",
    "from sklearn.feature_selection import SequentialFeatureSelector\n",
    "from sklearn.tree import DecisionTreeClassifier"
   ]
  },
  {
   "cell_type": "code",
   "outputs": [],
   "source": [
    "data = load_dataset('../data/assignment2_income_cleaned.xlsx')"
   ],
   "metadata": {
    "collapsed": false,
    "ExecuteTime": {
     "end_time": "2024-04-24T22:57:45.895227900Z",
     "start_time": "2024-04-24T22:57:43.751971800Z"
    }
   },
   "id": "d498b42a08dba28f",
   "execution_count": 132
  },
  {
   "cell_type": "code",
   "outputs": [],
   "source": [
    "# Splitting the data into features (X) and target (y)\n",
    "X, y = get_features_and_target(data, 'income')\n",
    "columns_to_exclude = ['age', 'ability to speak english', 'gave birth this year']\n",
    "# Encoding the features and target, and excluding some columns\n",
    "X_encoded, y_encoded = encode_all_features(X, y, [])\n",
    "# Splitting the dataset into training and testing sets\n",
    "X_train, X_test, y_train, y_test = train_test_split(X_encoded, y_encoded, test_size=0.2, random_state=42)"
   ],
   "metadata": {
    "collapsed": false,
    "ExecuteTime": {
     "end_time": "2024-04-24T22:57:45.920637700Z",
     "start_time": "2024-04-24T22:57:45.897223200Z"
    }
   },
   "id": "4aff552c13cb8e7d",
   "execution_count": 133
  },
  {
   "cell_type": "code",
   "outputs": [
    {
     "data": {
      "text/plain": "      age  education  workinghours  ability to speak english  \\\n6317   22         16            36                         0   \n740    61         22            40                         1   \n3781   48         16            40                         0   \n7850   62         18            65                         0   \n2963   53         19            44                         0   \n...   ...        ...           ...                       ...   \n5734   22         19            25                         0   \n5191   24         16            28                         0   \n5390   35         16            40                         0   \n860    23         20            40                         0   \n7270   70         19            40                         0   \n\n      workclass_governmental  workclass_no paid work  workclass_private  \\\n6317                       0                       0                  1   \n740                        0                       0                  0   \n3781                       0                       0                  1   \n7850                       0                       0                  1   \n2963                       1                       0                  0   \n...                      ...                     ...                ...   \n5734                       0                       0                  1   \n5191                       0                       0                  1   \n5390                       0                       0                  1   \n860                        0                       0                  1   \n7270                       0                       1                  0   \n\n      workclass_self employed  marital status_Divorced  \\\n6317                        0                        0   \n740                         1                        1   \n3781                        0                        1   \n7850                        0                        0   \n2963                        0                        1   \n...                       ...                      ...   \n5734                        0                        0   \n5191                        0                        0   \n5390                        0                        0   \n860                         0                        0   \n7270                        0                        1   \n\n      marital status_Husband  ...  occupation_Management/Business  \\\n6317                       1  ...                               0   \n740                        0  ...                               0   \n3781                       0  ...                               0   \n7850                       1  ...                               0   \n2963                       0  ...                               0   \n...                      ...  ...                             ...   \n5734                       0  ...                               0   \n5191                       0  ...                               0   \n5390                       0  ...                               0   \n860                        0  ...                               0   \n7270                       0  ...                               0   \n\n      occupation_Military Services  occupation_Office/Administrative Support  \\\n6317                             0                                         0   \n740                              0                                         0   \n3781                             0                                         1   \n7850                             0                                         0   \n2963                             0                                         1   \n...                            ...                                       ...   \n5734                             0                                         0   \n5191                             0                                         0   \n5390                             0                                         1   \n860                              0                                         0   \n7270                             0                                         1   \n\n      occupation_Production/Assembly  occupation_Protective Services  \\\n6317                               1                               0   \n740                                0                               0   \n3781                               0                               0   \n7850                               1                               0   \n2963                               0                               0   \n...                              ...                             ...   \n5734                               0                               0   \n5191                               0                               0   \n5390                               0                               0   \n860                                0                               0   \n7270                               0                               0   \n\n      occupation_Repair/Maintenance  occupation_Sales  \\\n6317                              0                 0   \n740                               0                 1   \n3781                              0                 0   \n7850                              0                 0   \n2963                              0                 0   \n...                             ...               ...   \n5734                              0                 0   \n5191                              0                 1   \n5390                              0                 0   \n860                               0                 0   \n7270                              0                 0   \n\n      occupation_Science, Engineering, Technology  \\\n6317                                            0   \n740                                             0   \n3781                                            0   \n7850                                            0   \n2963                                            0   \n...                                           ...   \n5734                                            0   \n5191                                            0   \n5390                                            0   \n860                                             0   \n7270                                            0   \n\n      occupation_Service/Hospitality  occupation_Transport  \n6317                               0                     0  \n740                                0                     0  \n3781                               0                     0  \n7850                               0                     0  \n2963                               0                     0  \n...                              ...                   ...  \n5734                               1                     0  \n5191                               0                     0  \n5390                               0                     0  \n860                                1                     0  \n7270                               0                     0  \n\n[7200 rows x 36 columns]",
      "text/html": "<div>\n<style scoped>\n    .dataframe tbody tr th:only-of-type {\n        vertical-align: middle;\n    }\n\n    .dataframe tbody tr th {\n        vertical-align: top;\n    }\n\n    .dataframe thead th {\n        text-align: right;\n    }\n</style>\n<table border=\"1\" class=\"dataframe\">\n  <thead>\n    <tr style=\"text-align: right;\">\n      <th></th>\n      <th>age</th>\n      <th>education</th>\n      <th>workinghours</th>\n      <th>ability to speak english</th>\n      <th>workclass_governmental</th>\n      <th>workclass_no paid work</th>\n      <th>workclass_private</th>\n      <th>workclass_self employed</th>\n      <th>marital status_Divorced</th>\n      <th>marital status_Husband</th>\n      <th>...</th>\n      <th>occupation_Management/Business</th>\n      <th>occupation_Military Services</th>\n      <th>occupation_Office/Administrative Support</th>\n      <th>occupation_Production/Assembly</th>\n      <th>occupation_Protective Services</th>\n      <th>occupation_Repair/Maintenance</th>\n      <th>occupation_Sales</th>\n      <th>occupation_Science, Engineering, Technology</th>\n      <th>occupation_Service/Hospitality</th>\n      <th>occupation_Transport</th>\n    </tr>\n  </thead>\n  <tbody>\n    <tr>\n      <th>6317</th>\n      <td>22</td>\n      <td>16</td>\n      <td>36</td>\n      <td>0</td>\n      <td>0</td>\n      <td>0</td>\n      <td>1</td>\n      <td>0</td>\n      <td>0</td>\n      <td>1</td>\n      <td>...</td>\n      <td>0</td>\n      <td>0</td>\n      <td>0</td>\n      <td>1</td>\n      <td>0</td>\n      <td>0</td>\n      <td>0</td>\n      <td>0</td>\n      <td>0</td>\n      <td>0</td>\n    </tr>\n    <tr>\n      <th>740</th>\n      <td>61</td>\n      <td>22</td>\n      <td>40</td>\n      <td>1</td>\n      <td>0</td>\n      <td>0</td>\n      <td>0</td>\n      <td>1</td>\n      <td>1</td>\n      <td>0</td>\n      <td>...</td>\n      <td>0</td>\n      <td>0</td>\n      <td>0</td>\n      <td>0</td>\n      <td>0</td>\n      <td>0</td>\n      <td>1</td>\n      <td>0</td>\n      <td>0</td>\n      <td>0</td>\n    </tr>\n    <tr>\n      <th>3781</th>\n      <td>48</td>\n      <td>16</td>\n      <td>40</td>\n      <td>0</td>\n      <td>0</td>\n      <td>0</td>\n      <td>1</td>\n      <td>0</td>\n      <td>1</td>\n      <td>0</td>\n      <td>...</td>\n      <td>0</td>\n      <td>0</td>\n      <td>1</td>\n      <td>0</td>\n      <td>0</td>\n      <td>0</td>\n      <td>0</td>\n      <td>0</td>\n      <td>0</td>\n      <td>0</td>\n    </tr>\n    <tr>\n      <th>7850</th>\n      <td>62</td>\n      <td>18</td>\n      <td>65</td>\n      <td>0</td>\n      <td>0</td>\n      <td>0</td>\n      <td>1</td>\n      <td>0</td>\n      <td>0</td>\n      <td>1</td>\n      <td>...</td>\n      <td>0</td>\n      <td>0</td>\n      <td>0</td>\n      <td>1</td>\n      <td>0</td>\n      <td>0</td>\n      <td>0</td>\n      <td>0</td>\n      <td>0</td>\n      <td>0</td>\n    </tr>\n    <tr>\n      <th>2963</th>\n      <td>53</td>\n      <td>19</td>\n      <td>44</td>\n      <td>0</td>\n      <td>1</td>\n      <td>0</td>\n      <td>0</td>\n      <td>0</td>\n      <td>1</td>\n      <td>0</td>\n      <td>...</td>\n      <td>0</td>\n      <td>0</td>\n      <td>1</td>\n      <td>0</td>\n      <td>0</td>\n      <td>0</td>\n      <td>0</td>\n      <td>0</td>\n      <td>0</td>\n      <td>0</td>\n    </tr>\n    <tr>\n      <th>...</th>\n      <td>...</td>\n      <td>...</td>\n      <td>...</td>\n      <td>...</td>\n      <td>...</td>\n      <td>...</td>\n      <td>...</td>\n      <td>...</td>\n      <td>...</td>\n      <td>...</td>\n      <td>...</td>\n      <td>...</td>\n      <td>...</td>\n      <td>...</td>\n      <td>...</td>\n      <td>...</td>\n      <td>...</td>\n      <td>...</td>\n      <td>...</td>\n      <td>...</td>\n      <td>...</td>\n    </tr>\n    <tr>\n      <th>5734</th>\n      <td>22</td>\n      <td>19</td>\n      <td>25</td>\n      <td>0</td>\n      <td>0</td>\n      <td>0</td>\n      <td>1</td>\n      <td>0</td>\n      <td>0</td>\n      <td>0</td>\n      <td>...</td>\n      <td>0</td>\n      <td>0</td>\n      <td>0</td>\n      <td>0</td>\n      <td>0</td>\n      <td>0</td>\n      <td>0</td>\n      <td>0</td>\n      <td>1</td>\n      <td>0</td>\n    </tr>\n    <tr>\n      <th>5191</th>\n      <td>24</td>\n      <td>16</td>\n      <td>28</td>\n      <td>0</td>\n      <td>0</td>\n      <td>0</td>\n      <td>1</td>\n      <td>0</td>\n      <td>0</td>\n      <td>0</td>\n      <td>...</td>\n      <td>0</td>\n      <td>0</td>\n      <td>0</td>\n      <td>0</td>\n      <td>0</td>\n      <td>0</td>\n      <td>1</td>\n      <td>0</td>\n      <td>0</td>\n      <td>0</td>\n    </tr>\n    <tr>\n      <th>5390</th>\n      <td>35</td>\n      <td>16</td>\n      <td>40</td>\n      <td>0</td>\n      <td>0</td>\n      <td>0</td>\n      <td>1</td>\n      <td>0</td>\n      <td>0</td>\n      <td>0</td>\n      <td>...</td>\n      <td>0</td>\n      <td>0</td>\n      <td>1</td>\n      <td>0</td>\n      <td>0</td>\n      <td>0</td>\n      <td>0</td>\n      <td>0</td>\n      <td>0</td>\n      <td>0</td>\n    </tr>\n    <tr>\n      <th>860</th>\n      <td>23</td>\n      <td>20</td>\n      <td>40</td>\n      <td>0</td>\n      <td>0</td>\n      <td>0</td>\n      <td>1</td>\n      <td>0</td>\n      <td>0</td>\n      <td>0</td>\n      <td>...</td>\n      <td>0</td>\n      <td>0</td>\n      <td>0</td>\n      <td>0</td>\n      <td>0</td>\n      <td>0</td>\n      <td>0</td>\n      <td>0</td>\n      <td>1</td>\n      <td>0</td>\n    </tr>\n    <tr>\n      <th>7270</th>\n      <td>70</td>\n      <td>19</td>\n      <td>40</td>\n      <td>0</td>\n      <td>0</td>\n      <td>1</td>\n      <td>0</td>\n      <td>0</td>\n      <td>1</td>\n      <td>0</td>\n      <td>...</td>\n      <td>0</td>\n      <td>0</td>\n      <td>1</td>\n      <td>0</td>\n      <td>0</td>\n      <td>0</td>\n      <td>0</td>\n      <td>0</td>\n      <td>0</td>\n      <td>0</td>\n    </tr>\n  </tbody>\n</table>\n<p>7200 rows × 36 columns</p>\n</div>"
     },
     "execution_count": 134,
     "metadata": {},
     "output_type": "execute_result"
    }
   ],
   "source": [
    "X_train"
   ],
   "metadata": {
    "collapsed": false,
    "ExecuteTime": {
     "end_time": "2024-04-24T22:57:45.936975200Z",
     "start_time": "2024-04-24T22:57:45.918656700Z"
    }
   },
   "id": "8f0f6f1d9a6925a1",
   "execution_count": 134
  },
  {
   "cell_type": "code",
   "outputs": [
    {
     "name": "stdout",
     "output_type": "stream",
     "text": [
      "Disparate Impact (DI): 0.525\n",
      "Discrimination Score (DS): -0.198\n",
      "Equal Opportunity Difference (EO): 0.179\n",
      "Equalized Odds (EOdds): 0.097\n"
     ]
    }
   ],
   "source": [
    "X_test['sex'] = X_test['sex_Male'] * 1\n",
    "X_train['sex'] = X_train['sex_Male'] * 1\n",
    "X_test = X_test.drop(columns=['sex_Male', 'sex_Female'])\n",
    "X_train = X_train.drop(columns=['sex_Male', 'sex_Female'])\n",
    "\n",
    "DI, DS, EO, EOdds = statistical_measures(X_train, y_train, X_test, y_test, 'sex', use_lib_implementation=False)\n",
    "    \n",
    "print(f\"Disparate Impact (DI): {DI:.3f}\")\n",
    "print(f\"Discrimination Score (DS): {DS:.3f}\")\n",
    "print(f\"Equal Opportunity Difference (EO): {EO:.3f}\")\n",
    "print(f\"Equalized Odds (EOdds): {EOdds:.3f}\")"
   ],
   "metadata": {
    "collapsed": false,
    "ExecuteTime": {
     "end_time": "2024-04-24T22:57:46.431124Z",
     "start_time": "2024-04-24T22:57:45.937972600Z"
    }
   },
   "id": "f0e75972341ef24f",
   "execution_count": 135
  },
  {
   "cell_type": "code",
   "outputs": [],
   "source": [
    "from sklearn.metrics import precision_score, recall_score, f1_score\n",
    "\n",
    "def get_metrics(y_true: np.ndarray, y_pred: np.ndarray) -> Tuple[float, float, float, float]:\n",
    "    accuracy = accuracy_score(y_true, y_pred)\n",
    "    precision = precision_score(y_true, y_pred)\n",
    "    recall = recall_score(y_true, y_pred)\n",
    "    f1 = f1_score(y_true, y_pred)\n",
    "    return accuracy, precision, recall, f1\n",
    "\n",
    "def split_male_female_metrics(data: pd.DataFrame, is_encoded: bool = True) -> pd.DataFrame:\n",
    "    \n",
    "    X_, y_ = get_features_and_target(data, 'income')\n",
    "    if not is_encoded:\n",
    "        X_, y_ = encode_all_features(X_, y_, ['sex'])\n",
    "        X_['sex'] = X_['sex'].map({'Female': 0, 'Male': 1})\n",
    "        \n",
    "    model = DecisionTreeClassifier(random_state=42)\n",
    "    X_train, X_test, y_train, y_test = train_test_split(X_, y_, test_size=0.2, random_state=42)\n",
    "    model.fit(X_train, y_train)\n",
    "        \n",
    "    X_male = X_[X_['sex'] == 1]\n",
    "    X_female = X_[X_['sex'] == 0]\n",
    "    y_male = y_[X_['sex'] == 1]\n",
    "    y_female = y_[X_['sex'] == 0]\n",
    "    \n",
    "    print(f\"Length of Male dataset: {len(X_male)}\")\n",
    "    print(f\"Length of Female dataset: {len(X_female)}\")\n",
    "    \n",
    "    # X_male_train, X_male_test, y_male_train, y_male_test = train_test_split(X_male, y_male, test_size=0.2, random_state=42)\n",
    "    X_male_train = X_train[X_train['sex'] == 1]\n",
    "    X_male_test = X_test[X_test['sex'] == 1]\n",
    "    y_male_train = y_train[X_train['sex'] == 1]\n",
    "    y_male_test = y_test[X_test['sex'] == 1]\n",
    "    \n",
    "    clf_male = model # DecisionTreeClassifier(random_state=42)\n",
    "    # clf_male.fit(X_male_train, y_male_train)\n",
    "    y_male_pred = clf_male.predict(X_male_test)\n",
    "    \n",
    "    male_accuracy, male_precision, male_recall, male_f1 = get_metrics(y_male_test, y_male_pred)\n",
    "    \n",
    "    # X_female_train, X_female_test, y_female_train, y_female_test = train_test_split(X_female, y_female, test_size=0.2, random_state=42)\n",
    "    X_female_train = X_train[X_train['sex'] == 0]\n",
    "    X_female_test = X_test[X_test['sex'] == 0]\n",
    "    y_female_train = y_train[X_train['sex'] == 0]\n",
    "    y_female_test = y_test[X_test['sex'] == 0]\n",
    "    \n",
    "    clf_female = model # DecisionTreeClassifier(random_state=42)\n",
    "    # clf_female.fit(X_female_train, y_female_train)\n",
    "    y_female_pred = clf_female.predict(X_female_test)\n",
    "    \n",
    "    female_accuracy, female_precision, female_recall, female_f1 = get_metrics(y_female_test, y_female_pred)\n",
    "    \n",
    "    # Compare the model's accuracy for male and female groups\n",
    "    metrics_table = pd.DataFrame({\n",
    "        'Gender': ['Male', 'Female'],\n",
    "        'Accuracy': [male_accuracy, female_accuracy],\n",
    "        'Precision': [male_precision, female_precision],\n",
    "        'Recall': [male_recall, female_recall],\n",
    "        'F1-score': [male_f1, female_f1]\n",
    "    })\n",
    "    \n",
    "    return metrics_table"
   ],
   "metadata": {
    "collapsed": false,
    "ExecuteTime": {
     "end_time": "2024-04-24T22:57:46.444598Z",
     "start_time": "2024-04-24T22:57:46.421150400Z"
    }
   },
   "id": "88f2b3deef635717",
   "execution_count": 136
  },
  {
   "cell_type": "code",
   "outputs": [
    {
     "name": "stdout",
     "output_type": "stream",
     "text": [
      "Length of Male dataset: 6000\n",
      "Length of Female dataset: 3000\n"
     ]
    },
    {
     "data": {
      "text/plain": "   Gender  Accuracy  Precision   Recall  F1-score\n0    Male  0.694536   0.637131  0.60521  0.620761\n1  Female  0.766892   0.458333  0.52381  0.488889",
      "text/html": "<div>\n<style scoped>\n    .dataframe tbody tr th:only-of-type {\n        vertical-align: middle;\n    }\n\n    .dataframe tbody tr th {\n        vertical-align: top;\n    }\n\n    .dataframe thead th {\n        text-align: right;\n    }\n</style>\n<table border=\"1\" class=\"dataframe\">\n  <thead>\n    <tr style=\"text-align: right;\">\n      <th></th>\n      <th>Gender</th>\n      <th>Accuracy</th>\n      <th>Precision</th>\n      <th>Recall</th>\n      <th>F1-score</th>\n    </tr>\n  </thead>\n  <tbody>\n    <tr>\n      <th>0</th>\n      <td>Male</td>\n      <td>0.694536</td>\n      <td>0.637131</td>\n      <td>0.60521</td>\n      <td>0.620761</td>\n    </tr>\n    <tr>\n      <th>1</th>\n      <td>Female</td>\n      <td>0.766892</td>\n      <td>0.458333</td>\n      <td>0.52381</td>\n      <td>0.488889</td>\n    </tr>\n  </tbody>\n</table>\n</div>"
     },
     "execution_count": 137,
     "metadata": {},
     "output_type": "execute_result"
    }
   ],
   "source": [
    "metrics_table = split_male_female_metrics(data, is_encoded=False)\n",
    "metrics_table"
   ],
   "metadata": {
    "collapsed": false,
    "ExecuteTime": {
     "end_time": "2024-04-24T22:57:46.557070700Z",
     "start_time": "2024-04-24T22:57:46.439611500Z"
    }
   },
   "id": "20db9bccac667b97",
   "execution_count": 137
  },
  {
   "cell_type": "code",
   "outputs": [],
   "source": [
    "from imblearn.over_sampling import ADASYN\n",
    "\n",
    "adasyn = ADASYN(random_state=42)\n",
    "\n",
    "X_, y_ = get_features_and_target(data, 'income')\n",
    "X_, y_ = encode_all_features(X_, y_, ['sex'])\n",
    "X_['sex'] =  X_['sex'].map({'Female': 0, 'Male': 1})\n",
    "\n",
    "X_with_y = pd.concat([X_, y_], axis=1)\n",
    "\n",
    "X_ = X_with_y.drop(columns=['sex'])\n",
    "y_ = X_with_y['sex']\n",
    "\n",
    "# Resample the dataset\n",
    "X_resampled, y_resampled = adasyn.fit_resample(X_, y_)\n",
    "\n",
    "X_with_y_resampled = pd.concat([X_resampled, y_resampled], axis=1)"
   ],
   "metadata": {
    "collapsed": false,
    "ExecuteTime": {
     "end_time": "2024-04-24T22:57:47.563780800Z",
     "start_time": "2024-04-24T22:57:46.551088200Z"
    }
   },
   "id": "ae5c32688d9c4d35",
   "execution_count": 138
  },
  {
   "cell_type": "code",
   "outputs": [
    {
     "data": {
      "text/plain": "sex\n1    52.232959\n0    47.767041\nName: count, dtype: float64"
     },
     "execution_count": 139,
     "metadata": {},
     "output_type": "execute_result"
    }
   ],
   "source": [
    "X_with_y_resampled['sex'].value_counts() / len(X_with_y_resampled) * 100"
   ],
   "metadata": {
    "collapsed": false,
    "ExecuteTime": {
     "end_time": "2024-04-24T22:57:47.573804800Z",
     "start_time": "2024-04-24T22:57:47.564779200Z"
    }
   },
   "id": "98d7da67983a0359",
   "execution_count": 139
  },
  {
   "cell_type": "code",
   "outputs": [],
   "source": [
    "counts = X_with_y_resampled.groupby(['sex', 'income']).size().unstack(fill_value=0)\n",
    "total_counts = X_with_y_resampled['sex'].value_counts()\n",
    "# Calculate the percentage of each income level for each sex\n",
    "percentage = counts.div(total_counts, axis=0) * 100"
   ],
   "metadata": {
    "collapsed": false,
    "ExecuteTime": {
     "end_time": "2024-04-24T22:57:47.584607800Z",
     "start_time": "2024-04-24T22:57:47.573804800Z"
    }
   },
   "id": "83ac8aca558462f8",
   "execution_count": 140
  },
  {
   "cell_type": "code",
   "outputs": [
    {
     "data": {
      "text/plain": "income          0          1\nsex                         \n0       84.344815  15.655185\n1       58.900000  41.100000",
      "text/html": "<div>\n<style scoped>\n    .dataframe tbody tr th:only-of-type {\n        vertical-align: middle;\n    }\n\n    .dataframe tbody tr th {\n        vertical-align: top;\n    }\n\n    .dataframe thead th {\n        text-align: right;\n    }\n</style>\n<table border=\"1\" class=\"dataframe\">\n  <thead>\n    <tr style=\"text-align: right;\">\n      <th>income</th>\n      <th>0</th>\n      <th>1</th>\n    </tr>\n    <tr>\n      <th>sex</th>\n      <th></th>\n      <th></th>\n    </tr>\n  </thead>\n  <tbody>\n    <tr>\n      <th>0</th>\n      <td>84.344815</td>\n      <td>15.655185</td>\n    </tr>\n    <tr>\n      <th>1</th>\n      <td>58.900000</td>\n      <td>41.100000</td>\n    </tr>\n  </tbody>\n</table>\n</div>"
     },
     "execution_count": 141,
     "metadata": {},
     "output_type": "execute_result"
    }
   ],
   "source": [
    "percentage"
   ],
   "metadata": {
    "collapsed": false,
    "ExecuteTime": {
     "end_time": "2024-04-24T22:57:47.606899900Z",
     "start_time": "2024-04-24T22:57:47.587601200Z"
    }
   },
   "id": "f880b424447039ec",
   "execution_count": 141
  },
  {
   "cell_type": "code",
   "outputs": [],
   "source": [
    "X_, y_ = get_features_and_target(X_with_y_resampled, 'income')"
   ],
   "metadata": {
    "collapsed": false,
    "ExecuteTime": {
     "end_time": "2024-04-24T22:57:47.606899900Z",
     "start_time": "2024-04-24T22:57:47.596674100Z"
    }
   },
   "id": "39c6d5112818f332",
   "execution_count": 142
  },
  {
   "cell_type": "code",
   "outputs": [
    {
     "name": "stdout",
     "output_type": "stream",
     "text": [
      "Disparate Impact (DI): 0.355\n",
      "Discrimination Score (DS): -0.252\n",
      "Equal Opportunity Difference (EO): 0.094\n",
      "Equalized Odds (EOdds): 0.161\n"
     ]
    }
   ],
   "source": [
    "X_train, X_test, y_train, y_test = train_test_split(X_, y_, test_size=0.2, random_state=42)\n",
    "\n",
    "DI, DS, EO, EOdds = statistical_measures(X_train, y_train, X_test, y_test, 'sex', use_lib_implementation=False)\n",
    "    \n",
    "print(f\"Disparate Impact (DI): {DI:.3f}\")\n",
    "print(f\"Discrimination Score (DS): {DS:.3f}\")\n",
    "print(f\"Equal Opportunity Difference (EO): {EO:.3f}\")\n",
    "print(f\"Equalized Odds (EOdds): {EOdds:.3f}\")"
   ],
   "metadata": {
    "collapsed": false,
    "ExecuteTime": {
     "end_time": "2024-04-24T22:57:48.428600400Z",
     "start_time": "2024-04-24T22:57:47.605901800Z"
    }
   },
   "id": "2f8df55640d4bceb",
   "execution_count": 143
  },
  {
   "cell_type": "code",
   "outputs": [
    {
     "name": "stdout",
     "output_type": "stream",
     "text": [
      "Length of Male dataset: 6000\n",
      "Length of Female dataset: 5487\n"
     ]
    }
   ],
   "source": [
    "metrics_table = split_male_female_metrics(X_with_y_resampled, is_encoded=True)"
   ],
   "metadata": {
    "collapsed": false,
    "ExecuteTime": {
     "end_time": "2024-04-24T22:57:48.508126600Z",
     "start_time": "2024-04-24T22:57:48.423613300Z"
    }
   },
   "id": "adb4d7f2941c640",
   "execution_count": 144
  },
  {
   "cell_type": "code",
   "outputs": [
    {
     "data": {
      "text/plain": "   Gender  Accuracy  Precision    Recall  F1-score\n0    Male  0.684383   0.614786  0.626984  0.620825\n1  Female  0.845581   0.488889  0.543210  0.514620",
      "text/html": "<div>\n<style scoped>\n    .dataframe tbody tr th:only-of-type {\n        vertical-align: middle;\n    }\n\n    .dataframe tbody tr th {\n        vertical-align: top;\n    }\n\n    .dataframe thead th {\n        text-align: right;\n    }\n</style>\n<table border=\"1\" class=\"dataframe\">\n  <thead>\n    <tr style=\"text-align: right;\">\n      <th></th>\n      <th>Gender</th>\n      <th>Accuracy</th>\n      <th>Precision</th>\n      <th>Recall</th>\n      <th>F1-score</th>\n    </tr>\n  </thead>\n  <tbody>\n    <tr>\n      <th>0</th>\n      <td>Male</td>\n      <td>0.684383</td>\n      <td>0.614786</td>\n      <td>0.626984</td>\n      <td>0.620825</td>\n    </tr>\n    <tr>\n      <th>1</th>\n      <td>Female</td>\n      <td>0.845581</td>\n      <td>0.488889</td>\n      <td>0.543210</td>\n      <td>0.514620</td>\n    </tr>\n  </tbody>\n</table>\n</div>"
     },
     "execution_count": 145,
     "metadata": {},
     "output_type": "execute_result"
    }
   ],
   "source": [
    "metrics_table"
   ],
   "metadata": {
    "collapsed": false,
    "ExecuteTime": {
     "end_time": "2024-04-24T22:57:48.522189300Z",
     "start_time": "2024-04-24T22:57:48.509125Z"
    }
   },
   "id": "d0b853af80db376f",
   "execution_count": 145
  }
 ],
 "metadata": {
  "kernelspec": {
   "display_name": "Python 3",
   "language": "python",
   "name": "python3"
  },
  "language_info": {
   "codemirror_mode": {
    "name": "ipython",
    "version": 2
   },
   "file_extension": ".py",
   "mimetype": "text/x-python",
   "name": "python",
   "nbconvert_exporter": "python",
   "pygments_lexer": "ipython2",
   "version": "2.7.6"
  }
 },
 "nbformat": 4,
 "nbformat_minor": 5
}
