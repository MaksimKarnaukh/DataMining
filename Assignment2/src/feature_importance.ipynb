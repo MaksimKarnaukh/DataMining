{
 "cells": [
  {
   "cell_type": "code",
   "execution_count": null,
   "id": "initial_id",
   "metadata": {
    "collapsed": true
   },
   "outputs": [],
   "source": [
    "from typing import List, Tuple\n",
    "from helper.helper_functions import load_dataset, save_model\n",
    "import pandas as pd\n",
    "import seaborn as sns\n",
    "import matplotlib.pyplot as plt\n",
    "\n",
    "from sklearn.feature_selection import chi2\n",
    "from sklearn.feature_selection import SelectKBest\n",
    "from sklearn.feature_selection import mutual_info_classif"
   ]
  },
  {
   "cell_type": "code",
   "outputs": [],
   "source": [
    "data = load_dataset('../data/assignment2_income_cleaned.xlsx')"
   ],
   "metadata": {
    "collapsed": false
   },
   "id": "1d6e1d2cf164f793"
  },
  {
   "cell_type": "code",
   "outputs": [],
   "source": [
    "# Splitting the data into features (X) and target (y)\n",
    "X = data.drop(columns=['income'])\n",
    "y = data['income']"
   ],
   "metadata": {
    "collapsed": false
   },
   "id": "aeaa5208932cde71"
  },
  {
   "cell_type": "code",
   "outputs": [],
   "source": [],
   "metadata": {
    "collapsed": false
   },
   "id": "7b4bab5c9aaefabe"
  },
  {
   "cell_type": "code",
   "outputs": [],
   "source": [
    "# Calculate chi-squared statistics and p-values between each feature and the target class\n",
    "chi2_stat, p_values = chi2(X, y)\n",
    "\n",
    "# Create a DataFrame to display chi-squared statistics and p-values\n",
    "feature_importance_df = pd.DataFrame({'Feature': X.columns, 'Chi-squared statistic': chi2_stat, 'P-value': p_values})\n",
    "\n",
    "# Sort the DataFrame by chi-squared statistic in descending order\n",
    "feature_importance_df = feature_importance_df.sort_values(by='Chi-squared statistic', ascending=False)\n",
    "\n",
    "# Print feature importances\n",
    "print(\"Feature importances (Chi-squared test):\")\n",
    "print(feature_importance_df)"
   ],
   "metadata": {
    "collapsed": false
   },
   "id": "dbd40765c723b775"
  },
  {
   "cell_type": "code",
   "outputs": [],
   "source": [
    "# Calculate mutual information between each feature and the target class\n",
    "mutual_info = mutual_info_classif(X, y)\n",
    "\n",
    "# Create a DataFrame to display feature importances\n",
    "feature_importance_df = pd.DataFrame({'Feature': X.columns, 'Importance': mutual_info})\n",
    "\n",
    "# Sort the DataFrame by importance\n",
    "feature_importance_df = feature_importance_df.sort_values(by='Importance', ascending=False)\n",
    "\n",
    "# Print feature importances\n",
    "print(\"Feature importances (Mutual Information):\")\n",
    "print(feature_importance_df)"
   ],
   "metadata": {
    "collapsed": false
   },
   "id": "e370e15bcb285b9b"
  },
  {
   "cell_type": "code",
   "outputs": [],
   "source": [],
   "metadata": {
    "collapsed": false
   },
   "id": "c164e12804e88301"
  }
 ],
 "metadata": {
  "kernelspec": {
   "display_name": "Python 3",
   "language": "python",
   "name": "python3"
  },
  "language_info": {
   "codemirror_mode": {
    "name": "ipython",
    "version": 2
   },
   "file_extension": ".py",
   "mimetype": "text/x-python",
   "name": "python",
   "nbconvert_exporter": "python",
   "pygments_lexer": "ipython2",
   "version": "2.7.6"
  }
 },
 "nbformat": 4,
 "nbformat_minor": 5
}
