{
 "cells": [
  {
   "cell_type": "code",
   "execution_count": 87,
   "id": "initial_id",
   "metadata": {
    "collapsed": true,
    "ExecuteTime": {
     "end_time": "2024-04-20T00:51:56.839533300Z",
     "start_time": "2024-04-20T00:51:56.658370700Z"
    }
   },
   "outputs": [],
   "source": [
    "from typing import List, Tuple\n",
    "from helper.helper_functions import load_dataset, save_model, get_features_and_target, encode_nominal_features\n",
    "import pandas as pd\n",
    "import seaborn as sns\n",
    "import matplotlib.pyplot as plt\n",
    "\n",
    "from scipy.stats import shapiro, kstest, pointbiserialr, kendalltau\n",
    "from sklearn.feature_selection import SelectKBest, f_classif, mutual_info_classif, f_regression, mutual_info_regression, SelectPercentile, chi2\n",
    "\n",
    "import warnings\n",
    "warnings.filterwarnings(\"ignore\")"
   ]
  },
  {
   "cell_type": "code",
   "outputs": [],
   "source": [
    "data = load_dataset('../data/assignment2_income_cleaned.xlsx')"
   ],
   "metadata": {
    "collapsed": false,
    "ExecuteTime": {
     "end_time": "2024-04-20T00:51:59.225442600Z",
     "start_time": "2024-04-20T00:51:56.815596800Z"
    }
   },
   "id": "1d6e1d2cf164f793",
   "execution_count": 88
  },
  {
   "cell_type": "code",
   "outputs": [],
   "source": [
    "# Splitting the data into features (X) and target (y)\n",
    "X, y = get_features_and_target(data, target_column='income')"
   ],
   "metadata": {
    "collapsed": false,
    "ExecuteTime": {
     "end_time": "2024-04-20T00:51:59.237354200Z",
     "start_time": "2024-04-20T00:51:59.225442600Z"
    }
   },
   "id": "aeaa5208932cde71",
   "execution_count": 89
  },
  {
   "cell_type": "markdown",
   "source": [
    "columns_to_use = ['age', 'workclass', 'education', 'marital status', 'occupation', 'workinghours', 'sex', 'ability to speak english', 'gave birth this year']\n",
    "\n",
    "- **Categorical features**:\n",
    "    - **nominal features**:\n",
    "        'workclass', 'marital status', 'occupation', 'sex', and 'gave birth this year'\n",
    "    - **ordinal features**:\n",
    "        'education', 'ability to speak English'\n",
    "- **Continuous features**:\n",
    "    'age', 'workinghours'"
   ],
   "metadata": {
    "collapsed": false
   },
   "id": "d32c7c40ddfaf26d"
  },
  {
   "cell_type": "markdown",
   "source": [
    "### a\n",
    "Point-biserial correlation is a special case of Pearson correlation coefficient used when one variable is continuous and the other is dichotomous (binary).\n",
    "\n",
    "https://en.wikipedia.org/wiki/Point-biserial_correlation_coefficient\n",
    "https://resources.nu.edu/statsresources/Pointbiserial"
   ],
   "metadata": {
    "collapsed": false
   },
   "id": "dff898d0ffa6f9eb"
  },
  {
   "cell_type": "markdown",
   "source": [
    "Below we check if the continuous features are normally distributed using Shapiro-Wilk and Kolmogorov-Smirnov tests."
   ],
   "metadata": {
    "collapsed": false
   },
   "id": "bd4070bc64926adc"
  },
  {
   "cell_type": "code",
   "outputs": [
    {
     "name": "stdout",
     "output_type": "stream",
     "text": [
      "Shapiro-Wilk Test (age) - Statistic: 0.974037822220245, P-value: 0.0000000000\n",
      "Kolmogorov-Smirnov Test (age) - Statistic: 1.0, P-value: 0.0000000000\n",
      "Shapiro-Wilk Test (workinghours) - Statistic: 0.8889242919715895, P-value: 0.0000000000\n",
      "Kolmogorov-Smirnov Test (workinghours) - Statistic: 0.9946501019683699, P-value: 0.0000000000\n"
     ]
    }
   ],
   "source": [
    "continuous_features = ['age', 'workinghours']\n",
    "\n",
    "for feature in continuous_features:\n",
    "    # Shapiro-Wilk Test\n",
    "    shapiro_stat, shapiro_p_value = shapiro(data[feature])\n",
    "    print(f\"Shapiro-Wilk Test ({feature}) - Statistic: {shapiro_stat}, P-value: {shapiro_p_value:.10f}\")\n",
    "\n",
    "    # Kolmogorov-Smirnov Test\n",
    "    ks_stat, ks_p_value = kstest(data[feature], 'norm')\n",
    "    print(f\"Kolmogorov-Smirnov Test ({feature}) - Statistic: {ks_stat}, P-value: {ks_p_value:.10f}\")"
   ],
   "metadata": {
    "collapsed": false,
    "ExecuteTime": {
     "end_time": "2024-04-20T00:51:59.251317200Z",
     "start_time": "2024-04-20T00:51:59.233365200Z"
    }
   },
   "id": "ef8437b977e1495f",
   "execution_count": 90
  },
  {
   "cell_type": "code",
   "outputs": [
    {
     "name": "stdout",
     "output_type": "stream",
     "text": [
      "Point-Biserial Correlation Coefficient for 'age': 0.280, P-value: 0.000000\n",
      "Point-Biserial Correlation Coefficient for 'workinghours': 0.295, P-value: 0.000000\n"
     ]
    }
   ],
   "source": [
    "binary_class_feature = 'income'\n",
    "data[binary_class_feature] = data['income'].map({'low': 0, 'high': 1})\n",
    "\n",
    "for feature in continuous_features:\n",
    "    point_biserial_corr, p_value = pointbiserialr(data[feature], data[binary_class_feature])\n",
    "    print(f\"Point-Biserial Correlation Coefficient for '{feature}': {point_biserial_corr:.3f}, P-value: {p_value:.6f}\")"
   ],
   "metadata": {
    "collapsed": false,
    "ExecuteTime": {
     "end_time": "2024-04-20T00:51:59.308665900Z",
     "start_time": "2024-04-20T00:51:59.246330400Z"
    }
   },
   "id": "7b4bab5c9aaefabe",
   "execution_count": 91
  },
  {
   "cell_type": "markdown",
   "source": [
    "### Feature Encoding"
   ],
   "metadata": {
    "collapsed": false
   },
   "id": "dd1bf6e0c1ccd7c3"
  },
  {
   "cell_type": "code",
   "outputs": [],
   "source": [
    "# List of nominal features\n",
    "nominal_features_lc = ['workclass', 'sex', 'marital status', 'gave birth this year', 'occupation'] # low cardinality features\n",
    "nominal_features_hc = [] # high cardinality features\n",
    "\n",
    "# https://towardsdatascience.com/encoding-categorical-variables-a-deep-dive-into-target-encoding-2862217c2753#:~:text=Target%20encoding%20works%20by%20converting,average%20value%20for%20that%20category.\n",
    "# https://medium.com/@denizgunay/feature-encoding-f099a6c1abe8\n",
    "\n",
    "X_encoded = encode_nominal_features(X, nominal_features_lc, nominal_features_hc)\n",
    "y_encoded = y.map({'low': 0, 'high': 1})"
   ],
   "metadata": {
    "collapsed": false,
    "ExecuteTime": {
     "end_time": "2024-04-20T00:51:59.358025500Z",
     "start_time": "2024-04-20T00:51:59.272761800Z"
    }
   },
   "id": "324a70fe32286a35",
   "execution_count": 93
  },
  {
   "cell_type": "code",
   "outputs": [
    {
     "data": {
      "text/plain": "      age  education  workinghours  ability to speak english  \\\n0      52         16            50                         0   \n1      60         20            30                         0   \n2      64         21            40                         0   \n3      64         17            40                         0   \n4      31         15            40                         0   \n...   ...        ...           ...                       ...   \n8995   28         16            40                         0   \n8996   61         24            40                         0   \n8997   34         23            50                         0   \n8998   60         19            40                         0   \n8999   50         20            30                         0   \n\n      workclass_governmental  workclass_no paid work  workclass_private  \\\n0                        0.0                     0.0                0.0   \n1                        0.0                     0.0                1.0   \n2                        0.0                     0.0                1.0   \n3                        0.0                     0.0                1.0   \n4                        0.0                     0.0                1.0   \n...                      ...                     ...                ...   \n8995                     0.0                     0.0                1.0   \n8996                     1.0                     0.0                0.0   \n8997                     1.0                     0.0                0.0   \n8998                     0.0                     0.0                1.0   \n8999                     0.0                     0.0                1.0   \n\n      workclass_self employed  sex_Female  sex_Male  ...  \\\n0                         1.0         0.0       1.0  ...   \n1                         0.0         1.0       0.0  ...   \n2                         0.0         0.0       1.0  ...   \n3                         0.0         0.0       1.0  ...   \n4                         0.0         0.0       1.0  ...   \n...                       ...         ...       ...  ...   \n8995                      0.0         1.0       0.0  ...   \n8996                      0.0         1.0       0.0  ...   \n8997                      0.0         1.0       0.0  ...   \n8998                      0.0         0.0       1.0  ...   \n8999                      0.0         1.0       0.0  ...   \n\n      occupation_Management/Business  occupation_Military Services  \\\n0                                0.0                           0.0   \n1                                0.0                           0.0   \n2                                1.0                           0.0   \n3                                0.0                           0.0   \n4                                0.0                           0.0   \n...                              ...                           ...   \n8995                             0.0                           0.0   \n8996                             0.0                           0.0   \n8997                             0.0                           0.0   \n8998                             1.0                           0.0   \n8999                             0.0                           0.0   \n\n      occupation_Office/Administrative Support  \\\n0                                          0.0   \n1                                          0.0   \n2                                          0.0   \n3                                          0.0   \n4                                          0.0   \n...                                        ...   \n8995                                       0.0   \n8996                                       0.0   \n8997                                       0.0   \n8998                                       0.0   \n8999                                       0.0   \n\n      occupation_Production/Assembly  occupation_Protective Services  \\\n0                                0.0                             0.0   \n1                                0.0                             0.0   \n2                                0.0                             0.0   \n3                                0.0                             0.0   \n4                                0.0                             0.0   \n...                              ...                             ...   \n8995                             0.0                             0.0   \n8996                             0.0                             0.0   \n8997                             0.0                             0.0   \n8998                             0.0                             0.0   \n8999                             0.0                             0.0   \n\n      occupation_Repair/Maintenance  occupation_Sales  \\\n0                               0.0               0.0   \n1                               0.0               0.0   \n2                               0.0               0.0   \n3                               0.0               0.0   \n4                               0.0               0.0   \n...                             ...               ...   \n8995                            0.0               0.0   \n8996                            0.0               0.0   \n8997                            0.0               0.0   \n8998                            0.0               0.0   \n8999                            0.0               1.0   \n\n      occupation_Science, Engineering, Technology  \\\n0                                             0.0   \n1                                             0.0   \n2                                             0.0   \n3                                             0.0   \n4                                             0.0   \n...                                           ...   \n8995                                          0.0   \n8996                                          0.0   \n8997                                          0.0   \n8998                                          0.0   \n8999                                          0.0   \n\n      occupation_Service/Hospitality  occupation_Transport  \n0                                0.0                   1.0  \n1                                0.0                   0.0  \n2                                0.0                   0.0  \n3                                0.0                   1.0  \n4                                0.0                   1.0  \n...                              ...                   ...  \n8995                             0.0                   0.0  \n8996                             0.0                   0.0  \n8997                             0.0                   0.0  \n8998                             0.0                   0.0  \n8999                             0.0                   0.0  \n\n[9000 rows x 36 columns]",
      "text/html": "<div>\n<style scoped>\n    .dataframe tbody tr th:only-of-type {\n        vertical-align: middle;\n    }\n\n    .dataframe tbody tr th {\n        vertical-align: top;\n    }\n\n    .dataframe thead th {\n        text-align: right;\n    }\n</style>\n<table border=\"1\" class=\"dataframe\">\n  <thead>\n    <tr style=\"text-align: right;\">\n      <th></th>\n      <th>age</th>\n      <th>education</th>\n      <th>workinghours</th>\n      <th>ability to speak english</th>\n      <th>workclass_governmental</th>\n      <th>workclass_no paid work</th>\n      <th>workclass_private</th>\n      <th>workclass_self employed</th>\n      <th>sex_Female</th>\n      <th>sex_Male</th>\n      <th>...</th>\n      <th>occupation_Management/Business</th>\n      <th>occupation_Military Services</th>\n      <th>occupation_Office/Administrative Support</th>\n      <th>occupation_Production/Assembly</th>\n      <th>occupation_Protective Services</th>\n      <th>occupation_Repair/Maintenance</th>\n      <th>occupation_Sales</th>\n      <th>occupation_Science, Engineering, Technology</th>\n      <th>occupation_Service/Hospitality</th>\n      <th>occupation_Transport</th>\n    </tr>\n  </thead>\n  <tbody>\n    <tr>\n      <th>0</th>\n      <td>52</td>\n      <td>16</td>\n      <td>50</td>\n      <td>0</td>\n      <td>0.0</td>\n      <td>0.0</td>\n      <td>0.0</td>\n      <td>1.0</td>\n      <td>0.0</td>\n      <td>1.0</td>\n      <td>...</td>\n      <td>0.0</td>\n      <td>0.0</td>\n      <td>0.0</td>\n      <td>0.0</td>\n      <td>0.0</td>\n      <td>0.0</td>\n      <td>0.0</td>\n      <td>0.0</td>\n      <td>0.0</td>\n      <td>1.0</td>\n    </tr>\n    <tr>\n      <th>1</th>\n      <td>60</td>\n      <td>20</td>\n      <td>30</td>\n      <td>0</td>\n      <td>0.0</td>\n      <td>0.0</td>\n      <td>1.0</td>\n      <td>0.0</td>\n      <td>1.0</td>\n      <td>0.0</td>\n      <td>...</td>\n      <td>0.0</td>\n      <td>0.0</td>\n      <td>0.0</td>\n      <td>0.0</td>\n      <td>0.0</td>\n      <td>0.0</td>\n      <td>0.0</td>\n      <td>0.0</td>\n      <td>0.0</td>\n      <td>0.0</td>\n    </tr>\n    <tr>\n      <th>2</th>\n      <td>64</td>\n      <td>21</td>\n      <td>40</td>\n      <td>0</td>\n      <td>0.0</td>\n      <td>0.0</td>\n      <td>1.0</td>\n      <td>0.0</td>\n      <td>0.0</td>\n      <td>1.0</td>\n      <td>...</td>\n      <td>1.0</td>\n      <td>0.0</td>\n      <td>0.0</td>\n      <td>0.0</td>\n      <td>0.0</td>\n      <td>0.0</td>\n      <td>0.0</td>\n      <td>0.0</td>\n      <td>0.0</td>\n      <td>0.0</td>\n    </tr>\n    <tr>\n      <th>3</th>\n      <td>64</td>\n      <td>17</td>\n      <td>40</td>\n      <td>0</td>\n      <td>0.0</td>\n      <td>0.0</td>\n      <td>1.0</td>\n      <td>0.0</td>\n      <td>0.0</td>\n      <td>1.0</td>\n      <td>...</td>\n      <td>0.0</td>\n      <td>0.0</td>\n      <td>0.0</td>\n      <td>0.0</td>\n      <td>0.0</td>\n      <td>0.0</td>\n      <td>0.0</td>\n      <td>0.0</td>\n      <td>0.0</td>\n      <td>1.0</td>\n    </tr>\n    <tr>\n      <th>4</th>\n      <td>31</td>\n      <td>15</td>\n      <td>40</td>\n      <td>0</td>\n      <td>0.0</td>\n      <td>0.0</td>\n      <td>1.0</td>\n      <td>0.0</td>\n      <td>0.0</td>\n      <td>1.0</td>\n      <td>...</td>\n      <td>0.0</td>\n      <td>0.0</td>\n      <td>0.0</td>\n      <td>0.0</td>\n      <td>0.0</td>\n      <td>0.0</td>\n      <td>0.0</td>\n      <td>0.0</td>\n      <td>0.0</td>\n      <td>1.0</td>\n    </tr>\n    <tr>\n      <th>...</th>\n      <td>...</td>\n      <td>...</td>\n      <td>...</td>\n      <td>...</td>\n      <td>...</td>\n      <td>...</td>\n      <td>...</td>\n      <td>...</td>\n      <td>...</td>\n      <td>...</td>\n      <td>...</td>\n      <td>...</td>\n      <td>...</td>\n      <td>...</td>\n      <td>...</td>\n      <td>...</td>\n      <td>...</td>\n      <td>...</td>\n      <td>...</td>\n      <td>...</td>\n      <td>...</td>\n    </tr>\n    <tr>\n      <th>8995</th>\n      <td>28</td>\n      <td>16</td>\n      <td>40</td>\n      <td>0</td>\n      <td>0.0</td>\n      <td>0.0</td>\n      <td>1.0</td>\n      <td>0.0</td>\n      <td>1.0</td>\n      <td>0.0</td>\n      <td>...</td>\n      <td>0.0</td>\n      <td>0.0</td>\n      <td>0.0</td>\n      <td>0.0</td>\n      <td>0.0</td>\n      <td>0.0</td>\n      <td>0.0</td>\n      <td>0.0</td>\n      <td>0.0</td>\n      <td>0.0</td>\n    </tr>\n    <tr>\n      <th>8996</th>\n      <td>61</td>\n      <td>24</td>\n      <td>40</td>\n      <td>0</td>\n      <td>1.0</td>\n      <td>0.0</td>\n      <td>0.0</td>\n      <td>0.0</td>\n      <td>1.0</td>\n      <td>0.0</td>\n      <td>...</td>\n      <td>0.0</td>\n      <td>0.0</td>\n      <td>0.0</td>\n      <td>0.0</td>\n      <td>0.0</td>\n      <td>0.0</td>\n      <td>0.0</td>\n      <td>0.0</td>\n      <td>0.0</td>\n      <td>0.0</td>\n    </tr>\n    <tr>\n      <th>8997</th>\n      <td>34</td>\n      <td>23</td>\n      <td>50</td>\n      <td>0</td>\n      <td>1.0</td>\n      <td>0.0</td>\n      <td>0.0</td>\n      <td>0.0</td>\n      <td>1.0</td>\n      <td>0.0</td>\n      <td>...</td>\n      <td>0.0</td>\n      <td>0.0</td>\n      <td>0.0</td>\n      <td>0.0</td>\n      <td>0.0</td>\n      <td>0.0</td>\n      <td>0.0</td>\n      <td>0.0</td>\n      <td>0.0</td>\n      <td>0.0</td>\n    </tr>\n    <tr>\n      <th>8998</th>\n      <td>60</td>\n      <td>19</td>\n      <td>40</td>\n      <td>0</td>\n      <td>0.0</td>\n      <td>0.0</td>\n      <td>1.0</td>\n      <td>0.0</td>\n      <td>0.0</td>\n      <td>1.0</td>\n      <td>...</td>\n      <td>1.0</td>\n      <td>0.0</td>\n      <td>0.0</td>\n      <td>0.0</td>\n      <td>0.0</td>\n      <td>0.0</td>\n      <td>0.0</td>\n      <td>0.0</td>\n      <td>0.0</td>\n      <td>0.0</td>\n    </tr>\n    <tr>\n      <th>8999</th>\n      <td>50</td>\n      <td>20</td>\n      <td>30</td>\n      <td>0</td>\n      <td>0.0</td>\n      <td>0.0</td>\n      <td>1.0</td>\n      <td>0.0</td>\n      <td>1.0</td>\n      <td>0.0</td>\n      <td>...</td>\n      <td>0.0</td>\n      <td>0.0</td>\n      <td>0.0</td>\n      <td>0.0</td>\n      <td>0.0</td>\n      <td>0.0</td>\n      <td>1.0</td>\n      <td>0.0</td>\n      <td>0.0</td>\n      <td>0.0</td>\n    </tr>\n  </tbody>\n</table>\n<p>9000 rows × 36 columns</p>\n</div>"
     },
     "execution_count": 94,
     "metadata": {},
     "output_type": "execute_result"
    }
   ],
   "source": [
    "X_encoded"
   ],
   "metadata": {
    "collapsed": false,
    "ExecuteTime": {
     "end_time": "2024-04-20T00:51:59.362016200Z",
     "start_time": "2024-04-20T00:51:59.305674700Z"
    }
   },
   "id": "dd55703c1916745b",
   "execution_count": 94
  },
  {
   "cell_type": "markdown",
   "source": [
    "### Feature Selection: Filter Methods"
   ],
   "metadata": {
    "collapsed": false
   },
   "id": "9e05a049e9bd294f"
  },
  {
   "cell_type": "markdown",
   "source": [
    "#### Numerical Input Features"
   ],
   "metadata": {
    "collapsed": false
   },
   "id": "5ba1c7d52ea8fc9e"
  },
  {
   "cell_type": "code",
   "outputs": [],
   "source": [
    "# Calculate Kendall's tau correlation coefficient for each continuous feature\n",
    "# Pearson's and Spearman's correlation methods won't work here because the target variable is a (dichotomous) categorical variable. Kendall's tau is suitable.\n",
    "print(\"\\nKendall's Tau Correlation Coefficients:\")\n",
    "for feature in continuous_features:\n",
    "    kendall_tau_corr, kendall_tau_p_value = kendalltau(data[feature], data[binary_class_feature])\n",
    "    print(f\"   {feature}: {kendall_tau_corr:.3f} (p-value: {kendall_tau_p_value:.3f})\")"
   ],
   "metadata": {
    "collapsed": false
   },
   "id": "bf978dbba0cbb899"
  },
  {
   "cell_type": "markdown",
   "source": [
    "#### Categorical Input Features"
   ],
   "metadata": {
    "collapsed": false
   },
   "id": "c64d9953b97e6641"
  },
  {
   "cell_type": "code",
   "outputs": [],
   "source": [
    "# https://stackoverflow.com/questions/49847493/using-chi2-test-for-feature-selection-with-continuous-features-scikit-learn\n",
    "# https://www.hackersrealm.net/post/feature-selection-using-chi-square\n",
    "# https://resources.nu.edu/statsresources/goodnessoffit\n",
    "# The SelectPercentile function using chi2 fitted on the encoded dataset gives the same results (meaning internally it's the same process).\n",
    "\n",
    "X_encoded_cat = X_encoded.drop(columns=continuous_features)\n",
    "# Calculate chi-squared statistics and p-values between each categorical feature and the target class (**in pairs**)\n",
    "chi2_stat, p_values = chi2(X_encoded_cat, y)\n",
    "# Calculate mutual information between each feature and the target class\n",
    "mutual_info = mutual_info_classif(X_encoded_cat, y)\n",
    "\n",
    "feature_importance_df = pd.DataFrame({'Feature': X_encoded_cat.columns, 'Chi-squared statistic': chi2_stat, 'P-value': [round(p, 6) for p in p_values], 'Mutual_Info_Importance': mutual_info})\n",
    "feature_importance_df = feature_importance_df.sort_values(by='Chi-squared statistic', ascending=False)"
   ],
   "metadata": {
    "collapsed": false,
    "ExecuteTime": {
     "end_time": "2024-04-20T00:52:01.426615500Z",
     "start_time": "2024-04-20T00:51:59.397180900Z"
    }
   },
   "id": "4b8a07e29306ad5a",
   "execution_count": 97
  },
  {
   "cell_type": "code",
   "outputs": [
    {
     "data": {
      "text/plain": "                                         Feature  Chi-squared statistic  \\\n9                         marital status_Husband             673.531893   \n10                  marital status_Never married             556.620501   \n0                                      education             424.146521   \n24                occupation_Management/Business             388.289723   \n32                occupation_Service/Hospitality             358.692255   \n31   occupation_Science, Engineering, Technology             290.938216   \n6                                     sex_Female             253.022927   \n7                                       sex_Male             126.511463   \n26      occupation_Office/Administrative Support              82.652127   \n13                           marital status_Wife              67.470942   \n2                         workclass_governmental              62.348295   \n21                 occupation_Finance/Accounting              55.011907   \n23                     occupation_Legal Services              47.054844   \n33                          occupation_Transport              33.022099   \n1                       ability to speak english              31.502407   \n16            occupation_Construction/Extraction              27.494072   \n29                 occupation_Repair/Maintenance              22.471693   \n4                              workclass_private              17.983133   \n15                      gave birth this year_Yes              16.481382   \n27                occupation_Production/Assembly              16.442840   \n11                      marital status_Separated               9.749817   \n20         occupation_Farming, Fishing, Forestry               5.728989   \n25                  occupation_Military Services               5.465297   \n30                              occupation_Sales               5.294091   \n5                        workclass_self employed               3.606871   \n3                         workclass_no paid work               3.282243   \n22        occupation_Healthcare/Medical Services               2.805084   \n17  occupation_Counseling/Mental Health Services               2.708154   \n8                        marital status_Divorced               1.456540   \n28                occupation_Protective Services               1.131984   \n19                      occupation_Entertainment               0.357529   \n14                       gave birth this year_No               0.237784   \n12                        marital status_Widowed               0.066950   \n18                          occupation_Education               0.010784   \n\n     P-value  Mutual_Info_Importance  \n9   0.000000                0.073041  \n10  0.000000                0.048081  \n0   0.000000                0.060296  \n24  0.000000                0.026675  \n32  0.000000                0.018201  \n31  0.000000                0.019190  \n6   0.000000                0.022901  \n7   0.000000                0.026370  \n26  0.000000                0.003007  \n13  0.000000                0.000442  \n2   0.000000                0.005160  \n21  0.000000                0.006292  \n23  0.000000                0.000000  \n33  0.000000                0.001013  \n1   0.000000                0.003809  \n16  0.000000                0.002515  \n29  0.000002                0.008348  \n4   0.000022                0.002662  \n15  0.000049                0.005683  \n27  0.000050                0.005529  \n11  0.001793                0.000000  \n20  0.016687                0.009430  \n25  0.019398                0.000000  \n30  0.021398                0.000533  \n5   0.057541                0.004633  \n3   0.070033                0.004978  \n22  0.093966                0.000000  \n17  0.099836                0.001141  \n8   0.227481                0.000000  \n28  0.287353                0.004678  \n19  0.549882                0.000000  \n14  0.625811                0.000000  \n12  0.795831                0.000000  \n18  0.917291                0.000818  ",
      "text/html": "<div>\n<style scoped>\n    .dataframe tbody tr th:only-of-type {\n        vertical-align: middle;\n    }\n\n    .dataframe tbody tr th {\n        vertical-align: top;\n    }\n\n    .dataframe thead th {\n        text-align: right;\n    }\n</style>\n<table border=\"1\" class=\"dataframe\">\n  <thead>\n    <tr style=\"text-align: right;\">\n      <th></th>\n      <th>Feature</th>\n      <th>Chi-squared statistic</th>\n      <th>P-value</th>\n      <th>Mutual_Info_Importance</th>\n    </tr>\n  </thead>\n  <tbody>\n    <tr>\n      <th>9</th>\n      <td>marital status_Husband</td>\n      <td>673.531893</td>\n      <td>0.000000</td>\n      <td>0.073041</td>\n    </tr>\n    <tr>\n      <th>10</th>\n      <td>marital status_Never married</td>\n      <td>556.620501</td>\n      <td>0.000000</td>\n      <td>0.048081</td>\n    </tr>\n    <tr>\n      <th>0</th>\n      <td>education</td>\n      <td>424.146521</td>\n      <td>0.000000</td>\n      <td>0.060296</td>\n    </tr>\n    <tr>\n      <th>24</th>\n      <td>occupation_Management/Business</td>\n      <td>388.289723</td>\n      <td>0.000000</td>\n      <td>0.026675</td>\n    </tr>\n    <tr>\n      <th>32</th>\n      <td>occupation_Service/Hospitality</td>\n      <td>358.692255</td>\n      <td>0.000000</td>\n      <td>0.018201</td>\n    </tr>\n    <tr>\n      <th>31</th>\n      <td>occupation_Science, Engineering, Technology</td>\n      <td>290.938216</td>\n      <td>0.000000</td>\n      <td>0.019190</td>\n    </tr>\n    <tr>\n      <th>6</th>\n      <td>sex_Female</td>\n      <td>253.022927</td>\n      <td>0.000000</td>\n      <td>0.022901</td>\n    </tr>\n    <tr>\n      <th>7</th>\n      <td>sex_Male</td>\n      <td>126.511463</td>\n      <td>0.000000</td>\n      <td>0.026370</td>\n    </tr>\n    <tr>\n      <th>26</th>\n      <td>occupation_Office/Administrative Support</td>\n      <td>82.652127</td>\n      <td>0.000000</td>\n      <td>0.003007</td>\n    </tr>\n    <tr>\n      <th>13</th>\n      <td>marital status_Wife</td>\n      <td>67.470942</td>\n      <td>0.000000</td>\n      <td>0.000442</td>\n    </tr>\n    <tr>\n      <th>2</th>\n      <td>workclass_governmental</td>\n      <td>62.348295</td>\n      <td>0.000000</td>\n      <td>0.005160</td>\n    </tr>\n    <tr>\n      <th>21</th>\n      <td>occupation_Finance/Accounting</td>\n      <td>55.011907</td>\n      <td>0.000000</td>\n      <td>0.006292</td>\n    </tr>\n    <tr>\n      <th>23</th>\n      <td>occupation_Legal Services</td>\n      <td>47.054844</td>\n      <td>0.000000</td>\n      <td>0.000000</td>\n    </tr>\n    <tr>\n      <th>33</th>\n      <td>occupation_Transport</td>\n      <td>33.022099</td>\n      <td>0.000000</td>\n      <td>0.001013</td>\n    </tr>\n    <tr>\n      <th>1</th>\n      <td>ability to speak english</td>\n      <td>31.502407</td>\n      <td>0.000000</td>\n      <td>0.003809</td>\n    </tr>\n    <tr>\n      <th>16</th>\n      <td>occupation_Construction/Extraction</td>\n      <td>27.494072</td>\n      <td>0.000000</td>\n      <td>0.002515</td>\n    </tr>\n    <tr>\n      <th>29</th>\n      <td>occupation_Repair/Maintenance</td>\n      <td>22.471693</td>\n      <td>0.000002</td>\n      <td>0.008348</td>\n    </tr>\n    <tr>\n      <th>4</th>\n      <td>workclass_private</td>\n      <td>17.983133</td>\n      <td>0.000022</td>\n      <td>0.002662</td>\n    </tr>\n    <tr>\n      <th>15</th>\n      <td>gave birth this year_Yes</td>\n      <td>16.481382</td>\n      <td>0.000049</td>\n      <td>0.005683</td>\n    </tr>\n    <tr>\n      <th>27</th>\n      <td>occupation_Production/Assembly</td>\n      <td>16.442840</td>\n      <td>0.000050</td>\n      <td>0.005529</td>\n    </tr>\n    <tr>\n      <th>11</th>\n      <td>marital status_Separated</td>\n      <td>9.749817</td>\n      <td>0.001793</td>\n      <td>0.000000</td>\n    </tr>\n    <tr>\n      <th>20</th>\n      <td>occupation_Farming, Fishing, Forestry</td>\n      <td>5.728989</td>\n      <td>0.016687</td>\n      <td>0.009430</td>\n    </tr>\n    <tr>\n      <th>25</th>\n      <td>occupation_Military Services</td>\n      <td>5.465297</td>\n      <td>0.019398</td>\n      <td>0.000000</td>\n    </tr>\n    <tr>\n      <th>30</th>\n      <td>occupation_Sales</td>\n      <td>5.294091</td>\n      <td>0.021398</td>\n      <td>0.000533</td>\n    </tr>\n    <tr>\n      <th>5</th>\n      <td>workclass_self employed</td>\n      <td>3.606871</td>\n      <td>0.057541</td>\n      <td>0.004633</td>\n    </tr>\n    <tr>\n      <th>3</th>\n      <td>workclass_no paid work</td>\n      <td>3.282243</td>\n      <td>0.070033</td>\n      <td>0.004978</td>\n    </tr>\n    <tr>\n      <th>22</th>\n      <td>occupation_Healthcare/Medical Services</td>\n      <td>2.805084</td>\n      <td>0.093966</td>\n      <td>0.000000</td>\n    </tr>\n    <tr>\n      <th>17</th>\n      <td>occupation_Counseling/Mental Health Services</td>\n      <td>2.708154</td>\n      <td>0.099836</td>\n      <td>0.001141</td>\n    </tr>\n    <tr>\n      <th>8</th>\n      <td>marital status_Divorced</td>\n      <td>1.456540</td>\n      <td>0.227481</td>\n      <td>0.000000</td>\n    </tr>\n    <tr>\n      <th>28</th>\n      <td>occupation_Protective Services</td>\n      <td>1.131984</td>\n      <td>0.287353</td>\n      <td>0.004678</td>\n    </tr>\n    <tr>\n      <th>19</th>\n      <td>occupation_Entertainment</td>\n      <td>0.357529</td>\n      <td>0.549882</td>\n      <td>0.000000</td>\n    </tr>\n    <tr>\n      <th>14</th>\n      <td>gave birth this year_No</td>\n      <td>0.237784</td>\n      <td>0.625811</td>\n      <td>0.000000</td>\n    </tr>\n    <tr>\n      <th>12</th>\n      <td>marital status_Widowed</td>\n      <td>0.066950</td>\n      <td>0.795831</td>\n      <td>0.000000</td>\n    </tr>\n    <tr>\n      <th>18</th>\n      <td>occupation_Education</td>\n      <td>0.010784</td>\n      <td>0.917291</td>\n      <td>0.000818</td>\n    </tr>\n  </tbody>\n</table>\n</div>"
     },
     "execution_count": 98,
     "metadata": {},
     "output_type": "execute_result"
    }
   ],
   "source": [
    "feature_importance_df"
   ],
   "metadata": {
    "collapsed": false,
    "ExecuteTime": {
     "end_time": "2024-04-20T00:52:01.456128800Z",
     "start_time": "2024-04-20T00:52:01.427613Z"
    }
   },
   "id": "dbd40765c723b775",
   "execution_count": 98
  },
  {
   "cell_type": "markdown",
   "source": [
    "For now, there is not much more we can do here. A part of feature selection is concerned with 'selection methods', but we need a model (to evaluate the performance of the selected features). These include: Forward Addition, Backward Elimination (, Recursive Feature Elimination, etc.), Feature Regularization, SHAP, Boruta, etc. In the model files, we might use some of these methods."
   ],
   "metadata": {
    "collapsed": false
   },
   "id": "b10db50efcd56141"
  },
  {
   "cell_type": "markdown",
   "source": [
    "### Conclusion\n",
    "\n",
    "Columns to use (possibly in order of importance): 'age', 'workinghours', 'education', 'marital status' (encoded), 'occupation' (encoded), 'workclass' (encoded)\n",
    "Columns to exclude: 'sex' (maybe), 'ability to speak english', 'gave birth this year'"
   ],
   "metadata": {
    "collapsed": false
   },
   "id": "d915979910f810f4"
  }
 ],
 "metadata": {
  "kernelspec": {
   "display_name": "Python 3",
   "language": "python",
   "name": "python3"
  },
  "language_info": {
   "codemirror_mode": {
    "name": "ipython",
    "version": 2
   },
   "file_extension": ".py",
   "mimetype": "text/x-python",
   "name": "python",
   "nbconvert_exporter": "python",
   "pygments_lexer": "ipython2",
   "version": "2.7.6"
  }
 },
 "nbformat": 4,
 "nbformat_minor": 5
}
