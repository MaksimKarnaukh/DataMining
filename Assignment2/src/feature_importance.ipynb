{
 "cells": [
  {
   "cell_type": "code",
   "execution_count": 296,
   "id": "initial_id",
   "metadata": {
    "collapsed": true,
    "ExecuteTime": {
     "end_time": "2024-04-08T02:42:19.558344400Z",
     "start_time": "2024-04-08T02:42:19.503162700Z"
    }
   },
   "outputs": [],
   "source": [
    "from typing import List, Tuple\n",
    "from helper.helper_functions import load_dataset, save_model\n",
    "import pandas as pd\n",
    "import seaborn as sns\n",
    "import matplotlib.pyplot as plt\n",
    "\n",
    "from sklearn.feature_selection import chi2\n",
    "from sklearn.feature_selection import SelectKBest\n",
    "from sklearn.feature_selection import mutual_info_classif"
   ]
  },
  {
   "cell_type": "code",
   "outputs": [],
   "source": [
    "data = load_dataset('../data/assignment2_income_cleaned.xlsx')"
   ],
   "metadata": {
    "collapsed": false,
    "ExecuteTime": {
     "end_time": "2024-04-08T02:42:21.617838800Z",
     "start_time": "2024-04-08T02:42:19.543384600Z"
    }
   },
   "id": "1d6e1d2cf164f793",
   "execution_count": 297
  },
  {
   "cell_type": "code",
   "outputs": [],
   "source": [
    "# Splitting the data into features (X) and target (y)\n",
    "X = data.drop(columns=['income'])\n",
    "y = data['income']"
   ],
   "metadata": {
    "collapsed": false,
    "ExecuteTime": {
     "end_time": "2024-04-08T02:42:21.629686900Z",
     "start_time": "2024-04-08T02:42:21.618836700Z"
    }
   },
   "id": "aeaa5208932cde71",
   "execution_count": 298
  },
  {
   "cell_type": "code",
   "outputs": [],
   "source": [
    "columns_to_use = ['age', 'workclass', 'education', 'marital status', 'occupation', 'workinghours', 'sex', 'ability to speak english', 'gave birth this year']"
   ],
   "metadata": {
    "collapsed": false,
    "ExecuteTime": {
     "end_time": "2024-04-08T02:42:21.664926600Z",
     "start_time": "2024-04-08T02:42:21.627693Z"
    }
   },
   "id": "a643bf074dfc2a7a",
   "execution_count": 299
  },
  {
   "cell_type": "markdown",
   "source": [
    "- **Categorical features**:\n",
    "    - **nominal features**:\n",
    "        'workclass', 'marital status', 'occupation', 'sex', and 'gave birth this year'\n",
    "    - **ordinal features**:\n",
    "        'education', 'ability to speak English'\n",
    "- **Continuous features**:\n",
    "    'age', 'workinghours'"
   ],
   "metadata": {
    "collapsed": false
   },
   "id": "d32c7c40ddfaf26d"
  },
  {
   "cell_type": "markdown",
   "source": [
    "### a\n",
    "Point-biserial correlation is a special case of Pearson correlation coefficient used when one variable is continuous and the other is dichotomous (binary).\n",
    "\n",
    "https://en.wikipedia.org/wiki/Point-biserial_correlation_coefficient\n",
    "https://resources.nu.edu/statsresources/Pointbiserial"
   ],
   "metadata": {
    "collapsed": false
   },
   "id": "dff898d0ffa6f9eb"
  },
  {
   "cell_type": "code",
   "outputs": [
    {
     "name": "stdout",
     "output_type": "stream",
     "text": [
      "Shapiro-Wilk Test (age) - Statistic: 0.974037822220245, P-value: 0.0000000000\n",
      "Kolmogorov-Smirnov Test (age) - Statistic: 1.0, P-value: 0.0000000000\n",
      "Shapiro-Wilk Test (workinghours) - Statistic: 0.8889242919715895, P-value: 0.0000000000\n",
      "Kolmogorov-Smirnov Test (workinghours) - Statistic: 0.9946501019683699, P-value: 0.0000000000\n"
     ]
    },
    {
     "name": "stderr",
     "output_type": "stream",
     "text": [
      "F:\\PyCharmProjects\\DataMining\\.venv\\Lib\\site-packages\\scipy\\stats\\_axis_nan_policy.py:531: UserWarning: scipy.stats.shapiro: For N > 5000, computed p-value may not be accurate. Current N is 9000.\n",
      "  res = hypotest_fun_out(*samples, **kwds)\n"
     ]
    }
   ],
   "source": [
    "from scipy.stats import shapiro, kstest\n",
    "\n",
    "continuous_features = ['age', 'workinghours']\n",
    "\n",
    "for feature in continuous_features:\n",
    "    # Shapiro-Wilk Test\n",
    "    shapiro_stat, shapiro_p_value = shapiro(data[feature])\n",
    "    print(f\"Shapiro-Wilk Test ({feature}) - Statistic: {shapiro_stat}, P-value: {shapiro_p_value:.10f}\")\n",
    "\n",
    "    # Kolmogorov-Smirnov Test\n",
    "    ks_stat, ks_p_value = kstest(data[feature], 'norm')\n",
    "    print(f\"Kolmogorov-Smirnov Test ({feature}) - Statistic: {ks_stat}, P-value: {ks_p_value:.10f}\")"
   ],
   "metadata": {
    "collapsed": false,
    "ExecuteTime": {
     "end_time": "2024-04-08T02:42:21.700724200Z",
     "start_time": "2024-04-08T02:42:21.665924900Z"
    }
   },
   "id": "ef8437b977e1495f",
   "execution_count": 300
  },
  {
   "cell_type": "code",
   "outputs": [
    {
     "name": "stdout",
     "output_type": "stream",
     "text": [
      "Point-Biserial Correlation Coefficient for 'age': 0.280, P-value: 0.000000\n",
      "Point-Biserial Correlation Coefficient for 'workinghours': 0.295, P-value: 0.000000\n"
     ]
    }
   ],
   "source": [
    "from scipy.stats import pointbiserialr\n",
    "# Encode the binary class feature as numeric values\n",
    "binary_class_feature = 'binary_class_feature'\n",
    "data[binary_class_feature] = data['income'].map({'low': 0, 'high': 1})\n",
    "\n",
    "for feature in continuous_features:\n",
    "    point_biserial_corr, p_value = pointbiserialr(data[feature], data[binary_class_feature])\n",
    "    print(f\"Point-Biserial Correlation Coefficient for '{feature}': {point_biserial_corr:.3f}, P-value: {p_value:.6f}\")"
   ],
   "metadata": {
    "collapsed": false,
    "ExecuteTime": {
     "end_time": "2024-04-08T02:42:21.714687200Z",
     "start_time": "2024-04-08T02:42:21.694739800Z"
    }
   },
   "id": "7b4bab5c9aaefabe",
   "execution_count": 301
  },
  {
   "cell_type": "code",
   "outputs": [
    {
     "name": "stdout",
     "output_type": "stream",
     "text": [
      "Spearman's Rank Correlation Coefficients:\n",
      "   age: 0.284 (p-value: 0.000)\n",
      "   workinghours: 0.328 (p-value: 0.000)\n",
      "\n",
      "Kendall's Tau Correlation Coefficients:\n",
      "   age: 0.234 (p-value: 0.000)\n",
      "   workinghours: 0.290 (p-value: 0.000)\n"
     ]
    }
   ],
   "source": [
    "from scipy.stats import spearmanr, kendalltau\n",
    "\n",
    "# Calculate Spearman's rank correlation coefficient for each continuous feature\n",
    "print(\"Spearman's Rank Correlation Coefficients:\")\n",
    "for feature in continuous_features:\n",
    "    spearman_corr, spearman_p_value = spearmanr(data[feature], data[binary_class_feature])\n",
    "    print(f\"   {feature}: {spearman_corr:.3f} (p-value: {spearman_p_value:.3f})\")\n",
    "\n",
    "# Calculate Kendall's tau correlation coefficient for each continuous feature\n",
    "print(\"\\nKendall's Tau Correlation Coefficients:\")\n",
    "for feature in continuous_features:\n",
    "    kendall_tau_corr, kendall_tau_p_value = kendalltau(data[feature], data[binary_class_feature])\n",
    "    print(f\"   {feature}: {kendall_tau_corr:.3f} (p-value: {kendall_tau_p_value:.3f})\")"
   ],
   "metadata": {
    "collapsed": false,
    "ExecuteTime": {
     "end_time": "2024-04-08T02:42:21.780663Z",
     "start_time": "2024-04-08T02:42:21.714687200Z"
    }
   },
   "id": "8b3d68002838ab7",
   "execution_count": 302
  },
  {
   "cell_type": "markdown",
   "source": [
    "### b"
   ],
   "metadata": {
    "collapsed": false
   },
   "id": "dd1bf6e0c1ccd7c3"
  },
  {
   "cell_type": "code",
   "outputs": [],
   "source": [
    "from sklearn.preprocessing import OneHotEncoder, LabelEncoder\n",
    "from sklearn.feature_selection import SelectPercentile, chi2\n",
    "\n",
    "# List of nominal features\n",
    "nominal_features_lc = ['workclass', 'sex', 'marital status', 'gave birth this year'] # low count\n",
    "nominal_features_hc = ['occupation']\n",
    "\n",
    "# Initialize encoder\n",
    "one_hot_encoder = OneHotEncoder(handle_unknown='ignore', sparse_output=False)\n",
    "label_encoder = LabelEncoder()"
   ],
   "metadata": {
    "collapsed": false,
    "ExecuteTime": {
     "end_time": "2024-04-08T02:42:21.781660900Z",
     "start_time": "2024-04-08T02:42:21.734150400Z"
    }
   },
   "id": "324a70fe32286a35",
   "execution_count": 303
  },
  {
   "cell_type": "code",
   "outputs": [],
   "source": [
    "X_encoded = X.copy()\n",
    "# Encode nominal features with high count using label encoding\n",
    "# nominal_encoded_hc = label_encoder.fit_transform(X[nominal_features_hc])\n",
    "# nominal_encoded_hc_df = pd.DataFrame(nominal_encoded_hc, columns=[f'{feature}_encoded' for feature in nominal_features_hc])\n",
    "X_encoded['occupation'] = label_encoder.fit_transform(X['occupation'])\n",
    "\n",
    "# Encode nominal features\n",
    "nominal_encoded_lc = one_hot_encoder.fit_transform(X[nominal_features_lc])\n",
    "nominal_encoded_df_lc = pd.DataFrame(nominal_encoded_lc, columns=one_hot_encoder.get_feature_names_out(nominal_features_lc))\n",
    "\n",
    "X_encoded = pd.concat([X_encoded, nominal_encoded_df_lc], axis=1).drop(columns=nominal_features_lc + nominal_features_hc)"
   ],
   "metadata": {
    "collapsed": false,
    "ExecuteTime": {
     "end_time": "2024-04-08T02:42:21.813313500Z",
     "start_time": "2024-04-08T02:42:21.744123400Z"
    }
   },
   "id": "870c238cb5ed3ec6",
   "execution_count": 304
  },
  {
   "cell_type": "code",
   "outputs": [
    {
     "data": {
      "text/plain": "      age  education  workinghours  ability to speak english  \\\n0      52         16            50                         0   \n1      60         20            30                         0   \n2      64         21            40                         0   \n3      64         17            40                         0   \n4      31         15            40                         0   \n...   ...        ...           ...                       ...   \n8995   28         16            40                         0   \n8996   61         24            40                         0   \n8997   34         23            50                         0   \n8998   60         19            40                         0   \n8999   50         20            30                         0   \n\n      workclass_governmental  workclass_no paid work  workclass_private  \\\n0                        0.0                     0.0                0.0   \n1                        0.0                     0.0                1.0   \n2                        0.0                     0.0                1.0   \n3                        0.0                     0.0                1.0   \n4                        0.0                     0.0                1.0   \n...                      ...                     ...                ...   \n8995                     0.0                     0.0                1.0   \n8996                     1.0                     0.0                0.0   \n8997                     1.0                     0.0                0.0   \n8998                     0.0                     0.0                1.0   \n8999                     0.0                     0.0                1.0   \n\n      workclass_self employed  sex_Female  sex_Male  marital status_Divorced  \\\n0                         1.0         0.0       1.0                      0.0   \n1                         0.0         1.0       0.0                      1.0   \n2                         0.0         0.0       1.0                      1.0   \n3                         0.0         0.0       1.0                      0.0   \n4                         0.0         0.0       1.0                      0.0   \n...                       ...         ...       ...                      ...   \n8995                      0.0         1.0       0.0                      0.0   \n8996                      0.0         1.0       0.0                      0.0   \n8997                      0.0         1.0       0.0                      0.0   \n8998                      0.0         0.0       1.0                      0.0   \n8999                      0.0         1.0       0.0                      0.0   \n\n      marital status_Husband  marital status_Never married  \\\n0                        0.0                           0.0   \n1                        0.0                           0.0   \n2                        0.0                           0.0   \n3                        1.0                           0.0   \n4                        1.0                           0.0   \n...                      ...                           ...   \n8995                     0.0                           1.0   \n8996                     0.0                           0.0   \n8997                     0.0                           0.0   \n8998                     1.0                           0.0   \n8999                     0.0                           0.0   \n\n      marital status_Separated  marital status_Widowed  marital status_Wife  \\\n0                          0.0                     1.0                  0.0   \n1                          0.0                     0.0                  0.0   \n2                          0.0                     0.0                  0.0   \n3                          0.0                     0.0                  0.0   \n4                          0.0                     0.0                  0.0   \n...                        ...                     ...                  ...   \n8995                       0.0                     0.0                  0.0   \n8996                       0.0                     0.0                  1.0   \n8997                       0.0                     0.0                  1.0   \n8998                       0.0                     0.0                  0.0   \n8999                       0.0                     0.0                  1.0   \n\n      gave birth this year_No  gave birth this year_Yes  \n0                         1.0                       0.0  \n1                         1.0                       0.0  \n2                         1.0                       0.0  \n3                         1.0                       0.0  \n4                         1.0                       0.0  \n...                       ...                       ...  \n8995                      1.0                       0.0  \n8996                      1.0                       0.0  \n8997                      1.0                       0.0  \n8998                      1.0                       0.0  \n8999                      1.0                       0.0  \n\n[9000 rows x 18 columns]",
      "text/html": "<div>\n<style scoped>\n    .dataframe tbody tr th:only-of-type {\n        vertical-align: middle;\n    }\n\n    .dataframe tbody tr th {\n        vertical-align: top;\n    }\n\n    .dataframe thead th {\n        text-align: right;\n    }\n</style>\n<table border=\"1\" class=\"dataframe\">\n  <thead>\n    <tr style=\"text-align: right;\">\n      <th></th>\n      <th>age</th>\n      <th>education</th>\n      <th>workinghours</th>\n      <th>ability to speak english</th>\n      <th>workclass_governmental</th>\n      <th>workclass_no paid work</th>\n      <th>workclass_private</th>\n      <th>workclass_self employed</th>\n      <th>sex_Female</th>\n      <th>sex_Male</th>\n      <th>marital status_Divorced</th>\n      <th>marital status_Husband</th>\n      <th>marital status_Never married</th>\n      <th>marital status_Separated</th>\n      <th>marital status_Widowed</th>\n      <th>marital status_Wife</th>\n      <th>gave birth this year_No</th>\n      <th>gave birth this year_Yes</th>\n    </tr>\n  </thead>\n  <tbody>\n    <tr>\n      <th>0</th>\n      <td>52</td>\n      <td>16</td>\n      <td>50</td>\n      <td>0</td>\n      <td>0.0</td>\n      <td>0.0</td>\n      <td>0.0</td>\n      <td>1.0</td>\n      <td>0.0</td>\n      <td>1.0</td>\n      <td>0.0</td>\n      <td>0.0</td>\n      <td>0.0</td>\n      <td>0.0</td>\n      <td>1.0</td>\n      <td>0.0</td>\n      <td>1.0</td>\n      <td>0.0</td>\n    </tr>\n    <tr>\n      <th>1</th>\n      <td>60</td>\n      <td>20</td>\n      <td>30</td>\n      <td>0</td>\n      <td>0.0</td>\n      <td>0.0</td>\n      <td>1.0</td>\n      <td>0.0</td>\n      <td>1.0</td>\n      <td>0.0</td>\n      <td>1.0</td>\n      <td>0.0</td>\n      <td>0.0</td>\n      <td>0.0</td>\n      <td>0.0</td>\n      <td>0.0</td>\n      <td>1.0</td>\n      <td>0.0</td>\n    </tr>\n    <tr>\n      <th>2</th>\n      <td>64</td>\n      <td>21</td>\n      <td>40</td>\n      <td>0</td>\n      <td>0.0</td>\n      <td>0.0</td>\n      <td>1.0</td>\n      <td>0.0</td>\n      <td>0.0</td>\n      <td>1.0</td>\n      <td>1.0</td>\n      <td>0.0</td>\n      <td>0.0</td>\n      <td>0.0</td>\n      <td>0.0</td>\n      <td>0.0</td>\n      <td>1.0</td>\n      <td>0.0</td>\n    </tr>\n    <tr>\n      <th>3</th>\n      <td>64</td>\n      <td>17</td>\n      <td>40</td>\n      <td>0</td>\n      <td>0.0</td>\n      <td>0.0</td>\n      <td>1.0</td>\n      <td>0.0</td>\n      <td>0.0</td>\n      <td>1.0</td>\n      <td>0.0</td>\n      <td>1.0</td>\n      <td>0.0</td>\n      <td>0.0</td>\n      <td>0.0</td>\n      <td>0.0</td>\n      <td>1.0</td>\n      <td>0.0</td>\n    </tr>\n    <tr>\n      <th>4</th>\n      <td>31</td>\n      <td>15</td>\n      <td>40</td>\n      <td>0</td>\n      <td>0.0</td>\n      <td>0.0</td>\n      <td>1.0</td>\n      <td>0.0</td>\n      <td>0.0</td>\n      <td>1.0</td>\n      <td>0.0</td>\n      <td>1.0</td>\n      <td>0.0</td>\n      <td>0.0</td>\n      <td>0.0</td>\n      <td>0.0</td>\n      <td>1.0</td>\n      <td>0.0</td>\n    </tr>\n    <tr>\n      <th>...</th>\n      <td>...</td>\n      <td>...</td>\n      <td>...</td>\n      <td>...</td>\n      <td>...</td>\n      <td>...</td>\n      <td>...</td>\n      <td>...</td>\n      <td>...</td>\n      <td>...</td>\n      <td>...</td>\n      <td>...</td>\n      <td>...</td>\n      <td>...</td>\n      <td>...</td>\n      <td>...</td>\n      <td>...</td>\n      <td>...</td>\n    </tr>\n    <tr>\n      <th>8995</th>\n      <td>28</td>\n      <td>16</td>\n      <td>40</td>\n      <td>0</td>\n      <td>0.0</td>\n      <td>0.0</td>\n      <td>1.0</td>\n      <td>0.0</td>\n      <td>1.0</td>\n      <td>0.0</td>\n      <td>0.0</td>\n      <td>0.0</td>\n      <td>1.0</td>\n      <td>0.0</td>\n      <td>0.0</td>\n      <td>0.0</td>\n      <td>1.0</td>\n      <td>0.0</td>\n    </tr>\n    <tr>\n      <th>8996</th>\n      <td>61</td>\n      <td>24</td>\n      <td>40</td>\n      <td>0</td>\n      <td>1.0</td>\n      <td>0.0</td>\n      <td>0.0</td>\n      <td>0.0</td>\n      <td>1.0</td>\n      <td>0.0</td>\n      <td>0.0</td>\n      <td>0.0</td>\n      <td>0.0</td>\n      <td>0.0</td>\n      <td>0.0</td>\n      <td>1.0</td>\n      <td>1.0</td>\n      <td>0.0</td>\n    </tr>\n    <tr>\n      <th>8997</th>\n      <td>34</td>\n      <td>23</td>\n      <td>50</td>\n      <td>0</td>\n      <td>1.0</td>\n      <td>0.0</td>\n      <td>0.0</td>\n      <td>0.0</td>\n      <td>1.0</td>\n      <td>0.0</td>\n      <td>0.0</td>\n      <td>0.0</td>\n      <td>0.0</td>\n      <td>0.0</td>\n      <td>0.0</td>\n      <td>1.0</td>\n      <td>1.0</td>\n      <td>0.0</td>\n    </tr>\n    <tr>\n      <th>8998</th>\n      <td>60</td>\n      <td>19</td>\n      <td>40</td>\n      <td>0</td>\n      <td>0.0</td>\n      <td>0.0</td>\n      <td>1.0</td>\n      <td>0.0</td>\n      <td>0.0</td>\n      <td>1.0</td>\n      <td>0.0</td>\n      <td>1.0</td>\n      <td>0.0</td>\n      <td>0.0</td>\n      <td>0.0</td>\n      <td>0.0</td>\n      <td>1.0</td>\n      <td>0.0</td>\n    </tr>\n    <tr>\n      <th>8999</th>\n      <td>50</td>\n      <td>20</td>\n      <td>30</td>\n      <td>0</td>\n      <td>0.0</td>\n      <td>0.0</td>\n      <td>1.0</td>\n      <td>0.0</td>\n      <td>1.0</td>\n      <td>0.0</td>\n      <td>0.0</td>\n      <td>0.0</td>\n      <td>0.0</td>\n      <td>0.0</td>\n      <td>0.0</td>\n      <td>1.0</td>\n      <td>1.0</td>\n      <td>0.0</td>\n    </tr>\n  </tbody>\n</table>\n<p>9000 rows × 18 columns</p>\n</div>"
     },
     "execution_count": 305,
     "metadata": {},
     "output_type": "execute_result"
    }
   ],
   "source": [
    "X_encoded"
   ],
   "metadata": {
    "collapsed": false,
    "ExecuteTime": {
     "end_time": "2024-04-08T02:42:21.816306300Z",
     "start_time": "2024-04-08T02:42:21.776674800Z"
    }
   },
   "id": "dd55703c1916745b",
   "execution_count": 305
  },
  {
   "cell_type": "code",
   "outputs": [],
   "source": [
    "# Feature selection using SelectPercentile with chi-squared test\n",
    "percentile_selector = SelectPercentile(score_func=chi2, percentile=10)\n",
    "X_selected = percentile_selector.fit_transform(X_encoded, y)\n",
    "\n",
    "# Get the indices of selected features\n",
    "selected_feature_indices = percentile_selector.get_support(indices=True)\n",
    "\n",
    "# Get the importance scores of selected features\n",
    "feature_importance_scores = percentile_selector.scores_\n",
    "\n",
    "# Create a DataFrame to display feature importances\n",
    "feature_importance_df = pd.DataFrame({'Feature': X_encoded.columns, 'Importance': feature_importance_scores})"
   ],
   "metadata": {
    "collapsed": false,
    "ExecuteTime": {
     "end_time": "2024-04-08T02:42:21.869382600Z",
     "start_time": "2024-04-08T02:42:21.812316700Z"
    }
   },
   "id": "8239cf535f5ea52e",
   "execution_count": 306
  },
  {
   "cell_type": "code",
   "outputs": [
    {
     "data": {
      "text/plain": "                         Feature   Importance\n0                            age  3783.249409\n1                      education   424.146521\n2                   workinghours  3098.182416\n3       ability to speak english    31.502407\n4         workclass_governmental    62.348295\n5         workclass_no paid work     3.282243\n6              workclass_private    17.983133\n7        workclass_self employed     3.606871\n8                     sex_Female   253.022927\n9                       sex_Male   126.511463\n10       marital status_Divorced     1.456540\n11        marital status_Husband   673.531893\n12  marital status_Never married   556.620501\n13      marital status_Separated     9.749817\n14        marital status_Widowed     0.066950\n15           marital status_Wife    67.470942\n16       gave birth this year_No     0.237784\n17      gave birth this year_Yes    16.481382",
      "text/html": "<div>\n<style scoped>\n    .dataframe tbody tr th:only-of-type {\n        vertical-align: middle;\n    }\n\n    .dataframe tbody tr th {\n        vertical-align: top;\n    }\n\n    .dataframe thead th {\n        text-align: right;\n    }\n</style>\n<table border=\"1\" class=\"dataframe\">\n  <thead>\n    <tr style=\"text-align: right;\">\n      <th></th>\n      <th>Feature</th>\n      <th>Importance</th>\n    </tr>\n  </thead>\n  <tbody>\n    <tr>\n      <th>0</th>\n      <td>age</td>\n      <td>3783.249409</td>\n    </tr>\n    <tr>\n      <th>1</th>\n      <td>education</td>\n      <td>424.146521</td>\n    </tr>\n    <tr>\n      <th>2</th>\n      <td>workinghours</td>\n      <td>3098.182416</td>\n    </tr>\n    <tr>\n      <th>3</th>\n      <td>ability to speak english</td>\n      <td>31.502407</td>\n    </tr>\n    <tr>\n      <th>4</th>\n      <td>workclass_governmental</td>\n      <td>62.348295</td>\n    </tr>\n    <tr>\n      <th>5</th>\n      <td>workclass_no paid work</td>\n      <td>3.282243</td>\n    </tr>\n    <tr>\n      <th>6</th>\n      <td>workclass_private</td>\n      <td>17.983133</td>\n    </tr>\n    <tr>\n      <th>7</th>\n      <td>workclass_self employed</td>\n      <td>3.606871</td>\n    </tr>\n    <tr>\n      <th>8</th>\n      <td>sex_Female</td>\n      <td>253.022927</td>\n    </tr>\n    <tr>\n      <th>9</th>\n      <td>sex_Male</td>\n      <td>126.511463</td>\n    </tr>\n    <tr>\n      <th>10</th>\n      <td>marital status_Divorced</td>\n      <td>1.456540</td>\n    </tr>\n    <tr>\n      <th>11</th>\n      <td>marital status_Husband</td>\n      <td>673.531893</td>\n    </tr>\n    <tr>\n      <th>12</th>\n      <td>marital status_Never married</td>\n      <td>556.620501</td>\n    </tr>\n    <tr>\n      <th>13</th>\n      <td>marital status_Separated</td>\n      <td>9.749817</td>\n    </tr>\n    <tr>\n      <th>14</th>\n      <td>marital status_Widowed</td>\n      <td>0.066950</td>\n    </tr>\n    <tr>\n      <th>15</th>\n      <td>marital status_Wife</td>\n      <td>67.470942</td>\n    </tr>\n    <tr>\n      <th>16</th>\n      <td>gave birth this year_No</td>\n      <td>0.237784</td>\n    </tr>\n    <tr>\n      <th>17</th>\n      <td>gave birth this year_Yes</td>\n      <td>16.481382</td>\n    </tr>\n  </tbody>\n</table>\n</div>"
     },
     "execution_count": 307,
     "metadata": {},
     "output_type": "execute_result"
    }
   ],
   "source": [
    "feature_importance_df"
   ],
   "metadata": {
    "collapsed": false,
    "ExecuteTime": {
     "end_time": "2024-04-08T02:42:21.917242Z",
     "start_time": "2024-04-08T02:42:21.844739900Z"
    }
   },
   "id": "d8cc6b33141c4a7a",
   "execution_count": 307
  },
  {
   "cell_type": "code",
   "outputs": [
    {
     "name": "stdout",
     "output_type": "stream",
     "text": [
      "Feature importances (Chi-squared test):\n",
      "                         Feature  Chi-squared statistic        P-value\n",
      "0                            age            3783.249409   0.000000e+00\n",
      "2                   workinghours            3098.182416   0.000000e+00\n",
      "11        marital status_Husband             673.531893  1.704223e-148\n",
      "12  marital status_Never married             556.620501  4.568543e-123\n",
      "1                      education             424.146521   3.054340e-94\n",
      "8                     sex_Female             253.022927   5.694163e-57\n",
      "9                       sex_Male             126.511463   2.376251e-29\n",
      "15           marital status_Wife              67.470942   2.138152e-16\n",
      "4         workclass_governmental              62.348295   2.877805e-15\n",
      "3       ability to speak english              31.502407   1.991931e-08\n",
      "6              workclass_private              17.983133   2.228710e-05\n",
      "17      gave birth this year_Yes              16.481382   4.913017e-05\n",
      "13      marital status_Separated               9.749817   1.793406e-03\n",
      "7        workclass_self employed               3.606871   5.754130e-02\n",
      "5         workclass_no paid work               3.282243   7.003315e-02\n",
      "10       marital status_Divorced               1.456540   2.274815e-01\n",
      "16       gave birth this year_No               0.237784   6.258115e-01\n",
      "14        marital status_Widowed               0.066950   7.958311e-01\n"
     ]
    }
   ],
   "source": [
    "# Calculate chi-squared statistics and p-values between each feature and the target class\n",
    "chi2_stat, p_values = chi2(X_encoded, y)\n",
    "\n",
    "# Create a DataFrame to display chi-squared statistics and p-values\n",
    "feature_importance_df = pd.DataFrame({'Feature': X_encoded.columns, 'Chi-squared statistic': chi2_stat, 'P-value': p_values})\n",
    "\n",
    "# Sort the DataFrame by chi-squared statistic in descending order\n",
    "feature_importance_df = feature_importance_df.sort_values(by='Chi-squared statistic', ascending=False)\n",
    "\n",
    "print(\"Feature importances (Chi-squared test):\")\n",
    "print(feature_importance_df)"
   ],
   "metadata": {
    "collapsed": false,
    "ExecuteTime": {
     "end_time": "2024-04-08T02:42:21.952148800Z",
     "start_time": "2024-04-08T02:42:21.856418200Z"
    }
   },
   "id": "dbd40765c723b775",
   "execution_count": 308
  },
  {
   "cell_type": "code",
   "outputs": [
    {
     "name": "stdout",
     "output_type": "stream",
     "text": [
      "Feature importances (Mutual Information):\n",
      "                         Feature  Importance\n",
      "11        marital status_Husband    0.067315\n",
      "2                   workinghours    0.062132\n",
      "0                            age    0.061749\n",
      "1                      education    0.055201\n",
      "12  marital status_Never married    0.039803\n",
      "9                       sex_Male    0.022598\n",
      "8                     sex_Female    0.018220\n",
      "3       ability to speak english    0.008561\n",
      "6              workclass_private    0.006189\n",
      "16       gave birth this year_No    0.006153\n",
      "15           marital status_Wife    0.003860\n",
      "4         workclass_governmental    0.001674\n",
      "17      gave birth this year_Yes    0.000550\n",
      "10       marital status_Divorced    0.000116\n",
      "7        workclass_self employed    0.000000\n",
      "5         workclass_no paid work    0.000000\n",
      "13      marital status_Separated    0.000000\n",
      "14        marital status_Widowed    0.000000\n"
     ]
    }
   ],
   "source": [
    "# Calculate mutual information between each feature and the target class\n",
    "mutual_info = mutual_info_classif(X_encoded, y)\n",
    "\n",
    "# Create a DataFrame to display feature importances\n",
    "feature_importance_df = pd.DataFrame({'Feature': X_encoded.columns, 'Importance': mutual_info})\n",
    "\n",
    "# Sort the DataFrame by importance\n",
    "feature_importance_df = feature_importance_df.sort_values(by='Importance', ascending=False)\n",
    "\n",
    "# Print feature importances\n",
    "print(\"Feature importances (Mutual Information):\")\n",
    "print(feature_importance_df)"
   ],
   "metadata": {
    "collapsed": false,
    "ExecuteTime": {
     "end_time": "2024-04-08T02:42:23.187170300Z",
     "start_time": "2024-04-08T02:42:21.891311800Z"
    }
   },
   "id": "e370e15bcb285b9b",
   "execution_count": 309
  },
  {
   "cell_type": "code",
   "outputs": [],
   "source": [],
   "metadata": {
    "collapsed": false,
    "ExecuteTime": {
     "end_time": "2024-04-08T02:42:23.189244300Z",
     "start_time": "2024-04-08T02:42:23.185661400Z"
    }
   },
   "id": "c164e12804e88301",
   "execution_count": 309
  }
 ],
 "metadata": {
  "kernelspec": {
   "display_name": "Python 3",
   "language": "python",
   "name": "python3"
  },
  "language_info": {
   "codemirror_mode": {
    "name": "ipython",
    "version": 2
   },
   "file_extension": ".py",
   "mimetype": "text/x-python",
   "name": "python",
   "nbconvert_exporter": "python",
   "pygments_lexer": "ipython2",
   "version": "2.7.6"
  }
 },
 "nbformat": 4,
 "nbformat_minor": 5
}
