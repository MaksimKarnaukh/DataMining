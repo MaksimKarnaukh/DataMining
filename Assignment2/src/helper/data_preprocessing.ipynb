{
 "cells": [
  {
   "cell_type": "code",
   "execution_count": 1,
   "id": "initial_id",
   "metadata": {
    "collapsed": true,
    "ExecuteTime": {
     "end_time": "2024-04-07T21:31:04.310261100Z",
     "start_time": "2024-04-07T21:31:03.855080500Z"
    }
   },
   "source": [
    "from helper_functions import load_dataset, save_dataset"
   ],
   "outputs": []
  },
  {
   "cell_type": "markdown",
   "source": [
    "### Loading the dataset"
   ],
   "metadata": {
    "collapsed": false
   },
   "id": "c78e6b2511ae4d27"
  },
  {
   "cell_type": "code",
   "source": [
    "data = load_dataset(\"../../data/assignment2_income.xlsx\")"
   ],
   "metadata": {
    "collapsed": false,
    "ExecuteTime": {
     "end_time": "2024-04-07T21:31:07.030560100Z",
     "start_time": "2024-04-07T21:31:04.313253200Z"
    }
   },
   "id": "4e165449a3c30d28",
   "execution_count": 2,
   "outputs": []
  },
  {
   "cell_type": "code",
   "source": [
    "data['ability to speak english'] = data['ability to speak english'].fillna(0)\n",
    "data['gave birth this year'] = data['gave birth this year'].fillna('No')"
   ],
   "metadata": {
    "collapsed": false,
    "ExecuteTime": {
     "end_time": "2024-04-07T21:31:07.044542500Z",
     "start_time": "2024-04-07T21:31:07.029562400Z"
    }
   },
   "id": "c95e49135aeff2cf",
   "execution_count": 3,
   "outputs": []
  },
  {
   "cell_type": "code",
   "source": [
    "data['age'] = data['age'].astype('int8') # in our dataset: min age is 17 and max age is 93\n",
    "data['education'] = data['education'].astype('int8') # in our dataset: min education is 1 and max education is 24\n",
    "data['workinghours'] = data['workinghours'].astype('int8') # in our dataset: min working hours is 1 and max working hours is 99\n",
    "data['ability to speak english'] = data['ability to speak english'].astype('int8') # in our dataset: min number of 'ability to speak english' is 0 and max ability to speak english is 4"
   ],
   "metadata": {
    "collapsed": false,
    "ExecuteTime": {
     "end_time": "2024-04-07T21:31:07.163304200Z",
     "start_time": "2024-04-07T21:31:07.105458900Z"
    }
   },
   "id": "67988124ff4e1d98",
   "execution_count": 5,
   "outputs": []
  },
  {
   "cell_type": "markdown",
   "source": [
    "### Final step"
   ],
   "metadata": {
    "collapsed": false
   },
   "id": "677af7b502368b95"
  },
  {
   "cell_type": "code",
   "source": [
    "data"
   ],
   "metadata": {
    "collapsed": false,
    "ExecuteTime": {
     "end_time": "2024-04-07T21:31:07.251080100Z",
     "start_time": "2024-04-07T21:31:07.163304200Z"
    }
   },
   "id": "bd5ef2577ad54bb3",
   "execution_count": 6,
   "outputs": []
  },
  {
   "cell_type": "code",
   "source": [
    "data.info()"
   ],
   "metadata": {
    "collapsed": false,
    "ExecuteTime": {
     "end_time": "2024-04-07T21:31:07.294007300Z",
     "start_time": "2024-04-07T21:31:07.250081500Z"
    }
   },
   "id": "4120f93127996a64",
   "execution_count": 7,
   "outputs": []
  },
  {
   "cell_type": "markdown",
   "source": [
    "### Writing the cleaned dataset to a new file"
   ],
   "metadata": {
    "collapsed": false
   },
   "id": "df57e990f6c89b38"
  },
  {
   "cell_type": "code",
   "source": [
    "# write cleaned dataset to new file\n",
    "save_dataset(data, \"../../data/assignment2_income_cleaned.xlsx\")"
   ],
   "metadata": {
    "collapsed": false,
    "ExecuteTime": {
     "end_time": "2024-04-07T21:31:10.371609700Z",
     "start_time": "2024-04-07T21:31:07.290017800Z"
    }
   },
   "id": "584085f3b0d93ea6",
   "execution_count": 8,
   "outputs": []
  }
 ],
 "metadata": {
  "kernelspec": {
   "display_name": "Python 3",
   "language": "python",
   "name": "python3"
  },
  "language_info": {
   "codemirror_mode": {
    "name": "ipython",
    "version": 2
   },
   "file_extension": ".py",
   "mimetype": "text/x-python",
   "name": "python",
   "nbconvert_exporter": "python",
   "pygments_lexer": "ipython2",
   "version": "2.7.6"
  }
 },
 "nbformat": 4,
 "nbformat_minor": 5
}
