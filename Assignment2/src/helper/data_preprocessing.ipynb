{
 "cells": [
  {
   "cell_type": "code",
   "execution_count": 15,
   "id": "initial_id",
   "metadata": {
    "collapsed": true,
    "ExecuteTime": {
     "end_time": "2024-04-04T03:37:25.829590300Z",
     "start_time": "2024-04-04T03:37:25.774669Z"
    }
   },
   "outputs": [],
   "source": [
    "from helper_functions import load_dataset, save_dataset"
   ]
  },
  {
   "cell_type": "markdown",
   "source": [
    "### Loading the dataset"
   ],
   "metadata": {
    "collapsed": false
   },
   "id": "c78e6b2511ae4d27"
  },
  {
   "cell_type": "code",
   "outputs": [],
   "source": [
    "data = load_dataset(\"../../data/assignment2_income.xlsx\")"
   ],
   "metadata": {
    "collapsed": false,
    "ExecuteTime": {
     "end_time": "2024-04-04T03:37:27.198636100Z",
     "start_time": "2024-04-04T03:37:25.816625900Z"
    }
   },
   "id": "4e165449a3c30d28",
   "execution_count": 16
  },
  {
   "cell_type": "code",
   "outputs": [],
   "source": [
    "data['ability to speak english'] = data['ability to speak english'].fillna(0)"
   ],
   "metadata": {
    "collapsed": false,
    "ExecuteTime": {
     "end_time": "2024-04-04T03:37:27.212898400Z",
     "start_time": "2024-04-04T03:37:27.199633600Z"
    }
   },
   "id": "c95e49135aeff2cf",
   "execution_count": 17
  },
  {
   "cell_type": "code",
   "outputs": [],
   "source": [
    "data['gave birth this year'] = data['gave birth this year'].fillna('No')"
   ],
   "metadata": {
    "collapsed": false,
    "ExecuteTime": {
     "end_time": "2024-04-04T03:37:27.221994Z",
     "start_time": "2024-04-04T03:37:27.211902300Z"
    }
   },
   "id": "23210f30d5c0155b",
   "execution_count": 18
  },
  {
   "cell_type": "code",
   "outputs": [],
   "source": [
    "data['age'] = data['age'].astype('int8') # in our dataset: min age is 17 and max age is 93\n",
    "data['education'] = data['education'].astype('int8') # in our dataset: min education is 1 and max education is 24\n",
    "data['workinghours'] = data['workinghours'].astype('int8') # in our dataset: min working hours is 1 and max working hours is 99\n",
    "data['ability to speak english'] = data['ability to speak english'].astype('int8') # in our dataset: min number of 'ability to speak english' is 0 and max ability to speak english is 4"
   ],
   "metadata": {
    "collapsed": false,
    "ExecuteTime": {
     "end_time": "2024-04-04T03:37:27.459075200Z",
     "start_time": "2024-04-04T03:37:27.223989300Z"
    }
   },
   "id": "67988124ff4e1d98",
   "execution_count": 19
  },
  {
   "cell_type": "markdown",
   "source": [
    "### Final step"
   ],
   "metadata": {
    "collapsed": false
   },
   "id": "677af7b502368b95"
  },
  {
   "cell_type": "code",
   "outputs": [
    {
     "data": {
      "text/plain": "      age      workclass  education marital status  \\\n0      52  self employed         16        Widowed   \n1      60        private         20       Divorced   \n2      64        private         21       Divorced   \n3      64        private         17        Husband   \n4      31        private         15        Husband   \n...   ...            ...        ...            ...   \n8995   28        private         16  Never married   \n8996   61   governmental         24           Wife   \n8997   34   governmental         23           Wife   \n8998   60        private         19        Husband   \n8999   50        private         20           Wife   \n\n                       occupation  workinghours     sex  \\\n0                       Transport            50    Male   \n1     Healthcare/Medical Services            30  Female   \n2             Management/Business            40    Male   \n3                       Transport            40    Male   \n4                       Transport            40    Male   \n...                           ...           ...     ...   \n8995                    Education            40  Female   \n8996                    Education            40  Female   \n8997  Healthcare/Medical Services            50  Female   \n8998          Management/Business            40    Male   \n8999                        Sales            30  Female   \n\n      ability to speak english gave birth this year income  \n0                            0                   No   high  \n1                            0                   No    low  \n2                            0                   No    low  \n3                            0                   No    low  \n4                            0                   No    low  \n...                        ...                  ...    ...  \n8995                         0                   No    low  \n8996                         0                   No   high  \n8997                         0                   No   high  \n8998                         0                   No    low  \n8999                         0                   No    low  \n\n[9000 rows x 10 columns]",
      "text/html": "<div>\n<style scoped>\n    .dataframe tbody tr th:only-of-type {\n        vertical-align: middle;\n    }\n\n    .dataframe tbody tr th {\n        vertical-align: top;\n    }\n\n    .dataframe thead th {\n        text-align: right;\n    }\n</style>\n<table border=\"1\" class=\"dataframe\">\n  <thead>\n    <tr style=\"text-align: right;\">\n      <th></th>\n      <th>age</th>\n      <th>workclass</th>\n      <th>education</th>\n      <th>marital status</th>\n      <th>occupation</th>\n      <th>workinghours</th>\n      <th>sex</th>\n      <th>ability to speak english</th>\n      <th>gave birth this year</th>\n      <th>income</th>\n    </tr>\n  </thead>\n  <tbody>\n    <tr>\n      <th>0</th>\n      <td>52</td>\n      <td>self employed</td>\n      <td>16</td>\n      <td>Widowed</td>\n      <td>Transport</td>\n      <td>50</td>\n      <td>Male</td>\n      <td>0</td>\n      <td>No</td>\n      <td>high</td>\n    </tr>\n    <tr>\n      <th>1</th>\n      <td>60</td>\n      <td>private</td>\n      <td>20</td>\n      <td>Divorced</td>\n      <td>Healthcare/Medical Services</td>\n      <td>30</td>\n      <td>Female</td>\n      <td>0</td>\n      <td>No</td>\n      <td>low</td>\n    </tr>\n    <tr>\n      <th>2</th>\n      <td>64</td>\n      <td>private</td>\n      <td>21</td>\n      <td>Divorced</td>\n      <td>Management/Business</td>\n      <td>40</td>\n      <td>Male</td>\n      <td>0</td>\n      <td>No</td>\n      <td>low</td>\n    </tr>\n    <tr>\n      <th>3</th>\n      <td>64</td>\n      <td>private</td>\n      <td>17</td>\n      <td>Husband</td>\n      <td>Transport</td>\n      <td>40</td>\n      <td>Male</td>\n      <td>0</td>\n      <td>No</td>\n      <td>low</td>\n    </tr>\n    <tr>\n      <th>4</th>\n      <td>31</td>\n      <td>private</td>\n      <td>15</td>\n      <td>Husband</td>\n      <td>Transport</td>\n      <td>40</td>\n      <td>Male</td>\n      <td>0</td>\n      <td>No</td>\n      <td>low</td>\n    </tr>\n    <tr>\n      <th>...</th>\n      <td>...</td>\n      <td>...</td>\n      <td>...</td>\n      <td>...</td>\n      <td>...</td>\n      <td>...</td>\n      <td>...</td>\n      <td>...</td>\n      <td>...</td>\n      <td>...</td>\n    </tr>\n    <tr>\n      <th>8995</th>\n      <td>28</td>\n      <td>private</td>\n      <td>16</td>\n      <td>Never married</td>\n      <td>Education</td>\n      <td>40</td>\n      <td>Female</td>\n      <td>0</td>\n      <td>No</td>\n      <td>low</td>\n    </tr>\n    <tr>\n      <th>8996</th>\n      <td>61</td>\n      <td>governmental</td>\n      <td>24</td>\n      <td>Wife</td>\n      <td>Education</td>\n      <td>40</td>\n      <td>Female</td>\n      <td>0</td>\n      <td>No</td>\n      <td>high</td>\n    </tr>\n    <tr>\n      <th>8997</th>\n      <td>34</td>\n      <td>governmental</td>\n      <td>23</td>\n      <td>Wife</td>\n      <td>Healthcare/Medical Services</td>\n      <td>50</td>\n      <td>Female</td>\n      <td>0</td>\n      <td>No</td>\n      <td>high</td>\n    </tr>\n    <tr>\n      <th>8998</th>\n      <td>60</td>\n      <td>private</td>\n      <td>19</td>\n      <td>Husband</td>\n      <td>Management/Business</td>\n      <td>40</td>\n      <td>Male</td>\n      <td>0</td>\n      <td>No</td>\n      <td>low</td>\n    </tr>\n    <tr>\n      <th>8999</th>\n      <td>50</td>\n      <td>private</td>\n      <td>20</td>\n      <td>Wife</td>\n      <td>Sales</td>\n      <td>30</td>\n      <td>Female</td>\n      <td>0</td>\n      <td>No</td>\n      <td>low</td>\n    </tr>\n  </tbody>\n</table>\n<p>9000 rows × 10 columns</p>\n</div>"
     },
     "execution_count": 24,
     "metadata": {},
     "output_type": "execute_result"
    }
   ],
   "source": [
    "data"
   ],
   "metadata": {
    "collapsed": false,
    "ExecuteTime": {
     "end_time": "2024-04-04T03:37:27.614166Z",
     "start_time": "2024-04-04T03:37:27.510401200Z"
    }
   },
   "id": "bd5ef2577ad54bb3",
   "execution_count": 24
  },
  {
   "cell_type": "markdown",
   "source": [
    "### Writing the cleaned dataset to a new file"
   ],
   "metadata": {
    "collapsed": false
   },
   "id": "df57e990f6c89b38"
  },
  {
   "cell_type": "code",
   "outputs": [],
   "source": [
    "# write cleaned dataset to new file\n",
    "save_dataset(data, \"../../data/assignment2_income_cleaned.xlsx\")"
   ],
   "metadata": {
    "collapsed": false,
    "ExecuteTime": {
     "end_time": "2024-04-04T03:37:30.636697800Z",
     "start_time": "2024-04-04T03:37:27.534870Z"
    }
   },
   "id": "584085f3b0d93ea6",
   "execution_count": 25
  }
 ],
 "metadata": {
  "kernelspec": {
   "display_name": "Python 3",
   "language": "python",
   "name": "python3"
  },
  "language_info": {
   "codemirror_mode": {
    "name": "ipython",
    "version": 2
   },
   "file_extension": ".py",
   "mimetype": "text/x-python",
   "name": "python",
   "nbconvert_exporter": "python",
   "pygments_lexer": "ipython2",
   "version": "2.7.6"
  }
 },
 "nbformat": 4,
 "nbformat_minor": 5
}
