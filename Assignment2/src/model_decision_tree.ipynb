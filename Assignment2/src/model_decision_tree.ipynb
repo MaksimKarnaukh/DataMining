{
 "cells": [
  {
   "cell_type": "code",
   "execution_count": 1,
   "id": "initial_id",
   "metadata": {
    "collapsed": true,
    "ExecuteTime": {
     "end_time": "2024-05-02T03:33:21.849218400Z",
     "start_time": "2024-05-02T03:33:16.877599600Z"
    }
   },
   "outputs": [
    {
     "name": "stderr",
     "output_type": "stream",
     "text": [
      "WARNING:root:No module named 'tensorflow': AdversarialDebiasing will be unavailable. To install, run:\n",
      "pip install 'aif360[AdversarialDebiasing]'\n",
      "WARNING:root:No module named 'tensorflow': AdversarialDebiasing will be unavailable. To install, run:\n",
      "pip install 'aif360[AdversarialDebiasing]'\n",
      "WARNING:root:No module named 'fairlearn': ExponentiatedGradientReduction will be unavailable. To install, run:\n",
      "pip install 'aif360[Reductions]'\n",
      "WARNING:root:No module named 'fairlearn': GridSearchReduction will be unavailable. To install, run:\n",
      "pip install 'aif360[Reductions]'\n",
      "WARNING:root:No module named 'inFairness': SenSeI and SenSR will be unavailable. To install, run:\n",
      "pip install 'aif360[inFairness]'\n",
      "WARNING:root:No module named 'fairlearn': GridSearchReduction will be unavailable. To install, run:\n",
      "pip install 'aif360[Reductions]'\n",
      "WARNING:root:No module named 'ot': ot_distance will be unavailable. To install, run:\n",
      "pip install 'aif360[OptimalTransport]'\n"
     ]
    }
   ],
   "source": [
    "import warnings\n",
    "warnings.filterwarnings(\"ignore\")\n",
    "\n",
    "import pandas as pd\n",
    "\n",
    "from helper.helper_functions import load_dataset, save_model, get_features_and_target, encode_all_features, get_train_test_with_excluded_columns\n",
    "from helper.clfmodel_functions import tune_model, forward_feat_selection_hypertuning\n",
    "from helper.fairness_functions import print_male_female_metrics, get_male_female_data\n",
    "\n",
    "from sklearn.model_selection import train_test_split\n",
    "from sklearn.metrics import accuracy_score, classification_report\n",
    "from sklearn.tree import DecisionTreeClassifier\n",
    "from sklearn.ensemble import AdaBoostClassifier"
   ]
  },
  {
   "cell_type": "markdown",
   "source": [
    "### Loading the cleaned dataset"
   ],
   "metadata": {
    "collapsed": false
   },
   "id": "ced45577f2a46d2"
  },
  {
   "cell_type": "code",
   "outputs": [],
   "source": [
    "data = load_dataset('../data/assignment2_income_cleaned.xlsx')"
   ],
   "metadata": {
    "collapsed": false,
    "ExecuteTime": {
     "end_time": "2024-05-02T03:33:24.871942700Z",
     "start_time": "2024-05-02T03:33:21.849218400Z"
    }
   },
   "id": "573b15a0c08becd2",
   "execution_count": 2
  },
  {
   "cell_type": "markdown",
   "source": [
    "### Feature Engineering (encoding) & Train-Test Split"
   ],
   "metadata": {
    "collapsed": false
   },
   "id": "93752dfc4108815b"
  },
  {
   "cell_type": "code",
   "outputs": [],
   "source": [
    "# Splitting the data into features (X) and target (y)\n",
    "X, y = get_features_and_target(data, 'income')\n",
    "X_male, X_female = get_male_female_data(X, False)\n",
    "# Encoding the features and target\n",
    "X_encoded, y_encoded = encode_all_features(X, y, [])\n",
    "X_train, X_test, y_train, y_test = train_test_split(X_encoded, y_encoded, test_size=0.2, random_state=42)"
   ],
   "metadata": {
    "collapsed": false,
    "ExecuteTime": {
     "end_time": "2024-05-02T03:33:24.915554600Z",
     "start_time": "2024-05-02T03:33:24.871942700Z"
    }
   },
   "id": "6aef9cfa1cf6ddd3",
   "execution_count": 3
  },
  {
   "cell_type": "code",
   "outputs": [
    {
     "data": {
      "text/plain": "      age  education  workinghours  ability to speak english  \\\n6317   22         16            36                         0   \n740    61         22            40                         1   \n3781   48         16            40                         0   \n7850   62         18            65                         0   \n2963   53         19            44                         0   \n...   ...        ...           ...                       ...   \n5734   22         19            25                         0   \n5191   24         16            28                         0   \n5390   35         16            40                         0   \n860    23         20            40                         0   \n7270   70         19            40                         0   \n\n      marital status_Divorced  marital status_Husband  \\\n6317                        0                       1   \n740                         1                       0   \n3781                        1                       0   \n7850                        0                       1   \n2963                        1                       0   \n...                       ...                     ...   \n5734                        0                       0   \n5191                        0                       0   \n5390                        0                       0   \n860                         0                       0   \n7270                        1                       0   \n\n      marital status_Never married  marital status_Separated  \\\n6317                             0                         0   \n740                              0                         0   \n3781                             0                         0   \n7850                             0                         0   \n2963                             0                         0   \n...                            ...                       ...   \n5734                             1                         0   \n5191                             1                         0   \n5390                             1                         0   \n860                              1                         0   \n7270                             0                         0   \n\n      marital status_Widowed  marital status_Wife  ...  \\\n6317                       0                    0  ...   \n740                        0                    0  ...   \n3781                       0                    0  ...   \n7850                       0                    0  ...   \n2963                       0                    0  ...   \n...                      ...                  ...  ...   \n5734                       0                    0  ...   \n5191                       0                    0  ...   \n5390                       0                    0  ...   \n860                        0                    0  ...   \n7270                       0                    0  ...   \n\n      occupation_Service/Hospitality  occupation_Transport  \\\n6317                               0                     0   \n740                                0                     0   \n3781                               0                     0   \n7850                               0                     0   \n2963                               0                     0   \n...                              ...                   ...   \n5734                               1                     0   \n5191                               0                     0   \n5390                               0                     0   \n860                                1                     0   \n7270                               0                     0   \n\n      workclass_governmental  workclass_no paid work  workclass_private  \\\n6317                       0                       0                  1   \n740                        0                       0                  0   \n3781                       0                       0                  1   \n7850                       0                       0                  1   \n2963                       1                       0                  0   \n...                      ...                     ...                ...   \n5734                       0                       0                  1   \n5191                       0                       0                  1   \n5390                       0                       0                  1   \n860                        0                       0                  1   \n7270                       0                       1                  0   \n\n      workclass_self employed  gave birth this year_No  \\\n6317                        0                        1   \n740                         1                        1   \n3781                        0                        1   \n7850                        0                        1   \n2963                        0                        1   \n...                       ...                      ...   \n5734                        0                        1   \n5191                        0                        1   \n5390                        0                        1   \n860                         0                        1   \n7270                        0                        1   \n\n      gave birth this year_Yes  sex_Female  sex_Male  \n6317                         0           0         1  \n740                          0           0         1  \n3781                         0           1         0  \n7850                         0           0         1  \n2963                         0           1         0  \n...                        ...         ...       ...  \n5734                         0           1         0  \n5191                         0           1         0  \n5390                         0           0         1  \n860                          0           0         1  \n7270                         0           1         0  \n\n[7200 rows x 36 columns]",
      "text/html": "<div>\n<style scoped>\n    .dataframe tbody tr th:only-of-type {\n        vertical-align: middle;\n    }\n\n    .dataframe tbody tr th {\n        vertical-align: top;\n    }\n\n    .dataframe thead th {\n        text-align: right;\n    }\n</style>\n<table border=\"1\" class=\"dataframe\">\n  <thead>\n    <tr style=\"text-align: right;\">\n      <th></th>\n      <th>age</th>\n      <th>education</th>\n      <th>workinghours</th>\n      <th>ability to speak english</th>\n      <th>marital status_Divorced</th>\n      <th>marital status_Husband</th>\n      <th>marital status_Never married</th>\n      <th>marital status_Separated</th>\n      <th>marital status_Widowed</th>\n      <th>marital status_Wife</th>\n      <th>...</th>\n      <th>occupation_Service/Hospitality</th>\n      <th>occupation_Transport</th>\n      <th>workclass_governmental</th>\n      <th>workclass_no paid work</th>\n      <th>workclass_private</th>\n      <th>workclass_self employed</th>\n      <th>gave birth this year_No</th>\n      <th>gave birth this year_Yes</th>\n      <th>sex_Female</th>\n      <th>sex_Male</th>\n    </tr>\n  </thead>\n  <tbody>\n    <tr>\n      <th>6317</th>\n      <td>22</td>\n      <td>16</td>\n      <td>36</td>\n      <td>0</td>\n      <td>0</td>\n      <td>1</td>\n      <td>0</td>\n      <td>0</td>\n      <td>0</td>\n      <td>0</td>\n      <td>...</td>\n      <td>0</td>\n      <td>0</td>\n      <td>0</td>\n      <td>0</td>\n      <td>1</td>\n      <td>0</td>\n      <td>1</td>\n      <td>0</td>\n      <td>0</td>\n      <td>1</td>\n    </tr>\n    <tr>\n      <th>740</th>\n      <td>61</td>\n      <td>22</td>\n      <td>40</td>\n      <td>1</td>\n      <td>1</td>\n      <td>0</td>\n      <td>0</td>\n      <td>0</td>\n      <td>0</td>\n      <td>0</td>\n      <td>...</td>\n      <td>0</td>\n      <td>0</td>\n      <td>0</td>\n      <td>0</td>\n      <td>0</td>\n      <td>1</td>\n      <td>1</td>\n      <td>0</td>\n      <td>0</td>\n      <td>1</td>\n    </tr>\n    <tr>\n      <th>3781</th>\n      <td>48</td>\n      <td>16</td>\n      <td>40</td>\n      <td>0</td>\n      <td>1</td>\n      <td>0</td>\n      <td>0</td>\n      <td>0</td>\n      <td>0</td>\n      <td>0</td>\n      <td>...</td>\n      <td>0</td>\n      <td>0</td>\n      <td>0</td>\n      <td>0</td>\n      <td>1</td>\n      <td>0</td>\n      <td>1</td>\n      <td>0</td>\n      <td>1</td>\n      <td>0</td>\n    </tr>\n    <tr>\n      <th>7850</th>\n      <td>62</td>\n      <td>18</td>\n      <td>65</td>\n      <td>0</td>\n      <td>0</td>\n      <td>1</td>\n      <td>0</td>\n      <td>0</td>\n      <td>0</td>\n      <td>0</td>\n      <td>...</td>\n      <td>0</td>\n      <td>0</td>\n      <td>0</td>\n      <td>0</td>\n      <td>1</td>\n      <td>0</td>\n      <td>1</td>\n      <td>0</td>\n      <td>0</td>\n      <td>1</td>\n    </tr>\n    <tr>\n      <th>2963</th>\n      <td>53</td>\n      <td>19</td>\n      <td>44</td>\n      <td>0</td>\n      <td>1</td>\n      <td>0</td>\n      <td>0</td>\n      <td>0</td>\n      <td>0</td>\n      <td>0</td>\n      <td>...</td>\n      <td>0</td>\n      <td>0</td>\n      <td>1</td>\n      <td>0</td>\n      <td>0</td>\n      <td>0</td>\n      <td>1</td>\n      <td>0</td>\n      <td>1</td>\n      <td>0</td>\n    </tr>\n    <tr>\n      <th>...</th>\n      <td>...</td>\n      <td>...</td>\n      <td>...</td>\n      <td>...</td>\n      <td>...</td>\n      <td>...</td>\n      <td>...</td>\n      <td>...</td>\n      <td>...</td>\n      <td>...</td>\n      <td>...</td>\n      <td>...</td>\n      <td>...</td>\n      <td>...</td>\n      <td>...</td>\n      <td>...</td>\n      <td>...</td>\n      <td>...</td>\n      <td>...</td>\n      <td>...</td>\n      <td>...</td>\n    </tr>\n    <tr>\n      <th>5734</th>\n      <td>22</td>\n      <td>19</td>\n      <td>25</td>\n      <td>0</td>\n      <td>0</td>\n      <td>0</td>\n      <td>1</td>\n      <td>0</td>\n      <td>0</td>\n      <td>0</td>\n      <td>...</td>\n      <td>1</td>\n      <td>0</td>\n      <td>0</td>\n      <td>0</td>\n      <td>1</td>\n      <td>0</td>\n      <td>1</td>\n      <td>0</td>\n      <td>1</td>\n      <td>0</td>\n    </tr>\n    <tr>\n      <th>5191</th>\n      <td>24</td>\n      <td>16</td>\n      <td>28</td>\n      <td>0</td>\n      <td>0</td>\n      <td>0</td>\n      <td>1</td>\n      <td>0</td>\n      <td>0</td>\n      <td>0</td>\n      <td>...</td>\n      <td>0</td>\n      <td>0</td>\n      <td>0</td>\n      <td>0</td>\n      <td>1</td>\n      <td>0</td>\n      <td>1</td>\n      <td>0</td>\n      <td>1</td>\n      <td>0</td>\n    </tr>\n    <tr>\n      <th>5390</th>\n      <td>35</td>\n      <td>16</td>\n      <td>40</td>\n      <td>0</td>\n      <td>0</td>\n      <td>0</td>\n      <td>1</td>\n      <td>0</td>\n      <td>0</td>\n      <td>0</td>\n      <td>...</td>\n      <td>0</td>\n      <td>0</td>\n      <td>0</td>\n      <td>0</td>\n      <td>1</td>\n      <td>0</td>\n      <td>1</td>\n      <td>0</td>\n      <td>0</td>\n      <td>1</td>\n    </tr>\n    <tr>\n      <th>860</th>\n      <td>23</td>\n      <td>20</td>\n      <td>40</td>\n      <td>0</td>\n      <td>0</td>\n      <td>0</td>\n      <td>1</td>\n      <td>0</td>\n      <td>0</td>\n      <td>0</td>\n      <td>...</td>\n      <td>1</td>\n      <td>0</td>\n      <td>0</td>\n      <td>0</td>\n      <td>1</td>\n      <td>0</td>\n      <td>1</td>\n      <td>0</td>\n      <td>0</td>\n      <td>1</td>\n    </tr>\n    <tr>\n      <th>7270</th>\n      <td>70</td>\n      <td>19</td>\n      <td>40</td>\n      <td>0</td>\n      <td>1</td>\n      <td>0</td>\n      <td>0</td>\n      <td>0</td>\n      <td>0</td>\n      <td>0</td>\n      <td>...</td>\n      <td>0</td>\n      <td>0</td>\n      <td>0</td>\n      <td>1</td>\n      <td>0</td>\n      <td>0</td>\n      <td>1</td>\n      <td>0</td>\n      <td>1</td>\n      <td>0</td>\n    </tr>\n  </tbody>\n</table>\n<p>7200 rows × 36 columns</p>\n</div>"
     },
     "execution_count": 4,
     "metadata": {},
     "output_type": "execute_result"
    }
   ],
   "source": [
    "X_train"
   ],
   "metadata": {
    "collapsed": false,
    "ExecuteTime": {
     "end_time": "2024-05-02T03:33:24.950565100Z",
     "start_time": "2024-05-02T03:33:24.907577Z"
    }
   },
   "id": "8287bdb77f1960c7",
   "execution_count": 4
  },
  {
   "cell_type": "markdown",
   "source": [
    "### Model\n",
    "\n",
    "Here, we quickly train and evaluate a Decision Tree model with random parameters for demonstration."
   ],
   "metadata": {
    "collapsed": false
   },
   "id": "bfc5f29026270e84"
  },
  {
   "cell_type": "code",
   "outputs": [
    {
     "name": "stdout",
     "output_type": "stream",
     "text": [
      "              precision    recall  f1-score   support\n",
      "\n",
      "           0       0.78      0.79      0.78      1175\n",
      "           1       0.59      0.58      0.59       625\n",
      "\n",
      "    accuracy                           0.72      1800\n",
      "   macro avg       0.69      0.68      0.68      1800\n",
      "weighted avg       0.71      0.72      0.72      1800\n",
      "\n",
      "Decision Tree Accuracy: 0.7161111111111111\n"
     ]
    }
   ],
   "source": [
    "# Decision Tree model\n",
    "dt_model = DecisionTreeClassifier()\n",
    "dt_model.fit(X_train, y_train)\n",
    "dt_preds = dt_model.predict(X_test)\n",
    "dt_accuracy = accuracy_score(y_test, dt_preds)\n",
    "\n",
    "print(classification_report(y_test, dt_preds))\n",
    "print(\"Decision Tree Accuracy:\", dt_accuracy)"
   ],
   "metadata": {
    "collapsed": false,
    "ExecuteTime": {
     "end_time": "2024-05-02T03:33:25.113498700Z",
     "start_time": "2024-05-02T03:33:24.937599700Z"
    }
   },
   "id": "755b22d9e1afea95",
   "execution_count": 5
  },
  {
   "cell_type": "markdown",
   "source": [
    "### Feature Importance using the model itself"
   ],
   "metadata": {
    "collapsed": false
   },
   "id": "3717142226424dc7"
  },
  {
   "cell_type": "code",
   "outputs": [],
   "source": [
    "# Extract feature importances\n",
    "feature_importances = dt_model.feature_importances_\n",
    "feature_importance_df = pd.DataFrame({\n",
    "    'Feature': X_train.columns,\n",
    "    'Importance': feature_importances\n",
    "})\n",
    "feature_importance_df = feature_importance_df.sort_values(by='Importance', ascending=False)"
   ],
   "metadata": {
    "collapsed": false,
    "ExecuteTime": {
     "end_time": "2024-05-02T03:33:25.114496900Z",
     "start_time": "2024-05-02T03:33:25.033177200Z"
    }
   },
   "id": "a012c18c07f3a3f6",
   "execution_count": 6
  },
  {
   "cell_type": "code",
   "outputs": [
    {
     "data": {
      "text/plain": "                                         Feature  Importance\n0                                            age    0.282893\n1                                      education    0.163422\n2                                   workinghours    0.141988\n5                         marital status_Husband    0.130882\n18                occupation_Management/Business    0.020010\n30                             workclass_private    0.018155\n25   occupation_Science, Engineering, Technology    0.017908\n28                        workclass_governmental    0.016920\n21                occupation_Production/Assembly    0.016158\n24                              occupation_Sales    0.014524\n27                          occupation_Transport    0.013684\n31                       workclass_self employed    0.013476\n23                 occupation_Repair/Maintenance    0.013037\n16        occupation_Healthcare/Medical Services    0.012973\n26                occupation_Service/Hospitality    0.012053\n10            occupation_Construction/Extraction    0.010585\n4                        marital status_Divorced    0.010003\n20      occupation_Office/Administrative Support    0.009752\n6                   marital status_Never married    0.008632\n3                       ability to speak english    0.008546\n12                          occupation_Education    0.008418\n9                            marital status_Wife    0.007606\n35                                      sex_Male    0.006884\n15                 occupation_Finance/Accounting    0.005914\n34                                    sex_Female    0.005585\n11  occupation_Counseling/Mental Health Services    0.005364\n22                occupation_Protective Services    0.004892\n8                         marital status_Widowed    0.004845\n7                       marital status_Separated    0.004053\n17                     occupation_Legal Services    0.002795\n13                      occupation_Entertainment    0.002219\n32                       gave birth this year_No    0.001472\n33                      gave birth this year_Yes    0.001418\n29                        workclass_no paid work    0.001291\n14         occupation_Farming, Fishing, Forestry    0.000908\n19                  occupation_Military Services    0.000734",
      "text/html": "<div>\n<style scoped>\n    .dataframe tbody tr th:only-of-type {\n        vertical-align: middle;\n    }\n\n    .dataframe tbody tr th {\n        vertical-align: top;\n    }\n\n    .dataframe thead th {\n        text-align: right;\n    }\n</style>\n<table border=\"1\" class=\"dataframe\">\n  <thead>\n    <tr style=\"text-align: right;\">\n      <th></th>\n      <th>Feature</th>\n      <th>Importance</th>\n    </tr>\n  </thead>\n  <tbody>\n    <tr>\n      <th>0</th>\n      <td>age</td>\n      <td>0.282893</td>\n    </tr>\n    <tr>\n      <th>1</th>\n      <td>education</td>\n      <td>0.163422</td>\n    </tr>\n    <tr>\n      <th>2</th>\n      <td>workinghours</td>\n      <td>0.141988</td>\n    </tr>\n    <tr>\n      <th>5</th>\n      <td>marital status_Husband</td>\n      <td>0.130882</td>\n    </tr>\n    <tr>\n      <th>18</th>\n      <td>occupation_Management/Business</td>\n      <td>0.020010</td>\n    </tr>\n    <tr>\n      <th>30</th>\n      <td>workclass_private</td>\n      <td>0.018155</td>\n    </tr>\n    <tr>\n      <th>25</th>\n      <td>occupation_Science, Engineering, Technology</td>\n      <td>0.017908</td>\n    </tr>\n    <tr>\n      <th>28</th>\n      <td>workclass_governmental</td>\n      <td>0.016920</td>\n    </tr>\n    <tr>\n      <th>21</th>\n      <td>occupation_Production/Assembly</td>\n      <td>0.016158</td>\n    </tr>\n    <tr>\n      <th>24</th>\n      <td>occupation_Sales</td>\n      <td>0.014524</td>\n    </tr>\n    <tr>\n      <th>27</th>\n      <td>occupation_Transport</td>\n      <td>0.013684</td>\n    </tr>\n    <tr>\n      <th>31</th>\n      <td>workclass_self employed</td>\n      <td>0.013476</td>\n    </tr>\n    <tr>\n      <th>23</th>\n      <td>occupation_Repair/Maintenance</td>\n      <td>0.013037</td>\n    </tr>\n    <tr>\n      <th>16</th>\n      <td>occupation_Healthcare/Medical Services</td>\n      <td>0.012973</td>\n    </tr>\n    <tr>\n      <th>26</th>\n      <td>occupation_Service/Hospitality</td>\n      <td>0.012053</td>\n    </tr>\n    <tr>\n      <th>10</th>\n      <td>occupation_Construction/Extraction</td>\n      <td>0.010585</td>\n    </tr>\n    <tr>\n      <th>4</th>\n      <td>marital status_Divorced</td>\n      <td>0.010003</td>\n    </tr>\n    <tr>\n      <th>20</th>\n      <td>occupation_Office/Administrative Support</td>\n      <td>0.009752</td>\n    </tr>\n    <tr>\n      <th>6</th>\n      <td>marital status_Never married</td>\n      <td>0.008632</td>\n    </tr>\n    <tr>\n      <th>3</th>\n      <td>ability to speak english</td>\n      <td>0.008546</td>\n    </tr>\n    <tr>\n      <th>12</th>\n      <td>occupation_Education</td>\n      <td>0.008418</td>\n    </tr>\n    <tr>\n      <th>9</th>\n      <td>marital status_Wife</td>\n      <td>0.007606</td>\n    </tr>\n    <tr>\n      <th>35</th>\n      <td>sex_Male</td>\n      <td>0.006884</td>\n    </tr>\n    <tr>\n      <th>15</th>\n      <td>occupation_Finance/Accounting</td>\n      <td>0.005914</td>\n    </tr>\n    <tr>\n      <th>34</th>\n      <td>sex_Female</td>\n      <td>0.005585</td>\n    </tr>\n    <tr>\n      <th>11</th>\n      <td>occupation_Counseling/Mental Health Services</td>\n      <td>0.005364</td>\n    </tr>\n    <tr>\n      <th>22</th>\n      <td>occupation_Protective Services</td>\n      <td>0.004892</td>\n    </tr>\n    <tr>\n      <th>8</th>\n      <td>marital status_Widowed</td>\n      <td>0.004845</td>\n    </tr>\n    <tr>\n      <th>7</th>\n      <td>marital status_Separated</td>\n      <td>0.004053</td>\n    </tr>\n    <tr>\n      <th>17</th>\n      <td>occupation_Legal Services</td>\n      <td>0.002795</td>\n    </tr>\n    <tr>\n      <th>13</th>\n      <td>occupation_Entertainment</td>\n      <td>0.002219</td>\n    </tr>\n    <tr>\n      <th>32</th>\n      <td>gave birth this year_No</td>\n      <td>0.001472</td>\n    </tr>\n    <tr>\n      <th>33</th>\n      <td>gave birth this year_Yes</td>\n      <td>0.001418</td>\n    </tr>\n    <tr>\n      <th>29</th>\n      <td>workclass_no paid work</td>\n      <td>0.001291</td>\n    </tr>\n    <tr>\n      <th>14</th>\n      <td>occupation_Farming, Fishing, Forestry</td>\n      <td>0.000908</td>\n    </tr>\n    <tr>\n      <th>19</th>\n      <td>occupation_Military Services</td>\n      <td>0.000734</td>\n    </tr>\n  </tbody>\n</table>\n</div>"
     },
     "execution_count": 7,
     "metadata": {},
     "output_type": "execute_result"
    }
   ],
   "source": [
    "feature_importance_df"
   ],
   "metadata": {
    "collapsed": false,
    "ExecuteTime": {
     "end_time": "2024-05-02T03:33:25.117488500Z",
     "start_time": "2024-05-02T03:33:25.042084700Z"
    }
   },
   "id": "263b70e9c4d9ee2",
   "execution_count": 7
  },
  {
   "cell_type": "markdown",
   "source": [
    "### Hyperparameter tuning"
   ],
   "metadata": {
    "collapsed": false
   },
   "id": "8168fff7de333608"
  },
  {
   "cell_type": "markdown",
   "source": [
    "Here, we define the base parameter grid for our hyperparameter tuning function."
   ],
   "metadata": {
    "collapsed": false
   },
   "id": "9f5cb4c3ce0c5408"
  },
  {
   "cell_type": "code",
   "outputs": [],
   "source": [
    "param_grid = {\n",
    "        'criterion': ['gini', 'entropy'],\n",
    "        'splitter': ['best', 'random'],\n",
    "        'max_depth': [None, 5, 10, 15, 20],\n",
    "        'min_samples_split': [2, 5, 10],\n",
    "        'min_samples_leaf': [1, 2, 4],\n",
    "        'max_features': [None, 'sqrt', 'log2'],\n",
    "        'random_state': [42]\n",
    "    }"
   ],
   "metadata": {
    "collapsed": false,
    "ExecuteTime": {
     "end_time": "2024-05-02T03:33:25.205252900Z",
     "start_time": "2024-05-02T03:33:25.062213200Z"
    }
   },
   "id": "d6b393f5fc5af410",
   "execution_count": 8
  },
  {
   "cell_type": "markdown",
   "source": [
    "Below, we tune the hyperparameters of the Decision Tree model using the defined parameter grid and using all features.\n"
   ],
   "metadata": {
    "collapsed": false
   },
   "id": "ce7dc9b6ea2a3291"
  },
  {
   "cell_type": "code",
   "outputs": [
    {
     "name": "stdout",
     "output_type": "stream",
     "text": [
      "Fitting 5 folds for each of 540 candidates, totalling 2700 fits\n",
      "\n",
      "Best Hyperparameters: {'criterion': 'entropy', 'max_depth': 10, 'max_features': None, 'min_samples_leaf': 2, 'min_samples_split': 5, 'random_state': 42, 'splitter': 'best'}\n",
      "Best Model: DecisionTreeClassifier(criterion='entropy', max_depth=10, min_samples_leaf=2,\n",
      "                       min_samples_split=5, random_state=42)\n",
      "Best Model Accuracy: 0.7722222222222223\n",
      "              precision    recall  f1-score   support\n",
      "\n",
      "           0       0.81      0.85      0.83      1175\n",
      "           1       0.69      0.62      0.65       625\n",
      "\n",
      "    accuracy                           0.77      1800\n",
      "   macro avg       0.75      0.74      0.74      1800\n",
      "weighted avg       0.77      0.77      0.77      1800\n",
      "\n",
      "Fairness Metrics:\n",
      "Male FPR: 0.18335684062059238\n",
      "Male TPR: 0.6653306613226453\n",
      "Female FPR: 0.0944206008583691\n",
      "Female TPR: 0.4523809523809524\n",
      "\n",
      "Disparate Impact (DI): 0.446\n",
      "Discrimination Score (DS): -0.212\n",
      "Equal Opportunity Difference (EO): 0.213\n",
      "Equalized Odds (EOdds): 0.089\n"
     ]
    }
   ],
   "source": [
    "best_params, best_model, best_accuracy = tune_model(DecisionTreeClassifier(), X_train, y_train, X_test, y_test, param_grid)\n",
    "\n",
    "print(\"\\nBest Hyperparameters:\", best_params)\n",
    "print(\"Best Model:\", best_model)\n",
    "print(\"Best Model Accuracy:\", best_accuracy)\n",
    "\n",
    "dt_preds = best_model.predict(X_test)\n",
    "print(classification_report(y_test, dt_preds))\n",
    "\n",
    "print_male_female_metrics(best_model, X, X_male, X_female, X_test, y_test)\n",
    "save_model(best_model, '../output/saved_models/dt_model_sexincl_noffs_tuned_unfair.joblib')"
   ],
   "metadata": {
    "collapsed": false,
    "ExecuteTime": {
     "end_time": "2024-05-02T03:34:13.554822Z",
     "start_time": "2024-05-02T03:33:25.070612600Z"
    }
   },
   "id": "baf416612eaf1be1",
   "execution_count": 9
  },
  {
   "cell_type": "markdown",
   "source": [
    "Now the same but with fairness constraints."
   ],
   "metadata": {
    "collapsed": false
   },
   "id": "dba56d6d29ccd1d4"
  },
  {
   "cell_type": "code",
   "outputs": [
    {
     "name": "stdout",
     "output_type": "stream",
     "text": [
      "Fitting 5 folds for each of 540 candidates, totalling 2700 fits\n",
      "\n",
      "Best Hyperparameters: {'criterion': 'entropy', 'max_depth': 10, 'max_features': None, 'min_samples_leaf': 4, 'min_samples_split': 5, 'random_state': 42, 'splitter': 'random'}\n",
      "Best Model: DecisionTreeClassifier(criterion='entropy', max_depth=10, min_samples_leaf=4,\n",
      "                       min_samples_split=5, random_state=42, splitter='random')\n",
      "Best Model Accuracy: 0.7622222222222222\n",
      "              precision    recall  f1-score   support\n",
      "\n",
      "           0       0.78      0.88      0.83      1175\n",
      "           1       0.71      0.53      0.61       625\n",
      "\n",
      "    accuracy                           0.76      1800\n",
      "   macro avg       0.75      0.71      0.72      1800\n",
      "weighted avg       0.76      0.76      0.75      1800\n",
      "\n",
      "Fairness Metrics:\n",
      "Male FPR: 0.13540197461212977\n",
      "Male TPR: 0.56312625250501\n",
      "Female FPR: 0.08583690987124463\n",
      "Female TPR: 0.4126984126984127\n",
      "\n",
      "Disparate Impact (DI): 0.498\n",
      "Discrimination Score (DS): -0.157\n",
      "Equal Opportunity Difference (EO): 0.150\n",
      "Equalized Odds (EOdds): 0.050\n"
     ]
    }
   ],
   "source": [
    "best_params, best_model, best_accuracy = tune_model(DecisionTreeClassifier(), X_train, y_train, X_test, y_test, param_grid, ensure_fairness=True)\n",
    "\n",
    "print(\"\\nBest Hyperparameters:\", best_params)\n",
    "print(\"Best Model:\", best_model)\n",
    "print(\"Best Model Accuracy:\", best_accuracy)\n",
    "\n",
    "dt_preds = best_model.predict(X_test)\n",
    "print(classification_report(y_test, dt_preds))\n",
    "\n",
    "print_male_female_metrics(best_model, X, X_male, X_female, X_test, y_test)\n",
    "save_model(best_model, '../output/saved_models/dt_model_sexincl_noffs_tuned_fair.joblib')"
   ],
   "metadata": {
    "collapsed": false,
    "ExecuteTime": {
     "end_time": "2024-05-02T03:34:58.943044500Z",
     "start_time": "2024-05-02T03:34:13.546843500Z"
    }
   },
   "id": "31bbda6bb449181c",
   "execution_count": 10
  },
  {
   "cell_type": "markdown",
   "source": [
    "Below, we tune the hyperparameters of the Decision Tree model using the defined parameter grid and using a **subset of features**. We exclude the columns 'age', 'ability to speak english', and 'workclass'."
   ],
   "metadata": {
    "collapsed": false
   },
   "id": "d54c3b9a45ed7ffa"
  },
  {
   "cell_type": "code",
   "outputs": [
    {
     "name": "stdout",
     "output_type": "stream",
     "text": [
      "Fitting 5 folds for each of 540 candidates, totalling 2700 fits\n",
      "\n",
      "Best Hyperparameters: {'criterion': 'entropy', 'max_depth': 10, 'max_features': None, 'min_samples_leaf': 1, 'min_samples_split': 10, 'random_state': 42, 'splitter': 'best'}\n",
      "Best Model: DecisionTreeClassifier(criterion='entropy', max_depth=10, min_samples_split=10,\n",
      "                       random_state=42)\n",
      "Best Model Accuracy: 0.775\n",
      "              precision    recall  f1-score   support\n",
      "\n",
      "           0       0.81      0.85      0.83      1175\n",
      "           1       0.70      0.63      0.66       625\n",
      "\n",
      "    accuracy                           0.78      1800\n",
      "   macro avg       0.75      0.74      0.75      1800\n",
      "weighted avg       0.77      0.78      0.77      1800\n",
      "\n",
      "Fairness Metrics:\n",
      "Male FPR: 0.20451339915373765\n",
      "Male TPR: 0.6973947895791583\n",
      "Female FPR: 0.055793991416309016\n",
      "Female TPR: 0.3412698412698413\n",
      "\n",
      "Disparate Impact (DI): 0.286\n",
      "Discrimination Score (DS): -0.292\n",
      "Equal Opportunity Difference (EO): 0.356\n",
      "Equalized Odds (EOdds): 0.149\n"
     ]
    }
   ],
   "source": [
    "columns_to_exclude = ['age', 'ability to speak english', 'workclass']\n",
    "X_train_, X_test_, y_train_, y_test_, X_male, X_female = get_train_test_with_excluded_columns(data, columns_to_exclude)\n",
    "\n",
    "best_params, best_model, best_accuracy = tune_model(DecisionTreeClassifier(), X_train_, y_train_, X_test_, y_test_, param_grid)\n",
    "\n",
    "print(\"\\nBest Hyperparameters:\", best_params)\n",
    "print(\"Best Model:\", best_model)\n",
    "print(\"Best Model Accuracy:\", best_accuracy)\n",
    "\n",
    "dt_preds = best_model.predict(X_test_)\n",
    "print(classification_report(y_test_, dt_preds))\n",
    "\n",
    "print_male_female_metrics(best_model, X, X_male, X_female, X_test_, y_test_)\n",
    "save_model(best_model, '../output/saved_models/dt_model_sexincl_noffs_tuned_unfair_aawexcl.joblib')"
   ],
   "metadata": {
    "collapsed": false,
    "ExecuteTime": {
     "end_time": "2024-05-02T03:35:39.362444800Z",
     "start_time": "2024-05-02T03:34:58.937060600Z"
    }
   },
   "id": "36679718d8181f6",
   "execution_count": 11
  },
  {
   "cell_type": "markdown",
   "source": [
    "Now the same but with fairness constraints."
   ],
   "metadata": {
    "collapsed": false
   },
   "id": "2c958b8d176bf883"
  },
  {
   "cell_type": "code",
   "outputs": [
    {
     "name": "stdout",
     "output_type": "stream",
     "text": [
      "Fitting 5 folds for each of 540 candidates, totalling 2700 fits\n",
      "\n",
      "Best Hyperparameters: {'criterion': 'entropy', 'max_depth': 15, 'max_features': 'log2', 'min_samples_leaf': 1, 'min_samples_split': 10, 'random_state': 42, 'splitter': 'best'}\n",
      "Best Model: DecisionTreeClassifier(criterion='entropy', max_depth=15, max_features='log2',\n",
      "                       min_samples_split=10, random_state=42)\n",
      "Best Model Accuracy: 0.7538888888888889\n",
      "              precision    recall  f1-score   support\n",
      "\n",
      "           0       0.78      0.86      0.82      1175\n",
      "           1       0.68      0.55      0.61       625\n",
      "\n",
      "    accuracy                           0.75      1800\n",
      "   macro avg       0.73      0.71      0.71      1800\n",
      "weighted avg       0.75      0.75      0.75      1800\n",
      "\n",
      "Fairness Metrics:\n",
      "Male FPR: 0.1607898448519041\n",
      "Male TPR: 0.5971943887775552\n",
      "Female FPR: 0.10515021459227468\n",
      "Female TPR: 0.373015873015873\n",
      "\n",
      "Disparate Impact (DI): 0.475\n",
      "Discrimination Score (DS): -0.179\n",
      "Equal Opportunity Difference (EO): 0.224\n",
      "Equalized Odds (EOdds): 0.056\n"
     ]
    }
   ],
   "source": [
    "columns_to_exclude = ['age', 'ability to speak english', 'workclass']\n",
    "X_train_, X_test_, y_train_, y_test_, X_male, X_female = get_train_test_with_excluded_columns(data, columns_to_exclude)\n",
    "\n",
    "best_params, best_model, best_accuracy = tune_model(DecisionTreeClassifier(), X_train_, y_train_, X_test_, y_test_, param_grid, ensure_fairness=True)\n",
    "\n",
    "print(\"\\nBest Hyperparameters:\", best_params)\n",
    "print(\"Best Model:\", best_model)\n",
    "print(\"Best Model Accuracy:\", best_accuracy)\n",
    "\n",
    "dt_preds = best_model.predict(X_test_)\n",
    "print(classification_report(y_test_, dt_preds))\n",
    "\n",
    "print_male_female_metrics(best_model, X, X_male, X_female, X_test_, y_test_)\n",
    "save_model(best_model, '../output/saved_models/dt_model_sexincl_noffs_tuned_fair_aawexcl.joblib')"
   ],
   "metadata": {
    "collapsed": false,
    "ExecuteTime": {
     "end_time": "2024-05-02T03:36:21.779920400Z",
     "start_time": "2024-05-02T03:35:39.355463400Z"
    }
   },
   "id": "9c0e73fc962c5360",
   "execution_count": 12
  },
  {
   "cell_type": "markdown",
   "source": [],
   "metadata": {
    "collapsed": false
   },
   "id": "a534bf6034479cbb"
  },
  {
   "cell_type": "markdown",
   "source": [
    "#### Forward Feature Selection with Hyperparameter Tuning"
   ],
   "metadata": {
    "collapsed": false
   },
   "id": "3592c56dd34ae3c4"
  },
  {
   "cell_type": "markdown",
   "source": [
    "Because hyperparameter tuning results can vary depending on the chosen subset of features, we will use forward feature selection with hyperparameter tuning to find the best subset of features and hyperparameters for the model."
   ],
   "metadata": {
    "collapsed": false
   },
   "id": "61fcc09c8696f415"
  },
  {
   "cell_type": "code",
   "outputs": [
    {
     "name": "stdout",
     "output_type": "stream",
     "text": [
      "Fitting 5 folds for each of 540 candidates, totalling 2700 fits\n",
      "Fitting 5 folds for each of 540 candidates, totalling 2700 fits\n",
      "Fitting 5 folds for each of 540 candidates, totalling 2700 fits\n",
      "Fitting 5 folds for each of 540 candidates, totalling 2700 fits\n",
      "Fitting 5 folds for each of 540 candidates, totalling 2700 fits\n",
      "Fitting 5 folds for each of 540 candidates, totalling 2700 fits\n",
      "Fitting 5 folds for each of 540 candidates, totalling 2700 fits\n",
      "Fitting 5 folds for each of 540 candidates, totalling 2700 fits\n",
      "Fitting 5 folds for each of 540 candidates, totalling 2700 fits\n",
      "Best subset: ['education']\n",
      "Remaining features: [['age'], ['workinghours'], ['ability to speak english'], ['workclass_governmental', 'workclass_no paid work', 'workclass_private', 'workclass_self employed'], ['marital status_Divorced', 'marital status_Husband', 'marital status_Never married', 'marital status_Separated', 'marital status_Widowed', 'marital status_Wife'], ['occupation_Construction/Extraction', 'occupation_Counseling/Mental Health Services', 'occupation_Education', 'occupation_Entertainment', 'occupation_Farming, Fishing, Forestry', 'occupation_Finance/Accounting', 'occupation_Healthcare/Medical Services', 'occupation_Legal Services', 'occupation_Management/Business', 'occupation_Military Services', 'occupation_Office/Administrative Support', 'occupation_Production/Assembly', 'occupation_Protective Services', 'occupation_Repair/Maintenance', 'occupation_Sales', 'occupation_Science, Engineering, Technology', 'occupation_Service/Hospitality', 'occupation_Transport'], ['sex_Female', 'sex_Male'], ['gave birth this year_No', 'gave birth this year_Yes']]\n",
      "Fitting 5 folds for each of 540 candidates, totalling 2700 fits\n",
      "Fitting 5 folds for each of 540 candidates, totalling 2700 fits\n",
      "Fitting 5 folds for each of 540 candidates, totalling 2700 fits\n",
      "Fitting 5 folds for each of 540 candidates, totalling 2700 fits\n",
      "Fitting 5 folds for each of 540 candidates, totalling 2700 fits\n",
      "Fitting 5 folds for each of 540 candidates, totalling 2700 fits\n",
      "Fitting 5 folds for each of 540 candidates, totalling 2700 fits\n",
      "Fitting 5 folds for each of 540 candidates, totalling 2700 fits\n",
      "Best subset: ['education', 'marital status_Divorced', 'marital status_Husband', 'marital status_Never married', 'marital status_Separated', 'marital status_Widowed', 'marital status_Wife']\n",
      "Remaining features: [['age'], ['workinghours'], ['ability to speak english'], ['workclass_governmental', 'workclass_no paid work', 'workclass_private', 'workclass_self employed'], ['occupation_Construction/Extraction', 'occupation_Counseling/Mental Health Services', 'occupation_Education', 'occupation_Entertainment', 'occupation_Farming, Fishing, Forestry', 'occupation_Finance/Accounting', 'occupation_Healthcare/Medical Services', 'occupation_Legal Services', 'occupation_Management/Business', 'occupation_Military Services', 'occupation_Office/Administrative Support', 'occupation_Production/Assembly', 'occupation_Protective Services', 'occupation_Repair/Maintenance', 'occupation_Sales', 'occupation_Science, Engineering, Technology', 'occupation_Service/Hospitality', 'occupation_Transport'], ['sex_Female', 'sex_Male'], ['gave birth this year_No', 'gave birth this year_Yes']]\n",
      "Fitting 5 folds for each of 540 candidates, totalling 2700 fits\n",
      "Fitting 5 folds for each of 540 candidates, totalling 2700 fits\n",
      "Fitting 5 folds for each of 540 candidates, totalling 2700 fits\n",
      "Fitting 5 folds for each of 540 candidates, totalling 2700 fits\n",
      "Fitting 5 folds for each of 540 candidates, totalling 2700 fits\n",
      "Fitting 5 folds for each of 540 candidates, totalling 2700 fits\n",
      "Fitting 5 folds for each of 540 candidates, totalling 2700 fits\n",
      "Best subset: ['education', 'marital status_Divorced', 'marital status_Husband', 'marital status_Never married', 'marital status_Separated', 'marital status_Widowed', 'marital status_Wife', 'occupation_Construction/Extraction', 'occupation_Counseling/Mental Health Services', 'occupation_Education', 'occupation_Entertainment', 'occupation_Farming, Fishing, Forestry', 'occupation_Finance/Accounting', 'occupation_Healthcare/Medical Services', 'occupation_Legal Services', 'occupation_Management/Business', 'occupation_Military Services', 'occupation_Office/Administrative Support', 'occupation_Production/Assembly', 'occupation_Protective Services', 'occupation_Repair/Maintenance', 'occupation_Sales', 'occupation_Science, Engineering, Technology', 'occupation_Service/Hospitality', 'occupation_Transport']\n",
      "Remaining features: [['age'], ['workinghours'], ['ability to speak english'], ['workclass_governmental', 'workclass_no paid work', 'workclass_private', 'workclass_self employed'], ['sex_Female', 'sex_Male'], ['gave birth this year_No', 'gave birth this year_Yes']]\n",
      "Fitting 5 folds for each of 540 candidates, totalling 2700 fits\n",
      "Fitting 5 folds for each of 540 candidates, totalling 2700 fits\n",
      "Fitting 5 folds for each of 540 candidates, totalling 2700 fits\n",
      "Fitting 5 folds for each of 540 candidates, totalling 2700 fits\n",
      "Fitting 5 folds for each of 540 candidates, totalling 2700 fits\n",
      "Fitting 5 folds for each of 540 candidates, totalling 2700 fits\n",
      "Best subset: ['education', 'marital status_Divorced', 'marital status_Husband', 'marital status_Never married', 'marital status_Separated', 'marital status_Widowed', 'marital status_Wife', 'occupation_Construction/Extraction', 'occupation_Counseling/Mental Health Services', 'occupation_Education', 'occupation_Entertainment', 'occupation_Farming, Fishing, Forestry', 'occupation_Finance/Accounting', 'occupation_Healthcare/Medical Services', 'occupation_Legal Services', 'occupation_Management/Business', 'occupation_Military Services', 'occupation_Office/Administrative Support', 'occupation_Production/Assembly', 'occupation_Protective Services', 'occupation_Repair/Maintenance', 'occupation_Sales', 'occupation_Science, Engineering, Technology', 'occupation_Service/Hospitality', 'occupation_Transport', 'workinghours']\n",
      "Remaining features: [['age'], ['ability to speak english'], ['workclass_governmental', 'workclass_no paid work', 'workclass_private', 'workclass_self employed'], ['sex_Female', 'sex_Male'], ['gave birth this year_No', 'gave birth this year_Yes']]\n",
      "Fitting 5 folds for each of 540 candidates, totalling 2700 fits\n",
      "Fitting 5 folds for each of 540 candidates, totalling 2700 fits\n",
      "Fitting 5 folds for each of 540 candidates, totalling 2700 fits\n",
      "Fitting 5 folds for each of 540 candidates, totalling 2700 fits\n",
      "Fitting 5 folds for each of 540 candidates, totalling 2700 fits\n",
      "Best subset: ['education', 'marital status_Divorced', 'marital status_Husband', 'marital status_Never married', 'marital status_Separated', 'marital status_Widowed', 'marital status_Wife', 'occupation_Construction/Extraction', 'occupation_Counseling/Mental Health Services', 'occupation_Education', 'occupation_Entertainment', 'occupation_Farming, Fishing, Forestry', 'occupation_Finance/Accounting', 'occupation_Healthcare/Medical Services', 'occupation_Legal Services', 'occupation_Management/Business', 'occupation_Military Services', 'occupation_Office/Administrative Support', 'occupation_Production/Assembly', 'occupation_Protective Services', 'occupation_Repair/Maintenance', 'occupation_Sales', 'occupation_Science, Engineering, Technology', 'occupation_Service/Hospitality', 'occupation_Transport', 'workinghours', 'sex_Female', 'sex_Male']\n",
      "Remaining features: [['age'], ['ability to speak english'], ['workclass_governmental', 'workclass_no paid work', 'workclass_private', 'workclass_self employed'], ['gave birth this year_No', 'gave birth this year_Yes']]\n",
      "Fitting 5 folds for each of 540 candidates, totalling 2700 fits\n",
      "Fitting 5 folds for each of 540 candidates, totalling 2700 fits\n",
      "Fitting 5 folds for each of 540 candidates, totalling 2700 fits\n",
      "Fitting 5 folds for each of 540 candidates, totalling 2700 fits\n",
      "Best subset: ['education', 'marital status_Divorced', 'marital status_Husband', 'marital status_Never married', 'marital status_Separated', 'marital status_Widowed', 'marital status_Wife', 'occupation_Construction/Extraction', 'occupation_Counseling/Mental Health Services', 'occupation_Education', 'occupation_Entertainment', 'occupation_Farming, Fishing, Forestry', 'occupation_Finance/Accounting', 'occupation_Healthcare/Medical Services', 'occupation_Legal Services', 'occupation_Management/Business', 'occupation_Military Services', 'occupation_Office/Administrative Support', 'occupation_Production/Assembly', 'occupation_Protective Services', 'occupation_Repair/Maintenance', 'occupation_Sales', 'occupation_Science, Engineering, Technology', 'occupation_Service/Hospitality', 'occupation_Transport', 'workinghours', 'sex_Female', 'sex_Male']\n",
      "Remaining features: [['age'], ['ability to speak english'], ['workclass_governmental', 'workclass_no paid work', 'workclass_private', 'workclass_self employed'], ['gave birth this year_No', 'gave birth this year_Yes']]\n",
      "Best subset of features: ['education', 'marital status_Divorced', 'marital status_Husband', 'marital status_Never married', 'marital status_Separated', 'marital status_Widowed', 'marital status_Wife', 'occupation_Construction/Extraction', 'occupation_Counseling/Mental Health Services', 'occupation_Education', 'occupation_Entertainment', 'occupation_Farming, Fishing, Forestry', 'occupation_Finance/Accounting', 'occupation_Healthcare/Medical Services', 'occupation_Legal Services', 'occupation_Management/Business', 'occupation_Military Services', 'occupation_Office/Administrative Support', 'occupation_Production/Assembly', 'occupation_Protective Services', 'occupation_Repair/Maintenance', 'occupation_Sales', 'occupation_Science, Engineering, Technology', 'occupation_Service/Hospitality', 'occupation_Transport', 'workinghours', 'sex_Female', 'sex_Male']\n",
      "Best hyperparameters: {'criterion': 'gini', 'max_depth': 10, 'max_features': None, 'min_samples_leaf': 2, 'min_samples_split': 10, 'random_state': 42, 'splitter': 'random'}\n",
      "Best model accuracy: 0.7777777777777778\n",
      "              precision    recall  f1-score   support\n",
      "\n",
      "           0       0.81      0.84      0.82      1175\n",
      "           1       0.68      0.63      0.65       625\n",
      "\n",
      "    accuracy                           0.77      1800\n",
      "   macro avg       0.74      0.74      0.74      1800\n",
      "weighted avg       0.76      0.77      0.77      1800\n",
      "\n",
      "Fairness Metrics:\n",
      "Male FPR: 0.2143864598025388\n",
      "Male TPR: 0.7054108216432866\n",
      "Female FPR: 0.07939914163090128\n",
      "Female TPR: 0.3412698412698413\n",
      "\n",
      "Disparate Impact (DI): 0.324\n",
      "Discrimination Score (DS): -0.282\n",
      "Equal Opportunity Difference (EO): 0.364\n",
      "Equalized Odds (EOdds): 0.135\n"
     ]
    }
   ],
   "source": [
    "# Forward feature selection with hyperparameter tuning\n",
    "best_subset, best_params, best_score = forward_feat_selection_hypertuning(DecisionTreeClassifier(), param_grid, X_train, y_train, X_test, y_test)\n",
    "\n",
    "print(\"Best subset of features:\", best_subset)\n",
    "print(\"Best hyperparameters:\", best_params)\n",
    "print(\"Best model accuracy:\", best_score)\n",
    "\n",
    "# Use the best subset and best hyperparameters for final model\n",
    "final_model_allf_ffs = DecisionTreeClassifier(**best_params)\n",
    "final_model_allf_ffs.fit(X_train[best_subset], y_train)\n",
    "final_model_preds = final_model_allf_ffs.predict(X_test[best_subset])\n",
    "final_model_accuracy = accuracy_score(y_test, final_model_preds)\n",
    "\n",
    "print(classification_report(y_test, final_model_preds))\n",
    "\n",
    "print_male_female_metrics(final_model_allf_ffs, X, X_male, X_female, X_test[best_subset], y_test)\n",
    "save_model(final_model_allf_ffs, '../output/saved_models/dt_model_sexincl_ffs_tuned_unfair.joblib')"
   ],
   "metadata": {
    "collapsed": false,
    "ExecuteTime": {
     "end_time": "2024-05-02T03:51:42.326055Z",
     "start_time": "2024-05-02T03:36:21.773934900Z"
    }
   },
   "id": "112127e2bd5b91f2",
   "execution_count": 13
  },
  {
   "cell_type": "markdown",
   "source": [
    "Now the same but with fairness constraints."
   ],
   "metadata": {
    "collapsed": false
   },
   "id": "cdda5712520e20e3"
  },
  {
   "cell_type": "code",
   "outputs": [
    {
     "name": "stdout",
     "output_type": "stream",
     "text": [
      "Fitting 5 folds for each of 540 candidates, totalling 2700 fits\n",
      "Fitting 5 folds for each of 540 candidates, totalling 2700 fits\n",
      "Fitting 5 folds for each of 540 candidates, totalling 2700 fits\n",
      "Fitting 5 folds for each of 540 candidates, totalling 2700 fits\n",
      "Fitting 5 folds for each of 540 candidates, totalling 2700 fits\n",
      "Fitting 5 folds for each of 540 candidates, totalling 2700 fits\n",
      "Fitting 5 folds for each of 540 candidates, totalling 2700 fits\n",
      "Fitting 5 folds for each of 540 candidates, totalling 2700 fits\n",
      "Best subset: ['sex_Female', 'sex_Male', 'education']\n",
      "Remaining features: [['age'], ['workinghours'], ['ability to speak english'], ['workclass_governmental', 'workclass_no paid work', 'workclass_private', 'workclass_self employed'], ['marital status_Divorced', 'marital status_Husband', 'marital status_Never married', 'marital status_Separated', 'marital status_Widowed', 'marital status_Wife'], ['occupation_Construction/Extraction', 'occupation_Counseling/Mental Health Services', 'occupation_Education', 'occupation_Entertainment', 'occupation_Farming, Fishing, Forestry', 'occupation_Finance/Accounting', 'occupation_Healthcare/Medical Services', 'occupation_Legal Services', 'occupation_Management/Business', 'occupation_Military Services', 'occupation_Office/Administrative Support', 'occupation_Production/Assembly', 'occupation_Protective Services', 'occupation_Repair/Maintenance', 'occupation_Sales', 'occupation_Science, Engineering, Technology', 'occupation_Service/Hospitality', 'occupation_Transport'], ['gave birth this year_No', 'gave birth this year_Yes']]\n",
      "Fitting 5 folds for each of 540 candidates, totalling 2700 fits\n",
      "Fitting 5 folds for each of 540 candidates, totalling 2700 fits\n",
      "Fitting 5 folds for each of 540 candidates, totalling 2700 fits\n",
      "Fitting 5 folds for each of 540 candidates, totalling 2700 fits\n",
      "Fitting 5 folds for each of 540 candidates, totalling 2700 fits\n",
      "Fitting 5 folds for each of 540 candidates, totalling 2700 fits\n",
      "Fitting 5 folds for each of 540 candidates, totalling 2700 fits\n",
      "Best subset: ['sex_Female', 'sex_Male', 'education', 'workinghours']\n",
      "Remaining features: [['age'], ['ability to speak english'], ['workclass_governmental', 'workclass_no paid work', 'workclass_private', 'workclass_self employed'], ['marital status_Divorced', 'marital status_Husband', 'marital status_Never married', 'marital status_Separated', 'marital status_Widowed', 'marital status_Wife'], ['occupation_Construction/Extraction', 'occupation_Counseling/Mental Health Services', 'occupation_Education', 'occupation_Entertainment', 'occupation_Farming, Fishing, Forestry', 'occupation_Finance/Accounting', 'occupation_Healthcare/Medical Services', 'occupation_Legal Services', 'occupation_Management/Business', 'occupation_Military Services', 'occupation_Office/Administrative Support', 'occupation_Production/Assembly', 'occupation_Protective Services', 'occupation_Repair/Maintenance', 'occupation_Sales', 'occupation_Science, Engineering, Technology', 'occupation_Service/Hospitality', 'occupation_Transport'], ['gave birth this year_No', 'gave birth this year_Yes']]\n",
      "Fitting 5 folds for each of 540 candidates, totalling 2700 fits\n",
      "Fitting 5 folds for each of 540 candidates, totalling 2700 fits\n",
      "Fitting 5 folds for each of 540 candidates, totalling 2700 fits\n",
      "Fitting 5 folds for each of 540 candidates, totalling 2700 fits\n",
      "Fitting 5 folds for each of 540 candidates, totalling 2700 fits\n",
      "Fitting 5 folds for each of 540 candidates, totalling 2700 fits\n",
      "Best subset: ['sex_Female', 'sex_Male', 'education', 'workinghours', 'age']\n",
      "Remaining features: [['ability to speak english'], ['workclass_governmental', 'workclass_no paid work', 'workclass_private', 'workclass_self employed'], ['marital status_Divorced', 'marital status_Husband', 'marital status_Never married', 'marital status_Separated', 'marital status_Widowed', 'marital status_Wife'], ['occupation_Construction/Extraction', 'occupation_Counseling/Mental Health Services', 'occupation_Education', 'occupation_Entertainment', 'occupation_Farming, Fishing, Forestry', 'occupation_Finance/Accounting', 'occupation_Healthcare/Medical Services', 'occupation_Legal Services', 'occupation_Management/Business', 'occupation_Military Services', 'occupation_Office/Administrative Support', 'occupation_Production/Assembly', 'occupation_Protective Services', 'occupation_Repair/Maintenance', 'occupation_Sales', 'occupation_Science, Engineering, Technology', 'occupation_Service/Hospitality', 'occupation_Transport'], ['gave birth this year_No', 'gave birth this year_Yes']]\n",
      "Fitting 5 folds for each of 540 candidates, totalling 2700 fits\n",
      "Fitting 5 folds for each of 540 candidates, totalling 2700 fits\n",
      "Fitting 5 folds for each of 540 candidates, totalling 2700 fits\n",
      "Fitting 5 folds for each of 540 candidates, totalling 2700 fits\n",
      "Fitting 5 folds for each of 540 candidates, totalling 2700 fits\n",
      "Best subset: ['sex_Female', 'sex_Male', 'education', 'workinghours', 'age']\n",
      "Remaining features: [['ability to speak english'], ['workclass_governmental', 'workclass_no paid work', 'workclass_private', 'workclass_self employed'], ['marital status_Divorced', 'marital status_Husband', 'marital status_Never married', 'marital status_Separated', 'marital status_Widowed', 'marital status_Wife'], ['occupation_Construction/Extraction', 'occupation_Counseling/Mental Health Services', 'occupation_Education', 'occupation_Entertainment', 'occupation_Farming, Fishing, Forestry', 'occupation_Finance/Accounting', 'occupation_Healthcare/Medical Services', 'occupation_Legal Services', 'occupation_Management/Business', 'occupation_Military Services', 'occupation_Office/Administrative Support', 'occupation_Production/Assembly', 'occupation_Protective Services', 'occupation_Repair/Maintenance', 'occupation_Sales', 'occupation_Science, Engineering, Technology', 'occupation_Service/Hospitality', 'occupation_Transport'], ['gave birth this year_No', 'gave birth this year_Yes']]\n",
      "Best subset of features: ['sex_Female', 'sex_Male', 'education', 'workinghours', 'age']\n",
      "Best hyperparameters: {'criterion': 'entropy', 'max_depth': 10, 'max_features': None, 'min_samples_leaf': 2, 'min_samples_split': 10, 'random_state': 42, 'splitter': 'random'}\n",
      "Best model accuracy: 0.7666666666666667\n",
      "              precision    recall  f1-score   support\n",
      "\n",
      "           0       0.80      0.85      0.82      1175\n",
      "           1       0.68      0.61      0.64       625\n",
      "\n",
      "    accuracy                           0.76      1800\n",
      "   macro avg       0.74      0.73      0.73      1800\n",
      "weighted avg       0.76      0.76      0.76      1800\n",
      "\n",
      "Fairness Metrics:\n",
      "Male FPR: 0.2143864598025388\n",
      "Male TPR: 0.6673346693386774\n",
      "Female FPR: 0.06437768240343347\n",
      "Female TPR: 0.36507936507936506\n",
      "\n",
      "Disparate Impact (DI): 0.320\n",
      "Discrimination Score (DS): -0.273\n",
      "Equal Opportunity Difference (EO): 0.302\n",
      "Equalized Odds (EOdds): 0.150\n"
     ]
    }
   ],
   "source": [
    "# Forward feature selection with hyperparameter tuning\n",
    "best_subset, best_params, best_score = forward_feat_selection_hypertuning(DecisionTreeClassifier(), param_grid, X_train, y_train, X_test, y_test, ensure_fairness=True)\n",
    "\n",
    "print(\"Best subset of features:\", best_subset)\n",
    "print(\"Best hyperparameters:\", best_params)\n",
    "print(\"Best model accuracy:\", best_score)\n",
    "\n",
    "# Use the best subset and best hyperparameters for final model\n",
    "final_model_allf_ffs = DecisionTreeClassifier(**best_params)\n",
    "final_model_allf_ffs.fit(X_train[best_subset], y_train)\n",
    "final_model_preds = final_model_allf_ffs.predict(X_test[best_subset])\n",
    "final_model_accuracy = accuracy_score(y_test, final_model_preds)\n",
    "\n",
    "print(classification_report(y_test, final_model_preds))\n",
    "\n",
    "print_male_female_metrics(final_model_allf_ffs, X, X_male, X_female, X_test[best_subset], y_test)\n",
    "save_model(final_model_allf_ffs, '../output/saved_models/dt_model_sexincl_ffs_tuned_fair.joblib')"
   ],
   "metadata": {
    "collapsed": false,
    "ExecuteTime": {
     "end_time": "2024-05-02T04:03:03.799467200Z",
     "start_time": "2024-05-02T03:51:42.326055Z"
    }
   },
   "id": "46b70bbc3e8a6d1d",
   "execution_count": 14
  },
  {
   "cell_type": "markdown",
   "source": [
    "#### Removing sex-related columns"
   ],
   "metadata": {
    "collapsed": false
   },
   "id": "90f82fda0904f110"
  },
  {
   "cell_type": "markdown",
   "source": [
    "Below we do Forward feature selection with hyperparameter tuning, but we exclude all sex-related columns."
   ],
   "metadata": {
    "collapsed": false
   },
   "id": "b7f49e256d201120"
  },
  {
   "cell_type": "code",
   "outputs": [
    {
     "name": "stdout",
     "output_type": "stream",
     "text": [
      "Fitting 5 folds for each of 540 candidates, totalling 2700 fits\n",
      "Fitting 5 folds for each of 540 candidates, totalling 2700 fits\n",
      "Fitting 5 folds for each of 540 candidates, totalling 2700 fits\n",
      "Fitting 5 folds for each of 540 candidates, totalling 2700 fits\n",
      "Fitting 5 folds for each of 540 candidates, totalling 2700 fits\n",
      "Fitting 5 folds for each of 540 candidates, totalling 2700 fits\n",
      "Best subset: ['education']\n",
      "Remaining features: [['age'], ['workinghours'], ['ability to speak english'], ['workclass_governmental', 'workclass_no paid work', 'workclass_private', 'workclass_self employed'], ['occupation_Construction/Extraction', 'occupation_Counseling/Mental Health Services', 'occupation_Education', 'occupation_Entertainment', 'occupation_Farming, Fishing, Forestry', 'occupation_Finance/Accounting', 'occupation_Healthcare/Medical Services', 'occupation_Legal Services', 'occupation_Management/Business', 'occupation_Military Services', 'occupation_Office/Administrative Support', 'occupation_Production/Assembly', 'occupation_Protective Services', 'occupation_Repair/Maintenance', 'occupation_Sales', 'occupation_Science, Engineering, Technology', 'occupation_Service/Hospitality', 'occupation_Transport']]\n",
      "Fitting 5 folds for each of 540 candidates, totalling 2700 fits\n",
      "Fitting 5 folds for each of 540 candidates, totalling 2700 fits\n",
      "Fitting 5 folds for each of 540 candidates, totalling 2700 fits\n",
      "Fitting 5 folds for each of 540 candidates, totalling 2700 fits\n",
      "Fitting 5 folds for each of 540 candidates, totalling 2700 fits\n",
      "Best subset: ['education', 'workinghours']\n",
      "Remaining features: [['age'], ['ability to speak english'], ['workclass_governmental', 'workclass_no paid work', 'workclass_private', 'workclass_self employed'], ['occupation_Construction/Extraction', 'occupation_Counseling/Mental Health Services', 'occupation_Education', 'occupation_Entertainment', 'occupation_Farming, Fishing, Forestry', 'occupation_Finance/Accounting', 'occupation_Healthcare/Medical Services', 'occupation_Legal Services', 'occupation_Management/Business', 'occupation_Military Services', 'occupation_Office/Administrative Support', 'occupation_Production/Assembly', 'occupation_Protective Services', 'occupation_Repair/Maintenance', 'occupation_Sales', 'occupation_Science, Engineering, Technology', 'occupation_Service/Hospitality', 'occupation_Transport']]\n",
      "Fitting 5 folds for each of 540 candidates, totalling 2700 fits\n",
      "Fitting 5 folds for each of 540 candidates, totalling 2700 fits\n",
      "Fitting 5 folds for each of 540 candidates, totalling 2700 fits\n",
      "Fitting 5 folds for each of 540 candidates, totalling 2700 fits\n",
      "Best subset: ['education', 'workinghours', 'occupation_Construction/Extraction', 'occupation_Counseling/Mental Health Services', 'occupation_Education', 'occupation_Entertainment', 'occupation_Farming, Fishing, Forestry', 'occupation_Finance/Accounting', 'occupation_Healthcare/Medical Services', 'occupation_Legal Services', 'occupation_Management/Business', 'occupation_Military Services', 'occupation_Office/Administrative Support', 'occupation_Production/Assembly', 'occupation_Protective Services', 'occupation_Repair/Maintenance', 'occupation_Sales', 'occupation_Science, Engineering, Technology', 'occupation_Service/Hospitality', 'occupation_Transport']\n",
      "Remaining features: [['age'], ['ability to speak english'], ['workclass_governmental', 'workclass_no paid work', 'workclass_private', 'workclass_self employed']]\n",
      "Fitting 5 folds for each of 540 candidates, totalling 2700 fits\n",
      "Fitting 5 folds for each of 540 candidates, totalling 2700 fits\n",
      "Fitting 5 folds for each of 540 candidates, totalling 2700 fits\n",
      "Best subset: ['education', 'workinghours', 'occupation_Construction/Extraction', 'occupation_Counseling/Mental Health Services', 'occupation_Education', 'occupation_Entertainment', 'occupation_Farming, Fishing, Forestry', 'occupation_Finance/Accounting', 'occupation_Healthcare/Medical Services', 'occupation_Legal Services', 'occupation_Management/Business', 'occupation_Military Services', 'occupation_Office/Administrative Support', 'occupation_Production/Assembly', 'occupation_Protective Services', 'occupation_Repair/Maintenance', 'occupation_Sales', 'occupation_Science, Engineering, Technology', 'occupation_Service/Hospitality', 'occupation_Transport', 'age']\n",
      "Remaining features: [['ability to speak english'], ['workclass_governmental', 'workclass_no paid work', 'workclass_private', 'workclass_self employed']]\n",
      "Fitting 5 folds for each of 540 candidates, totalling 2700 fits\n",
      "Fitting 5 folds for each of 540 candidates, totalling 2700 fits\n",
      "Best subset: ['education', 'workinghours', 'occupation_Construction/Extraction', 'occupation_Counseling/Mental Health Services', 'occupation_Education', 'occupation_Entertainment', 'occupation_Farming, Fishing, Forestry', 'occupation_Finance/Accounting', 'occupation_Healthcare/Medical Services', 'occupation_Legal Services', 'occupation_Management/Business', 'occupation_Military Services', 'occupation_Office/Administrative Support', 'occupation_Production/Assembly', 'occupation_Protective Services', 'occupation_Repair/Maintenance', 'occupation_Sales', 'occupation_Science, Engineering, Technology', 'occupation_Service/Hospitality', 'occupation_Transport', 'age']\n",
      "Remaining features: [['ability to speak english'], ['workclass_governmental', 'workclass_no paid work', 'workclass_private', 'workclass_self employed']]\n",
      "Best subset of features: ['education', 'workinghours', 'occupation_Construction/Extraction', 'occupation_Counseling/Mental Health Services', 'occupation_Education', 'occupation_Entertainment', 'occupation_Farming, Fishing, Forestry', 'occupation_Finance/Accounting', 'occupation_Healthcare/Medical Services', 'occupation_Legal Services', 'occupation_Management/Business', 'occupation_Military Services', 'occupation_Office/Administrative Support', 'occupation_Production/Assembly', 'occupation_Protective Services', 'occupation_Repair/Maintenance', 'occupation_Sales', 'occupation_Science, Engineering, Technology', 'occupation_Service/Hospitality', 'occupation_Transport', 'age']\n",
      "Best hyperparameters: {'criterion': 'entropy', 'max_depth': 10, 'max_features': None, 'min_samples_leaf': 1, 'min_samples_split': 5, 'random_state': 42, 'splitter': 'random'}\n",
      "Best model accuracy: 0.7522222222222222\n",
      "              precision    recall  f1-score   support\n",
      "\n",
      "           0       0.77      0.86      0.81      1175\n",
      "           1       0.66      0.51      0.58       625\n",
      "\n",
      "    accuracy                           0.74      1800\n",
      "   macro avg       0.72      0.69      0.70      1800\n",
      "weighted avg       0.73      0.74      0.73      1800\n",
      "\n",
      "Fairness Metrics:\n",
      "Male FPR: 0.1382228490832158\n",
      "Male TPR: 0.5370741482965932\n",
      "Female FPR: 0.1351931330472103\n",
      "Female TPR: 0.40476190476190477\n",
      "\n",
      "Disparate Impact (DI): 0.636\n",
      "Discrimination Score (DS): -0.110\n",
      "Equal Opportunity Difference (EO): 0.132\n",
      "Equalized Odds (EOdds): 0.003\n"
     ]
    }
   ],
   "source": [
    "# Forward feature selection with hyperparameter tuning\n",
    "columns_to_exclude = ['sex', 'gave birth this year', 'marital status']\n",
    "X_train_, X_test_, y_train_, y_test_, X_male, X_female = get_train_test_with_excluded_columns(data, columns_to_exclude)\n",
    "\n",
    "best_subset, best_params, best_score = forward_feat_selection_hypertuning(DecisionTreeClassifier(), param_grid, X_train_, y_train_, X_test_, y_test_)\n",
    "\n",
    "print(\"Best subset of features:\", best_subset)\n",
    "print(\"Best hyperparameters:\", best_params)\n",
    "print(\"Best model accuracy:\", best_score)\n",
    "\n",
    "# Use the best subset and best hyperparameters for final model\n",
    "final_model_sexexcl_ffs = DecisionTreeClassifier(**best_params)\n",
    "final_model_sexexcl_ffs.fit(X_train_[best_subset], y_train_)\n",
    "final_model_preds = final_model_sexexcl_ffs.predict(X_test_[best_subset])\n",
    "final_model_accuracy = accuracy_score(y_test_, final_model_preds)\n",
    "\n",
    "print(classification_report(y_test_, final_model_preds))\n",
    "\n",
    "print_male_female_metrics(final_model_sexexcl_ffs, X, X_male, X_female, X_test_[best_subset], y_test_)\n",
    "save_model(final_model_sexexcl_ffs, '../output/saved_models/dt_model_sexexcl_ffs_tuned_unfair.joblib')"
   ],
   "metadata": {
    "collapsed": false,
    "ExecuteTime": {
     "end_time": "2024-05-02T04:08:50.374659700Z",
     "start_time": "2024-05-02T04:03:03.798469800Z"
    }
   },
   "id": "932c5ce9c5dee71f",
   "execution_count": 15
  },
  {
   "cell_type": "markdown",
   "source": [
    "### AdaBoost Classifier"
   ],
   "metadata": {
    "collapsed": false
   },
   "id": "fbb9abcba57aa407"
  },
  {
   "cell_type": "code",
   "outputs": [],
   "source": [
    "# Define the parameter grid for AdaBoost\n",
    "param_grid = {\n",
    "    'algorithm': ['SAMME', 'SAMME.R'],\n",
    "    'n_estimators': [50, 75, 100, 150],\n",
    "    'learning_rate': [0.1, 0.4, 0.5, 1.0],\n",
    "    'estimator': [None, final_model_allf_ffs], # None means default estimator = DecisionTreeClassifier\n",
    "    'random_state': [42]\n",
    "}"
   ],
   "metadata": {
    "collapsed": false,
    "ExecuteTime": {
     "end_time": "2024-05-02T04:09:06.306001700Z",
     "start_time": "2024-05-02T04:09:06.305005700Z"
    }
   },
   "id": "e8ecedb77a6c8f85",
   "execution_count": null
  },
  {
   "cell_type": "markdown",
   "source": [
    "Below, we tune the hyperparameters of the AdaBoost model using the defined parameter grid and using all features."
   ],
   "metadata": {
    "collapsed": false
   },
   "id": "af41c5af7e683b8"
  },
  {
   "cell_type": "code",
   "outputs": [],
   "source": [
    "best_params, best_model, best_accuracy = tune_model(AdaBoostClassifier(), X_train, y_train, X_test, y_test, param_grid)\n",
    "\n",
    "print(\"\\nBest Hyperparameters:\", best_params)\n",
    "print(\"Best Model:\", best_model)\n",
    "print(\"Best Model Accuracy:\", best_accuracy)\n",
    "\n",
    "print_male_female_metrics(best_model, X, X_male, X_female, X_test, y_test)\n",
    "save_model(best_model, '../output/saved_models/dt_model_sexincl_noffs_tuned_unfair_ada.joblib')"
   ],
   "metadata": {
    "collapsed": false,
    "ExecuteTime": {
     "end_time": "2024-05-02T04:09:06.308994200Z",
     "start_time": "2024-05-02T04:09:06.307996400Z"
    }
   },
   "id": "cd96dea1ddc9aedf",
   "execution_count": null
  },
  {
   "cell_type": "markdown",
   "source": [
    "Now the same but with fairness constraints."
   ],
   "metadata": {
    "collapsed": false
   },
   "id": "94cb868060c2146"
  },
  {
   "cell_type": "code",
   "outputs": [],
   "source": [
    "best_params, best_model, best_accuracy = tune_model(AdaBoostClassifier(), X_train, y_train, X_test, y_test, param_grid, ensure_fairness=True)\n",
    "\n",
    "print(\"\\nBest Hyperparameters:\", best_params)\n",
    "print(\"Best Model:\", best_model)\n",
    "print(\"Best Model Accuracy:\", best_accuracy)\n",
    "\n",
    "print_male_female_metrics(best_model, X, X_male, X_female, X_test, y_test)\n",
    "save_model(best_model, '../output/saved_models/dt_model_sexincl_noffs_tuned_fair_ada.joblib')"
   ],
   "metadata": {
    "collapsed": false,
    "ExecuteTime": {
     "start_time": "2024-05-02T04:09:06.310989200Z"
    }
   },
   "id": "c186c995100ebe55"
  },
  {
   "cell_type": "markdown",
   "source": [
    "Below, we tune the hyperparameters of the AdaBoost model using the defined parameter grid and using a **subset of features**. We exclude the sex-related columns."
   ],
   "metadata": {
    "collapsed": false
   },
   "id": "95c64d4fd9bef5c9"
  },
  {
   "cell_type": "code",
   "outputs": [],
   "source": [
    "columns_to_exclude = ['sex', 'gave birth this year', 'marital status']\n",
    "X_train_, X_test_, y_train_, y_test_, X_male, X_female = get_train_test_with_excluded_columns(data, columns_to_exclude)\n",
    "\n",
    "best_params, best_model, best_accuracy = tune_model(AdaBoostClassifier(), X_train_, y_train_, X_test_, y_test_, param_grid)\n",
    "\n",
    "print(\"\\nBest Hyperparameters:\", best_params)\n",
    "print(\"Best Model:\", best_model)\n",
    "print(\"Best Model Accuracy:\", best_accuracy)\n",
    "\n",
    "print_male_female_metrics(best_model, X, X_male, X_female, X_test_, y_test_)\n",
    "save_model(best_model, '../output/saved_models/dt_model_sexexcl_noffs_tuned_unfair_ada.joblib')"
   ],
   "metadata": {
    "collapsed": false,
    "ExecuteTime": {
     "start_time": "2024-05-02T04:09:06.313980400Z"
    }
   },
   "id": "64cca9f5ebbca81e",
   "execution_count": null
  },
  {
   "cell_type": "markdown",
   "source": [
    "Now the same but with fairness constraints."
   ],
   "metadata": {
    "collapsed": false
   },
   "id": "6c507efd13569226"
  },
  {
   "cell_type": "code",
   "outputs": [],
   "source": [
    "columns_to_exclude = ['sex', 'gave birth this year', 'marital status']\n",
    "X_train_, X_test_, y_train_, y_test_, X_male, X_female = get_train_test_with_excluded_columns(data, columns_to_exclude)\n",
    "\n",
    "best_params, best_model, best_accuracy = tune_model(AdaBoostClassifier(), X_train_, y_train_, X_test_, y_test_, param_grid, ensure_fairness=True)\n",
    "\n",
    "print(\"\\nBest Hyperparameters:\", best_params)\n",
    "print(\"Best Model:\", best_model)\n",
    "print(\"Best Model Accuracy:\", best_accuracy)\n",
    "\n",
    "print_male_female_metrics(best_model, X, X_male, X_female, X_test_, y_test_)\n",
    "save_model(best_model, '../output/saved_models/dt_model_sexexcl_noffs_tuned_fair_ada.joblib')"
   ],
   "metadata": {
    "collapsed": false,
    "ExecuteTime": {
     "start_time": "2024-05-02T04:09:06.314977700Z"
    }
   },
   "id": "201fc20e85c113d7"
  }
 ],
 "metadata": {
  "kernelspec": {
   "display_name": "Python 3",
   "language": "python",
   "name": "python3"
  },
  "language_info": {
   "codemirror_mode": {
    "name": "ipython",
    "version": 2
   },
   "file_extension": ".py",
   "mimetype": "text/x-python",
   "name": "python",
   "nbconvert_exporter": "python",
   "pygments_lexer": "ipython2",
   "version": "2.7.6"
  }
 },
 "nbformat": 4,
 "nbformat_minor": 5
}
