{
 "cells": [
  {
   "cell_type": "code",
   "execution_count": 43,
   "id": "initial_id",
   "metadata": {
    "collapsed": true,
    "ExecuteTime": {
     "end_time": "2024-04-30T02:57:38.087004Z",
     "start_time": "2024-04-30T02:57:37.982489200Z"
    }
   },
   "outputs": [],
   "source": [
    "import warnings\n",
    "warnings.filterwarnings(\"ignore\")\n",
    "\n",
    "from typing import List, Tuple\n",
    "from helper.helper_functions import load_dataset, save_model, get_features_and_target, encode_all_features\n",
    "from helper.clfmodel_functions import tune_model, seq_feat_selection, multi_metric_cv, plot_multi_score_cv_results, forward_feat_selection_hypertuning\n",
    "import pandas as pd\n",
    "import numpy as np\n",
    "import seaborn as sns\n",
    "import matplotlib.pyplot as plt\n",
    "\n",
    "from sklearn.model_selection import train_test_split\n",
    "from sklearn.metrics import accuracy_score, classification_report\n",
    "from sklearn.tree import DecisionTreeClassifier\n",
    "\n",
    "from helper.fairness_functions import split_male_female_metrics, statistical_measures, print_statistical_measures, get_male_female_data, get_male_female_test_data"
   ]
  },
  {
   "cell_type": "markdown",
   "source": [
    "### Loading the cleaned dataset"
   ],
   "metadata": {
    "collapsed": false
   },
   "id": "ced45577f2a46d2"
  },
  {
   "cell_type": "code",
   "outputs": [],
   "source": [
    "data = load_dataset('../data/assignment2_income_cleaned.xlsx')"
   ],
   "metadata": {
    "collapsed": false,
    "ExecuteTime": {
     "end_time": "2024-04-30T02:57:39.757131200Z",
     "start_time": "2024-04-30T02:57:38.089996Z"
    }
   },
   "id": "573b15a0c08becd2",
   "execution_count": 44
  },
  {
   "cell_type": "markdown",
   "source": [
    "### Feature Engineering (encoding) & Train-Test Split"
   ],
   "metadata": {
    "collapsed": false
   },
   "id": "93752dfc4108815b"
  },
  {
   "cell_type": "code",
   "outputs": [],
   "source": [
    "# Splitting the data into features (X) and target (y)\n",
    "X, y = get_features_and_target(data, 'income')\n",
    "# Encoding the features and target, and excluding some columns\n",
    "X_encoded, y_encoded = encode_all_features(X, y, [])\n",
    "X_train, X_test, y_train, y_test = train_test_split(X_encoded, y_encoded, test_size=0.2, random_state=42)"
   ],
   "metadata": {
    "collapsed": false,
    "ExecuteTime": {
     "end_time": "2024-04-30T02:57:39.778964400Z",
     "start_time": "2024-04-30T02:57:39.760124200Z"
    }
   },
   "id": "6aef9cfa1cf6ddd3",
   "execution_count": 45
  },
  {
   "cell_type": "code",
   "outputs": [
    {
     "data": {
      "text/plain": "      age  education  workinghours  ability to speak english  \\\n6317   22         16            36                         0   \n740    61         22            40                         1   \n3781   48         16            40                         0   \n7850   62         18            65                         0   \n2963   53         19            44                         0   \n\n      gave birth this year_No  gave birth this year_Yes  \\\n6317                        1                         0   \n740                         1                         0   \n3781                        1                         0   \n7850                        1                         0   \n2963                        1                         0   \n\n      workclass_governmental  workclass_no paid work  workclass_private  \\\n6317                       0                       0                  1   \n740                        0                       0                  0   \n3781                       0                       0                  1   \n7850                       0                       0                  1   \n2963                       1                       0                  0   \n\n      workclass_self employed  ...  occupation_Service/Hospitality  \\\n6317                        0  ...                               0   \n740                         1  ...                               0   \n3781                        0  ...                               0   \n7850                        0  ...                               0   \n2963                        0  ...                               0   \n\n      occupation_Transport  sex_Female  sex_Male  marital status_Divorced  \\\n6317                     0           0         1                        0   \n740                      0           0         1                        1   \n3781                     0           1         0                        1   \n7850                     0           0         1                        0   \n2963                     0           1         0                        1   \n\n      marital status_Husband  marital status_Never married  \\\n6317                       1                             0   \n740                        0                             0   \n3781                       0                             0   \n7850                       1                             0   \n2963                       0                             0   \n\n      marital status_Separated  marital status_Widowed  marital status_Wife  \n6317                         0                       0                    0  \n740                          0                       0                    0  \n3781                         0                       0                    0  \n7850                         0                       0                    0  \n2963                         0                       0                    0  \n\n[5 rows x 36 columns]",
      "text/html": "<div>\n<style scoped>\n    .dataframe tbody tr th:only-of-type {\n        vertical-align: middle;\n    }\n\n    .dataframe tbody tr th {\n        vertical-align: top;\n    }\n\n    .dataframe thead th {\n        text-align: right;\n    }\n</style>\n<table border=\"1\" class=\"dataframe\">\n  <thead>\n    <tr style=\"text-align: right;\">\n      <th></th>\n      <th>age</th>\n      <th>education</th>\n      <th>workinghours</th>\n      <th>ability to speak english</th>\n      <th>gave birth this year_No</th>\n      <th>gave birth this year_Yes</th>\n      <th>workclass_governmental</th>\n      <th>workclass_no paid work</th>\n      <th>workclass_private</th>\n      <th>workclass_self employed</th>\n      <th>...</th>\n      <th>occupation_Service/Hospitality</th>\n      <th>occupation_Transport</th>\n      <th>sex_Female</th>\n      <th>sex_Male</th>\n      <th>marital status_Divorced</th>\n      <th>marital status_Husband</th>\n      <th>marital status_Never married</th>\n      <th>marital status_Separated</th>\n      <th>marital status_Widowed</th>\n      <th>marital status_Wife</th>\n    </tr>\n  </thead>\n  <tbody>\n    <tr>\n      <th>6317</th>\n      <td>22</td>\n      <td>16</td>\n      <td>36</td>\n      <td>0</td>\n      <td>1</td>\n      <td>0</td>\n      <td>0</td>\n      <td>0</td>\n      <td>1</td>\n      <td>0</td>\n      <td>...</td>\n      <td>0</td>\n      <td>0</td>\n      <td>0</td>\n      <td>1</td>\n      <td>0</td>\n      <td>1</td>\n      <td>0</td>\n      <td>0</td>\n      <td>0</td>\n      <td>0</td>\n    </tr>\n    <tr>\n      <th>740</th>\n      <td>61</td>\n      <td>22</td>\n      <td>40</td>\n      <td>1</td>\n      <td>1</td>\n      <td>0</td>\n      <td>0</td>\n      <td>0</td>\n      <td>0</td>\n      <td>1</td>\n      <td>...</td>\n      <td>0</td>\n      <td>0</td>\n      <td>0</td>\n      <td>1</td>\n      <td>1</td>\n      <td>0</td>\n      <td>0</td>\n      <td>0</td>\n      <td>0</td>\n      <td>0</td>\n    </tr>\n    <tr>\n      <th>3781</th>\n      <td>48</td>\n      <td>16</td>\n      <td>40</td>\n      <td>0</td>\n      <td>1</td>\n      <td>0</td>\n      <td>0</td>\n      <td>0</td>\n      <td>1</td>\n      <td>0</td>\n      <td>...</td>\n      <td>0</td>\n      <td>0</td>\n      <td>1</td>\n      <td>0</td>\n      <td>1</td>\n      <td>0</td>\n      <td>0</td>\n      <td>0</td>\n      <td>0</td>\n      <td>0</td>\n    </tr>\n    <tr>\n      <th>7850</th>\n      <td>62</td>\n      <td>18</td>\n      <td>65</td>\n      <td>0</td>\n      <td>1</td>\n      <td>0</td>\n      <td>0</td>\n      <td>0</td>\n      <td>1</td>\n      <td>0</td>\n      <td>...</td>\n      <td>0</td>\n      <td>0</td>\n      <td>0</td>\n      <td>1</td>\n      <td>0</td>\n      <td>1</td>\n      <td>0</td>\n      <td>0</td>\n      <td>0</td>\n      <td>0</td>\n    </tr>\n    <tr>\n      <th>2963</th>\n      <td>53</td>\n      <td>19</td>\n      <td>44</td>\n      <td>0</td>\n      <td>1</td>\n      <td>0</td>\n      <td>1</td>\n      <td>0</td>\n      <td>0</td>\n      <td>0</td>\n      <td>...</td>\n      <td>0</td>\n      <td>0</td>\n      <td>1</td>\n      <td>0</td>\n      <td>1</td>\n      <td>0</td>\n      <td>0</td>\n      <td>0</td>\n      <td>0</td>\n      <td>0</td>\n    </tr>\n  </tbody>\n</table>\n<p>5 rows × 36 columns</p>\n</div>"
     },
     "execution_count": 46,
     "metadata": {},
     "output_type": "execute_result"
    }
   ],
   "source": [
    "X_train.head()"
   ],
   "metadata": {
    "collapsed": false,
    "ExecuteTime": {
     "end_time": "2024-04-30T02:57:39.799286800Z",
     "start_time": "2024-04-30T02:57:39.780955600Z"
    }
   },
   "id": "8287bdb77f1960c7",
   "execution_count": 46
  },
  {
   "cell_type": "markdown",
   "source": [
    "### Model\n",
    "\n",
    "Here, we quickly train and evaluate a Decision Tree model with random parameters for demonstration."
   ],
   "metadata": {
    "collapsed": false
   },
   "id": "bfc5f29026270e84"
  },
  {
   "cell_type": "code",
   "outputs": [
    {
     "name": "stdout",
     "output_type": "stream",
     "text": [
      "              precision    recall  f1-score   support\n",
      "\n",
      "           0       0.78      0.79      0.79      1175\n",
      "           1       0.60      0.58      0.59       625\n",
      "\n",
      "    accuracy                           0.72      1800\n",
      "   macro avg       0.69      0.69      0.69      1800\n",
      "weighted avg       0.72      0.72      0.72      1800\n",
      "\n",
      "Decision Tree Accuracy: 0.72\n"
     ]
    }
   ],
   "source": [
    "# Decision Tree model\n",
    "dt_model = DecisionTreeClassifier()\n",
    "dt_model.fit(X_train, y_train)\n",
    "dt_preds = dt_model.predict(X_test)\n",
    "dt_accuracy = accuracy_score(y_test, dt_preds)\n",
    "\n",
    "print(classification_report(y_test, dt_preds))\n",
    "print(\"Decision Tree Accuracy:\", dt_accuracy)"
   ],
   "metadata": {
    "collapsed": false,
    "ExecuteTime": {
     "end_time": "2024-04-30T02:57:39.905747400Z",
     "start_time": "2024-04-30T02:57:39.800283600Z"
    }
   },
   "id": "755b22d9e1afea95",
   "execution_count": 47
  },
  {
   "cell_type": "markdown",
   "source": [
    "### Feature Importance using the model itself"
   ],
   "metadata": {
    "collapsed": false
   },
   "id": "3717142226424dc7"
  },
  {
   "cell_type": "code",
   "outputs": [],
   "source": [
    "# Extract feature importances\n",
    "feature_importances = dt_model.feature_importances_\n",
    "feature_importance_df = pd.DataFrame({\n",
    "    'Feature': X_train.columns,\n",
    "    'Importance': feature_importances\n",
    "})\n",
    "feature_importance_df = feature_importance_df.sort_values(by='Importance', ascending=False)"
   ],
   "metadata": {
    "collapsed": false,
    "ExecuteTime": {
     "end_time": "2024-04-30T02:57:39.927302400Z",
     "start_time": "2024-04-30T02:57:39.862072600Z"
    }
   },
   "id": "a012c18c07f3a3f6",
   "execution_count": 48
  },
  {
   "cell_type": "code",
   "outputs": [
    {
     "data": {
      "text/plain": "                                         Feature  Importance\n0                                            age    0.281837\n1                                      education    0.166067\n2                                   workinghours    0.141697\n31                        marital status_Husband    0.130882\n18                occupation_Management/Business    0.022167\n25   occupation_Science, Engineering, Technology    0.017824\n8                              workclass_private    0.017696\n21                occupation_Production/Assembly    0.016775\n6                         workclass_governmental    0.014501\n27                          occupation_Transport    0.013399\n16        occupation_Healthcare/Medical Services    0.013372\n24                              occupation_Sales    0.013192\n23                 occupation_Repair/Maintenance    0.012655\n10            occupation_Construction/Extraction    0.011829\n26                occupation_Service/Hospitality    0.011743\n9                        workclass_self employed    0.011712\n30                       marital status_Divorced    0.011137\n20      occupation_Office/Administrative Support    0.009463\n3                       ability to speak english    0.009034\n12                          occupation_Education    0.008940\n29                                      sex_Male    0.008707\n35                           marital status_Wife    0.008015\n32                  marital status_Never married    0.006608\n15                 occupation_Finance/Accounting    0.005696\n22                occupation_Protective Services    0.005451\n11  occupation_Counseling/Mental Health Services    0.005183\n34                        marital status_Widowed    0.004620\n28                                    sex_Female    0.004053\n33                      marital status_Separated    0.003703\n5                       gave birth this year_Yes    0.003135\n17                     occupation_Legal Services    0.002748\n13                      occupation_Entertainment    0.002243\n7                         workclass_no paid work    0.001838\n14         occupation_Farming, Fishing, Forestry    0.000881\n19                  occupation_Military Services    0.000731\n4                        gave birth this year_No    0.000465",
      "text/html": "<div>\n<style scoped>\n    .dataframe tbody tr th:only-of-type {\n        vertical-align: middle;\n    }\n\n    .dataframe tbody tr th {\n        vertical-align: top;\n    }\n\n    .dataframe thead th {\n        text-align: right;\n    }\n</style>\n<table border=\"1\" class=\"dataframe\">\n  <thead>\n    <tr style=\"text-align: right;\">\n      <th></th>\n      <th>Feature</th>\n      <th>Importance</th>\n    </tr>\n  </thead>\n  <tbody>\n    <tr>\n      <th>0</th>\n      <td>age</td>\n      <td>0.281837</td>\n    </tr>\n    <tr>\n      <th>1</th>\n      <td>education</td>\n      <td>0.166067</td>\n    </tr>\n    <tr>\n      <th>2</th>\n      <td>workinghours</td>\n      <td>0.141697</td>\n    </tr>\n    <tr>\n      <th>31</th>\n      <td>marital status_Husband</td>\n      <td>0.130882</td>\n    </tr>\n    <tr>\n      <th>18</th>\n      <td>occupation_Management/Business</td>\n      <td>0.022167</td>\n    </tr>\n    <tr>\n      <th>25</th>\n      <td>occupation_Science, Engineering, Technology</td>\n      <td>0.017824</td>\n    </tr>\n    <tr>\n      <th>8</th>\n      <td>workclass_private</td>\n      <td>0.017696</td>\n    </tr>\n    <tr>\n      <th>21</th>\n      <td>occupation_Production/Assembly</td>\n      <td>0.016775</td>\n    </tr>\n    <tr>\n      <th>6</th>\n      <td>workclass_governmental</td>\n      <td>0.014501</td>\n    </tr>\n    <tr>\n      <th>27</th>\n      <td>occupation_Transport</td>\n      <td>0.013399</td>\n    </tr>\n    <tr>\n      <th>16</th>\n      <td>occupation_Healthcare/Medical Services</td>\n      <td>0.013372</td>\n    </tr>\n    <tr>\n      <th>24</th>\n      <td>occupation_Sales</td>\n      <td>0.013192</td>\n    </tr>\n    <tr>\n      <th>23</th>\n      <td>occupation_Repair/Maintenance</td>\n      <td>0.012655</td>\n    </tr>\n    <tr>\n      <th>10</th>\n      <td>occupation_Construction/Extraction</td>\n      <td>0.011829</td>\n    </tr>\n    <tr>\n      <th>26</th>\n      <td>occupation_Service/Hospitality</td>\n      <td>0.011743</td>\n    </tr>\n    <tr>\n      <th>9</th>\n      <td>workclass_self employed</td>\n      <td>0.011712</td>\n    </tr>\n    <tr>\n      <th>30</th>\n      <td>marital status_Divorced</td>\n      <td>0.011137</td>\n    </tr>\n    <tr>\n      <th>20</th>\n      <td>occupation_Office/Administrative Support</td>\n      <td>0.009463</td>\n    </tr>\n    <tr>\n      <th>3</th>\n      <td>ability to speak english</td>\n      <td>0.009034</td>\n    </tr>\n    <tr>\n      <th>12</th>\n      <td>occupation_Education</td>\n      <td>0.008940</td>\n    </tr>\n    <tr>\n      <th>29</th>\n      <td>sex_Male</td>\n      <td>0.008707</td>\n    </tr>\n    <tr>\n      <th>35</th>\n      <td>marital status_Wife</td>\n      <td>0.008015</td>\n    </tr>\n    <tr>\n      <th>32</th>\n      <td>marital status_Never married</td>\n      <td>0.006608</td>\n    </tr>\n    <tr>\n      <th>15</th>\n      <td>occupation_Finance/Accounting</td>\n      <td>0.005696</td>\n    </tr>\n    <tr>\n      <th>22</th>\n      <td>occupation_Protective Services</td>\n      <td>0.005451</td>\n    </tr>\n    <tr>\n      <th>11</th>\n      <td>occupation_Counseling/Mental Health Services</td>\n      <td>0.005183</td>\n    </tr>\n    <tr>\n      <th>34</th>\n      <td>marital status_Widowed</td>\n      <td>0.004620</td>\n    </tr>\n    <tr>\n      <th>28</th>\n      <td>sex_Female</td>\n      <td>0.004053</td>\n    </tr>\n    <tr>\n      <th>33</th>\n      <td>marital status_Separated</td>\n      <td>0.003703</td>\n    </tr>\n    <tr>\n      <th>5</th>\n      <td>gave birth this year_Yes</td>\n      <td>0.003135</td>\n    </tr>\n    <tr>\n      <th>17</th>\n      <td>occupation_Legal Services</td>\n      <td>0.002748</td>\n    </tr>\n    <tr>\n      <th>13</th>\n      <td>occupation_Entertainment</td>\n      <td>0.002243</td>\n    </tr>\n    <tr>\n      <th>7</th>\n      <td>workclass_no paid work</td>\n      <td>0.001838</td>\n    </tr>\n    <tr>\n      <th>14</th>\n      <td>occupation_Farming, Fishing, Forestry</td>\n      <td>0.000881</td>\n    </tr>\n    <tr>\n      <th>19</th>\n      <td>occupation_Military Services</td>\n      <td>0.000731</td>\n    </tr>\n    <tr>\n      <th>4</th>\n      <td>gave birth this year_No</td>\n      <td>0.000465</td>\n    </tr>\n  </tbody>\n</table>\n</div>"
     },
     "execution_count": 49,
     "metadata": {},
     "output_type": "execute_result"
    }
   ],
   "source": [
    "feature_importance_df"
   ],
   "metadata": {
    "collapsed": false,
    "ExecuteTime": {
     "end_time": "2024-04-30T02:57:39.929297500Z",
     "start_time": "2024-04-30T02:57:39.869852400Z"
    }
   },
   "id": "263b70e9c4d9ee2",
   "execution_count": 49
  },
  {
   "cell_type": "markdown",
   "source": [
    "### Hyperparameter tuning"
   ],
   "metadata": {
    "collapsed": false
   },
   "id": "8168fff7de333608"
  },
  {
   "cell_type": "markdown",
   "source": [
    "Here, we define the base parameter grid for our hyperparameter tuning function."
   ],
   "metadata": {
    "collapsed": false
   },
   "id": "9f5cb4c3ce0c5408"
  },
  {
   "cell_type": "code",
   "outputs": [],
   "source": [
    "param_grid = {\n",
    "        'criterion': ['gini', 'entropy'],\n",
    "        'splitter': ['best', 'random'],\n",
    "        'max_depth': [None, 5, 10, 15, 20],\n",
    "        'min_samples_split': [2, 5, 10],\n",
    "        'min_samples_leaf': [1, 2, 4],\n",
    "        'max_features': [None, 'sqrt', 'log2'],\n",
    "        'random_state': [42]\n",
    "    }"
   ],
   "metadata": {
    "collapsed": false,
    "ExecuteTime": {
     "end_time": "2024-04-30T02:57:39.972183300Z",
     "start_time": "2024-04-30T02:57:39.882719100Z"
    }
   },
   "id": "d6b393f5fc5af410",
   "execution_count": 50
  },
  {
   "cell_type": "markdown",
   "source": [
    "Below, we tune the hyperparameters of the Decision Tree model using the defined parameter grid and using all features.\n"
   ],
   "metadata": {
    "collapsed": false
   },
   "id": "ce7dc9b6ea2a3291"
  },
  {
   "cell_type": "code",
   "outputs": [],
   "source": [
    "if False:\n",
    "    best_params, best_model, best_accuracy = tune_model(DecisionTreeClassifier(), X_train, y_train, X_test, y_test, param_grid)\n",
    "    \n",
    "    print(\"\\nBest Hyperparameters:\", best_params)\n",
    "    print(\"Best Model:\", best_model)\n",
    "    print(\"Best Model Accuracy:\", best_accuracy)"
   ],
   "metadata": {
    "collapsed": false,
    "ExecuteTime": {
     "end_time": "2024-04-30T02:57:39.973180600Z",
     "start_time": "2024-04-30T02:57:39.888868Z"
    }
   },
   "id": "baf416612eaf1be1",
   "execution_count": 51
  },
  {
   "cell_type": "markdown",
   "source": [
    "Below, we tune the hyperparameters of the Decision Tree model using the defined parameter grid and using a **subset of features**. We exclude the columns 'age', 'ability to speak english', and 'workclass'."
   ],
   "metadata": {
    "collapsed": false
   },
   "id": "d54c3b9a45ed7ffa"
  },
  {
   "cell_type": "code",
   "outputs": [],
   "source": [
    "if False:\n",
    "    # Splitting the data into features (X) and target (y)\n",
    "    X_, y_ = get_features_and_target(data, 'income')\n",
    "    columns_to_exclude = ['age', 'ability to speak english', 'workclass']\n",
    "    X_ = X_.drop(columns=columns_to_exclude)\n",
    "    # Encoding the features and target, and excluding some columns\n",
    "    X_encoded_, y_encoded_ = encode_all_features(X_, y_, columns_to_exclude)\n",
    "    X_train_, X_test_, y_train_, y_test_ = train_test_split(X_encoded_, y_encoded_, test_size=0.2, random_state=42)\n",
    "    \n",
    "    best_params, best_model, best_accuracy = tune_model(DecisionTreeClassifier(), X_train_, y_train_, X_test_, y_test_, param_grid)\n",
    "    \n",
    "    print(\"\\nBest Hyperparameters:\", best_params)\n",
    "    print(\"Best Model:\", best_model)\n",
    "    print(\"Best Model Accuracy:\", best_accuracy)"
   ],
   "metadata": {
    "collapsed": false,
    "ExecuteTime": {
     "end_time": "2024-04-30T02:57:39.974178400Z",
     "start_time": "2024-04-30T02:57:39.897262300Z"
    }
   },
   "id": "36679718d8181f6",
   "execution_count": 52
  },
  {
   "cell_type": "code",
   "outputs": [],
   "source": [
    "# Forward feature selection with hyperparameter tuning\n",
    "if False:\n",
    "    best_subset, best_params, best_score = forward_feat_selection_hypertuning(DecisionTreeClassifier(), param_grid, X_train, y_train, X_test, y_test)\n",
    "    \n",
    "    print(\"Best subset of features:\", best_subset)\n",
    "    print(\"Best hyperparameters:\", best_params)\n",
    "    print(\"Best model accuracy:\", best_score)\n",
    "    \n",
    "    # Use the best subset and best hyperparameters for final model\n",
    "    final_model = DecisionTreeClassifier(**best_params)\n",
    "    final_model.fit(X_train[best_subset], y_train)\n",
    "    final_model_preds = final_model.predict(X_test[best_subset])\n",
    "    final_model_accuracy = accuracy_score(y_test, final_model_preds)\n",
    "    \n",
    "    print(classification_report(y_test, final_model_preds))"
   ],
   "metadata": {
    "collapsed": false,
    "ExecuteTime": {
     "end_time": "2024-04-30T02:57:39.976172Z",
     "start_time": "2024-04-30T02:57:39.908740500Z"
    }
   },
   "id": "112127e2bd5b91f2",
   "execution_count": 53
  },
  {
   "cell_type": "markdown",
   "source": [
    "### AdaBoost Classifier"
   ],
   "metadata": {
    "collapsed": false
   },
   "id": "fbb9abcba57aa407"
  },
  {
   "cell_type": "code",
   "outputs": [],
   "source": [
    "# Define the parameter grid for AdaBoost\n",
    "param_grid = {\n",
    "    'algorithm': ['SAMME', 'SAMME.R'],\n",
    "    'n_estimators': [50, 75, 100, 150],\n",
    "    'learning_rate': [0.1, 0.4, 0.5, 1.0],\n",
    "    'estimator': [None],\n",
    "    'random_state': [42]\n",
    "}"
   ],
   "metadata": {
    "collapsed": false
   },
   "id": "e8ecedb77a6c8f85"
  },
  {
   "cell_type": "code",
   "outputs": [],
   "source": [
    "from sklearn.ensemble import AdaBoostClassifier\n",
    "\n",
    "if False:\n",
    "    best_params, best_model, best_accuracy = tune_model(AdaBoostClassifier(), X_train, y_train, X_test, y_test, param_grid)\n",
    "    \n",
    "    print(\"\\nBest Hyperparameters:\", best_params)\n",
    "    print(\"Best Model:\", best_model)\n",
    "    print(\"Best Model Accuracy:\", best_accuracy)"
   ],
   "metadata": {
    "collapsed": false,
    "ExecuteTime": {
     "end_time": "2024-04-30T02:57:39.977169400Z",
     "start_time": "2024-04-30T02:57:39.915924500Z"
    }
   },
   "id": "cd96dea1ddc9aedf",
   "execution_count": 54
  },
  {
   "cell_type": "code",
   "outputs": [
    {
     "name": "stdout",
     "output_type": "stream",
     "text": [
      "1208\n",
      "592\n",
      "Fitting 5 folds for each of 32 candidates, totalling 160 fits\n",
      "\n",
      "Best Hyperparameters: {'algorithm': 'SAMME.R', 'estimator': None, 'learning_rate': 0.5, 'n_estimators': 150, 'random_state': 42}\n",
      "Best Model: AdaBoostClassifier(learning_rate=0.5, n_estimators=150, random_state=42)\n",
      "Best Model Accuracy: 0.7716666666666666\n"
     ]
    }
   ],
   "source": [
    "# Splitting the data into features (X) and target (y)\n",
    "X_, y_ = get_features_and_target(data, 'income')\n",
    "X_male, X_female = get_male_female_data(X_, False)\n",
    "columns_to_exclude = ['sex', 'gave birth this year', 'marital status']\n",
    "X__ = X_.drop(columns=columns_to_exclude)\n",
    "# Encoding the features and target, and excluding some columns\n",
    "X_encoded_, y_encoded_ = encode_all_features(X__, y_, columns_to_exclude)\n",
    "X_train_, X_test_, y_train_, y_test_ = train_test_split(X_encoded_, y_encoded_, test_size=0.2, random_state=42)\n",
    "\n",
    "X_male_test, y_male_test, X_female_test, y_female_test = get_male_female_test_data(X_male, X_female, X_test_, y_test_)\n",
    "\n",
    "best_params, best_model, best_accuracy = tune_model(AdaBoostClassifier(), X_train_, y_train_, X_test_, y_test_, param_grid)\n",
    "\n",
    "print(\"\\nBest Hyperparameters:\", best_params)\n",
    "print(\"Best Model:\", best_model)\n",
    "print(\"Best Model Accuracy:\", best_accuracy)"
   ],
   "metadata": {
    "collapsed": false,
    "ExecuteTime": {
     "end_time": "2024-04-30T02:58:48.959586200Z",
     "start_time": "2024-04-30T02:57:39.922316600Z"
    }
   },
   "id": "64cca9f5ebbca81e",
   "execution_count": 55
  },
  {
   "cell_type": "code",
   "outputs": [
    {
     "name": "stdout",
     "output_type": "stream",
     "text": [
      "Male FPR: 0.14809590973201692\n",
      "Male TPR: 0.6332665330661322\n",
      "Female FPR: 0.13304721030042918\n",
      "Female TPR: 0.5158730158730159\n"
     ]
    }
   ],
   "source": [
    "split_testsets = [X_male_test, y_male_test, X_female_test, y_female_test]\n",
    "model = AdaBoostClassifier(**best_params)\n",
    "model.fit(X_train_, y_train_)\n",
    "fpr_male, fpr_female, tpr_male, tpr_female = split_male_female_metrics(model, X_test, y_test, split_testsets=split_testsets)\n",
    "\n",
    "print(\"Male FPR:\", fpr_male)\n",
    "print(\"Male TPR:\", tpr_male)\n",
    "print(\"Female FPR:\", fpr_female)\n",
    "print(\"Female TPR:\", tpr_female)"
   ],
   "metadata": {
    "collapsed": false,
    "ExecuteTime": {
     "end_time": "2024-04-30T02:58:49.833264900Z",
     "start_time": "2024-04-30T02:58:48.952615600Z"
    }
   },
   "id": "2e4c844e838b7578",
   "execution_count": 56
  },
  {
   "cell_type": "code",
   "outputs": [
    {
     "name": "stdout",
     "output_type": "stream",
     "text": [
      "Disparate Impact (DI): 0.616\n",
      "Discrimination Score (DS): -0.134\n",
      "Equal Opportunity Difference (EO): 0.117\n",
      "Equalized Odds (EOdds): 0.015\n"
     ]
    }
   ],
   "source": [
    "y_pred = model.predict(X_test_)\n",
    "X_test_with_sex = X_test_.join(X_['sex'])\n",
    "X_test_with_sex['sex'] = X_test_with_sex['sex'].map({'Female': 0, 'Male': 1})\n",
    "DI, DS, EO, EOdds, conf_matrix = statistical_measures(X_test_with_sex, y_test_, y_pred, 'sex', use_lib_implementation=False)\n",
    "print_statistical_measures(DI, DS, EO, EOdds)"
   ],
   "metadata": {
    "collapsed": false,
    "ExecuteTime": {
     "end_time": "2024-04-30T02:58:49.910765200Z",
     "start_time": "2024-04-30T02:58:49.826283900Z"
    }
   },
   "id": "65adc1e1f5edad83",
   "execution_count": 57
  },
  {
   "cell_type": "markdown",
   "source": [
    "### Saving the model"
   ],
   "metadata": {
    "collapsed": false
   },
   "id": "1ed78ce34a0c0a66"
  },
  {
   "cell_type": "code",
   "outputs": [],
   "source": [
    "# save model\n",
    "save_model(dt_model, '../output/saved_models/decision_tree_model.joblib')"
   ],
   "metadata": {
    "collapsed": false,
    "ExecuteTime": {
     "end_time": "2024-04-30T02:58:49.912749900Z",
     "start_time": "2024-04-30T02:58:49.904518600Z"
    }
   },
   "id": "9199821840b26f4e",
   "execution_count": 58
  }
 ],
 "metadata": {
  "kernelspec": {
   "display_name": "Python 3",
   "language": "python",
   "name": "python3"
  },
  "language_info": {
   "codemirror_mode": {
    "name": "ipython",
    "version": 2
   },
   "file_extension": ".py",
   "mimetype": "text/x-python",
   "name": "python",
   "nbconvert_exporter": "python",
   "pygments_lexer": "ipython2",
   "version": "2.7.6"
  }
 },
 "nbformat": 4,
 "nbformat_minor": 5
}
