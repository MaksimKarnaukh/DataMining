{
 "cells": [
  {
   "cell_type": "code",
   "execution_count": 1,
   "id": "initial_id",
   "metadata": {
    "collapsed": true,
    "ExecuteTime": {
     "end_time": "2024-04-30T01:45:05.034877500Z",
     "start_time": "2024-04-30T01:45:04.400010100Z"
    }
   },
   "outputs": [
    {
     "name": "stderr",
     "output_type": "stream",
     "text": [
      "WARNING:root:No module named 'tensorflow': AdversarialDebiasing will be unavailable. To install, run:\n",
      "pip install 'aif360[AdversarialDebiasing]'\n",
      "WARNING:root:No module named 'tensorflow': AdversarialDebiasing will be unavailable. To install, run:\n",
      "pip install 'aif360[AdversarialDebiasing]'\n",
      "WARNING:root:No module named 'fairlearn': ExponentiatedGradientReduction will be unavailable. To install, run:\n",
      "pip install 'aif360[Reductions]'\n",
      "WARNING:root:No module named 'fairlearn': GridSearchReduction will be unavailable. To install, run:\n",
      "pip install 'aif360[Reductions]'\n",
      "WARNING:root:No module named 'inFairness': SenSeI and SenSR will be unavailable. To install, run:\n",
      "pip install 'aif360[inFairness]'\n",
      "WARNING:root:No module named 'fairlearn': GridSearchReduction will be unavailable. To install, run:\n",
      "pip install 'aif360[Reductions]'\n",
      "WARNING:root:No module named 'ot': ot_distance will be unavailable. To install, run:\n",
      "pip install 'aif360[OptimalTransport]'\n"
     ]
    }
   ],
   "source": [
    "import warnings\n",
    "warnings.filterwarnings(\"ignore\")\n",
    "\n",
    "from typing import List, Tuple\n",
    "from helper.helper_functions import load_dataset, save_model, get_features_and_target, encode_all_features\n",
    "from helper.clfmodel_functions import tune_model, seq_feat_selection, multi_metric_cv, plot_multi_score_cv_results, forward_feat_selection_hypertuning\n",
    "import pandas as pd\n",
    "import seaborn as sns\n",
    "import matplotlib.pyplot as plt\n",
    "\n",
    "from sklearn.model_selection import train_test_split\n",
    "from sklearn.metrics import accuracy_score, classification_report\n",
    "from sklearn.tree import DecisionTreeClassifier\n",
    "\n",
    "from helper.fairness_functions import split_male_female_metrics, statistical_measures, print_statistical_measures"
   ]
  },
  {
   "cell_type": "markdown",
   "source": [
    "### Loading the cleaned dataset"
   ],
   "metadata": {
    "collapsed": false
   },
   "id": "ced45577f2a46d2"
  },
  {
   "cell_type": "code",
   "outputs": [],
   "source": [
    "data = load_dataset('../data/assignment2_income_cleaned.xlsx')"
   ],
   "metadata": {
    "collapsed": false,
    "ExecuteTime": {
     "end_time": "2024-04-30T01:45:07.994666400Z",
     "start_time": "2024-04-30T01:45:05.034877500Z"
    }
   },
   "id": "573b15a0c08becd2",
   "execution_count": 2
  },
  {
   "cell_type": "markdown",
   "source": [
    "### Feature Engineering (encoding) & Train-Test Split"
   ],
   "metadata": {
    "collapsed": false
   },
   "id": "93752dfc4108815b"
  },
  {
   "cell_type": "code",
   "outputs": [],
   "source": [
    "# Splitting the data into features (X) and target (y)\n",
    "X, y = get_features_and_target(data, 'income')\n",
    "# Encoding the features and target, and excluding some columns\n",
    "X_encoded, y_encoded = encode_all_features(X, y, [])\n",
    "X_train, X_test, y_train, y_test = train_test_split(X_encoded, y_encoded, test_size=0.2, random_state=42)"
   ],
   "metadata": {
    "collapsed": false,
    "ExecuteTime": {
     "end_time": "2024-04-30T01:45:08.028054200Z",
     "start_time": "2024-04-30T01:45:07.992671400Z"
    }
   },
   "id": "6aef9cfa1cf6ddd3",
   "execution_count": 3
  },
  {
   "cell_type": "code",
   "outputs": [
    {
     "data": {
      "text/plain": "      age  education  workinghours  ability to speak english  sex_Female  \\\n6317   22         16            36                         0           0   \n740    61         22            40                         1           0   \n3781   48         16            40                         0           1   \n7850   62         18            65                         0           0   \n2963   53         19            44                         0           1   \n\n      sex_Male  workclass_governmental  workclass_no paid work  \\\n6317         1                       0                       0   \n740          1                       0                       0   \n3781         0                       0                       0   \n7850         1                       0                       0   \n2963         0                       1                       0   \n\n      workclass_private  workclass_self employed  ...  \\\n6317                  1                        0  ...   \n740                   0                        1  ...   \n3781                  1                        0  ...   \n7850                  1                        0  ...   \n2963                  0                        0  ...   \n\n      occupation_Service/Hospitality  occupation_Transport  \\\n6317                               0                     0   \n740                                0                     0   \n3781                               0                     0   \n7850                               0                     0   \n2963                               0                     0   \n\n      marital status_Divorced  marital status_Husband  \\\n6317                        0                       1   \n740                         1                       0   \n3781                        1                       0   \n7850                        0                       1   \n2963                        1                       0   \n\n      marital status_Never married  marital status_Separated  \\\n6317                             0                         0   \n740                              0                         0   \n3781                             0                         0   \n7850                             0                         0   \n2963                             0                         0   \n\n      marital status_Widowed  marital status_Wife  gave birth this year_No  \\\n6317                       0                    0                        1   \n740                        0                    0                        1   \n3781                       0                    0                        1   \n7850                       0                    0                        1   \n2963                       0                    0                        1   \n\n      gave birth this year_Yes  \n6317                         0  \n740                          0  \n3781                         0  \n7850                         0  \n2963                         0  \n\n[5 rows x 36 columns]",
      "text/html": "<div>\n<style scoped>\n    .dataframe tbody tr th:only-of-type {\n        vertical-align: middle;\n    }\n\n    .dataframe tbody tr th {\n        vertical-align: top;\n    }\n\n    .dataframe thead th {\n        text-align: right;\n    }\n</style>\n<table border=\"1\" class=\"dataframe\">\n  <thead>\n    <tr style=\"text-align: right;\">\n      <th></th>\n      <th>age</th>\n      <th>education</th>\n      <th>workinghours</th>\n      <th>ability to speak english</th>\n      <th>sex_Female</th>\n      <th>sex_Male</th>\n      <th>workclass_governmental</th>\n      <th>workclass_no paid work</th>\n      <th>workclass_private</th>\n      <th>workclass_self employed</th>\n      <th>...</th>\n      <th>occupation_Service/Hospitality</th>\n      <th>occupation_Transport</th>\n      <th>marital status_Divorced</th>\n      <th>marital status_Husband</th>\n      <th>marital status_Never married</th>\n      <th>marital status_Separated</th>\n      <th>marital status_Widowed</th>\n      <th>marital status_Wife</th>\n      <th>gave birth this year_No</th>\n      <th>gave birth this year_Yes</th>\n    </tr>\n  </thead>\n  <tbody>\n    <tr>\n      <th>6317</th>\n      <td>22</td>\n      <td>16</td>\n      <td>36</td>\n      <td>0</td>\n      <td>0</td>\n      <td>1</td>\n      <td>0</td>\n      <td>0</td>\n      <td>1</td>\n      <td>0</td>\n      <td>...</td>\n      <td>0</td>\n      <td>0</td>\n      <td>0</td>\n      <td>1</td>\n      <td>0</td>\n      <td>0</td>\n      <td>0</td>\n      <td>0</td>\n      <td>1</td>\n      <td>0</td>\n    </tr>\n    <tr>\n      <th>740</th>\n      <td>61</td>\n      <td>22</td>\n      <td>40</td>\n      <td>1</td>\n      <td>0</td>\n      <td>1</td>\n      <td>0</td>\n      <td>0</td>\n      <td>0</td>\n      <td>1</td>\n      <td>...</td>\n      <td>0</td>\n      <td>0</td>\n      <td>1</td>\n      <td>0</td>\n      <td>0</td>\n      <td>0</td>\n      <td>0</td>\n      <td>0</td>\n      <td>1</td>\n      <td>0</td>\n    </tr>\n    <tr>\n      <th>3781</th>\n      <td>48</td>\n      <td>16</td>\n      <td>40</td>\n      <td>0</td>\n      <td>1</td>\n      <td>0</td>\n      <td>0</td>\n      <td>0</td>\n      <td>1</td>\n      <td>0</td>\n      <td>...</td>\n      <td>0</td>\n      <td>0</td>\n      <td>1</td>\n      <td>0</td>\n      <td>0</td>\n      <td>0</td>\n      <td>0</td>\n      <td>0</td>\n      <td>1</td>\n      <td>0</td>\n    </tr>\n    <tr>\n      <th>7850</th>\n      <td>62</td>\n      <td>18</td>\n      <td>65</td>\n      <td>0</td>\n      <td>0</td>\n      <td>1</td>\n      <td>0</td>\n      <td>0</td>\n      <td>1</td>\n      <td>0</td>\n      <td>...</td>\n      <td>0</td>\n      <td>0</td>\n      <td>0</td>\n      <td>1</td>\n      <td>0</td>\n      <td>0</td>\n      <td>0</td>\n      <td>0</td>\n      <td>1</td>\n      <td>0</td>\n    </tr>\n    <tr>\n      <th>2963</th>\n      <td>53</td>\n      <td>19</td>\n      <td>44</td>\n      <td>0</td>\n      <td>1</td>\n      <td>0</td>\n      <td>1</td>\n      <td>0</td>\n      <td>0</td>\n      <td>0</td>\n      <td>...</td>\n      <td>0</td>\n      <td>0</td>\n      <td>1</td>\n      <td>0</td>\n      <td>0</td>\n      <td>0</td>\n      <td>0</td>\n      <td>0</td>\n      <td>1</td>\n      <td>0</td>\n    </tr>\n  </tbody>\n</table>\n<p>5 rows × 36 columns</p>\n</div>"
     },
     "execution_count": 4,
     "metadata": {},
     "output_type": "execute_result"
    }
   ],
   "source": [
    "X_train.head()"
   ],
   "metadata": {
    "collapsed": false,
    "ExecuteTime": {
     "end_time": "2024-04-30T01:45:08.048862100Z",
     "start_time": "2024-04-30T01:45:08.019079200Z"
    }
   },
   "id": "8287bdb77f1960c7",
   "execution_count": 4
  },
  {
   "cell_type": "markdown",
   "source": [
    "### Model\n",
    "\n",
    "Here, we quickly train and evaluate a Decision Tree model with random parameters for demonstration."
   ],
   "metadata": {
    "collapsed": false
   },
   "id": "bfc5f29026270e84"
  },
  {
   "cell_type": "code",
   "outputs": [
    {
     "name": "stdout",
     "output_type": "stream",
     "text": [
      "              precision    recall  f1-score   support\n",
      "\n",
      "           0       0.78      0.79      0.78      1175\n",
      "           1       0.59      0.58      0.58       625\n",
      "\n",
      "    accuracy                           0.71      1800\n",
      "   macro avg       0.68      0.68      0.68      1800\n",
      "weighted avg       0.71      0.71      0.71      1800\n",
      "\n",
      "Decision Tree Accuracy: 0.715\n"
     ]
    }
   ],
   "source": [
    "# Decision Tree model\n",
    "dt_model = DecisionTreeClassifier()\n",
    "dt_model.fit(X_train, y_train)\n",
    "dt_preds = dt_model.predict(X_test)\n",
    "dt_accuracy = accuracy_score(y_test, dt_preds)\n",
    "\n",
    "print(classification_report(y_test, dt_preds))\n",
    "print(\"Decision Tree Accuracy:\", dt_accuracy)"
   ],
   "metadata": {
    "collapsed": false,
    "ExecuteTime": {
     "end_time": "2024-04-30T01:45:08.184718900Z",
     "start_time": "2024-04-30T01:45:08.045870500Z"
    }
   },
   "id": "755b22d9e1afea95",
   "execution_count": 5
  },
  {
   "cell_type": "code",
   "outputs": [],
   "source": [
    "if False:\n",
    "    seq_feat_selection(DecisionTreeClassifier(), X_train, y_train, direction='backward')"
   ],
   "metadata": {
    "collapsed": false,
    "ExecuteTime": {
     "end_time": "2024-04-30T01:45:08.185716300Z",
     "start_time": "2024-04-30T01:45:08.108349900Z"
    }
   },
   "id": "a012c18c07f3a3f6",
   "execution_count": 6
  },
  {
   "cell_type": "markdown",
   "source": [
    "### Hyperparameter tuning"
   ],
   "metadata": {
    "collapsed": false
   },
   "id": "8168fff7de333608"
  },
  {
   "cell_type": "markdown",
   "source": [
    "Here, we define the base parameter grid for our hyperparameter tuning function."
   ],
   "metadata": {
    "collapsed": false
   },
   "id": "9f5cb4c3ce0c5408"
  },
  {
   "cell_type": "code",
   "outputs": [],
   "source": [
    "param_grid = {\n",
    "        'criterion': ['gini', 'entropy'],\n",
    "        'splitter': ['best', 'random'],\n",
    "        'max_depth': [None, 5, 10, 15, 20],\n",
    "        'min_samples_split': [2, 5, 10],\n",
    "        'min_samples_leaf': [1, 2, 4],\n",
    "        'max_features': [None, 'sqrt', 'log2'],\n",
    "        'random_state': [42]\n",
    "    }"
   ],
   "metadata": {
    "collapsed": false,
    "ExecuteTime": {
     "end_time": "2024-04-30T01:45:08.186713600Z",
     "start_time": "2024-04-30T01:45:08.111851900Z"
    }
   },
   "id": "d6b393f5fc5af410",
   "execution_count": 7
  },
  {
   "cell_type": "markdown",
   "source": [
    "Below, we tune the hyperparameters of the Decision Tree model using the defined parameter grid and using all features.\n"
   ],
   "metadata": {
    "collapsed": false
   },
   "id": "ce7dc9b6ea2a3291"
  },
  {
   "cell_type": "code",
   "outputs": [],
   "source": [
    "if False:\n",
    "    best_params, best_model, best_accuracy = tune_model(DecisionTreeClassifier(), X_train, y_train, X_test, y_test, param_grid)\n",
    "    \n",
    "    print(\"\\nBest Hyperparameters:\", best_params)\n",
    "    print(\"Best Model:\", best_model)\n",
    "    print(\"Best Model Accuracy:\", best_accuracy)"
   ],
   "metadata": {
    "collapsed": false,
    "ExecuteTime": {
     "end_time": "2024-04-30T01:45:08.187711800Z",
     "start_time": "2024-04-30T01:45:08.119587300Z"
    }
   },
   "id": "baf416612eaf1be1",
   "execution_count": 8
  },
  {
   "cell_type": "markdown",
   "source": [
    "Below, we tune the hyperparameters of the Decision Tree model using the defined parameter grid and using a **subset of features**. We exclude the columns 'age', 'ability to speak english', and 'workclass'."
   ],
   "metadata": {
    "collapsed": false
   },
   "id": "d54c3b9a45ed7ffa"
  },
  {
   "cell_type": "code",
   "outputs": [],
   "source": [
    "if False:\n",
    "    # Splitting the data into features (X) and target (y)\n",
    "    X_, y_ = get_features_and_target(data, 'income')\n",
    "    columns_to_exclude = ['age', 'ability to speak english', 'workclass']\n",
    "    X_ = X_.drop(columns=columns_to_exclude)\n",
    "    # Encoding the features and target, and excluding some columns\n",
    "    X_encoded_, y_encoded_ = encode_all_features(X_, y_, columns_to_exclude)\n",
    "    X_train_, X_test_, y_train_, y_test_ = train_test_split(X_encoded_, y_encoded_, test_size=0.2, random_state=42)\n",
    "    \n",
    "    best_params, best_model, best_accuracy = tune_model(DecisionTreeClassifier(), X_train_, y_train_, X_test_, y_test_, param_grid)\n",
    "    \n",
    "    print(\"\\nBest Hyperparameters:\", best_params)\n",
    "    print(\"Best Model:\", best_model)\n",
    "    print(\"Best Model Accuracy:\", best_accuracy)"
   ],
   "metadata": {
    "collapsed": false,
    "ExecuteTime": {
     "end_time": "2024-04-30T01:45:08.223114800Z",
     "start_time": "2024-04-30T01:45:08.128359800Z"
    }
   },
   "id": "36679718d8181f6",
   "execution_count": 9
  },
  {
   "cell_type": "code",
   "outputs": [],
   "source": [
    "# Forward feature selection with hyperparameter tuning\n",
    "if False:\n",
    "    best_subset, best_params, best_score = forward_feat_selection_hypertuning(DecisionTreeClassifier(), param_grid, X_train, y_train, X_test, y_test)\n",
    "    \n",
    "    print(\"Best subset of features:\", best_subset)\n",
    "    print(\"Best hyperparameters:\", best_params)\n",
    "    print(\"Best model accuracy:\", best_score)\n",
    "    \n",
    "    # Use the best subset and best hyperparameters for final model\n",
    "    final_model = DecisionTreeClassifier(**best_params)\n",
    "    final_model.fit(X_train[best_subset], y_train)\n",
    "    final_model_preds = final_model.predict(X_test[best_subset])\n",
    "    final_model_accuracy = accuracy_score(y_test, final_model_preds)\n",
    "    \n",
    "    print(classification_report(y_test, final_model_preds))"
   ],
   "metadata": {
    "collapsed": false,
    "ExecuteTime": {
     "end_time": "2024-04-30T01:45:08.224111600Z",
     "start_time": "2024-04-30T01:45:08.138333800Z"
    }
   },
   "id": "112127e2bd5b91f2",
   "execution_count": 10
  },
  {
   "cell_type": "code",
   "outputs": [],
   "source": [
    "from sklearn.ensemble import AdaBoostClassifier\n",
    "\n",
    "if False:\n",
    "    # Define the parameter grid for AdaBoost\n",
    "    param_grid = {\n",
    "        'algorithm': ['SAMME', 'SAMME.R'],\n",
    "        'n_estimators': [50, 75, 100, 150],\n",
    "        'learning_rate': [0.1, 0.4, 0.5, 1.0],\n",
    "        'estimator': [None],\n",
    "        'random_state': [42]\n",
    "    }\n",
    "    \n",
    "    best_params, best_model, best_accuracy = tune_model(AdaBoostClassifier(), X_train, y_train, X_test, y_test, param_grid)\n",
    "    \n",
    "    print(\"\\nBest Hyperparameters:\", best_params)\n",
    "    print(\"Best Model:\", best_model)\n",
    "    print(\"Best Model Accuracy:\", best_accuracy)"
   ],
   "metadata": {
    "collapsed": false,
    "ExecuteTime": {
     "end_time": "2024-04-30T01:45:08.262009700Z",
     "start_time": "2024-04-30T01:45:08.147817500Z"
    }
   },
   "id": "cd96dea1ddc9aedf",
   "execution_count": 11
  },
  {
   "cell_type": "code",
   "outputs": [],
   "source": [
    "def get_male_female_data(data: pd.DataFrame, is_encoded: bool):\n",
    "    if is_encoded:\n",
    "        male_data = data[data['sex_Male'] == 1]\n",
    "        female_data = data[data['sex_Male'] == 0]\n",
    "    else:\n",
    "        male_data = data[data['sex'] == 'Male']\n",
    "        female_data = data[data['sex'] == 'Female']\n",
    "    \n",
    "    return male_data, female_data"
   ],
   "metadata": {
    "collapsed": false,
    "ExecuteTime": {
     "end_time": "2024-04-30T01:45:08.263009Z",
     "start_time": "2024-04-30T01:45:08.203205500Z"
    }
   },
   "id": "48d7e4f6067380f1",
   "execution_count": 12
  },
  {
   "cell_type": "code",
   "outputs": [],
   "source": [
    "def get_male_female_test_data(X_male, X_female, X_test_, y_test_):\n",
    "    \"\"\"\n",
    "    Get test data for males and females.\n",
    "    \n",
    "    Parameters:\n",
    "        X_male (pd.DataFrame): Dataframe containing male samples.\n",
    "        X_female (pd.DataFrame): Dataframe containing female samples.\n",
    "        X_test_ (pd.DataFrame): Test features dataframe.\n",
    "        y_test_ (pd.Series): Test target series.\n",
    "        \n",
    "    Returns:\n",
    "        Tuple[pd.DataFrame, pd.Series, pd.DataFrame, pd.Series]: \n",
    "            Test data for males (features, target) and females (features, target).\n",
    "    \"\"\"    \n",
    "    # Get the indices of male and female samples in the original dataset\n",
    "    male_indices = X_male.index\n",
    "    female_indices = X_female.index\n",
    "\n",
    "    # Get the indices of male and female samples in the test set\n",
    "    male_indices_test = X_test_.index.intersection(male_indices)\n",
    "    female_indices_test = X_test_.index.intersection(female_indices)\n",
    "\n",
    "    # Get the test data for males and females\n",
    "    X_male_test = X_test_.loc[male_indices_test]\n",
    "    y_male_test = y_test_.loc[male_indices_test]\n",
    "\n",
    "    X_female_test = X_test_.loc[female_indices_test]\n",
    "    y_female_test = y_test_.loc[female_indices_test]\n",
    "\n",
    "    return X_male_test, y_male_test, X_female_test, y_female_test"
   ],
   "metadata": {
    "collapsed": false,
    "ExecuteTime": {
     "end_time": "2024-04-30T01:45:08.264005Z",
     "start_time": "2024-04-30T01:45:08.213874900Z"
    }
   },
   "id": "b7f42c00cb4e0419",
   "execution_count": 13
  },
  {
   "cell_type": "code",
   "outputs": [
    {
     "name": "stdout",
     "output_type": "stream",
     "text": [
      "1208\n",
      "592\n",
      "Fitting 5 folds for each of 32 candidates, totalling 160 fits\n",
      "\n",
      "Best Hyperparameters: {'algorithm': 'SAMME.R', 'estimator': None, 'learning_rate': 0.5, 'n_estimators': 150, 'random_state': 42}\n",
      "Best Model: AdaBoostClassifier(learning_rate=0.5, n_estimators=150, random_state=42)\n",
      "Best Model Accuracy: 0.7716666666666666\n"
     ]
    }
   ],
   "source": [
    "from sklearn.ensemble import AdaBoostClassifier\n",
    "\n",
    "# Splitting the data into features (X) and target (y)\n",
    "X_, y_ = get_features_and_target(data, 'income')\n",
    "X_male, X_female = get_male_female_data(X_, False)\n",
    "columns_to_exclude = ['sex', 'gave birth this year', 'marital status']\n",
    "X__ = X_.drop(columns=columns_to_exclude)\n",
    "# Encoding the features and target, and excluding some columns\n",
    "X_encoded_, y_encoded_ = encode_all_features(X__, y_, columns_to_exclude)\n",
    "X_train_, X_test_, y_train_, y_test_ = train_test_split(X_encoded_, y_encoded_, test_size=0.2, random_state=42)\n",
    "\n",
    "X_male_test, y_male_test, X_female_test, y_female_test = get_male_female_test_data(X_male, X_female, X_test_, y_test_)\n",
    "\n",
    "print(len(X_male_test))\n",
    "print(len(X_female_test))\n",
    "    \n",
    "# Define the parameter grid for AdaBoost\n",
    "param_grid = {\n",
    "    'algorithm': ['SAMME', 'SAMME.R'],\n",
    "    'n_estimators': [50, 75, 100, 150],\n",
    "    'learning_rate': [0.1, 0.4, 0.5, 1.0],\n",
    "    'estimator': [None],\n",
    "    'random_state': [42]\n",
    "}\n",
    "\n",
    "best_params, best_model, best_accuracy = tune_model(AdaBoostClassifier(), X_train_, y_train_, X_test_, y_test_, param_grid)\n",
    "\n",
    "print(\"\\nBest Hyperparameters:\", best_params)\n",
    "print(\"Best Model:\", best_model)\n",
    "print(\"Best Model Accuracy:\", best_accuracy)"
   ],
   "metadata": {
    "collapsed": false,
    "ExecuteTime": {
     "end_time": "2024-04-30T01:46:29.404134200Z",
     "start_time": "2024-04-30T01:45:08.221120900Z"
    }
   },
   "id": "64cca9f5ebbca81e",
   "execution_count": 14
  },
  {
   "cell_type": "code",
   "outputs": [
    {
     "name": "stdout",
     "output_type": "stream",
     "text": [
      "Male FPR: 0.14809590973201692\n",
      "Male TPR: 0.6332665330661322\n",
      "Female FPR: 0.13304721030042918\n",
      "Female TPR: 0.5158730158730159\n"
     ]
    }
   ],
   "source": [
    "split_testsets = [X_male_test, y_male_test, X_female_test, y_female_test]\n",
    "model = AdaBoostClassifier(**best_params)\n",
    "model.fit(X_train_, y_train_)\n",
    "fpr_male, fpr_female, tpr_male, tpr_female = split_male_female_metrics(model, X_test, y_test, split_testsets=split_testsets)\n",
    "\n",
    "print(\"Male FPR:\", fpr_male)\n",
    "print(\"Male TPR:\", tpr_male)\n",
    "print(\"Female FPR:\", fpr_female)\n",
    "print(\"Female TPR:\", tpr_female)"
   ],
   "metadata": {
    "collapsed": false,
    "ExecuteTime": {
     "end_time": "2024-04-30T01:46:30.266365800Z",
     "start_time": "2024-04-30T01:46:29.400145800Z"
    }
   },
   "id": "2e4c844e838b7578",
   "execution_count": 15
  },
  {
   "cell_type": "code",
   "outputs": [
    {
     "name": "stdout",
     "output_type": "stream",
     "text": [
      "Disparate Impact (DI): 0.616\n",
      "Discrimination Score (DS): -0.134\n",
      "Equal Opportunity Difference (EO): 0.117\n",
      "Equalized Odds (EOdds): 0.015\n"
     ]
    }
   ],
   "source": [
    "y_pred = model.predict(X_test_)\n",
    "X_test_with_sex = X_test_.join(X_['sex'])\n",
    "X_test_with_sex['sex'] = X_test_with_sex['sex'].map({'Female': 0, 'Male': 1})\n",
    "DI, DS, EO, EOdds, conf_matrix = statistical_measures(X_test_with_sex, y_test_, y_pred, 'sex', use_lib_implementation=False)\n",
    "print_statistical_measures(DI, DS, EO, EOdds)"
   ],
   "metadata": {
    "collapsed": false,
    "ExecuteTime": {
     "end_time": "2024-04-30T01:47:02.221003300Z",
     "start_time": "2024-04-30T01:47:02.144473500Z"
    }
   },
   "id": "65adc1e1f5edad83",
   "execution_count": 17
  },
  {
   "cell_type": "markdown",
   "source": [
    "### Saving the model"
   ],
   "metadata": {
    "collapsed": false
   },
   "id": "1ed78ce34a0c0a66"
  },
  {
   "cell_type": "code",
   "outputs": [],
   "source": [
    "# save model\n",
    "save_model(dt_model, '../output/saved_models/decision_tree_model.joblib')"
   ],
   "metadata": {
    "collapsed": false,
    "ExecuteTime": {
     "end_time": "2024-04-30T01:46:31.193005900Z",
     "start_time": "2024-04-30T01:46:31.190013400Z"
    }
   },
   "id": "9199821840b26f4e",
   "execution_count": null
  }
 ],
 "metadata": {
  "kernelspec": {
   "display_name": "Python 3",
   "language": "python",
   "name": "python3"
  },
  "language_info": {
   "codemirror_mode": {
    "name": "ipython",
    "version": 2
   },
   "file_extension": ".py",
   "mimetype": "text/x-python",
   "name": "python",
   "nbconvert_exporter": "python",
   "pygments_lexer": "ipython2",
   "version": "2.7.6"
  }
 },
 "nbformat": 4,
 "nbformat_minor": 5
}
