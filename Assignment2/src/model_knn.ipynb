{
 "cells": [
  {
   "cell_type": "code",
   "execution_count": 1,
   "id": "initial_id",
   "metadata": {
    "collapsed": true,
    "ExecuteTime": {
     "end_time": "2024-05-02T02:44:53.753451500Z",
     "start_time": "2024-05-02T02:44:25.000137700Z"
    }
   },
   "outputs": [
    {
     "name": "stderr",
     "output_type": "stream",
     "text": [
      "WARNING:root:No module named 'tensorflow': AdversarialDebiasing will be unavailable. To install, run:\n",
      "pip install 'aif360[AdversarialDebiasing]'\n",
      "WARNING:root:No module named 'tensorflow': AdversarialDebiasing will be unavailable. To install, run:\n",
      "pip install 'aif360[AdversarialDebiasing]'\n",
      "WARNING:root:No module named 'fairlearn': ExponentiatedGradientReduction will be unavailable. To install, run:\n",
      "pip install 'aif360[Reductions]'\n",
      "WARNING:root:No module named 'fairlearn': GridSearchReduction will be unavailable. To install, run:\n",
      "pip install 'aif360[Reductions]'\n",
      "WARNING:root:No module named 'inFairness': SenSeI and SenSR will be unavailable. To install, run:\n",
      "pip install 'aif360[inFairness]'\n",
      "WARNING:root:No module named 'fairlearn': GridSearchReduction will be unavailable. To install, run:\n",
      "pip install 'aif360[Reductions]'\n",
      "WARNING:root:No module named 'ot': ot_distance will be unavailable. To install, run:\n",
      "pip install 'aif360[OptimalTransport]'\n"
     ]
    }
   ],
   "source": [
    "import warnings\n",
    "warnings.filterwarnings(\"ignore\")\n",
    "\n",
    "import numpy as np\n",
    "\n",
    "from helper.helper_functions import load_dataset, save_model, get_features_and_target, encode_all_features, get_train_test_with_excluded_columns\n",
    "from helper.clfmodel_functions import tune_model, seq_feat_selection, multi_metric_cv, plot_multi_score_cv_results, forward_feat_selection_hypertuning\n",
    "from helper.fairness_functions import print_male_female_metrics, get_male_female_data\n",
    "\n",
    "from sklearn.model_selection import train_test_split\n",
    "from sklearn.metrics import make_scorer, accuracy_score, classification_report\n",
    "from sklearn.neighbors import KNeighborsClassifier"
   ]
  },
  {
   "cell_type": "markdown",
   "source": [
    "### Loading the cleaned dataset"
   ],
   "metadata": {
    "collapsed": false
   },
   "id": "ced45577f2a46d2"
  },
  {
   "cell_type": "code",
   "outputs": [],
   "source": [
    "data = load_dataset('../data/assignment2_income_cleaned.xlsx')"
   ],
   "metadata": {
    "collapsed": false,
    "ExecuteTime": {
     "end_time": "2024-05-02T02:45:00.689631100Z",
     "start_time": "2024-05-02T02:44:53.754448500Z"
    }
   },
   "id": "573b15a0c08becd2",
   "execution_count": 2
  },
  {
   "cell_type": "markdown",
   "source": [
    "### Feature Engineering (encoding) & Train-Test Split"
   ],
   "metadata": {
    "collapsed": false
   },
   "id": "98bf0f84f262caa7"
  },
  {
   "cell_type": "code",
   "outputs": [],
   "source": [
    "# Splitting the data into features (X) and target (y)\n",
    "X, y = get_features_and_target(data, 'income')\n",
    "X_male, X_female = get_male_female_data(X, False)\n",
    "columns_to_exclude = ['age', 'ability to speak english', 'gave birth this year']\n",
    "# Encoding the features and target\n",
    "X_encoded, y_encoded = encode_all_features(X, y, [])\n",
    "X_train, X_test, y_train, y_test = train_test_split(X_encoded, y_encoded, test_size=0.2, random_state=42)"
   ],
   "metadata": {
    "collapsed": false,
    "ExecuteTime": {
     "end_time": "2024-05-02T02:45:00.895856700Z",
     "start_time": "2024-05-02T02:45:00.682649700Z"
    }
   },
   "id": "83fc7449a1cf23ea",
   "execution_count": 3
  },
  {
   "cell_type": "code",
   "outputs": [
    {
     "data": {
      "text/plain": "      age  education  workinghours  ability to speak english  \\\n6317   22         16            36                         0   \n740    61         22            40                         1   \n3781   48         16            40                         0   \n7850   62         18            65                         0   \n2963   53         19            44                         0   \n\n      marital status_Divorced  marital status_Husband  \\\n6317                        0                       1   \n740                         1                       0   \n3781                        1                       0   \n7850                        0                       1   \n2963                        1                       0   \n\n      marital status_Never married  marital status_Separated  \\\n6317                             0                         0   \n740                              0                         0   \n3781                             0                         0   \n7850                             0                         0   \n2963                             0                         0   \n\n      marital status_Widowed  marital status_Wife  ...  \\\n6317                       0                    0  ...   \n740                        0                    0  ...   \n3781                       0                    0  ...   \n7850                       0                    0  ...   \n2963                       0                    0  ...   \n\n      occupation_Protective Services  occupation_Repair/Maintenance  \\\n6317                               0                              0   \n740                                0                              0   \n3781                               0                              0   \n7850                               0                              0   \n2963                               0                              0   \n\n      occupation_Sales  occupation_Science, Engineering, Technology  \\\n6317                 0                                            0   \n740                  1                                            0   \n3781                 0                                            0   \n7850                 0                                            0   \n2963                 0                                            0   \n\n      occupation_Service/Hospitality  occupation_Transport  \\\n6317                               0                     0   \n740                                0                     0   \n3781                               0                     0   \n7850                               0                     0   \n2963                               0                     0   \n\n      workclass_governmental  workclass_no paid work  workclass_private  \\\n6317                       0                       0                  1   \n740                        0                       0                  0   \n3781                       0                       0                  1   \n7850                       0                       0                  1   \n2963                       1                       0                  0   \n\n      workclass_self employed  \n6317                        0  \n740                         1  \n3781                        0  \n7850                        0  \n2963                        0  \n\n[5 rows x 36 columns]",
      "text/html": "<div>\n<style scoped>\n    .dataframe tbody tr th:only-of-type {\n        vertical-align: middle;\n    }\n\n    .dataframe tbody tr th {\n        vertical-align: top;\n    }\n\n    .dataframe thead th {\n        text-align: right;\n    }\n</style>\n<table border=\"1\" class=\"dataframe\">\n  <thead>\n    <tr style=\"text-align: right;\">\n      <th></th>\n      <th>age</th>\n      <th>education</th>\n      <th>workinghours</th>\n      <th>ability to speak english</th>\n      <th>marital status_Divorced</th>\n      <th>marital status_Husband</th>\n      <th>marital status_Never married</th>\n      <th>marital status_Separated</th>\n      <th>marital status_Widowed</th>\n      <th>marital status_Wife</th>\n      <th>...</th>\n      <th>occupation_Protective Services</th>\n      <th>occupation_Repair/Maintenance</th>\n      <th>occupation_Sales</th>\n      <th>occupation_Science, Engineering, Technology</th>\n      <th>occupation_Service/Hospitality</th>\n      <th>occupation_Transport</th>\n      <th>workclass_governmental</th>\n      <th>workclass_no paid work</th>\n      <th>workclass_private</th>\n      <th>workclass_self employed</th>\n    </tr>\n  </thead>\n  <tbody>\n    <tr>\n      <th>6317</th>\n      <td>22</td>\n      <td>16</td>\n      <td>36</td>\n      <td>0</td>\n      <td>0</td>\n      <td>1</td>\n      <td>0</td>\n      <td>0</td>\n      <td>0</td>\n      <td>0</td>\n      <td>...</td>\n      <td>0</td>\n      <td>0</td>\n      <td>0</td>\n      <td>0</td>\n      <td>0</td>\n      <td>0</td>\n      <td>0</td>\n      <td>0</td>\n      <td>1</td>\n      <td>0</td>\n    </tr>\n    <tr>\n      <th>740</th>\n      <td>61</td>\n      <td>22</td>\n      <td>40</td>\n      <td>1</td>\n      <td>1</td>\n      <td>0</td>\n      <td>0</td>\n      <td>0</td>\n      <td>0</td>\n      <td>0</td>\n      <td>...</td>\n      <td>0</td>\n      <td>0</td>\n      <td>1</td>\n      <td>0</td>\n      <td>0</td>\n      <td>0</td>\n      <td>0</td>\n      <td>0</td>\n      <td>0</td>\n      <td>1</td>\n    </tr>\n    <tr>\n      <th>3781</th>\n      <td>48</td>\n      <td>16</td>\n      <td>40</td>\n      <td>0</td>\n      <td>1</td>\n      <td>0</td>\n      <td>0</td>\n      <td>0</td>\n      <td>0</td>\n      <td>0</td>\n      <td>...</td>\n      <td>0</td>\n      <td>0</td>\n      <td>0</td>\n      <td>0</td>\n      <td>0</td>\n      <td>0</td>\n      <td>0</td>\n      <td>0</td>\n      <td>1</td>\n      <td>0</td>\n    </tr>\n    <tr>\n      <th>7850</th>\n      <td>62</td>\n      <td>18</td>\n      <td>65</td>\n      <td>0</td>\n      <td>0</td>\n      <td>1</td>\n      <td>0</td>\n      <td>0</td>\n      <td>0</td>\n      <td>0</td>\n      <td>...</td>\n      <td>0</td>\n      <td>0</td>\n      <td>0</td>\n      <td>0</td>\n      <td>0</td>\n      <td>0</td>\n      <td>0</td>\n      <td>0</td>\n      <td>1</td>\n      <td>0</td>\n    </tr>\n    <tr>\n      <th>2963</th>\n      <td>53</td>\n      <td>19</td>\n      <td>44</td>\n      <td>0</td>\n      <td>1</td>\n      <td>0</td>\n      <td>0</td>\n      <td>0</td>\n      <td>0</td>\n      <td>0</td>\n      <td>...</td>\n      <td>0</td>\n      <td>0</td>\n      <td>0</td>\n      <td>0</td>\n      <td>0</td>\n      <td>0</td>\n      <td>1</td>\n      <td>0</td>\n      <td>0</td>\n      <td>0</td>\n    </tr>\n  </tbody>\n</table>\n<p>5 rows × 36 columns</p>\n</div>"
     },
     "execution_count": 4,
     "metadata": {},
     "output_type": "execute_result"
    }
   ],
   "source": [
    "X_train.head()"
   ],
   "metadata": {
    "collapsed": false,
    "ExecuteTime": {
     "end_time": "2024-05-02T02:45:01.022056900Z",
     "start_time": "2024-05-02T02:45:00.896853900Z"
    }
   },
   "id": "32090237fac6568d",
   "execution_count": 4
  },
  {
   "cell_type": "markdown",
   "source": [
    "### Model\n",
    "\n",
    "Here, we quickly train and evaluate a KNN model with random parameters for demonstration."
   ],
   "metadata": {
    "collapsed": false
   },
   "id": "bfc5f29026270e84"
  },
  {
   "cell_type": "code",
   "outputs": [
    {
     "name": "stdout",
     "output_type": "stream",
     "text": [
      "              precision    recall  f1-score   support\n",
      "\n",
      "           0       0.80      0.80      0.80      1175\n",
      "           1       0.62      0.62      0.62       625\n",
      "\n",
      "    accuracy                           0.73      1800\n",
      "   macro avg       0.71      0.71      0.71      1800\n",
      "weighted avg       0.74      0.73      0.74      1800\n",
      "\n",
      "K-Nearest Neighbors Accuracy: 0.735\n"
     ]
    }
   ],
   "source": [
    "# K-Nearest Neighbors model\n",
    "knn_model = KNeighborsClassifier(n_neighbors=5, metric='minkowski', p=2)\n",
    "knn_model.fit(X_train, y_train)\n",
    "knn_preds = knn_model.predict(X_test)\n",
    "knn_accuracy = accuracy_score(y_test, knn_preds)\n",
    "\n",
    "print(classification_report(y_test, knn_preds))\n",
    "print(\"K-Nearest Neighbors Accuracy:\", knn_accuracy)"
   ],
   "metadata": {
    "collapsed": false,
    "ExecuteTime": {
     "end_time": "2024-05-02T02:47:26.203290200Z",
     "start_time": "2024-05-02T02:45:00.971192800Z"
    }
   },
   "id": "7e89004d3b62eb17",
   "execution_count": 5
  },
  {
   "cell_type": "markdown",
   "source": [
    "### Feature Importance using the model itself"
   ],
   "metadata": {
    "collapsed": false
   },
   "id": "edf60206d423aab1"
  },
  {
   "cell_type": "code",
   "outputs": [
    {
     "name": "stdout",
     "output_type": "stream",
     "text": [
      "Selected features:\n",
      "Feature 1: education\n",
      "Feature 2: workinghours\n",
      "Feature 3: ability to speak english\n",
      "Feature 4: marital status_Divorced\n",
      "Feature 5: marital status_Husband\n",
      "Feature 6: marital status_Never married\n",
      "Feature 7: marital status_Separated\n",
      "Feature 8: marital status_Widowed\n",
      "Feature 9: marital status_Wife\n",
      "Feature 10: gave birth this year_Yes\n",
      "Feature 11: sex_Male\n",
      "Feature 12: occupation_Construction/Extraction\n",
      "Feature 13: occupation_Counseling/Mental Health Services\n",
      "Feature 14: occupation_Education\n",
      "Feature 15: occupation_Entertainment\n",
      "Feature 16: occupation_Farming, Fishing, Forestry\n",
      "Feature 17: occupation_Finance/Accounting\n",
      "Feature 18: occupation_Legal Services\n",
      "Feature 19: occupation_Management/Business\n",
      "Feature 20: occupation_Military Services\n",
      "Feature 21: occupation_Office/Administrative Support\n",
      "Feature 22: occupation_Production/Assembly\n",
      "Feature 23: occupation_Protective Services\n",
      "Feature 24: occupation_Repair/Maintenance\n",
      "Feature 25: occupation_Sales\n",
      "Feature 26: occupation_Science, Engineering, Technology\n",
      "Feature 27: occupation_Service/Hospitality\n",
      "Feature 28: occupation_Transport\n",
      "Feature 29: workclass_governmental\n",
      "Feature 30: workclass_no paid work\n",
      "Feature 31: workclass_private\n",
      "Feature 32: workclass_self employed\n"
     ]
    }
   ],
   "source": [
    "seq_feat_selection(KNeighborsClassifier(), X_train, y_train)"
   ],
   "metadata": {
    "collapsed": false,
    "ExecuteTime": {
     "end_time": "2024-05-02T02:50:24.167373700Z",
     "start_time": "2024-05-02T02:45:01.743392Z"
    }
   },
   "id": "c0c47f5934a16da",
   "execution_count": 6
  },
  {
   "cell_type": "markdown",
   "source": [
    "### Hyperparameter tuning"
   ],
   "metadata": {
    "collapsed": false
   },
   "id": "1951416f12714f18"
  },
  {
   "cell_type": "markdown",
   "source": [
    "Here, we define the base parameter grid for our hyperparameter tuning function."
   ],
   "metadata": {
    "collapsed": false
   },
   "id": "30ed8892bbf4a434"
  },
  {
   "cell_type": "code",
   "outputs": [],
   "source": [
    "param_grid = {\n",
    "        'n_neighbors': np.arange(2, 31, 1),\n",
    "        'weights': ['uniform', 'distance'],\n",
    "        'p': [1, 2]\n",
    "    }"
   ],
   "metadata": {
    "collapsed": false,
    "ExecuteTime": {
     "end_time": "2024-05-02T02:50:24.184329400Z",
     "start_time": "2024-05-02T02:50:19.183414400Z"
    }
   },
   "id": "ade690f102ffb74b",
   "execution_count": 7
  },
  {
   "cell_type": "markdown",
   "source": [
    "Below, we tune the hyperparameters of the KNN model using the defined parameter grid and using all features."
   ],
   "metadata": {
    "collapsed": false
   },
   "id": "dfbd1effd8fb2744"
  },
  {
   "cell_type": "code",
   "outputs": [
    {
     "name": "stdout",
     "output_type": "stream",
     "text": [
      "Fitting 5 folds for each of 116 candidates, totalling 580 fits\n",
      "Best Hyperparameters: {'n_neighbors': 22, 'p': 1, 'weights': 'uniform'}\n",
      "Best Model: KNeighborsClassifier(n_neighbors=22, p=1)\n",
      "Best Model Accuracy: 0.7605555555555555\n",
      "              precision    recall  f1-score   support\n",
      "\n",
      "           0       0.80      0.84      0.82      1175\n",
      "           1       0.67      0.61      0.64       625\n",
      "\n",
      "    accuracy                           0.76      1800\n",
      "   macro avg       0.74      0.73      0.73      1800\n",
      "weighted avg       0.76      0.76      0.76      1800\n",
      "Fairness Metrics:\n",
      "Male FPR: 0.22849083215796898\n",
      "Male TPR: 0.6933867735470942\n",
      "Female FPR: 0.060085836909871244\n",
      "Female TPR: 0.30158730158730157\n",
      "\n",
      "Disparate Impact (DI): 0.265\n",
      "Discrimination Score (DS): -0.309\n",
      "Equal Opportunity Difference (EO): 0.392\n",
      "Equalized Odds (EOdds): 0.168\n"
     ]
    }
   ],
   "source": [
    "best_params, best_model, best_accuracy = tune_model(KNeighborsClassifier(), X_encoded, X_train, y_train, X_test, y_test, param_grid)\n",
    "\n",
    "print(\"Best Hyperparameters:\", best_params)\n",
    "print(\"Best Model:\", best_model)\n",
    "print(\"Best Model Accuracy:\", best_accuracy)\n",
    "\n",
    "knn_preds = best_model.predict(X_test)\n",
    "print(classification_report(y_test, knn_preds))\n",
    "\n",
    "print_male_female_metrics(best_model, X, X_male, X_female, X_test, y_test)\n",
    "save_model(best_model, '../output/saved_models/knn_model_sexincl_noffs_tuned_unfair.joblib')"
   ],
   "metadata": {
    "collapsed": false,
    "ExecuteTime": {
     "end_time": "2024-05-02T02:53:40.510329100Z",
     "start_time": "2024-05-02T02:50:19.191414400Z"
    }
   },
   "id": "c7365ea88fe88b3a",
   "execution_count": 8
  },
  {
   "cell_type": "markdown",
   "source": [
    "Now the same but with fairness constraints."
   ],
   "metadata": {
    "collapsed": false
   },
   "id": "8719a4139cd4dbf6"
  },
  {
   "cell_type": "code",
   "outputs": [
    {
     "name": "stdout",
     "output_type": "stream",
     "text": [
      "Fitting 5 folds for each of 116 candidates, totalling 580 fits\n",
      "Best Hyperparameters: {'n_neighbors': 30, 'p': 2, 'weights': 'uniform'}\n",
      "Best Model: KNeighborsClassifier(n_neighbors=30)\n",
      "Best Model Accuracy: 0.7538888888888889\n",
      "              precision    recall  f1-score   support\n",
      "\n",
      "           0       0.79      0.84      0.82      1175\n",
      "           1       0.66      0.59      0.62       625\n",
      "\n",
      "    accuracy                           0.75      1800\n",
      "   macro avg       0.73      0.72      0.72      1800\n",
      "weighted avg       0.75      0.75      0.75      1800\n",
      "Fairness Metrics:\n",
      "Male FPR: 0.2073342736248237\n",
      "Male TPR: 0.6452905811623246\n",
      "Female FPR: 0.08583690987124463\n",
      "Female TPR: 0.373015873015873\n",
      "\n",
      "Disparate Impact (DI): 0.379\n",
      "Discrimination Score (DS): -0.241\n",
      "Equal Opportunity Difference (EO): 0.272\n",
      "Equalized Odds (EOdds): 0.121\n"
     ]
    }
   ],
   "source": [
    "best_params, best_model, best_composite_metric = tune_model(KNeighborsClassifier(), X_encoded, X_train, y_train, X_test, y_test, param_grid, ensure_fairness=True)\n",
    "\n",
    "print(\"Best Hyperparameters:\", best_params)\n",
    "print(\"Best Model:\", best_model)\n",
    "print(\"Best Model Accuracy:\", best_composite_metric)\n",
    "\n",
    "knn_preds = best_model.predict(X_test)\n",
    "print(classification_report(y_test, knn_preds))\n",
    "\n",
    "print_male_female_metrics(best_model, X, X_male, X_female, X_test, y_test)\n",
    "save_model(best_model, '../output/saved_models/knn_model_sexincl_noffs_tuned_fair.joblib')"
   ],
   "metadata": {
    "collapsed": false,
    "ExecuteTime": {
     "end_time": "2024-05-02T02:57:07.355129Z",
     "start_time": "2024-05-02T02:53:40.511326600Z"
    }
   },
   "id": "38f9828092b9f729",
   "execution_count": 9
  },
  {
   "cell_type": "markdown",
   "source": [
    "As we can see in the general case, the second model scores considerably better in terms of fairness metrics, while the accuracy is slightly lower."
   ],
   "metadata": {
    "collapsed": false
   },
   "id": "e7d630412d2bfbee"
  },
  {
   "cell_type": "markdown",
   "source": [
    "Below, we tune the hyperparameters of the KNN model using the defined parameter grid and using a **subset of features**. We exclude the columns 'age', 'ability to speak english', and 'workclass'."
   ],
   "metadata": {
    "collapsed": false
   },
   "id": "cf25caeb313e2bd5"
  },
  {
   "cell_type": "code",
   "outputs": [
    {
     "name": "stdout",
     "output_type": "stream",
     "text": [
      "Fitting 5 folds for each of 116 candidates, totalling 580 fits\n",
      "\n",
      "Best Hyperparameters: {'n_neighbors': 27, 'p': 1, 'weights': 'uniform'}\n",
      "Best Model: KNeighborsClassifier(n_neighbors=27, p=1)\n",
      "Best Model Accuracy: 0.7738888888888888\n",
      "Fairness Metrics:\n",
      "Male FPR: 0.20451339915373765\n",
      "Male TPR: 0.6933867735470942\n",
      "Female FPR: 0.07939914163090128\n",
      "Female TPR: 0.42857142857142855\n",
      "\n",
      "Disparate Impact (DI): 0.378\n",
      "Discrimination Score (DS): -0.253\n",
      "Equal Opportunity Difference (EO): 0.265\n",
      "Equalized Odds (EOdds): 0.125\n"
     ]
    }
   ],
   "source": [
    "# Splitting the data into features (X) and target (y)\n",
    "X_, y_ = get_features_and_target(data, 'income')\n",
    "columns_to_exclude = ['age', 'ability to speak english', 'workclass']\n",
    "X_ = X_.drop(columns=columns_to_exclude)\n",
    "# Encoding the features and target, and excluding some columns\n",
    "X_encoded_, y_encoded_ = encode_all_features(X_, y_, columns_to_exclude)\n",
    "X_train_, X_test_, y_train_, y_test_ = train_test_split(X_encoded_, y_encoded_, test_size=0.2, random_state=42)\n",
    "\n",
    "best_params, best_model, best_accuracy = tune_model(KNeighborsClassifier(), X_encoded, X_train_, y_train_, X_test_, y_test_, param_grid)\n",
    "\n",
    "print(\"\\nBest Hyperparameters:\", best_params)\n",
    "print(\"Best Model:\", best_model)\n",
    "print(\"Best Model Accuracy:\", best_accuracy)\n",
    "\n",
    "print_male_female_metrics(best_model, X, X_male, X_female, X_test_, y_test_)\n",
    "save_model(best_model, '../output/saved_models/knn_model_sexincl_noffs_tuned_unfair_aawexcl.joblib')"
   ],
   "metadata": {
    "collapsed": false,
    "ExecuteTime": {
     "end_time": "2024-05-02T02:59:48.046784800Z",
     "start_time": "2024-05-02T02:57:07.358120800Z"
    }
   },
   "id": "ab3c4b22bbcf01e1",
   "execution_count": 10
  },
  {
   "cell_type": "markdown",
   "source": [
    "Now the same but with fairness constraints."
   ],
   "metadata": {
    "collapsed": false
   },
   "id": "2129f372717751c9"
  },
  {
   "cell_type": "code",
   "outputs": [
    {
     "name": "stdout",
     "output_type": "stream",
     "text": [
      "Fitting 5 folds for each of 116 candidates, totalling 580 fits\n",
      "\n",
      "Best Hyperparameters: {'n_neighbors': 26, 'p': 2, 'weights': 'uniform'}\n",
      "Best Model: KNeighborsClassifier(n_neighbors=26)\n",
      "Best Model Accuracy: 0.7727777777777778\n",
      "Fairness Metrics:\n",
      "Male FPR: 0.18758815232722145\n",
      "Male TPR: 0.6633266533066132\n",
      "Female FPR: 0.07510729613733906\n",
      "Female TPR: 0.42063492063492064\n",
      "\n",
      "Disparate Impact (DI): 0.387\n",
      "Discrimination Score (DS): -0.235\n",
      "Equal Opportunity Difference (EO): 0.243\n",
      "Equalized Odds (EOdds): 0.112\n"
     ]
    }
   ],
   "source": [
    "# Splitting the data into features (X) and target (y)\n",
    "X_, y_ = get_features_and_target(data, 'income')\n",
    "columns_to_exclude = ['age', 'ability to speak english', 'workclass']\n",
    "X_ = X_.drop(columns=columns_to_exclude)\n",
    "# Encoding the features and target, and excluding some columns\n",
    "X_encoded_, y_encoded_ = encode_all_features(X_, y_, columns_to_exclude)\n",
    "X_train_, X_test_, y_train_, y_test_ = train_test_split(X_encoded_, y_encoded_, test_size=0.2, random_state=42)\n",
    "\n",
    "best_params, best_model, best_accuracy = tune_model(KNeighborsClassifier(), X_encoded, X_train_, y_train_, X_test_, y_test_, param_grid, ensure_fairness=True)\n",
    "\n",
    "print(\"\\nBest Hyperparameters:\", best_params)\n",
    "print(\"Best Model:\", best_model)\n",
    "print(\"Best Model Accuracy:\", best_accuracy)\n",
    "\n",
    "print_male_female_metrics(best_model, X, X_male, X_female, X_test_, y_test_)\n",
    "save_model(best_model, '../output/saved_models/knn_model_sexincl_noffs_tuned_fair_aawexcl.joblib')"
   ],
   "metadata": {
    "collapsed": false,
    "ExecuteTime": {
     "end_time": "2024-05-02T03:02:58.884304600Z",
     "start_time": "2024-05-02T02:59:48.047782100Z"
    }
   },
   "id": "409934957b6e2a71",
   "execution_count": 11
  },
  {
   "cell_type": "markdown",
   "source": [
    "#### Forward Feature Selection with Hyperparameter Tuning"
   ],
   "metadata": {
    "collapsed": false
   },
   "id": "24352fa45556baa"
  },
  {
   "cell_type": "markdown",
   "source": [
    "Because hyperparameter tuning results can vary depending on the chosen subset of features, we will use forward feature selection with hyperparameter tuning to find the best subset of features and hyperparameters for the model."
   ],
   "metadata": {
    "collapsed": false
   },
   "id": "5e95cbc5e9b09606"
  },
  {
   "cell_type": "code",
   "outputs": [
    {
     "name": "stdout",
     "output_type": "stream",
     "text": [
      "Fitting 5 folds for each of 116 candidates, totalling 580 fits\n",
      "Fitting 5 folds for each of 116 candidates, totalling 580 fits\n",
      "Fitting 5 folds for each of 116 candidates, totalling 580 fits\n",
      "Fitting 5 folds for each of 116 candidates, totalling 580 fits\n",
      "Fitting 5 folds for each of 116 candidates, totalling 580 fits\n",
      "Fitting 5 folds for each of 116 candidates, totalling 580 fits\n",
      "Fitting 5 folds for each of 116 candidates, totalling 580 fits\n",
      "Fitting 5 folds for each of 116 candidates, totalling 580 fits\n",
      "Fitting 5 folds for each of 116 candidates, totalling 580 fits\n",
      "Best subset: ['education']\n",
      "Remaining features: [['age'], ['workinghours'], ['ability to speak english'], ['workclass_governmental', 'workclass_no paid work', 'workclass_private', 'workclass_self employed'], ['marital status_Divorced', 'marital status_Husband', 'marital status_Never married', 'marital status_Separated', 'marital status_Widowed', 'marital status_Wife'], ['occupation_Construction/Extraction', 'occupation_Counseling/Mental Health Services', 'occupation_Education', 'occupation_Entertainment', 'occupation_Farming, Fishing, Forestry', 'occupation_Finance/Accounting', 'occupation_Healthcare/Medical Services', 'occupation_Legal Services', 'occupation_Management/Business', 'occupation_Military Services', 'occupation_Office/Administrative Support', 'occupation_Production/Assembly', 'occupation_Protective Services', 'occupation_Repair/Maintenance', 'occupation_Sales', 'occupation_Science, Engineering, Technology', 'occupation_Service/Hospitality', 'occupation_Transport'], ['sex_Female', 'sex_Male'], ['gave birth this year_No', 'gave birth this year_Yes']]\n",
      "Fitting 5 folds for each of 116 candidates, totalling 580 fits\n",
      "Fitting 5 folds for each of 116 candidates, totalling 580 fits\n",
      "Fitting 5 folds for each of 116 candidates, totalling 580 fits\n",
      "Fitting 5 folds for each of 116 candidates, totalling 580 fits\n",
      "Fitting 5 folds for each of 116 candidates, totalling 580 fits\n",
      "Fitting 5 folds for each of 116 candidates, totalling 580 fits\n",
      "Fitting 5 folds for each of 116 candidates, totalling 580 fits\n",
      "Fitting 5 folds for each of 116 candidates, totalling 580 fits\n",
      "Best subset: ['education', 'marital status_Divorced', 'marital status_Husband', 'marital status_Never married', 'marital status_Separated', 'marital status_Widowed', 'marital status_Wife']\n",
      "Remaining features: [['age'], ['workinghours'], ['ability to speak english'], ['workclass_governmental', 'workclass_no paid work', 'workclass_private', 'workclass_self employed'], ['occupation_Construction/Extraction', 'occupation_Counseling/Mental Health Services', 'occupation_Education', 'occupation_Entertainment', 'occupation_Farming, Fishing, Forestry', 'occupation_Finance/Accounting', 'occupation_Healthcare/Medical Services', 'occupation_Legal Services', 'occupation_Management/Business', 'occupation_Military Services', 'occupation_Office/Administrative Support', 'occupation_Production/Assembly', 'occupation_Protective Services', 'occupation_Repair/Maintenance', 'occupation_Sales', 'occupation_Science, Engineering, Technology', 'occupation_Service/Hospitality', 'occupation_Transport'], ['sex_Female', 'sex_Male'], ['gave birth this year_No', 'gave birth this year_Yes']]\n",
      "Fitting 5 folds for each of 116 candidates, totalling 580 fits\n",
      "Fitting 5 folds for each of 116 candidates, totalling 580 fits\n",
      "Fitting 5 folds for each of 116 candidates, totalling 580 fits\n",
      "Fitting 5 folds for each of 116 candidates, totalling 580 fits\n",
      "Fitting 5 folds for each of 116 candidates, totalling 580 fits\n"
     ]
    },
    {
     "name": "stderr",
     "output_type": "stream",
     "text": [
      "\n",
      "KeyboardInterrupt\n",
      "\n"
     ]
    }
   ],
   "source": [
    "# Forward feature selection with hyperparameter tuning\n",
    "best_subset, best_params, best_score = forward_feat_selection_hypertuning(KNeighborsClassifier(), param_grid, X_encoded, X_train, y_train, X_test, y_test)\n",
    "\n",
    "print(\"Best subset of features:\", best_subset)\n",
    "print(\"Best hyperparameters:\", best_params)\n",
    "print(\"Best model accuracy:\", best_score)\n",
    "\n",
    "# Use the best subset and best hyperparameters for final model\n",
    "final_model = KNeighborsClassifier(**best_params)\n",
    "final_model.fit(X_train[best_subset], y_train)\n",
    "final_model_preds = final_model.predict(X_test[best_subset])\n",
    "final_model_accuracy = accuracy_score(y_test, final_model_preds)\n",
    "\n",
    "print(classification_report(y_test, final_model_preds))\n",
    "\n",
    "print_male_female_metrics(final_model, X, X_male, X_female, X_test[best_subset], y_test)\n",
    "save_model(final_model, '../output/saved_models/knn_model_sexincl_ffs_tuned_unfair.joblib')"
   ],
   "metadata": {
    "collapsed": false,
    "ExecuteTime": {
     "end_time": "2024-05-02T03:24:52.739832100Z",
     "start_time": "2024-05-02T03:02:58.884304600Z"
    }
   },
   "id": "ef0a2ac8b804d296",
   "execution_count": 12
  },
  {
   "cell_type": "markdown",
   "source": [
    "Now the same but with fairness constraints."
   ],
   "metadata": {
    "collapsed": false
   },
   "id": "e4056b48b8e6d0b2"
  },
  {
   "cell_type": "code",
   "outputs": [],
   "source": [
    "# Forward feature selection with hyperparameter tuning\n",
    "best_subset, best_params, best_score = forward_feat_selection_hypertuning(KNeighborsClassifier(), param_grid, X_encoded, X_train, y_train, X_test, y_test, ensure_fairness=True)\n",
    "\n",
    "print(\"Best subset of features:\", best_subset)\n",
    "print(\"Best hyperparameters:\", best_params)\n",
    "print(\"Best model accuracy:\", best_score)\n",
    "\n",
    "# Use the best subset and best hyperparameters for final model\n",
    "final_model = KNeighborsClassifier(**best_params)\n",
    "final_model.fit(X_train[best_subset], y_train)\n",
    "final_model_preds = final_model.predict(X_test[best_subset])\n",
    "final_model_accuracy = accuracy_score(y_test, final_model_preds)\n",
    "\n",
    "print(classification_report(y_test, final_model_preds))\n",
    "\n",
    "print_male_female_metrics(final_model, X, X_male, X_female, X_test[best_subset], y_test)\n",
    "save_model(final_model, '../output/saved_models/knn_model_sexincl_ffs_tuned_fair.joblib')"
   ],
   "metadata": {
    "collapsed": false,
    "ExecuteTime": {
     "start_time": "2024-05-02T03:24:52.735842300Z"
    }
   },
   "id": "f81cb390cc2618c"
  },
  {
   "cell_type": "markdown",
   "source": [
    "#### Removing sex-related columns"
   ],
   "metadata": {
    "collapsed": false
   },
   "id": "a965654811ad9b49"
  },
  {
   "cell_type": "markdown",
   "source": [
    "Below we do Forward feature selection with hyperparameter tuning, but we exclude all sex-related columns."
   ],
   "metadata": {
    "collapsed": false
   },
   "id": "626ce067b5c3a9b0"
  },
  {
   "cell_type": "code",
   "outputs": [],
   "source": [
    "# Forward feature selection with hyperparameter tuning\n",
    "columns_to_exclude = ['sex', 'gave birth this year', 'marital status']\n",
    "X_train_, X_test_, y_train_, y_test_, X_male, X_female = get_train_test_with_excluded_columns(data, columns_to_exclude)\n",
    "\n",
    "best_subset, best_params, best_score = forward_feat_selection_hypertuning(KNeighborsClassifier(), param_grid, X_encoded, X_train_, y_train_, X_test_, y_test_)\n",
    "\n",
    "print(\"Best subset of features:\", best_subset)\n",
    "print(\"Best hyperparameters:\", best_params)\n",
    "print(\"Best model accuracy:\", best_score)\n",
    "\n",
    "# Use the best subset and best hyperparameters for final model\n",
    "final_model_sexexcl_ffs = KNeighborsClassifier(**best_params)\n",
    "final_model_sexexcl_ffs.fit(X_train_[best_subset], y_train_)\n",
    "final_model_preds = final_model_sexexcl_ffs.predict(X_test_[best_subset])\n",
    "final_model_accuracy = accuracy_score(y_test_, final_model_preds)\n",
    "\n",
    "print(classification_report(y_test, final_model_preds))\n",
    "\n",
    "print_male_female_metrics(final_model_sexexcl_ffs, X, X_male, X_female, X_test_[best_subset], y_test_)\n",
    "save_model(final_model_sexexcl_ffs, '../output/saved_models/knn_model_sexexcl_ffs_tuned_unfair_.joblib')"
   ],
   "metadata": {
    "collapsed": false,
    "ExecuteTime": {
     "start_time": "2024-05-02T03:24:52.738834600Z"
    }
   },
   "id": "cc089667a4f851e3",
   "execution_count": null
  },
  {
   "cell_type": "markdown",
   "source": [
    "Now the same but with fairness constraints."
   ],
   "metadata": {
    "collapsed": false
   },
   "id": "3c1eada2675454fd"
  },
  {
   "cell_type": "code",
   "outputs": [],
   "source": [
    "# Forward feature selection with hyperparameter tuning\n",
    "columns_to_exclude = ['sex', 'gave birth this year', 'marital status']\n",
    "X_train_, X_test_, y_train_, y_test_, X_male, X_female = get_train_test_with_excluded_columns(data, columns_to_exclude)\n",
    "\n",
    "best_subset, best_params, best_score = forward_feat_selection_hypertuning(KNeighborsClassifier(), param_grid, X_encoded, X_train_, y_train_, X_test_, y_test_, ensure_fairness=True)\n",
    "\n",
    "print(\"Best subset of features:\", best_subset)\n",
    "print(\"Best hyperparameters:\", best_params)\n",
    "print(\"Best model accuracy:\", best_score)\n",
    "\n",
    "# Use the best subset and best hyperparameters for final model\n",
    "final_model_sexexcl_ffs = KNeighborsClassifier(**best_params)\n",
    "final_model_sexexcl_ffs.fit(X_train_[best_subset], y_train_)\n",
    "final_model_preds = final_model_sexexcl_ffs.predict(X_test_[best_subset])\n",
    "final_model_accuracy = accuracy_score(y_test_, final_model_preds)\n",
    "\n",
    "print(classification_report(y_test, final_model_preds))\n",
    "\n",
    "print_male_female_metrics(final_model_sexexcl_ffs, X, X_male, X_female, X_test_[best_subset], y_test_)\n",
    "save_model(final_model_sexexcl_ffs, '../output/saved_models/knn_model_sexexcl_ffs_tuned_fair_.joblib')"
   ],
   "metadata": {
    "collapsed": false
   },
   "id": "68cffd4453f57bf1"
  },
  {
   "cell_type": "markdown",
   "source": [
    "This is the end of the KNN model training and evaluation."
   ],
   "metadata": {
    "collapsed": false
   },
   "id": "5d857291adb7ca0f"
  },
  {
   "cell_type": "markdown",
   "source": [
    "Some fun plot:"
   ],
   "metadata": {
    "collapsed": false
   },
   "id": "98ad789ed4605714"
  },
  {
   "cell_type": "code",
   "outputs": [],
   "source": [
    "# Define the scorers\n",
    "scoring = {\"AUC\": \"roc_auc\", \"Accuracy\": make_scorer(accuracy_score)}\n",
    "\n",
    "n_neighbours_param_min = 2\n",
    "n_neighbours_param_max = 31\n",
    "param_grid = {\"n_neighbors\": range(n_neighbours_param_min, n_neighbours_param_max, 1)}\n",
    "\n",
    "results = multi_metric_cv(KNeighborsClassifier(p=2), scoring, X_train, y_train, param_grid)\n",
    "plot_multi_score_cv_results(\"n_neighbors\", n_neighbours_param_min, n_neighbours_param_max, 0.7, 1, results, \"param_n_neighbors\", int, scoring)\n",
    "\n",
    "results = multi_metric_cv(KNeighborsClassifier(p=1), scoring, X_train, y_train, param_grid)\n",
    "plot_multi_score_cv_results(\"n_neighbors\", n_neighbours_param_min, n_neighbours_param_max, 0.7, 1, results, \"param_n_neighbors\", int, scoring)"
   ],
   "metadata": {
    "collapsed": false,
    "ExecuteTime": {
     "start_time": "2024-05-02T03:24:52.743821400Z"
    }
   },
   "id": "4a3cbc8d13122075",
   "execution_count": null
  },
  {
   "cell_type": "markdown",
   "source": [
    "Feature Selection: Ensure that sensitive attributes such as sex are not included as features in the model. This helps prevent the model from directly learning discriminatory patterns based on sensitive attributes."
   ],
   "metadata": {
    "collapsed": false
   },
   "id": "ca92285d6580a173"
  },
  {
   "cell_type": "markdown",
   "source": [
    "Fair Representation: Balance the representation of different groups within the dataset. Ensure that the dataset is representative of the population with respect to sex and other sensitive attributes. This can help mitigate bias in the model's predictions."
   ],
   "metadata": {
    "collapsed": false
   },
   "id": "629aa7c9a8929a30"
  },
  {
   "cell_type": "markdown",
   "source": [
    "Fair Preprocessing: Apply preprocessing techniques that aim to mitigate bias in the dataset. For example, use techniques such as reweighting or resampling to balance the dataset with respect to sensitive attributes.\n",
    "\n",
    "Reweighing:\n",
    "Adjust the weights of instances in your dataset to balance the impact of different groups.\n",
    "Assign higher weights to underrepresented groups (e.g., females) and lower weights to overrepresented groups (e.g., males).\n",
    "This helps reduce bias during model training.\n",
    "Suppression:\n",
    "Remove or suppress the sensitive attribute (‘sex’) from the dataset.\n",
    "Train your model without using this attribute.\n",
    "Note that this approach may lead to information loss, so use it cautiously.\n",
    "Massaging the Dataset:\n",
    "Modify class labels to achieve fairness.\n",
    "For instance, you can swap the labels for different groups (e.g., relabel some ‘male’ instances as ‘female’ and vice versa).\n",
    "This ensures that the model does not learn discriminatory patterns based on the sensitive attribute.\n",
    "Resampling Techniques:\n",
    "Oversample the underrepresented group (e.g., females) or undersample the overrepresented group (e.g., males).\n",
    "This balances the class distribution and reduces bias.\n"
   ],
   "metadata": {
    "collapsed": false
   },
   "id": "b1f7bc109c2e2782"
  },
  {
   "cell_type": "markdown",
   "source": [
    "Model Evaluation: Evaluate the model's performance and fairness across different subgroups defined by sensitive attributes such as sex. Use metrics such as disparate impact ratio, equal opportunity difference, or predictive parity to assess fairness."
   ],
   "metadata": {
    "collapsed": false
   },
   "id": "6a61e1afff765d7f"
  }
 ],
 "metadata": {
  "kernelspec": {
   "display_name": "Python 3",
   "language": "python",
   "name": "python3"
  },
  "language_info": {
   "codemirror_mode": {
    "name": "ipython",
    "version": 2
   },
   "file_extension": ".py",
   "mimetype": "text/x-python",
   "name": "python",
   "nbconvert_exporter": "python",
   "pygments_lexer": "ipython2",
   "version": "2.7.6"
  }
 },
 "nbformat": 4,
 "nbformat_minor": 5
}
