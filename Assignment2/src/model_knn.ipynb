{
 "cells": [
  {
   "cell_type": "code",
   "execution_count": 1,
   "id": "initial_id",
   "metadata": {
    "collapsed": true,
    "ExecuteTime": {
     "end_time": "2024-04-23T01:01:14.390157800Z",
     "start_time": "2024-04-23T01:01:10.287363700Z"
    }
   },
   "outputs": [],
   "source": [
    "from typing import List, Tuple\n",
    "from helper.helper_functions import load_dataset, save_model, get_features_and_target, encode_all_features\n",
    "from helper.clfmodel_functions import tune_model, seq_feat_selection, multi_metric_cv, plot_multi_score_cv_results, forward_feat_selection_hypertuning\n",
    "import pandas as pd\n",
    "import numpy as np\n",
    "import matplotlib.pyplot as plt\n",
    "\n",
    "from sklearn.model_selection import train_test_split\n",
    "from sklearn.metrics import make_scorer, accuracy_score, classification_report\n",
    "from sklearn.model_selection import GridSearchCV, StratifiedKFold\n",
    "from sklearn.neighbors import KNeighborsClassifier\n",
    "from sklearn.feature_selection import SequentialFeatureSelector"
   ]
  },
  {
   "cell_type": "markdown",
   "source": [
    "### Loading the cleaned dataset"
   ],
   "metadata": {
    "collapsed": false
   },
   "id": "ced45577f2a46d2"
  },
  {
   "cell_type": "code",
   "outputs": [],
   "source": [
    "data = load_dataset('../data/assignment2_income_cleaned.xlsx')"
   ],
   "metadata": {
    "collapsed": false,
    "ExecuteTime": {
     "end_time": "2024-04-23T01:01:18.490681900Z",
     "start_time": "2024-04-23T01:01:14.373953600Z"
    }
   },
   "id": "573b15a0c08becd2",
   "execution_count": 2
  },
  {
   "cell_type": "markdown",
   "source": [
    "### Feature Engineering (encoding) & Train-Test Split"
   ],
   "metadata": {
    "collapsed": false
   },
   "id": "98bf0f84f262caa7"
  },
  {
   "cell_type": "code",
   "outputs": [],
   "source": [
    "# Splitting the data into features (X) and target (y)\n",
    "X, y = get_features_and_target(data, 'income')\n",
    "columns_to_exclude = ['age', 'ability to speak english', 'gave birth this year']\n",
    "columns_to_exclude = []\n",
    "# Encoding the features and target, and excluding some columns\n",
    "X_encoded, y_encoded = encode_all_features(X, y, columns_to_exclude)\n",
    "# Splitting the dataset into training and testing sets\n",
    "X_train, X_test, y_train, y_test = train_test_split(X_encoded, y_encoded, test_size=0.2, random_state=42)"
   ],
   "metadata": {
    "collapsed": false,
    "ExecuteTime": {
     "end_time": "2024-04-23T01:01:18.589425900Z",
     "start_time": "2024-04-23T01:01:18.491679600Z"
    }
   },
   "id": "83fc7449a1cf23ea",
   "execution_count": 3
  },
  {
   "cell_type": "code",
   "outputs": [
    {
     "data": {
      "text/plain": "      age  education  workinghours  ability to speak english  \\\n6317   22         16            36                         0   \n740    61         22            40                         1   \n3781   48         16            40                         0   \n7850   62         18            65                         0   \n2963   53         19            44                         0   \n...   ...        ...           ...                       ...   \n5734   22         19            25                         0   \n5191   24         16            28                         0   \n5390   35         16            40                         0   \n860    23         20            40                         0   \n7270   70         19            40                         0   \n\n      marital status_Divorced  marital status_Husband  \\\n6317                      0.0                     1.0   \n740                       1.0                     0.0   \n3781                      1.0                     0.0   \n7850                      0.0                     1.0   \n2963                      1.0                     0.0   \n...                       ...                     ...   \n5734                      0.0                     0.0   \n5191                      0.0                     0.0   \n5390                      0.0                     0.0   \n860                       0.0                     0.0   \n7270                      1.0                     0.0   \n\n      marital status_Never married  marital status_Separated  \\\n6317                           0.0                       0.0   \n740                            0.0                       0.0   \n3781                           0.0                       0.0   \n7850                           0.0                       0.0   \n2963                           0.0                       0.0   \n...                            ...                       ...   \n5734                           1.0                       0.0   \n5191                           1.0                       0.0   \n5390                           1.0                       0.0   \n860                            1.0                       0.0   \n7270                           0.0                       0.0   \n\n      marital status_Widowed  marital status_Wife  ...  \\\n6317                     0.0                  0.0  ...   \n740                      0.0                  0.0  ...   \n3781                     0.0                  0.0  ...   \n7850                     0.0                  0.0  ...   \n2963                     0.0                  0.0  ...   \n...                      ...                  ...  ...   \n5734                     0.0                  0.0  ...   \n5191                     0.0                  0.0  ...   \n5390                     0.0                  0.0  ...   \n860                      0.0                  0.0  ...   \n7270                     0.0                  0.0  ...   \n\n      occupation_Service/Hospitality  occupation_Transport  sex_Female  \\\n6317                             0.0                   0.0         0.0   \n740                              0.0                   0.0         0.0   \n3781                             0.0                   0.0         1.0   \n7850                             0.0                   0.0         0.0   \n2963                             0.0                   0.0         1.0   \n...                              ...                   ...         ...   \n5734                             1.0                   0.0         1.0   \n5191                             0.0                   0.0         1.0   \n5390                             0.0                   0.0         0.0   \n860                              1.0                   0.0         0.0   \n7270                             0.0                   0.0         1.0   \n\n      sex_Male  gave birth this year_No  gave birth this year_Yes  \\\n6317       1.0                      1.0                       0.0   \n740        1.0                      1.0                       0.0   \n3781       0.0                      1.0                       0.0   \n7850       1.0                      1.0                       0.0   \n2963       0.0                      1.0                       0.0   \n...        ...                      ...                       ...   \n5734       0.0                      1.0                       0.0   \n5191       0.0                      1.0                       0.0   \n5390       1.0                      1.0                       0.0   \n860        1.0                      1.0                       0.0   \n7270       0.0                      1.0                       0.0   \n\n      workclass_governmental  workclass_no paid work  workclass_private  \\\n6317                     0.0                     0.0                1.0   \n740                      0.0                     0.0                0.0   \n3781                     0.0                     0.0                1.0   \n7850                     0.0                     0.0                1.0   \n2963                     1.0                     0.0                0.0   \n...                      ...                     ...                ...   \n5734                     0.0                     0.0                1.0   \n5191                     0.0                     0.0                1.0   \n5390                     0.0                     0.0                1.0   \n860                      0.0                     0.0                1.0   \n7270                     0.0                     1.0                0.0   \n\n      workclass_self employed  \n6317                      0.0  \n740                       1.0  \n3781                      0.0  \n7850                      0.0  \n2963                      0.0  \n...                       ...  \n5734                      0.0  \n5191                      0.0  \n5390                      0.0  \n860                       0.0  \n7270                      0.0  \n\n[7200 rows x 36 columns]",
      "text/html": "<div>\n<style scoped>\n    .dataframe tbody tr th:only-of-type {\n        vertical-align: middle;\n    }\n\n    .dataframe tbody tr th {\n        vertical-align: top;\n    }\n\n    .dataframe thead th {\n        text-align: right;\n    }\n</style>\n<table border=\"1\" class=\"dataframe\">\n  <thead>\n    <tr style=\"text-align: right;\">\n      <th></th>\n      <th>age</th>\n      <th>education</th>\n      <th>workinghours</th>\n      <th>ability to speak english</th>\n      <th>marital status_Divorced</th>\n      <th>marital status_Husband</th>\n      <th>marital status_Never married</th>\n      <th>marital status_Separated</th>\n      <th>marital status_Widowed</th>\n      <th>marital status_Wife</th>\n      <th>...</th>\n      <th>occupation_Service/Hospitality</th>\n      <th>occupation_Transport</th>\n      <th>sex_Female</th>\n      <th>sex_Male</th>\n      <th>gave birth this year_No</th>\n      <th>gave birth this year_Yes</th>\n      <th>workclass_governmental</th>\n      <th>workclass_no paid work</th>\n      <th>workclass_private</th>\n      <th>workclass_self employed</th>\n    </tr>\n  </thead>\n  <tbody>\n    <tr>\n      <th>6317</th>\n      <td>22</td>\n      <td>16</td>\n      <td>36</td>\n      <td>0</td>\n      <td>0.0</td>\n      <td>1.0</td>\n      <td>0.0</td>\n      <td>0.0</td>\n      <td>0.0</td>\n      <td>0.0</td>\n      <td>...</td>\n      <td>0.0</td>\n      <td>0.0</td>\n      <td>0.0</td>\n      <td>1.0</td>\n      <td>1.0</td>\n      <td>0.0</td>\n      <td>0.0</td>\n      <td>0.0</td>\n      <td>1.0</td>\n      <td>0.0</td>\n    </tr>\n    <tr>\n      <th>740</th>\n      <td>61</td>\n      <td>22</td>\n      <td>40</td>\n      <td>1</td>\n      <td>1.0</td>\n      <td>0.0</td>\n      <td>0.0</td>\n      <td>0.0</td>\n      <td>0.0</td>\n      <td>0.0</td>\n      <td>...</td>\n      <td>0.0</td>\n      <td>0.0</td>\n      <td>0.0</td>\n      <td>1.0</td>\n      <td>1.0</td>\n      <td>0.0</td>\n      <td>0.0</td>\n      <td>0.0</td>\n      <td>0.0</td>\n      <td>1.0</td>\n    </tr>\n    <tr>\n      <th>3781</th>\n      <td>48</td>\n      <td>16</td>\n      <td>40</td>\n      <td>0</td>\n      <td>1.0</td>\n      <td>0.0</td>\n      <td>0.0</td>\n      <td>0.0</td>\n      <td>0.0</td>\n      <td>0.0</td>\n      <td>...</td>\n      <td>0.0</td>\n      <td>0.0</td>\n      <td>1.0</td>\n      <td>0.0</td>\n      <td>1.0</td>\n      <td>0.0</td>\n      <td>0.0</td>\n      <td>0.0</td>\n      <td>1.0</td>\n      <td>0.0</td>\n    </tr>\n    <tr>\n      <th>7850</th>\n      <td>62</td>\n      <td>18</td>\n      <td>65</td>\n      <td>0</td>\n      <td>0.0</td>\n      <td>1.0</td>\n      <td>0.0</td>\n      <td>0.0</td>\n      <td>0.0</td>\n      <td>0.0</td>\n      <td>...</td>\n      <td>0.0</td>\n      <td>0.0</td>\n      <td>0.0</td>\n      <td>1.0</td>\n      <td>1.0</td>\n      <td>0.0</td>\n      <td>0.0</td>\n      <td>0.0</td>\n      <td>1.0</td>\n      <td>0.0</td>\n    </tr>\n    <tr>\n      <th>2963</th>\n      <td>53</td>\n      <td>19</td>\n      <td>44</td>\n      <td>0</td>\n      <td>1.0</td>\n      <td>0.0</td>\n      <td>0.0</td>\n      <td>0.0</td>\n      <td>0.0</td>\n      <td>0.0</td>\n      <td>...</td>\n      <td>0.0</td>\n      <td>0.0</td>\n      <td>1.0</td>\n      <td>0.0</td>\n      <td>1.0</td>\n      <td>0.0</td>\n      <td>1.0</td>\n      <td>0.0</td>\n      <td>0.0</td>\n      <td>0.0</td>\n    </tr>\n    <tr>\n      <th>...</th>\n      <td>...</td>\n      <td>...</td>\n      <td>...</td>\n      <td>...</td>\n      <td>...</td>\n      <td>...</td>\n      <td>...</td>\n      <td>...</td>\n      <td>...</td>\n      <td>...</td>\n      <td>...</td>\n      <td>...</td>\n      <td>...</td>\n      <td>...</td>\n      <td>...</td>\n      <td>...</td>\n      <td>...</td>\n      <td>...</td>\n      <td>...</td>\n      <td>...</td>\n      <td>...</td>\n    </tr>\n    <tr>\n      <th>5734</th>\n      <td>22</td>\n      <td>19</td>\n      <td>25</td>\n      <td>0</td>\n      <td>0.0</td>\n      <td>0.0</td>\n      <td>1.0</td>\n      <td>0.0</td>\n      <td>0.0</td>\n      <td>0.0</td>\n      <td>...</td>\n      <td>1.0</td>\n      <td>0.0</td>\n      <td>1.0</td>\n      <td>0.0</td>\n      <td>1.0</td>\n      <td>0.0</td>\n      <td>0.0</td>\n      <td>0.0</td>\n      <td>1.0</td>\n      <td>0.0</td>\n    </tr>\n    <tr>\n      <th>5191</th>\n      <td>24</td>\n      <td>16</td>\n      <td>28</td>\n      <td>0</td>\n      <td>0.0</td>\n      <td>0.0</td>\n      <td>1.0</td>\n      <td>0.0</td>\n      <td>0.0</td>\n      <td>0.0</td>\n      <td>...</td>\n      <td>0.0</td>\n      <td>0.0</td>\n      <td>1.0</td>\n      <td>0.0</td>\n      <td>1.0</td>\n      <td>0.0</td>\n      <td>0.0</td>\n      <td>0.0</td>\n      <td>1.0</td>\n      <td>0.0</td>\n    </tr>\n    <tr>\n      <th>5390</th>\n      <td>35</td>\n      <td>16</td>\n      <td>40</td>\n      <td>0</td>\n      <td>0.0</td>\n      <td>0.0</td>\n      <td>1.0</td>\n      <td>0.0</td>\n      <td>0.0</td>\n      <td>0.0</td>\n      <td>...</td>\n      <td>0.0</td>\n      <td>0.0</td>\n      <td>0.0</td>\n      <td>1.0</td>\n      <td>1.0</td>\n      <td>0.0</td>\n      <td>0.0</td>\n      <td>0.0</td>\n      <td>1.0</td>\n      <td>0.0</td>\n    </tr>\n    <tr>\n      <th>860</th>\n      <td>23</td>\n      <td>20</td>\n      <td>40</td>\n      <td>0</td>\n      <td>0.0</td>\n      <td>0.0</td>\n      <td>1.0</td>\n      <td>0.0</td>\n      <td>0.0</td>\n      <td>0.0</td>\n      <td>...</td>\n      <td>1.0</td>\n      <td>0.0</td>\n      <td>0.0</td>\n      <td>1.0</td>\n      <td>1.0</td>\n      <td>0.0</td>\n      <td>0.0</td>\n      <td>0.0</td>\n      <td>1.0</td>\n      <td>0.0</td>\n    </tr>\n    <tr>\n      <th>7270</th>\n      <td>70</td>\n      <td>19</td>\n      <td>40</td>\n      <td>0</td>\n      <td>1.0</td>\n      <td>0.0</td>\n      <td>0.0</td>\n      <td>0.0</td>\n      <td>0.0</td>\n      <td>0.0</td>\n      <td>...</td>\n      <td>0.0</td>\n      <td>0.0</td>\n      <td>1.0</td>\n      <td>0.0</td>\n      <td>1.0</td>\n      <td>0.0</td>\n      <td>0.0</td>\n      <td>1.0</td>\n      <td>0.0</td>\n      <td>0.0</td>\n    </tr>\n  </tbody>\n</table>\n<p>7200 rows × 36 columns</p>\n</div>"
     },
     "execution_count": 4,
     "metadata": {},
     "output_type": "execute_result"
    }
   ],
   "source": [
    "X_train"
   ],
   "metadata": {
    "collapsed": false,
    "ExecuteTime": {
     "end_time": "2024-04-23T01:01:18.657416100Z",
     "start_time": "2024-04-23T01:01:18.591421600Z"
    }
   },
   "id": "32090237fac6568d",
   "execution_count": 4
  },
  {
   "cell_type": "markdown",
   "source": [
    "### Model\n",
    "\n",
    "https://scikit-learn.org/stable/modules/generated/sklearn.neighbors.KNeighborsClassifier.html"
   ],
   "metadata": {
    "collapsed": false
   },
   "id": "bfc5f29026270e84"
  },
  {
   "cell_type": "code",
   "outputs": [
    {
     "name": "stdout",
     "output_type": "stream",
     "text": [
      "              precision    recall  f1-score   support\n",
      "\n",
      "           0       0.80      0.80      0.80      1175\n",
      "           1       0.63      0.62      0.62       625\n",
      "\n",
      "    accuracy                           0.74      1800\n",
      "   macro avg       0.71      0.71      0.71      1800\n",
      "weighted avg       0.74      0.74      0.74      1800\n",
      "\n",
      "K-Nearest Neighbors Accuracy: 0.7394444444444445\n"
     ]
    }
   ],
   "source": [
    "# K-Nearest Neighbors model\n",
    "knn_model = KNeighborsClassifier(n_neighbors=5, metric='minkowski', p=2)\n",
    "knn_model.fit(X_train, y_train)\n",
    "# Predictions\n",
    "knn_preds = knn_model.predict(X_test)\n",
    "# Accuracy evaluation\n",
    "knn_accuracy = accuracy_score(y_test, knn_preds)\n",
    "\n",
    "print(classification_report(y_test, knn_preds))\n",
    "print(\"K-Nearest Neighbors Accuracy:\", knn_accuracy)"
   ],
   "metadata": {
    "collapsed": false,
    "ExecuteTime": {
     "end_time": "2024-04-23T01:01:19.221714300Z",
     "start_time": "2024-04-23T01:01:18.654424600Z"
    }
   },
   "id": "7e89004d3b62eb17",
   "execution_count": 5
  },
  {
   "cell_type": "markdown",
   "source": [
    "### Feature Importance using the model itself"
   ],
   "metadata": {
    "collapsed": false
   },
   "id": "edf60206d423aab1"
  },
  {
   "cell_type": "code",
   "outputs": [],
   "source": [
    "seq_feat_sel = False\n",
    "if seq_feat_sel:\n",
    "    seq_feat_selection(KNeighborsClassifier(), X_train, y_train)"
   ],
   "metadata": {
    "collapsed": false,
    "ExecuteTime": {
     "end_time": "2024-04-23T01:01:19.223709300Z",
     "start_time": "2024-04-23T01:01:19.213705300Z"
    }
   },
   "id": "c0c47f5934a16da",
   "execution_count": 6
  },
  {
   "cell_type": "markdown",
   "source": [
    "### Hyperparameter tuning"
   ],
   "metadata": {
    "collapsed": false
   },
   "id": "1951416f12714f18"
  },
  {
   "cell_type": "code",
   "outputs": [],
   "source": [
    "tune = False\n",
    "if tune:\n",
    "    param_grid = {\n",
    "                'n_neighbors': np.arange(2, 31, 1),\n",
    "                'weights': ['uniform', 'distance'],\n",
    "                'p': [1, 2]\n",
    "    }\n",
    "    \n",
    "    best_params, best_model, best_accuracy = tune_model(KNeighborsClassifier(), X_train, y_train, X_test, y_test, param_grid, top_n=10)\n",
    "    \n",
    "    print(\"Best Hyperparameters:\", best_params)\n",
    "    print(\"Best Model:\", best_model)\n",
    "    print(\"Best Model Accuracy:\", best_accuracy)"
   ],
   "metadata": {
    "collapsed": false,
    "ExecuteTime": {
     "end_time": "2024-04-23T01:01:19.301431600Z",
     "start_time": "2024-04-23T01:01:19.221714300Z"
    }
   },
   "id": "c7365ea88fe88b3a",
   "execution_count": 7
  },
  {
   "cell_type": "markdown",
   "source": [
    "https://www.geeksforgeeks.org/feature-selection-techniques-in-machine-learning/\n"
   ],
   "metadata": {
    "collapsed": false
   },
   "id": "83291e7b2a927e64"
  },
  {
   "cell_type": "code",
   "outputs": [],
   "source": [
    "is_multi_metric_cv = False\n",
    "if is_multi_metric_cv:\n",
    "    # Define the scorers\n",
    "    scoring = {\"AUC\": \"roc_auc\", \"Accuracy\": make_scorer(accuracy_score)}\n",
    "    \n",
    "    n_neighbours_param_min = 2\n",
    "    n_neighbours_param_max = 31\n",
    "    param_grid = {\"n_neighbors\": range(n_neighbours_param_min, n_neighbours_param_max, 1)}\n",
    "\n",
    "    results = multi_metric_cv(KNeighborsClassifier(p=2), scoring, X_train, y_train, param_grid)\n",
    "    plot_multi_score_cv_results(\"n_neighbors\", n_neighbours_param_min, n_neighbours_param_max, 0.7, 1, results, \"param_n_neighbors\", int, scoring)\n",
    "    \n",
    "    results = multi_metric_cv(KNeighborsClassifier(p=1), scoring, X_train, y_train, param_grid)\n",
    "    plot_multi_score_cv_results(\"n_neighbors\", n_neighbours_param_min, n_neighbours_param_max, 0.7, 1, results, \"param_n_neighbors\", int, scoring)"
   ],
   "metadata": {
    "collapsed": false,
    "ExecuteTime": {
     "end_time": "2024-04-23T01:01:19.324369700Z",
     "start_time": "2024-04-23T01:01:19.243515300Z"
    }
   },
   "id": "ecb1487c222d91",
   "execution_count": 8
  },
  {
   "cell_type": "code",
   "outputs": [
    {
     "name": "stdout",
     "output_type": "stream",
     "text": [
      "Feature category: ['age']\n",
      "Fitting 5 folds for each of 112 candidates, totalling 560 fits\n",
      "Feature category: ['education']\n",
      "Fitting 5 folds for each of 112 candidates, totalling 560 fits\n",
      "Feature category: ['workinghours']\n",
      "Fitting 5 folds for each of 112 candidates, totalling 560 fits\n",
      "Feature category: ['ability to speak english']\n",
      "Fitting 5 folds for each of 112 candidates, totalling 560 fits\n",
      "Feature category: ['workclass_governmental', 'workclass_no paid work', 'workclass_private', 'workclass_self employed']\n",
      "Fitting 5 folds for each of 112 candidates, totalling 560 fits\n",
      "Feature category: ['marital status_Divorced', 'marital status_Husband', 'marital status_Never married', 'marital status_Separated', 'marital status_Widowed', 'marital status_Wife']\n",
      "Fitting 5 folds for each of 112 candidates, totalling 560 fits\n",
      "Feature category: ['occupation_Construction/Extraction', 'occupation_Counseling/Mental Health Services', 'occupation_Education', 'occupation_Entertainment', 'occupation_Farming, Fishing, Forestry', 'occupation_Finance/Accounting', 'occupation_Healthcare/Medical Services', 'occupation_Legal Services', 'occupation_Management/Business', 'occupation_Military Services', 'occupation_Office/Administrative Support', 'occupation_Production/Assembly', 'occupation_Protective Services', 'occupation_Repair/Maintenance', 'occupation_Sales', 'occupation_Science, Engineering, Technology', 'occupation_Service/Hospitality', 'occupation_Transport']\n",
      "Fitting 5 folds for each of 112 candidates, totalling 560 fits\n",
      "Feature category: ['sex_Female', 'sex_Male']\n",
      "Fitting 5 folds for each of 112 candidates, totalling 560 fits\n",
      "Feature category: ['gave birth this year_No', 'gave birth this year_Yes']\n",
      "Fitting 5 folds for each of 112 candidates, totalling 560 fits\n",
      "0.72 > 0.001? Yes!\n",
      "Best subset: ['education']\n",
      "Remaining features: [['age'], ['workinghours'], ['ability to speak english'], ['workclass_governmental', 'workclass_no paid work', 'workclass_private', 'workclass_self employed'], ['marital status_Divorced', 'marital status_Husband', 'marital status_Never married', 'marital status_Separated', 'marital status_Widowed', 'marital status_Wife'], ['occupation_Construction/Extraction', 'occupation_Counseling/Mental Health Services', 'occupation_Education', 'occupation_Entertainment', 'occupation_Farming, Fishing, Forestry', 'occupation_Finance/Accounting', 'occupation_Healthcare/Medical Services', 'occupation_Legal Services', 'occupation_Management/Business', 'occupation_Military Services', 'occupation_Office/Administrative Support', 'occupation_Production/Assembly', 'occupation_Protective Services', 'occupation_Repair/Maintenance', 'occupation_Sales', 'occupation_Science, Engineering, Technology', 'occupation_Service/Hospitality', 'occupation_Transport'], ['sex_Female', 'sex_Male'], ['gave birth this year_No', 'gave birth this year_Yes']]\n",
      "Feature category: ['age']\n",
      "Fitting 5 folds for each of 112 candidates, totalling 560 fits\n",
      "Feature category: ['workinghours']\n",
      "Fitting 5 folds for each of 112 candidates, totalling 560 fits\n",
      "Feature category: ['ability to speak english']\n",
      "Fitting 5 folds for each of 112 candidates, totalling 560 fits\n",
      "Feature category: ['workclass_governmental', 'workclass_no paid work', 'workclass_private', 'workclass_self employed']\n",
      "Fitting 5 folds for each of 112 candidates, totalling 560 fits\n",
      "Feature category: ['marital status_Divorced', 'marital status_Husband', 'marital status_Never married', 'marital status_Separated', 'marital status_Widowed', 'marital status_Wife']\n",
      "Fitting 5 folds for each of 112 candidates, totalling 560 fits\n",
      "Feature category: ['occupation_Construction/Extraction', 'occupation_Counseling/Mental Health Services', 'occupation_Education', 'occupation_Entertainment', 'occupation_Farming, Fishing, Forestry', 'occupation_Finance/Accounting', 'occupation_Healthcare/Medical Services', 'occupation_Legal Services', 'occupation_Management/Business', 'occupation_Military Services', 'occupation_Office/Administrative Support', 'occupation_Production/Assembly', 'occupation_Protective Services', 'occupation_Repair/Maintenance', 'occupation_Sales', 'occupation_Science, Engineering, Technology', 'occupation_Service/Hospitality', 'occupation_Transport']\n",
      "Fitting 5 folds for each of 112 candidates, totalling 560 fits\n",
      "Feature category: ['sex_Female', 'sex_Male']\n",
      "Fitting 5 folds for each of 112 candidates, totalling 560 fits\n",
      "Feature category: ['gave birth this year_No', 'gave birth this year_Yes']\n",
      "Fitting 5 folds for each of 112 candidates, totalling 560 fits\n",
      "0.7461111111111111 > 0.721? Yes!\n",
      "Best subset: ['education', 'marital status_Divorced', 'marital status_Husband', 'marital status_Never married', 'marital status_Separated', 'marital status_Widowed', 'marital status_Wife']\n",
      "Remaining features: [['age'], ['workinghours'], ['ability to speak english'], ['workclass_governmental', 'workclass_no paid work', 'workclass_private', 'workclass_self employed'], ['occupation_Construction/Extraction', 'occupation_Counseling/Mental Health Services', 'occupation_Education', 'occupation_Entertainment', 'occupation_Farming, Fishing, Forestry', 'occupation_Finance/Accounting', 'occupation_Healthcare/Medical Services', 'occupation_Legal Services', 'occupation_Management/Business', 'occupation_Military Services', 'occupation_Office/Administrative Support', 'occupation_Production/Assembly', 'occupation_Protective Services', 'occupation_Repair/Maintenance', 'occupation_Sales', 'occupation_Science, Engineering, Technology', 'occupation_Service/Hospitality', 'occupation_Transport'], ['sex_Female', 'sex_Male'], ['gave birth this year_No', 'gave birth this year_Yes']]\n",
      "Feature category: ['age']\n",
      "Fitting 5 folds for each of 112 candidates, totalling 560 fits\n",
      "Feature category: ['workinghours']\n",
      "Fitting 5 folds for each of 112 candidates, totalling 560 fits\n",
      "Feature category: ['ability to speak english']\n",
      "Fitting 5 folds for each of 112 candidates, totalling 560 fits\n",
      "Feature category: ['workclass_governmental', 'workclass_no paid work', 'workclass_private', 'workclass_self employed']\n",
      "Fitting 5 folds for each of 112 candidates, totalling 560 fits\n",
      "Feature category: ['occupation_Construction/Extraction', 'occupation_Counseling/Mental Health Services', 'occupation_Education', 'occupation_Entertainment', 'occupation_Farming, Fishing, Forestry', 'occupation_Finance/Accounting', 'occupation_Healthcare/Medical Services', 'occupation_Legal Services', 'occupation_Management/Business', 'occupation_Military Services', 'occupation_Office/Administrative Support', 'occupation_Production/Assembly', 'occupation_Protective Services', 'occupation_Repair/Maintenance', 'occupation_Sales', 'occupation_Science, Engineering, Technology', 'occupation_Service/Hospitality', 'occupation_Transport']\n",
      "Fitting 5 folds for each of 112 candidates, totalling 560 fits\n",
      "Feature category: ['sex_Female', 'sex_Male']\n",
      "Fitting 5 folds for each of 112 candidates, totalling 560 fits\n",
      "Feature category: ['gave birth this year_No', 'gave birth this year_Yes']\n",
      "Fitting 5 folds for each of 112 candidates, totalling 560 fits\n",
      "0.7627777777777778 > 0.7471111111111111? Yes!\n",
      "Best subset: ['education', 'marital status_Divorced', 'marital status_Husband', 'marital status_Never married', 'marital status_Separated', 'marital status_Widowed', 'marital status_Wife', 'workinghours']\n",
      "Remaining features: [['age'], ['ability to speak english'], ['workclass_governmental', 'workclass_no paid work', 'workclass_private', 'workclass_self employed'], ['occupation_Construction/Extraction', 'occupation_Counseling/Mental Health Services', 'occupation_Education', 'occupation_Entertainment', 'occupation_Farming, Fishing, Forestry', 'occupation_Finance/Accounting', 'occupation_Healthcare/Medical Services', 'occupation_Legal Services', 'occupation_Management/Business', 'occupation_Military Services', 'occupation_Office/Administrative Support', 'occupation_Production/Assembly', 'occupation_Protective Services', 'occupation_Repair/Maintenance', 'occupation_Sales', 'occupation_Science, Engineering, Technology', 'occupation_Service/Hospitality', 'occupation_Transport'], ['sex_Female', 'sex_Male'], ['gave birth this year_No', 'gave birth this year_Yes']]\n",
      "Feature category: ['age']\n",
      "Fitting 5 folds for each of 112 candidates, totalling 560 fits\n",
      "Feature category: ['ability to speak english']\n",
      "Fitting 5 folds for each of 112 candidates, totalling 560 fits\n",
      "Feature category: ['workclass_governmental', 'workclass_no paid work', 'workclass_private', 'workclass_self employed']\n",
      "Fitting 5 folds for each of 112 candidates, totalling 560 fits\n",
      "Feature category: ['occupation_Construction/Extraction', 'occupation_Counseling/Mental Health Services', 'occupation_Education', 'occupation_Entertainment', 'occupation_Farming, Fishing, Forestry', 'occupation_Finance/Accounting', 'occupation_Healthcare/Medical Services', 'occupation_Legal Services', 'occupation_Management/Business', 'occupation_Military Services', 'occupation_Office/Administrative Support', 'occupation_Production/Assembly', 'occupation_Protective Services', 'occupation_Repair/Maintenance', 'occupation_Sales', 'occupation_Science, Engineering, Technology', 'occupation_Service/Hospitality', 'occupation_Transport']\n",
      "Fitting 5 folds for each of 112 candidates, totalling 560 fits\n",
      "Feature category: ['sex_Female', 'sex_Male']\n",
      "Fitting 5 folds for each of 112 candidates, totalling 560 fits\n",
      "Feature category: ['gave birth this year_No', 'gave birth this year_Yes']\n",
      "Fitting 5 folds for each of 112 candidates, totalling 560 fits\n",
      "0.7766666666666666 > 0.7637777777777778? Yes!\n",
      "Best subset: ['education', 'marital status_Divorced', 'marital status_Husband', 'marital status_Never married', 'marital status_Separated', 'marital status_Widowed', 'marital status_Wife', 'workinghours', 'occupation_Construction/Extraction', 'occupation_Counseling/Mental Health Services', 'occupation_Education', 'occupation_Entertainment', 'occupation_Farming, Fishing, Forestry', 'occupation_Finance/Accounting', 'occupation_Healthcare/Medical Services', 'occupation_Legal Services', 'occupation_Management/Business', 'occupation_Military Services', 'occupation_Office/Administrative Support', 'occupation_Production/Assembly', 'occupation_Protective Services', 'occupation_Repair/Maintenance', 'occupation_Sales', 'occupation_Science, Engineering, Technology', 'occupation_Service/Hospitality', 'occupation_Transport']\n",
      "Remaining features: [['age'], ['ability to speak english'], ['workclass_governmental', 'workclass_no paid work', 'workclass_private', 'workclass_self employed'], ['sex_Female', 'sex_Male'], ['gave birth this year_No', 'gave birth this year_Yes']]\n",
      "Feature category: ['age']\n",
      "Fitting 5 folds for each of 112 candidates, totalling 560 fits\n",
      "Feature category: ['ability to speak english']\n",
      "Fitting 5 folds for each of 112 candidates, totalling 560 fits\n",
      "Feature category: ['workclass_governmental', 'workclass_no paid work', 'workclass_private', 'workclass_self employed']\n",
      "Fitting 5 folds for each of 112 candidates, totalling 560 fits\n",
      "Feature category: ['sex_Female', 'sex_Male']\n",
      "Fitting 5 folds for each of 112 candidates, totalling 560 fits\n",
      "Feature category: ['gave birth this year_No', 'gave birth this year_Yes']\n",
      "Fitting 5 folds for each of 112 candidates, totalling 560 fits\n",
      "0.7805555555555556 > 0.7776666666666666? Yes!\n",
      "Best subset: ['education', 'marital status_Divorced', 'marital status_Husband', 'marital status_Never married', 'marital status_Separated', 'marital status_Widowed', 'marital status_Wife', 'workinghours', 'occupation_Construction/Extraction', 'occupation_Counseling/Mental Health Services', 'occupation_Education', 'occupation_Entertainment', 'occupation_Farming, Fishing, Forestry', 'occupation_Finance/Accounting', 'occupation_Healthcare/Medical Services', 'occupation_Legal Services', 'occupation_Management/Business', 'occupation_Military Services', 'occupation_Office/Administrative Support', 'occupation_Production/Assembly', 'occupation_Protective Services', 'occupation_Repair/Maintenance', 'occupation_Sales', 'occupation_Science, Engineering, Technology', 'occupation_Service/Hospitality', 'occupation_Transport', 'gave birth this year_No', 'gave birth this year_Yes']\n",
      "Remaining features: [['age'], ['ability to speak english'], ['workclass_governmental', 'workclass_no paid work', 'workclass_private', 'workclass_self employed'], ['sex_Female', 'sex_Male']]\n",
      "Feature category: ['age']\n",
      "Fitting 5 folds for each of 112 candidates, totalling 560 fits\n",
      "Feature category: ['ability to speak english']\n",
      "Fitting 5 folds for each of 112 candidates, totalling 560 fits\n",
      "Feature category: ['workclass_governmental', 'workclass_no paid work', 'workclass_private', 'workclass_self employed']\n",
      "Fitting 5 folds for each of 112 candidates, totalling 560 fits\n",
      "Feature category: ['sex_Female', 'sex_Male']\n",
      "Fitting 5 folds for each of 112 candidates, totalling 560 fits\n",
      "0.7805555555555556 > 0.7815555555555556? No! We break.\n",
      "Best subset of features: ['education', 'marital status_Divorced', 'marital status_Husband', 'marital status_Never married', 'marital status_Separated', 'marital status_Widowed', 'marital status_Wife', 'workinghours', 'occupation_Construction/Extraction', 'occupation_Counseling/Mental Health Services', 'occupation_Education', 'occupation_Entertainment', 'occupation_Farming, Fishing, Forestry', 'occupation_Finance/Accounting', 'occupation_Healthcare/Medical Services', 'occupation_Legal Services', 'occupation_Management/Business', 'occupation_Military Services', 'occupation_Office/Administrative Support', 'occupation_Production/Assembly', 'occupation_Protective Services', 'occupation_Repair/Maintenance', 'occupation_Sales', 'occupation_Science, Engineering, Technology', 'occupation_Service/Hospitality', 'occupation_Transport', 'gave birth this year_No', 'gave birth this year_Yes']\n",
      "Best hyperparameters: {'n_neighbors': 28, 'p': 1, 'weights': 'uniform'}\n",
      "Best model accuracy: 0.7805555555555556\n",
      "              precision    recall  f1-score   support\n",
      "\n",
      "           0       0.81      0.87      0.84      1175\n",
      "           1       0.71      0.62      0.66       625\n",
      "\n",
      "    accuracy                           0.78      1800\n",
      "   macro avg       0.76      0.74      0.75      1800\n",
      "weighted avg       0.78      0.78      0.78      1800\n"
     ]
    }
   ],
   "source": [
    "# Forward feature selection with hyperparameter tuning\n",
    "if True:\n",
    "    param_grid = {\n",
    "        'n_neighbors': np.arange(2, 30, 1),\n",
    "        'weights': ['uniform', 'distance'],\n",
    "        'p': [1, 2]\n",
    "    }\n",
    "    \n",
    "    best_subset, best_params, best_score = forward_feat_selection_hypertuning(KNeighborsClassifier(), param_grid, X_train, y_train, X_test, y_test)\n",
    "    \n",
    "    print(\"Best subset of features:\", best_subset)\n",
    "    print(\"Best hyperparameters:\", best_params)\n",
    "    print(\"Best model accuracy:\", best_score)\n",
    "    \n",
    "    # Use the best subset and best hyperparameters for final model\n",
    "    final_model = KNeighborsClassifier(**best_params)\n",
    "    final_model.fit(X_train[best_subset], y_train)\n",
    "    final_model_preds = final_model.predict(X_test[best_subset])\n",
    "    final_model_accuracy = accuracy_score(y_test, final_model_preds)\n",
    "    \n",
    "    print(classification_report(y_test, final_model_preds))"
   ],
   "metadata": {
    "collapsed": false,
    "ExecuteTime": {
     "end_time": "2024-04-23T01:34:56.872257500Z",
     "start_time": "2024-04-23T01:01:19.275501300Z"
    }
   },
   "id": "ef0a2ac8b804d296",
   "execution_count": 9
  },
  {
   "cell_type": "markdown",
   "source": [
    "Feature Selection: Ensure that sensitive attributes such as sex are not included as features in the model. This helps prevent the model from directly learning discriminatory patterns based on sensitive attributes."
   ],
   "metadata": {
    "collapsed": false
   },
   "id": "ca92285d6580a173"
  },
  {
   "cell_type": "markdown",
   "source": [
    "Fair Representation: Balance the representation of different groups within the dataset. Ensure that the dataset is representative of the population with respect to sex and other sensitive attributes. This can help mitigate bias in the model's predictions."
   ],
   "metadata": {
    "collapsed": false
   },
   "id": "629aa7c9a8929a30"
  },
  {
   "cell_type": "markdown",
   "source": [
    "Fair Preprocessing: Apply preprocessing techniques that aim to mitigate bias in the dataset. For example, use techniques such as reweighting or resampling to balance the dataset with respect to sensitive attributes.\n",
    "\n",
    "Reweighing:\n",
    "Adjust the weights of instances in your dataset to balance the impact of different groups.\n",
    "Assign higher weights to underrepresented groups (e.g., females) and lower weights to overrepresented groups (e.g., males).\n",
    "This helps reduce bias during model training.\n",
    "Suppression:\n",
    "Remove or suppress the sensitive attribute (‘sex’) from the dataset.\n",
    "Train your model without using this attribute.\n",
    "Note that this approach may lead to information loss, so use it cautiously.\n",
    "Massaging the Dataset:\n",
    "Modify class labels to achieve fairness.\n",
    "For instance, you can swap the labels for different groups (e.g., relabel some ‘male’ instances as ‘female’ and vice versa).\n",
    "This ensures that the model does not learn discriminatory patterns based on the sensitive attribute.\n",
    "Resampling Techniques:\n",
    "Oversample the underrepresented group (e.g., females) or undersample the overrepresented group (e.g., males).\n",
    "This balances the class distribution and reduces bias.\n"
   ],
   "metadata": {
    "collapsed": false
   },
   "id": "b1f7bc109c2e2782"
  },
  {
   "cell_type": "markdown",
   "source": [
    "Model Evaluation: Evaluate the model's performance and fairness across different subgroups defined by sensitive attributes such as sex. Use metrics such as disparate impact ratio, equal opportunity difference, or predictive parity to assess fairness."
   ],
   "metadata": {
    "collapsed": false
   },
   "id": "6a61e1afff765d7f"
  },
  {
   "cell_type": "code",
   "outputs": [
    {
     "name": "stdout",
     "output_type": "stream",
     "text": [
      "Disparate Impact (DI): 0.47\n"
     ]
    }
   ],
   "source": [
    "from sklearn.metrics import confusion_matrix\n",
    "\n",
    "X_test['sex'] = X_test['sex_Male'] * 1\n",
    "X_train['sex'] = X_train['sex_Male'] * 1\n",
    "X_test = X_test.drop(columns=['sex_Male', 'sex_Female'])\n",
    "X_train = X_train.drop(columns=['sex_Male', 'sex_Female'])\n",
    "\n",
    "knn_model = KNeighborsClassifier(n_neighbors=5)\n",
    "knn_model.fit(X_train, y_train)\n",
    "\n",
    "y_pred = knn_model.predict(X_test)\n",
    "\n",
    "# calculate DI:\n",
    "# DI = (num_positives(priviliged=False) / num_instances(priviliged=False)) / (num_positives(priviliged=True) / num_instances(priviliged=True))\n",
    "num_instances_priv_false = X_test[X_test['sex']==0].shape[0]\n",
    "num_instances_priv_true = X_test[X_test['sex']==1].shape[0]\n",
    "\n",
    "num_positives_priv_false = np.sum((y_pred == 1) & (X_test['sex'] == 0))\n",
    "num_positives_priv_true = np.sum((y_pred == 1) & (X_test['sex'] == 1))\n",
    "\n",
    "DI = (num_positives_priv_false / num_instances_priv_false) / (num_positives_priv_true / num_instances_priv_true)\n",
    "\n",
    "print(f\"Disparate Impact (DI): {DI:.2f}\")\n",
    "\n",
    "# # Get predicted labels for females and males\n",
    "# y_pred_female = y_pred[X_test['sex'] == 0]\n",
    "# y_pred_male = y_pred[X_test['sex'] == 1]\n",
    "# \n",
    "# # Calculate the probability of predicted positive outcomes for females and males\n",
    "# prob_positive_female = np.mean(y_pred_female)\n",
    "# prob_positive_male = np.mean(y_pred_male)\n",
    "# \n",
    "# # Calculate the Disparate Impact (DI) criterion\n",
    "# DI = prob_positive_female / prob_positive_male\n",
    "# \n",
    "# print(f\"Disparate Impact (DI): {DI:.2f}\")\n",
    "\n",
    "# # Make predictions on the test set\n",
    "# y_pred = knn_model.predict(X_test)\n",
    "# \n",
    "# # Create a confusion matrix\n",
    "# conf_matrix = confusion_matrix(y_test, y_pred)\n",
    "# \n",
    "# # Extract counts for each group (male and female)\n",
    "# male_count = np.sum(X_test['sex_Male'])\n",
    "# female_count = np.sum(X_test['sex_Female'])\n",
    "# \n",
    "# # Calculate favorable outcomes (e.g., 'income' = 1) for each group\n",
    "# male_favorable = conf_matrix[1, 1]\n",
    "# female_favorable = conf_matrix[0, 1]\n",
    "# \n",
    "# # Calculate disparate impact\n",
    "# disparate_impact = (female_favorable / female_count) / (male_favorable / male_count)\n",
    "# \n",
    "# # Print the result\n",
    "# print(f\"Disparate Impact: {disparate_impact:.2f}\")\n",
    "\n",
    "# Interpretation:\n",
    "# - If disparate impact = 1, outcomes are equally favorable for both groups.\n",
    "# - If disparate impact > 1, one group has more favorable outcomes than the other.\n",
    "# - If disparate impact < 1, the opposite is true.\n",
    "\n",
    "# You can set a threshold (e.g., 0.8) to determine fairness based on your context."
   ],
   "metadata": {
    "collapsed": false,
    "ExecuteTime": {
     "end_time": "2024-04-23T01:34:57.063569200Z",
     "start_time": "2024-04-23T01:34:56.872257500Z"
    }
   },
   "id": "f4c859f9827b2601",
   "execution_count": 10
  },
  {
   "cell_type": "code",
   "outputs": [],
   "source": [
    "# conf_matrix # Thus in binary classification, the count of true negatives is C0,0, false negatives is C1,0, true positives is C1,1 and false positives is C0,1"
   ],
   "metadata": {
    "collapsed": false,
    "ExecuteTime": {
     "end_time": "2024-04-23T01:34:57.076087700Z",
     "start_time": "2024-04-23T01:34:57.065564200Z"
    }
   },
   "id": "4b389689201399af",
   "execution_count": 11
  },
  {
   "cell_type": "code",
   "outputs": [
    {
     "name": "stderr",
     "output_type": "stream",
     "text": [
      "WARNING:root:No module named 'tensorflow': AdversarialDebiasing will be unavailable. To install, run:\n",
      "pip install 'aif360[AdversarialDebiasing]'\n",
      "WARNING:root:No module named 'tensorflow': AdversarialDebiasing will be unavailable. To install, run:\n",
      "pip install 'aif360[AdversarialDebiasing]'\n",
      "WARNING:root:No module named 'fairlearn': ExponentiatedGradientReduction will be unavailable. To install, run:\n",
      "pip install 'aif360[Reductions]'\n",
      "WARNING:root:No module named 'fairlearn': GridSearchReduction will be unavailable. To install, run:\n",
      "pip install 'aif360[Reductions]'\n",
      "WARNING:root:No module named 'inFairness': SenSeI and SenSR will be unavailable. To install, run:\n",
      "pip install 'aif360[inFairness]'\n",
      "WARNING:root:No module named 'fairlearn': GridSearchReduction will be unavailable. To install, run:\n",
      "pip install 'aif360[Reductions]'\n",
      "WARNING:root:No module named 'ot': ot_distance will be unavailable. To install, run:\n",
      "pip install 'aif360[OptimalTransport]'\n"
     ]
    },
    {
     "name": "stdout",
     "output_type": "stream",
     "text": [
      "Disparate Impact Ratio: 0.4677919025745113\n"
     ]
    }
   ],
   "source": [
    "# Disparate Impact Ratio\n",
    "from aif360.sklearn.metrics import disparate_impact_ratio\n",
    "disparate_impact = disparate_impact_ratio(y_true=y_test, y_pred=y_pred, prot_attr=X_test['sex'])\n",
    "print(\"Disparate Impact Ratio:\", disparate_impact)\n"
   ],
   "metadata": {
    "collapsed": false,
    "ExecuteTime": {
     "end_time": "2024-04-23T01:34:58.833172300Z",
     "start_time": "2024-04-23T01:34:57.071100900Z"
    }
   },
   "id": "50504ced1d517660",
   "execution_count": 12
  },
  {
   "cell_type": "code",
   "outputs": [],
   "source": [
    "# from aif360.sklearn.metrics import statistical_parity_difference\n",
    "# \n",
    "# # encode the 'sex' feature\n",
    "# X['sex'] = X['sex'].map({'Male': 0, 'Female': 1})\n",
    "# y = y.map({'low': 0, 'high': 1})\n",
    "# X_train, X_test, y_train, y_test = train_test_split(X, y, test_size=0.2, random_state=42)\n",
    "# \n",
    "# # Train your KNN model\n",
    "# knn_model = KNeighborsClassifier()\n",
    "# knn_model.fit(X_train, y_train)\n",
    "# \n",
    "# # Predictions\n",
    "# knn_preds = knn_model.predict(X_test)\n",
    "# \n",
    "# # Calculate fairness metrics using model predictions and specify 'sex' as the sensitive attribute\n",
    "# spd_sex = statistical_parity_difference(y_true=y_test, y_pred=knn_preds, sensitive_features=X_test['sex'])\n",
    "# eo = equal_opportunity_difference(y_true=y_test, y_pred=knn_preds, sensitive_features=X_test['sex'])\n",
    "# aod = average_odds_difference(y_true=y_test, y_pred=knn_preds, sensitive_features=X_test['sex'])\n",
    "# apv = average_predictive_value_difference(y_true=y_test, y_pred=knn_preds, sensitive_features=X_test['sex'])\n",
    "# \n",
    "# print(\"Statistical Parity Difference:\", spd_sex)\n",
    "# print(\"Equal Opportunity Difference:\", eo)\n",
    "# print(\"Average Odds Difference:\", aod)\n",
    "# print(\"Average Predictive Value Difference:\", apv)"
   ],
   "metadata": {
    "collapsed": false,
    "ExecuteTime": {
     "end_time": "2024-04-23T01:34:58.842459600Z",
     "start_time": "2024-04-23T01:34:58.832174900Z"
    }
   },
   "id": "48c8cb536e714e01",
   "execution_count": 13
  },
  {
   "cell_type": "markdown",
   "source": [
    "### Saving the Model"
   ],
   "metadata": {
    "collapsed": false
   },
   "id": "c2b8808539140c16"
  },
  {
   "cell_type": "code",
   "outputs": [],
   "source": [
    "# Saving the model\n",
    "save_model(final_model, '../output/saved_models/knn_model.joblib')"
   ],
   "metadata": {
    "collapsed": false,
    "ExecuteTime": {
     "end_time": "2024-04-23T01:34:58.884463600Z",
     "start_time": "2024-04-23T01:34:58.841461200Z"
    }
   },
   "id": "6a153de59eafb6a6",
   "execution_count": 14
  }
 ],
 "metadata": {
  "kernelspec": {
   "display_name": "Python 3",
   "language": "python",
   "name": "python3"
  },
  "language_info": {
   "codemirror_mode": {
    "name": "ipython",
    "version": 2
   },
   "file_extension": ".py",
   "mimetype": "text/x-python",
   "name": "python",
   "nbconvert_exporter": "python",
   "pygments_lexer": "ipython2",
   "version": "2.7.6"
  }
 },
 "nbformat": 4,
 "nbformat_minor": 5
}
