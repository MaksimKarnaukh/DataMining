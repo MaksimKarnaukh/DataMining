{
 "cells": [
  {
   "cell_type": "code",
   "execution_count": 11,
   "id": "initial_id",
   "metadata": {
    "collapsed": true,
    "ExecuteTime": {
     "end_time": "2024-05-01T01:36:00.473139400Z",
     "start_time": "2024-05-01T01:36:00.370904400Z"
    }
   },
   "outputs": [],
   "source": [
    "import warnings\n",
    "warnings.filterwarnings(\"ignore\")\n",
    "\n",
    "import pandas as pd\n",
    "import numpy as np\n",
    "import matplotlib.pyplot as plt\n",
    "\n",
    "from helper.helper_functions import load_dataset, save_model, get_features_and_target, encode_all_features\n",
    "from helper.clfmodel_functions import tune_model, seq_feat_selection, multi_metric_cv, plot_multi_score_cv_results, forward_feat_selection_hypertuning\n",
    "from helper.fairness_functions import print_male_female_metrics, get_male_female_data\n",
    "\n",
    "from sklearn.model_selection import train_test_split\n",
    "from sklearn.metrics import make_scorer, accuracy_score, classification_report\n",
    "from sklearn.neighbors import KNeighborsClassifier"
   ]
  },
  {
   "cell_type": "markdown",
   "source": [
    "### Loading the cleaned dataset"
   ],
   "metadata": {
    "collapsed": false
   },
   "id": "ced45577f2a46d2"
  },
  {
   "cell_type": "code",
   "outputs": [],
   "source": [
    "data = load_dataset('../data/assignment2_income_cleaned.xlsx')"
   ],
   "metadata": {
    "collapsed": false,
    "ExecuteTime": {
     "end_time": "2024-05-01T01:36:02.309531200Z",
     "start_time": "2024-05-01T01:36:00.477128900Z"
    }
   },
   "id": "573b15a0c08becd2",
   "execution_count": 12
  },
  {
   "cell_type": "markdown",
   "source": [
    "### Feature Engineering (encoding) & Train-Test Split"
   ],
   "metadata": {
    "collapsed": false
   },
   "id": "98bf0f84f262caa7"
  },
  {
   "cell_type": "code",
   "outputs": [],
   "source": [
    "# Splitting the data into features (X) and target (y)\n",
    "X, y = get_features_and_target(data, 'income')\n",
    "X_male, X_female = get_male_female_data(X, False)\n",
    "columns_to_exclude = ['age', 'ability to speak english', 'gave birth this year']\n",
    "# Encoding the features and target\n",
    "X_encoded, y_encoded = encode_all_features(X, y, [])\n",
    "X_train, X_test, y_train, y_test = train_test_split(X_encoded, y_encoded, test_size=0.2, random_state=42)"
   ],
   "metadata": {
    "collapsed": false,
    "ExecuteTime": {
     "end_time": "2024-05-01T01:36:02.338704900Z",
     "start_time": "2024-05-01T01:36:02.309531200Z"
    }
   },
   "id": "83fc7449a1cf23ea",
   "execution_count": 13
  },
  {
   "cell_type": "code",
   "outputs": [
    {
     "data": {
      "text/plain": "      age  education  workinghours  ability to speak english  \\\n6317   22         16            36                         0   \n740    61         22            40                         1   \n3781   48         16            40                         0   \n7850   62         18            65                         0   \n2963   53         19            44                         0   \n\n      workclass_governmental  workclass_no paid work  workclass_private  \\\n6317                       0                       0                  1   \n740                        0                       0                  0   \n3781                       0                       0                  1   \n7850                       0                       0                  1   \n2963                       1                       0                  0   \n\n      workclass_self employed  gave birth this year_No  \\\n6317                        0                        1   \n740                         1                        1   \n3781                        0                        1   \n7850                        0                        1   \n2963                        0                        1   \n\n      gave birth this year_Yes  ...  occupation_Sales  \\\n6317                         0  ...                 0   \n740                          0  ...                 1   \n3781                         0  ...                 0   \n7850                         0  ...                 0   \n2963                         0  ...                 0   \n\n      occupation_Science, Engineering, Technology  \\\n6317                                            0   \n740                                             0   \n3781                                            0   \n7850                                            0   \n2963                                            0   \n\n      occupation_Service/Hospitality  occupation_Transport  \\\n6317                               0                     0   \n740                                0                     0   \n3781                               0                     0   \n7850                               0                     0   \n2963                               0                     0   \n\n      marital status_Divorced  marital status_Husband  \\\n6317                        0                       1   \n740                         1                       0   \n3781                        1                       0   \n7850                        0                       1   \n2963                        1                       0   \n\n      marital status_Never married  marital status_Separated  \\\n6317                             0                         0   \n740                              0                         0   \n3781                             0                         0   \n7850                             0                         0   \n2963                             0                         0   \n\n      marital status_Widowed  marital status_Wife  \n6317                       0                    0  \n740                        0                    0  \n3781                       0                    0  \n7850                       0                    0  \n2963                       0                    0  \n\n[5 rows x 36 columns]",
      "text/html": "<div>\n<style scoped>\n    .dataframe tbody tr th:only-of-type {\n        vertical-align: middle;\n    }\n\n    .dataframe tbody tr th {\n        vertical-align: top;\n    }\n\n    .dataframe thead th {\n        text-align: right;\n    }\n</style>\n<table border=\"1\" class=\"dataframe\">\n  <thead>\n    <tr style=\"text-align: right;\">\n      <th></th>\n      <th>age</th>\n      <th>education</th>\n      <th>workinghours</th>\n      <th>ability to speak english</th>\n      <th>workclass_governmental</th>\n      <th>workclass_no paid work</th>\n      <th>workclass_private</th>\n      <th>workclass_self employed</th>\n      <th>gave birth this year_No</th>\n      <th>gave birth this year_Yes</th>\n      <th>...</th>\n      <th>occupation_Sales</th>\n      <th>occupation_Science, Engineering, Technology</th>\n      <th>occupation_Service/Hospitality</th>\n      <th>occupation_Transport</th>\n      <th>marital status_Divorced</th>\n      <th>marital status_Husband</th>\n      <th>marital status_Never married</th>\n      <th>marital status_Separated</th>\n      <th>marital status_Widowed</th>\n      <th>marital status_Wife</th>\n    </tr>\n  </thead>\n  <tbody>\n    <tr>\n      <th>6317</th>\n      <td>22</td>\n      <td>16</td>\n      <td>36</td>\n      <td>0</td>\n      <td>0</td>\n      <td>0</td>\n      <td>1</td>\n      <td>0</td>\n      <td>1</td>\n      <td>0</td>\n      <td>...</td>\n      <td>0</td>\n      <td>0</td>\n      <td>0</td>\n      <td>0</td>\n      <td>0</td>\n      <td>1</td>\n      <td>0</td>\n      <td>0</td>\n      <td>0</td>\n      <td>0</td>\n    </tr>\n    <tr>\n      <th>740</th>\n      <td>61</td>\n      <td>22</td>\n      <td>40</td>\n      <td>1</td>\n      <td>0</td>\n      <td>0</td>\n      <td>0</td>\n      <td>1</td>\n      <td>1</td>\n      <td>0</td>\n      <td>...</td>\n      <td>1</td>\n      <td>0</td>\n      <td>0</td>\n      <td>0</td>\n      <td>1</td>\n      <td>0</td>\n      <td>0</td>\n      <td>0</td>\n      <td>0</td>\n      <td>0</td>\n    </tr>\n    <tr>\n      <th>3781</th>\n      <td>48</td>\n      <td>16</td>\n      <td>40</td>\n      <td>0</td>\n      <td>0</td>\n      <td>0</td>\n      <td>1</td>\n      <td>0</td>\n      <td>1</td>\n      <td>0</td>\n      <td>...</td>\n      <td>0</td>\n      <td>0</td>\n      <td>0</td>\n      <td>0</td>\n      <td>1</td>\n      <td>0</td>\n      <td>0</td>\n      <td>0</td>\n      <td>0</td>\n      <td>0</td>\n    </tr>\n    <tr>\n      <th>7850</th>\n      <td>62</td>\n      <td>18</td>\n      <td>65</td>\n      <td>0</td>\n      <td>0</td>\n      <td>0</td>\n      <td>1</td>\n      <td>0</td>\n      <td>1</td>\n      <td>0</td>\n      <td>...</td>\n      <td>0</td>\n      <td>0</td>\n      <td>0</td>\n      <td>0</td>\n      <td>0</td>\n      <td>1</td>\n      <td>0</td>\n      <td>0</td>\n      <td>0</td>\n      <td>0</td>\n    </tr>\n    <tr>\n      <th>2963</th>\n      <td>53</td>\n      <td>19</td>\n      <td>44</td>\n      <td>0</td>\n      <td>1</td>\n      <td>0</td>\n      <td>0</td>\n      <td>0</td>\n      <td>1</td>\n      <td>0</td>\n      <td>...</td>\n      <td>0</td>\n      <td>0</td>\n      <td>0</td>\n      <td>0</td>\n      <td>1</td>\n      <td>0</td>\n      <td>0</td>\n      <td>0</td>\n      <td>0</td>\n      <td>0</td>\n    </tr>\n  </tbody>\n</table>\n<p>5 rows × 36 columns</p>\n</div>"
     },
     "execution_count": 14,
     "metadata": {},
     "output_type": "execute_result"
    }
   ],
   "source": [
    "X_train.head()"
   ],
   "metadata": {
    "collapsed": false,
    "ExecuteTime": {
     "end_time": "2024-05-01T01:36:02.364400100Z",
     "start_time": "2024-05-01T01:36:02.338704900Z"
    }
   },
   "id": "32090237fac6568d",
   "execution_count": 14
  },
  {
   "cell_type": "markdown",
   "source": [
    "### Model\n",
    "\n",
    "Here, we quickly train and evaluate a KNN model with random parameters for demonstration."
   ],
   "metadata": {
    "collapsed": false
   },
   "id": "bfc5f29026270e84"
  },
  {
   "cell_type": "code",
   "outputs": [
    {
     "name": "stdout",
     "output_type": "stream",
     "text": [
      "              precision    recall  f1-score   support\n",
      "\n",
      "           0       0.80      0.80      0.80      1175\n",
      "           1       0.62      0.62      0.62       625\n",
      "\n",
      "    accuracy                           0.73      1800\n",
      "   macro avg       0.71      0.71      0.71      1800\n",
      "weighted avg       0.74      0.73      0.74      1800\n",
      "\n",
      "K-Nearest Neighbors Accuracy: 0.735\n"
     ]
    }
   ],
   "source": [
    "# K-Nearest Neighbors model\n",
    "knn_model = KNeighborsClassifier(n_neighbors=5, metric='minkowski', p=2)\n",
    "knn_model.fit(X_train, y_train)\n",
    "knn_preds = knn_model.predict(X_test)\n",
    "knn_accuracy = accuracy_score(y_test, knn_preds)\n",
    "\n",
    "print(classification_report(y_test, knn_preds))\n",
    "print(\"K-Nearest Neighbors Accuracy:\", knn_accuracy)"
   ],
   "metadata": {
    "collapsed": false,
    "ExecuteTime": {
     "end_time": "2024-05-01T01:36:02.784218500Z",
     "start_time": "2024-05-01T01:36:02.358415600Z"
    }
   },
   "id": "7e89004d3b62eb17",
   "execution_count": 15
  },
  {
   "cell_type": "markdown",
   "source": [
    "### Feature Importance using the model itself"
   ],
   "metadata": {
    "collapsed": false
   },
   "id": "edf60206d423aab1"
  },
  {
   "cell_type": "code",
   "outputs": [],
   "source": [
    "if False:\n",
    "    seq_feat_selection(KNeighborsClassifier(), X_train, y_train)"
   ],
   "metadata": {
    "collapsed": false,
    "ExecuteTime": {
     "end_time": "2024-05-01T01:36:02.795548Z",
     "start_time": "2024-05-01T01:36:02.779099Z"
    }
   },
   "id": "c0c47f5934a16da",
   "execution_count": 16
  },
  {
   "cell_type": "markdown",
   "source": [
    "### Hyperparameter tuning"
   ],
   "metadata": {
    "collapsed": false
   },
   "id": "1951416f12714f18"
  },
  {
   "cell_type": "markdown",
   "source": [
    "Here, we define the base parameter grid for our hyperparameter tuning function."
   ],
   "metadata": {
    "collapsed": false
   },
   "id": "30ed8892bbf4a434"
  },
  {
   "cell_type": "code",
   "outputs": [],
   "source": [
    "param_grid = {\n",
    "        'n_neighbors': np.arange(2, 31, 1),\n",
    "        'weights': ['uniform', 'distance'],\n",
    "        'p': [1, 2]\n",
    "    }"
   ],
   "metadata": {
    "collapsed": false,
    "ExecuteTime": {
     "end_time": "2024-05-01T01:36:02.819483100Z",
     "start_time": "2024-05-01T01:36:02.789202200Z"
    }
   },
   "id": "ade690f102ffb74b",
   "execution_count": 17
  },
  {
   "cell_type": "markdown",
   "source": [
    "Below, we tune the hyperparameters of the KNN model using the defined parameter grid and using all features."
   ],
   "metadata": {
    "collapsed": false
   },
   "id": "dfbd1effd8fb2744"
  },
  {
   "cell_type": "code",
   "outputs": [
    {
     "name": "stdout",
     "output_type": "stream",
     "text": [
      "Fitting 5 folds for each of 116 candidates, totalling 580 fits\n",
      "Best Hyperparameters: {'n_neighbors': 22, 'p': 1, 'weights': 'uniform'}\n",
      "Best Model: KNeighborsClassifier(n_neighbors=22, p=1)\n",
      "Best Model Accuracy: 0.7605555555555555\n",
      "Fairness Metrics:\n",
      "Male FPR: 0.22849083215796898\n",
      "Male TPR: 0.6933867735470942\n",
      "Female FPR: 0.060085836909871244\n",
      "Female TPR: 0.30158730158730157\n",
      "\n",
      "Disparate Impact (DI): 0.265\n",
      "Discrimination Score (DS): -0.309\n",
      "Equal Opportunity Difference (EO): 0.392\n",
      "Equalized Odds (EOdds): 0.168\n"
     ]
    }
   ],
   "source": [
    "if True:\n",
    "    best_params, best_model, best_accuracy = tune_model(KNeighborsClassifier(), X_train, y_train, X_test, y_test, param_grid, top_n=10)\n",
    "    \n",
    "    print(\"Best Hyperparameters:\", best_params)\n",
    "    print(\"Best Model:\", best_model)\n",
    "    print(\"Best Model Accuracy:\", best_accuracy)\n",
    "    \n",
    "    print_male_female_metrics(best_model, X, X_male, X_female, X_test, y_test)"
   ],
   "metadata": {
    "collapsed": false,
    "ExecuteTime": {
     "end_time": "2024-05-01T01:39:15.040232300Z",
     "start_time": "2024-05-01T01:36:02.797542800Z"
    }
   },
   "id": "c7365ea88fe88b3a",
   "execution_count": 18
  },
  {
   "cell_type": "code",
   "outputs": [
    {
     "name": "stdout",
     "output_type": "stream",
     "text": [
      "Fitting 5 folds for each of 116 candidates, totalling 580 fits\n",
      "Best Hyperparameters: {'n_neighbors': 30, 'p': 2, 'weights': 'uniform'}\n",
      "Best Model: KNeighborsClassifier(n_neighbors=30)\n",
      "Best Model Accuracy: 0.7538888888888889\n",
      "Fairness Metrics:\n",
      "Male FPR: 0.2073342736248237\n",
      "Male TPR: 0.6452905811623246\n",
      "Female FPR: 0.08583690987124463\n",
      "Female TPR: 0.373015873015873\n",
      "\n",
      "Disparate Impact (DI): 0.379\n",
      "Discrimination Score (DS): -0.241\n",
      "Equal Opportunity Difference (EO): 0.272\n",
      "Equalized Odds (EOdds): 0.121\n"
     ]
    }
   ],
   "source": [
    "if True:\n",
    "    best_params, best_model, best_composite_metric = tune_model(KNeighborsClassifier(), X_train, y_train, X_test, y_test, param_grid, top_n=10, ensure_fairness=True)\n",
    "    \n",
    "    print(\"Best Hyperparameters:\", best_params)\n",
    "    print(\"Best Model:\", best_model)\n",
    "    print(\"Best Model Accuracy:\", best_composite_metric)\n",
    "    \n",
    "    print_male_female_metrics(best_model, X, X_male, X_female, X_test, y_test)"
   ],
   "metadata": {
    "collapsed": false,
    "ExecuteTime": {
     "end_time": "2024-05-01T01:42:48.534182800Z",
     "start_time": "2024-05-01T01:39:15.034248300Z"
    }
   },
   "id": "38f9828092b9f729",
   "execution_count": 19
  },
  {
   "cell_type": "markdown",
   "source": [
    "Below, we tune the hyperparameters of the KNN model using the defined parameter grid and using a **subset of features**. We exclude the columns 'age', 'ability to speak english', and 'workclass'."
   ],
   "metadata": {
    "collapsed": false
   },
   "id": "cf25caeb313e2bd5"
  },
  {
   "cell_type": "code",
   "outputs": [
    {
     "name": "stdout",
     "output_type": "stream",
     "text": [
      "Fitting 5 folds for each of 116 candidates, totalling 580 fits\n",
      "\n",
      "Best Hyperparameters: {'n_neighbors': 27, 'p': 1, 'weights': 'uniform'}\n",
      "Best Model: KNeighborsClassifier(n_neighbors=27, p=1)\n",
      "Best Model Accuracy: 0.7738888888888888\n",
      "Fairness Metrics:\n",
      "Male FPR: 0.20451339915373765\n",
      "Male TPR: 0.6933867735470942\n",
      "Female FPR: 0.07939914163090128\n",
      "Female TPR: 0.42857142857142855\n",
      "\n",
      "Disparate Impact (DI): 0.378\n",
      "Discrimination Score (DS): -0.253\n",
      "Equal Opportunity Difference (EO): 0.265\n",
      "Equalized Odds (EOdds): 0.125\n"
     ]
    }
   ],
   "source": [
    "if True:\n",
    "    # Splitting the data into features (X) and target (y)\n",
    "    X_, y_ = get_features_and_target(data, 'income')\n",
    "    columns_to_exclude = ['age', 'ability to speak english', 'workclass']\n",
    "    X_ = X_.drop(columns=columns_to_exclude)\n",
    "    # Encoding the features and target, and excluding some columns\n",
    "    X_encoded_, y_encoded_ = encode_all_features(X_, y_, columns_to_exclude)\n",
    "    X_train_, X_test_, y_train_, y_test_ = train_test_split(X_encoded_, y_encoded_, test_size=0.2, random_state=42)\n",
    "    \n",
    "    best_params, best_model, best_accuracy = tune_model(KNeighborsClassifier(), X_train_, y_train_, X_test_, y_test_, param_grid)\n",
    "    \n",
    "    print(\"\\nBest Hyperparameters:\", best_params)\n",
    "    print(\"Best Model:\", best_model)\n",
    "    print(\"Best Model Accuracy:\", best_accuracy)\n",
    "    \n",
    "    print_male_female_metrics(best_model, X, X_male, X_female, X_test_, y_test_)"
   ],
   "metadata": {
    "collapsed": false,
    "ExecuteTime": {
     "end_time": "2024-05-01T01:45:23.664204100Z",
     "start_time": "2024-05-01T01:42:48.528199200Z"
    }
   },
   "id": "ab3c4b22bbcf01e1",
   "execution_count": 20
  },
  {
   "cell_type": "markdown",
   "source": [
    "#### Forward Feature Selection with Hyperparameter Tuning"
   ],
   "metadata": {
    "collapsed": false
   },
   "id": "24352fa45556baa"
  },
  {
   "cell_type": "markdown",
   "source": [
    "Because hyperparameter tuning results can vary depending on the chosen subset of features, we will use forward feature selection with hyperparameter tuning to find the best subset of features and hyperparameters for the model."
   ],
   "metadata": {
    "collapsed": false
   },
   "id": "5e95cbc5e9b09606"
  },
  {
   "cell_type": "code",
   "outputs": [
    {
     "name": "stdout",
     "output_type": "stream",
     "text": [
      "Fitting 5 folds for each of 116 candidates, totalling 580 fits\n",
      "Fitting 5 folds for each of 116 candidates, totalling 580 fits\n",
      "Fitting 5 folds for each of 116 candidates, totalling 580 fits\n",
      "Fitting 5 folds for each of 116 candidates, totalling 580 fits\n",
      "Fitting 5 folds for each of 116 candidates, totalling 580 fits\n",
      "Fitting 5 folds for each of 116 candidates, totalling 580 fits\n",
      "Fitting 5 folds for each of 116 candidates, totalling 580 fits\n",
      "Fitting 5 folds for each of 116 candidates, totalling 580 fits\n",
      "Fitting 5 folds for each of 116 candidates, totalling 580 fits\n",
      "Best subset: ['education']\n",
      "Remaining features: [['age'], ['workinghours'], ['ability to speak english'], ['workclass_governmental', 'workclass_no paid work', 'workclass_private', 'workclass_self employed'], ['marital status_Divorced', 'marital status_Husband', 'marital status_Never married', 'marital status_Separated', 'marital status_Widowed', 'marital status_Wife'], ['occupation_Construction/Extraction', 'occupation_Counseling/Mental Health Services', 'occupation_Education', 'occupation_Entertainment', 'occupation_Farming, Fishing, Forestry', 'occupation_Finance/Accounting', 'occupation_Healthcare/Medical Services', 'occupation_Legal Services', 'occupation_Management/Business', 'occupation_Military Services', 'occupation_Office/Administrative Support', 'occupation_Production/Assembly', 'occupation_Protective Services', 'occupation_Repair/Maintenance', 'occupation_Sales', 'occupation_Science, Engineering, Technology', 'occupation_Service/Hospitality', 'occupation_Transport'], ['sex_Female', 'sex_Male'], ['gave birth this year_No', 'gave birth this year_Yes']]\n",
      "Fitting 5 folds for each of 116 candidates, totalling 580 fits\n",
      "Fitting 5 folds for each of 116 candidates, totalling 580 fits\n",
      "Fitting 5 folds for each of 116 candidates, totalling 580 fits\n",
      "Fitting 5 folds for each of 116 candidates, totalling 580 fits\n",
      "Fitting 5 folds for each of 116 candidates, totalling 580 fits\n",
      "Fitting 5 folds for each of 116 candidates, totalling 580 fits\n",
      "Fitting 5 folds for each of 116 candidates, totalling 580 fits\n",
      "Fitting 5 folds for each of 116 candidates, totalling 580 fits\n",
      "Best subset: ['education', 'marital status_Divorced', 'marital status_Husband', 'marital status_Never married', 'marital status_Separated', 'marital status_Widowed', 'marital status_Wife']\n",
      "Remaining features: [['age'], ['workinghours'], ['ability to speak english'], ['workclass_governmental', 'workclass_no paid work', 'workclass_private', 'workclass_self employed'], ['occupation_Construction/Extraction', 'occupation_Counseling/Mental Health Services', 'occupation_Education', 'occupation_Entertainment', 'occupation_Farming, Fishing, Forestry', 'occupation_Finance/Accounting', 'occupation_Healthcare/Medical Services', 'occupation_Legal Services', 'occupation_Management/Business', 'occupation_Military Services', 'occupation_Office/Administrative Support', 'occupation_Production/Assembly', 'occupation_Protective Services', 'occupation_Repair/Maintenance', 'occupation_Sales', 'occupation_Science, Engineering, Technology', 'occupation_Service/Hospitality', 'occupation_Transport'], ['sex_Female', 'sex_Male'], ['gave birth this year_No', 'gave birth this year_Yes']]\n",
      "Fitting 5 folds for each of 116 candidates, totalling 580 fits\n",
      "Fitting 5 folds for each of 116 candidates, totalling 580 fits\n",
      "Fitting 5 folds for each of 116 candidates, totalling 580 fits\n",
      "Fitting 5 folds for each of 116 candidates, totalling 580 fits\n",
      "Fitting 5 folds for each of 116 candidates, totalling 580 fits\n",
      "Fitting 5 folds for each of 116 candidates, totalling 580 fits\n",
      "Fitting 5 folds for each of 116 candidates, totalling 580 fits\n",
      "Best subset: ['education', 'marital status_Divorced', 'marital status_Husband', 'marital status_Never married', 'marital status_Separated', 'marital status_Widowed', 'marital status_Wife', 'workinghours']\n",
      "Remaining features: [['age'], ['ability to speak english'], ['workclass_governmental', 'workclass_no paid work', 'workclass_private', 'workclass_self employed'], ['occupation_Construction/Extraction', 'occupation_Counseling/Mental Health Services', 'occupation_Education', 'occupation_Entertainment', 'occupation_Farming, Fishing, Forestry', 'occupation_Finance/Accounting', 'occupation_Healthcare/Medical Services', 'occupation_Legal Services', 'occupation_Management/Business', 'occupation_Military Services', 'occupation_Office/Administrative Support', 'occupation_Production/Assembly', 'occupation_Protective Services', 'occupation_Repair/Maintenance', 'occupation_Sales', 'occupation_Science, Engineering, Technology', 'occupation_Service/Hospitality', 'occupation_Transport'], ['sex_Female', 'sex_Male'], ['gave birth this year_No', 'gave birth this year_Yes']]\n",
      "Fitting 5 folds for each of 116 candidates, totalling 580 fits\n",
      "Fitting 5 folds for each of 116 candidates, totalling 580 fits\n",
      "Fitting 5 folds for each of 116 candidates, totalling 580 fits\n",
      "Fitting 5 folds for each of 116 candidates, totalling 580 fits\n",
      "Fitting 5 folds for each of 116 candidates, totalling 580 fits\n",
      "Fitting 5 folds for each of 116 candidates, totalling 580 fits\n",
      "Best subset: ['education', 'marital status_Divorced', 'marital status_Husband', 'marital status_Never married', 'marital status_Separated', 'marital status_Widowed', 'marital status_Wife', 'workinghours', 'occupation_Construction/Extraction', 'occupation_Counseling/Mental Health Services', 'occupation_Education', 'occupation_Entertainment', 'occupation_Farming, Fishing, Forestry', 'occupation_Finance/Accounting', 'occupation_Healthcare/Medical Services', 'occupation_Legal Services', 'occupation_Management/Business', 'occupation_Military Services', 'occupation_Office/Administrative Support', 'occupation_Production/Assembly', 'occupation_Protective Services', 'occupation_Repair/Maintenance', 'occupation_Sales', 'occupation_Science, Engineering, Technology', 'occupation_Service/Hospitality', 'occupation_Transport']\n",
      "Remaining features: [['age'], ['ability to speak english'], ['workclass_governmental', 'workclass_no paid work', 'workclass_private', 'workclass_self employed'], ['sex_Female', 'sex_Male'], ['gave birth this year_No', 'gave birth this year_Yes']]\n",
      "Fitting 5 folds for each of 116 candidates, totalling 580 fits\n",
      "Fitting 5 folds for each of 116 candidates, totalling 580 fits\n",
      "Fitting 5 folds for each of 116 candidates, totalling 580 fits\n",
      "Fitting 5 folds for each of 116 candidates, totalling 580 fits\n",
      "Fitting 5 folds for each of 116 candidates, totalling 580 fits\n",
      "Best subset: ['education', 'marital status_Divorced', 'marital status_Husband', 'marital status_Never married', 'marital status_Separated', 'marital status_Widowed', 'marital status_Wife', 'workinghours', 'occupation_Construction/Extraction', 'occupation_Counseling/Mental Health Services', 'occupation_Education', 'occupation_Entertainment', 'occupation_Farming, Fishing, Forestry', 'occupation_Finance/Accounting', 'occupation_Healthcare/Medical Services', 'occupation_Legal Services', 'occupation_Management/Business', 'occupation_Military Services', 'occupation_Office/Administrative Support', 'occupation_Production/Assembly', 'occupation_Protective Services', 'occupation_Repair/Maintenance', 'occupation_Sales', 'occupation_Science, Engineering, Technology', 'occupation_Service/Hospitality', 'occupation_Transport', 'gave birth this year_No', 'gave birth this year_Yes']\n",
      "Remaining features: [['age'], ['ability to speak english'], ['workclass_governmental', 'workclass_no paid work', 'workclass_private', 'workclass_self employed'], ['sex_Female', 'sex_Male']]\n",
      "Fitting 5 folds for each of 116 candidates, totalling 580 fits\n",
      "Fitting 5 folds for each of 116 candidates, totalling 580 fits\n",
      "Fitting 5 folds for each of 116 candidates, totalling 580 fits\n",
      "Fitting 5 folds for each of 116 candidates, totalling 580 fits\n",
      "Best subset: ['education', 'marital status_Divorced', 'marital status_Husband', 'marital status_Never married', 'marital status_Separated', 'marital status_Widowed', 'marital status_Wife', 'workinghours', 'occupation_Construction/Extraction', 'occupation_Counseling/Mental Health Services', 'occupation_Education', 'occupation_Entertainment', 'occupation_Farming, Fishing, Forestry', 'occupation_Finance/Accounting', 'occupation_Healthcare/Medical Services', 'occupation_Legal Services', 'occupation_Management/Business', 'occupation_Military Services', 'occupation_Office/Administrative Support', 'occupation_Production/Assembly', 'occupation_Protective Services', 'occupation_Repair/Maintenance', 'occupation_Sales', 'occupation_Science, Engineering, Technology', 'occupation_Service/Hospitality', 'occupation_Transport', 'gave birth this year_No', 'gave birth this year_Yes']\n",
      "Remaining features: [['age'], ['ability to speak english'], ['workclass_governmental', 'workclass_no paid work', 'workclass_private', 'workclass_self employed'], ['sex_Female', 'sex_Male']]\n",
      "Best subset of features: ['education', 'marital status_Divorced', 'marital status_Husband', 'marital status_Never married', 'marital status_Separated', 'marital status_Widowed', 'marital status_Wife', 'workinghours', 'occupation_Construction/Extraction', 'occupation_Counseling/Mental Health Services', 'occupation_Education', 'occupation_Entertainment', 'occupation_Farming, Fishing, Forestry', 'occupation_Finance/Accounting', 'occupation_Healthcare/Medical Services', 'occupation_Legal Services', 'occupation_Management/Business', 'occupation_Military Services', 'occupation_Office/Administrative Support', 'occupation_Production/Assembly', 'occupation_Protective Services', 'occupation_Repair/Maintenance', 'occupation_Sales', 'occupation_Science, Engineering, Technology', 'occupation_Service/Hospitality', 'occupation_Transport', 'gave birth this year_No', 'gave birth this year_Yes']\n",
      "Best hyperparameters: {'n_neighbors': 27, 'p': 1, 'weights': 'uniform'}\n",
      "Best model accuracy: 0.7827777777777778\n",
      "              precision    recall  f1-score   support\n",
      "\n",
      "           0       0.82      0.84      0.83      1175\n",
      "           1       0.69      0.65      0.67       625\n",
      "\n",
      "    accuracy                           0.78      1800\n",
      "   macro avg       0.75      0.75      0.75      1800\n",
      "weighted avg       0.77      0.78      0.77      1800\n"
     ]
    },
    {
     "ename": "ValueError",
     "evalue": "The feature names should match those that were passed during fit.\nFeature names unseen at fit time:\n- ability to speak english\n- age\n- sex_Female\n- sex_Male\n- workclass_governmental\n- ...\n",
     "output_type": "error",
     "traceback": [
      "\u001B[1;31m---------------------------------------------------------------------------\u001B[0m",
      "\u001B[1;31mValueError\u001B[0m                                Traceback (most recent call last)",
      "Cell \u001B[1;32mIn[21], line 17\u001B[0m\n\u001B[0;32m     13\u001B[0m final_model_accuracy \u001B[38;5;241m=\u001B[39m accuracy_score(y_test, final_model_preds)\n\u001B[0;32m     15\u001B[0m \u001B[38;5;28mprint\u001B[39m(classification_report(y_test, final_model_preds))\n\u001B[1;32m---> 17\u001B[0m \u001B[43mprint_male_female_metrics\u001B[49m\u001B[43m(\u001B[49m\u001B[43mfinal_model\u001B[49m\u001B[43m,\u001B[49m\u001B[43m \u001B[49m\u001B[43mX\u001B[49m\u001B[43m,\u001B[49m\u001B[43m \u001B[49m\u001B[43mX_male\u001B[49m\u001B[43m,\u001B[49m\u001B[43m \u001B[49m\u001B[43mX_female\u001B[49m\u001B[43m,\u001B[49m\u001B[43m \u001B[49m\u001B[43mX_test\u001B[49m\u001B[43m,\u001B[49m\u001B[43m \u001B[49m\u001B[43my_test\u001B[49m\u001B[43m)\u001B[49m\n",
      "File \u001B[1;32mF:\\PyCharmProjects\\DataMining\\Assignment2\\src\\helper\\fairness_functions.py:184\u001B[0m, in \u001B[0;36mprint_male_female_metrics\u001B[1;34m(model, X_, X_male, X_female, X_test_, y_test_)\u001B[0m\n\u001B[0;32m    178\u001B[0m \u001B[38;5;28;01mdef\u001B[39;00m \u001B[38;5;21mprint_male_female_metrics\u001B[39m(model: \u001B[38;5;28many\u001B[39m, X_: pd\u001B[38;5;241m.\u001B[39mDataFrame, X_male: pd\u001B[38;5;241m.\u001B[39mDataFrame, X_female: pd\u001B[38;5;241m.\u001B[39mDataFrame, X_test_: pd\u001B[38;5;241m.\u001B[39mDataFrame, y_test_: pd\u001B[38;5;241m.\u001B[39mSeries) \u001B[38;5;241m-\u001B[39m\u001B[38;5;241m>\u001B[39m \u001B[38;5;28;01mNone\u001B[39;00m:\n\u001B[0;32m    179\u001B[0m \u001B[38;5;250m    \u001B[39m\u001B[38;5;124;03m\"\"\"\u001B[39;00m\n\u001B[0;32m    180\u001B[0m \u001B[38;5;124;03m    Print the fairness metrics FPR and TPR for males and females, together with the statistical measures.\u001B[39;00m\n\u001B[0;32m    181\u001B[0m \u001B[38;5;124;03m    :param model: the trained model\u001B[39;00m\n\u001B[0;32m    182\u001B[0m \u001B[38;5;124;03m    :param X_: the original dataset without the target\u001B[39;00m\n\u001B[0;32m    183\u001B[0m \u001B[38;5;124;03m    :param X_male: the original dataset without the target, only males\u001B[39;00m\n\u001B[1;32m--> 184\u001B[0m \u001B[38;5;124;03m    :param X_female: the original dataset without the target, only females\u001B[39;00m\n\u001B[0;32m    185\u001B[0m \u001B[38;5;124;03m    :param X_test_: the test set features\u001B[39;00m\n\u001B[0;32m    186\u001B[0m \u001B[38;5;124;03m    :param y_test_: the test set target\u001B[39;00m\n\u001B[0;32m    187\u001B[0m \u001B[38;5;124;03m    :return:\u001B[39;00m\n\u001B[0;32m    188\u001B[0m \u001B[38;5;124;03m    \"\"\"\u001B[39;00m\n\u001B[0;32m    190\u001B[0m     X_male_test, y_male_test, X_female_test, y_female_test \u001B[38;5;241m=\u001B[39m get_male_female_test_data(X_male, X_female, X_test_,\n\u001B[0;32m    191\u001B[0m                                                                                        y_test_)\n\u001B[0;32m    192\u001B[0m     split_testsets \u001B[38;5;241m=\u001B[39m [X_male_test, y_male_test, X_female_test, y_female_test]\n",
      "File \u001B[1;32mF:\\PyCharmProjects\\DataMining\\Assignment2\\src\\helper\\fairness_functions.py:147\u001B[0m, in \u001B[0;36msplit_male_female_metrics\u001B[1;34m(model, X_test, y_test, print_metrics, split_testsets)\u001B[0m\n\u001B[0;32m    144\u001B[0m     X_female_test \u001B[38;5;241m=\u001B[39m split_testsets[\u001B[38;5;241m2\u001B[39m]\n\u001B[0;32m    145\u001B[0m     y_female_test \u001B[38;5;241m=\u001B[39m split_testsets[\u001B[38;5;241m3\u001B[39m]\n\u001B[1;32m--> 147\u001B[0m y_male_pred \u001B[38;5;241m=\u001B[39m \u001B[43mmodel\u001B[49m\u001B[38;5;241;43m.\u001B[39;49m\u001B[43mpredict\u001B[49m\u001B[43m(\u001B[49m\u001B[43mX_male_test\u001B[49m\u001B[43m)\u001B[49m\n\u001B[0;32m    148\u001B[0m y_female_pred \u001B[38;5;241m=\u001B[39m model\u001B[38;5;241m.\u001B[39mpredict(X_female_test)\n\u001B[0;32m    150\u001B[0m male_accuracy, male_precision, male_recall, male_f1 \u001B[38;5;241m=\u001B[39m get_metrics(y_male_test, y_male_pred)\n",
      "File \u001B[1;32mF:\\PyCharmProjects\\DataMining\\.venv\\Lib\\site-packages\\sklearn\\neighbors\\_classification.py:271\u001B[0m, in \u001B[0;36mKNeighborsClassifier.predict\u001B[1;34m(self, X)\u001B[0m\n\u001B[0;32m    268\u001B[0m         \u001B[38;5;28;01mreturn\u001B[39;00m \u001B[38;5;28mself\u001B[39m\u001B[38;5;241m.\u001B[39mclasses_[np\u001B[38;5;241m.\u001B[39margmax(probabilities, axis\u001B[38;5;241m=\u001B[39m\u001B[38;5;241m1\u001B[39m)]\n\u001B[0;32m    269\u001B[0m     \u001B[38;5;66;03m# In that case, we do not need the distances to perform\u001B[39;00m\n\u001B[0;32m    270\u001B[0m     \u001B[38;5;66;03m# the weighting so we do not compute them.\u001B[39;00m\n\u001B[1;32m--> 271\u001B[0m     neigh_ind \u001B[38;5;241m=\u001B[39m \u001B[38;5;28;43mself\u001B[39;49m\u001B[38;5;241;43m.\u001B[39;49m\u001B[43mkneighbors\u001B[49m\u001B[43m(\u001B[49m\u001B[43mX\u001B[49m\u001B[43m,\u001B[49m\u001B[43m \u001B[49m\u001B[43mreturn_distance\u001B[49m\u001B[38;5;241;43m=\u001B[39;49m\u001B[38;5;28;43;01mFalse\u001B[39;49;00m\u001B[43m)\u001B[49m\n\u001B[0;32m    272\u001B[0m     neigh_dist \u001B[38;5;241m=\u001B[39m \u001B[38;5;28;01mNone\u001B[39;00m\n\u001B[0;32m    273\u001B[0m \u001B[38;5;28;01melse\u001B[39;00m:\n",
      "File \u001B[1;32mF:\\PyCharmProjects\\DataMining\\.venv\\Lib\\site-packages\\sklearn\\neighbors\\_base.py:826\u001B[0m, in \u001B[0;36mKNeighborsMixin.kneighbors\u001B[1;34m(self, X, n_neighbors, return_distance)\u001B[0m\n\u001B[0;32m    824\u001B[0m         X \u001B[38;5;241m=\u001B[39m _check_precomputed(X)\n\u001B[0;32m    825\u001B[0m     \u001B[38;5;28;01melse\u001B[39;00m:\n\u001B[1;32m--> 826\u001B[0m         X \u001B[38;5;241m=\u001B[39m \u001B[38;5;28;43mself\u001B[39;49m\u001B[38;5;241;43m.\u001B[39;49m\u001B[43m_validate_data\u001B[49m\u001B[43m(\u001B[49m\u001B[43mX\u001B[49m\u001B[43m,\u001B[49m\u001B[43m \u001B[49m\u001B[43maccept_sparse\u001B[49m\u001B[38;5;241;43m=\u001B[39;49m\u001B[38;5;124;43m\"\u001B[39;49m\u001B[38;5;124;43mcsr\u001B[39;49m\u001B[38;5;124;43m\"\u001B[39;49m\u001B[43m,\u001B[49m\u001B[43m \u001B[49m\u001B[43mreset\u001B[49m\u001B[38;5;241;43m=\u001B[39;49m\u001B[38;5;28;43;01mFalse\u001B[39;49;00m\u001B[43m,\u001B[49m\u001B[43m \u001B[49m\u001B[43morder\u001B[49m\u001B[38;5;241;43m=\u001B[39;49m\u001B[38;5;124;43m\"\u001B[39;49m\u001B[38;5;124;43mC\u001B[39;49m\u001B[38;5;124;43m\"\u001B[39;49m\u001B[43m)\u001B[49m\n\u001B[0;32m    828\u001B[0m n_samples_fit \u001B[38;5;241m=\u001B[39m \u001B[38;5;28mself\u001B[39m\u001B[38;5;241m.\u001B[39mn_samples_fit_\n\u001B[0;32m    829\u001B[0m \u001B[38;5;28;01mif\u001B[39;00m n_neighbors \u001B[38;5;241m>\u001B[39m n_samples_fit:\n",
      "File \u001B[1;32mF:\\PyCharmProjects\\DataMining\\.venv\\Lib\\site-packages\\sklearn\\base.py:608\u001B[0m, in \u001B[0;36mBaseEstimator._validate_data\u001B[1;34m(self, X, y, reset, validate_separately, cast_to_ndarray, **check_params)\u001B[0m\n\u001B[0;32m    537\u001B[0m \u001B[38;5;28;01mdef\u001B[39;00m \u001B[38;5;21m_validate_data\u001B[39m(\n\u001B[0;32m    538\u001B[0m     \u001B[38;5;28mself\u001B[39m,\n\u001B[0;32m    539\u001B[0m     X\u001B[38;5;241m=\u001B[39m\u001B[38;5;124m\"\u001B[39m\u001B[38;5;124mno_validation\u001B[39m\u001B[38;5;124m\"\u001B[39m,\n\u001B[1;32m   (...)\u001B[0m\n\u001B[0;32m    544\u001B[0m     \u001B[38;5;241m*\u001B[39m\u001B[38;5;241m*\u001B[39mcheck_params,\n\u001B[0;32m    545\u001B[0m ):\n\u001B[0;32m    546\u001B[0m \u001B[38;5;250m    \u001B[39m\u001B[38;5;124;03m\"\"\"Validate input data and set or check the `n_features_in_` attribute.\u001B[39;00m\n\u001B[0;32m    547\u001B[0m \n\u001B[0;32m    548\u001B[0m \u001B[38;5;124;03m    Parameters\u001B[39;00m\n\u001B[1;32m   (...)\u001B[0m\n\u001B[0;32m    606\u001B[0m \u001B[38;5;124;03m        validated.\u001B[39;00m\n\u001B[0;32m    607\u001B[0m \u001B[38;5;124;03m    \"\"\"\u001B[39;00m\n\u001B[1;32m--> 608\u001B[0m     \u001B[38;5;28;43mself\u001B[39;49m\u001B[38;5;241;43m.\u001B[39;49m\u001B[43m_check_feature_names\u001B[49m\u001B[43m(\u001B[49m\u001B[43mX\u001B[49m\u001B[43m,\u001B[49m\u001B[43m \u001B[49m\u001B[43mreset\u001B[49m\u001B[38;5;241;43m=\u001B[39;49m\u001B[43mreset\u001B[49m\u001B[43m)\u001B[49m\n\u001B[0;32m    610\u001B[0m     \u001B[38;5;28;01mif\u001B[39;00m y \u001B[38;5;129;01mis\u001B[39;00m \u001B[38;5;28;01mNone\u001B[39;00m \u001B[38;5;129;01mand\u001B[39;00m \u001B[38;5;28mself\u001B[39m\u001B[38;5;241m.\u001B[39m_get_tags()[\u001B[38;5;124m\"\u001B[39m\u001B[38;5;124mrequires_y\u001B[39m\u001B[38;5;124m\"\u001B[39m]:\n\u001B[0;32m    611\u001B[0m         \u001B[38;5;28;01mraise\u001B[39;00m \u001B[38;5;167;01mValueError\u001B[39;00m(\n\u001B[0;32m    612\u001B[0m             \u001B[38;5;124mf\u001B[39m\u001B[38;5;124m\"\u001B[39m\u001B[38;5;124mThis \u001B[39m\u001B[38;5;132;01m{\u001B[39;00m\u001B[38;5;28mself\u001B[39m\u001B[38;5;241m.\u001B[39m\u001B[38;5;18m__class__\u001B[39m\u001B[38;5;241m.\u001B[39m\u001B[38;5;18m__name__\u001B[39m\u001B[38;5;132;01m}\u001B[39;00m\u001B[38;5;124m estimator \u001B[39m\u001B[38;5;124m\"\u001B[39m\n\u001B[0;32m    613\u001B[0m             \u001B[38;5;124m\"\u001B[39m\u001B[38;5;124mrequires y to be passed, but the target y is None.\u001B[39m\u001B[38;5;124m\"\u001B[39m\n\u001B[0;32m    614\u001B[0m         )\n",
      "File \u001B[1;32mF:\\PyCharmProjects\\DataMining\\.venv\\Lib\\site-packages\\sklearn\\base.py:535\u001B[0m, in \u001B[0;36mBaseEstimator._check_feature_names\u001B[1;34m(self, X, reset)\u001B[0m\n\u001B[0;32m    530\u001B[0m \u001B[38;5;28;01mif\u001B[39;00m \u001B[38;5;129;01mnot\u001B[39;00m missing_names \u001B[38;5;129;01mand\u001B[39;00m \u001B[38;5;129;01mnot\u001B[39;00m unexpected_names:\n\u001B[0;32m    531\u001B[0m     message \u001B[38;5;241m+\u001B[39m\u001B[38;5;241m=\u001B[39m (\n\u001B[0;32m    532\u001B[0m         \u001B[38;5;124m\"\u001B[39m\u001B[38;5;124mFeature names must be in the same order as they were in fit.\u001B[39m\u001B[38;5;130;01m\\n\u001B[39;00m\u001B[38;5;124m\"\u001B[39m\n\u001B[0;32m    533\u001B[0m     )\n\u001B[1;32m--> 535\u001B[0m \u001B[38;5;28;01mraise\u001B[39;00m \u001B[38;5;167;01mValueError\u001B[39;00m(message)\n",
      "\u001B[1;31mValueError\u001B[0m: The feature names should match those that were passed during fit.\nFeature names unseen at fit time:\n- ability to speak english\n- age\n- sex_Female\n- sex_Male\n- workclass_governmental\n- ...\n"
     ]
    }
   ],
   "source": [
    "# Forward feature selection with hyperparameter tuning\n",
    "if True:\n",
    "    best_subset, best_params, best_score = forward_feat_selection_hypertuning(KNeighborsClassifier(), param_grid, X_train, y_train, X_test, y_test)\n",
    "    \n",
    "    print(\"Best subset of features:\", best_subset)\n",
    "    print(\"Best hyperparameters:\", best_params)\n",
    "    print(\"Best model accuracy:\", best_score)\n",
    "    \n",
    "    # Use the best subset and best hyperparameters for final model\n",
    "    final_model = KNeighborsClassifier(**best_params)\n",
    "    final_model.fit(X_train[best_subset], y_train)\n",
    "    final_model_preds = final_model.predict(X_test[best_subset])\n",
    "    final_model_accuracy = accuracy_score(y_test, final_model_preds)\n",
    "    \n",
    "    print(classification_report(y_test, final_model_preds))\n",
    "    \n",
    "    print_male_female_metrics(final_model, X, X_male, X_female, X_test, y_test)"
   ],
   "metadata": {
    "collapsed": false,
    "ExecuteTime": {
     "end_time": "2024-05-01T02:37:05.609782100Z",
     "start_time": "2024-05-01T01:45:23.662209300Z"
    }
   },
   "id": "ef0a2ac8b804d296",
   "execution_count": 21
  },
  {
   "cell_type": "code",
   "outputs": [],
   "source": [
    "# Forward feature selection with hyperparameter tuning\n",
    "if True:\n",
    "    columns_to_exclude = ['sex', 'gave birth this year', 'marital status']\n",
    "    X_train_, X_test_, y_train_, y_test_, X_male, X_female = get_train_test_with_excluded_columns(data, columns_to_exclude)\n",
    "    \n",
    "    best_subset, best_params, best_score = forward_feat_selection_hypertuning(KNeighborsClassifier(), param_grid, X_train_, y_train_, X_test_, y_test_)\n",
    "    \n",
    "    print(\"Best subset of features:\", best_subset)\n",
    "    print(\"Best hyperparameters:\", best_params)\n",
    "    print(\"Best model accuracy:\", best_score)\n",
    "    \n",
    "    # Use the best subset and best hyperparameters for final model\n",
    "    final_model = KNeighborsClassifier(**best_params)\n",
    "    final_model.fit(X_train_[best_subset], y_train_)\n",
    "    final_model_preds = final_model.predict(X_test_[best_subset])\n",
    "    final_model_accuracy = accuracy_score(y_test_, final_model_preds)\n",
    "    \n",
    "    print(classification_report(y_test, final_model_preds))\n",
    "    \n",
    "    print_male_female_metrics(final_model, X, X_male, X_female, X_test_[subset], y_test_)"
   ],
   "metadata": {
    "collapsed": false,
    "ExecuteTime": {
     "end_time": "2024-05-01T02:37:05.623744700Z",
     "start_time": "2024-05-01T02:37:05.611777Z"
    }
   },
   "id": "cc089667a4f851e3"
  },
  {
   "cell_type": "code",
   "outputs": [],
   "source": [
    "if False:\n",
    "    # Define the scorers\n",
    "    scoring = {\"AUC\": \"roc_auc\", \"Accuracy\": make_scorer(accuracy_score)}\n",
    "    \n",
    "    n_neighbours_param_min = 2\n",
    "    n_neighbours_param_max = 31\n",
    "    param_grid = {\"n_neighbors\": range(n_neighbours_param_min, n_neighbours_param_max, 1)}\n",
    "\n",
    "    results = multi_metric_cv(KNeighborsClassifier(p=2), scoring, X_train, y_train, param_grid)\n",
    "    plot_multi_score_cv_results(\"n_neighbors\", n_neighbours_param_min, n_neighbours_param_max, 0.7, 1, results, \"param_n_neighbors\", int, scoring)\n",
    "    \n",
    "    results = multi_metric_cv(KNeighborsClassifier(p=1), scoring, X_train, y_train, param_grid)\n",
    "    plot_multi_score_cv_results(\"n_neighbors\", n_neighbours_param_min, n_neighbours_param_max, 0.7, 1, results, \"param_n_neighbors\", int, scoring)"
   ],
   "metadata": {
    "collapsed": false,
    "ExecuteTime": {
     "start_time": "2024-05-01T02:37:05.614768700Z"
    }
   },
   "id": "4a3cbc8d13122075"
  },
  {
   "cell_type": "markdown",
   "source": [
    "Feature Selection: Ensure that sensitive attributes such as sex are not included as features in the model. This helps prevent the model from directly learning discriminatory patterns based on sensitive attributes."
   ],
   "metadata": {
    "collapsed": false
   },
   "id": "ca92285d6580a173"
  },
  {
   "cell_type": "markdown",
   "source": [
    "Fair Representation: Balance the representation of different groups within the dataset. Ensure that the dataset is representative of the population with respect to sex and other sensitive attributes. This can help mitigate bias in the model's predictions."
   ],
   "metadata": {
    "collapsed": false
   },
   "id": "629aa7c9a8929a30"
  },
  {
   "cell_type": "markdown",
   "source": [
    "Fair Preprocessing: Apply preprocessing techniques that aim to mitigate bias in the dataset. For example, use techniques such as reweighting or resampling to balance the dataset with respect to sensitive attributes.\n",
    "\n",
    "Reweighing:\n",
    "Adjust the weights of instances in your dataset to balance the impact of different groups.\n",
    "Assign higher weights to underrepresented groups (e.g., females) and lower weights to overrepresented groups (e.g., males).\n",
    "This helps reduce bias during model training.\n",
    "Suppression:\n",
    "Remove or suppress the sensitive attribute (‘sex’) from the dataset.\n",
    "Train your model without using this attribute.\n",
    "Note that this approach may lead to information loss, so use it cautiously.\n",
    "Massaging the Dataset:\n",
    "Modify class labels to achieve fairness.\n",
    "For instance, you can swap the labels for different groups (e.g., relabel some ‘male’ instances as ‘female’ and vice versa).\n",
    "This ensures that the model does not learn discriminatory patterns based on the sensitive attribute.\n",
    "Resampling Techniques:\n",
    "Oversample the underrepresented group (e.g., females) or undersample the overrepresented group (e.g., males).\n",
    "This balances the class distribution and reduces bias.\n"
   ],
   "metadata": {
    "collapsed": false
   },
   "id": "b1f7bc109c2e2782"
  },
  {
   "cell_type": "markdown",
   "source": [
    "Model Evaluation: Evaluate the model's performance and fairness across different subgroups defined by sensitive attributes such as sex. Use metrics such as disparate impact ratio, equal opportunity difference, or predictive parity to assess fairness."
   ],
   "metadata": {
    "collapsed": false
   },
   "id": "6a61e1afff765d7f"
  },
  {
   "cell_type": "markdown",
   "source": [
    "### Saving the Model"
   ],
   "metadata": {
    "collapsed": false
   },
   "id": "c2b8808539140c16"
  },
  {
   "cell_type": "code",
   "outputs": [],
   "source": [
    "# Saving the model\n",
    "save_model(final_model, '../output/saved_models/knn_model.joblib')"
   ],
   "metadata": {
    "collapsed": false,
    "ExecuteTime": {
     "start_time": "2024-05-01T02:37:05.616763600Z"
    }
   },
   "id": "6a153de59eafb6a6",
   "execution_count": null
  }
 ],
 "metadata": {
  "kernelspec": {
   "display_name": "Python 3",
   "language": "python",
   "name": "python3"
  },
  "language_info": {
   "codemirror_mode": {
    "name": "ipython",
    "version": 2
   },
   "file_extension": ".py",
   "mimetype": "text/x-python",
   "name": "python",
   "nbconvert_exporter": "python",
   "pygments_lexer": "ipython2",
   "version": "2.7.6"
  }
 },
 "nbformat": 4,
 "nbformat_minor": 5
}
