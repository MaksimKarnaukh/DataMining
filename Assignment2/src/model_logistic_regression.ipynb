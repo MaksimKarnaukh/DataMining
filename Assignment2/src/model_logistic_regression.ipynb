{
 "cells": [
  {
   "cell_type": "code",
   "execution_count": 1,
   "id": "initial_id",
   "metadata": {
    "collapsed": true,
    "ExecuteTime": {
     "end_time": "2024-05-03T18:37:50.054668900Z",
     "start_time": "2024-05-03T18:37:48.637895600Z"
    }
   },
   "outputs": [
    {
     "name": "stderr",
     "output_type": "stream",
     "text": [
      "WARNING:root:No module named 'tensorflow': AdversarialDebiasing will be unavailable. To install, run:\n",
      "pip install 'aif360[AdversarialDebiasing]'\n",
      "WARNING:root:No module named 'tensorflow': AdversarialDebiasing will be unavailable. To install, run:\n",
      "pip install 'aif360[AdversarialDebiasing]'\n",
      "WARNING:root:No module named 'fairlearn': ExponentiatedGradientReduction will be unavailable. To install, run:\n",
      "pip install 'aif360[Reductions]'\n",
      "WARNING:root:No module named 'fairlearn': GridSearchReduction will be unavailable. To install, run:\n",
      "pip install 'aif360[Reductions]'\n",
      "WARNING:root:No module named 'inFairness': SenSeI and SenSR will be unavailable. To install, run:\n",
      "pip install 'aif360[inFairness]'\n",
      "WARNING:root:No module named 'fairlearn': GridSearchReduction will be unavailable. To install, run:\n",
      "pip install 'aif360[Reductions]'\n",
      "WARNING:root:No module named 'ot': ot_distance will be unavailable. To install, run:\n",
      "pip install 'aif360[OptimalTransport]'\n"
     ]
    }
   ],
   "source": [
    "import warnings\n",
    "warnings.filterwarnings(\"ignore\")\n",
    "\n",
    "import pandas as pd\n",
    "\n",
    "from helper.helper_functions import load_dataset, save_model, get_features_and_target, encode_all_features, get_train_test_with_excluded_columns\n",
    "from helper.clfmodel_functions import tune_model, forward_feat_selection_hypertuning\n",
    "\n",
    "from helper.fairness_functions import print_male_female_metrics, get_male_female_data\n",
    "\n",
    "from sklearn.model_selection import train_test_split\n",
    "from sklearn.metrics import accuracy_score, classification_report\n",
    "from sklearn.linear_model import LogisticRegression\n",
    "from sklearn.ensemble import AdaBoostClassifier\n",
    "from sklearn.inspection import permutation_importance"
   ]
  },
  {
   "cell_type": "markdown",
   "source": [
    "### Loading the cleaned dataset"
   ],
   "metadata": {
    "collapsed": false
   },
   "id": "ced45577f2a46d2"
  },
  {
   "cell_type": "code",
   "outputs": [],
   "source": [
    "data: pd.DataFrame = load_dataset('../data/assignment2_income_cleaned.xlsx')"
   ],
   "metadata": {
    "collapsed": false,
    "ExecuteTime": {
     "end_time": "2024-05-03T18:38:15.407066800Z",
     "start_time": "2024-05-03T18:37:50.046690800Z"
    }
   },
   "id": "573b15a0c08becd2",
   "execution_count": 2
  },
  {
   "cell_type": "markdown",
   "source": [
    "### Feature Engineering (encoding) & Train-Test Split"
   ],
   "metadata": {
    "collapsed": false
   },
   "id": "4f6c12ebae36d3b9"
  },
  {
   "cell_type": "code",
   "outputs": [],
   "source": [
    "# Splitting the data into features (X) and target (y)\n",
    "X, y = get_features_and_target(data, 'income')\n",
    "X_male, X_female = get_male_female_data(X, False)\n",
    "# Encoding the features and target\n",
    "X_encoded, y_encoded = encode_all_features(X, y, [])\n",
    "X_train, X_test, y_train, y_test = train_test_split(X_encoded, y_encoded, test_size=0.2, random_state=42)"
   ],
   "metadata": {
    "collapsed": false,
    "ExecuteTime": {
     "end_time": "2024-05-03T18:38:15.408064300Z",
     "start_time": "2024-05-03T18:38:05.454322800Z"
    }
   },
   "id": "83fc7449a1cf23ea",
   "execution_count": 3
  },
  {
   "cell_type": "code",
   "outputs": [
    {
     "data": {
      "text/plain": "      age  education  workinghours  ability to speak english  \\\n6317   22         16            36                         0   \n740    61         22            40                         1   \n3781   48         16            40                         0   \n7850   62         18            65                         0   \n2963   53         19            44                         0   \n...   ...        ...           ...                       ...   \n5734   22         19            25                         0   \n5191   24         16            28                         0   \n5390   35         16            40                         0   \n860    23         20            40                         0   \n7270   70         19            40                         0   \n\n      occupation_Construction/Extraction  \\\n6317                                   0   \n740                                    0   \n3781                                   0   \n7850                                   0   \n2963                                   0   \n...                                  ...   \n5734                                   0   \n5191                                   0   \n5390                                   0   \n860                                    0   \n7270                                   0   \n\n      occupation_Counseling/Mental Health Services  occupation_Education  \\\n6317                                             0                     0   \n740                                              0                     0   \n3781                                             0                     0   \n7850                                             0                     0   \n2963                                             0                     0   \n...                                            ...                   ...   \n5734                                             0                     0   \n5191                                             0                     0   \n5390                                             0                     0   \n860                                              0                     0   \n7270                                             0                     0   \n\n      occupation_Entertainment  occupation_Farming, Fishing, Forestry  \\\n6317                         0                                      0   \n740                          0                                      0   \n3781                         0                                      0   \n7850                         0                                      0   \n2963                         0                                      0   \n...                        ...                                    ...   \n5734                         0                                      0   \n5191                         0                                      0   \n5390                         0                                      0   \n860                          0                                      0   \n7270                         0                                      0   \n\n      occupation_Finance/Accounting  ...  marital status_Widowed  \\\n6317                              0  ...                       0   \n740                               0  ...                       0   \n3781                              0  ...                       0   \n7850                              0  ...                       0   \n2963                              0  ...                       0   \n...                             ...  ...                     ...   \n5734                              0  ...                       0   \n5191                              0  ...                       0   \n5390                              0  ...                       0   \n860                               0  ...                       0   \n7270                              0  ...                       0   \n\n      marital status_Wife  gave birth this year_No  gave birth this year_Yes  \\\n6317                    0                        1                         0   \n740                     0                        1                         0   \n3781                    0                        1                         0   \n7850                    0                        1                         0   \n2963                    0                        1                         0   \n...                   ...                      ...                       ...   \n5734                    0                        1                         0   \n5191                    0                        1                         0   \n5390                    0                        1                         0   \n860                     0                        1                         0   \n7270                    0                        1                         0   \n\n      sex_Female  sex_Male  workclass_governmental  workclass_no paid work  \\\n6317           0         1                       0                       0   \n740            0         1                       0                       0   \n3781           1         0                       0                       0   \n7850           0         1                       0                       0   \n2963           1         0                       1                       0   \n...          ...       ...                     ...                     ...   \n5734           1         0                       0                       0   \n5191           1         0                       0                       0   \n5390           0         1                       0                       0   \n860            0         1                       0                       0   \n7270           1         0                       0                       1   \n\n      workclass_private  workclass_self employed  \n6317                  1                        0  \n740                   0                        1  \n3781                  1                        0  \n7850                  1                        0  \n2963                  0                        0  \n...                 ...                      ...  \n5734                  1                        0  \n5191                  1                        0  \n5390                  1                        0  \n860                   1                        0  \n7270                  0                        0  \n\n[7200 rows x 36 columns]",
      "text/html": "<div>\n<style scoped>\n    .dataframe tbody tr th:only-of-type {\n        vertical-align: middle;\n    }\n\n    .dataframe tbody tr th {\n        vertical-align: top;\n    }\n\n    .dataframe thead th {\n        text-align: right;\n    }\n</style>\n<table border=\"1\" class=\"dataframe\">\n  <thead>\n    <tr style=\"text-align: right;\">\n      <th></th>\n      <th>age</th>\n      <th>education</th>\n      <th>workinghours</th>\n      <th>ability to speak english</th>\n      <th>occupation_Construction/Extraction</th>\n      <th>occupation_Counseling/Mental Health Services</th>\n      <th>occupation_Education</th>\n      <th>occupation_Entertainment</th>\n      <th>occupation_Farming, Fishing, Forestry</th>\n      <th>occupation_Finance/Accounting</th>\n      <th>...</th>\n      <th>marital status_Widowed</th>\n      <th>marital status_Wife</th>\n      <th>gave birth this year_No</th>\n      <th>gave birth this year_Yes</th>\n      <th>sex_Female</th>\n      <th>sex_Male</th>\n      <th>workclass_governmental</th>\n      <th>workclass_no paid work</th>\n      <th>workclass_private</th>\n      <th>workclass_self employed</th>\n    </tr>\n  </thead>\n  <tbody>\n    <tr>\n      <th>6317</th>\n      <td>22</td>\n      <td>16</td>\n      <td>36</td>\n      <td>0</td>\n      <td>0</td>\n      <td>0</td>\n      <td>0</td>\n      <td>0</td>\n      <td>0</td>\n      <td>0</td>\n      <td>...</td>\n      <td>0</td>\n      <td>0</td>\n      <td>1</td>\n      <td>0</td>\n      <td>0</td>\n      <td>1</td>\n      <td>0</td>\n      <td>0</td>\n      <td>1</td>\n      <td>0</td>\n    </tr>\n    <tr>\n      <th>740</th>\n      <td>61</td>\n      <td>22</td>\n      <td>40</td>\n      <td>1</td>\n      <td>0</td>\n      <td>0</td>\n      <td>0</td>\n      <td>0</td>\n      <td>0</td>\n      <td>0</td>\n      <td>...</td>\n      <td>0</td>\n      <td>0</td>\n      <td>1</td>\n      <td>0</td>\n      <td>0</td>\n      <td>1</td>\n      <td>0</td>\n      <td>0</td>\n      <td>0</td>\n      <td>1</td>\n    </tr>\n    <tr>\n      <th>3781</th>\n      <td>48</td>\n      <td>16</td>\n      <td>40</td>\n      <td>0</td>\n      <td>0</td>\n      <td>0</td>\n      <td>0</td>\n      <td>0</td>\n      <td>0</td>\n      <td>0</td>\n      <td>...</td>\n      <td>0</td>\n      <td>0</td>\n      <td>1</td>\n      <td>0</td>\n      <td>1</td>\n      <td>0</td>\n      <td>0</td>\n      <td>0</td>\n      <td>1</td>\n      <td>0</td>\n    </tr>\n    <tr>\n      <th>7850</th>\n      <td>62</td>\n      <td>18</td>\n      <td>65</td>\n      <td>0</td>\n      <td>0</td>\n      <td>0</td>\n      <td>0</td>\n      <td>0</td>\n      <td>0</td>\n      <td>0</td>\n      <td>...</td>\n      <td>0</td>\n      <td>0</td>\n      <td>1</td>\n      <td>0</td>\n      <td>0</td>\n      <td>1</td>\n      <td>0</td>\n      <td>0</td>\n      <td>1</td>\n      <td>0</td>\n    </tr>\n    <tr>\n      <th>2963</th>\n      <td>53</td>\n      <td>19</td>\n      <td>44</td>\n      <td>0</td>\n      <td>0</td>\n      <td>0</td>\n      <td>0</td>\n      <td>0</td>\n      <td>0</td>\n      <td>0</td>\n      <td>...</td>\n      <td>0</td>\n      <td>0</td>\n      <td>1</td>\n      <td>0</td>\n      <td>1</td>\n      <td>0</td>\n      <td>1</td>\n      <td>0</td>\n      <td>0</td>\n      <td>0</td>\n    </tr>\n    <tr>\n      <th>...</th>\n      <td>...</td>\n      <td>...</td>\n      <td>...</td>\n      <td>...</td>\n      <td>...</td>\n      <td>...</td>\n      <td>...</td>\n      <td>...</td>\n      <td>...</td>\n      <td>...</td>\n      <td>...</td>\n      <td>...</td>\n      <td>...</td>\n      <td>...</td>\n      <td>...</td>\n      <td>...</td>\n      <td>...</td>\n      <td>...</td>\n      <td>...</td>\n      <td>...</td>\n      <td>...</td>\n    </tr>\n    <tr>\n      <th>5734</th>\n      <td>22</td>\n      <td>19</td>\n      <td>25</td>\n      <td>0</td>\n      <td>0</td>\n      <td>0</td>\n      <td>0</td>\n      <td>0</td>\n      <td>0</td>\n      <td>0</td>\n      <td>...</td>\n      <td>0</td>\n      <td>0</td>\n      <td>1</td>\n      <td>0</td>\n      <td>1</td>\n      <td>0</td>\n      <td>0</td>\n      <td>0</td>\n      <td>1</td>\n      <td>0</td>\n    </tr>\n    <tr>\n      <th>5191</th>\n      <td>24</td>\n      <td>16</td>\n      <td>28</td>\n      <td>0</td>\n      <td>0</td>\n      <td>0</td>\n      <td>0</td>\n      <td>0</td>\n      <td>0</td>\n      <td>0</td>\n      <td>...</td>\n      <td>0</td>\n      <td>0</td>\n      <td>1</td>\n      <td>0</td>\n      <td>1</td>\n      <td>0</td>\n      <td>0</td>\n      <td>0</td>\n      <td>1</td>\n      <td>0</td>\n    </tr>\n    <tr>\n      <th>5390</th>\n      <td>35</td>\n      <td>16</td>\n      <td>40</td>\n      <td>0</td>\n      <td>0</td>\n      <td>0</td>\n      <td>0</td>\n      <td>0</td>\n      <td>0</td>\n      <td>0</td>\n      <td>...</td>\n      <td>0</td>\n      <td>0</td>\n      <td>1</td>\n      <td>0</td>\n      <td>0</td>\n      <td>1</td>\n      <td>0</td>\n      <td>0</td>\n      <td>1</td>\n      <td>0</td>\n    </tr>\n    <tr>\n      <th>860</th>\n      <td>23</td>\n      <td>20</td>\n      <td>40</td>\n      <td>0</td>\n      <td>0</td>\n      <td>0</td>\n      <td>0</td>\n      <td>0</td>\n      <td>0</td>\n      <td>0</td>\n      <td>...</td>\n      <td>0</td>\n      <td>0</td>\n      <td>1</td>\n      <td>0</td>\n      <td>0</td>\n      <td>1</td>\n      <td>0</td>\n      <td>0</td>\n      <td>1</td>\n      <td>0</td>\n    </tr>\n    <tr>\n      <th>7270</th>\n      <td>70</td>\n      <td>19</td>\n      <td>40</td>\n      <td>0</td>\n      <td>0</td>\n      <td>0</td>\n      <td>0</td>\n      <td>0</td>\n      <td>0</td>\n      <td>0</td>\n      <td>...</td>\n      <td>0</td>\n      <td>0</td>\n      <td>1</td>\n      <td>0</td>\n      <td>1</td>\n      <td>0</td>\n      <td>0</td>\n      <td>1</td>\n      <td>0</td>\n      <td>0</td>\n    </tr>\n  </tbody>\n</table>\n<p>7200 rows × 36 columns</p>\n</div>"
     },
     "execution_count": 4,
     "metadata": {},
     "output_type": "execute_result"
    }
   ],
   "source": [
    "X_train"
   ],
   "metadata": {
    "collapsed": false,
    "ExecuteTime": {
     "end_time": "2024-05-03T18:38:15.411056100Z",
     "start_time": "2024-05-03T18:38:05.454322800Z"
    }
   },
   "id": "fe2ec2747880d68e",
   "execution_count": 4
  },
  {
   "cell_type": "markdown",
   "source": [
    "### Model\n",
    "\n",
    "Here, we quickly train and evaluate a Logistic Regression model with random parameters for demonstration."
   ],
   "metadata": {
    "collapsed": false
   },
   "id": "bfc5f29026270e84"
  },
  {
   "cell_type": "code",
   "outputs": [
    {
     "name": "stdout",
     "output_type": "stream",
     "text": [
      "              precision    recall  f1-score   support\n",
      "\n",
      "           0       0.82      0.87      0.85      1175\n",
      "           1       0.73      0.64      0.68       625\n",
      "\n",
      "    accuracy                           0.79      1800\n",
      "   macro avg       0.77      0.76      0.76      1800\n",
      "weighted avg       0.79      0.79      0.79      1800\n",
      "\n",
      "Logistic Regression Accuracy: 0.7922222222222223\n"
     ]
    }
   ],
   "source": [
    "# Logistic Regression model\n",
    "lr_model = LogisticRegression(max_iter=2000)\n",
    "lr_model.fit(X_train, y_train)\n",
    "lr_preds = lr_model.predict(X_test)\n",
    "lr_accuracy = accuracy_score(y_test, lr_preds)\n",
    "\n",
    "print(classification_report(y_test, lr_preds))\n",
    "print(\"Logistic Regression Accuracy:\", lr_accuracy)"
   ],
   "metadata": {
    "collapsed": false,
    "ExecuteTime": {
     "end_time": "2024-05-03T18:38:15.427522500Z",
     "start_time": "2024-05-03T18:38:05.454322800Z"
    }
   },
   "id": "755b22d9e1afea95",
   "execution_count": 5
  },
  {
   "cell_type": "markdown",
   "source": [
    "### Feature Importance using the model itself"
   ],
   "metadata": {
    "collapsed": false
   },
   "id": "983f611fc0f04be0"
  },
  {
   "cell_type": "code",
   "outputs": [],
   "source": [
    "# Get the coefficients of the logistic regression model\n",
    "feature_importance_scores = lr_model.coef_[0]\n",
    "feature_importance_df = pd.DataFrame({\n",
    "    'Feature': X_train.columns,\n",
    "    'Coefficient': feature_importance_scores\n",
    "})\n",
    "# We sort the DataFrame by the absolute value of the coefficients\n",
    "feature_importance_df['Absolute_Coefficient'] = feature_importance_df['Coefficient'].abs()\n",
    "feature_importance_df = feature_importance_df.sort_values(by='Absolute_Coefficient', ascending=False).drop(columns='Absolute_Coefficient')"
   ],
   "metadata": {
    "collapsed": false,
    "ExecuteTime": {
     "end_time": "2024-05-03T18:38:15.440488400Z",
     "start_time": "2024-05-03T18:38:05.454322800Z"
    }
   },
   "id": "96ad3da456265eac",
   "execution_count": 6
  },
  {
   "cell_type": "code",
   "outputs": [
    {
     "data": {
      "text/plain": "                                         Feature  Coefficient\n20                occupation_Service/Hospitality    -1.549526\n19   occupation_Science, Engineering, Technology     1.219059\n9                  occupation_Finance/Accounting     0.966728\n11                     occupation_Legal Services     0.812925\n12                occupation_Management/Business     0.790683\n8          occupation_Farming, Fishing, Forestry    -0.648786\n24                  marital status_Never married    -0.621236\n33                        workclass_no paid work    -0.587741\n13                  occupation_Military Services     0.577947\n23                        marital status_Husband     0.571337\n14      occupation_Office/Administrative Support    -0.562588\n21                          occupation_Transport    -0.503352\n4             occupation_Construction/Extraction    -0.492525\n32                        workclass_governmental     0.465459\n26                        marital status_Widowed     0.433019\n6                           occupation_Education    -0.393851\n16                occupation_Protective Services    -0.354514\n30                                    sex_Female    -0.345469\n17                 occupation_Repair/Maintenance     0.343435\n5   occupation_Counseling/Mental Health Services    -0.300541\n25                      marital status_Separated    -0.284362\n31                                      sex_Male     0.274934\n10        occupation_Healthcare/Medical Services     0.260332\n15                occupation_Production/Assembly    -0.253151\n1                                      education     0.212560\n34                             workclass_private     0.195648\n7                       occupation_Entertainment     0.173189\n18                              occupation_Sales    -0.156000\n35                       workclass_self employed    -0.143901\n27                           marital status_Wife    -0.123847\n28                       gave birth this year_No    -0.122316\n3                       ability to speak english    -0.054639\n2                                   workinghours     0.054492\n29                      gave birth this year_Yes     0.051781\n22                       marital status_Divorced    -0.045446\n0                                            age     0.039594",
      "text/html": "<div>\n<style scoped>\n    .dataframe tbody tr th:only-of-type {\n        vertical-align: middle;\n    }\n\n    .dataframe tbody tr th {\n        vertical-align: top;\n    }\n\n    .dataframe thead th {\n        text-align: right;\n    }\n</style>\n<table border=\"1\" class=\"dataframe\">\n  <thead>\n    <tr style=\"text-align: right;\">\n      <th></th>\n      <th>Feature</th>\n      <th>Coefficient</th>\n    </tr>\n  </thead>\n  <tbody>\n    <tr>\n      <th>20</th>\n      <td>occupation_Service/Hospitality</td>\n      <td>-1.549526</td>\n    </tr>\n    <tr>\n      <th>19</th>\n      <td>occupation_Science, Engineering, Technology</td>\n      <td>1.219059</td>\n    </tr>\n    <tr>\n      <th>9</th>\n      <td>occupation_Finance/Accounting</td>\n      <td>0.966728</td>\n    </tr>\n    <tr>\n      <th>11</th>\n      <td>occupation_Legal Services</td>\n      <td>0.812925</td>\n    </tr>\n    <tr>\n      <th>12</th>\n      <td>occupation_Management/Business</td>\n      <td>0.790683</td>\n    </tr>\n    <tr>\n      <th>8</th>\n      <td>occupation_Farming, Fishing, Forestry</td>\n      <td>-0.648786</td>\n    </tr>\n    <tr>\n      <th>24</th>\n      <td>marital status_Never married</td>\n      <td>-0.621236</td>\n    </tr>\n    <tr>\n      <th>33</th>\n      <td>workclass_no paid work</td>\n      <td>-0.587741</td>\n    </tr>\n    <tr>\n      <th>13</th>\n      <td>occupation_Military Services</td>\n      <td>0.577947</td>\n    </tr>\n    <tr>\n      <th>23</th>\n      <td>marital status_Husband</td>\n      <td>0.571337</td>\n    </tr>\n    <tr>\n      <th>14</th>\n      <td>occupation_Office/Administrative Support</td>\n      <td>-0.562588</td>\n    </tr>\n    <tr>\n      <th>21</th>\n      <td>occupation_Transport</td>\n      <td>-0.503352</td>\n    </tr>\n    <tr>\n      <th>4</th>\n      <td>occupation_Construction/Extraction</td>\n      <td>-0.492525</td>\n    </tr>\n    <tr>\n      <th>32</th>\n      <td>workclass_governmental</td>\n      <td>0.465459</td>\n    </tr>\n    <tr>\n      <th>26</th>\n      <td>marital status_Widowed</td>\n      <td>0.433019</td>\n    </tr>\n    <tr>\n      <th>6</th>\n      <td>occupation_Education</td>\n      <td>-0.393851</td>\n    </tr>\n    <tr>\n      <th>16</th>\n      <td>occupation_Protective Services</td>\n      <td>-0.354514</td>\n    </tr>\n    <tr>\n      <th>30</th>\n      <td>sex_Female</td>\n      <td>-0.345469</td>\n    </tr>\n    <tr>\n      <th>17</th>\n      <td>occupation_Repair/Maintenance</td>\n      <td>0.343435</td>\n    </tr>\n    <tr>\n      <th>5</th>\n      <td>occupation_Counseling/Mental Health Services</td>\n      <td>-0.300541</td>\n    </tr>\n    <tr>\n      <th>25</th>\n      <td>marital status_Separated</td>\n      <td>-0.284362</td>\n    </tr>\n    <tr>\n      <th>31</th>\n      <td>sex_Male</td>\n      <td>0.274934</td>\n    </tr>\n    <tr>\n      <th>10</th>\n      <td>occupation_Healthcare/Medical Services</td>\n      <td>0.260332</td>\n    </tr>\n    <tr>\n      <th>15</th>\n      <td>occupation_Production/Assembly</td>\n      <td>-0.253151</td>\n    </tr>\n    <tr>\n      <th>1</th>\n      <td>education</td>\n      <td>0.212560</td>\n    </tr>\n    <tr>\n      <th>34</th>\n      <td>workclass_private</td>\n      <td>0.195648</td>\n    </tr>\n    <tr>\n      <th>7</th>\n      <td>occupation_Entertainment</td>\n      <td>0.173189</td>\n    </tr>\n    <tr>\n      <th>18</th>\n      <td>occupation_Sales</td>\n      <td>-0.156000</td>\n    </tr>\n    <tr>\n      <th>35</th>\n      <td>workclass_self employed</td>\n      <td>-0.143901</td>\n    </tr>\n    <tr>\n      <th>27</th>\n      <td>marital status_Wife</td>\n      <td>-0.123847</td>\n    </tr>\n    <tr>\n      <th>28</th>\n      <td>gave birth this year_No</td>\n      <td>-0.122316</td>\n    </tr>\n    <tr>\n      <th>3</th>\n      <td>ability to speak english</td>\n      <td>-0.054639</td>\n    </tr>\n    <tr>\n      <th>2</th>\n      <td>workinghours</td>\n      <td>0.054492</td>\n    </tr>\n    <tr>\n      <th>29</th>\n      <td>gave birth this year_Yes</td>\n      <td>0.051781</td>\n    </tr>\n    <tr>\n      <th>22</th>\n      <td>marital status_Divorced</td>\n      <td>-0.045446</td>\n    </tr>\n    <tr>\n      <th>0</th>\n      <td>age</td>\n      <td>0.039594</td>\n    </tr>\n  </tbody>\n</table>\n</div>"
     },
     "execution_count": 7,
     "metadata": {},
     "output_type": "execute_result"
    }
   ],
   "source": [
    "feature_importance_df"
   ],
   "metadata": {
    "collapsed": false,
    "ExecuteTime": {
     "end_time": "2024-05-03T18:38:15.443481Z",
     "start_time": "2024-05-03T18:38:05.455320200Z"
    }
   },
   "id": "3df34a550d3f4bc4",
   "execution_count": 7
  },
  {
   "cell_type": "code",
   "outputs": [],
   "source": [
    "# https://stackoverflow.com/questions/34052115/how-to-find-the-importance-of-the-features-for-a-logistic-regression-model\n",
    "# https://scikit-learn.org/stable/modules/permutation_importance.html\n",
    "model_fi = permutation_importance(lr_model, X_encoded, y_encoded, n_repeats=30, random_state=0)\n",
    "feature_importance_df = pd.DataFrame({\n",
    "    'Feature': X_train.columns,\n",
    "    'Coefficient': model_fi['importances_mean']\n",
    "})\n",
    "feature_importance_df = feature_importance_df.sort_values(by='Coefficient', ascending=False)"
   ],
   "metadata": {
    "collapsed": false,
    "ExecuteTime": {
     "end_time": "2024-05-03T18:38:15.513293600Z",
     "start_time": "2024-05-03T18:38:05.455320200Z"
    }
   },
   "id": "1f84433317c7f73c",
   "execution_count": 8
  },
  {
   "cell_type": "code",
   "outputs": [
    {
     "data": {
      "text/plain": "                                         Feature  Coefficient\n1                                      education     0.036693\n2                                   workinghours     0.035622\n0                                            age     0.028467\n20                occupation_Service/Hospitality     0.010600\n23                        marital status_Husband     0.007711\n12                occupation_Management/Business     0.007293\n19   occupation_Science, Engineering, Technology     0.007252\n24                  marital status_Never married     0.005015\n32                        workclass_governmental     0.003307\n15                occupation_Production/Assembly     0.002093\n21                          occupation_Transport     0.002059\n9                  occupation_Finance/Accounting     0.001841\n4             occupation_Construction/Extraction     0.001785\n34                             workclass_private     0.001659\n11                     occupation_Legal Services     0.001467\n14      occupation_Office/Administrative Support     0.001400\n30                                    sex_Female     0.001381\n35                       workclass_self employed     0.001030\n6                           occupation_Education     0.000556\n8          occupation_Farming, Fishing, Forestry     0.000496\n17                 occupation_Repair/Maintenance     0.000485\n31                                      sex_Male     0.000441\n16                occupation_Protective Services     0.000378\n22                       marital status_Divorced     0.000274\n7                       occupation_Entertainment     0.000252\n28                       gave birth this year_No     0.000207\n33                        workclass_no paid work     0.000126\n25                      marital status_Separated     0.000119\n10        occupation_Healthcare/Medical Services     0.000111\n5   occupation_Counseling/Mental Health Services     0.000093\n26                        marital status_Widowed     0.000019\n27                           marital status_Wife    -0.000070\n29                      gave birth this year_Yes    -0.000085\n18                              occupation_Sales    -0.000111\n13                  occupation_Military Services    -0.000126\n3                       ability to speak english    -0.000204",
      "text/html": "<div>\n<style scoped>\n    .dataframe tbody tr th:only-of-type {\n        vertical-align: middle;\n    }\n\n    .dataframe tbody tr th {\n        vertical-align: top;\n    }\n\n    .dataframe thead th {\n        text-align: right;\n    }\n</style>\n<table border=\"1\" class=\"dataframe\">\n  <thead>\n    <tr style=\"text-align: right;\">\n      <th></th>\n      <th>Feature</th>\n      <th>Coefficient</th>\n    </tr>\n  </thead>\n  <tbody>\n    <tr>\n      <th>1</th>\n      <td>education</td>\n      <td>0.036693</td>\n    </tr>\n    <tr>\n      <th>2</th>\n      <td>workinghours</td>\n      <td>0.035622</td>\n    </tr>\n    <tr>\n      <th>0</th>\n      <td>age</td>\n      <td>0.028467</td>\n    </tr>\n    <tr>\n      <th>20</th>\n      <td>occupation_Service/Hospitality</td>\n      <td>0.010600</td>\n    </tr>\n    <tr>\n      <th>23</th>\n      <td>marital status_Husband</td>\n      <td>0.007711</td>\n    </tr>\n    <tr>\n      <th>12</th>\n      <td>occupation_Management/Business</td>\n      <td>0.007293</td>\n    </tr>\n    <tr>\n      <th>19</th>\n      <td>occupation_Science, Engineering, Technology</td>\n      <td>0.007252</td>\n    </tr>\n    <tr>\n      <th>24</th>\n      <td>marital status_Never married</td>\n      <td>0.005015</td>\n    </tr>\n    <tr>\n      <th>32</th>\n      <td>workclass_governmental</td>\n      <td>0.003307</td>\n    </tr>\n    <tr>\n      <th>15</th>\n      <td>occupation_Production/Assembly</td>\n      <td>0.002093</td>\n    </tr>\n    <tr>\n      <th>21</th>\n      <td>occupation_Transport</td>\n      <td>0.002059</td>\n    </tr>\n    <tr>\n      <th>9</th>\n      <td>occupation_Finance/Accounting</td>\n      <td>0.001841</td>\n    </tr>\n    <tr>\n      <th>4</th>\n      <td>occupation_Construction/Extraction</td>\n      <td>0.001785</td>\n    </tr>\n    <tr>\n      <th>34</th>\n      <td>workclass_private</td>\n      <td>0.001659</td>\n    </tr>\n    <tr>\n      <th>11</th>\n      <td>occupation_Legal Services</td>\n      <td>0.001467</td>\n    </tr>\n    <tr>\n      <th>14</th>\n      <td>occupation_Office/Administrative Support</td>\n      <td>0.001400</td>\n    </tr>\n    <tr>\n      <th>30</th>\n      <td>sex_Female</td>\n      <td>0.001381</td>\n    </tr>\n    <tr>\n      <th>35</th>\n      <td>workclass_self employed</td>\n      <td>0.001030</td>\n    </tr>\n    <tr>\n      <th>6</th>\n      <td>occupation_Education</td>\n      <td>0.000556</td>\n    </tr>\n    <tr>\n      <th>8</th>\n      <td>occupation_Farming, Fishing, Forestry</td>\n      <td>0.000496</td>\n    </tr>\n    <tr>\n      <th>17</th>\n      <td>occupation_Repair/Maintenance</td>\n      <td>0.000485</td>\n    </tr>\n    <tr>\n      <th>31</th>\n      <td>sex_Male</td>\n      <td>0.000441</td>\n    </tr>\n    <tr>\n      <th>16</th>\n      <td>occupation_Protective Services</td>\n      <td>0.000378</td>\n    </tr>\n    <tr>\n      <th>22</th>\n      <td>marital status_Divorced</td>\n      <td>0.000274</td>\n    </tr>\n    <tr>\n      <th>7</th>\n      <td>occupation_Entertainment</td>\n      <td>0.000252</td>\n    </tr>\n    <tr>\n      <th>28</th>\n      <td>gave birth this year_No</td>\n      <td>0.000207</td>\n    </tr>\n    <tr>\n      <th>33</th>\n      <td>workclass_no paid work</td>\n      <td>0.000126</td>\n    </tr>\n    <tr>\n      <th>25</th>\n      <td>marital status_Separated</td>\n      <td>0.000119</td>\n    </tr>\n    <tr>\n      <th>10</th>\n      <td>occupation_Healthcare/Medical Services</td>\n      <td>0.000111</td>\n    </tr>\n    <tr>\n      <th>5</th>\n      <td>occupation_Counseling/Mental Health Services</td>\n      <td>0.000093</td>\n    </tr>\n    <tr>\n      <th>26</th>\n      <td>marital status_Widowed</td>\n      <td>0.000019</td>\n    </tr>\n    <tr>\n      <th>27</th>\n      <td>marital status_Wife</td>\n      <td>-0.000070</td>\n    </tr>\n    <tr>\n      <th>29</th>\n      <td>gave birth this year_Yes</td>\n      <td>-0.000085</td>\n    </tr>\n    <tr>\n      <th>18</th>\n      <td>occupation_Sales</td>\n      <td>-0.000111</td>\n    </tr>\n    <tr>\n      <th>13</th>\n      <td>occupation_Military Services</td>\n      <td>-0.000126</td>\n    </tr>\n    <tr>\n      <th>3</th>\n      <td>ability to speak english</td>\n      <td>-0.000204</td>\n    </tr>\n  </tbody>\n</table>\n</div>"
     },
     "execution_count": 9,
     "metadata": {},
     "output_type": "execute_result"
    }
   ],
   "source": [
    "feature_importance_df"
   ],
   "metadata": {
    "collapsed": false,
    "ExecuteTime": {
     "end_time": "2024-05-03T18:38:15.516285500Z",
     "start_time": "2024-05-03T18:38:15.359195800Z"
    }
   },
   "id": "9ceffcc44abde12f",
   "execution_count": 9
  },
  {
   "cell_type": "markdown",
   "source": [
    "### Hyperparameter Tuning"
   ],
   "metadata": {
    "collapsed": false
   },
   "id": "89ee1aa06234190f"
  },
  {
   "cell_type": "markdown",
   "source": [
    "Here, we define the base parameter grid for our hyperparameter tuning function."
   ],
   "metadata": {
    "collapsed": false
   },
   "id": "885f65e8eefcf1db"
  },
  {
   "cell_type": "code",
   "outputs": [],
   "source": [
    "param_grid = {\n",
    "        'penalty': ['l2'],\n",
    "        'C': [0.01, 0.1, 1, 10],\n",
    "        'solver': ['lbfgs', 'liblinear', 'newton-cg', 'newton-cholesky'],\n",
    "        'max_iter': [5000],\n",
    "        'random_state': [42]\n",
    "    }"
   ],
   "metadata": {
    "collapsed": false,
    "ExecuteTime": {
     "end_time": "2024-05-03T18:38:15.517282700Z",
     "start_time": "2024-05-03T18:38:15.360192700Z"
    }
   },
   "id": "dac933cbe750f95",
   "execution_count": 10
  },
  {
   "cell_type": "markdown",
   "source": [
    "Below, we tune the hyperparameters of the Logistic Regression model using the defined parameter grid and using all features."
   ],
   "metadata": {
    "collapsed": false
   },
   "id": "5531efc1ee2d4887"
  },
  {
   "cell_type": "code",
   "outputs": [
    {
     "name": "stdout",
     "output_type": "stream",
     "text": [
      "Fitting 5 folds for each of 16 candidates, totalling 80 fits\n",
      "\n",
      "Best Hyperparameters: {'C': 1, 'max_iter': 5000, 'penalty': 'l2', 'random_state': 42, 'solver': 'lbfgs'}\n",
      "Best Model: LogisticRegression(C=1, max_iter=5000, random_state=42)\n",
      "Best Model Accuracy: 0.7922222222222223\n",
      "              precision    recall  f1-score   support\n",
      "\n",
      "           0       0.82      0.87      0.85      1175\n",
      "           1       0.73      0.64      0.68       625\n",
      "\n",
      "    accuracy                           0.79      1800\n",
      "   macro avg       0.77      0.76      0.76      1800\n",
      "weighted avg       0.79      0.79      0.79      1800\n",
      "\n",
      "Fairness Metrics:\n",
      "Male FPR: 0.1777150916784203\n",
      "Male TPR: 0.7314629258517034\n",
      "Female FPR: 0.0536480686695279\n",
      "Female TPR: 0.29365079365079366\n",
      "\n",
      "Disparate Impact (DI): 0.258\n",
      "Discrimination Score (DS): -0.302\n",
      "Equal Opportunity Difference (EO): 0.438\n",
      "Equalized Odds (EOdds): 0.124\n"
     ]
    }
   ],
   "source": [
    "best_params, best_model, best_accuracy = tune_model(LogisticRegression(), X_encoded, X_train, y_train, X_test, y_test, param_grid)\n",
    "\n",
    "print(\"\\nBest Hyperparameters:\", best_params)\n",
    "print(\"Best Model:\", best_model)\n",
    "print(\"Best Model Accuracy:\", best_accuracy)\n",
    "\n",
    "lr_preds = best_model.predict(X_test)\n",
    "print(classification_report(y_test, lr_preds))\n",
    "\n",
    "print_male_female_metrics(best_model, X, X_male, X_female, X_test, y_test)\n",
    "save_model(best_model, '../output/saved_models/lr_model_sexincl_noffs_tuned_unfair.joblib')"
   ],
   "metadata": {
    "collapsed": false,
    "ExecuteTime": {
     "end_time": "2024-05-03T18:39:34.493260600Z",
     "start_time": "2024-05-03T18:38:15.360192700Z"
    }
   },
   "id": "d6cfd27be7bfa635",
   "execution_count": 11
  },
  {
   "cell_type": "markdown",
   "source": [
    "Now the same but with fairness constraints."
   ],
   "metadata": {
    "collapsed": false
   },
   "id": "ae7cb59f932379f"
  },
  {
   "cell_type": "code",
   "outputs": [
    {
     "name": "stdout",
     "output_type": "stream",
     "text": [
      "Fitting 5 folds for each of 16 candidates, totalling 80 fits\n",
      "\n",
      "Best Hyperparameters: {'C': 10, 'max_iter': 5000, 'penalty': 'l2', 'random_state': 42, 'solver': 'lbfgs'}\n",
      "Best Model: LogisticRegression(C=10, max_iter=5000, random_state=42)\n",
      "Best Model Accuracy: 0.7911111111111111\n",
      "              precision    recall  f1-score   support\n",
      "\n",
      "           0       0.82      0.87      0.84      1175\n",
      "           1       0.72      0.64      0.68       625\n",
      "\n",
      "    accuracy                           0.79      1800\n",
      "   macro avg       0.77      0.76      0.76      1800\n",
      "weighted avg       0.79      0.79      0.79      1800\n",
      "\n",
      "Fairness Metrics:\n",
      "Male FPR: 0.17912552891396333\n",
      "Male TPR: 0.7294589178356713\n",
      "Female FPR: 0.055793991416309016\n",
      "Female TPR: 0.30158730158730157\n",
      "\n",
      "Disparate Impact (DI): 0.266\n",
      "Discrimination Score (DS): -0.298\n",
      "Equal Opportunity Difference (EO): 0.428\n",
      "Equalized Odds (EOdds): 0.123\n"
     ]
    }
   ],
   "source": [
    "best_params, best_model, best_accuracy = tune_model(LogisticRegression(), X_encoded, X_train, y_train, X_test, y_test, param_grid, ensure_fairness=True)\n",
    "\n",
    "print(\"\\nBest Hyperparameters:\", best_params)\n",
    "print(\"Best Model:\", best_model)\n",
    "print(\"Best Model Accuracy:\", best_accuracy)\n",
    "\n",
    "lr_preds = best_model.predict(X_test)\n",
    "print(classification_report(y_test, lr_preds))\n",
    "\n",
    "print_male_female_metrics(best_model, X, X_male, X_female, X_test, y_test)\n",
    "save_model(best_model, '../output/saved_models/lr_model_sexincl_noffs_tuned_fair.joblib')"
   ],
   "metadata": {
    "collapsed": false,
    "ExecuteTime": {
     "end_time": "2024-05-03T18:39:34.552204600Z",
     "start_time": "2024-05-03T18:38:35.471858500Z"
    }
   },
   "id": "e8ad9b4483969cac",
   "execution_count": 12
  },
  {
   "cell_type": "markdown",
   "source": [
    "Below, we tune the hyperparameters of the Logistic Regression model using the defined parameter grid and using a **subset of features**. We exclude the columns 'age', 'ability to speak english', and 'workclass'."
   ],
   "metadata": {
    "collapsed": false
   },
   "id": "a7e1559d5eff2d2e"
  },
  {
   "cell_type": "code",
   "outputs": [
    {
     "name": "stdout",
     "output_type": "stream",
     "text": [
      "Fitting 5 folds for each of 16 candidates, totalling 80 fits\n",
      "\n",
      "Best Hyperparameters: {'C': 10, 'max_iter': 5000, 'penalty': 'l2', 'random_state': 42, 'solver': 'lbfgs'}\n",
      "Best Model: LogisticRegression(C=10, max_iter=5000, random_state=42)\n",
      "Best Model Accuracy: 0.7733333333333333\n",
      "              precision    recall  f1-score   support\n",
      "\n",
      "           0       0.80      0.87      0.83      1175\n",
      "           1       0.71      0.59      0.64       625\n",
      "\n",
      "    accuracy                           0.77      1800\n",
      "   macro avg       0.75      0.73      0.74      1800\n",
      "weighted avg       0.77      0.77      0.77      1800\n",
      "\n",
      "Fairness Metrics:\n",
      "Male FPR: 0.18053596614950634\n",
      "Male TPR: 0.6793587174348698\n",
      "Female FPR: 0.0536480686695279\n",
      "Female TPR: 0.24603174603174602\n",
      "\n",
      "Disparate Impact (DI): 0.245\n",
      "Discrimination Score (DS): -0.292\n",
      "Equal Opportunity Difference (EO): 0.433\n",
      "Equalized Odds (EOdds): 0.127\n"
     ]
    }
   ],
   "source": [
    "columns_to_exclude = ['age', 'ability to speak english', 'workclass']\n",
    "X_train_, X_test_, y_train_, y_test_, X_male, X_female = get_train_test_with_excluded_columns(data, columns_to_exclude)\n",
    "\n",
    "best_params, best_model, best_accuracy = tune_model(LogisticRegression(), X_encoded, X_train_, y_train_, X_test_, y_test_, param_grid)\n",
    "\n",
    "print(\"\\nBest Hyperparameters:\", best_params)\n",
    "print(\"Best Model:\", best_model)\n",
    "print(\"Best Model Accuracy:\", best_accuracy)\n",
    "\n",
    "lr_preds = best_model.predict(X_test_)\n",
    "print(classification_report(y_test_, lr_preds))\n",
    "\n",
    "print_male_female_metrics(best_model, X, X_male, X_female, X_test_, y_test_)\n",
    "save_model(best_model, '../output/saved_models/lr_model_sexincl_noffs_tuned_unfair_aawexcl.joblib')"
   ],
   "metadata": {
    "collapsed": false,
    "ExecuteTime": {
     "end_time": "2024-05-03T18:39:34.553241500Z",
     "start_time": "2024-05-03T18:38:54.170344900Z"
    }
   },
   "id": "5f16b76fe9a3f84a",
   "execution_count": 13
  },
  {
   "cell_type": "markdown",
   "source": [
    "Now the same but with fairness constraints."
   ],
   "metadata": {
    "collapsed": false
   },
   "id": "44aaea0f150da8ac"
  },
  {
   "cell_type": "code",
   "outputs": [
    {
     "name": "stdout",
     "output_type": "stream",
     "text": [
      "Fitting 5 folds for each of 16 candidates, totalling 80 fits\n",
      "\n",
      "Best Hyperparameters: {'C': 10, 'max_iter': 5000, 'penalty': 'l2', 'random_state': 42, 'solver': 'liblinear'}\n",
      "Best Model: LogisticRegression(C=10, max_iter=5000, random_state=42, solver='liblinear')\n",
      "Best Model Accuracy: 0.7722222222222223\n",
      "              precision    recall  f1-score   support\n",
      "\n",
      "           0       0.80      0.87      0.83      1175\n",
      "           1       0.70      0.59      0.64       625\n",
      "\n",
      "    accuracy                           0.77      1800\n",
      "   macro avg       0.75      0.73      0.74      1800\n",
      "weighted avg       0.77      0.77      0.77      1800\n",
      "\n",
      "Fairness Metrics:\n",
      "Male FPR: 0.18053596614950634\n",
      "Male TPR: 0.6793587174348698\n",
      "Female FPR: 0.05793991416309013\n",
      "Female TPR: 0.24603174603174602\n",
      "\n",
      "Disparate Impact (DI): 0.253\n",
      "Discrimination Score (DS): -0.289\n",
      "Equal Opportunity Difference (EO): 0.433\n",
      "Equalized Odds (EOdds): 0.123\n"
     ]
    }
   ],
   "source": [
    "columns_to_exclude = ['age', 'ability to speak english', 'workclass']\n",
    "X_train_, X_test_, y_train_, y_test_, X_male, X_female = get_train_test_with_excluded_columns(data, columns_to_exclude)\n",
    "\n",
    "best_params, best_model, best_accuracy = tune_model(LogisticRegression(), X_encoded, X_train_, y_train_, X_test_, y_test_, param_grid, ensure_fairness=True)\n",
    "\n",
    "print(\"\\nBest Hyperparameters:\", best_params)\n",
    "print(\"Best Model:\", best_model)\n",
    "print(\"Best Model Accuracy:\", best_accuracy)\n",
    "\n",
    "lr_preds = best_model.predict(X_test_)\n",
    "print(classification_report(y_test_, lr_preds))\n",
    "\n",
    "print_male_female_metrics(best_model, X, X_male, X_female, X_test_, y_test_)\n",
    "save_model(best_model, '../output/saved_models/lr_model_sexincl_noffs_tuned_fair_aawexcl.joblib')"
   ],
   "metadata": {
    "collapsed": false,
    "ExecuteTime": {
     "end_time": "2024-05-03T18:39:34.555223Z",
     "start_time": "2024-05-03T18:39:07.151088600Z"
    }
   },
   "id": "be6be5e78c6669f9",
   "execution_count": 14
  },
  {
   "cell_type": "markdown",
   "source": [
    "#### Forward Feature Selection with Hyperparameter Tuning"
   ],
   "metadata": {
    "collapsed": false
   },
   "id": "ac410b7ab7318994"
  },
  {
   "cell_type": "markdown",
   "source": [
    "Because hyperparameter tuning results can vary depending on the chosen subset of features, we will use forward feature selection with hyperparameter tuning to find the best subset of features and hyperparameters for the model."
   ],
   "metadata": {
    "collapsed": false
   },
   "id": "3243329376133cc6"
  },
  {
   "cell_type": "code",
   "outputs": [
    {
     "name": "stdout",
     "output_type": "stream",
     "text": [
      "Fitting 5 folds for each of 16 candidates, totalling 80 fits\n",
      "Fitting 5 folds for each of 16 candidates, totalling 80 fits\n",
      "Fitting 5 folds for each of 16 candidates, totalling 80 fits\n",
      "Fitting 5 folds for each of 16 candidates, totalling 80 fits\n",
      "Fitting 5 folds for each of 16 candidates, totalling 80 fits\n",
      "Fitting 5 folds for each of 16 candidates, totalling 80 fits\n",
      "Fitting 5 folds for each of 16 candidates, totalling 80 fits\n",
      "Fitting 5 folds for each of 16 candidates, totalling 80 fits\n",
      "Fitting 5 folds for each of 16 candidates, totalling 80 fits\n",
      "Best subset: ['occupation_Construction/Extraction', 'occupation_Counseling/Mental Health Services', 'occupation_Education', 'occupation_Entertainment', 'occupation_Farming, Fishing, Forestry', 'occupation_Finance/Accounting', 'occupation_Healthcare/Medical Services', 'occupation_Legal Services', 'occupation_Management/Business', 'occupation_Military Services', 'occupation_Office/Administrative Support', 'occupation_Production/Assembly', 'occupation_Protective Services', 'occupation_Repair/Maintenance', 'occupation_Sales', 'occupation_Science, Engineering, Technology', 'occupation_Service/Hospitality', 'occupation_Transport']\n",
      "Remaining features: [['age'], ['education'], ['workinghours'], ['ability to speak english'], ['workclass_governmental', 'workclass_no paid work', 'workclass_private', 'workclass_self employed'], ['marital status_Divorced', 'marital status_Husband', 'marital status_Never married', 'marital status_Separated', 'marital status_Widowed', 'marital status_Wife'], ['sex_Female', 'sex_Male'], ['gave birth this year_No', 'gave birth this year_Yes']]\n",
      "Fitting 5 folds for each of 16 candidates, totalling 80 fits\n",
      "Fitting 5 folds for each of 16 candidates, totalling 80 fits\n",
      "Fitting 5 folds for each of 16 candidates, totalling 80 fits\n",
      "Fitting 5 folds for each of 16 candidates, totalling 80 fits\n",
      "Fitting 5 folds for each of 16 candidates, totalling 80 fits\n",
      "Fitting 5 folds for each of 16 candidates, totalling 80 fits\n",
      "Fitting 5 folds for each of 16 candidates, totalling 80 fits\n",
      "Fitting 5 folds for each of 16 candidates, totalling 80 fits\n",
      "Best subset: ['occupation_Construction/Extraction', 'occupation_Counseling/Mental Health Services', 'occupation_Education', 'occupation_Entertainment', 'occupation_Farming, Fishing, Forestry', 'occupation_Finance/Accounting', 'occupation_Healthcare/Medical Services', 'occupation_Legal Services', 'occupation_Management/Business', 'occupation_Military Services', 'occupation_Office/Administrative Support', 'occupation_Production/Assembly', 'occupation_Protective Services', 'occupation_Repair/Maintenance', 'occupation_Sales', 'occupation_Science, Engineering, Technology', 'occupation_Service/Hospitality', 'occupation_Transport', 'marital status_Divorced', 'marital status_Husband', 'marital status_Never married', 'marital status_Separated', 'marital status_Widowed', 'marital status_Wife']\n",
      "Remaining features: [['age'], ['education'], ['workinghours'], ['ability to speak english'], ['workclass_governmental', 'workclass_no paid work', 'workclass_private', 'workclass_self employed'], ['sex_Female', 'sex_Male'], ['gave birth this year_No', 'gave birth this year_Yes']]\n",
      "Fitting 5 folds for each of 16 candidates, totalling 80 fits\n",
      "Fitting 5 folds for each of 16 candidates, totalling 80 fits\n",
      "Fitting 5 folds for each of 16 candidates, totalling 80 fits\n",
      "Fitting 5 folds for each of 16 candidates, totalling 80 fits\n",
      "Fitting 5 folds for each of 16 candidates, totalling 80 fits\n",
      "Fitting 5 folds for each of 16 candidates, totalling 80 fits\n",
      "Fitting 5 folds for each of 16 candidates, totalling 80 fits\n",
      "Best subset: ['occupation_Construction/Extraction', 'occupation_Counseling/Mental Health Services', 'occupation_Education', 'occupation_Entertainment', 'occupation_Farming, Fishing, Forestry', 'occupation_Finance/Accounting', 'occupation_Healthcare/Medical Services', 'occupation_Legal Services', 'occupation_Management/Business', 'occupation_Military Services', 'occupation_Office/Administrative Support', 'occupation_Production/Assembly', 'occupation_Protective Services', 'occupation_Repair/Maintenance', 'occupation_Sales', 'occupation_Science, Engineering, Technology', 'occupation_Service/Hospitality', 'occupation_Transport', 'marital status_Divorced', 'marital status_Husband', 'marital status_Never married', 'marital status_Separated', 'marital status_Widowed', 'marital status_Wife', 'workinghours']\n",
      "Remaining features: [['age'], ['education'], ['ability to speak english'], ['workclass_governmental', 'workclass_no paid work', 'workclass_private', 'workclass_self employed'], ['sex_Female', 'sex_Male'], ['gave birth this year_No', 'gave birth this year_Yes']]\n",
      "Fitting 5 folds for each of 16 candidates, totalling 80 fits\n",
      "Fitting 5 folds for each of 16 candidates, totalling 80 fits\n",
      "Fitting 5 folds for each of 16 candidates, totalling 80 fits\n",
      "Fitting 5 folds for each of 16 candidates, totalling 80 fits\n",
      "Fitting 5 folds for each of 16 candidates, totalling 80 fits\n",
      "Fitting 5 folds for each of 16 candidates, totalling 80 fits\n",
      "Best subset: ['occupation_Construction/Extraction', 'occupation_Counseling/Mental Health Services', 'occupation_Education', 'occupation_Entertainment', 'occupation_Farming, Fishing, Forestry', 'occupation_Finance/Accounting', 'occupation_Healthcare/Medical Services', 'occupation_Legal Services', 'occupation_Management/Business', 'occupation_Military Services', 'occupation_Office/Administrative Support', 'occupation_Production/Assembly', 'occupation_Protective Services', 'occupation_Repair/Maintenance', 'occupation_Sales', 'occupation_Science, Engineering, Technology', 'occupation_Service/Hospitality', 'occupation_Transport', 'marital status_Divorced', 'marital status_Husband', 'marital status_Never married', 'marital status_Separated', 'marital status_Widowed', 'marital status_Wife', 'workinghours', 'education']\n",
      "Remaining features: [['age'], ['ability to speak english'], ['workclass_governmental', 'workclass_no paid work', 'workclass_private', 'workclass_self employed'], ['sex_Female', 'sex_Male'], ['gave birth this year_No', 'gave birth this year_Yes']]\n",
      "Fitting 5 folds for each of 16 candidates, totalling 80 fits\n",
      "Fitting 5 folds for each of 16 candidates, totalling 80 fits\n",
      "Fitting 5 folds for each of 16 candidates, totalling 80 fits\n",
      "Fitting 5 folds for each of 16 candidates, totalling 80 fits\n",
      "Fitting 5 folds for each of 16 candidates, totalling 80 fits\n",
      "Best subset: ['occupation_Construction/Extraction', 'occupation_Counseling/Mental Health Services', 'occupation_Education', 'occupation_Entertainment', 'occupation_Farming, Fishing, Forestry', 'occupation_Finance/Accounting', 'occupation_Healthcare/Medical Services', 'occupation_Legal Services', 'occupation_Management/Business', 'occupation_Military Services', 'occupation_Office/Administrative Support', 'occupation_Production/Assembly', 'occupation_Protective Services', 'occupation_Repair/Maintenance', 'occupation_Sales', 'occupation_Science, Engineering, Technology', 'occupation_Service/Hospitality', 'occupation_Transport', 'marital status_Divorced', 'marital status_Husband', 'marital status_Never married', 'marital status_Separated', 'marital status_Widowed', 'marital status_Wife', 'workinghours', 'education', 'age']\n",
      "Remaining features: [['ability to speak english'], ['workclass_governmental', 'workclass_no paid work', 'workclass_private', 'workclass_self employed'], ['sex_Female', 'sex_Male'], ['gave birth this year_No', 'gave birth this year_Yes']]\n",
      "Fitting 5 folds for each of 16 candidates, totalling 80 fits\n",
      "Fitting 5 folds for each of 16 candidates, totalling 80 fits\n",
      "Fitting 5 folds for each of 16 candidates, totalling 80 fits\n",
      "Fitting 5 folds for each of 16 candidates, totalling 80 fits\n",
      "Best subset: ['occupation_Construction/Extraction', 'occupation_Counseling/Mental Health Services', 'occupation_Education', 'occupation_Entertainment', 'occupation_Farming, Fishing, Forestry', 'occupation_Finance/Accounting', 'occupation_Healthcare/Medical Services', 'occupation_Legal Services', 'occupation_Management/Business', 'occupation_Military Services', 'occupation_Office/Administrative Support', 'occupation_Production/Assembly', 'occupation_Protective Services', 'occupation_Repair/Maintenance', 'occupation_Sales', 'occupation_Science, Engineering, Technology', 'occupation_Service/Hospitality', 'occupation_Transport', 'marital status_Divorced', 'marital status_Husband', 'marital status_Never married', 'marital status_Separated', 'marital status_Widowed', 'marital status_Wife', 'workinghours', 'education', 'age', 'sex_Female', 'sex_Male']\n",
      "Remaining features: [['ability to speak english'], ['workclass_governmental', 'workclass_no paid work', 'workclass_private', 'workclass_self employed'], ['gave birth this year_No', 'gave birth this year_Yes']]\n",
      "Fitting 5 folds for each of 16 candidates, totalling 80 fits\n",
      "Fitting 5 folds for each of 16 candidates, totalling 80 fits\n",
      "Fitting 5 folds for each of 16 candidates, totalling 80 fits\n",
      "Best subset: ['occupation_Construction/Extraction', 'occupation_Counseling/Mental Health Services', 'occupation_Education', 'occupation_Entertainment', 'occupation_Farming, Fishing, Forestry', 'occupation_Finance/Accounting', 'occupation_Healthcare/Medical Services', 'occupation_Legal Services', 'occupation_Management/Business', 'occupation_Military Services', 'occupation_Office/Administrative Support', 'occupation_Production/Assembly', 'occupation_Protective Services', 'occupation_Repair/Maintenance', 'occupation_Sales', 'occupation_Science, Engineering, Technology', 'occupation_Service/Hospitality', 'occupation_Transport', 'marital status_Divorced', 'marital status_Husband', 'marital status_Never married', 'marital status_Separated', 'marital status_Widowed', 'marital status_Wife', 'workinghours', 'education', 'age', 'sex_Female', 'sex_Male']\n",
      "Remaining features: [['ability to speak english'], ['workclass_governmental', 'workclass_no paid work', 'workclass_private', 'workclass_self employed'], ['gave birth this year_No', 'gave birth this year_Yes']]\n",
      "Best subset of features: ['occupation_Construction/Extraction', 'occupation_Counseling/Mental Health Services', 'occupation_Education', 'occupation_Entertainment', 'occupation_Farming, Fishing, Forestry', 'occupation_Finance/Accounting', 'occupation_Healthcare/Medical Services', 'occupation_Legal Services', 'occupation_Management/Business', 'occupation_Military Services', 'occupation_Office/Administrative Support', 'occupation_Production/Assembly', 'occupation_Protective Services', 'occupation_Repair/Maintenance', 'occupation_Sales', 'occupation_Science, Engineering, Technology', 'occupation_Service/Hospitality', 'occupation_Transport', 'marital status_Divorced', 'marital status_Husband', 'marital status_Never married', 'marital status_Separated', 'marital status_Widowed', 'marital status_Wife', 'workinghours', 'education', 'age', 'sex_Female', 'sex_Male']\n",
      "Best hyperparameters: {'C': 0.1, 'max_iter': 5000, 'penalty': 'l2', 'random_state': 42, 'solver': 'lbfgs'}\n",
      "Best model accuracy: 0.7916666666666666\n",
      "              precision    recall  f1-score   support\n",
      "\n",
      "           0       0.82      0.88      0.85      1175\n",
      "           1       0.73      0.63      0.68       625\n",
      "\n",
      "    accuracy                           0.79      1800\n",
      "   macro avg       0.77      0.75      0.76      1800\n",
      "weighted avg       0.79      0.79      0.79      1800\n",
      "\n",
      "Fairness Metrics:\n",
      "Male FPR: 0.1763046544428773\n",
      "Male TPR: 0.7294589178356713\n",
      "Female FPR: 0.045064377682403435\n",
      "Female TPR: 0.25396825396825395\n",
      "\n",
      "Disparate Impact (DI): 0.221\n",
      "Discrimination Score (DS): -0.315\n",
      "Equal Opportunity Difference (EO): 0.475\n",
      "Equalized Odds (EOdds): 0.131\n"
     ]
    }
   ],
   "source": [
    "# Forward feature selection with hyperparameter tuning\n",
    "best_subset, best_params, best_score = forward_feat_selection_hypertuning(LogisticRegression(), param_grid, X_encoded, X_train, y_train, X_test, y_test)\n",
    "\n",
    "print(\"Best subset of features:\", best_subset)\n",
    "print(\"Best hyperparameters:\", best_params)\n",
    "print(\"Best model accuracy:\", best_score)\n",
    "\n",
    "# Use the best subset and best hyperparameters for final model\n",
    "final_model_allf_ffs = LogisticRegression(**best_params)\n",
    "final_model_allf_ffs.fit(X_train[best_subset], y_train)\n",
    "final_model_preds = final_model_allf_ffs.predict(X_test[best_subset])\n",
    "final_model_accuracy = accuracy_score(y_test, final_model_preds)\n",
    "\n",
    "print(classification_report(y_test, final_model_preds))\n",
    "\n",
    "print_male_female_metrics(final_model_allf_ffs, X, X_male, X_female, X_test[best_subset], y_test)\n",
    "save_model(final_model_allf_ffs, '../output/saved_models/lr_model_sexincl_ffs_tuned_unfair.joblib')"
   ],
   "metadata": {
    "collapsed": false,
    "ExecuteTime": {
     "end_time": "2024-05-03T18:44:09.379723400Z",
     "start_time": "2024-05-03T18:39:21.852680300Z"
    }
   },
   "id": "8510558c90f0c56",
   "execution_count": 15
  },
  {
   "cell_type": "markdown",
   "source": [
    "Now the same but with fairness constraints."
   ],
   "metadata": {
    "collapsed": false
   },
   "id": "8a64bad3c932627f"
  },
  {
   "cell_type": "code",
   "outputs": [
    {
     "name": "stdout",
     "output_type": "stream",
     "text": [
      "Fitting 5 folds for each of 16 candidates, totalling 80 fits\n",
      "Fitting 5 folds for each of 16 candidates, totalling 80 fits\n",
      "Fitting 5 folds for each of 16 candidates, totalling 80 fits\n",
      "Fitting 5 folds for each of 16 candidates, totalling 80 fits\n",
      "Fitting 5 folds for each of 16 candidates, totalling 80 fits\n",
      "Fitting 5 folds for each of 16 candidates, totalling 80 fits\n",
      "Fitting 5 folds for each of 16 candidates, totalling 80 fits\n",
      "Fitting 5 folds for each of 16 candidates, totalling 80 fits\n",
      "Best subset: ['sex_Female', 'sex_Male', 'occupation_Construction/Extraction', 'occupation_Counseling/Mental Health Services', 'occupation_Education', 'occupation_Entertainment', 'occupation_Farming, Fishing, Forestry', 'occupation_Finance/Accounting', 'occupation_Healthcare/Medical Services', 'occupation_Legal Services', 'occupation_Management/Business', 'occupation_Military Services', 'occupation_Office/Administrative Support', 'occupation_Production/Assembly', 'occupation_Protective Services', 'occupation_Repair/Maintenance', 'occupation_Sales', 'occupation_Science, Engineering, Technology', 'occupation_Service/Hospitality', 'occupation_Transport']\n",
      "Remaining features: [['age'], ['education'], ['workinghours'], ['ability to speak english'], ['workclass_governmental', 'workclass_no paid work', 'workclass_private', 'workclass_self employed'], ['marital status_Divorced', 'marital status_Husband', 'marital status_Never married', 'marital status_Separated', 'marital status_Widowed', 'marital status_Wife'], ['gave birth this year_No', 'gave birth this year_Yes']]\n",
      "Fitting 5 folds for each of 16 candidates, totalling 80 fits\n",
      "Fitting 5 folds for each of 16 candidates, totalling 80 fits\n",
      "Fitting 5 folds for each of 16 candidates, totalling 80 fits\n",
      "Fitting 5 folds for each of 16 candidates, totalling 80 fits\n",
      "Fitting 5 folds for each of 16 candidates, totalling 80 fits\n",
      "Fitting 5 folds for each of 16 candidates, totalling 80 fits\n",
      "Fitting 5 folds for each of 16 candidates, totalling 80 fits\n",
      "Best subset: ['sex_Female', 'sex_Male', 'occupation_Construction/Extraction', 'occupation_Counseling/Mental Health Services', 'occupation_Education', 'occupation_Entertainment', 'occupation_Farming, Fishing, Forestry', 'occupation_Finance/Accounting', 'occupation_Healthcare/Medical Services', 'occupation_Legal Services', 'occupation_Management/Business', 'occupation_Military Services', 'occupation_Office/Administrative Support', 'occupation_Production/Assembly', 'occupation_Protective Services', 'occupation_Repair/Maintenance', 'occupation_Sales', 'occupation_Science, Engineering, Technology', 'occupation_Service/Hospitality', 'occupation_Transport', 'marital status_Divorced', 'marital status_Husband', 'marital status_Never married', 'marital status_Separated', 'marital status_Widowed', 'marital status_Wife']\n",
      "Remaining features: [['age'], ['education'], ['workinghours'], ['ability to speak english'], ['workclass_governmental', 'workclass_no paid work', 'workclass_private', 'workclass_self employed'], ['gave birth this year_No', 'gave birth this year_Yes']]\n",
      "Fitting 5 folds for each of 16 candidates, totalling 80 fits\n",
      "Fitting 5 folds for each of 16 candidates, totalling 80 fits\n",
      "Fitting 5 folds for each of 16 candidates, totalling 80 fits\n",
      "Fitting 5 folds for each of 16 candidates, totalling 80 fits\n",
      "Fitting 5 folds for each of 16 candidates, totalling 80 fits\n",
      "Fitting 5 folds for each of 16 candidates, totalling 80 fits\n",
      "Best subset: ['sex_Female', 'sex_Male', 'occupation_Construction/Extraction', 'occupation_Counseling/Mental Health Services', 'occupation_Education', 'occupation_Entertainment', 'occupation_Farming, Fishing, Forestry', 'occupation_Finance/Accounting', 'occupation_Healthcare/Medical Services', 'occupation_Legal Services', 'occupation_Management/Business', 'occupation_Military Services', 'occupation_Office/Administrative Support', 'occupation_Production/Assembly', 'occupation_Protective Services', 'occupation_Repair/Maintenance', 'occupation_Sales', 'occupation_Science, Engineering, Technology', 'occupation_Service/Hospitality', 'occupation_Transport', 'marital status_Divorced', 'marital status_Husband', 'marital status_Never married', 'marital status_Separated', 'marital status_Widowed', 'marital status_Wife', 'education']\n",
      "Remaining features: [['age'], ['workinghours'], ['ability to speak english'], ['workclass_governmental', 'workclass_no paid work', 'workclass_private', 'workclass_self employed'], ['gave birth this year_No', 'gave birth this year_Yes']]\n",
      "Fitting 5 folds for each of 16 candidates, totalling 80 fits\n",
      "Fitting 5 folds for each of 16 candidates, totalling 80 fits\n",
      "Fitting 5 folds for each of 16 candidates, totalling 80 fits\n",
      "Fitting 5 folds for each of 16 candidates, totalling 80 fits\n",
      "Fitting 5 folds for each of 16 candidates, totalling 80 fits\n",
      "Best subset: ['sex_Female', 'sex_Male', 'occupation_Construction/Extraction', 'occupation_Counseling/Mental Health Services', 'occupation_Education', 'occupation_Entertainment', 'occupation_Farming, Fishing, Forestry', 'occupation_Finance/Accounting', 'occupation_Healthcare/Medical Services', 'occupation_Legal Services', 'occupation_Management/Business', 'occupation_Military Services', 'occupation_Office/Administrative Support', 'occupation_Production/Assembly', 'occupation_Protective Services', 'occupation_Repair/Maintenance', 'occupation_Sales', 'occupation_Science, Engineering, Technology', 'occupation_Service/Hospitality', 'occupation_Transport', 'marital status_Divorced', 'marital status_Husband', 'marital status_Never married', 'marital status_Separated', 'marital status_Widowed', 'marital status_Wife', 'education', 'workinghours']\n",
      "Remaining features: [['age'], ['ability to speak english'], ['workclass_governmental', 'workclass_no paid work', 'workclass_private', 'workclass_self employed'], ['gave birth this year_No', 'gave birth this year_Yes']]\n",
      "Fitting 5 folds for each of 16 candidates, totalling 80 fits\n",
      "Fitting 5 folds for each of 16 candidates, totalling 80 fits\n",
      "Fitting 5 folds for each of 16 candidates, totalling 80 fits\n",
      "Fitting 5 folds for each of 16 candidates, totalling 80 fits\n",
      "Best subset: ['sex_Female', 'sex_Male', 'occupation_Construction/Extraction', 'occupation_Counseling/Mental Health Services', 'occupation_Education', 'occupation_Entertainment', 'occupation_Farming, Fishing, Forestry', 'occupation_Finance/Accounting', 'occupation_Healthcare/Medical Services', 'occupation_Legal Services', 'occupation_Management/Business', 'occupation_Military Services', 'occupation_Office/Administrative Support', 'occupation_Production/Assembly', 'occupation_Protective Services', 'occupation_Repair/Maintenance', 'occupation_Sales', 'occupation_Science, Engineering, Technology', 'occupation_Service/Hospitality', 'occupation_Transport', 'marital status_Divorced', 'marital status_Husband', 'marital status_Never married', 'marital status_Separated', 'marital status_Widowed', 'marital status_Wife', 'education', 'workinghours', 'age']\n",
      "Remaining features: [['ability to speak english'], ['workclass_governmental', 'workclass_no paid work', 'workclass_private', 'workclass_self employed'], ['gave birth this year_No', 'gave birth this year_Yes']]\n",
      "Fitting 5 folds for each of 16 candidates, totalling 80 fits\n",
      "Fitting 5 folds for each of 16 candidates, totalling 80 fits\n",
      "Fitting 5 folds for each of 16 candidates, totalling 80 fits\n",
      "Best subset: ['sex_Female', 'sex_Male', 'occupation_Construction/Extraction', 'occupation_Counseling/Mental Health Services', 'occupation_Education', 'occupation_Entertainment', 'occupation_Farming, Fishing, Forestry', 'occupation_Finance/Accounting', 'occupation_Healthcare/Medical Services', 'occupation_Legal Services', 'occupation_Management/Business', 'occupation_Military Services', 'occupation_Office/Administrative Support', 'occupation_Production/Assembly', 'occupation_Protective Services', 'occupation_Repair/Maintenance', 'occupation_Sales', 'occupation_Science, Engineering, Technology', 'occupation_Service/Hospitality', 'occupation_Transport', 'marital status_Divorced', 'marital status_Husband', 'marital status_Never married', 'marital status_Separated', 'marital status_Widowed', 'marital status_Wife', 'education', 'workinghours', 'age', 'workclass_governmental', 'workclass_no paid work', 'workclass_private', 'workclass_self employed']\n",
      "Remaining features: [['ability to speak english'], ['gave birth this year_No', 'gave birth this year_Yes']]\n",
      "Fitting 5 folds for each of 16 candidates, totalling 80 fits\n",
      "Fitting 5 folds for each of 16 candidates, totalling 80 fits\n",
      "Best subset: ['sex_Female', 'sex_Male', 'occupation_Construction/Extraction', 'occupation_Counseling/Mental Health Services', 'occupation_Education', 'occupation_Entertainment', 'occupation_Farming, Fishing, Forestry', 'occupation_Finance/Accounting', 'occupation_Healthcare/Medical Services', 'occupation_Legal Services', 'occupation_Management/Business', 'occupation_Military Services', 'occupation_Office/Administrative Support', 'occupation_Production/Assembly', 'occupation_Protective Services', 'occupation_Repair/Maintenance', 'occupation_Sales', 'occupation_Science, Engineering, Technology', 'occupation_Service/Hospitality', 'occupation_Transport', 'marital status_Divorced', 'marital status_Husband', 'marital status_Never married', 'marital status_Separated', 'marital status_Widowed', 'marital status_Wife', 'education', 'workinghours', 'age', 'workclass_governmental', 'workclass_no paid work', 'workclass_private', 'workclass_self employed']\n",
      "Remaining features: [['ability to speak english'], ['gave birth this year_No', 'gave birth this year_Yes']]\n",
      "Best subset of features: ['sex_Female', 'sex_Male', 'occupation_Construction/Extraction', 'occupation_Counseling/Mental Health Services', 'occupation_Education', 'occupation_Entertainment', 'occupation_Farming, Fishing, Forestry', 'occupation_Finance/Accounting', 'occupation_Healthcare/Medical Services', 'occupation_Legal Services', 'occupation_Management/Business', 'occupation_Military Services', 'occupation_Office/Administrative Support', 'occupation_Production/Assembly', 'occupation_Protective Services', 'occupation_Repair/Maintenance', 'occupation_Sales', 'occupation_Science, Engineering, Technology', 'occupation_Service/Hospitality', 'occupation_Transport', 'marital status_Divorced', 'marital status_Husband', 'marital status_Never married', 'marital status_Separated', 'marital status_Widowed', 'marital status_Wife', 'education', 'workinghours', 'age', 'workclass_governmental', 'workclass_no paid work', 'workclass_private', 'workclass_self employed']\n",
      "Best hyperparameters: {'C': 10, 'max_iter': 5000, 'penalty': 'l2', 'random_state': 42, 'solver': 'newton-cg'}\n",
      "Best model accuracy: 0.7922222222222223\n",
      "              precision    recall  f1-score   support\n",
      "\n",
      "           0       0.82      0.87      0.84      1175\n",
      "           1       0.72      0.64      0.68       625\n",
      "\n",
      "    accuracy                           0.79      1800\n",
      "   macro avg       0.77      0.76      0.76      1800\n",
      "weighted avg       0.79      0.79      0.79      1800\n",
      "\n",
      "Fairness Metrics:\n",
      "Male FPR: 0.18053596614950634\n",
      "Male TPR: 0.7274549098196392\n",
      "Female FPR: 0.055793991416309016\n",
      "Female TPR: 0.30158730158730157\n",
      "\n",
      "Disparate Impact (DI): 0.266\n",
      "Discrimination Score (DS): -0.298\n",
      "Equal Opportunity Difference (EO): 0.426\n",
      "Equalized Odds (EOdds): 0.125\n"
     ]
    }
   ],
   "source": [
    "# Forward feature selection with hyperparameter tuning\n",
    "best_subset, best_params, best_score = forward_feat_selection_hypertuning(LogisticRegression(), param_grid, X_encoded, X_train, y_train, X_test, y_test, ensure_fairness=True)\n",
    "\n",
    "print(\"Best subset of features:\", best_subset)\n",
    "print(\"Best hyperparameters:\", best_params)\n",
    "print(\"Best model accuracy:\", best_score)\n",
    "\n",
    "# Use the best subset and best hyperparameters for final model\n",
    "final_model_allf_ffs = LogisticRegression(**best_params)\n",
    "final_model_allf_ffs.fit(X_train[best_subset], y_train)\n",
    "final_model_preds = final_model_allf_ffs.predict(X_test[best_subset])\n",
    "final_model_accuracy = accuracy_score(y_test, final_model_preds)\n",
    "\n",
    "print(classification_report(y_test, final_model_preds))\n",
    "\n",
    "print_male_female_metrics(final_model_allf_ffs, X, X_male, X_female, X_test[best_subset], y_test)\n",
    "save_model(final_model_allf_ffs, '../output/saved_models/lr_model_sexincl_ffs_tuned_fair.joblib')"
   ],
   "metadata": {
    "collapsed": false,
    "ExecuteTime": {
     "end_time": "2024-05-03T18:48:07.665836200Z",
     "start_time": "2024-05-03T18:44:09.319774800Z"
    }
   },
   "id": "49c556fbd6022047",
   "execution_count": 16
  },
  {
   "cell_type": "markdown",
   "source": [
    "#### Removing sex-related columns"
   ],
   "metadata": {
    "collapsed": false
   },
   "id": "2a1b7e999e0c726d"
  },
  {
   "cell_type": "markdown",
   "source": [
    "Below we do Forward feature selection with hyperparameter tuning, but we exclude all sex-related columns."
   ],
   "metadata": {
    "collapsed": false
   },
   "id": "c8a3d6e07b11752f"
  },
  {
   "cell_type": "code",
   "outputs": [
    {
     "name": "stdout",
     "output_type": "stream",
     "text": [
      "Fitting 5 folds for each of 16 candidates, totalling 80 fits\n",
      "Fitting 5 folds for each of 16 candidates, totalling 80 fits\n",
      "Fitting 5 folds for each of 16 candidates, totalling 80 fits\n",
      "Fitting 5 folds for each of 16 candidates, totalling 80 fits\n",
      "Fitting 5 folds for each of 16 candidates, totalling 80 fits\n",
      "Fitting 5 folds for each of 16 candidates, totalling 80 fits\n",
      "Best subset: ['occupation_Construction/Extraction', 'occupation_Counseling/Mental Health Services', 'occupation_Education', 'occupation_Entertainment', 'occupation_Farming, Fishing, Forestry', 'occupation_Finance/Accounting', 'occupation_Healthcare/Medical Services', 'occupation_Legal Services', 'occupation_Management/Business', 'occupation_Military Services', 'occupation_Office/Administrative Support', 'occupation_Production/Assembly', 'occupation_Protective Services', 'occupation_Repair/Maintenance', 'occupation_Sales', 'occupation_Science, Engineering, Technology', 'occupation_Service/Hospitality', 'occupation_Transport']\n",
      "Remaining features: [['age'], ['education'], ['workinghours'], ['ability to speak english'], ['workclass_governmental', 'workclass_no paid work', 'workclass_private', 'workclass_self employed']]\n",
      "Fitting 5 folds for each of 16 candidates, totalling 80 fits\n",
      "Fitting 5 folds for each of 16 candidates, totalling 80 fits\n",
      "Fitting 5 folds for each of 16 candidates, totalling 80 fits\n",
      "Fitting 5 folds for each of 16 candidates, totalling 80 fits\n",
      "Fitting 5 folds for each of 16 candidates, totalling 80 fits\n",
      "Best subset: ['occupation_Construction/Extraction', 'occupation_Counseling/Mental Health Services', 'occupation_Education', 'occupation_Entertainment', 'occupation_Farming, Fishing, Forestry', 'occupation_Finance/Accounting', 'occupation_Healthcare/Medical Services', 'occupation_Legal Services', 'occupation_Management/Business', 'occupation_Military Services', 'occupation_Office/Administrative Support', 'occupation_Production/Assembly', 'occupation_Protective Services', 'occupation_Repair/Maintenance', 'occupation_Sales', 'occupation_Science, Engineering, Technology', 'occupation_Service/Hospitality', 'occupation_Transport', 'education']\n",
      "Remaining features: [['age'], ['workinghours'], ['ability to speak english'], ['workclass_governmental', 'workclass_no paid work', 'workclass_private', 'workclass_self employed']]\n",
      "Fitting 5 folds for each of 16 candidates, totalling 80 fits\n",
      "Fitting 5 folds for each of 16 candidates, totalling 80 fits\n",
      "Fitting 5 folds for each of 16 candidates, totalling 80 fits\n",
      "Fitting 5 folds for each of 16 candidates, totalling 80 fits\n",
      "Best subset: ['occupation_Construction/Extraction', 'occupation_Counseling/Mental Health Services', 'occupation_Education', 'occupation_Entertainment', 'occupation_Farming, Fishing, Forestry', 'occupation_Finance/Accounting', 'occupation_Healthcare/Medical Services', 'occupation_Legal Services', 'occupation_Management/Business', 'occupation_Military Services', 'occupation_Office/Administrative Support', 'occupation_Production/Assembly', 'occupation_Protective Services', 'occupation_Repair/Maintenance', 'occupation_Sales', 'occupation_Science, Engineering, Technology', 'occupation_Service/Hospitality', 'occupation_Transport', 'education', 'workinghours']\n",
      "Remaining features: [['age'], ['ability to speak english'], ['workclass_governmental', 'workclass_no paid work', 'workclass_private', 'workclass_self employed']]\n",
      "Fitting 5 folds for each of 16 candidates, totalling 80 fits\n",
      "Fitting 5 folds for each of 16 candidates, totalling 80 fits\n",
      "Fitting 5 folds for each of 16 candidates, totalling 80 fits\n",
      "Best subset: ['occupation_Construction/Extraction', 'occupation_Counseling/Mental Health Services', 'occupation_Education', 'occupation_Entertainment', 'occupation_Farming, Fishing, Forestry', 'occupation_Finance/Accounting', 'occupation_Healthcare/Medical Services', 'occupation_Legal Services', 'occupation_Management/Business', 'occupation_Military Services', 'occupation_Office/Administrative Support', 'occupation_Production/Assembly', 'occupation_Protective Services', 'occupation_Repair/Maintenance', 'occupation_Sales', 'occupation_Science, Engineering, Technology', 'occupation_Service/Hospitality', 'occupation_Transport', 'education', 'workinghours', 'age']\n",
      "Remaining features: [['ability to speak english'], ['workclass_governmental', 'workclass_no paid work', 'workclass_private', 'workclass_self employed']]\n",
      "Fitting 5 folds for each of 16 candidates, totalling 80 fits\n",
      "Fitting 5 folds for each of 16 candidates, totalling 80 fits\n",
      "Best subset: ['occupation_Construction/Extraction', 'occupation_Counseling/Mental Health Services', 'occupation_Education', 'occupation_Entertainment', 'occupation_Farming, Fishing, Forestry', 'occupation_Finance/Accounting', 'occupation_Healthcare/Medical Services', 'occupation_Legal Services', 'occupation_Management/Business', 'occupation_Military Services', 'occupation_Office/Administrative Support', 'occupation_Production/Assembly', 'occupation_Protective Services', 'occupation_Repair/Maintenance', 'occupation_Sales', 'occupation_Science, Engineering, Technology', 'occupation_Service/Hospitality', 'occupation_Transport', 'education', 'workinghours', 'age']\n",
      "Remaining features: [['ability to speak english'], ['workclass_governmental', 'workclass_no paid work', 'workclass_private', 'workclass_self employed']]\n",
      "Best subset of features: ['occupation_Construction/Extraction', 'occupation_Counseling/Mental Health Services', 'occupation_Education', 'occupation_Entertainment', 'occupation_Farming, Fishing, Forestry', 'occupation_Finance/Accounting', 'occupation_Healthcare/Medical Services', 'occupation_Legal Services', 'occupation_Management/Business', 'occupation_Military Services', 'occupation_Office/Administrative Support', 'occupation_Production/Assembly', 'occupation_Protective Services', 'occupation_Repair/Maintenance', 'occupation_Sales', 'occupation_Science, Engineering, Technology', 'occupation_Service/Hospitality', 'occupation_Transport', 'education', 'workinghours', 'age']\n",
      "Best hyperparameters: {'C': 10, 'max_iter': 5000, 'penalty': 'l2', 'random_state': 42, 'solver': 'newton-cholesky'}\n",
      "Best model accuracy: 0.7527777777777778\n",
      "              precision    recall  f1-score   support\n",
      "\n",
      "           0       0.79      0.85      0.82      1175\n",
      "           1       0.67      0.56      0.61       625\n",
      "\n",
      "    accuracy                           0.75      1800\n",
      "   macro avg       0.73      0.71      0.72      1800\n",
      "weighted avg       0.75      0.75      0.75      1800\n",
      "\n",
      "Fairness Metrics:\n",
      "Male FPR: 0.15514809590973203\n",
      "Male TPR: 0.593186372745491\n",
      "Female FPR: 0.13090128755364808\n",
      "Female TPR: 0.4365079365079365\n",
      "\n",
      "Disparate Impact (DI): 0.583\n",
      "Discrimination Score (DS): -0.140\n",
      "Equal Opportunity Difference (EO): 0.157\n",
      "Equalized Odds (EOdds): 0.024\n"
     ]
    }
   ],
   "source": [
    "# Forward feature selection with hyperparameter tuning\n",
    "columns_to_exclude = ['sex', 'gave birth this year', 'marital status']\n",
    "X_train_, X_test_, y_train_, y_test_, X_male, X_female = get_train_test_with_excluded_columns(data, columns_to_exclude)\n",
    "\n",
    "best_subset, best_params, best_score = forward_feat_selection_hypertuning(LogisticRegression(), param_grid, X_encoded, X_train_, y_train_, X_test_, y_test_)\n",
    "\n",
    "print(\"Best subset of features:\", best_subset)\n",
    "print(\"Best hyperparameters:\", best_params)\n",
    "print(\"Best model accuracy:\", best_score)\n",
    "\n",
    "# Use the best subset and best hyperparameters for final model\n",
    "final_model_sexexcl_ffs = LogisticRegression(**best_params)\n",
    "final_model_sexexcl_ffs.fit(X_train_[best_subset], y_train_)\n",
    "final_model_preds = final_model_sexexcl_ffs.predict(X_test_[best_subset])\n",
    "final_model_accuracy = accuracy_score(y_test_, final_model_preds)\n",
    "\n",
    "print(classification_report(y_test, final_model_preds))\n",
    "\n",
    "print_male_female_metrics(final_model_sexexcl_ffs, X, X_male, X_female, X_test_[best_subset], y_test_)\n",
    "save_model(final_model_sexexcl_ffs, '../output/saved_models/lr_model_sexexcl_ffs_tuned_unfair.joblib')"
   ],
   "metadata": {
    "collapsed": false,
    "ExecuteTime": {
     "end_time": "2024-05-03T18:49:41.966161900Z",
     "start_time": "2024-05-03T18:48:07.653868300Z"
    }
   },
   "id": "2d81ebb18184e326",
   "execution_count": 17
  },
  {
   "cell_type": "markdown",
   "source": [
    "Now the same but with fairness constraints."
   ],
   "metadata": {
    "collapsed": false
   },
   "id": "6433276620c81f71"
  },
  {
   "cell_type": "code",
   "outputs": [
    {
     "name": "stdout",
     "output_type": "stream",
     "text": [
      "Fitting 5 folds for each of 16 candidates, totalling 80 fits\n",
      "Fitting 5 folds for each of 16 candidates, totalling 80 fits\n",
      "Fitting 5 folds for each of 16 candidates, totalling 80 fits\n",
      "Fitting 5 folds for each of 16 candidates, totalling 80 fits\n",
      "Fitting 5 folds for each of 16 candidates, totalling 80 fits\n",
      "Fitting 5 folds for each of 16 candidates, totalling 80 fits\n",
      "Best subset: ['occupation_Construction/Extraction', 'occupation_Counseling/Mental Health Services', 'occupation_Education', 'occupation_Entertainment', 'occupation_Farming, Fishing, Forestry', 'occupation_Finance/Accounting', 'occupation_Healthcare/Medical Services', 'occupation_Legal Services', 'occupation_Management/Business', 'occupation_Military Services', 'occupation_Office/Administrative Support', 'occupation_Production/Assembly', 'occupation_Protective Services', 'occupation_Repair/Maintenance', 'occupation_Sales', 'occupation_Science, Engineering, Technology', 'occupation_Service/Hospitality', 'occupation_Transport']\n",
      "Remaining features: [['age'], ['education'], ['workinghours'], ['ability to speak english'], ['workclass_governmental', 'workclass_no paid work', 'workclass_private', 'workclass_self employed']]\n",
      "Fitting 5 folds for each of 16 candidates, totalling 80 fits\n",
      "Fitting 5 folds for each of 16 candidates, totalling 80 fits\n",
      "Fitting 5 folds for each of 16 candidates, totalling 80 fits\n",
      "Fitting 5 folds for each of 16 candidates, totalling 80 fits\n",
      "Fitting 5 folds for each of 16 candidates, totalling 80 fits\n",
      "Best subset: ['occupation_Construction/Extraction', 'occupation_Counseling/Mental Health Services', 'occupation_Education', 'occupation_Entertainment', 'occupation_Farming, Fishing, Forestry', 'occupation_Finance/Accounting', 'occupation_Healthcare/Medical Services', 'occupation_Legal Services', 'occupation_Management/Business', 'occupation_Military Services', 'occupation_Office/Administrative Support', 'occupation_Production/Assembly', 'occupation_Protective Services', 'occupation_Repair/Maintenance', 'occupation_Sales', 'occupation_Science, Engineering, Technology', 'occupation_Service/Hospitality', 'occupation_Transport', 'education']\n",
      "Remaining features: [['age'], ['workinghours'], ['ability to speak english'], ['workclass_governmental', 'workclass_no paid work', 'workclass_private', 'workclass_self employed']]\n",
      "Fitting 5 folds for each of 16 candidates, totalling 80 fits\n",
      "Fitting 5 folds for each of 16 candidates, totalling 80 fits\n",
      "Fitting 5 folds for each of 16 candidates, totalling 80 fits\n",
      "Fitting 5 folds for each of 16 candidates, totalling 80 fits\n",
      "Best subset: ['occupation_Construction/Extraction', 'occupation_Counseling/Mental Health Services', 'occupation_Education', 'occupation_Entertainment', 'occupation_Farming, Fishing, Forestry', 'occupation_Finance/Accounting', 'occupation_Healthcare/Medical Services', 'occupation_Legal Services', 'occupation_Management/Business', 'occupation_Military Services', 'occupation_Office/Administrative Support', 'occupation_Production/Assembly', 'occupation_Protective Services', 'occupation_Repair/Maintenance', 'occupation_Sales', 'occupation_Science, Engineering, Technology', 'occupation_Service/Hospitality', 'occupation_Transport', 'education', 'workinghours']\n",
      "Remaining features: [['age'], ['ability to speak english'], ['workclass_governmental', 'workclass_no paid work', 'workclass_private', 'workclass_self employed']]\n",
      "Fitting 5 folds for each of 16 candidates, totalling 80 fits\n",
      "Fitting 5 folds for each of 16 candidates, totalling 80 fits\n",
      "Fitting 5 folds for each of 16 candidates, totalling 80 fits\n",
      "Best subset: ['occupation_Construction/Extraction', 'occupation_Counseling/Mental Health Services', 'occupation_Education', 'occupation_Entertainment', 'occupation_Farming, Fishing, Forestry', 'occupation_Finance/Accounting', 'occupation_Healthcare/Medical Services', 'occupation_Legal Services', 'occupation_Management/Business', 'occupation_Military Services', 'occupation_Office/Administrative Support', 'occupation_Production/Assembly', 'occupation_Protective Services', 'occupation_Repair/Maintenance', 'occupation_Sales', 'occupation_Science, Engineering, Technology', 'occupation_Service/Hospitality', 'occupation_Transport', 'education', 'workinghours', 'age']\n",
      "Remaining features: [['ability to speak english'], ['workclass_governmental', 'workclass_no paid work', 'workclass_private', 'workclass_self employed']]\n",
      "Fitting 5 folds for each of 16 candidates, totalling 80 fits\n",
      "Fitting 5 folds for each of 16 candidates, totalling 80 fits\n",
      "Best subset: ['occupation_Construction/Extraction', 'occupation_Counseling/Mental Health Services', 'occupation_Education', 'occupation_Entertainment', 'occupation_Farming, Fishing, Forestry', 'occupation_Finance/Accounting', 'occupation_Healthcare/Medical Services', 'occupation_Legal Services', 'occupation_Management/Business', 'occupation_Military Services', 'occupation_Office/Administrative Support', 'occupation_Production/Assembly', 'occupation_Protective Services', 'occupation_Repair/Maintenance', 'occupation_Sales', 'occupation_Science, Engineering, Technology', 'occupation_Service/Hospitality', 'occupation_Transport', 'education', 'workinghours', 'age', 'workclass_governmental', 'workclass_no paid work', 'workclass_private', 'workclass_self employed']\n",
      "Remaining features: [['ability to speak english']]\n",
      "Fitting 5 folds for each of 16 candidates, totalling 80 fits\n",
      "Best subset: ['occupation_Construction/Extraction', 'occupation_Counseling/Mental Health Services', 'occupation_Education', 'occupation_Entertainment', 'occupation_Farming, Fishing, Forestry', 'occupation_Finance/Accounting', 'occupation_Healthcare/Medical Services', 'occupation_Legal Services', 'occupation_Management/Business', 'occupation_Military Services', 'occupation_Office/Administrative Support', 'occupation_Production/Assembly', 'occupation_Protective Services', 'occupation_Repair/Maintenance', 'occupation_Sales', 'occupation_Science, Engineering, Technology', 'occupation_Service/Hospitality', 'occupation_Transport', 'education', 'workinghours', 'age', 'workclass_governmental', 'workclass_no paid work', 'workclass_private', 'workclass_self employed']\n",
      "Remaining features: [['ability to speak english']]\n",
      "Best subset of features: ['occupation_Construction/Extraction', 'occupation_Counseling/Mental Health Services', 'occupation_Education', 'occupation_Entertainment', 'occupation_Farming, Fishing, Forestry', 'occupation_Finance/Accounting', 'occupation_Healthcare/Medical Services', 'occupation_Legal Services', 'occupation_Management/Business', 'occupation_Military Services', 'occupation_Office/Administrative Support', 'occupation_Production/Assembly', 'occupation_Protective Services', 'occupation_Repair/Maintenance', 'occupation_Sales', 'occupation_Science, Engineering, Technology', 'occupation_Service/Hospitality', 'occupation_Transport', 'education', 'workinghours', 'age', 'workclass_governmental', 'workclass_no paid work', 'workclass_private', 'workclass_self employed']\n",
      "Best hyperparameters: {'C': 0.01, 'max_iter': 5000, 'penalty': 'l2', 'random_state': 42, 'solver': 'lbfgs'}\n",
      "Best model accuracy: 0.7505555555555555\n",
      "              precision    recall  f1-score   support\n",
      "\n",
      "           0       0.77      0.88      0.82      1175\n",
      "           1       0.69      0.51      0.59       625\n",
      "\n",
      "    accuracy                           0.75      1800\n",
      "   macro avg       0.73      0.69      0.70      1800\n",
      "weighted avg       0.74      0.75      0.74      1800\n",
      "\n",
      "Fairness Metrics:\n",
      "Male FPR: 0.11283497884344147\n",
      "Male TPR: 0.5270541082164328\n",
      "Female FPR: 0.13733905579399142\n",
      "Female TPR: 0.4523809523809524\n",
      "\n",
      "Disparate Impact (DI): 0.720\n",
      "Discrimination Score (DS): -0.080\n",
      "Equal Opportunity Difference (EO): 0.075\n",
      "Equalized Odds (EOdds): -0.025\n"
     ]
    }
   ],
   "source": [
    "# Forward feature selection with hyperparameter tuning\n",
    "columns_to_exclude = ['sex', 'gave birth this year', 'marital status']\n",
    "X_train_, X_test_, y_train_, y_test_, X_male, X_female = get_train_test_with_excluded_columns(data, columns_to_exclude)\n",
    "\n",
    "best_subset, best_params, best_score = forward_feat_selection_hypertuning(LogisticRegression(), param_grid, X_encoded, X_train_, y_train_, X_test_, y_test_, ensure_fairness=True)\n",
    "\n",
    "print(\"Best subset of features:\", best_subset)\n",
    "print(\"Best hyperparameters:\", best_params)\n",
    "print(\"Best model accuracy:\", best_score)\n",
    "\n",
    "# Use the best subset and best hyperparameters for final model\n",
    "final_model_sexexcl_ffs = LogisticRegression(**best_params)\n",
    "final_model_sexexcl_ffs.fit(X_train_[best_subset], y_train_)\n",
    "final_model_preds = final_model_sexexcl_ffs.predict(X_test_[best_subset])\n",
    "final_model_accuracy = accuracy_score(y_test_, final_model_preds)\n",
    "\n",
    "print(classification_report(y_test, final_model_preds))\n",
    "\n",
    "print_male_female_metrics(final_model_sexexcl_ffs, X, X_male, X_female, X_test_[best_subset], y_test_)\n",
    "save_model(final_model_sexexcl_ffs, '../output/saved_models/lr_model_sexexcl_ffs_tuned_unfair.joblib')"
   ],
   "metadata": {
    "collapsed": false,
    "ExecuteTime": {
     "end_time": "2024-05-03T18:51:41.354076700Z",
     "start_time": "2024-05-03T18:49:41.966161900Z"
    }
   },
   "id": "82fbce8c1863aa2f",
   "execution_count": 18
  },
  {
   "cell_type": "markdown",
   "source": [
    "### AdaBoost Classifier"
   ],
   "metadata": {
    "collapsed": false
   },
   "id": "1ad0870d03a33a8c"
  },
  {
   "cell_type": "code",
   "outputs": [],
   "source": [
    "# Define the parameter grid for AdaBoost\n",
    "param_grid = {\n",
    "    'algorithm': ['SAMME', 'SAMME.R'],\n",
    "    'n_estimators': [50, 75, 100, 150],\n",
    "    'learning_rate': [0.1, 0.5, 1.0],\n",
    "    'estimator': [LogisticRegression(random_state=42), final_model_allf_ffs, final_model_sexexcl_ffs],\n",
    "    'random_state': [42]\n",
    "}"
   ],
   "metadata": {
    "collapsed": false,
    "ExecuteTime": {
     "end_time": "2024-05-03T18:51:41.355074400Z",
     "start_time": "2024-05-03T18:51:41.319169300Z"
    }
   },
   "id": "a111270c23cf01a8",
   "execution_count": 19
  },
  {
   "cell_type": "markdown",
   "source": [
    "Below, we tune the hyperparameters of the AdaBoost model using the defined parameter grid and using all features."
   ],
   "metadata": {
    "collapsed": false
   },
   "id": "851db85ce2aa0d9a"
  },
  {
   "cell_type": "code",
   "outputs": [
    {
     "name": "stdout",
     "output_type": "stream",
     "text": [
      "Fitting 5 folds for each of 72 candidates, totalling 360 fits\n",
      "\n",
      "Best Hyperparameters: {'algorithm': 'SAMME.R', 'estimator': LogisticRegression(C=10, max_iter=5000, random_state=42, solver='newton-cg'), 'learning_rate': 1.0, 'n_estimators': 100, 'random_state': 42}\n",
      "Best Model: AdaBoostClassifier(estimator=LogisticRegression(C=10, max_iter=5000,\n",
      "                                                random_state=42,\n",
      "                                                solver='newton-cg'),\n",
      "                   n_estimators=100, random_state=42)\n",
      "Best Model Accuracy: 0.7838888888888889\n",
      "              precision    recall  f1-score   support\n",
      "\n",
      "           0       0.81      0.87      0.84      1175\n",
      "           1       0.71      0.63      0.67       625\n",
      "\n",
      "    accuracy                           0.78      1800\n",
      "   macro avg       0.76      0.75      0.75      1800\n",
      "weighted avg       0.78      0.78      0.78      1800\n",
      "\n",
      "Fairness Metrics:\n",
      "Male FPR: 0.18899858956276447\n",
      "Male TPR: 0.717434869739479\n",
      "Female FPR: 0.04935622317596566\n",
      "Female TPR: 0.2777777777777778\n",
      "\n",
      "Disparate Impact (DI): 0.241\n",
      "Discrimination Score (DS): -0.309\n",
      "Equal Opportunity Difference (EO): 0.440\n",
      "Equalized Odds (EOdds): 0.140\n"
     ]
    }
   ],
   "source": [
    "best_params, best_model, best_accuracy = tune_model(AdaBoostClassifier(), X_encoded, X_train, y_train, X_test, y_test, param_grid)\n",
    "\n",
    "print(\"\\nBest Hyperparameters:\", best_params)\n",
    "print(\"Best Model:\", best_model)\n",
    "print(\"Best Model Accuracy:\", best_accuracy)\n",
    "\n",
    "preds = best_model.predict(X_test)\n",
    "print(classification_report(y_test, preds))\n",
    "\n",
    "print_male_female_metrics(best_model, X, X_male, X_female, X_test, y_test)\n",
    "save_model(best_model, '../output/saved_models/lr_model_sexincl_noffs_tuned_unfair_ada.joblib')"
   ],
   "metadata": {
    "collapsed": false,
    "ExecuteTime": {
     "end_time": "2024-05-03T19:03:36.056468100Z",
     "start_time": "2024-05-03T18:51:41.327148100Z"
    }
   },
   "id": "bf0899747c46223",
   "execution_count": 20
  },
  {
   "cell_type": "markdown",
   "source": [
    "Now the same but with fairness constraints."
   ],
   "metadata": {
    "collapsed": false
   },
   "id": "303345a7d8d3674d"
  },
  {
   "cell_type": "code",
   "outputs": [
    {
     "name": "stdout",
     "output_type": "stream",
     "text": [
      "Fitting 5 folds for each of 72 candidates, totalling 360 fits\n",
      "\n",
      "Best Hyperparameters: {'algorithm': 'SAMME', 'estimator': LogisticRegression(C=10, max_iter=5000, random_state=42, solver='newton-cg'), 'learning_rate': 0.5, 'n_estimators': 100, 'random_state': 42}\n",
      "Best Model: AdaBoostClassifier(algorithm='SAMME',\n",
      "                   estimator=LogisticRegression(C=10, max_iter=5000,\n",
      "                                                random_state=42,\n",
      "                                                solver='newton-cg'),\n",
      "                   learning_rate=0.5, n_estimators=100, random_state=42)\n",
      "Best Model Accuracy: 0.7661111111111111\n",
      "              precision    recall  f1-score   support\n",
      "\n",
      "           0       0.79      0.88      0.83      1175\n",
      "           1       0.71      0.56      0.62       625\n",
      "\n",
      "    accuracy                           0.77      1800\n",
      "   macro avg       0.75      0.72      0.73      1800\n",
      "weighted avg       0.76      0.77      0.76      1800\n",
      "\n",
      "Fairness Metrics:\n",
      "Male FPR: 0.16502115655853314\n",
      "Male TPR: 0.6372745490981964\n",
      "Female FPR: 0.060085836909871244\n",
      "Female TPR: 0.24603174603174602\n",
      "\n",
      "Disparate Impact (DI): 0.277\n",
      "Discrimination Score (DS): -0.260\n",
      "Equal Opportunity Difference (EO): 0.391\n",
      "Equalized Odds (EOdds): 0.105\n"
     ]
    }
   ],
   "source": [
    "best_params, best_model, best_accuracy = tune_model(AdaBoostClassifier(), X_encoded, X_train, y_train, X_test, y_test, param_grid, ensure_fairness=True)\n",
    "\n",
    "print(\"\\nBest Hyperparameters:\", best_params)\n",
    "print(\"Best Model:\", best_model)\n",
    "print(\"Best Model Accuracy:\", best_accuracy)\n",
    "\n",
    "preds = best_model.predict(X_test)\n",
    "print(classification_report(y_test, preds))\n",
    "\n",
    "print_male_female_metrics(best_model, X, X_male, X_female, X_test, y_test)\n",
    "save_model(best_model, '../output/saved_models/lr_model_sexincl_noffs_tuned_fair_ada.joblib')"
   ],
   "metadata": {
    "collapsed": false,
    "ExecuteTime": {
     "end_time": "2024-05-03T19:16:38.598659900Z",
     "start_time": "2024-05-03T19:03:36.053476900Z"
    }
   },
   "id": "15bf8ae31b3690a3",
   "execution_count": 21
  },
  {
   "cell_type": "markdown",
   "source": [
    "Below, we tune the hyperparameters of the AdaBoost model using the defined parameter grid and using a **subset of features**. We exclude the sex-related columns."
   ],
   "metadata": {
    "collapsed": false
   },
   "id": "4c9121ba529f18fd"
  },
  {
   "cell_type": "code",
   "outputs": [
    {
     "name": "stdout",
     "output_type": "stream",
     "text": [
      "Fitting 5 folds for each of 72 candidates, totalling 360 fits\n",
      "\n",
      "Best Hyperparameters: {'algorithm': 'SAMME.R', 'estimator': LogisticRegression(C=10, max_iter=5000, random_state=42, solver='newton-cg'), 'learning_rate': 0.5, 'n_estimators': 75, 'random_state': 42}\n",
      "Best Model: AdaBoostClassifier(estimator=LogisticRegression(C=10, max_iter=5000,\n",
      "                                                random_state=42,\n",
      "                                                solver='newton-cg'),\n",
      "                   learning_rate=0.5, n_estimators=75, random_state=42)\n",
      "Best Model Accuracy: 0.7544444444444445\n",
      "              precision    recall  f1-score   support\n",
      "\n",
      "           0       0.78      0.86      0.82      1175\n",
      "           1       0.68      0.55      0.61       625\n",
      "\n",
      "    accuracy                           0.75      1800\n",
      "   macro avg       0.73      0.71      0.71      1800\n",
      "weighted avg       0.75      0.75      0.75      1800\n",
      "\n",
      "Fairness Metrics:\n",
      "Male FPR: 0.14809590973201692\n",
      "Male TPR: 0.5851703406813628\n",
      "Female FPR: 0.12017167381974249\n",
      "Female TPR: 0.4126984126984127\n",
      "\n",
      "Disparate Impact (DI): 0.555\n",
      "Discrimination Score (DS): -0.146\n",
      "Equal Opportunity Difference (EO): 0.172\n",
      "Equalized Odds (EOdds): 0.028\n"
     ]
    }
   ],
   "source": [
    "columns_to_exclude = ['sex', 'gave birth this year', 'marital status']\n",
    "X_train_, X_test_, y_train_, y_test_, X_male, X_female = get_train_test_with_excluded_columns(data, columns_to_exclude)\n",
    "\n",
    "best_params, best_model, best_accuracy = tune_model(AdaBoostClassifier(), X_encoded, X_train_, y_train_, X_test_, y_test_, param_grid)\n",
    "\n",
    "print(\"\\nBest Hyperparameters:\", best_params)\n",
    "print(\"Best Model:\", best_model)\n",
    "print(\"Best Model Accuracy:\", best_accuracy)\n",
    "\n",
    "preds = best_model.predict(X_test_)\n",
    "print(classification_report(y_test_, preds))\n",
    "\n",
    "print_male_female_metrics(best_model, X, X_male, X_female, X_test_, y_test_)\n",
    "save_model(best_model, '../output/saved_models/lr_model_sexexcl_noffs_tuned_unfair_ada.joblib')"
   ],
   "metadata": {
    "collapsed": false,
    "ExecuteTime": {
     "end_time": "2024-05-03T19:28:18.328607100Z",
     "start_time": "2024-05-03T19:16:38.591679700Z"
    }
   },
   "id": "f426986e87bbf39b",
   "execution_count": 22
  },
  {
   "cell_type": "markdown",
   "source": [
    "Now the same but with fairness constraints."
   ],
   "metadata": {
    "collapsed": false
   },
   "id": "eba4bf5b1911eb21"
  },
  {
   "cell_type": "code",
   "outputs": [
    {
     "name": "stdout",
     "output_type": "stream",
     "text": [
      "Fitting 5 folds for each of 72 candidates, totalling 360 fits\n",
      "\n",
      "Best Hyperparameters: {'algorithm': 'SAMME', 'estimator': LogisticRegression(C=10, max_iter=5000, random_state=42, solver='newton-cg'), 'learning_rate': 0.1, 'n_estimators': 75, 'random_state': 42}\n",
      "Best Model: AdaBoostClassifier(algorithm='SAMME',\n",
      "                   estimator=LogisticRegression(C=10, max_iter=5000,\n",
      "                                                random_state=42,\n",
      "                                                solver='newton-cg'),\n",
      "                   learning_rate=0.1, n_estimators=75, random_state=42)\n",
      "Best Model Accuracy: 0.7511111111111111\n",
      "              precision    recall  f1-score   support\n",
      "\n",
      "           0       0.77      0.87      0.82      1175\n",
      "           1       0.69      0.52      0.59       625\n",
      "\n",
      "    accuracy                           0.75      1800\n",
      "   macro avg       0.73      0.70      0.71      1800\n",
      "weighted avg       0.74      0.75      0.74      1800\n",
      "\n",
      "Fairness Metrics:\n",
      "Male FPR: 0.11283497884344147\n",
      "Male TPR: 0.5290581162324649\n",
      "Female FPR: 0.1459227467811159\n",
      "Female TPR: 0.48412698412698413\n",
      "\n",
      "Disparate Impact (DI): 0.765\n",
      "Discrimination Score (DS): -0.067\n",
      "Equal Opportunity Difference (EO): 0.045\n",
      "Equalized Odds (EOdds): -0.033\n"
     ]
    }
   ],
   "source": [
    "columns_to_exclude = ['sex', 'gave birth this year', 'marital status']\n",
    "X_train_, X_test_, y_train_, y_test_, X_male, X_female = get_train_test_with_excluded_columns(data, columns_to_exclude)\n",
    "\n",
    "best_params, best_model, best_accuracy = tune_model(AdaBoostClassifier(), X_encoded, X_train_, y_train_, X_test_, y_test_, param_grid, ensure_fairness=True)\n",
    "\n",
    "print(\"\\nBest Hyperparameters:\", best_params)\n",
    "print(\"Best Model:\", best_model)\n",
    "print(\"Best Model Accuracy:\", best_accuracy)\n",
    "\n",
    "preds = best_model.predict(X_test_)\n",
    "print(classification_report(y_test_, preds))\n",
    "\n",
    "print_male_female_metrics(best_model, X, X_male, X_female, X_test_, y_test_)\n",
    "save_model(best_model, '../output/saved_models/lr_model_sexexcl_noffs_tuned_fair_ada.joblib')"
   ],
   "metadata": {
    "collapsed": false,
    "ExecuteTime": {
     "end_time": "2024-05-03T19:40:51.550894500Z",
     "start_time": "2024-05-03T19:28:18.328607100Z"
    }
   },
   "id": "a9e3a879974f4b0b",
   "execution_count": 23
  }
 ],
 "metadata": {
  "kernelspec": {
   "display_name": "Python 3",
   "language": "python",
   "name": "python3"
  },
  "language_info": {
   "codemirror_mode": {
    "name": "ipython",
    "version": 2
   },
   "file_extension": ".py",
   "mimetype": "text/x-python",
   "name": "python",
   "nbconvert_exporter": "python",
   "pygments_lexer": "ipython2",
   "version": "2.7.6"
  }
 },
 "nbformat": 4,
 "nbformat_minor": 5
}
