{
 "cells": [
  {
   "cell_type": "code",
   "execution_count": 16,
   "id": "initial_id",
   "metadata": {
    "collapsed": true,
    "ExecuteTime": {
     "end_time": "2024-04-30T04:52:18.903893200Z",
     "start_time": "2024-04-30T04:52:18.885919600Z"
    }
   },
   "outputs": [],
   "source": [
    "import warnings\n",
    "warnings.filterwarnings(\"ignore\")\n",
    "\n",
    "from typing import List, Tuple\n",
    "from helper.helper_functions import load_dataset, save_model, get_features_and_target, encode_all_features\n",
    "from helper.clfmodel_functions import tune_model, seq_feat_selection, multi_metric_cv, plot_multi_score_cv_results, forward_feat_selection_hypertuning\n",
    "import pandas as pd\n",
    "import seaborn as sns\n",
    "import matplotlib.pyplot as plt\n",
    "\n",
    "from sklearn.model_selection import train_test_split\n",
    "from sklearn.metrics import accuracy_score, classification_report\n",
    "\n",
    "from sklearn.linear_model import LogisticRegression\n",
    "from sklearn.ensemble import AdaBoostClassifier\n",
    "from sklearn.inspection import permutation_importance\n",
    "\n",
    "from helper.fairness_functions import split_male_female_metrics, statistical_measures, print_statistical_measures, get_male_female_data, get_male_female_test_data"
   ]
  },
  {
   "cell_type": "markdown",
   "source": [
    "### Loading the cleaned dataset"
   ],
   "metadata": {
    "collapsed": false
   },
   "id": "ced45577f2a46d2"
  },
  {
   "cell_type": "code",
   "outputs": [],
   "source": [
    "data: pd.DataFrame = load_dataset('../data/assignment2_income_cleaned.xlsx')"
   ],
   "metadata": {
    "collapsed": false,
    "ExecuteTime": {
     "end_time": "2024-04-30T04:47:15.231508200Z",
     "start_time": "2024-04-30T04:47:13.175431700Z"
    }
   },
   "id": "573b15a0c08becd2",
   "execution_count": 2
  },
  {
   "cell_type": "markdown",
   "source": [
    "### Feature Engineering (encoding) & Train-Test Split"
   ],
   "metadata": {
    "collapsed": false
   },
   "id": "4f6c12ebae36d3b9"
  },
  {
   "cell_type": "code",
   "outputs": [],
   "source": [
    "# Splitting the data into features (X) and target (y)\n",
    "X, y = get_features_and_target(data, 'income')\n",
    "# Encoding the features and target, and excluding some columns\n",
    "X_encoded, y_encoded = encode_all_features(X, y, [])\n",
    "X_train, X_test, y_train, y_test = train_test_split(X_encoded, y_encoded, test_size=0.2, random_state=42)"
   ],
   "metadata": {
    "collapsed": false,
    "ExecuteTime": {
     "end_time": "2024-04-30T04:47:15.269922900Z",
     "start_time": "2024-04-30T04:47:15.233502900Z"
    }
   },
   "id": "83fc7449a1cf23ea",
   "execution_count": 3
  },
  {
   "cell_type": "code",
   "outputs": [
    {
     "data": {
      "text/plain": "      age  education  workinghours  ability to speak english  \\\n6317   22         16            36                         0   \n740    61         22            40                         1   \n3781   48         16            40                         0   \n7850   62         18            65                         0   \n2963   53         19            44                         0   \n\n      workclass_governmental  workclass_no paid work  workclass_private  \\\n6317                       0                       0                  1   \n740                        0                       0                  0   \n3781                       0                       0                  1   \n7850                       0                       0                  1   \n2963                       1                       0                  0   \n\n      workclass_self employed  occupation_Construction/Extraction  \\\n6317                        0                                   0   \n740                         1                                   0   \n3781                        0                                   0   \n7850                        0                                   0   \n2963                        0                                   0   \n\n      occupation_Counseling/Mental Health Services  ...  \\\n6317                                             0  ...   \n740                                              0  ...   \n3781                                             0  ...   \n7850                                             0  ...   \n2963                                             0  ...   \n\n      marital status_Divorced  marital status_Husband  \\\n6317                        0                       1   \n740                         1                       0   \n3781                        1                       0   \n7850                        0                       1   \n2963                        1                       0   \n\n      marital status_Never married  marital status_Separated  \\\n6317                             0                         0   \n740                              0                         0   \n3781                             0                         0   \n7850                             0                         0   \n2963                             0                         0   \n\n      marital status_Widowed  marital status_Wife  sex_Female  sex_Male  \\\n6317                       0                    0           0         1   \n740                        0                    0           0         1   \n3781                       0                    0           1         0   \n7850                       0                    0           0         1   \n2963                       0                    0           1         0   \n\n      gave birth this year_No  gave birth this year_Yes  \n6317                        1                         0  \n740                         1                         0  \n3781                        1                         0  \n7850                        1                         0  \n2963                        1                         0  \n\n[5 rows x 36 columns]",
      "text/html": "<div>\n<style scoped>\n    .dataframe tbody tr th:only-of-type {\n        vertical-align: middle;\n    }\n\n    .dataframe tbody tr th {\n        vertical-align: top;\n    }\n\n    .dataframe thead th {\n        text-align: right;\n    }\n</style>\n<table border=\"1\" class=\"dataframe\">\n  <thead>\n    <tr style=\"text-align: right;\">\n      <th></th>\n      <th>age</th>\n      <th>education</th>\n      <th>workinghours</th>\n      <th>ability to speak english</th>\n      <th>workclass_governmental</th>\n      <th>workclass_no paid work</th>\n      <th>workclass_private</th>\n      <th>workclass_self employed</th>\n      <th>occupation_Construction/Extraction</th>\n      <th>occupation_Counseling/Mental Health Services</th>\n      <th>...</th>\n      <th>marital status_Divorced</th>\n      <th>marital status_Husband</th>\n      <th>marital status_Never married</th>\n      <th>marital status_Separated</th>\n      <th>marital status_Widowed</th>\n      <th>marital status_Wife</th>\n      <th>sex_Female</th>\n      <th>sex_Male</th>\n      <th>gave birth this year_No</th>\n      <th>gave birth this year_Yes</th>\n    </tr>\n  </thead>\n  <tbody>\n    <tr>\n      <th>6317</th>\n      <td>22</td>\n      <td>16</td>\n      <td>36</td>\n      <td>0</td>\n      <td>0</td>\n      <td>0</td>\n      <td>1</td>\n      <td>0</td>\n      <td>0</td>\n      <td>0</td>\n      <td>...</td>\n      <td>0</td>\n      <td>1</td>\n      <td>0</td>\n      <td>0</td>\n      <td>0</td>\n      <td>0</td>\n      <td>0</td>\n      <td>1</td>\n      <td>1</td>\n      <td>0</td>\n    </tr>\n    <tr>\n      <th>740</th>\n      <td>61</td>\n      <td>22</td>\n      <td>40</td>\n      <td>1</td>\n      <td>0</td>\n      <td>0</td>\n      <td>0</td>\n      <td>1</td>\n      <td>0</td>\n      <td>0</td>\n      <td>...</td>\n      <td>1</td>\n      <td>0</td>\n      <td>0</td>\n      <td>0</td>\n      <td>0</td>\n      <td>0</td>\n      <td>0</td>\n      <td>1</td>\n      <td>1</td>\n      <td>0</td>\n    </tr>\n    <tr>\n      <th>3781</th>\n      <td>48</td>\n      <td>16</td>\n      <td>40</td>\n      <td>0</td>\n      <td>0</td>\n      <td>0</td>\n      <td>1</td>\n      <td>0</td>\n      <td>0</td>\n      <td>0</td>\n      <td>...</td>\n      <td>1</td>\n      <td>0</td>\n      <td>0</td>\n      <td>0</td>\n      <td>0</td>\n      <td>0</td>\n      <td>1</td>\n      <td>0</td>\n      <td>1</td>\n      <td>0</td>\n    </tr>\n    <tr>\n      <th>7850</th>\n      <td>62</td>\n      <td>18</td>\n      <td>65</td>\n      <td>0</td>\n      <td>0</td>\n      <td>0</td>\n      <td>1</td>\n      <td>0</td>\n      <td>0</td>\n      <td>0</td>\n      <td>...</td>\n      <td>0</td>\n      <td>1</td>\n      <td>0</td>\n      <td>0</td>\n      <td>0</td>\n      <td>0</td>\n      <td>0</td>\n      <td>1</td>\n      <td>1</td>\n      <td>0</td>\n    </tr>\n    <tr>\n      <th>2963</th>\n      <td>53</td>\n      <td>19</td>\n      <td>44</td>\n      <td>0</td>\n      <td>1</td>\n      <td>0</td>\n      <td>0</td>\n      <td>0</td>\n      <td>0</td>\n      <td>0</td>\n      <td>...</td>\n      <td>1</td>\n      <td>0</td>\n      <td>0</td>\n      <td>0</td>\n      <td>0</td>\n      <td>0</td>\n      <td>1</td>\n      <td>0</td>\n      <td>1</td>\n      <td>0</td>\n    </tr>\n  </tbody>\n</table>\n<p>5 rows × 36 columns</p>\n</div>"
     },
     "execution_count": 4,
     "metadata": {},
     "output_type": "execute_result"
    }
   ],
   "source": [
    "X_train.head()"
   ],
   "metadata": {
    "collapsed": false,
    "ExecuteTime": {
     "end_time": "2024-04-30T04:47:15.293768400Z",
     "start_time": "2024-04-30T04:47:15.267927300Z"
    }
   },
   "id": "fe2ec2747880d68e",
   "execution_count": 4
  },
  {
   "cell_type": "markdown",
   "source": [
    "### Model\n",
    "\n",
    "Here, we quickly train and evaluate a Logistic Regression model with random parameters for demonstration."
   ],
   "metadata": {
    "collapsed": false
   },
   "id": "bfc5f29026270e84"
  },
  {
   "cell_type": "code",
   "outputs": [
    {
     "name": "stdout",
     "output_type": "stream",
     "text": [
      "              precision    recall  f1-score   support\n",
      "\n",
      "           0       0.82      0.87      0.84      1175\n",
      "           1       0.72      0.64      0.68       625\n",
      "\n",
      "    accuracy                           0.79      1800\n",
      "   macro avg       0.77      0.76      0.76      1800\n",
      "weighted avg       0.79      0.79      0.79      1800\n",
      "\n",
      "Logistic Regression Accuracy: 0.7911111111111111\n"
     ]
    }
   ],
   "source": [
    "# Logistic Regression model\n",
    "lr_model = LogisticRegression(max_iter=2000)\n",
    "lr_model.fit(X_train, y_train)\n",
    "lr_preds = lr_model.predict(X_test)\n",
    "lr_accuracy = accuracy_score(y_test, lr_preds)\n",
    "\n",
    "print(classification_report(y_test, lr_preds))\n",
    "print(\"Logistic Regression Accuracy:\", lr_accuracy)"
   ],
   "metadata": {
    "collapsed": false,
    "ExecuteTime": {
     "end_time": "2024-04-30T04:47:16.838101800Z",
     "start_time": "2024-04-30T04:47:15.293768400Z"
    }
   },
   "id": "755b22d9e1afea95",
   "execution_count": 5
  },
  {
   "cell_type": "markdown",
   "source": [
    "### Feature Importance using the model itself"
   ],
   "metadata": {
    "collapsed": false
   },
   "id": "983f611fc0f04be0"
  },
  {
   "cell_type": "code",
   "outputs": [],
   "source": [
    "# Get the coefficients of the logistic regression model\n",
    "feature_importance_scores = lr_model.coef_[0]\n",
    "feature_importance_df = pd.DataFrame({\n",
    "    'Feature': X_train.columns,\n",
    "    'Coefficient': feature_importance_scores\n",
    "})\n",
    "# We sort the DataFrame by the absolute value of the coefficients\n",
    "feature_importance_df['Absolute_Coefficient'] = feature_importance_df['Coefficient'].abs()\n",
    "feature_importance_df = feature_importance_df.sort_values(by='Absolute_Coefficient', ascending=False).drop(columns='Absolute_Coefficient')"
   ],
   "metadata": {
    "collapsed": false,
    "ExecuteTime": {
     "end_time": "2024-04-30T04:47:16.878030500Z",
     "start_time": "2024-04-30T04:47:16.834111800Z"
    }
   },
   "id": "96ad3da456265eac",
   "execution_count": 6
  },
  {
   "cell_type": "code",
   "outputs": [
    {
     "data": {
      "text/plain": "                                         Feature  Coefficient\n24                occupation_Service/Hospitality    -1.547451\n23   occupation_Science, Engineering, Technology     1.221060\n13                 occupation_Finance/Accounting     0.955415\n15                     occupation_Legal Services     0.817418\n16                occupation_Management/Business     0.786187\n28                  marital status_Never married    -0.627166\n12         occupation_Farming, Fishing, Forestry    -0.626381\n5                         workclass_no paid work    -0.614467\n17                  occupation_Military Services     0.592107\n18      occupation_Office/Administrative Support    -0.568162\n27                        marital status_Husband     0.566575\n25                          occupation_Transport    -0.508796\n8             occupation_Construction/Extraction    -0.498653\n4                         workclass_governmental     0.456514\n30                        marital status_Widowed     0.416776\n10                          occupation_Education    -0.399853\n32                                    sex_Female    -0.371969\n20                occupation_Protective Services    -0.365332\n21                 occupation_Repair/Maintenance     0.338574\n9   occupation_Counseling/Mental Health Services    -0.319281\n29                      marital status_Separated    -0.301920\n19                occupation_Production/Assembly    -0.257407\n14        occupation_Healthcare/Medical Services     0.255187\n33                                      sex_Male     0.247074\n1                                      education     0.212450\n6                              workclass_private     0.185751\n11                      occupation_Entertainment     0.161805\n22                              occupation_Sales    -0.161334\n7                        workclass_self employed    -0.152694\n34                       gave birth this year_No    -0.144814\n31                           marital status_Wife    -0.130680\n2                                   workinghours     0.054453\n3                       ability to speak english    -0.053528\n26                       marital status_Divorced    -0.048482\n0                                            age     0.039580\n35                      gave birth this year_Yes     0.019919",
      "text/html": "<div>\n<style scoped>\n    .dataframe tbody tr th:only-of-type {\n        vertical-align: middle;\n    }\n\n    .dataframe tbody tr th {\n        vertical-align: top;\n    }\n\n    .dataframe thead th {\n        text-align: right;\n    }\n</style>\n<table border=\"1\" class=\"dataframe\">\n  <thead>\n    <tr style=\"text-align: right;\">\n      <th></th>\n      <th>Feature</th>\n      <th>Coefficient</th>\n    </tr>\n  </thead>\n  <tbody>\n    <tr>\n      <th>24</th>\n      <td>occupation_Service/Hospitality</td>\n      <td>-1.547451</td>\n    </tr>\n    <tr>\n      <th>23</th>\n      <td>occupation_Science, Engineering, Technology</td>\n      <td>1.221060</td>\n    </tr>\n    <tr>\n      <th>13</th>\n      <td>occupation_Finance/Accounting</td>\n      <td>0.955415</td>\n    </tr>\n    <tr>\n      <th>15</th>\n      <td>occupation_Legal Services</td>\n      <td>0.817418</td>\n    </tr>\n    <tr>\n      <th>16</th>\n      <td>occupation_Management/Business</td>\n      <td>0.786187</td>\n    </tr>\n    <tr>\n      <th>28</th>\n      <td>marital status_Never married</td>\n      <td>-0.627166</td>\n    </tr>\n    <tr>\n      <th>12</th>\n      <td>occupation_Farming, Fishing, Forestry</td>\n      <td>-0.626381</td>\n    </tr>\n    <tr>\n      <th>5</th>\n      <td>workclass_no paid work</td>\n      <td>-0.614467</td>\n    </tr>\n    <tr>\n      <th>17</th>\n      <td>occupation_Military Services</td>\n      <td>0.592107</td>\n    </tr>\n    <tr>\n      <th>18</th>\n      <td>occupation_Office/Administrative Support</td>\n      <td>-0.568162</td>\n    </tr>\n    <tr>\n      <th>27</th>\n      <td>marital status_Husband</td>\n      <td>0.566575</td>\n    </tr>\n    <tr>\n      <th>25</th>\n      <td>occupation_Transport</td>\n      <td>-0.508796</td>\n    </tr>\n    <tr>\n      <th>8</th>\n      <td>occupation_Construction/Extraction</td>\n      <td>-0.498653</td>\n    </tr>\n    <tr>\n      <th>4</th>\n      <td>workclass_governmental</td>\n      <td>0.456514</td>\n    </tr>\n    <tr>\n      <th>30</th>\n      <td>marital status_Widowed</td>\n      <td>0.416776</td>\n    </tr>\n    <tr>\n      <th>10</th>\n      <td>occupation_Education</td>\n      <td>-0.399853</td>\n    </tr>\n    <tr>\n      <th>32</th>\n      <td>sex_Female</td>\n      <td>-0.371969</td>\n    </tr>\n    <tr>\n      <th>20</th>\n      <td>occupation_Protective Services</td>\n      <td>-0.365332</td>\n    </tr>\n    <tr>\n      <th>21</th>\n      <td>occupation_Repair/Maintenance</td>\n      <td>0.338574</td>\n    </tr>\n    <tr>\n      <th>9</th>\n      <td>occupation_Counseling/Mental Health Services</td>\n      <td>-0.319281</td>\n    </tr>\n    <tr>\n      <th>29</th>\n      <td>marital status_Separated</td>\n      <td>-0.301920</td>\n    </tr>\n    <tr>\n      <th>19</th>\n      <td>occupation_Production/Assembly</td>\n      <td>-0.257407</td>\n    </tr>\n    <tr>\n      <th>14</th>\n      <td>occupation_Healthcare/Medical Services</td>\n      <td>0.255187</td>\n    </tr>\n    <tr>\n      <th>33</th>\n      <td>sex_Male</td>\n      <td>0.247074</td>\n    </tr>\n    <tr>\n      <th>1</th>\n      <td>education</td>\n      <td>0.212450</td>\n    </tr>\n    <tr>\n      <th>6</th>\n      <td>workclass_private</td>\n      <td>0.185751</td>\n    </tr>\n    <tr>\n      <th>11</th>\n      <td>occupation_Entertainment</td>\n      <td>0.161805</td>\n    </tr>\n    <tr>\n      <th>22</th>\n      <td>occupation_Sales</td>\n      <td>-0.161334</td>\n    </tr>\n    <tr>\n      <th>7</th>\n      <td>workclass_self employed</td>\n      <td>-0.152694</td>\n    </tr>\n    <tr>\n      <th>34</th>\n      <td>gave birth this year_No</td>\n      <td>-0.144814</td>\n    </tr>\n    <tr>\n      <th>31</th>\n      <td>marital status_Wife</td>\n      <td>-0.130680</td>\n    </tr>\n    <tr>\n      <th>2</th>\n      <td>workinghours</td>\n      <td>0.054453</td>\n    </tr>\n    <tr>\n      <th>3</th>\n      <td>ability to speak english</td>\n      <td>-0.053528</td>\n    </tr>\n    <tr>\n      <th>26</th>\n      <td>marital status_Divorced</td>\n      <td>-0.048482</td>\n    </tr>\n    <tr>\n      <th>0</th>\n      <td>age</td>\n      <td>0.039580</td>\n    </tr>\n    <tr>\n      <th>35</th>\n      <td>gave birth this year_Yes</td>\n      <td>0.019919</td>\n    </tr>\n  </tbody>\n</table>\n</div>"
     },
     "execution_count": 7,
     "metadata": {},
     "output_type": "execute_result"
    }
   ],
   "source": [
    "feature_importance_df"
   ],
   "metadata": {
    "collapsed": false,
    "ExecuteTime": {
     "end_time": "2024-04-30T04:47:16.880024300Z",
     "start_time": "2024-04-30T04:47:16.860072700Z"
    }
   },
   "id": "3df34a550d3f4bc4",
   "execution_count": 7
  },
  {
   "cell_type": "code",
   "outputs": [],
   "source": [
    "# https://stackoverflow.com/questions/34052115/how-to-find-the-importance-of-the-features-for-a-logistic-regression-model\n",
    "# https://scikit-learn.org/stable/modules/permutation_importance.html\n",
    "model_fi = permutation_importance(lr_model, X_encoded, y_encoded, n_repeats=30, random_state=0)\n",
    "feature_importance_df = pd.DataFrame({\n",
    "    'Feature': X_train.columns,\n",
    "    'Coefficient': model_fi['importances_mean']\n",
    "})\n",
    "feature_importance_df = feature_importance_df.sort_values(by='Coefficient', ascending=False)"
   ],
   "metadata": {
    "collapsed": false,
    "ExecuteTime": {
     "end_time": "2024-04-30T04:47:23.454804400Z",
     "start_time": "2024-04-30T04:47:16.873043300Z"
    }
   },
   "id": "1f84433317c7f73c",
   "execution_count": 8
  },
  {
   "cell_type": "code",
   "outputs": [
    {
     "data": {
      "text/plain": "                                         Feature  Coefficient\n1                                      education     0.036422\n2                                   workinghours     0.035289\n0                                            age     0.028207\n24                occupation_Service/Hospitality     0.010622\n27                        marital status_Husband     0.007419\n23   occupation_Science, Engineering, Technology     0.007252\n16                occupation_Management/Business     0.007178\n28                  marital status_Never married     0.005022\n4                         workclass_governmental     0.003133\n25                          occupation_Transport     0.002104\n19                occupation_Production/Assembly     0.002026\n13                 occupation_Finance/Accounting     0.001707\n32                                    sex_Female     0.001689\n6                              workclass_private     0.001626\n8             occupation_Construction/Extraction     0.001615\n15                     occupation_Legal Services     0.001470\n18      occupation_Office/Administrative Support     0.001378\n33                                      sex_Male     0.001156\n7                        workclass_self employed     0.000870\n12         occupation_Farming, Fishing, Forestry     0.000470\n21                 occupation_Repair/Maintenance     0.000467\n10                          occupation_Education     0.000456\n20                occupation_Protective Services     0.000415\n11                      occupation_Entertainment     0.000237\n34                       gave birth this year_No     0.000226\n26                       marital status_Divorced     0.000207\n5                         workclass_no paid work     0.000137\n9   occupation_Counseling/Mental Health Services     0.000133\n29                      marital status_Separated     0.000119\n30                        marital status_Widowed     0.000030\n35                      gave birth this year_Yes     0.000015\n14        occupation_Healthcare/Medical Services     0.000007\n31                           marital status_Wife    -0.000056\n17                  occupation_Military Services    -0.000122\n3                       ability to speak english    -0.000204\n22                              occupation_Sales    -0.000241",
      "text/html": "<div>\n<style scoped>\n    .dataframe tbody tr th:only-of-type {\n        vertical-align: middle;\n    }\n\n    .dataframe tbody tr th {\n        vertical-align: top;\n    }\n\n    .dataframe thead th {\n        text-align: right;\n    }\n</style>\n<table border=\"1\" class=\"dataframe\">\n  <thead>\n    <tr style=\"text-align: right;\">\n      <th></th>\n      <th>Feature</th>\n      <th>Coefficient</th>\n    </tr>\n  </thead>\n  <tbody>\n    <tr>\n      <th>1</th>\n      <td>education</td>\n      <td>0.036422</td>\n    </tr>\n    <tr>\n      <th>2</th>\n      <td>workinghours</td>\n      <td>0.035289</td>\n    </tr>\n    <tr>\n      <th>0</th>\n      <td>age</td>\n      <td>0.028207</td>\n    </tr>\n    <tr>\n      <th>24</th>\n      <td>occupation_Service/Hospitality</td>\n      <td>0.010622</td>\n    </tr>\n    <tr>\n      <th>27</th>\n      <td>marital status_Husband</td>\n      <td>0.007419</td>\n    </tr>\n    <tr>\n      <th>23</th>\n      <td>occupation_Science, Engineering, Technology</td>\n      <td>0.007252</td>\n    </tr>\n    <tr>\n      <th>16</th>\n      <td>occupation_Management/Business</td>\n      <td>0.007178</td>\n    </tr>\n    <tr>\n      <th>28</th>\n      <td>marital status_Never married</td>\n      <td>0.005022</td>\n    </tr>\n    <tr>\n      <th>4</th>\n      <td>workclass_governmental</td>\n      <td>0.003133</td>\n    </tr>\n    <tr>\n      <th>25</th>\n      <td>occupation_Transport</td>\n      <td>0.002104</td>\n    </tr>\n    <tr>\n      <th>19</th>\n      <td>occupation_Production/Assembly</td>\n      <td>0.002026</td>\n    </tr>\n    <tr>\n      <th>13</th>\n      <td>occupation_Finance/Accounting</td>\n      <td>0.001707</td>\n    </tr>\n    <tr>\n      <th>32</th>\n      <td>sex_Female</td>\n      <td>0.001689</td>\n    </tr>\n    <tr>\n      <th>6</th>\n      <td>workclass_private</td>\n      <td>0.001626</td>\n    </tr>\n    <tr>\n      <th>8</th>\n      <td>occupation_Construction/Extraction</td>\n      <td>0.001615</td>\n    </tr>\n    <tr>\n      <th>15</th>\n      <td>occupation_Legal Services</td>\n      <td>0.001470</td>\n    </tr>\n    <tr>\n      <th>18</th>\n      <td>occupation_Office/Administrative Support</td>\n      <td>0.001378</td>\n    </tr>\n    <tr>\n      <th>33</th>\n      <td>sex_Male</td>\n      <td>0.001156</td>\n    </tr>\n    <tr>\n      <th>7</th>\n      <td>workclass_self employed</td>\n      <td>0.000870</td>\n    </tr>\n    <tr>\n      <th>12</th>\n      <td>occupation_Farming, Fishing, Forestry</td>\n      <td>0.000470</td>\n    </tr>\n    <tr>\n      <th>21</th>\n      <td>occupation_Repair/Maintenance</td>\n      <td>0.000467</td>\n    </tr>\n    <tr>\n      <th>10</th>\n      <td>occupation_Education</td>\n      <td>0.000456</td>\n    </tr>\n    <tr>\n      <th>20</th>\n      <td>occupation_Protective Services</td>\n      <td>0.000415</td>\n    </tr>\n    <tr>\n      <th>11</th>\n      <td>occupation_Entertainment</td>\n      <td>0.000237</td>\n    </tr>\n    <tr>\n      <th>34</th>\n      <td>gave birth this year_No</td>\n      <td>0.000226</td>\n    </tr>\n    <tr>\n      <th>26</th>\n      <td>marital status_Divorced</td>\n      <td>0.000207</td>\n    </tr>\n    <tr>\n      <th>5</th>\n      <td>workclass_no paid work</td>\n      <td>0.000137</td>\n    </tr>\n    <tr>\n      <th>9</th>\n      <td>occupation_Counseling/Mental Health Services</td>\n      <td>0.000133</td>\n    </tr>\n    <tr>\n      <th>29</th>\n      <td>marital status_Separated</td>\n      <td>0.000119</td>\n    </tr>\n    <tr>\n      <th>30</th>\n      <td>marital status_Widowed</td>\n      <td>0.000030</td>\n    </tr>\n    <tr>\n      <th>35</th>\n      <td>gave birth this year_Yes</td>\n      <td>0.000015</td>\n    </tr>\n    <tr>\n      <th>14</th>\n      <td>occupation_Healthcare/Medical Services</td>\n      <td>0.000007</td>\n    </tr>\n    <tr>\n      <th>31</th>\n      <td>marital status_Wife</td>\n      <td>-0.000056</td>\n    </tr>\n    <tr>\n      <th>17</th>\n      <td>occupation_Military Services</td>\n      <td>-0.000122</td>\n    </tr>\n    <tr>\n      <th>3</th>\n      <td>ability to speak english</td>\n      <td>-0.000204</td>\n    </tr>\n    <tr>\n      <th>22</th>\n      <td>occupation_Sales</td>\n      <td>-0.000241</td>\n    </tr>\n  </tbody>\n</table>\n</div>"
     },
     "execution_count": 9,
     "metadata": {},
     "output_type": "execute_result"
    }
   ],
   "source": [
    "feature_importance_df"
   ],
   "metadata": {
    "collapsed": false,
    "ExecuteTime": {
     "end_time": "2024-04-30T04:47:23.472595700Z",
     "start_time": "2024-04-30T04:47:23.455802800Z"
    }
   },
   "id": "9ceffcc44abde12f",
   "execution_count": 9
  },
  {
   "cell_type": "markdown",
   "source": [
    "### Hyperparameter Tuning"
   ],
   "metadata": {
    "collapsed": false
   },
   "id": "89ee1aa06234190f"
  },
  {
   "cell_type": "markdown",
   "source": [
    "Here, we define the base parameter grid for our hyperparameter tuning function."
   ],
   "metadata": {
    "collapsed": false
   },
   "id": "885f65e8eefcf1db"
  },
  {
   "cell_type": "code",
   "outputs": [],
   "source": [
    "param_grid = {\n",
    "        'penalty': ['l2'],\n",
    "        'C': [0.01, 0.1, 1, 10],\n",
    "        'solver': ['lbfgs', 'liblinear', 'newton-cg', 'newton-cholesky'],\n",
    "        'max_iter': [5000],\n",
    "        'random_state': [42]\n",
    "    }"
   ],
   "metadata": {
    "collapsed": false,
    "ExecuteTime": {
     "end_time": "2024-04-30T04:47:23.474590100Z",
     "start_time": "2024-04-30T04:47:23.466773700Z"
    }
   },
   "id": "dac933cbe750f95",
   "execution_count": 10
  },
  {
   "cell_type": "markdown",
   "source": [
    "Below, we tune the hyperparameters of the Logistic Regression model using the defined parameter grid and using all features."
   ],
   "metadata": {
    "collapsed": false
   },
   "id": "5531efc1ee2d4887"
  },
  {
   "cell_type": "code",
   "outputs": [],
   "source": [
    "if False:\n",
    "    best_params, best_model, best_accuracy = tune_model(LogisticRegression(), X_train, y_train, X_test, y_test, param_grid)\n",
    "    \n",
    "    print(\"\\nBest Hyperparameters:\", best_params)\n",
    "    print(\"Best Model:\", best_model)\n",
    "    print(\"Best Model Accuracy:\", best_accuracy)"
   ],
   "metadata": {
    "collapsed": false,
    "ExecuteTime": {
     "end_time": "2024-04-30T04:47:23.494333700Z",
     "start_time": "2024-04-30T04:47:23.474590100Z"
    }
   },
   "id": "d6cfd27be7bfa635",
   "execution_count": 11
  },
  {
   "cell_type": "markdown",
   "source": [
    "Below, we tune the hyperparameters of the Logistic Regression model using the defined parameter grid and using a **subset of features**. We exclude the columns 'age', 'ability to speak english', and 'workclass'."
   ],
   "metadata": {
    "collapsed": false
   },
   "id": "a7e1559d5eff2d2e"
  },
  {
   "cell_type": "code",
   "outputs": [],
   "source": [
    "if False:\n",
    "    # Splitting the data into features (X) and target (y)\n",
    "    X_, y_ = get_features_and_target(data, 'income')\n",
    "    columns_to_exclude = ['age', 'ability to speak english', 'workclass']\n",
    "    X_ = X_.drop(columns=columns_to_exclude)\n",
    "    # Encoding the features and target, and excluding some columns\n",
    "    X_encoded_, y_encoded_ = encode_all_features(X_, y_, columns_to_exclude)\n",
    "    X_train_, X_test_, y_train_, y_test_ = train_test_split(X_encoded_, y_encoded_, test_size=0.2, random_state=42)\n",
    "    \n",
    "    best_params, best_model, best_accuracy = tune_model(LogisticRegression(), X_train_, y_train_, X_test_, y_test_, param_grid)\n",
    "    \n",
    "    print(\"\\nBest Hyperparameters:\", best_params)\n",
    "    print(\"Best Model:\", best_model)\n",
    "    print(\"Best Model Accuracy:\", best_accuracy)"
   ],
   "metadata": {
    "collapsed": false,
    "ExecuteTime": {
     "end_time": "2024-04-30T04:47:23.515275600Z",
     "start_time": "2024-04-30T04:47:23.482568700Z"
    }
   },
   "id": "5f16b76fe9a3f84a",
   "execution_count": 12
  },
  {
   "cell_type": "code",
   "outputs": [],
   "source": [
    "# Forward feature selection with hyperparameter tuning\n",
    "if False:\n",
    "    param_grid = {\n",
    "        'penalty': ['l2'],\n",
    "        'C': [0.01, 0.1, 1, 10],\n",
    "        'solver': ['lbfgs', 'liblinear', 'newton-cg', 'newton-cholesky'],\n",
    "        'max_iter': [5000],\n",
    "        'random_state': [42]\n",
    "    }\n",
    "    \n",
    "    best_subset, best_params, best_score = forward_feat_selection_hypertuning(LogisticRegression(), param_grid, X_train, y_train, X_test, y_test)\n",
    "    \n",
    "    print(\"Best subset of features:\", best_subset)\n",
    "    print(\"Best hyperparameters:\", best_params)\n",
    "    print(\"Best model accuracy:\", best_score)\n",
    "    \n",
    "    # Use the best subset and best hyperparameters for final model\n",
    "    final_model = LogisticRegression(**best_params)\n",
    "    final_model.fit(X_train[best_subset], y_train)\n",
    "    final_model_preds = final_model.predict(X_test[best_subset])\n",
    "    final_model_accuracy = accuracy_score(y_test, final_model_preds)\n",
    "    \n",
    "    print(classification_report(y_test, final_model_preds))"
   ],
   "metadata": {
    "collapsed": false,
    "ExecuteTime": {
     "end_time": "2024-04-30T04:47:23.572123400Z",
     "start_time": "2024-04-30T04:47:23.490209600Z"
    }
   },
   "id": "8510558c90f0c56",
   "execution_count": 13
  },
  {
   "cell_type": "code",
   "outputs": [
    {
     "name": "stdout",
     "output_type": "stream",
     "text": [
      "Fitting 5 folds for each of 24 candidates, totalling 120 fits\n",
      "\n",
      "Best Hyperparameters: {'algorithm': 'SAMME.R', 'estimator': LogisticRegression(random_state=42), 'learning_rate': 1.0, 'n_estimators': 150, 'random_state': 42}\n",
      "Best Model: AdaBoostClassifier(estimator=LogisticRegression(random_state=42),\n",
      "                   n_estimators=150, random_state=42)\n",
      "Best Model Accuracy: 0.7833333333333333\n"
     ]
    }
   ],
   "source": [
    "# Define the parameter grid for AdaBoost\n",
    "param_grid = {\n",
    "    'algorithm': ['SAMME', 'SAMME.R'],\n",
    "    'n_estimators': [50, 75, 100, 150],\n",
    "    'learning_rate': [0.1, 0.5, 1.0],\n",
    "    'estimator': [LogisticRegression(random_state=42)],\n",
    "    'random_state': [42]\n",
    "}\n",
    "\n",
    "best_params, best_model, best_accuracy = tune_model(AdaBoostClassifier(), X_train, y_train, X_test, y_test, param_grid)\n",
    "\n",
    "print(\"\\nBest Hyperparameters:\", best_params)\n",
    "print(\"Best Model:\", best_model)\n",
    "print(\"Best Model Accuracy:\", best_accuracy)"
   ],
   "metadata": {
    "collapsed": false,
    "ExecuteTime": {
     "end_time": "2024-04-30T04:51:58.558521400Z",
     "start_time": "2024-04-30T04:47:23.509291900Z"
    }
   },
   "id": "bf0899747c46223",
   "execution_count": 14
  },
  {
   "cell_type": "code",
   "outputs": [
    {
     "name": "stdout",
     "output_type": "stream",
     "text": [
      "Fitting 5 folds for each of 24 candidates, totalling 120 fits\n",
      "\n",
      "Best Hyperparameters: {'algorithm': 'SAMME.R', 'estimator': LogisticRegression(random_state=42), 'learning_rate': 1.0, 'n_estimators': 150, 'random_state': 42}\n",
      "Best Model: AdaBoostClassifier(estimator=LogisticRegression(random_state=42),\n",
      "                   n_estimators=150, random_state=42)\n",
      "Best Model Accuracy: 0.7538888888888889\n"
     ]
    }
   ],
   "source": [
    "# Splitting the data into features (X) and target (y)\n",
    "X_, y_ = get_features_and_target(data, 'income')\n",
    "X_male, X_female = get_male_female_data(X_, False)\n",
    "columns_to_exclude = ['sex', 'gave birth this year', 'marital status']\n",
    "X__ = X_.drop(columns=columns_to_exclude)\n",
    "# Encoding the features and target, and excluding some columns\n",
    "X_encoded_, y_encoded_ = encode_all_features(X__, y_, columns_to_exclude)\n",
    "X_train_, X_test_, y_train_, y_test_ = train_test_split(X_encoded_, y_encoded_, test_size=0.2, random_state=42)\n",
    "\n",
    "X_male_test, y_male_test, X_female_test, y_female_test = get_male_female_test_data(X_male, X_female, X_test_, y_test_)\n",
    "\n",
    "best_params, best_model, best_accuracy = tune_model(AdaBoostClassifier(), X_train_, y_train_, X_test_, y_test_, param_grid)\n",
    "\n",
    "print(\"\\nBest Hyperparameters:\", best_params)\n",
    "print(\"Best Model:\", best_model)\n",
    "print(\"Best Model Accuracy:\", best_accuracy)"
   ],
   "metadata": {
    "collapsed": false,
    "ExecuteTime": {
     "end_time": "2024-04-30T04:56:55.540097Z",
     "start_time": "2024-04-30T04:52:32.240996200Z"
    }
   },
   "id": "f426986e87bbf39b",
   "execution_count": 17
  },
  {
   "cell_type": "code",
   "outputs": [
    {
     "name": "stdout",
     "output_type": "stream",
     "text": [
      "Male FPR: 0.14527503526093088\n",
      "Male TPR: 0.5811623246492986\n",
      "Female FPR: 0.12017167381974249\n",
      "Female TPR: 0.40476190476190477\n"
     ]
    }
   ],
   "source": [
    "split_testsets = [X_male_test, y_male_test, X_female_test, y_female_test]\n",
    "model = AdaBoostClassifier(**best_params)\n",
    "model.fit(X_train_, y_train_)\n",
    "fpr_male, fpr_female, tpr_male, tpr_female = split_male_female_metrics(model, X_test, y_test, split_testsets=split_testsets)\n",
    "\n",
    "print(\"Male FPR:\", fpr_male)\n",
    "print(\"Male TPR:\", tpr_male)\n",
    "print(\"Female FPR:\", fpr_female)\n",
    "print(\"Female TPR:\", tpr_female)"
   ],
   "metadata": {
    "collapsed": false,
    "ExecuteTime": {
     "end_time": "2024-04-30T04:56:58.130403900Z",
     "start_time": "2024-04-30T04:56:55.536107700Z"
    }
   },
   "id": "b1337b749070787a",
   "execution_count": 18
  },
  {
   "cell_type": "code",
   "outputs": [
    {
     "name": "stdout",
     "output_type": "stream",
     "text": [
      "Disparate Impact (DI): 0.556\n",
      "Discrimination Score (DS): -0.145\n",
      "Equal Opportunity Difference (EO): 0.176\n",
      "Equalized Odds (EOdds): 0.025\n"
     ]
    }
   ],
   "source": [
    "y_pred = model.predict(X_test_)\n",
    "X_test_with_sex = X_test_.join(X_['sex'])\n",
    "X_test_with_sex['sex'] = X_test_with_sex['sex'].map({'Female': 0, 'Male': 1})\n",
    "DI, DS, EO, EOdds, conf_matrix = statistical_measures(X_test_with_sex, y_test_, y_pred, 'sex', use_lib_implementation=False)\n",
    "print_statistical_measures(DI, DS, EO, EOdds)"
   ],
   "metadata": {
    "collapsed": false,
    "ExecuteTime": {
     "end_time": "2024-04-30T04:56:58.221683900Z",
     "start_time": "2024-04-30T04:56:58.125417400Z"
    }
   },
   "id": "4238fe4870f1b9eb",
   "execution_count": 19
  },
  {
   "cell_type": "markdown",
   "source": [
    "### Saving the model"
   ],
   "metadata": {
    "collapsed": false
   },
   "id": "906cea1b75eb9749"
  },
  {
   "cell_type": "code",
   "outputs": [],
   "source": [
    "save_model(lr_model, '../output/saved_models/logistic_regression_model.joblib')"
   ],
   "metadata": {
    "collapsed": false,
    "ExecuteTime": {
     "start_time": "2024-04-30T04:51:59.610697300Z"
    }
   },
   "id": "770f806fc4c13d5e",
   "execution_count": null
  }
 ],
 "metadata": {
  "kernelspec": {
   "display_name": "Python 3",
   "language": "python",
   "name": "python3"
  },
  "language_info": {
   "codemirror_mode": {
    "name": "ipython",
    "version": 2
   },
   "file_extension": ".py",
   "mimetype": "text/x-python",
   "name": "python",
   "nbconvert_exporter": "python",
   "pygments_lexer": "ipython2",
   "version": "2.7.6"
  }
 },
 "nbformat": 4,
 "nbformat_minor": 5
}
