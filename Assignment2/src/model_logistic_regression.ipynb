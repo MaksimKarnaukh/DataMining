{
 "cells": [
  {
   "cell_type": "code",
   "execution_count": 1,
   "id": "initial_id",
   "metadata": {
    "collapsed": true,
    "ExecuteTime": {
     "end_time": "2024-05-02T17:02:07.583849Z",
     "start_time": "2024-05-02T17:02:06.855952700Z"
    }
   },
   "outputs": [
    {
     "name": "stderr",
     "output_type": "stream",
     "text": [
      "WARNING:root:No module named 'tensorflow': AdversarialDebiasing will be unavailable. To install, run:\n",
      "pip install 'aif360[AdversarialDebiasing]'\n",
      "WARNING:root:No module named 'tensorflow': AdversarialDebiasing will be unavailable. To install, run:\n",
      "pip install 'aif360[AdversarialDebiasing]'\n",
      "WARNING:root:No module named 'fairlearn': ExponentiatedGradientReduction will be unavailable. To install, run:\n",
      "pip install 'aif360[Reductions]'\n",
      "WARNING:root:No module named 'fairlearn': GridSearchReduction will be unavailable. To install, run:\n",
      "pip install 'aif360[Reductions]'\n",
      "WARNING:root:No module named 'inFairness': SenSeI and SenSR will be unavailable. To install, run:\n",
      "pip install 'aif360[inFairness]'\n",
      "WARNING:root:No module named 'fairlearn': GridSearchReduction will be unavailable. To install, run:\n",
      "pip install 'aif360[Reductions]'\n",
      "WARNING:root:No module named 'ot': ot_distance will be unavailable. To install, run:\n",
      "pip install 'aif360[OptimalTransport]'\n"
     ]
    }
   ],
   "source": [
    "import warnings\n",
    "warnings.filterwarnings(\"ignore\")\n",
    "\n",
    "import pandas as pd\n",
    "\n",
    "from helper.helper_functions import load_dataset, save_model, get_features_and_target, encode_all_features, get_train_test_with_excluded_columns\n",
    "from helper.clfmodel_functions import tune_model, forward_feat_selection_hypertuning\n",
    "\n",
    "from helper.fairness_functions import print_male_female_metrics, get_male_female_data\n",
    "\n",
    "from sklearn.model_selection import train_test_split\n",
    "from sklearn.metrics import accuracy_score, classification_report\n",
    "from sklearn.linear_model import LogisticRegression\n",
    "from sklearn.ensemble import AdaBoostClassifier\n",
    "from sklearn.inspection import permutation_importance"
   ]
  },
  {
   "cell_type": "markdown",
   "source": [
    "### Loading the cleaned dataset"
   ],
   "metadata": {
    "collapsed": false
   },
   "id": "ced45577f2a46d2"
  },
  {
   "cell_type": "code",
   "outputs": [],
   "source": [
    "data: pd.DataFrame = load_dataset('../data/assignment2_income_cleaned.xlsx')"
   ],
   "metadata": {
    "collapsed": false,
    "ExecuteTime": {
     "end_time": "2024-05-02T17:02:09.661081400Z",
     "start_time": "2024-05-02T17:02:07.583849Z"
    }
   },
   "id": "573b15a0c08becd2",
   "execution_count": 2
  },
  {
   "cell_type": "markdown",
   "source": [
    "### Feature Engineering (encoding) & Train-Test Split"
   ],
   "metadata": {
    "collapsed": false
   },
   "id": "4f6c12ebae36d3b9"
  },
  {
   "cell_type": "code",
   "outputs": [],
   "source": [
    "# Splitting the data into features (X) and target (y)\n",
    "X, y = get_features_and_target(data, 'income')\n",
    "X_male, X_female = get_male_female_data(X, False)\n",
    "# Encoding the features and target\n",
    "X_encoded, y_encoded = encode_all_features(X, y, [])\n",
    "X_train, X_test, y_train, y_test = train_test_split(X_encoded, y_encoded, test_size=0.2, random_state=42)"
   ],
   "metadata": {
    "collapsed": false,
    "ExecuteTime": {
     "end_time": "2024-05-02T17:02:09.704967Z",
     "start_time": "2024-05-02T17:02:09.661081400Z"
    }
   },
   "id": "83fc7449a1cf23ea",
   "execution_count": 3
  },
  {
   "cell_type": "code",
   "outputs": [
    {
     "data": {
      "text/plain": "      age  education  workinghours  ability to speak english  \\\n6317   22         16            36                         0   \n740    61         22            40                         1   \n3781   48         16            40                         0   \n7850   62         18            65                         0   \n2963   53         19            44                         0   \n...   ...        ...           ...                       ...   \n5734   22         19            25                         0   \n5191   24         16            28                         0   \n5390   35         16            40                         0   \n860    23         20            40                         0   \n7270   70         19            40                         0   \n\n      occupation_Construction/Extraction  \\\n6317                                   0   \n740                                    0   \n3781                                   0   \n7850                                   0   \n2963                                   0   \n...                                  ...   \n5734                                   0   \n5191                                   0   \n5390                                   0   \n860                                    0   \n7270                                   0   \n\n      occupation_Counseling/Mental Health Services  occupation_Education  \\\n6317                                             0                     0   \n740                                              0                     0   \n3781                                             0                     0   \n7850                                             0                     0   \n2963                                             0                     0   \n...                                            ...                   ...   \n5734                                             0                     0   \n5191                                             0                     0   \n5390                                             0                     0   \n860                                              0                     0   \n7270                                             0                     0   \n\n      occupation_Entertainment  occupation_Farming, Fishing, Forestry  \\\n6317                         0                                      0   \n740                          0                                      0   \n3781                         0                                      0   \n7850                         0                                      0   \n2963                         0                                      0   \n...                        ...                                    ...   \n5734                         0                                      0   \n5191                         0                                      0   \n5390                         0                                      0   \n860                          0                                      0   \n7270                         0                                      0   \n\n      occupation_Finance/Accounting  ...  marital status_Never married  \\\n6317                              0  ...                             0   \n740                               0  ...                             0   \n3781                              0  ...                             0   \n7850                              0  ...                             0   \n2963                              0  ...                             0   \n...                             ...  ...                           ...   \n5734                              0  ...                             1   \n5191                              0  ...                             1   \n5390                              0  ...                             1   \n860                               0  ...                             1   \n7270                              0  ...                             0   \n\n      marital status_Separated  marital status_Widowed  marital status_Wife  \\\n6317                         0                       0                    0   \n740                          0                       0                    0   \n3781                         0                       0                    0   \n7850                         0                       0                    0   \n2963                         0                       0                    0   \n...                        ...                     ...                  ...   \n5734                         0                       0                    0   \n5191                         0                       0                    0   \n5390                         0                       0                    0   \n860                          0                       0                    0   \n7270                         0                       0                    0   \n\n      workclass_governmental  workclass_no paid work  workclass_private  \\\n6317                       0                       0                  1   \n740                        0                       0                  0   \n3781                       0                       0                  1   \n7850                       0                       0                  1   \n2963                       1                       0                  0   \n...                      ...                     ...                ...   \n5734                       0                       0                  1   \n5191                       0                       0                  1   \n5390                       0                       0                  1   \n860                        0                       0                  1   \n7270                       0                       1                  0   \n\n      workclass_self employed  gave birth this year_No  \\\n6317                        0                        1   \n740                         1                        1   \n3781                        0                        1   \n7850                        0                        1   \n2963                        0                        1   \n...                       ...                      ...   \n5734                        0                        1   \n5191                        0                        1   \n5390                        0                        1   \n860                         0                        1   \n7270                        0                        1   \n\n      gave birth this year_Yes  \n6317                         0  \n740                          0  \n3781                         0  \n7850                         0  \n2963                         0  \n...                        ...  \n5734                         0  \n5191                         0  \n5390                         0  \n860                          0  \n7270                         0  \n\n[7200 rows x 36 columns]",
      "text/html": "<div>\n<style scoped>\n    .dataframe tbody tr th:only-of-type {\n        vertical-align: middle;\n    }\n\n    .dataframe tbody tr th {\n        vertical-align: top;\n    }\n\n    .dataframe thead th {\n        text-align: right;\n    }\n</style>\n<table border=\"1\" class=\"dataframe\">\n  <thead>\n    <tr style=\"text-align: right;\">\n      <th></th>\n      <th>age</th>\n      <th>education</th>\n      <th>workinghours</th>\n      <th>ability to speak english</th>\n      <th>occupation_Construction/Extraction</th>\n      <th>occupation_Counseling/Mental Health Services</th>\n      <th>occupation_Education</th>\n      <th>occupation_Entertainment</th>\n      <th>occupation_Farming, Fishing, Forestry</th>\n      <th>occupation_Finance/Accounting</th>\n      <th>...</th>\n      <th>marital status_Never married</th>\n      <th>marital status_Separated</th>\n      <th>marital status_Widowed</th>\n      <th>marital status_Wife</th>\n      <th>workclass_governmental</th>\n      <th>workclass_no paid work</th>\n      <th>workclass_private</th>\n      <th>workclass_self employed</th>\n      <th>gave birth this year_No</th>\n      <th>gave birth this year_Yes</th>\n    </tr>\n  </thead>\n  <tbody>\n    <tr>\n      <th>6317</th>\n      <td>22</td>\n      <td>16</td>\n      <td>36</td>\n      <td>0</td>\n      <td>0</td>\n      <td>0</td>\n      <td>0</td>\n      <td>0</td>\n      <td>0</td>\n      <td>0</td>\n      <td>...</td>\n      <td>0</td>\n      <td>0</td>\n      <td>0</td>\n      <td>0</td>\n      <td>0</td>\n      <td>0</td>\n      <td>1</td>\n      <td>0</td>\n      <td>1</td>\n      <td>0</td>\n    </tr>\n    <tr>\n      <th>740</th>\n      <td>61</td>\n      <td>22</td>\n      <td>40</td>\n      <td>1</td>\n      <td>0</td>\n      <td>0</td>\n      <td>0</td>\n      <td>0</td>\n      <td>0</td>\n      <td>0</td>\n      <td>...</td>\n      <td>0</td>\n      <td>0</td>\n      <td>0</td>\n      <td>0</td>\n      <td>0</td>\n      <td>0</td>\n      <td>0</td>\n      <td>1</td>\n      <td>1</td>\n      <td>0</td>\n    </tr>\n    <tr>\n      <th>3781</th>\n      <td>48</td>\n      <td>16</td>\n      <td>40</td>\n      <td>0</td>\n      <td>0</td>\n      <td>0</td>\n      <td>0</td>\n      <td>0</td>\n      <td>0</td>\n      <td>0</td>\n      <td>...</td>\n      <td>0</td>\n      <td>0</td>\n      <td>0</td>\n      <td>0</td>\n      <td>0</td>\n      <td>0</td>\n      <td>1</td>\n      <td>0</td>\n      <td>1</td>\n      <td>0</td>\n    </tr>\n    <tr>\n      <th>7850</th>\n      <td>62</td>\n      <td>18</td>\n      <td>65</td>\n      <td>0</td>\n      <td>0</td>\n      <td>0</td>\n      <td>0</td>\n      <td>0</td>\n      <td>0</td>\n      <td>0</td>\n      <td>...</td>\n      <td>0</td>\n      <td>0</td>\n      <td>0</td>\n      <td>0</td>\n      <td>0</td>\n      <td>0</td>\n      <td>1</td>\n      <td>0</td>\n      <td>1</td>\n      <td>0</td>\n    </tr>\n    <tr>\n      <th>2963</th>\n      <td>53</td>\n      <td>19</td>\n      <td>44</td>\n      <td>0</td>\n      <td>0</td>\n      <td>0</td>\n      <td>0</td>\n      <td>0</td>\n      <td>0</td>\n      <td>0</td>\n      <td>...</td>\n      <td>0</td>\n      <td>0</td>\n      <td>0</td>\n      <td>0</td>\n      <td>1</td>\n      <td>0</td>\n      <td>0</td>\n      <td>0</td>\n      <td>1</td>\n      <td>0</td>\n    </tr>\n    <tr>\n      <th>...</th>\n      <td>...</td>\n      <td>...</td>\n      <td>...</td>\n      <td>...</td>\n      <td>...</td>\n      <td>...</td>\n      <td>...</td>\n      <td>...</td>\n      <td>...</td>\n      <td>...</td>\n      <td>...</td>\n      <td>...</td>\n      <td>...</td>\n      <td>...</td>\n      <td>...</td>\n      <td>...</td>\n      <td>...</td>\n      <td>...</td>\n      <td>...</td>\n      <td>...</td>\n      <td>...</td>\n    </tr>\n    <tr>\n      <th>5734</th>\n      <td>22</td>\n      <td>19</td>\n      <td>25</td>\n      <td>0</td>\n      <td>0</td>\n      <td>0</td>\n      <td>0</td>\n      <td>0</td>\n      <td>0</td>\n      <td>0</td>\n      <td>...</td>\n      <td>1</td>\n      <td>0</td>\n      <td>0</td>\n      <td>0</td>\n      <td>0</td>\n      <td>0</td>\n      <td>1</td>\n      <td>0</td>\n      <td>1</td>\n      <td>0</td>\n    </tr>\n    <tr>\n      <th>5191</th>\n      <td>24</td>\n      <td>16</td>\n      <td>28</td>\n      <td>0</td>\n      <td>0</td>\n      <td>0</td>\n      <td>0</td>\n      <td>0</td>\n      <td>0</td>\n      <td>0</td>\n      <td>...</td>\n      <td>1</td>\n      <td>0</td>\n      <td>0</td>\n      <td>0</td>\n      <td>0</td>\n      <td>0</td>\n      <td>1</td>\n      <td>0</td>\n      <td>1</td>\n      <td>0</td>\n    </tr>\n    <tr>\n      <th>5390</th>\n      <td>35</td>\n      <td>16</td>\n      <td>40</td>\n      <td>0</td>\n      <td>0</td>\n      <td>0</td>\n      <td>0</td>\n      <td>0</td>\n      <td>0</td>\n      <td>0</td>\n      <td>...</td>\n      <td>1</td>\n      <td>0</td>\n      <td>0</td>\n      <td>0</td>\n      <td>0</td>\n      <td>0</td>\n      <td>1</td>\n      <td>0</td>\n      <td>1</td>\n      <td>0</td>\n    </tr>\n    <tr>\n      <th>860</th>\n      <td>23</td>\n      <td>20</td>\n      <td>40</td>\n      <td>0</td>\n      <td>0</td>\n      <td>0</td>\n      <td>0</td>\n      <td>0</td>\n      <td>0</td>\n      <td>0</td>\n      <td>...</td>\n      <td>1</td>\n      <td>0</td>\n      <td>0</td>\n      <td>0</td>\n      <td>0</td>\n      <td>0</td>\n      <td>1</td>\n      <td>0</td>\n      <td>1</td>\n      <td>0</td>\n    </tr>\n    <tr>\n      <th>7270</th>\n      <td>70</td>\n      <td>19</td>\n      <td>40</td>\n      <td>0</td>\n      <td>0</td>\n      <td>0</td>\n      <td>0</td>\n      <td>0</td>\n      <td>0</td>\n      <td>0</td>\n      <td>...</td>\n      <td>0</td>\n      <td>0</td>\n      <td>0</td>\n      <td>0</td>\n      <td>0</td>\n      <td>1</td>\n      <td>0</td>\n      <td>0</td>\n      <td>1</td>\n      <td>0</td>\n    </tr>\n  </tbody>\n</table>\n<p>7200 rows × 36 columns</p>\n</div>"
     },
     "execution_count": 4,
     "metadata": {},
     "output_type": "execute_result"
    }
   ],
   "source": [
    "X_train"
   ],
   "metadata": {
    "collapsed": false,
    "ExecuteTime": {
     "end_time": "2024-05-02T17:02:09.746554500Z",
     "start_time": "2024-05-02T17:02:09.688012900Z"
    }
   },
   "id": "fe2ec2747880d68e",
   "execution_count": 4
  },
  {
   "cell_type": "markdown",
   "source": [
    "### Model\n",
    "\n",
    "Here, we quickly train and evaluate a Logistic Regression model with random parameters for demonstration."
   ],
   "metadata": {
    "collapsed": false
   },
   "id": "bfc5f29026270e84"
  },
  {
   "cell_type": "code",
   "outputs": [
    {
     "name": "stdout",
     "output_type": "stream",
     "text": [
      "              precision    recall  f1-score   support\n",
      "\n",
      "           0       0.82      0.87      0.84      1175\n",
      "           1       0.72      0.64      0.68       625\n",
      "\n",
      "    accuracy                           0.79      1800\n",
      "   macro avg       0.77      0.76      0.76      1800\n",
      "weighted avg       0.79      0.79      0.79      1800\n",
      "\n",
      "Logistic Regression Accuracy: 0.7911111111111111\n"
     ]
    }
   ],
   "source": [
    "# Logistic Regression model\n",
    "lr_model = LogisticRegression(max_iter=2000)\n",
    "lr_model.fit(X_train, y_train)\n",
    "lr_preds = lr_model.predict(X_test)\n",
    "lr_accuracy = accuracy_score(y_test, lr_preds)\n",
    "\n",
    "print(classification_report(y_test, lr_preds))\n",
    "print(\"Logistic Regression Accuracy:\", lr_accuracy)"
   ],
   "metadata": {
    "collapsed": false,
    "ExecuteTime": {
     "end_time": "2024-05-02T17:02:12.268857800Z",
     "start_time": "2024-05-02T17:02:09.720624100Z"
    }
   },
   "id": "755b22d9e1afea95",
   "execution_count": 5
  },
  {
   "cell_type": "markdown",
   "source": [
    "### Feature Importance using the model itself"
   ],
   "metadata": {
    "collapsed": false
   },
   "id": "983f611fc0f04be0"
  },
  {
   "cell_type": "code",
   "outputs": [],
   "source": [
    "# Get the coefficients of the logistic regression model\n",
    "feature_importance_scores = lr_model.coef_[0]\n",
    "feature_importance_df = pd.DataFrame({\n",
    "    'Feature': X_train.columns,\n",
    "    'Coefficient': feature_importance_scores\n",
    "})\n",
    "# We sort the DataFrame by the absolute value of the coefficients\n",
    "feature_importance_df['Absolute_Coefficient'] = feature_importance_df['Coefficient'].abs()\n",
    "feature_importance_df = feature_importance_df.sort_values(by='Absolute_Coefficient', ascending=False).drop(columns='Absolute_Coefficient')"
   ],
   "metadata": {
    "collapsed": false,
    "ExecuteTime": {
     "end_time": "2024-05-02T17:02:12.269855500Z",
     "start_time": "2024-05-02T17:02:12.251658300Z"
    }
   },
   "id": "96ad3da456265eac",
   "execution_count": 6
  },
  {
   "cell_type": "code",
   "outputs": [
    {
     "data": {
      "text/plain": "                                         Feature  Coefficient\n20                occupation_Service/Hospitality    -1.539799\n19   occupation_Science, Engineering, Technology     1.233141\n9                  occupation_Finance/Accounting     0.966395\n11                     occupation_Legal Services     0.806133\n12                occupation_Management/Business     0.791904\n31                        workclass_no paid work    -0.629969\n8          occupation_Farming, Fishing, Forestry    -0.623541\n26                  marital status_Never married    -0.608382\n25                        marital status_Husband     0.588842\n13                  occupation_Military Services     0.557988\n14      occupation_Office/Administrative Support    -0.553540\n30                        workclass_governmental     0.512171\n21                          occupation_Transport    -0.498046\n4             occupation_Construction/Extraction    -0.486238\n28                        marital status_Widowed     0.451692\n6                           occupation_Education    -0.377360\n17                 occupation_Repair/Maintenance     0.348855\n16                occupation_Protective Services    -0.345623\n23                                      sex_Male     0.323277\n5   occupation_Counseling/Mental Health Services    -0.300710\n22                                    sex_Female    -0.297274\n27                      marital status_Separated    -0.271612\n10        occupation_Healthcare/Medical Services     0.265110\n15                occupation_Production/Assembly    -0.243640\n32                             workclass_private     0.240755\n1                                      education     0.212672\n7                       occupation_Entertainment     0.179648\n18                              occupation_Sales    -0.154675\n29                           marital status_Wife    -0.107816\n33                       workclass_self employed    -0.096954\n35                      gave birth this year_Yes     0.094010\n34                       gave birth this year_No    -0.068007\n2                                   workinghours     0.054511\n3                       ability to speak english    -0.049807\n0                                            age     0.039573\n24                       marital status_Divorced    -0.026721",
      "text/html": "<div>\n<style scoped>\n    .dataframe tbody tr th:only-of-type {\n        vertical-align: middle;\n    }\n\n    .dataframe tbody tr th {\n        vertical-align: top;\n    }\n\n    .dataframe thead th {\n        text-align: right;\n    }\n</style>\n<table border=\"1\" class=\"dataframe\">\n  <thead>\n    <tr style=\"text-align: right;\">\n      <th></th>\n      <th>Feature</th>\n      <th>Coefficient</th>\n    </tr>\n  </thead>\n  <tbody>\n    <tr>\n      <th>20</th>\n      <td>occupation_Service/Hospitality</td>\n      <td>-1.539799</td>\n    </tr>\n    <tr>\n      <th>19</th>\n      <td>occupation_Science, Engineering, Technology</td>\n      <td>1.233141</td>\n    </tr>\n    <tr>\n      <th>9</th>\n      <td>occupation_Finance/Accounting</td>\n      <td>0.966395</td>\n    </tr>\n    <tr>\n      <th>11</th>\n      <td>occupation_Legal Services</td>\n      <td>0.806133</td>\n    </tr>\n    <tr>\n      <th>12</th>\n      <td>occupation_Management/Business</td>\n      <td>0.791904</td>\n    </tr>\n    <tr>\n      <th>31</th>\n      <td>workclass_no paid work</td>\n      <td>-0.629969</td>\n    </tr>\n    <tr>\n      <th>8</th>\n      <td>occupation_Farming, Fishing, Forestry</td>\n      <td>-0.623541</td>\n    </tr>\n    <tr>\n      <th>26</th>\n      <td>marital status_Never married</td>\n      <td>-0.608382</td>\n    </tr>\n    <tr>\n      <th>25</th>\n      <td>marital status_Husband</td>\n      <td>0.588842</td>\n    </tr>\n    <tr>\n      <th>13</th>\n      <td>occupation_Military Services</td>\n      <td>0.557988</td>\n    </tr>\n    <tr>\n      <th>14</th>\n      <td>occupation_Office/Administrative Support</td>\n      <td>-0.553540</td>\n    </tr>\n    <tr>\n      <th>30</th>\n      <td>workclass_governmental</td>\n      <td>0.512171</td>\n    </tr>\n    <tr>\n      <th>21</th>\n      <td>occupation_Transport</td>\n      <td>-0.498046</td>\n    </tr>\n    <tr>\n      <th>4</th>\n      <td>occupation_Construction/Extraction</td>\n      <td>-0.486238</td>\n    </tr>\n    <tr>\n      <th>28</th>\n      <td>marital status_Widowed</td>\n      <td>0.451692</td>\n    </tr>\n    <tr>\n      <th>6</th>\n      <td>occupation_Education</td>\n      <td>-0.377360</td>\n    </tr>\n    <tr>\n      <th>17</th>\n      <td>occupation_Repair/Maintenance</td>\n      <td>0.348855</td>\n    </tr>\n    <tr>\n      <th>16</th>\n      <td>occupation_Protective Services</td>\n      <td>-0.345623</td>\n    </tr>\n    <tr>\n      <th>23</th>\n      <td>sex_Male</td>\n      <td>0.323277</td>\n    </tr>\n    <tr>\n      <th>5</th>\n      <td>occupation_Counseling/Mental Health Services</td>\n      <td>-0.300710</td>\n    </tr>\n    <tr>\n      <th>22</th>\n      <td>sex_Female</td>\n      <td>-0.297274</td>\n    </tr>\n    <tr>\n      <th>27</th>\n      <td>marital status_Separated</td>\n      <td>-0.271612</td>\n    </tr>\n    <tr>\n      <th>10</th>\n      <td>occupation_Healthcare/Medical Services</td>\n      <td>0.265110</td>\n    </tr>\n    <tr>\n      <th>15</th>\n      <td>occupation_Production/Assembly</td>\n      <td>-0.243640</td>\n    </tr>\n    <tr>\n      <th>32</th>\n      <td>workclass_private</td>\n      <td>0.240755</td>\n    </tr>\n    <tr>\n      <th>1</th>\n      <td>education</td>\n      <td>0.212672</td>\n    </tr>\n    <tr>\n      <th>7</th>\n      <td>occupation_Entertainment</td>\n      <td>0.179648</td>\n    </tr>\n    <tr>\n      <th>18</th>\n      <td>occupation_Sales</td>\n      <td>-0.154675</td>\n    </tr>\n    <tr>\n      <th>29</th>\n      <td>marital status_Wife</td>\n      <td>-0.107816</td>\n    </tr>\n    <tr>\n      <th>33</th>\n      <td>workclass_self employed</td>\n      <td>-0.096954</td>\n    </tr>\n    <tr>\n      <th>35</th>\n      <td>gave birth this year_Yes</td>\n      <td>0.094010</td>\n    </tr>\n    <tr>\n      <th>34</th>\n      <td>gave birth this year_No</td>\n      <td>-0.068007</td>\n    </tr>\n    <tr>\n      <th>2</th>\n      <td>workinghours</td>\n      <td>0.054511</td>\n    </tr>\n    <tr>\n      <th>3</th>\n      <td>ability to speak english</td>\n      <td>-0.049807</td>\n    </tr>\n    <tr>\n      <th>0</th>\n      <td>age</td>\n      <td>0.039573</td>\n    </tr>\n    <tr>\n      <th>24</th>\n      <td>marital status_Divorced</td>\n      <td>-0.026721</td>\n    </tr>\n  </tbody>\n</table>\n</div>"
     },
     "execution_count": 7,
     "metadata": {},
     "output_type": "execute_result"
    }
   ],
   "source": [
    "feature_importance_df"
   ],
   "metadata": {
    "collapsed": false,
    "ExecuteTime": {
     "end_time": "2024-05-02T17:02:12.328697900Z",
     "start_time": "2024-05-02T17:02:12.260878900Z"
    }
   },
   "id": "3df34a550d3f4bc4",
   "execution_count": 7
  },
  {
   "cell_type": "code",
   "outputs": [],
   "source": [
    "# https://stackoverflow.com/questions/34052115/how-to-find-the-importance-of-the-features-for-a-logistic-regression-model\n",
    "# https://scikit-learn.org/stable/modules/permutation_importance.html\n",
    "model_fi = permutation_importance(lr_model, X_encoded, y_encoded, n_repeats=30, random_state=0)\n",
    "feature_importance_df = pd.DataFrame({\n",
    "    'Feature': X_train.columns,\n",
    "    'Coefficient': model_fi['importances_mean']\n",
    "})\n",
    "feature_importance_df = feature_importance_df.sort_values(by='Coefficient', ascending=False)"
   ],
   "metadata": {
    "collapsed": false,
    "ExecuteTime": {
     "end_time": "2024-05-02T17:02:20.098377100Z",
     "start_time": "2024-05-02T17:02:12.287807300Z"
    }
   },
   "id": "1f84433317c7f73c",
   "execution_count": 8
  },
  {
   "cell_type": "code",
   "outputs": [
    {
     "data": {
      "text/plain": "                                         Feature  Coefficient\n1                                      education     0.036352\n2                                   workinghours     0.035326\n0                                            age     0.027807\n20                occupation_Service/Hospitality     0.010400\n25                        marital status_Husband     0.007874\n19   occupation_Science, Engineering, Technology     0.007222\n12                occupation_Management/Business     0.007181\n26                  marital status_Never married     0.004626\n30                        workclass_governmental     0.003663\n21                          occupation_Transport     0.001900\n15                occupation_Production/Assembly     0.001878\n9                  occupation_Finance/Accounting     0.001722\n4             occupation_Construction/Extraction     0.001633\n32                             workclass_private     0.001615\n11                     occupation_Legal Services     0.001452\n14      occupation_Office/Administrative Support     0.001030\n33                       workclass_self employed     0.000863\n23                                      sex_Male     0.000789\n17                 occupation_Repair/Maintenance     0.000552\n8          occupation_Farming, Fishing, Forestry     0.000467\n22                                    sex_Female     0.000463\n6                           occupation_Education     0.000396\n10        occupation_Healthcare/Medical Services     0.000296\n7                       occupation_Entertainment     0.000248\n16                occupation_Protective Services     0.000248\n27                      marital status_Separated     0.000207\n5   occupation_Counseling/Mental Health Services     0.000189\n35                      gave birth this year_Yes     0.000156\n31                        workclass_no paid work     0.000141\n28                        marital status_Widowed     0.000048\n24                       marital status_Divorced     0.000030\n34                       gave birth this year_No     0.000015\n13                  occupation_Military Services    -0.000126\n3                       ability to speak english    -0.000141\n18                              occupation_Sales    -0.000189\n29                           marital status_Wife    -0.000267",
      "text/html": "<div>\n<style scoped>\n    .dataframe tbody tr th:only-of-type {\n        vertical-align: middle;\n    }\n\n    .dataframe tbody tr th {\n        vertical-align: top;\n    }\n\n    .dataframe thead th {\n        text-align: right;\n    }\n</style>\n<table border=\"1\" class=\"dataframe\">\n  <thead>\n    <tr style=\"text-align: right;\">\n      <th></th>\n      <th>Feature</th>\n      <th>Coefficient</th>\n    </tr>\n  </thead>\n  <tbody>\n    <tr>\n      <th>1</th>\n      <td>education</td>\n      <td>0.036352</td>\n    </tr>\n    <tr>\n      <th>2</th>\n      <td>workinghours</td>\n      <td>0.035326</td>\n    </tr>\n    <tr>\n      <th>0</th>\n      <td>age</td>\n      <td>0.027807</td>\n    </tr>\n    <tr>\n      <th>20</th>\n      <td>occupation_Service/Hospitality</td>\n      <td>0.010400</td>\n    </tr>\n    <tr>\n      <th>25</th>\n      <td>marital status_Husband</td>\n      <td>0.007874</td>\n    </tr>\n    <tr>\n      <th>19</th>\n      <td>occupation_Science, Engineering, Technology</td>\n      <td>0.007222</td>\n    </tr>\n    <tr>\n      <th>12</th>\n      <td>occupation_Management/Business</td>\n      <td>0.007181</td>\n    </tr>\n    <tr>\n      <th>26</th>\n      <td>marital status_Never married</td>\n      <td>0.004626</td>\n    </tr>\n    <tr>\n      <th>30</th>\n      <td>workclass_governmental</td>\n      <td>0.003663</td>\n    </tr>\n    <tr>\n      <th>21</th>\n      <td>occupation_Transport</td>\n      <td>0.001900</td>\n    </tr>\n    <tr>\n      <th>15</th>\n      <td>occupation_Production/Assembly</td>\n      <td>0.001878</td>\n    </tr>\n    <tr>\n      <th>9</th>\n      <td>occupation_Finance/Accounting</td>\n      <td>0.001722</td>\n    </tr>\n    <tr>\n      <th>4</th>\n      <td>occupation_Construction/Extraction</td>\n      <td>0.001633</td>\n    </tr>\n    <tr>\n      <th>32</th>\n      <td>workclass_private</td>\n      <td>0.001615</td>\n    </tr>\n    <tr>\n      <th>11</th>\n      <td>occupation_Legal Services</td>\n      <td>0.001452</td>\n    </tr>\n    <tr>\n      <th>14</th>\n      <td>occupation_Office/Administrative Support</td>\n      <td>0.001030</td>\n    </tr>\n    <tr>\n      <th>33</th>\n      <td>workclass_self employed</td>\n      <td>0.000863</td>\n    </tr>\n    <tr>\n      <th>23</th>\n      <td>sex_Male</td>\n      <td>0.000789</td>\n    </tr>\n    <tr>\n      <th>17</th>\n      <td>occupation_Repair/Maintenance</td>\n      <td>0.000552</td>\n    </tr>\n    <tr>\n      <th>8</th>\n      <td>occupation_Farming, Fishing, Forestry</td>\n      <td>0.000467</td>\n    </tr>\n    <tr>\n      <th>22</th>\n      <td>sex_Female</td>\n      <td>0.000463</td>\n    </tr>\n    <tr>\n      <th>6</th>\n      <td>occupation_Education</td>\n      <td>0.000396</td>\n    </tr>\n    <tr>\n      <th>10</th>\n      <td>occupation_Healthcare/Medical Services</td>\n      <td>0.000296</td>\n    </tr>\n    <tr>\n      <th>7</th>\n      <td>occupation_Entertainment</td>\n      <td>0.000248</td>\n    </tr>\n    <tr>\n      <th>16</th>\n      <td>occupation_Protective Services</td>\n      <td>0.000248</td>\n    </tr>\n    <tr>\n      <th>27</th>\n      <td>marital status_Separated</td>\n      <td>0.000207</td>\n    </tr>\n    <tr>\n      <th>5</th>\n      <td>occupation_Counseling/Mental Health Services</td>\n      <td>0.000189</td>\n    </tr>\n    <tr>\n      <th>35</th>\n      <td>gave birth this year_Yes</td>\n      <td>0.000156</td>\n    </tr>\n    <tr>\n      <th>31</th>\n      <td>workclass_no paid work</td>\n      <td>0.000141</td>\n    </tr>\n    <tr>\n      <th>28</th>\n      <td>marital status_Widowed</td>\n      <td>0.000048</td>\n    </tr>\n    <tr>\n      <th>24</th>\n      <td>marital status_Divorced</td>\n      <td>0.000030</td>\n    </tr>\n    <tr>\n      <th>34</th>\n      <td>gave birth this year_No</td>\n      <td>0.000015</td>\n    </tr>\n    <tr>\n      <th>13</th>\n      <td>occupation_Military Services</td>\n      <td>-0.000126</td>\n    </tr>\n    <tr>\n      <th>3</th>\n      <td>ability to speak english</td>\n      <td>-0.000141</td>\n    </tr>\n    <tr>\n      <th>18</th>\n      <td>occupation_Sales</td>\n      <td>-0.000189</td>\n    </tr>\n    <tr>\n      <th>29</th>\n      <td>marital status_Wife</td>\n      <td>-0.000267</td>\n    </tr>\n  </tbody>\n</table>\n</div>"
     },
     "execution_count": 9,
     "metadata": {},
     "output_type": "execute_result"
    }
   ],
   "source": [
    "feature_importance_df"
   ],
   "metadata": {
    "collapsed": false,
    "ExecuteTime": {
     "end_time": "2024-05-02T17:02:20.114291700Z",
     "start_time": "2024-05-02T17:02:20.097379400Z"
    }
   },
   "id": "9ceffcc44abde12f",
   "execution_count": 9
  },
  {
   "cell_type": "markdown",
   "source": [
    "### Hyperparameter Tuning"
   ],
   "metadata": {
    "collapsed": false
   },
   "id": "89ee1aa06234190f"
  },
  {
   "cell_type": "markdown",
   "source": [
    "Here, we define the base parameter grid for our hyperparameter tuning function."
   ],
   "metadata": {
    "collapsed": false
   },
   "id": "885f65e8eefcf1db"
  },
  {
   "cell_type": "code",
   "outputs": [],
   "source": [
    "param_grid = {\n",
    "        'penalty': ['l2'],\n",
    "        'C': [0.01, 0.1, 1, 10],\n",
    "        'solver': ['lbfgs', 'liblinear', 'newton-cg', 'newton-cholesky'],\n",
    "        'max_iter': [5000],\n",
    "        'random_state': [42]\n",
    "    }"
   ],
   "metadata": {
    "collapsed": false,
    "ExecuteTime": {
     "end_time": "2024-05-02T17:02:20.156153500Z",
     "start_time": "2024-05-02T17:02:20.113293800Z"
    }
   },
   "id": "dac933cbe750f95",
   "execution_count": 10
  },
  {
   "cell_type": "markdown",
   "source": [
    "Below, we tune the hyperparameters of the Logistic Regression model using the defined parameter grid and using all features."
   ],
   "metadata": {
    "collapsed": false
   },
   "id": "5531efc1ee2d4887"
  },
  {
   "cell_type": "code",
   "outputs": [
    {
     "name": "stdout",
     "output_type": "stream",
     "text": [
      "Fitting 5 folds for each of 16 candidates, totalling 80 fits\n",
      "\n",
      "Best Hyperparameters: {'C': 1, 'max_iter': 5000, 'penalty': 'l2', 'random_state': 42, 'solver': 'lbfgs'}\n",
      "Best Model: LogisticRegression(C=1, max_iter=5000, random_state=42)\n",
      "Best Model Accuracy: 0.7911111111111111\n",
      "              precision    recall  f1-score   support\n",
      "\n",
      "           0       0.82      0.87      0.84      1175\n",
      "           1       0.72      0.64      0.68       625\n",
      "\n",
      "    accuracy                           0.79      1800\n",
      "   macro avg       0.77      0.76      0.76      1800\n",
      "weighted avg       0.79      0.79      0.79      1800\n",
      "\n",
      "Fairness Metrics:\n",
      "Male FPR: 0.18053596614950634\n",
      "Male TPR: 0.7314629258517034\n",
      "Female FPR: 0.0536480686695279\n",
      "Female TPR: 0.29365079365079366\n",
      "\n",
      "Disparate Impact (DI): 0.257\n",
      "Discrimination Score (DS): -0.303\n",
      "Equal Opportunity Difference (EO): 0.438\n",
      "Equalized Odds (EOdds): 0.127\n"
     ]
    }
   ],
   "source": [
    "best_params, best_model, best_accuracy = tune_model(LogisticRegression(), X_encoded, X_train, y_train, X_test, y_test, param_grid)\n",
    "\n",
    "print(\"\\nBest Hyperparameters:\", best_params)\n",
    "print(\"Best Model:\", best_model)\n",
    "print(\"Best Model Accuracy:\", best_accuracy)\n",
    "\n",
    "lr_preds = best_model.predict(X_test)\n",
    "print(classification_report(y_test, lr_preds))\n",
    "\n",
    "print_male_female_metrics(best_model, X, X_male, X_female, X_test, y_test)\n",
    "save_model(best_model, '../output/saved_models/lr_model_sexincl_noffs_tuned_unfair.joblib')"
   ],
   "metadata": {
    "collapsed": false,
    "ExecuteTime": {
     "end_time": "2024-05-02T17:02:47.491346200Z",
     "start_time": "2024-05-02T17:02:20.139198900Z"
    }
   },
   "id": "d6cfd27be7bfa635",
   "execution_count": 11
  },
  {
   "cell_type": "markdown",
   "source": [
    "Now the same but with fairness constraints."
   ],
   "metadata": {
    "collapsed": false
   },
   "id": "ae7cb59f932379f"
  },
  {
   "cell_type": "code",
   "outputs": [
    {
     "name": "stdout",
     "output_type": "stream",
     "text": [
      "Fitting 5 folds for each of 16 candidates, totalling 80 fits\n",
      "\n",
      "Best Hyperparameters: {'C': 10, 'max_iter': 5000, 'penalty': 'l2', 'random_state': 42, 'solver': 'newton-cg'}\n",
      "Best Model: LogisticRegression(C=10, max_iter=5000, random_state=42, solver='newton-cg')\n",
      "Best Model Accuracy: 0.7905555555555556\n",
      "              precision    recall  f1-score   support\n",
      "\n",
      "           0       0.82      0.87      0.84      1175\n",
      "           1       0.72      0.64      0.68       625\n",
      "\n",
      "    accuracy                           0.79      1800\n",
      "   macro avg       0.77      0.76      0.76      1800\n",
      "weighted avg       0.79      0.79      0.79      1800\n",
      "\n",
      "Fairness Metrics:\n",
      "Male FPR: 0.18053596614950634\n",
      "Male TPR: 0.7294589178356713\n",
      "Female FPR: 0.055793991416309016\n",
      "Female TPR: 0.30158730158730157\n",
      "\n",
      "Disparate Impact (DI): 0.265\n",
      "Discrimination Score (DS): -0.299\n",
      "Equal Opportunity Difference (EO): 0.428\n",
      "Equalized Odds (EOdds): 0.125\n"
     ]
    }
   ],
   "source": [
    "best_params, best_model, best_accuracy = tune_model(LogisticRegression(), X_encoded, X_train, y_train, X_test, y_test, param_grid, ensure_fairness=True)\n",
    "\n",
    "print(\"\\nBest Hyperparameters:\", best_params)\n",
    "print(\"Best Model:\", best_model)\n",
    "print(\"Best Model Accuracy:\", best_accuracy)\n",
    "\n",
    "lr_preds = best_model.predict(X_test)\n",
    "print(classification_report(y_test, lr_preds))\n",
    "\n",
    "print_male_female_metrics(best_model, X, X_male, X_female, X_test, y_test)\n",
    "save_model(best_model, '../output/saved_models/lr_model_sexincl_noffs_tuned_fair.joblib')"
   ],
   "metadata": {
    "collapsed": false,
    "ExecuteTime": {
     "end_time": "2024-05-02T17:03:05.283043300Z",
     "start_time": "2024-05-02T17:02:47.485362600Z"
    }
   },
   "id": "e8ad9b4483969cac",
   "execution_count": 12
  },
  {
   "cell_type": "markdown",
   "source": [
    "Below, we tune the hyperparameters of the Logistic Regression model using the defined parameter grid and using a **subset of features**. We exclude the columns 'age', 'ability to speak english', and 'workclass'."
   ],
   "metadata": {
    "collapsed": false
   },
   "id": "a7e1559d5eff2d2e"
  },
  {
   "cell_type": "code",
   "outputs": [
    {
     "name": "stdout",
     "output_type": "stream",
     "text": [
      "Fitting 5 folds for each of 16 candidates, totalling 80 fits\n",
      "\n",
      "Best Hyperparameters: {'C': 10, 'max_iter': 5000, 'penalty': 'l2', 'random_state': 42, 'solver': 'lbfgs'}\n",
      "Best Model: LogisticRegression(C=10, max_iter=5000, random_state=42)\n",
      "Best Model Accuracy: 0.7733333333333333\n",
      "              precision    recall  f1-score   support\n",
      "\n",
      "           0       0.80      0.87      0.83      1175\n",
      "           1       0.71      0.59      0.64       625\n",
      "\n",
      "    accuracy                           0.77      1800\n",
      "   macro avg       0.75      0.73      0.74      1800\n",
      "weighted avg       0.77      0.77      0.77      1800\n",
      "\n",
      "Fairness Metrics:\n",
      "Male FPR: 0.18053596614950634\n",
      "Male TPR: 0.6793587174348698\n",
      "Female FPR: 0.0536480686695279\n",
      "Female TPR: 0.24603174603174602\n",
      "\n",
      "Disparate Impact (DI): 0.245\n",
      "Discrimination Score (DS): -0.292\n",
      "Equal Opportunity Difference (EO): 0.433\n",
      "Equalized Odds (EOdds): 0.127\n"
     ]
    }
   ],
   "source": [
    "columns_to_exclude = ['age', 'ability to speak english', 'workclass']\n",
    "X_train_, X_test_, y_train_, y_test_, X_male, X_female = get_train_test_with_excluded_columns(data, columns_to_exclude)\n",
    "\n",
    "best_params, best_model, best_accuracy = tune_model(LogisticRegression(), X_encoded, X_train_, y_train_, X_test_, y_test_, param_grid)\n",
    "\n",
    "print(\"\\nBest Hyperparameters:\", best_params)\n",
    "print(\"Best Model:\", best_model)\n",
    "print(\"Best Model Accuracy:\", best_accuracy)\n",
    "\n",
    "lr_preds = best_model.predict(X_test_)\n",
    "print(classification_report(y_test_, lr_preds))\n",
    "\n",
    "print_male_female_metrics(best_model, X, X_male, X_female, X_test_, y_test_)\n",
    "save_model(best_model, '../output/saved_models/lr_model_sexincl_noffs_tuned_unfair_aawexcl.joblib')"
   ],
   "metadata": {
    "collapsed": false,
    "ExecuteTime": {
     "end_time": "2024-05-02T17:03:13.725496400Z",
     "start_time": "2024-05-02T17:03:05.277058900Z"
    }
   },
   "id": "5f16b76fe9a3f84a",
   "execution_count": 13
  },
  {
   "cell_type": "markdown",
   "source": [
    "Now the same but with fairness constraints."
   ],
   "metadata": {
    "collapsed": false
   },
   "id": "44aaea0f150da8ac"
  },
  {
   "cell_type": "code",
   "outputs": [
    {
     "name": "stdout",
     "output_type": "stream",
     "text": [
      "Fitting 5 folds for each of 16 candidates, totalling 80 fits\n",
      "\n",
      "Best Hyperparameters: {'C': 10, 'max_iter': 5000, 'penalty': 'l2', 'random_state': 42, 'solver': 'liblinear'}\n",
      "Best Model: LogisticRegression(C=10, max_iter=5000, random_state=42, solver='liblinear')\n",
      "Best Model Accuracy: 0.7722222222222223\n",
      "              precision    recall  f1-score   support\n",
      "\n",
      "           0       0.80      0.87      0.83      1175\n",
      "           1       0.70      0.59      0.64       625\n",
      "\n",
      "    accuracy                           0.77      1800\n",
      "   macro avg       0.75      0.73      0.74      1800\n",
      "weighted avg       0.77      0.77      0.77      1800\n",
      "\n",
      "Fairness Metrics:\n",
      "Male FPR: 0.18053596614950634\n",
      "Male TPR: 0.6793587174348698\n",
      "Female FPR: 0.05793991416309013\n",
      "Female TPR: 0.24603174603174602\n",
      "\n",
      "Disparate Impact (DI): 0.253\n",
      "Discrimination Score (DS): -0.289\n",
      "Equal Opportunity Difference (EO): 0.433\n",
      "Equalized Odds (EOdds): 0.123\n"
     ]
    }
   ],
   "source": [
    "columns_to_exclude = ['age', 'ability to speak english', 'workclass']\n",
    "X_train_, X_test_, y_train_, y_test_, X_male, X_female = get_train_test_with_excluded_columns(data, columns_to_exclude)\n",
    "\n",
    "best_params, best_model, best_accuracy = tune_model(LogisticRegression(), X_encoded, X_train_, y_train_, X_test_, y_test_, param_grid, ensure_fairness=True)\n",
    "\n",
    "print(\"\\nBest Hyperparameters:\", best_params)\n",
    "print(\"Best Model:\", best_model)\n",
    "print(\"Best Model Accuracy:\", best_accuracy)\n",
    "\n",
    "lr_preds = best_model.predict(X_test_)\n",
    "print(classification_report(y_test_, lr_preds))\n",
    "\n",
    "print_male_female_metrics(best_model, X, X_male, X_female, X_test_, y_test_)\n",
    "save_model(best_model, '../output/saved_models/lr_model_sexincl_noffs_tuned_fair_aawexcl.joblib')"
   ],
   "metadata": {
    "collapsed": false,
    "ExecuteTime": {
     "end_time": "2024-05-02T17:03:25.313406600Z",
     "start_time": "2024-05-02T17:03:13.719512900Z"
    }
   },
   "id": "be6be5e78c6669f9",
   "execution_count": 14
  },
  {
   "cell_type": "markdown",
   "source": [
    "#### Forward Feature Selection with Hyperparameter Tuning"
   ],
   "metadata": {
    "collapsed": false
   },
   "id": "ac410b7ab7318994"
  },
  {
   "cell_type": "markdown",
   "source": [
    "Because hyperparameter tuning results can vary depending on the chosen subset of features, we will use forward feature selection with hyperparameter tuning to find the best subset of features and hyperparameters for the model."
   ],
   "metadata": {
    "collapsed": false
   },
   "id": "3243329376133cc6"
  },
  {
   "cell_type": "code",
   "outputs": [
    {
     "name": "stdout",
     "output_type": "stream",
     "text": [
      "Fitting 5 folds for each of 16 candidates, totalling 80 fits\n",
      "Fitting 5 folds for each of 16 candidates, totalling 80 fits\n",
      "Fitting 5 folds for each of 16 candidates, totalling 80 fits\n",
      "Fitting 5 folds for each of 16 candidates, totalling 80 fits\n",
      "Fitting 5 folds for each of 16 candidates, totalling 80 fits\n",
      "Fitting 5 folds for each of 16 candidates, totalling 80 fits\n",
      "Fitting 5 folds for each of 16 candidates, totalling 80 fits\n",
      "Fitting 5 folds for each of 16 candidates, totalling 80 fits\n",
      "Fitting 5 folds for each of 16 candidates, totalling 80 fits\n",
      "Best subset: ['occupation_Construction/Extraction', 'occupation_Counseling/Mental Health Services', 'occupation_Education', 'occupation_Entertainment', 'occupation_Farming, Fishing, Forestry', 'occupation_Finance/Accounting', 'occupation_Healthcare/Medical Services', 'occupation_Legal Services', 'occupation_Management/Business', 'occupation_Military Services', 'occupation_Office/Administrative Support', 'occupation_Production/Assembly', 'occupation_Protective Services', 'occupation_Repair/Maintenance', 'occupation_Sales', 'occupation_Science, Engineering, Technology', 'occupation_Service/Hospitality', 'occupation_Transport']\n",
      "Remaining features: [['age'], ['education'], ['workinghours'], ['ability to speak english'], ['workclass_governmental', 'workclass_no paid work', 'workclass_private', 'workclass_self employed'], ['marital status_Divorced', 'marital status_Husband', 'marital status_Never married', 'marital status_Separated', 'marital status_Widowed', 'marital status_Wife'], ['sex_Female', 'sex_Male'], ['gave birth this year_No', 'gave birth this year_Yes']]\n",
      "Fitting 5 folds for each of 16 candidates, totalling 80 fits\n",
      "Fitting 5 folds for each of 16 candidates, totalling 80 fits\n",
      "Fitting 5 folds for each of 16 candidates, totalling 80 fits\n",
      "Fitting 5 folds for each of 16 candidates, totalling 80 fits\n",
      "Fitting 5 folds for each of 16 candidates, totalling 80 fits\n",
      "Fitting 5 folds for each of 16 candidates, totalling 80 fits\n",
      "Fitting 5 folds for each of 16 candidates, totalling 80 fits\n",
      "Fitting 5 folds for each of 16 candidates, totalling 80 fits\n",
      "Best subset: ['occupation_Construction/Extraction', 'occupation_Counseling/Mental Health Services', 'occupation_Education', 'occupation_Entertainment', 'occupation_Farming, Fishing, Forestry', 'occupation_Finance/Accounting', 'occupation_Healthcare/Medical Services', 'occupation_Legal Services', 'occupation_Management/Business', 'occupation_Military Services', 'occupation_Office/Administrative Support', 'occupation_Production/Assembly', 'occupation_Protective Services', 'occupation_Repair/Maintenance', 'occupation_Sales', 'occupation_Science, Engineering, Technology', 'occupation_Service/Hospitality', 'occupation_Transport', 'marital status_Divorced', 'marital status_Husband', 'marital status_Never married', 'marital status_Separated', 'marital status_Widowed', 'marital status_Wife']\n",
      "Remaining features: [['age'], ['education'], ['workinghours'], ['ability to speak english'], ['workclass_governmental', 'workclass_no paid work', 'workclass_private', 'workclass_self employed'], ['sex_Female', 'sex_Male'], ['gave birth this year_No', 'gave birth this year_Yes']]\n",
      "Fitting 5 folds for each of 16 candidates, totalling 80 fits\n",
      "Fitting 5 folds for each of 16 candidates, totalling 80 fits\n",
      "Fitting 5 folds for each of 16 candidates, totalling 80 fits\n",
      "Fitting 5 folds for each of 16 candidates, totalling 80 fits\n",
      "Fitting 5 folds for each of 16 candidates, totalling 80 fits\n",
      "Fitting 5 folds for each of 16 candidates, totalling 80 fits\n",
      "Fitting 5 folds for each of 16 candidates, totalling 80 fits\n",
      "Best subset: ['occupation_Construction/Extraction', 'occupation_Counseling/Mental Health Services', 'occupation_Education', 'occupation_Entertainment', 'occupation_Farming, Fishing, Forestry', 'occupation_Finance/Accounting', 'occupation_Healthcare/Medical Services', 'occupation_Legal Services', 'occupation_Management/Business', 'occupation_Military Services', 'occupation_Office/Administrative Support', 'occupation_Production/Assembly', 'occupation_Protective Services', 'occupation_Repair/Maintenance', 'occupation_Sales', 'occupation_Science, Engineering, Technology', 'occupation_Service/Hospitality', 'occupation_Transport', 'marital status_Divorced', 'marital status_Husband', 'marital status_Never married', 'marital status_Separated', 'marital status_Widowed', 'marital status_Wife', 'workinghours']\n",
      "Remaining features: [['age'], ['education'], ['ability to speak english'], ['workclass_governmental', 'workclass_no paid work', 'workclass_private', 'workclass_self employed'], ['sex_Female', 'sex_Male'], ['gave birth this year_No', 'gave birth this year_Yes']]\n",
      "Fitting 5 folds for each of 16 candidates, totalling 80 fits\n",
      "Fitting 5 folds for each of 16 candidates, totalling 80 fits\n",
      "Fitting 5 folds for each of 16 candidates, totalling 80 fits\n",
      "Fitting 5 folds for each of 16 candidates, totalling 80 fits\n",
      "Fitting 5 folds for each of 16 candidates, totalling 80 fits\n",
      "Fitting 5 folds for each of 16 candidates, totalling 80 fits\n",
      "Best subset: ['occupation_Construction/Extraction', 'occupation_Counseling/Mental Health Services', 'occupation_Education', 'occupation_Entertainment', 'occupation_Farming, Fishing, Forestry', 'occupation_Finance/Accounting', 'occupation_Healthcare/Medical Services', 'occupation_Legal Services', 'occupation_Management/Business', 'occupation_Military Services', 'occupation_Office/Administrative Support', 'occupation_Production/Assembly', 'occupation_Protective Services', 'occupation_Repair/Maintenance', 'occupation_Sales', 'occupation_Science, Engineering, Technology', 'occupation_Service/Hospitality', 'occupation_Transport', 'marital status_Divorced', 'marital status_Husband', 'marital status_Never married', 'marital status_Separated', 'marital status_Widowed', 'marital status_Wife', 'workinghours', 'education']\n",
      "Remaining features: [['age'], ['ability to speak english'], ['workclass_governmental', 'workclass_no paid work', 'workclass_private', 'workclass_self employed'], ['sex_Female', 'sex_Male'], ['gave birth this year_No', 'gave birth this year_Yes']]\n",
      "Fitting 5 folds for each of 16 candidates, totalling 80 fits\n",
      "Fitting 5 folds for each of 16 candidates, totalling 80 fits\n",
      "Fitting 5 folds for each of 16 candidates, totalling 80 fits\n",
      "Fitting 5 folds for each of 16 candidates, totalling 80 fits\n",
      "Fitting 5 folds for each of 16 candidates, totalling 80 fits\n",
      "Best subset: ['occupation_Construction/Extraction', 'occupation_Counseling/Mental Health Services', 'occupation_Education', 'occupation_Entertainment', 'occupation_Farming, Fishing, Forestry', 'occupation_Finance/Accounting', 'occupation_Healthcare/Medical Services', 'occupation_Legal Services', 'occupation_Management/Business', 'occupation_Military Services', 'occupation_Office/Administrative Support', 'occupation_Production/Assembly', 'occupation_Protective Services', 'occupation_Repair/Maintenance', 'occupation_Sales', 'occupation_Science, Engineering, Technology', 'occupation_Service/Hospitality', 'occupation_Transport', 'marital status_Divorced', 'marital status_Husband', 'marital status_Never married', 'marital status_Separated', 'marital status_Widowed', 'marital status_Wife', 'workinghours', 'education', 'age']\n",
      "Remaining features: [['ability to speak english'], ['workclass_governmental', 'workclass_no paid work', 'workclass_private', 'workclass_self employed'], ['sex_Female', 'sex_Male'], ['gave birth this year_No', 'gave birth this year_Yes']]\n",
      "Fitting 5 folds for each of 16 candidates, totalling 80 fits\n",
      "Fitting 5 folds for each of 16 candidates, totalling 80 fits\n",
      "Fitting 5 folds for each of 16 candidates, totalling 80 fits\n",
      "Fitting 5 folds for each of 16 candidates, totalling 80 fits\n",
      "Best subset: ['occupation_Construction/Extraction', 'occupation_Counseling/Mental Health Services', 'occupation_Education', 'occupation_Entertainment', 'occupation_Farming, Fishing, Forestry', 'occupation_Finance/Accounting', 'occupation_Healthcare/Medical Services', 'occupation_Legal Services', 'occupation_Management/Business', 'occupation_Military Services', 'occupation_Office/Administrative Support', 'occupation_Production/Assembly', 'occupation_Protective Services', 'occupation_Repair/Maintenance', 'occupation_Sales', 'occupation_Science, Engineering, Technology', 'occupation_Service/Hospitality', 'occupation_Transport', 'marital status_Divorced', 'marital status_Husband', 'marital status_Never married', 'marital status_Separated', 'marital status_Widowed', 'marital status_Wife', 'workinghours', 'education', 'age', 'sex_Female', 'sex_Male']\n",
      "Remaining features: [['ability to speak english'], ['workclass_governmental', 'workclass_no paid work', 'workclass_private', 'workclass_self employed'], ['gave birth this year_No', 'gave birth this year_Yes']]\n",
      "Fitting 5 folds for each of 16 candidates, totalling 80 fits\n",
      "Fitting 5 folds for each of 16 candidates, totalling 80 fits\n",
      "Fitting 5 folds for each of 16 candidates, totalling 80 fits\n",
      "Best subset: ['occupation_Construction/Extraction', 'occupation_Counseling/Mental Health Services', 'occupation_Education', 'occupation_Entertainment', 'occupation_Farming, Fishing, Forestry', 'occupation_Finance/Accounting', 'occupation_Healthcare/Medical Services', 'occupation_Legal Services', 'occupation_Management/Business', 'occupation_Military Services', 'occupation_Office/Administrative Support', 'occupation_Production/Assembly', 'occupation_Protective Services', 'occupation_Repair/Maintenance', 'occupation_Sales', 'occupation_Science, Engineering, Technology', 'occupation_Service/Hospitality', 'occupation_Transport', 'marital status_Divorced', 'marital status_Husband', 'marital status_Never married', 'marital status_Separated', 'marital status_Widowed', 'marital status_Wife', 'workinghours', 'education', 'age', 'sex_Female', 'sex_Male']\n",
      "Remaining features: [['ability to speak english'], ['workclass_governmental', 'workclass_no paid work', 'workclass_private', 'workclass_self employed'], ['gave birth this year_No', 'gave birth this year_Yes']]\n",
      "Best subset of features: ['occupation_Construction/Extraction', 'occupation_Counseling/Mental Health Services', 'occupation_Education', 'occupation_Entertainment', 'occupation_Farming, Fishing, Forestry', 'occupation_Finance/Accounting', 'occupation_Healthcare/Medical Services', 'occupation_Legal Services', 'occupation_Management/Business', 'occupation_Military Services', 'occupation_Office/Administrative Support', 'occupation_Production/Assembly', 'occupation_Protective Services', 'occupation_Repair/Maintenance', 'occupation_Sales', 'occupation_Science, Engineering, Technology', 'occupation_Service/Hospitality', 'occupation_Transport', 'marital status_Divorced', 'marital status_Husband', 'marital status_Never married', 'marital status_Separated', 'marital status_Widowed', 'marital status_Wife', 'workinghours', 'education', 'age', 'sex_Female', 'sex_Male']\n",
      "Best hyperparameters: {'C': 0.1, 'max_iter': 5000, 'penalty': 'l2', 'random_state': 42, 'solver': 'lbfgs'}\n",
      "Best model accuracy: 0.7916666666666666\n",
      "              precision    recall  f1-score   support\n",
      "\n",
      "           0       0.82      0.88      0.85      1175\n",
      "           1       0.73      0.63      0.68       625\n",
      "\n",
      "    accuracy                           0.79      1800\n",
      "   macro avg       0.77      0.75      0.76      1800\n",
      "weighted avg       0.79      0.79      0.79      1800\n",
      "\n",
      "Fairness Metrics:\n",
      "Male FPR: 0.1763046544428773\n",
      "Male TPR: 0.7294589178356713\n",
      "Female FPR: 0.045064377682403435\n",
      "Female TPR: 0.25396825396825395\n",
      "\n",
      "Disparate Impact (DI): 0.221\n",
      "Discrimination Score (DS): -0.315\n",
      "Equal Opportunity Difference (EO): 0.475\n",
      "Equalized Odds (EOdds): 0.131\n"
     ]
    }
   ],
   "source": [
    "# Forward feature selection with hyperparameter tuning\n",
    "best_subset, best_params, best_score = forward_feat_selection_hypertuning(LogisticRegression(), param_grid, X_encoded, X_train, y_train, X_test, y_test)\n",
    "\n",
    "print(\"Best subset of features:\", best_subset)\n",
    "print(\"Best hyperparameters:\", best_params)\n",
    "print(\"Best model accuracy:\", best_score)\n",
    "\n",
    "# Use the best subset and best hyperparameters for final model\n",
    "final_model_allf_ffs = LogisticRegression(**best_params)\n",
    "final_model_allf_ffs.fit(X_train[best_subset], y_train)\n",
    "final_model_preds = final_model_allf_ffs.predict(X_test[best_subset])\n",
    "final_model_accuracy = accuracy_score(y_test, final_model_preds)\n",
    "\n",
    "print(classification_report(y_test, final_model_preds))\n",
    "\n",
    "print_male_female_metrics(final_model_allf_ffs, X, X_male, X_female, X_test[best_subset], y_test)\n",
    "save_model(final_model_allf_ffs, '../output/saved_models/lr_model_sexincl_ffs_tuned_unfair.joblib')"
   ],
   "metadata": {
    "collapsed": false,
    "ExecuteTime": {
     "end_time": "2024-05-02T17:07:20.225566200Z",
     "start_time": "2024-05-02T17:03:25.303433800Z"
    }
   },
   "id": "8510558c90f0c56",
   "execution_count": 15
  },
  {
   "cell_type": "markdown",
   "source": [
    "Now the same but with fairness constraints."
   ],
   "metadata": {
    "collapsed": false
   },
   "id": "8a64bad3c932627f"
  },
  {
   "cell_type": "code",
   "outputs": [
    {
     "name": "stdout",
     "output_type": "stream",
     "text": [
      "Fitting 5 folds for each of 16 candidates, totalling 80 fits\n",
      "Fitting 5 folds for each of 16 candidates, totalling 80 fits\n",
      "Fitting 5 folds for each of 16 candidates, totalling 80 fits\n",
      "Fitting 5 folds for each of 16 candidates, totalling 80 fits\n",
      "Fitting 5 folds for each of 16 candidates, totalling 80 fits\n",
      "Fitting 5 folds for each of 16 candidates, totalling 80 fits\n",
      "Fitting 5 folds for each of 16 candidates, totalling 80 fits\n",
      "Fitting 5 folds for each of 16 candidates, totalling 80 fits\n",
      "Best subset: ['sex_Female', 'sex_Male', 'occupation_Construction/Extraction', 'occupation_Counseling/Mental Health Services', 'occupation_Education', 'occupation_Entertainment', 'occupation_Farming, Fishing, Forestry', 'occupation_Finance/Accounting', 'occupation_Healthcare/Medical Services', 'occupation_Legal Services', 'occupation_Management/Business', 'occupation_Military Services', 'occupation_Office/Administrative Support', 'occupation_Production/Assembly', 'occupation_Protective Services', 'occupation_Repair/Maintenance', 'occupation_Sales', 'occupation_Science, Engineering, Technology', 'occupation_Service/Hospitality', 'occupation_Transport']\n",
      "Remaining features: [['age'], ['education'], ['workinghours'], ['ability to speak english'], ['workclass_governmental', 'workclass_no paid work', 'workclass_private', 'workclass_self employed'], ['marital status_Divorced', 'marital status_Husband', 'marital status_Never married', 'marital status_Separated', 'marital status_Widowed', 'marital status_Wife'], ['gave birth this year_No', 'gave birth this year_Yes']]\n",
      "Fitting 5 folds for each of 16 candidates, totalling 80 fits\n",
      "Fitting 5 folds for each of 16 candidates, totalling 80 fits\n",
      "Fitting 5 folds for each of 16 candidates, totalling 80 fits\n",
      "Fitting 5 folds for each of 16 candidates, totalling 80 fits\n",
      "Fitting 5 folds for each of 16 candidates, totalling 80 fits\n",
      "Fitting 5 folds for each of 16 candidates, totalling 80 fits\n",
      "Fitting 5 folds for each of 16 candidates, totalling 80 fits\n",
      "Best subset: ['sex_Female', 'sex_Male', 'occupation_Construction/Extraction', 'occupation_Counseling/Mental Health Services', 'occupation_Education', 'occupation_Entertainment', 'occupation_Farming, Fishing, Forestry', 'occupation_Finance/Accounting', 'occupation_Healthcare/Medical Services', 'occupation_Legal Services', 'occupation_Management/Business', 'occupation_Military Services', 'occupation_Office/Administrative Support', 'occupation_Production/Assembly', 'occupation_Protective Services', 'occupation_Repair/Maintenance', 'occupation_Sales', 'occupation_Science, Engineering, Technology', 'occupation_Service/Hospitality', 'occupation_Transport', 'workinghours']\n",
      "Remaining features: [['age'], ['education'], ['ability to speak english'], ['workclass_governmental', 'workclass_no paid work', 'workclass_private', 'workclass_self employed'], ['marital status_Divorced', 'marital status_Husband', 'marital status_Never married', 'marital status_Separated', 'marital status_Widowed', 'marital status_Wife'], ['gave birth this year_No', 'gave birth this year_Yes']]\n",
      "Fitting 5 folds for each of 16 candidates, totalling 80 fits\n",
      "Fitting 5 folds for each of 16 candidates, totalling 80 fits\n",
      "Fitting 5 folds for each of 16 candidates, totalling 80 fits\n",
      "Fitting 5 folds for each of 16 candidates, totalling 80 fits\n",
      "Fitting 5 folds for each of 16 candidates, totalling 80 fits\n",
      "Fitting 5 folds for each of 16 candidates, totalling 80 fits\n",
      "Best subset: ['sex_Female', 'sex_Male', 'occupation_Construction/Extraction', 'occupation_Counseling/Mental Health Services', 'occupation_Education', 'occupation_Entertainment', 'occupation_Farming, Fishing, Forestry', 'occupation_Finance/Accounting', 'occupation_Healthcare/Medical Services', 'occupation_Legal Services', 'occupation_Management/Business', 'occupation_Military Services', 'occupation_Office/Administrative Support', 'occupation_Production/Assembly', 'occupation_Protective Services', 'occupation_Repair/Maintenance', 'occupation_Sales', 'occupation_Science, Engineering, Technology', 'occupation_Service/Hospitality', 'occupation_Transport', 'workinghours', 'age']\n",
      "Remaining features: [['education'], ['ability to speak english'], ['workclass_governmental', 'workclass_no paid work', 'workclass_private', 'workclass_self employed'], ['marital status_Divorced', 'marital status_Husband', 'marital status_Never married', 'marital status_Separated', 'marital status_Widowed', 'marital status_Wife'], ['gave birth this year_No', 'gave birth this year_Yes']]\n",
      "Fitting 5 folds for each of 16 candidates, totalling 80 fits\n",
      "Fitting 5 folds for each of 16 candidates, totalling 80 fits\n",
      "Fitting 5 folds for each of 16 candidates, totalling 80 fits\n",
      "Fitting 5 folds for each of 16 candidates, totalling 80 fits\n",
      "Fitting 5 folds for each of 16 candidates, totalling 80 fits\n",
      "Best subset: ['sex_Female', 'sex_Male', 'occupation_Construction/Extraction', 'occupation_Counseling/Mental Health Services', 'occupation_Education', 'occupation_Entertainment', 'occupation_Farming, Fishing, Forestry', 'occupation_Finance/Accounting', 'occupation_Healthcare/Medical Services', 'occupation_Legal Services', 'occupation_Management/Business', 'occupation_Military Services', 'occupation_Office/Administrative Support', 'occupation_Production/Assembly', 'occupation_Protective Services', 'occupation_Repair/Maintenance', 'occupation_Sales', 'occupation_Science, Engineering, Technology', 'occupation_Service/Hospitality', 'occupation_Transport', 'workinghours', 'age', 'education']\n",
      "Remaining features: [['ability to speak english'], ['workclass_governmental', 'workclass_no paid work', 'workclass_private', 'workclass_self employed'], ['marital status_Divorced', 'marital status_Husband', 'marital status_Never married', 'marital status_Separated', 'marital status_Widowed', 'marital status_Wife'], ['gave birth this year_No', 'gave birth this year_Yes']]\n",
      "Fitting 5 folds for each of 16 candidates, totalling 80 fits\n",
      "Fitting 5 folds for each of 16 candidates, totalling 80 fits\n",
      "Fitting 5 folds for each of 16 candidates, totalling 80 fits\n",
      "Fitting 5 folds for each of 16 candidates, totalling 80 fits\n",
      "Best subset: ['sex_Female', 'sex_Male', 'occupation_Construction/Extraction', 'occupation_Counseling/Mental Health Services', 'occupation_Education', 'occupation_Entertainment', 'occupation_Farming, Fishing, Forestry', 'occupation_Finance/Accounting', 'occupation_Healthcare/Medical Services', 'occupation_Legal Services', 'occupation_Management/Business', 'occupation_Military Services', 'occupation_Office/Administrative Support', 'occupation_Production/Assembly', 'occupation_Protective Services', 'occupation_Repair/Maintenance', 'occupation_Sales', 'occupation_Science, Engineering, Technology', 'occupation_Service/Hospitality', 'occupation_Transport', 'workinghours', 'age', 'education', 'marital status_Divorced', 'marital status_Husband', 'marital status_Never married', 'marital status_Separated', 'marital status_Widowed', 'marital status_Wife']\n",
      "Remaining features: [['ability to speak english'], ['workclass_governmental', 'workclass_no paid work', 'workclass_private', 'workclass_self employed'], ['gave birth this year_No', 'gave birth this year_Yes']]\n",
      "Fitting 5 folds for each of 16 candidates, totalling 80 fits\n",
      "Fitting 5 folds for each of 16 candidates, totalling 80 fits\n",
      "Fitting 5 folds for each of 16 candidates, totalling 80 fits\n",
      "Best subset: ['sex_Female', 'sex_Male', 'occupation_Construction/Extraction', 'occupation_Counseling/Mental Health Services', 'occupation_Education', 'occupation_Entertainment', 'occupation_Farming, Fishing, Forestry', 'occupation_Finance/Accounting', 'occupation_Healthcare/Medical Services', 'occupation_Legal Services', 'occupation_Management/Business', 'occupation_Military Services', 'occupation_Office/Administrative Support', 'occupation_Production/Assembly', 'occupation_Protective Services', 'occupation_Repair/Maintenance', 'occupation_Sales', 'occupation_Science, Engineering, Technology', 'occupation_Service/Hospitality', 'occupation_Transport', 'workinghours', 'age', 'education', 'marital status_Divorced', 'marital status_Husband', 'marital status_Never married', 'marital status_Separated', 'marital status_Widowed', 'marital status_Wife', 'workclass_governmental', 'workclass_no paid work', 'workclass_private', 'workclass_self employed']\n",
      "Remaining features: [['ability to speak english'], ['gave birth this year_No', 'gave birth this year_Yes']]\n",
      "Fitting 5 folds for each of 16 candidates, totalling 80 fits\n",
      "Fitting 5 folds for each of 16 candidates, totalling 80 fits\n",
      "Best subset: ['sex_Female', 'sex_Male', 'occupation_Construction/Extraction', 'occupation_Counseling/Mental Health Services', 'occupation_Education', 'occupation_Entertainment', 'occupation_Farming, Fishing, Forestry', 'occupation_Finance/Accounting', 'occupation_Healthcare/Medical Services', 'occupation_Legal Services', 'occupation_Management/Business', 'occupation_Military Services', 'occupation_Office/Administrative Support', 'occupation_Production/Assembly', 'occupation_Protective Services', 'occupation_Repair/Maintenance', 'occupation_Sales', 'occupation_Science, Engineering, Technology', 'occupation_Service/Hospitality', 'occupation_Transport', 'workinghours', 'age', 'education', 'marital status_Divorced', 'marital status_Husband', 'marital status_Never married', 'marital status_Separated', 'marital status_Widowed', 'marital status_Wife', 'workclass_governmental', 'workclass_no paid work', 'workclass_private', 'workclass_self employed', 'ability to speak english']\n",
      "Remaining features: [['gave birth this year_No', 'gave birth this year_Yes']]\n",
      "Fitting 5 folds for each of 16 candidates, totalling 80 fits\n",
      "Best subset: ['sex_Female', 'sex_Male', 'occupation_Construction/Extraction', 'occupation_Counseling/Mental Health Services', 'occupation_Education', 'occupation_Entertainment', 'occupation_Farming, Fishing, Forestry', 'occupation_Finance/Accounting', 'occupation_Healthcare/Medical Services', 'occupation_Legal Services', 'occupation_Management/Business', 'occupation_Military Services', 'occupation_Office/Administrative Support', 'occupation_Production/Assembly', 'occupation_Protective Services', 'occupation_Repair/Maintenance', 'occupation_Sales', 'occupation_Science, Engineering, Technology', 'occupation_Service/Hospitality', 'occupation_Transport', 'workinghours', 'age', 'education', 'marital status_Divorced', 'marital status_Husband', 'marital status_Never married', 'marital status_Separated', 'marital status_Widowed', 'marital status_Wife', 'workclass_governmental', 'workclass_no paid work', 'workclass_private', 'workclass_self employed', 'ability to speak english']\n",
      "Remaining features: [['gave birth this year_No', 'gave birth this year_Yes']]\n",
      "Best subset of features: ['sex_Female', 'sex_Male', 'occupation_Construction/Extraction', 'occupation_Counseling/Mental Health Services', 'occupation_Education', 'occupation_Entertainment', 'occupation_Farming, Fishing, Forestry', 'occupation_Finance/Accounting', 'occupation_Healthcare/Medical Services', 'occupation_Legal Services', 'occupation_Management/Business', 'occupation_Military Services', 'occupation_Office/Administrative Support', 'occupation_Production/Assembly', 'occupation_Protective Services', 'occupation_Repair/Maintenance', 'occupation_Sales', 'occupation_Science, Engineering, Technology', 'occupation_Service/Hospitality', 'occupation_Transport', 'workinghours', 'age', 'education', 'marital status_Divorced', 'marital status_Husband', 'marital status_Never married', 'marital status_Separated', 'marital status_Widowed', 'marital status_Wife', 'workclass_governmental', 'workclass_no paid work', 'workclass_private', 'workclass_self employed', 'ability to speak english']\n",
      "Best hyperparameters: {'C': 1, 'max_iter': 5000, 'penalty': 'l2', 'random_state': 42, 'solver': 'newton-cg'}\n",
      "Best model accuracy: 0.7922222222222223\n",
      "              precision    recall  f1-score   support\n",
      "\n",
      "           0       0.82      0.87      0.84      1175\n",
      "           1       0.72      0.64      0.68       625\n",
      "\n",
      "    accuracy                           0.79      1800\n",
      "   macro avg       0.77      0.76      0.76      1800\n",
      "weighted avg       0.79      0.79      0.79      1800\n",
      "\n",
      "Fairness Metrics:\n",
      "Male FPR: 0.18194640338504936\n",
      "Male TPR: 0.7314629258517034\n",
      "Female FPR: 0.0536480686695279\n",
      "Female TPR: 0.29365079365079366\n",
      "\n",
      "Disparate Impact (DI): 0.256\n",
      "Discrimination Score (DS): -0.304\n",
      "Equal Opportunity Difference (EO): 0.438\n",
      "Equalized Odds (EOdds): 0.128\n"
     ]
    }
   ],
   "source": [
    "# Forward feature selection with hyperparameter tuning\n",
    "best_subset, best_params, best_score = forward_feat_selection_hypertuning(LogisticRegression(), param_grid, X_encoded, X_train, y_train, X_test, y_test, ensure_fairness=True)\n",
    "\n",
    "print(\"Best subset of features:\", best_subset)\n",
    "print(\"Best hyperparameters:\", best_params)\n",
    "print(\"Best model accuracy:\", best_score)\n",
    "\n",
    "# Use the best subset and best hyperparameters for final model\n",
    "final_model_allf_ffs = LogisticRegression(**best_params)\n",
    "final_model_allf_ffs.fit(X_train[best_subset], y_train)\n",
    "final_model_preds = final_model_allf_ffs.predict(X_test[best_subset])\n",
    "final_model_accuracy = accuracy_score(y_test, final_model_preds)\n",
    "\n",
    "print(classification_report(y_test, final_model_preds))\n",
    "\n",
    "print_male_female_metrics(final_model_allf_ffs, X, X_male, X_female, X_test[best_subset], y_test)\n",
    "save_model(final_model_allf_ffs, '../output/saved_models/lr_model_sexincl_ffs_tuned_fair.joblib')"
   ],
   "metadata": {
    "collapsed": false,
    "ExecuteTime": {
     "end_time": "2024-05-02T17:11:54.947244900Z",
     "start_time": "2024-05-02T17:07:20.220579100Z"
    }
   },
   "id": "49c556fbd6022047",
   "execution_count": 16
  },
  {
   "cell_type": "markdown",
   "source": [
    "#### Removing sex-related columns"
   ],
   "metadata": {
    "collapsed": false
   },
   "id": "2a1b7e999e0c726d"
  },
  {
   "cell_type": "markdown",
   "source": [
    "Below we do Forward feature selection with hyperparameter tuning, but we exclude all sex-related columns."
   ],
   "metadata": {
    "collapsed": false
   },
   "id": "c8a3d6e07b11752f"
  },
  {
   "cell_type": "code",
   "outputs": [
    {
     "name": "stdout",
     "output_type": "stream",
     "text": [
      "Fitting 5 folds for each of 16 candidates, totalling 80 fits\n",
      "Fitting 5 folds for each of 16 candidates, totalling 80 fits\n",
      "Fitting 5 folds for each of 16 candidates, totalling 80 fits\n",
      "Fitting 5 folds for each of 16 candidates, totalling 80 fits\n",
      "Fitting 5 folds for each of 16 candidates, totalling 80 fits\n",
      "Fitting 5 folds for each of 16 candidates, totalling 80 fits\n",
      "Best subset: ['occupation_Construction/Extraction', 'occupation_Counseling/Mental Health Services', 'occupation_Education', 'occupation_Entertainment', 'occupation_Farming, Fishing, Forestry', 'occupation_Finance/Accounting', 'occupation_Healthcare/Medical Services', 'occupation_Legal Services', 'occupation_Management/Business', 'occupation_Military Services', 'occupation_Office/Administrative Support', 'occupation_Production/Assembly', 'occupation_Protective Services', 'occupation_Repair/Maintenance', 'occupation_Sales', 'occupation_Science, Engineering, Technology', 'occupation_Service/Hospitality', 'occupation_Transport']\n",
      "Remaining features: [['age'], ['education'], ['workinghours'], ['ability to speak english'], ['workclass_governmental', 'workclass_no paid work', 'workclass_private', 'workclass_self employed']]\n",
      "Fitting 5 folds for each of 16 candidates, totalling 80 fits\n",
      "Fitting 5 folds for each of 16 candidates, totalling 80 fits\n",
      "Fitting 5 folds for each of 16 candidates, totalling 80 fits\n",
      "Fitting 5 folds for each of 16 candidates, totalling 80 fits\n",
      "Fitting 5 folds for each of 16 candidates, totalling 80 fits\n",
      "Best subset: ['occupation_Construction/Extraction', 'occupation_Counseling/Mental Health Services', 'occupation_Education', 'occupation_Entertainment', 'occupation_Farming, Fishing, Forestry', 'occupation_Finance/Accounting', 'occupation_Healthcare/Medical Services', 'occupation_Legal Services', 'occupation_Management/Business', 'occupation_Military Services', 'occupation_Office/Administrative Support', 'occupation_Production/Assembly', 'occupation_Protective Services', 'occupation_Repair/Maintenance', 'occupation_Sales', 'occupation_Science, Engineering, Technology', 'occupation_Service/Hospitality', 'occupation_Transport', 'education']\n",
      "Remaining features: [['age'], ['workinghours'], ['ability to speak english'], ['workclass_governmental', 'workclass_no paid work', 'workclass_private', 'workclass_self employed']]\n",
      "Fitting 5 folds for each of 16 candidates, totalling 80 fits\n",
      "Fitting 5 folds for each of 16 candidates, totalling 80 fits\n",
      "Fitting 5 folds for each of 16 candidates, totalling 80 fits\n",
      "Fitting 5 folds for each of 16 candidates, totalling 80 fits\n",
      "Best subset: ['occupation_Construction/Extraction', 'occupation_Counseling/Mental Health Services', 'occupation_Education', 'occupation_Entertainment', 'occupation_Farming, Fishing, Forestry', 'occupation_Finance/Accounting', 'occupation_Healthcare/Medical Services', 'occupation_Legal Services', 'occupation_Management/Business', 'occupation_Military Services', 'occupation_Office/Administrative Support', 'occupation_Production/Assembly', 'occupation_Protective Services', 'occupation_Repair/Maintenance', 'occupation_Sales', 'occupation_Science, Engineering, Technology', 'occupation_Service/Hospitality', 'occupation_Transport', 'education', 'workinghours']\n",
      "Remaining features: [['age'], ['ability to speak english'], ['workclass_governmental', 'workclass_no paid work', 'workclass_private', 'workclass_self employed']]\n",
      "Fitting 5 folds for each of 16 candidates, totalling 80 fits\n",
      "Fitting 5 folds for each of 16 candidates, totalling 80 fits\n",
      "Fitting 5 folds for each of 16 candidates, totalling 80 fits\n",
      "Best subset: ['occupation_Construction/Extraction', 'occupation_Counseling/Mental Health Services', 'occupation_Education', 'occupation_Entertainment', 'occupation_Farming, Fishing, Forestry', 'occupation_Finance/Accounting', 'occupation_Healthcare/Medical Services', 'occupation_Legal Services', 'occupation_Management/Business', 'occupation_Military Services', 'occupation_Office/Administrative Support', 'occupation_Production/Assembly', 'occupation_Protective Services', 'occupation_Repair/Maintenance', 'occupation_Sales', 'occupation_Science, Engineering, Technology', 'occupation_Service/Hospitality', 'occupation_Transport', 'education', 'workinghours', 'age']\n",
      "Remaining features: [['ability to speak english'], ['workclass_governmental', 'workclass_no paid work', 'workclass_private', 'workclass_self employed']]\n",
      "Fitting 5 folds for each of 16 candidates, totalling 80 fits\n",
      "Fitting 5 folds for each of 16 candidates, totalling 80 fits\n",
      "Best subset: ['occupation_Construction/Extraction', 'occupation_Counseling/Mental Health Services', 'occupation_Education', 'occupation_Entertainment', 'occupation_Farming, Fishing, Forestry', 'occupation_Finance/Accounting', 'occupation_Healthcare/Medical Services', 'occupation_Legal Services', 'occupation_Management/Business', 'occupation_Military Services', 'occupation_Office/Administrative Support', 'occupation_Production/Assembly', 'occupation_Protective Services', 'occupation_Repair/Maintenance', 'occupation_Sales', 'occupation_Science, Engineering, Technology', 'occupation_Service/Hospitality', 'occupation_Transport', 'education', 'workinghours', 'age']\n",
      "Remaining features: [['ability to speak english'], ['workclass_governmental', 'workclass_no paid work', 'workclass_private', 'workclass_self employed']]\n",
      "Best subset of features: ['occupation_Construction/Extraction', 'occupation_Counseling/Mental Health Services', 'occupation_Education', 'occupation_Entertainment', 'occupation_Farming, Fishing, Forestry', 'occupation_Finance/Accounting', 'occupation_Healthcare/Medical Services', 'occupation_Legal Services', 'occupation_Management/Business', 'occupation_Military Services', 'occupation_Office/Administrative Support', 'occupation_Production/Assembly', 'occupation_Protective Services', 'occupation_Repair/Maintenance', 'occupation_Sales', 'occupation_Science, Engineering, Technology', 'occupation_Service/Hospitality', 'occupation_Transport', 'education', 'workinghours', 'age']\n",
      "Best hyperparameters: {'C': 10, 'max_iter': 5000, 'penalty': 'l2', 'random_state': 42, 'solver': 'newton-cholesky'}\n",
      "Best model accuracy: 0.7527777777777778\n",
      "              precision    recall  f1-score   support\n",
      "\n",
      "           0       0.79      0.85      0.82      1175\n",
      "           1       0.67      0.56      0.61       625\n",
      "\n",
      "    accuracy                           0.75      1800\n",
      "   macro avg       0.73      0.71      0.72      1800\n",
      "weighted avg       0.75      0.75      0.75      1800\n",
      "\n",
      "Fairness Metrics:\n",
      "Male FPR: 0.15514809590973203\n",
      "Male TPR: 0.593186372745491\n",
      "Female FPR: 0.13090128755364808\n",
      "Female TPR: 0.4365079365079365\n",
      "\n",
      "Disparate Impact (DI): 0.583\n",
      "Discrimination Score (DS): -0.140\n",
      "Equal Opportunity Difference (EO): 0.157\n",
      "Equalized Odds (EOdds): 0.024\n"
     ]
    }
   ],
   "source": [
    "# Forward feature selection with hyperparameter tuning\n",
    "columns_to_exclude = ['sex', 'gave birth this year', 'marital status']\n",
    "X_train_, X_test_, y_train_, y_test_, X_male, X_female = get_train_test_with_excluded_columns(data, columns_to_exclude)\n",
    "\n",
    "best_subset, best_params, best_score = forward_feat_selection_hypertuning(LogisticRegression(), param_grid, X_encoded, X_train_, y_train_, X_test_, y_test_)\n",
    "\n",
    "print(\"Best subset of features:\", best_subset)\n",
    "print(\"Best hyperparameters:\", best_params)\n",
    "print(\"Best model accuracy:\", best_score)\n",
    "\n",
    "# Use the best subset and best hyperparameters for final model\n",
    "final_model_sexexcl_ffs = LogisticRegression(**best_params)\n",
    "final_model_sexexcl_ffs.fit(X_train_[best_subset], y_train_)\n",
    "final_model_preds = final_model_sexexcl_ffs.predict(X_test_[best_subset])\n",
    "final_model_accuracy = accuracy_score(y_test_, final_model_preds)\n",
    "\n",
    "print(classification_report(y_test, final_model_preds))\n",
    "\n",
    "print_male_female_metrics(final_model_sexexcl_ffs, X, X_male, X_female, X_test_[best_subset], y_test_)\n",
    "save_model(final_model_sexexcl_ffs, '../output/saved_models/lr_model_sexexcl_ffs_tuned_unfair.joblib')"
   ],
   "metadata": {
    "collapsed": false,
    "ExecuteTime": {
     "end_time": "2024-05-02T17:13:20.676384700Z",
     "start_time": "2024-05-02T17:11:54.951234900Z"
    }
   },
   "id": "2d81ebb18184e326",
   "execution_count": 17
  },
  {
   "cell_type": "markdown",
   "source": [
    "Now the same but with fairness constraints."
   ],
   "metadata": {
    "collapsed": false
   },
   "id": "6433276620c81f71"
  },
  {
   "cell_type": "code",
   "outputs": [
    {
     "name": "stdout",
     "output_type": "stream",
     "text": [
      "Fitting 5 folds for each of 16 candidates, totalling 80 fits\n",
      "Fitting 5 folds for each of 16 candidates, totalling 80 fits\n",
      "Fitting 5 folds for each of 16 candidates, totalling 80 fits\n",
      "Fitting 5 folds for each of 16 candidates, totalling 80 fits\n",
      "Fitting 5 folds for each of 16 candidates, totalling 80 fits\n",
      "Fitting 5 folds for each of 16 candidates, totalling 80 fits\n",
      "Best subset: ['occupation_Construction/Extraction', 'occupation_Counseling/Mental Health Services', 'occupation_Education', 'occupation_Entertainment', 'occupation_Farming, Fishing, Forestry', 'occupation_Finance/Accounting', 'occupation_Healthcare/Medical Services', 'occupation_Legal Services', 'occupation_Management/Business', 'occupation_Military Services', 'occupation_Office/Administrative Support', 'occupation_Production/Assembly', 'occupation_Protective Services', 'occupation_Repair/Maintenance', 'occupation_Sales', 'occupation_Science, Engineering, Technology', 'occupation_Service/Hospitality', 'occupation_Transport']\n",
      "Remaining features: [['age'], ['education'], ['workinghours'], ['ability to speak english'], ['workclass_governmental', 'workclass_no paid work', 'workclass_private', 'workclass_self employed']]\n",
      "Fitting 5 folds for each of 16 candidates, totalling 80 fits\n",
      "Fitting 5 folds for each of 16 candidates, totalling 80 fits\n",
      "Fitting 5 folds for each of 16 candidates, totalling 80 fits\n",
      "Fitting 5 folds for each of 16 candidates, totalling 80 fits\n",
      "Fitting 5 folds for each of 16 candidates, totalling 80 fits\n",
      "Best subset: ['occupation_Construction/Extraction', 'occupation_Counseling/Mental Health Services', 'occupation_Education', 'occupation_Entertainment', 'occupation_Farming, Fishing, Forestry', 'occupation_Finance/Accounting', 'occupation_Healthcare/Medical Services', 'occupation_Legal Services', 'occupation_Management/Business', 'occupation_Military Services', 'occupation_Office/Administrative Support', 'occupation_Production/Assembly', 'occupation_Protective Services', 'occupation_Repair/Maintenance', 'occupation_Sales', 'occupation_Science, Engineering, Technology', 'occupation_Service/Hospitality', 'occupation_Transport', 'education']\n",
      "Remaining features: [['age'], ['workinghours'], ['ability to speak english'], ['workclass_governmental', 'workclass_no paid work', 'workclass_private', 'workclass_self employed']]\n",
      "Fitting 5 folds for each of 16 candidates, totalling 80 fits\n",
      "Fitting 5 folds for each of 16 candidates, totalling 80 fits\n",
      "Fitting 5 folds for each of 16 candidates, totalling 80 fits\n",
      "Fitting 5 folds for each of 16 candidates, totalling 80 fits\n",
      "Best subset: ['occupation_Construction/Extraction', 'occupation_Counseling/Mental Health Services', 'occupation_Education', 'occupation_Entertainment', 'occupation_Farming, Fishing, Forestry', 'occupation_Finance/Accounting', 'occupation_Healthcare/Medical Services', 'occupation_Legal Services', 'occupation_Management/Business', 'occupation_Military Services', 'occupation_Office/Administrative Support', 'occupation_Production/Assembly', 'occupation_Protective Services', 'occupation_Repair/Maintenance', 'occupation_Sales', 'occupation_Science, Engineering, Technology', 'occupation_Service/Hospitality', 'occupation_Transport', 'education', 'workinghours']\n",
      "Remaining features: [['age'], ['ability to speak english'], ['workclass_governmental', 'workclass_no paid work', 'workclass_private', 'workclass_self employed']]\n",
      "Fitting 5 folds for each of 16 candidates, totalling 80 fits\n",
      "Fitting 5 folds for each of 16 candidates, totalling 80 fits\n",
      "Fitting 5 folds for each of 16 candidates, totalling 80 fits\n",
      "Best subset: ['occupation_Construction/Extraction', 'occupation_Counseling/Mental Health Services', 'occupation_Education', 'occupation_Entertainment', 'occupation_Farming, Fishing, Forestry', 'occupation_Finance/Accounting', 'occupation_Healthcare/Medical Services', 'occupation_Legal Services', 'occupation_Management/Business', 'occupation_Military Services', 'occupation_Office/Administrative Support', 'occupation_Production/Assembly', 'occupation_Protective Services', 'occupation_Repair/Maintenance', 'occupation_Sales', 'occupation_Science, Engineering, Technology', 'occupation_Service/Hospitality', 'occupation_Transport', 'education', 'workinghours', 'age']\n",
      "Remaining features: [['ability to speak english'], ['workclass_governmental', 'workclass_no paid work', 'workclass_private', 'workclass_self employed']]\n",
      "Fitting 5 folds for each of 16 candidates, totalling 80 fits\n",
      "Fitting 5 folds for each of 16 candidates, totalling 80 fits\n",
      "Best subset: ['occupation_Construction/Extraction', 'occupation_Counseling/Mental Health Services', 'occupation_Education', 'occupation_Entertainment', 'occupation_Farming, Fishing, Forestry', 'occupation_Finance/Accounting', 'occupation_Healthcare/Medical Services', 'occupation_Legal Services', 'occupation_Management/Business', 'occupation_Military Services', 'occupation_Office/Administrative Support', 'occupation_Production/Assembly', 'occupation_Protective Services', 'occupation_Repair/Maintenance', 'occupation_Sales', 'occupation_Science, Engineering, Technology', 'occupation_Service/Hospitality', 'occupation_Transport', 'education', 'workinghours', 'age']\n",
      "Remaining features: [['ability to speak english'], ['workclass_governmental', 'workclass_no paid work', 'workclass_private', 'workclass_self employed']]\n",
      "Best subset of features: ['occupation_Construction/Extraction', 'occupation_Counseling/Mental Health Services', 'occupation_Education', 'occupation_Entertainment', 'occupation_Farming, Fishing, Forestry', 'occupation_Finance/Accounting', 'occupation_Healthcare/Medical Services', 'occupation_Legal Services', 'occupation_Management/Business', 'occupation_Military Services', 'occupation_Office/Administrative Support', 'occupation_Production/Assembly', 'occupation_Protective Services', 'occupation_Repair/Maintenance', 'occupation_Sales', 'occupation_Science, Engineering, Technology', 'occupation_Service/Hospitality', 'occupation_Transport', 'education', 'workinghours', 'age']\n",
      "Best hyperparameters: {'C': 0.1, 'max_iter': 5000, 'penalty': 'l2', 'random_state': 42, 'solver': 'newton-cholesky'}\n",
      "Best model accuracy: 0.7511111111111111\n",
      "              precision    recall  f1-score   support\n",
      "\n",
      "           0       0.78      0.86      0.82      1175\n",
      "           1       0.68      0.55      0.61       625\n",
      "\n",
      "    accuracy                           0.75      1800\n",
      "   macro avg       0.73      0.71      0.71      1800\n",
      "weighted avg       0.75      0.75      0.75      1800\n",
      "\n",
      "Fairness Metrics:\n",
      "Male FPR: 0.15091678420310295\n",
      "Male TPR: 0.5811623246492986\n",
      "Female FPR: 0.12660944206008584\n",
      "Female TPR: 0.4365079365079365\n",
      "\n",
      "Disparate Impact (DI): 0.586\n",
      "Discrimination Score (DS): -0.136\n",
      "Equal Opportunity Difference (EO): 0.145\n",
      "Equalized Odds (EOdds): 0.024\n"
     ]
    }
   ],
   "source": [
    "# Forward feature selection with hyperparameter tuning\n",
    "columns_to_exclude = ['sex', 'gave birth this year', 'marital status']\n",
    "X_train_, X_test_, y_train_, y_test_, X_male, X_female = get_train_test_with_excluded_columns(data, columns_to_exclude)\n",
    "\n",
    "best_subset, best_params, best_score = forward_feat_selection_hypertuning(LogisticRegression(), param_grid, X_encoded, X_train_, y_train_, X_test_, y_test_, ensure_fairness=True)\n",
    "\n",
    "print(\"Best subset of features:\", best_subset)\n",
    "print(\"Best hyperparameters:\", best_params)\n",
    "print(\"Best model accuracy:\", best_score)\n",
    "\n",
    "# Use the best subset and best hyperparameters for final model\n",
    "final_model_sexexcl_ffs = LogisticRegression(**best_params)\n",
    "final_model_sexexcl_ffs.fit(X_train_[best_subset], y_train_)\n",
    "final_model_preds = final_model_sexexcl_ffs.predict(X_test_[best_subset])\n",
    "final_model_accuracy = accuracy_score(y_test_, final_model_preds)\n",
    "\n",
    "print(classification_report(y_test, final_model_preds))\n",
    "\n",
    "print_male_female_metrics(final_model_sexexcl_ffs, X, X_male, X_female, X_test_[best_subset], y_test_)\n",
    "save_model(final_model_sexexcl_ffs, '../output/saved_models/lr_model_sexexcl_ffs_tuned_unfair.joblib')"
   ],
   "metadata": {
    "collapsed": false,
    "ExecuteTime": {
     "end_time": "2024-05-02T17:15:01.526327800Z",
     "start_time": "2024-05-02T17:13:20.680370700Z"
    }
   },
   "id": "82fbce8c1863aa2f",
   "execution_count": 18
  },
  {
   "cell_type": "markdown",
   "source": [
    "### AdaBoost Classifier"
   ],
   "metadata": {
    "collapsed": false
   },
   "id": "1ad0870d03a33a8c"
  },
  {
   "cell_type": "code",
   "outputs": [],
   "source": [
    "# Define the parameter grid for AdaBoost\n",
    "param_grid = {\n",
    "    'algorithm': ['SAMME', 'SAMME.R'],\n",
    "    'n_estimators': [50, 75, 100, 150],\n",
    "    'learning_rate': [0.1, 0.5, 1.0],\n",
    "    'estimator': [LogisticRegression(random_state=42), final_model_allf_ffs, final_model_sexexcl_ffs],\n",
    "    'random_state': [42]\n",
    "}"
   ],
   "metadata": {
    "collapsed": false,
    "ExecuteTime": {
     "end_time": "2024-05-02T17:15:01.538804900Z",
     "start_time": "2024-05-02T17:15:01.531314100Z"
    }
   },
   "id": "a111270c23cf01a8",
   "execution_count": 19
  },
  {
   "cell_type": "markdown",
   "source": [
    "Below, we tune the hyperparameters of the AdaBoost model using the defined parameter grid and using all features."
   ],
   "metadata": {
    "collapsed": false
   },
   "id": "851db85ce2aa0d9a"
  },
  {
   "cell_type": "code",
   "outputs": [
    {
     "name": "stdout",
     "output_type": "stream",
     "text": [
      "Fitting 5 folds for each of 72 candidates, totalling 360 fits\n",
      "\n",
      "Best Hyperparameters: {'algorithm': 'SAMME.R', 'estimator': LogisticRegression(C=1, max_iter=5000, random_state=42, solver='newton-cg'), 'learning_rate': 1.0, 'n_estimators': 150, 'random_state': 42}\n",
      "Best Model: AdaBoostClassifier(estimator=LogisticRegression(C=1, max_iter=5000,\n",
      "                                                random_state=42,\n",
      "                                                solver='newton-cg'),\n",
      "                   n_estimators=150, random_state=42)\n",
      "Best Model Accuracy: 0.7833333333333333\n",
      "Fairness Metrics:\n",
      "Male FPR: 0.18758815232722145\n",
      "Male TPR: 0.7214428857715431\n",
      "Female FPR: 0.04935622317596566\n",
      "Female TPR: 0.24603174603174602\n",
      "\n",
      "Disparate Impact (DI): 0.224\n",
      "Discrimination Score (DS): -0.317\n",
      "Equal Opportunity Difference (EO): 0.475\n",
      "Equalized Odds (EOdds): 0.138\n"
     ]
    }
   ],
   "source": [
    "best_params, best_model, best_accuracy = tune_model(AdaBoostClassifier(), X_encoded, X_train, y_train, X_test, y_test, param_grid)\n",
    "\n",
    "print(\"\\nBest Hyperparameters:\", best_params)\n",
    "print(\"Best Model:\", best_model)\n",
    "print(\"Best Model Accuracy:\", best_accuracy)\n",
    "\n",
    "print_male_female_metrics(best_model, X, X_male, X_female, X_test, y_test)\n",
    "save_model(best_model, '../output/saved_models/lr_model_sexincl_noffs_tuned_unfair_ada.joblib')"
   ],
   "metadata": {
    "collapsed": false,
    "ExecuteTime": {
     "end_time": "2024-05-02T17:25:49.783627800Z",
     "start_time": "2024-05-02T17:15:01.539802800Z"
    }
   },
   "id": "bf0899747c46223",
   "execution_count": 20
  },
  {
   "cell_type": "markdown",
   "source": [
    "Now the same but with fairness constraints."
   ],
   "metadata": {
    "collapsed": false
   },
   "id": "303345a7d8d3674d"
  },
  {
   "cell_type": "code",
   "outputs": [
    {
     "name": "stdout",
     "output_type": "stream",
     "text": [
      "Fitting 5 folds for each of 72 candidates, totalling 360 fits\n",
      "\n",
      "Best Hyperparameters: {'algorithm': 'SAMME', 'estimator': LogisticRegression(C=1, max_iter=5000, random_state=42, solver='newton-cg'), 'learning_rate': 1.0, 'n_estimators': 150, 'random_state': 42}\n",
      "Best Model: AdaBoostClassifier(algorithm='SAMME',\n",
      "                   estimator=LogisticRegression(C=1, max_iter=5000,\n",
      "                                                random_state=42,\n",
      "                                                solver='newton-cg'),\n",
      "                   n_estimators=150, random_state=42)\n",
      "Best Model Accuracy: 0.7572222222222222\n",
      "Fairness Metrics:\n",
      "Male FPR: 0.16784203102961917\n",
      "Male TPR: 0.625250501002004\n",
      "Female FPR: 0.09012875536480687\n",
      "Female TPR: 0.29365079365079366\n",
      "\n",
      "Disparate Impact (DI): 0.374\n",
      "Discrimination Score (DS): -0.223\n",
      "Equal Opportunity Difference (EO): 0.332\n",
      "Equalized Odds (EOdds): 0.078\n"
     ]
    }
   ],
   "source": [
    "best_params, best_model, best_accuracy = tune_model(AdaBoostClassifier(), X_encoded, X_train, y_train, X_test, y_test, param_grid, ensure_fairness=True)\n",
    "\n",
    "print(\"\\nBest Hyperparameters:\", best_params)\n",
    "print(\"Best Model:\", best_model)\n",
    "print(\"Best Model Accuracy:\", best_accuracy)\n",
    "\n",
    "print_male_female_metrics(best_model, X, X_male, X_female, X_test, y_test)\n",
    "save_model(best_model, '../output/saved_models/lr_model_sexincl_noffs_tuned_fair_ada.joblib')"
   ],
   "metadata": {
    "collapsed": false,
    "ExecuteTime": {
     "end_time": "2024-05-02T17:38:26.415636900Z",
     "start_time": "2024-05-02T17:25:49.785623Z"
    }
   },
   "id": "15bf8ae31b3690a3",
   "execution_count": 21
  },
  {
   "cell_type": "markdown",
   "source": [
    "Below, we tune the hyperparameters of the AdaBoost model using the defined parameter grid and using a **subset of features**. We exclude the sex-related columns."
   ],
   "metadata": {
    "collapsed": false
   },
   "id": "4c9121ba529f18fd"
  },
  {
   "cell_type": "code",
   "outputs": [
    {
     "name": "stdout",
     "output_type": "stream",
     "text": [
      "Fitting 5 folds for each of 72 candidates, totalling 360 fits\n",
      "\n",
      "Best Hyperparameters: {'algorithm': 'SAMME.R', 'estimator': LogisticRegression(C=1, max_iter=5000, random_state=42, solver='newton-cg'), 'learning_rate': 1.0, 'n_estimators': 150, 'random_state': 42}\n",
      "Best Model: AdaBoostClassifier(estimator=LogisticRegression(C=1, max_iter=5000,\n",
      "                                                random_state=42,\n",
      "                                                solver='newton-cg'),\n",
      "                   n_estimators=150, random_state=42)\n",
      "Best Model Accuracy: 0.7538888888888889\n",
      "Fairness Metrics:\n",
      "Male FPR: 0.14527503526093088\n",
      "Male TPR: 0.5811623246492986\n",
      "Female FPR: 0.12017167381974249\n",
      "Female TPR: 0.40476190476190477\n",
      "\n",
      "Disparate Impact (DI): 0.556\n",
      "Discrimination Score (DS): -0.145\n",
      "Equal Opportunity Difference (EO): 0.176\n",
      "Equalized Odds (EOdds): 0.025\n"
     ]
    }
   ],
   "source": [
    "columns_to_exclude = ['sex', 'gave birth this year', 'marital status']\n",
    "X_train_, X_test_, y_train_, y_test_, X_male, X_female = get_train_test_with_excluded_columns(data, columns_to_exclude)\n",
    "\n",
    "best_params, best_model, best_accuracy = tune_model(AdaBoostClassifier(), X_encoded, X_train_, y_train_, X_test_, y_test_, param_grid)\n",
    "\n",
    "print(\"\\nBest Hyperparameters:\", best_params)\n",
    "print(\"Best Model:\", best_model)\n",
    "print(\"Best Model Accuracy:\", best_accuracy)\n",
    "\n",
    "print_male_female_metrics(best_model, X, X_male, X_female, X_test_, y_test_)\n",
    "save_model(best_model, '../output/saved_models/lr_model_sexexcl_noffs_tuned_unfair_ada.joblib')"
   ],
   "metadata": {
    "collapsed": false,
    "ExecuteTime": {
     "end_time": "2024-05-02T17:49:53.592351400Z",
     "start_time": "2024-05-02T17:38:26.408655200Z"
    }
   },
   "id": "f426986e87bbf39b",
   "execution_count": 22
  },
  {
   "cell_type": "markdown",
   "source": [
    "Now the same but with fairness constraints."
   ],
   "metadata": {
    "collapsed": false
   },
   "id": "eba4bf5b1911eb21"
  },
  {
   "cell_type": "code",
   "outputs": [
    {
     "name": "stdout",
     "output_type": "stream",
     "text": [
      "Fitting 5 folds for each of 72 candidates, totalling 360 fits\n",
      "\n",
      "Best Hyperparameters: {'algorithm': 'SAMME.R', 'estimator': LogisticRegression(random_state=42), 'learning_rate': 1.0, 'n_estimators': 50, 'random_state': 42}\n",
      "Best Model: AdaBoostClassifier(estimator=LogisticRegression(random_state=42),\n",
      "                   random_state=42)\n",
      "Best Model Accuracy: 0.7477777777777778\n",
      "Fairness Metrics:\n",
      "Male FPR: 0.1227080394922426\n",
      "Male TPR: 0.531062124248497\n",
      "Female FPR: 0.12446351931330472\n",
      "Female TPR: 0.40476190476190477\n",
      "\n",
      "Disparate Impact (DI): 0.632\n",
      "Discrimination Score (DS): -0.107\n",
      "Equal Opportunity Difference (EO): 0.126\n",
      "Equalized Odds (EOdds): -0.002\n"
     ]
    }
   ],
   "source": [
    "columns_to_exclude = ['sex', 'gave birth this year', 'marital status']\n",
    "X_train_, X_test_, y_train_, y_test_, X_male, X_female = get_train_test_with_excluded_columns(data, columns_to_exclude)\n",
    "\n",
    "best_params, best_model, best_accuracy = tune_model(AdaBoostClassifier(), X_encoded, X_train_, y_train_, X_test_, y_test_, param_grid, ensure_fairness=True)\n",
    "\n",
    "print(\"\\nBest Hyperparameters:\", best_params)\n",
    "print(\"Best Model:\", best_model)\n",
    "print(\"Best Model Accuracy:\", best_accuracy)\n",
    "\n",
    "print_male_female_metrics(best_model, X, X_male, X_female, X_test_, y_test_)\n",
    "save_model(best_model, '../output/saved_models/lr_model_sexexcl_noffs_tuned_fair_ada.joblib')"
   ],
   "metadata": {
    "collapsed": false,
    "ExecuteTime": {
     "end_time": "2024-05-02T18:01:31.792724700Z",
     "start_time": "2024-05-02T17:49:53.592351400Z"
    }
   },
   "id": "a9e3a879974f4b0b",
   "execution_count": 23
  }
 ],
 "metadata": {
  "kernelspec": {
   "display_name": "Python 3",
   "language": "python",
   "name": "python3"
  },
  "language_info": {
   "codemirror_mode": {
    "name": "ipython",
    "version": 2
   },
   "file_extension": ".py",
   "mimetype": "text/x-python",
   "name": "python",
   "nbconvert_exporter": "python",
   "pygments_lexer": "ipython2",
   "version": "2.7.6"
  }
 },
 "nbformat": 4,
 "nbformat_minor": 5
}
