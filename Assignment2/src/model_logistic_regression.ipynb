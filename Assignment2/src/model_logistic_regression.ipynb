{
 "cells": [
  {
   "cell_type": "code",
   "execution_count": 65,
   "id": "initial_id",
   "metadata": {
    "collapsed": true,
    "ExecuteTime": {
     "end_time": "2024-04-19T02:25:20.085162900Z",
     "start_time": "2024-04-19T02:25:19.988424Z"
    }
   },
   "outputs": [],
   "source": [
    "from typing import List, Tuple\n",
    "from helper.helper_functions import load_dataset, save_model, get_features_and_target, encode_all_features\n",
    "from helper.clfmodel_functions import tune_model, seq_feat_selection, multi_metric_cv, plot_multi_score_cv_results, forward_feat_selection_hypertuning\n",
    "import pandas as pd\n",
    "import seaborn as sns\n",
    "import matplotlib.pyplot as plt\n",
    "\n",
    "from sklearn.model_selection import train_test_split\n",
    "from sklearn.metrics import accuracy_score, classification_report\n",
    "\n",
    "from sklearn.linear_model import LogisticRegression"
   ]
  },
  {
   "cell_type": "markdown",
   "source": [
    "### Loading the cleaned dataset"
   ],
   "metadata": {
    "collapsed": false
   },
   "id": "ced45577f2a46d2"
  },
  {
   "cell_type": "code",
   "outputs": [],
   "source": [
    "data: pd.DataFrame = load_dataset('../data/assignment2_income_cleaned.xlsx')"
   ],
   "metadata": {
    "collapsed": false,
    "ExecuteTime": {
     "end_time": "2024-04-19T02:25:22.494464600Z",
     "start_time": "2024-04-19T02:25:20.087158Z"
    }
   },
   "id": "573b15a0c08becd2",
   "execution_count": 66
  },
  {
   "cell_type": "code",
   "outputs": [],
   "source": [
    "# Splitting the data into features (X) and target (y)\n",
    "X, y = get_features_and_target(data, 'income')\n",
    "columns_to_exclude = ['sex', 'ability to speak english', 'gave birth this year']\n",
    "columns_to_exclude = []\n",
    "# Encoding the features and target, and excluding some columns\n",
    "X_encoded, y_encoded = encode_all_features(X, y, columns_to_exclude)\n",
    "# Splitting the dataset into training and testing sets\n",
    "X_train, X_test, y_train, y_test = train_test_split(X_encoded, y_encoded, test_size=0.2, random_state=42)"
   ],
   "metadata": {
    "collapsed": false,
    "ExecuteTime": {
     "end_time": "2024-04-19T02:25:22.521947900Z",
     "start_time": "2024-04-19T02:25:22.495463Z"
    }
   },
   "id": "83fc7449a1cf23ea",
   "execution_count": 67
  },
  {
   "cell_type": "code",
   "outputs": [
    {
     "data": {
      "text/plain": "      age  education  workinghours  ability to speak english  \\\n6317   22         16            36                         0   \n740    61         22            40                         1   \n3781   48         16            40                         0   \n7850   62         18            65                         0   \n2963   53         19            44                         0   \n...   ...        ...           ...                       ...   \n5734   22         19            25                         0   \n5191   24         16            28                         0   \n5390   35         16            40                         0   \n860    23         20            40                         0   \n7270   70         19            40                         0   \n\n      gave birth this year_No  gave birth this year_Yes  sex_Female  sex_Male  \\\n6317                      1.0                       0.0         0.0       1.0   \n740                       1.0                       0.0         0.0       1.0   \n3781                      1.0                       0.0         1.0       0.0   \n7850                      1.0                       0.0         0.0       1.0   \n2963                      1.0                       0.0         1.0       0.0   \n...                       ...                       ...         ...       ...   \n5734                      1.0                       0.0         1.0       0.0   \n5191                      1.0                       0.0         1.0       0.0   \n5390                      1.0                       0.0         0.0       1.0   \n860                       1.0                       0.0         0.0       1.0   \n7270                      1.0                       0.0         1.0       0.0   \n\n      workclass_governmental  workclass_no paid work  ...  occupation_Sales  \\\n6317                     0.0                     0.0  ...               0.0   \n740                      0.0                     0.0  ...               1.0   \n3781                     0.0                     0.0  ...               0.0   \n7850                     0.0                     0.0  ...               0.0   \n2963                     1.0                     0.0  ...               0.0   \n...                      ...                     ...  ...               ...   \n5734                     0.0                     0.0  ...               0.0   \n5191                     0.0                     0.0  ...               1.0   \n5390                     0.0                     0.0  ...               0.0   \n860                      0.0                     0.0  ...               0.0   \n7270                     0.0                     1.0  ...               0.0   \n\n      occupation_Science, Engineering, Technology  \\\n6317                                          0.0   \n740                                           0.0   \n3781                                          0.0   \n7850                                          0.0   \n2963                                          0.0   \n...                                           ...   \n5734                                          0.0   \n5191                                          0.0   \n5390                                          0.0   \n860                                           0.0   \n7270                                          0.0   \n\n      occupation_Service/Hospitality  occupation_Transport  \\\n6317                             0.0                   0.0   \n740                              0.0                   0.0   \n3781                             0.0                   0.0   \n7850                             0.0                   0.0   \n2963                             0.0                   0.0   \n...                              ...                   ...   \n5734                             1.0                   0.0   \n5191                             0.0                   0.0   \n5390                             0.0                   0.0   \n860                              1.0                   0.0   \n7270                             0.0                   0.0   \n\n      marital status_Divorced  marital status_Husband  \\\n6317                      0.0                     1.0   \n740                       1.0                     0.0   \n3781                      1.0                     0.0   \n7850                      0.0                     1.0   \n2963                      1.0                     0.0   \n...                       ...                     ...   \n5734                      0.0                     0.0   \n5191                      0.0                     0.0   \n5390                      0.0                     0.0   \n860                       0.0                     0.0   \n7270                      1.0                     0.0   \n\n      marital status_Never married  marital status_Separated  \\\n6317                           0.0                       0.0   \n740                            0.0                       0.0   \n3781                           0.0                       0.0   \n7850                           0.0                       0.0   \n2963                           0.0                       0.0   \n...                            ...                       ...   \n5734                           1.0                       0.0   \n5191                           1.0                       0.0   \n5390                           1.0                       0.0   \n860                            1.0                       0.0   \n7270                           0.0                       0.0   \n\n      marital status_Widowed  marital status_Wife  \n6317                     0.0                  0.0  \n740                      0.0                  0.0  \n3781                     0.0                  0.0  \n7850                     0.0                  0.0  \n2963                     0.0                  0.0  \n...                      ...                  ...  \n5734                     0.0                  0.0  \n5191                     0.0                  0.0  \n5390                     0.0                  0.0  \n860                      0.0                  0.0  \n7270                     0.0                  0.0  \n\n[7200 rows x 36 columns]",
      "text/html": "<div>\n<style scoped>\n    .dataframe tbody tr th:only-of-type {\n        vertical-align: middle;\n    }\n\n    .dataframe tbody tr th {\n        vertical-align: top;\n    }\n\n    .dataframe thead th {\n        text-align: right;\n    }\n</style>\n<table border=\"1\" class=\"dataframe\">\n  <thead>\n    <tr style=\"text-align: right;\">\n      <th></th>\n      <th>age</th>\n      <th>education</th>\n      <th>workinghours</th>\n      <th>ability to speak english</th>\n      <th>gave birth this year_No</th>\n      <th>gave birth this year_Yes</th>\n      <th>sex_Female</th>\n      <th>sex_Male</th>\n      <th>workclass_governmental</th>\n      <th>workclass_no paid work</th>\n      <th>...</th>\n      <th>occupation_Sales</th>\n      <th>occupation_Science, Engineering, Technology</th>\n      <th>occupation_Service/Hospitality</th>\n      <th>occupation_Transport</th>\n      <th>marital status_Divorced</th>\n      <th>marital status_Husband</th>\n      <th>marital status_Never married</th>\n      <th>marital status_Separated</th>\n      <th>marital status_Widowed</th>\n      <th>marital status_Wife</th>\n    </tr>\n  </thead>\n  <tbody>\n    <tr>\n      <th>6317</th>\n      <td>22</td>\n      <td>16</td>\n      <td>36</td>\n      <td>0</td>\n      <td>1.0</td>\n      <td>0.0</td>\n      <td>0.0</td>\n      <td>1.0</td>\n      <td>0.0</td>\n      <td>0.0</td>\n      <td>...</td>\n      <td>0.0</td>\n      <td>0.0</td>\n      <td>0.0</td>\n      <td>0.0</td>\n      <td>0.0</td>\n      <td>1.0</td>\n      <td>0.0</td>\n      <td>0.0</td>\n      <td>0.0</td>\n      <td>0.0</td>\n    </tr>\n    <tr>\n      <th>740</th>\n      <td>61</td>\n      <td>22</td>\n      <td>40</td>\n      <td>1</td>\n      <td>1.0</td>\n      <td>0.0</td>\n      <td>0.0</td>\n      <td>1.0</td>\n      <td>0.0</td>\n      <td>0.0</td>\n      <td>...</td>\n      <td>1.0</td>\n      <td>0.0</td>\n      <td>0.0</td>\n      <td>0.0</td>\n      <td>1.0</td>\n      <td>0.0</td>\n      <td>0.0</td>\n      <td>0.0</td>\n      <td>0.0</td>\n      <td>0.0</td>\n    </tr>\n    <tr>\n      <th>3781</th>\n      <td>48</td>\n      <td>16</td>\n      <td>40</td>\n      <td>0</td>\n      <td>1.0</td>\n      <td>0.0</td>\n      <td>1.0</td>\n      <td>0.0</td>\n      <td>0.0</td>\n      <td>0.0</td>\n      <td>...</td>\n      <td>0.0</td>\n      <td>0.0</td>\n      <td>0.0</td>\n      <td>0.0</td>\n      <td>1.0</td>\n      <td>0.0</td>\n      <td>0.0</td>\n      <td>0.0</td>\n      <td>0.0</td>\n      <td>0.0</td>\n    </tr>\n    <tr>\n      <th>7850</th>\n      <td>62</td>\n      <td>18</td>\n      <td>65</td>\n      <td>0</td>\n      <td>1.0</td>\n      <td>0.0</td>\n      <td>0.0</td>\n      <td>1.0</td>\n      <td>0.0</td>\n      <td>0.0</td>\n      <td>...</td>\n      <td>0.0</td>\n      <td>0.0</td>\n      <td>0.0</td>\n      <td>0.0</td>\n      <td>0.0</td>\n      <td>1.0</td>\n      <td>0.0</td>\n      <td>0.0</td>\n      <td>0.0</td>\n      <td>0.0</td>\n    </tr>\n    <tr>\n      <th>2963</th>\n      <td>53</td>\n      <td>19</td>\n      <td>44</td>\n      <td>0</td>\n      <td>1.0</td>\n      <td>0.0</td>\n      <td>1.0</td>\n      <td>0.0</td>\n      <td>1.0</td>\n      <td>0.0</td>\n      <td>...</td>\n      <td>0.0</td>\n      <td>0.0</td>\n      <td>0.0</td>\n      <td>0.0</td>\n      <td>1.0</td>\n      <td>0.0</td>\n      <td>0.0</td>\n      <td>0.0</td>\n      <td>0.0</td>\n      <td>0.0</td>\n    </tr>\n    <tr>\n      <th>...</th>\n      <td>...</td>\n      <td>...</td>\n      <td>...</td>\n      <td>...</td>\n      <td>...</td>\n      <td>...</td>\n      <td>...</td>\n      <td>...</td>\n      <td>...</td>\n      <td>...</td>\n      <td>...</td>\n      <td>...</td>\n      <td>...</td>\n      <td>...</td>\n      <td>...</td>\n      <td>...</td>\n      <td>...</td>\n      <td>...</td>\n      <td>...</td>\n      <td>...</td>\n      <td>...</td>\n    </tr>\n    <tr>\n      <th>5734</th>\n      <td>22</td>\n      <td>19</td>\n      <td>25</td>\n      <td>0</td>\n      <td>1.0</td>\n      <td>0.0</td>\n      <td>1.0</td>\n      <td>0.0</td>\n      <td>0.0</td>\n      <td>0.0</td>\n      <td>...</td>\n      <td>0.0</td>\n      <td>0.0</td>\n      <td>1.0</td>\n      <td>0.0</td>\n      <td>0.0</td>\n      <td>0.0</td>\n      <td>1.0</td>\n      <td>0.0</td>\n      <td>0.0</td>\n      <td>0.0</td>\n    </tr>\n    <tr>\n      <th>5191</th>\n      <td>24</td>\n      <td>16</td>\n      <td>28</td>\n      <td>0</td>\n      <td>1.0</td>\n      <td>0.0</td>\n      <td>1.0</td>\n      <td>0.0</td>\n      <td>0.0</td>\n      <td>0.0</td>\n      <td>...</td>\n      <td>1.0</td>\n      <td>0.0</td>\n      <td>0.0</td>\n      <td>0.0</td>\n      <td>0.0</td>\n      <td>0.0</td>\n      <td>1.0</td>\n      <td>0.0</td>\n      <td>0.0</td>\n      <td>0.0</td>\n    </tr>\n    <tr>\n      <th>5390</th>\n      <td>35</td>\n      <td>16</td>\n      <td>40</td>\n      <td>0</td>\n      <td>1.0</td>\n      <td>0.0</td>\n      <td>0.0</td>\n      <td>1.0</td>\n      <td>0.0</td>\n      <td>0.0</td>\n      <td>...</td>\n      <td>0.0</td>\n      <td>0.0</td>\n      <td>0.0</td>\n      <td>0.0</td>\n      <td>0.0</td>\n      <td>0.0</td>\n      <td>1.0</td>\n      <td>0.0</td>\n      <td>0.0</td>\n      <td>0.0</td>\n    </tr>\n    <tr>\n      <th>860</th>\n      <td>23</td>\n      <td>20</td>\n      <td>40</td>\n      <td>0</td>\n      <td>1.0</td>\n      <td>0.0</td>\n      <td>0.0</td>\n      <td>1.0</td>\n      <td>0.0</td>\n      <td>0.0</td>\n      <td>...</td>\n      <td>0.0</td>\n      <td>0.0</td>\n      <td>1.0</td>\n      <td>0.0</td>\n      <td>0.0</td>\n      <td>0.0</td>\n      <td>1.0</td>\n      <td>0.0</td>\n      <td>0.0</td>\n      <td>0.0</td>\n    </tr>\n    <tr>\n      <th>7270</th>\n      <td>70</td>\n      <td>19</td>\n      <td>40</td>\n      <td>0</td>\n      <td>1.0</td>\n      <td>0.0</td>\n      <td>1.0</td>\n      <td>0.0</td>\n      <td>0.0</td>\n      <td>1.0</td>\n      <td>...</td>\n      <td>0.0</td>\n      <td>0.0</td>\n      <td>0.0</td>\n      <td>0.0</td>\n      <td>1.0</td>\n      <td>0.0</td>\n      <td>0.0</td>\n      <td>0.0</td>\n      <td>0.0</td>\n      <td>0.0</td>\n    </tr>\n  </tbody>\n</table>\n<p>7200 rows × 36 columns</p>\n</div>"
     },
     "execution_count": 68,
     "metadata": {},
     "output_type": "execute_result"
    }
   ],
   "source": [
    "X_train"
   ],
   "metadata": {
    "collapsed": false,
    "ExecuteTime": {
     "end_time": "2024-04-19T02:25:22.557443600Z",
     "start_time": "2024-04-19T02:25:22.522946Z"
    }
   },
   "id": "fe2ec2747880d68e",
   "execution_count": 68
  },
  {
   "cell_type": "markdown",
   "source": [
    "### Model"
   ],
   "metadata": {
    "collapsed": false
   },
   "id": "bfc5f29026270e84"
  },
  {
   "cell_type": "code",
   "outputs": [
    {
     "data": {
      "text/plain": "LogisticRegression(max_iter=2000)",
      "text/html": "<style>#sk-container-id-5 {\n  /* Definition of color scheme common for light and dark mode */\n  --sklearn-color-text: black;\n  --sklearn-color-line: gray;\n  /* Definition of color scheme for unfitted estimators */\n  --sklearn-color-unfitted-level-0: #fff5e6;\n  --sklearn-color-unfitted-level-1: #f6e4d2;\n  --sklearn-color-unfitted-level-2: #ffe0b3;\n  --sklearn-color-unfitted-level-3: chocolate;\n  /* Definition of color scheme for fitted estimators */\n  --sklearn-color-fitted-level-0: #f0f8ff;\n  --sklearn-color-fitted-level-1: #d4ebff;\n  --sklearn-color-fitted-level-2: #b3dbfd;\n  --sklearn-color-fitted-level-3: cornflowerblue;\n\n  /* Specific color for light theme */\n  --sklearn-color-text-on-default-background: var(--sg-text-color, var(--theme-code-foreground, var(--jp-content-font-color1, black)));\n  --sklearn-color-background: var(--sg-background-color, var(--theme-background, var(--jp-layout-color0, white)));\n  --sklearn-color-border-box: var(--sg-text-color, var(--theme-code-foreground, var(--jp-content-font-color1, black)));\n  --sklearn-color-icon: #696969;\n\n  @media (prefers-color-scheme: dark) {\n    /* Redefinition of color scheme for dark theme */\n    --sklearn-color-text-on-default-background: var(--sg-text-color, var(--theme-code-foreground, var(--jp-content-font-color1, white)));\n    --sklearn-color-background: var(--sg-background-color, var(--theme-background, var(--jp-layout-color0, #111)));\n    --sklearn-color-border-box: var(--sg-text-color, var(--theme-code-foreground, var(--jp-content-font-color1, white)));\n    --sklearn-color-icon: #878787;\n  }\n}\n\n#sk-container-id-5 {\n  color: var(--sklearn-color-text);\n}\n\n#sk-container-id-5 pre {\n  padding: 0;\n}\n\n#sk-container-id-5 input.sk-hidden--visually {\n  border: 0;\n  clip: rect(1px 1px 1px 1px);\n  clip: rect(1px, 1px, 1px, 1px);\n  height: 1px;\n  margin: -1px;\n  overflow: hidden;\n  padding: 0;\n  position: absolute;\n  width: 1px;\n}\n\n#sk-container-id-5 div.sk-dashed-wrapped {\n  border: 1px dashed var(--sklearn-color-line);\n  margin: 0 0.4em 0.5em 0.4em;\n  box-sizing: border-box;\n  padding-bottom: 0.4em;\n  background-color: var(--sklearn-color-background);\n}\n\n#sk-container-id-5 div.sk-container {\n  /* jupyter's `normalize.less` sets `[hidden] { display: none; }`\n     but bootstrap.min.css set `[hidden] { display: none !important; }`\n     so we also need the `!important` here to be able to override the\n     default hidden behavior on the sphinx rendered scikit-learn.org.\n     See: https://github.com/scikit-learn/scikit-learn/issues/21755 */\n  display: inline-block !important;\n  position: relative;\n}\n\n#sk-container-id-5 div.sk-text-repr-fallback {\n  display: none;\n}\n\ndiv.sk-parallel-item,\ndiv.sk-serial,\ndiv.sk-item {\n  /* draw centered vertical line to link estimators */\n  background-image: linear-gradient(var(--sklearn-color-text-on-default-background), var(--sklearn-color-text-on-default-background));\n  background-size: 2px 100%;\n  background-repeat: no-repeat;\n  background-position: center center;\n}\n\n/* Parallel-specific style estimator block */\n\n#sk-container-id-5 div.sk-parallel-item::after {\n  content: \"\";\n  width: 100%;\n  border-bottom: 2px solid var(--sklearn-color-text-on-default-background);\n  flex-grow: 1;\n}\n\n#sk-container-id-5 div.sk-parallel {\n  display: flex;\n  align-items: stretch;\n  justify-content: center;\n  background-color: var(--sklearn-color-background);\n  position: relative;\n}\n\n#sk-container-id-5 div.sk-parallel-item {\n  display: flex;\n  flex-direction: column;\n}\n\n#sk-container-id-5 div.sk-parallel-item:first-child::after {\n  align-self: flex-end;\n  width: 50%;\n}\n\n#sk-container-id-5 div.sk-parallel-item:last-child::after {\n  align-self: flex-start;\n  width: 50%;\n}\n\n#sk-container-id-5 div.sk-parallel-item:only-child::after {\n  width: 0;\n}\n\n/* Serial-specific style estimator block */\n\n#sk-container-id-5 div.sk-serial {\n  display: flex;\n  flex-direction: column;\n  align-items: center;\n  background-color: var(--sklearn-color-background);\n  padding-right: 1em;\n  padding-left: 1em;\n}\n\n\n/* Toggleable style: style used for estimator/Pipeline/ColumnTransformer box that is\nclickable and can be expanded/collapsed.\n- Pipeline and ColumnTransformer use this feature and define the default style\n- Estimators will overwrite some part of the style using the `sk-estimator` class\n*/\n\n/* Pipeline and ColumnTransformer style (default) */\n\n#sk-container-id-5 div.sk-toggleable {\n  /* Default theme specific background. It is overwritten whether we have a\n  specific estimator or a Pipeline/ColumnTransformer */\n  background-color: var(--sklearn-color-background);\n}\n\n/* Toggleable label */\n#sk-container-id-5 label.sk-toggleable__label {\n  cursor: pointer;\n  display: block;\n  width: 100%;\n  margin-bottom: 0;\n  padding: 0.5em;\n  box-sizing: border-box;\n  text-align: center;\n}\n\n#sk-container-id-5 label.sk-toggleable__label-arrow:before {\n  /* Arrow on the left of the label */\n  content: \"▸\";\n  float: left;\n  margin-right: 0.25em;\n  color: var(--sklearn-color-icon);\n}\n\n#sk-container-id-5 label.sk-toggleable__label-arrow:hover:before {\n  color: var(--sklearn-color-text);\n}\n\n/* Toggleable content - dropdown */\n\n#sk-container-id-5 div.sk-toggleable__content {\n  max-height: 0;\n  max-width: 0;\n  overflow: hidden;\n  text-align: left;\n  /* unfitted */\n  background-color: var(--sklearn-color-unfitted-level-0);\n}\n\n#sk-container-id-5 div.sk-toggleable__content.fitted {\n  /* fitted */\n  background-color: var(--sklearn-color-fitted-level-0);\n}\n\n#sk-container-id-5 div.sk-toggleable__content pre {\n  margin: 0.2em;\n  border-radius: 0.25em;\n  color: var(--sklearn-color-text);\n  /* unfitted */\n  background-color: var(--sklearn-color-unfitted-level-0);\n}\n\n#sk-container-id-5 div.sk-toggleable__content.fitted pre {\n  /* unfitted */\n  background-color: var(--sklearn-color-fitted-level-0);\n}\n\n#sk-container-id-5 input.sk-toggleable__control:checked~div.sk-toggleable__content {\n  /* Expand drop-down */\n  max-height: 200px;\n  max-width: 100%;\n  overflow: auto;\n}\n\n#sk-container-id-5 input.sk-toggleable__control:checked~label.sk-toggleable__label-arrow:before {\n  content: \"▾\";\n}\n\n/* Pipeline/ColumnTransformer-specific style */\n\n#sk-container-id-5 div.sk-label input.sk-toggleable__control:checked~label.sk-toggleable__label {\n  color: var(--sklearn-color-text);\n  background-color: var(--sklearn-color-unfitted-level-2);\n}\n\n#sk-container-id-5 div.sk-label.fitted input.sk-toggleable__control:checked~label.sk-toggleable__label {\n  background-color: var(--sklearn-color-fitted-level-2);\n}\n\n/* Estimator-specific style */\n\n/* Colorize estimator box */\n#sk-container-id-5 div.sk-estimator input.sk-toggleable__control:checked~label.sk-toggleable__label {\n  /* unfitted */\n  background-color: var(--sklearn-color-unfitted-level-2);\n}\n\n#sk-container-id-5 div.sk-estimator.fitted input.sk-toggleable__control:checked~label.sk-toggleable__label {\n  /* fitted */\n  background-color: var(--sklearn-color-fitted-level-2);\n}\n\n#sk-container-id-5 div.sk-label label.sk-toggleable__label,\n#sk-container-id-5 div.sk-label label {\n  /* The background is the default theme color */\n  color: var(--sklearn-color-text-on-default-background);\n}\n\n/* On hover, darken the color of the background */\n#sk-container-id-5 div.sk-label:hover label.sk-toggleable__label {\n  color: var(--sklearn-color-text);\n  background-color: var(--sklearn-color-unfitted-level-2);\n}\n\n/* Label box, darken color on hover, fitted */\n#sk-container-id-5 div.sk-label.fitted:hover label.sk-toggleable__label.fitted {\n  color: var(--sklearn-color-text);\n  background-color: var(--sklearn-color-fitted-level-2);\n}\n\n/* Estimator label */\n\n#sk-container-id-5 div.sk-label label {\n  font-family: monospace;\n  font-weight: bold;\n  display: inline-block;\n  line-height: 1.2em;\n}\n\n#sk-container-id-5 div.sk-label-container {\n  text-align: center;\n}\n\n/* Estimator-specific */\n#sk-container-id-5 div.sk-estimator {\n  font-family: monospace;\n  border: 1px dotted var(--sklearn-color-border-box);\n  border-radius: 0.25em;\n  box-sizing: border-box;\n  margin-bottom: 0.5em;\n  /* unfitted */\n  background-color: var(--sklearn-color-unfitted-level-0);\n}\n\n#sk-container-id-5 div.sk-estimator.fitted {\n  /* fitted */\n  background-color: var(--sklearn-color-fitted-level-0);\n}\n\n/* on hover */\n#sk-container-id-5 div.sk-estimator:hover {\n  /* unfitted */\n  background-color: var(--sklearn-color-unfitted-level-2);\n}\n\n#sk-container-id-5 div.sk-estimator.fitted:hover {\n  /* fitted */\n  background-color: var(--sklearn-color-fitted-level-2);\n}\n\n/* Specification for estimator info (e.g. \"i\" and \"?\") */\n\n/* Common style for \"i\" and \"?\" */\n\n.sk-estimator-doc-link,\na:link.sk-estimator-doc-link,\na:visited.sk-estimator-doc-link {\n  float: right;\n  font-size: smaller;\n  line-height: 1em;\n  font-family: monospace;\n  background-color: var(--sklearn-color-background);\n  border-radius: 1em;\n  height: 1em;\n  width: 1em;\n  text-decoration: none !important;\n  margin-left: 1ex;\n  /* unfitted */\n  border: var(--sklearn-color-unfitted-level-1) 1pt solid;\n  color: var(--sklearn-color-unfitted-level-1);\n}\n\n.sk-estimator-doc-link.fitted,\na:link.sk-estimator-doc-link.fitted,\na:visited.sk-estimator-doc-link.fitted {\n  /* fitted */\n  border: var(--sklearn-color-fitted-level-1) 1pt solid;\n  color: var(--sklearn-color-fitted-level-1);\n}\n\n/* On hover */\ndiv.sk-estimator:hover .sk-estimator-doc-link:hover,\n.sk-estimator-doc-link:hover,\ndiv.sk-label-container:hover .sk-estimator-doc-link:hover,\n.sk-estimator-doc-link:hover {\n  /* unfitted */\n  background-color: var(--sklearn-color-unfitted-level-3);\n  color: var(--sklearn-color-background);\n  text-decoration: none;\n}\n\ndiv.sk-estimator.fitted:hover .sk-estimator-doc-link.fitted:hover,\n.sk-estimator-doc-link.fitted:hover,\ndiv.sk-label-container:hover .sk-estimator-doc-link.fitted:hover,\n.sk-estimator-doc-link.fitted:hover {\n  /* fitted */\n  background-color: var(--sklearn-color-fitted-level-3);\n  color: var(--sklearn-color-background);\n  text-decoration: none;\n}\n\n/* Span, style for the box shown on hovering the info icon */\n.sk-estimator-doc-link span {\n  display: none;\n  z-index: 9999;\n  position: relative;\n  font-weight: normal;\n  right: .2ex;\n  padding: .5ex;\n  margin: .5ex;\n  width: min-content;\n  min-width: 20ex;\n  max-width: 50ex;\n  color: var(--sklearn-color-text);\n  box-shadow: 2pt 2pt 4pt #999;\n  /* unfitted */\n  background: var(--sklearn-color-unfitted-level-0);\n  border: .5pt solid var(--sklearn-color-unfitted-level-3);\n}\n\n.sk-estimator-doc-link.fitted span {\n  /* fitted */\n  background: var(--sklearn-color-fitted-level-0);\n  border: var(--sklearn-color-fitted-level-3);\n}\n\n.sk-estimator-doc-link:hover span {\n  display: block;\n}\n\n/* \"?\"-specific style due to the `<a>` HTML tag */\n\n#sk-container-id-5 a.estimator_doc_link {\n  float: right;\n  font-size: 1rem;\n  line-height: 1em;\n  font-family: monospace;\n  background-color: var(--sklearn-color-background);\n  border-radius: 1rem;\n  height: 1rem;\n  width: 1rem;\n  text-decoration: none;\n  /* unfitted */\n  color: var(--sklearn-color-unfitted-level-1);\n  border: var(--sklearn-color-unfitted-level-1) 1pt solid;\n}\n\n#sk-container-id-5 a.estimator_doc_link.fitted {\n  /* fitted */\n  border: var(--sklearn-color-fitted-level-1) 1pt solid;\n  color: var(--sklearn-color-fitted-level-1);\n}\n\n/* On hover */\n#sk-container-id-5 a.estimator_doc_link:hover {\n  /* unfitted */\n  background-color: var(--sklearn-color-unfitted-level-3);\n  color: var(--sklearn-color-background);\n  text-decoration: none;\n}\n\n#sk-container-id-5 a.estimator_doc_link.fitted:hover {\n  /* fitted */\n  background-color: var(--sklearn-color-fitted-level-3);\n}\n</style><div id=\"sk-container-id-5\" class=\"sk-top-container\"><div class=\"sk-text-repr-fallback\"><pre>LogisticRegression(max_iter=2000)</pre><b>In a Jupyter environment, please rerun this cell to show the HTML representation or trust the notebook. <br />On GitHub, the HTML representation is unable to render, please try loading this page with nbviewer.org.</b></div><div class=\"sk-container\" hidden><div class=\"sk-item\"><div class=\"sk-estimator fitted sk-toggleable\"><input class=\"sk-toggleable__control sk-hidden--visually\" id=\"sk-estimator-id-5\" type=\"checkbox\" checked><label for=\"sk-estimator-id-5\" class=\"sk-toggleable__label fitted sk-toggleable__label-arrow fitted\">&nbsp;&nbsp;LogisticRegression<a class=\"sk-estimator-doc-link fitted\" rel=\"noreferrer\" target=\"_blank\" href=\"https://scikit-learn.org/1.4/modules/generated/sklearn.linear_model.LogisticRegression.html\">?<span>Documentation for LogisticRegression</span></a><span class=\"sk-estimator-doc-link fitted\">i<span>Fitted</span></span></label><div class=\"sk-toggleable__content fitted\"><pre>LogisticRegression(max_iter=2000)</pre></div> </div></div></div></div>"
     },
     "execution_count": 69,
     "metadata": {},
     "output_type": "execute_result"
    }
   ],
   "source": [
    "# Logistic Regression model\n",
    "lr_model = LogisticRegression(max_iter=2000)\n",
    "lr_model.fit(X_train, y_train)"
   ],
   "metadata": {
    "collapsed": false,
    "ExecuteTime": {
     "end_time": "2024-04-19T02:25:24.561266600Z",
     "start_time": "2024-04-19T02:25:22.553454300Z"
    }
   },
   "id": "d8aefdb257fc1a27",
   "execution_count": 69
  },
  {
   "cell_type": "code",
   "outputs": [
    {
     "name": "stdout",
     "output_type": "stream",
     "text": [
      "              precision    recall  f1-score   support\n",
      "\n",
      "           0       0.82      0.87      0.84      1175\n",
      "           1       0.72      0.64      0.68       625\n",
      "\n",
      "    accuracy                           0.79      1800\n",
      "   macro avg       0.77      0.76      0.76      1800\n",
      "weighted avg       0.79      0.79      0.79      1800\n",
      "\n",
      "Logistic Regression Accuracy: 0.7911111111111111\n"
     ]
    }
   ],
   "source": [
    "# Predictions\n",
    "lr_preds = lr_model.predict(X_test)\n",
    "# Accuracy evaluation\n",
    "lr_accuracy = accuracy_score(y_test, lr_preds)\n",
    "\n",
    "print(classification_report(y_test, lr_preds))\n",
    "print(\"Logistic Regression Accuracy:\", lr_accuracy)"
   ],
   "metadata": {
    "collapsed": false,
    "ExecuteTime": {
     "end_time": "2024-04-19T02:25:24.592184400Z",
     "start_time": "2024-04-19T02:25:24.552779100Z"
    }
   },
   "id": "755b22d9e1afea95",
   "execution_count": 70
  },
  {
   "cell_type": "markdown",
   "source": [
    "### Feature Importance using the model itself"
   ],
   "metadata": {
    "collapsed": false
   },
   "id": "983f611fc0f04be0"
  },
  {
   "cell_type": "code",
   "outputs": [],
   "source": [
    "# Get the coefficients of the logistic regression model\n",
    "feature_importance_scores = lr_model.coef_[0]\n",
    "\n",
    "# Create a DataFrame to store the feature importance scores\n",
    "feature_importance_df = pd.DataFrame({\n",
    "    'Feature': X_train.columns,\n",
    "    'Coefficient': feature_importance_scores\n",
    "})\n",
    "\n",
    "# Sort the DataFrame by the absolute value of the coefficients\n",
    "feature_importance_df['Absolute_Coefficient'] = feature_importance_df['Coefficient'].abs()\n",
    "feature_importance_df = feature_importance_df.sort_values(by='Absolute_Coefficient', ascending=False).drop(columns='Absolute_Coefficient')"
   ],
   "metadata": {
    "collapsed": false,
    "ExecuteTime": {
     "end_time": "2024-04-19T02:25:24.636449800Z",
     "start_time": "2024-04-19T02:25:24.584206800Z"
    }
   },
   "id": "96ad3da456265eac",
   "execution_count": 71
  },
  {
   "cell_type": "code",
   "outputs": [
    {
     "data": {
      "text/plain": "                                         Feature  Coefficient\n28                occupation_Service/Hospitality    -1.540047\n27   occupation_Science, Engineering, Technology     1.224767\n17                 occupation_Finance/Accounting     0.971187\n19                     occupation_Legal Services     0.817000\n20                occupation_Management/Business     0.791085\n16         occupation_Farming, Fishing, Forestry    -0.641121\n32                  marital status_Never married    -0.612312\n9                         workclass_no paid work    -0.599867\n21                  occupation_Military Services     0.597584\n31                        marital status_Husband     0.582692\n22      occupation_Office/Administrative Support    -0.559547\n29                          occupation_Transport    -0.500805\n8                         workclass_governmental     0.490631\n12            occupation_Construction/Extraction    -0.490090\n34                        marital status_Widowed     0.445322\n14                          occupation_Education    -0.390122\n24                occupation_Protective Services    -0.346603\n25                 occupation_Repair/Maintenance     0.344244\n6                                     sex_Female    -0.311079\n7                                       sex_Male     0.310841\n13  occupation_Counseling/Mental Health Services    -0.308045\n33                      marital status_Separated    -0.266388\n18        occupation_Healthcare/Medical Services     0.260356\n23                occupation_Production/Assembly    -0.250292\n10                             workclass_private     0.221461\n1                                      education     0.212070\n15                      occupation_Entertainment     0.174260\n26                              occupation_Sales    -0.154051\n35                           marital status_Wife    -0.113904\n11                       workclass_self employed    -0.112463\n4                        gave birth this year_No    -0.092958\n5                       gave birth this year_Yes     0.092719\n2                                   workinghours     0.054351\n3                       ability to speak english    -0.052754\n0                                            age     0.039502\n30                       marital status_Divorced    -0.035648",
      "text/html": "<div>\n<style scoped>\n    .dataframe tbody tr th:only-of-type {\n        vertical-align: middle;\n    }\n\n    .dataframe tbody tr th {\n        vertical-align: top;\n    }\n\n    .dataframe thead th {\n        text-align: right;\n    }\n</style>\n<table border=\"1\" class=\"dataframe\">\n  <thead>\n    <tr style=\"text-align: right;\">\n      <th></th>\n      <th>Feature</th>\n      <th>Coefficient</th>\n    </tr>\n  </thead>\n  <tbody>\n    <tr>\n      <th>28</th>\n      <td>occupation_Service/Hospitality</td>\n      <td>-1.540047</td>\n    </tr>\n    <tr>\n      <th>27</th>\n      <td>occupation_Science, Engineering, Technology</td>\n      <td>1.224767</td>\n    </tr>\n    <tr>\n      <th>17</th>\n      <td>occupation_Finance/Accounting</td>\n      <td>0.971187</td>\n    </tr>\n    <tr>\n      <th>19</th>\n      <td>occupation_Legal Services</td>\n      <td>0.817000</td>\n    </tr>\n    <tr>\n      <th>20</th>\n      <td>occupation_Management/Business</td>\n      <td>0.791085</td>\n    </tr>\n    <tr>\n      <th>16</th>\n      <td>occupation_Farming, Fishing, Forestry</td>\n      <td>-0.641121</td>\n    </tr>\n    <tr>\n      <th>32</th>\n      <td>marital status_Never married</td>\n      <td>-0.612312</td>\n    </tr>\n    <tr>\n      <th>9</th>\n      <td>workclass_no paid work</td>\n      <td>-0.599867</td>\n    </tr>\n    <tr>\n      <th>21</th>\n      <td>occupation_Military Services</td>\n      <td>0.597584</td>\n    </tr>\n    <tr>\n      <th>31</th>\n      <td>marital status_Husband</td>\n      <td>0.582692</td>\n    </tr>\n    <tr>\n      <th>22</th>\n      <td>occupation_Office/Administrative Support</td>\n      <td>-0.559547</td>\n    </tr>\n    <tr>\n      <th>29</th>\n      <td>occupation_Transport</td>\n      <td>-0.500805</td>\n    </tr>\n    <tr>\n      <th>8</th>\n      <td>workclass_governmental</td>\n      <td>0.490631</td>\n    </tr>\n    <tr>\n      <th>12</th>\n      <td>occupation_Construction/Extraction</td>\n      <td>-0.490090</td>\n    </tr>\n    <tr>\n      <th>34</th>\n      <td>marital status_Widowed</td>\n      <td>0.445322</td>\n    </tr>\n    <tr>\n      <th>14</th>\n      <td>occupation_Education</td>\n      <td>-0.390122</td>\n    </tr>\n    <tr>\n      <th>24</th>\n      <td>occupation_Protective Services</td>\n      <td>-0.346603</td>\n    </tr>\n    <tr>\n      <th>25</th>\n      <td>occupation_Repair/Maintenance</td>\n      <td>0.344244</td>\n    </tr>\n    <tr>\n      <th>6</th>\n      <td>sex_Female</td>\n      <td>-0.311079</td>\n    </tr>\n    <tr>\n      <th>7</th>\n      <td>sex_Male</td>\n      <td>0.310841</td>\n    </tr>\n    <tr>\n      <th>13</th>\n      <td>occupation_Counseling/Mental Health Services</td>\n      <td>-0.308045</td>\n    </tr>\n    <tr>\n      <th>33</th>\n      <td>marital status_Separated</td>\n      <td>-0.266388</td>\n    </tr>\n    <tr>\n      <th>18</th>\n      <td>occupation_Healthcare/Medical Services</td>\n      <td>0.260356</td>\n    </tr>\n    <tr>\n      <th>23</th>\n      <td>occupation_Production/Assembly</td>\n      <td>-0.250292</td>\n    </tr>\n    <tr>\n      <th>10</th>\n      <td>workclass_private</td>\n      <td>0.221461</td>\n    </tr>\n    <tr>\n      <th>1</th>\n      <td>education</td>\n      <td>0.212070</td>\n    </tr>\n    <tr>\n      <th>15</th>\n      <td>occupation_Entertainment</td>\n      <td>0.174260</td>\n    </tr>\n    <tr>\n      <th>26</th>\n      <td>occupation_Sales</td>\n      <td>-0.154051</td>\n    </tr>\n    <tr>\n      <th>35</th>\n      <td>marital status_Wife</td>\n      <td>-0.113904</td>\n    </tr>\n    <tr>\n      <th>11</th>\n      <td>workclass_self employed</td>\n      <td>-0.112463</td>\n    </tr>\n    <tr>\n      <th>4</th>\n      <td>gave birth this year_No</td>\n      <td>-0.092958</td>\n    </tr>\n    <tr>\n      <th>5</th>\n      <td>gave birth this year_Yes</td>\n      <td>0.092719</td>\n    </tr>\n    <tr>\n      <th>2</th>\n      <td>workinghours</td>\n      <td>0.054351</td>\n    </tr>\n    <tr>\n      <th>3</th>\n      <td>ability to speak english</td>\n      <td>-0.052754</td>\n    </tr>\n    <tr>\n      <th>0</th>\n      <td>age</td>\n      <td>0.039502</td>\n    </tr>\n    <tr>\n      <th>30</th>\n      <td>marital status_Divorced</td>\n      <td>-0.035648</td>\n    </tr>\n  </tbody>\n</table>\n</div>"
     },
     "execution_count": 72,
     "metadata": {},
     "output_type": "execute_result"
    }
   ],
   "source": [
    "feature_importance_df"
   ],
   "metadata": {
    "collapsed": false,
    "ExecuteTime": {
     "end_time": "2024-04-19T02:25:24.670378700Z",
     "start_time": "2024-04-19T02:25:24.620493Z"
    }
   },
   "id": "3df34a550d3f4bc4",
   "execution_count": 72
  },
  {
   "cell_type": "code",
   "outputs": [],
   "source": [
    "from sklearn.inspection import permutation_importance\n",
    "# https://stackoverflow.com/questions/34052115/how-to-find-the-importance-of-the-features-for-a-logistic-regression-model\n",
    "# https://scikit-learn.org/stable/modules/permutation_importance.html\n",
    "model_fi = permutation_importance(lr_model, X_encoded, y_encoded, n_repeats=30, random_state=0)"
   ],
   "metadata": {
    "collapsed": false,
    "ExecuteTime": {
     "end_time": "2024-04-19T02:25:30.026927400Z",
     "start_time": "2024-04-19T02:25:24.653424300Z"
    }
   },
   "id": "58fb0e0df0e080c9",
   "execution_count": 73
  },
  {
   "cell_type": "code",
   "outputs": [],
   "source": [
    "feature_importance_df = pd.DataFrame({\n",
    "    'Feature': X_train.columns,\n",
    "    'Coefficient': model_fi['importances_mean']\n",
    "})\n",
    "feature_importance_df = feature_importance_df.sort_values(by='Coefficient', ascending=False)"
   ],
   "metadata": {
    "collapsed": false,
    "ExecuteTime": {
     "end_time": "2024-04-19T02:25:30.028921800Z",
     "start_time": "2024-04-19T02:25:30.019785100Z"
    }
   },
   "id": "1f84433317c7f73c",
   "execution_count": 74
  },
  {
   "cell_type": "code",
   "outputs": [
    {
     "data": {
      "text/plain": "                                         Feature  Coefficient\n1                                      education     0.036122\n2                                   workinghours     0.035159\n0                                            age     0.027837\n28                occupation_Service/Hospitality     0.010415\n31                        marital status_Husband     0.007744\n27   occupation_Science, Engineering, Technology     0.007148\n20                occupation_Management/Business     0.006970\n32                  marital status_Never married     0.004722\n8                         workclass_governmental     0.003289\n29                          occupation_Transport     0.002159\n23                occupation_Production/Assembly     0.002067\n17                 occupation_Finance/Accounting     0.001815\n12            occupation_Construction/Extraction     0.001748\n10                             workclass_private     0.001633\n19                     occupation_Legal Services     0.001470\n22      occupation_Office/Administrative Support     0.001319\n6                                     sex_Female     0.000596\n7                                       sex_Male     0.000596\n11                       workclass_self employed     0.000589\n14                          occupation_Education     0.000526\n16         occupation_Farming, Fishing, Forestry     0.000478\n25                 occupation_Repair/Maintenance     0.000448\n15                      occupation_Entertainment     0.000248\n24                occupation_Protective Services     0.000248\n33                      marital status_Separated     0.000219\n5                       gave birth this year_Yes     0.000174\n4                        gave birth this year_No     0.000174\n18        occupation_Healthcare/Medical Services     0.000156\n13  occupation_Counseling/Mental Health Services     0.000096\n30                       marital status_Divorced     0.000096\n34                        marital status_Widowed     0.000041\n9                         workclass_no paid work     0.000019\n3                       ability to speak english    -0.000122\n21                  occupation_Military Services    -0.000126\n35                           marital status_Wife    -0.000144\n26                              occupation_Sales    -0.000385",
      "text/html": "<div>\n<style scoped>\n    .dataframe tbody tr th:only-of-type {\n        vertical-align: middle;\n    }\n\n    .dataframe tbody tr th {\n        vertical-align: top;\n    }\n\n    .dataframe thead th {\n        text-align: right;\n    }\n</style>\n<table border=\"1\" class=\"dataframe\">\n  <thead>\n    <tr style=\"text-align: right;\">\n      <th></th>\n      <th>Feature</th>\n      <th>Coefficient</th>\n    </tr>\n  </thead>\n  <tbody>\n    <tr>\n      <th>1</th>\n      <td>education</td>\n      <td>0.036122</td>\n    </tr>\n    <tr>\n      <th>2</th>\n      <td>workinghours</td>\n      <td>0.035159</td>\n    </tr>\n    <tr>\n      <th>0</th>\n      <td>age</td>\n      <td>0.027837</td>\n    </tr>\n    <tr>\n      <th>28</th>\n      <td>occupation_Service/Hospitality</td>\n      <td>0.010415</td>\n    </tr>\n    <tr>\n      <th>31</th>\n      <td>marital status_Husband</td>\n      <td>0.007744</td>\n    </tr>\n    <tr>\n      <th>27</th>\n      <td>occupation_Science, Engineering, Technology</td>\n      <td>0.007148</td>\n    </tr>\n    <tr>\n      <th>20</th>\n      <td>occupation_Management/Business</td>\n      <td>0.006970</td>\n    </tr>\n    <tr>\n      <th>32</th>\n      <td>marital status_Never married</td>\n      <td>0.004722</td>\n    </tr>\n    <tr>\n      <th>8</th>\n      <td>workclass_governmental</td>\n      <td>0.003289</td>\n    </tr>\n    <tr>\n      <th>29</th>\n      <td>occupation_Transport</td>\n      <td>0.002159</td>\n    </tr>\n    <tr>\n      <th>23</th>\n      <td>occupation_Production/Assembly</td>\n      <td>0.002067</td>\n    </tr>\n    <tr>\n      <th>17</th>\n      <td>occupation_Finance/Accounting</td>\n      <td>0.001815</td>\n    </tr>\n    <tr>\n      <th>12</th>\n      <td>occupation_Construction/Extraction</td>\n      <td>0.001748</td>\n    </tr>\n    <tr>\n      <th>10</th>\n      <td>workclass_private</td>\n      <td>0.001633</td>\n    </tr>\n    <tr>\n      <th>19</th>\n      <td>occupation_Legal Services</td>\n      <td>0.001470</td>\n    </tr>\n    <tr>\n      <th>22</th>\n      <td>occupation_Office/Administrative Support</td>\n      <td>0.001319</td>\n    </tr>\n    <tr>\n      <th>6</th>\n      <td>sex_Female</td>\n      <td>0.000596</td>\n    </tr>\n    <tr>\n      <th>7</th>\n      <td>sex_Male</td>\n      <td>0.000596</td>\n    </tr>\n    <tr>\n      <th>11</th>\n      <td>workclass_self employed</td>\n      <td>0.000589</td>\n    </tr>\n    <tr>\n      <th>14</th>\n      <td>occupation_Education</td>\n      <td>0.000526</td>\n    </tr>\n    <tr>\n      <th>16</th>\n      <td>occupation_Farming, Fishing, Forestry</td>\n      <td>0.000478</td>\n    </tr>\n    <tr>\n      <th>25</th>\n      <td>occupation_Repair/Maintenance</td>\n      <td>0.000448</td>\n    </tr>\n    <tr>\n      <th>15</th>\n      <td>occupation_Entertainment</td>\n      <td>0.000248</td>\n    </tr>\n    <tr>\n      <th>24</th>\n      <td>occupation_Protective Services</td>\n      <td>0.000248</td>\n    </tr>\n    <tr>\n      <th>33</th>\n      <td>marital status_Separated</td>\n      <td>0.000219</td>\n    </tr>\n    <tr>\n      <th>5</th>\n      <td>gave birth this year_Yes</td>\n      <td>0.000174</td>\n    </tr>\n    <tr>\n      <th>4</th>\n      <td>gave birth this year_No</td>\n      <td>0.000174</td>\n    </tr>\n    <tr>\n      <th>18</th>\n      <td>occupation_Healthcare/Medical Services</td>\n      <td>0.000156</td>\n    </tr>\n    <tr>\n      <th>13</th>\n      <td>occupation_Counseling/Mental Health Services</td>\n      <td>0.000096</td>\n    </tr>\n    <tr>\n      <th>30</th>\n      <td>marital status_Divorced</td>\n      <td>0.000096</td>\n    </tr>\n    <tr>\n      <th>34</th>\n      <td>marital status_Widowed</td>\n      <td>0.000041</td>\n    </tr>\n    <tr>\n      <th>9</th>\n      <td>workclass_no paid work</td>\n      <td>0.000019</td>\n    </tr>\n    <tr>\n      <th>3</th>\n      <td>ability to speak english</td>\n      <td>-0.000122</td>\n    </tr>\n    <tr>\n      <th>21</th>\n      <td>occupation_Military Services</td>\n      <td>-0.000126</td>\n    </tr>\n    <tr>\n      <th>35</th>\n      <td>marital status_Wife</td>\n      <td>-0.000144</td>\n    </tr>\n    <tr>\n      <th>26</th>\n      <td>occupation_Sales</td>\n      <td>-0.000385</td>\n    </tr>\n  </tbody>\n</table>\n</div>"
     },
     "execution_count": 75,
     "metadata": {},
     "output_type": "execute_result"
    }
   ],
   "source": [
    "feature_importance_df"
   ],
   "metadata": {
    "collapsed": false,
    "ExecuteTime": {
     "end_time": "2024-04-19T02:25:30.080804Z",
     "start_time": "2024-04-19T02:25:30.025929300Z"
    }
   },
   "id": "9ceffcc44abde12f",
   "execution_count": 75
  },
  {
   "cell_type": "markdown",
   "source": [
    "### Hyperparameter Tuning"
   ],
   "metadata": {
    "collapsed": false
   },
   "id": "89ee1aa06234190f"
  },
  {
   "cell_type": "code",
   "outputs": [
    {
     "name": "stdout",
     "output_type": "stream",
     "text": [
      "Fitting 5 folds for each of 16 candidates, totalling 80 fits\n",
      "[CV] END C=0.01, max_iter=5000, penalty=l2, random_state=42, solver=lbfgs; total time=   0.3s\n",
      "[CV] END C=0.01, max_iter=5000, penalty=l2, random_state=42, solver=lbfgs; total time=   0.3s\n",
      "[CV] END C=0.01, max_iter=5000, penalty=l2, random_state=42, solver=lbfgs; total time=   0.3s\n",
      "[CV] END C=0.01, max_iter=5000, penalty=l2, random_state=42, solver=lbfgs; total time=   0.3s\n",
      "[CV] END C=0.01, max_iter=5000, penalty=l2, random_state=42, solver=lbfgs; total time=   0.3s\n",
      "[CV] END C=0.01, max_iter=5000, penalty=l2, random_state=42, solver=liblinear; total time=   0.0s\n",
      "[CV] END C=0.01, max_iter=5000, penalty=l2, random_state=42, solver=liblinear; total time=   0.0s\n",
      "[CV] END C=0.01, max_iter=5000, penalty=l2, random_state=42, solver=liblinear; total time=   0.0s\n",
      "[CV] END C=0.01, max_iter=5000, penalty=l2, random_state=42, solver=liblinear; total time=   0.0s\n",
      "[CV] END C=0.01, max_iter=5000, penalty=l2, random_state=42, solver=liblinear; total time=   0.0s\n",
      "[CV] END C=0.01, max_iter=5000, penalty=l2, random_state=42, solver=newton-cg; total time=   0.2s\n",
      "[CV] END C=0.01, max_iter=5000, penalty=l2, random_state=42, solver=newton-cg; total time=   0.1s\n",
      "[CV] END C=0.01, max_iter=5000, penalty=l2, random_state=42, solver=newton-cg; total time=   0.1s\n",
      "[CV] END C=0.01, max_iter=5000, penalty=l2, random_state=42, solver=newton-cg; total time=   0.0s\n",
      "[CV] END C=0.01, max_iter=5000, penalty=l2, random_state=42, solver=newton-cg; total time=   0.0s\n",
      "[CV] END C=0.01, max_iter=5000, penalty=l2, random_state=42, solver=newton-cholesky; total time=   0.4s\n",
      "[CV] END C=0.01, max_iter=5000, penalty=l2, random_state=42, solver=newton-cholesky; total time=   0.0s\n",
      "[CV] END C=0.01, max_iter=5000, penalty=l2, random_state=42, solver=newton-cholesky; total time=   2.6s\n",
      "[CV] END C=0.01, max_iter=5000, penalty=l2, random_state=42, solver=newton-cholesky; total time=   0.1s\n",
      "[CV] END C=0.01, max_iter=5000, penalty=l2, random_state=42, solver=newton-cholesky; total time=   0.8s\n",
      "[CV] END C=0.1, max_iter=5000, penalty=l2, random_state=42, solver=lbfgs; total time=   0.6s\n",
      "[CV] END C=0.1, max_iter=5000, penalty=l2, random_state=42, solver=lbfgs; total time=   0.7s\n",
      "[CV] END C=0.1, max_iter=5000, penalty=l2, random_state=42, solver=lbfgs; total time=   0.7s\n",
      "[CV] END C=0.1, max_iter=5000, penalty=l2, random_state=42, solver=lbfgs; total time=   0.7s\n",
      "[CV] END C=0.1, max_iter=5000, penalty=l2, random_state=42, solver=lbfgs; total time=   0.6s\n",
      "[CV] END C=0.1, max_iter=5000, penalty=l2, random_state=42, solver=liblinear; total time=   0.0s\n",
      "[CV] END C=0.1, max_iter=5000, penalty=l2, random_state=42, solver=liblinear; total time=   0.0s\n",
      "[CV] END C=0.1, max_iter=5000, penalty=l2, random_state=42, solver=liblinear; total time=   0.0s\n",
      "[CV] END C=0.1, max_iter=5000, penalty=l2, random_state=42, solver=liblinear; total time=   0.0s\n",
      "[CV] END C=0.1, max_iter=5000, penalty=l2, random_state=42, solver=liblinear; total time=   0.0s\n",
      "[CV] END C=0.1, max_iter=5000, penalty=l2, random_state=42, solver=newton-cg; total time=   0.1s\n",
      "[CV] END C=0.1, max_iter=5000, penalty=l2, random_state=42, solver=newton-cg; total time=   0.1s\n",
      "[CV] END C=0.1, max_iter=5000, penalty=l2, random_state=42, solver=newton-cg; total time=   0.1s\n",
      "[CV] END C=0.1, max_iter=5000, penalty=l2, random_state=42, solver=newton-cg; total time=   0.1s\n",
      "[CV] END C=0.1, max_iter=5000, penalty=l2, random_state=42, solver=newton-cg; total time=   0.1s\n",
      "[CV] END C=0.1, max_iter=5000, penalty=l2, random_state=42, solver=newton-cholesky; total time=   2.8s\n",
      "[CV] END C=0.1, max_iter=5000, penalty=l2, random_state=42, solver=newton-cholesky; total time=   0.0s\n",
      "[CV] END C=0.1, max_iter=5000, penalty=l2, random_state=42, solver=newton-cholesky; total time=   0.0s\n",
      "[CV] END C=0.1, max_iter=5000, penalty=l2, random_state=42, solver=newton-cholesky; total time=   0.0s\n",
      "[CV] END C=0.1, max_iter=5000, penalty=l2, random_state=42, solver=newton-cholesky; total time=   0.0s\n",
      "[CV] END C=1, max_iter=5000, penalty=l2, random_state=42, solver=lbfgs; total time=   0.7s\n",
      "[CV] END C=1, max_iter=5000, penalty=l2, random_state=42, solver=lbfgs; total time=   0.7s\n",
      "[CV] END C=1, max_iter=5000, penalty=l2, random_state=42, solver=lbfgs; total time=   0.7s\n",
      "[CV] END C=1, max_iter=5000, penalty=l2, random_state=42, solver=lbfgs; total time=   0.7s\n",
      "[CV] END C=1, max_iter=5000, penalty=l2, random_state=42, solver=lbfgs; total time=   1.1s\n",
      "[CV] END C=1, max_iter=5000, penalty=l2, random_state=42, solver=liblinear; total time=   0.0s\n",
      "[CV] END C=1, max_iter=5000, penalty=l2, random_state=42, solver=liblinear; total time=   0.0s\n",
      "[CV] END C=1, max_iter=5000, penalty=l2, random_state=42, solver=liblinear; total time=   0.0s\n",
      "[CV] END C=1, max_iter=5000, penalty=l2, random_state=42, solver=liblinear; total time=   0.0s\n",
      "[CV] END C=1, max_iter=5000, penalty=l2, random_state=42, solver=liblinear; total time=   0.0s\n",
      "[CV] END C=1, max_iter=5000, penalty=l2, random_state=42, solver=newton-cg; total time=   0.0s\n",
      "[CV] END C=1, max_iter=5000, penalty=l2, random_state=42, solver=newton-cg; total time=   0.1s\n",
      "[CV] END C=1, max_iter=5000, penalty=l2, random_state=42, solver=newton-cg; total time=   0.1s\n",
      "[CV] END C=1, max_iter=5000, penalty=l2, random_state=42, solver=newton-cg; total time=   0.0s\n",
      "[CV] END C=1, max_iter=5000, penalty=l2, random_state=42, solver=newton-cg; total time=   0.1s\n",
      "[CV] END C=1, max_iter=5000, penalty=l2, random_state=42, solver=newton-cholesky; total time=   0.0s\n",
      "[CV] END C=1, max_iter=5000, penalty=l2, random_state=42, solver=newton-cholesky; total time=   0.0s\n",
      "[CV] END C=1, max_iter=5000, penalty=l2, random_state=42, solver=newton-cholesky; total time=   0.0s\n",
      "[CV] END C=1, max_iter=5000, penalty=l2, random_state=42, solver=newton-cholesky; total time=   1.1s\n",
      "[CV] END C=1, max_iter=5000, penalty=l2, random_state=42, solver=newton-cholesky; total time=   0.0s\n",
      "[CV] END C=10, max_iter=5000, penalty=l2, random_state=42, solver=lbfgs; total time=   0.4s\n",
      "[CV] END C=10, max_iter=5000, penalty=l2, random_state=42, solver=lbfgs; total time=   0.4s\n",
      "[CV] END C=10, max_iter=5000, penalty=l2, random_state=42, solver=lbfgs; total time=   0.5s\n",
      "[CV] END C=10, max_iter=5000, penalty=l2, random_state=42, solver=lbfgs; total time=   0.7s\n",
      "[CV] END C=10, max_iter=5000, penalty=l2, random_state=42, solver=lbfgs; total time=   0.6s\n",
      "[CV] END C=10, max_iter=5000, penalty=l2, random_state=42, solver=liblinear; total time=   0.0s\n",
      "[CV] END C=10, max_iter=5000, penalty=l2, random_state=42, solver=liblinear; total time=   0.0s\n",
      "[CV] END C=10, max_iter=5000, penalty=l2, random_state=42, solver=liblinear; total time=   0.0s\n",
      "[CV] END C=10, max_iter=5000, penalty=l2, random_state=42, solver=liblinear; total time=   0.0s\n",
      "[CV] END C=10, max_iter=5000, penalty=l2, random_state=42, solver=liblinear; total time=   0.0s\n",
      "[CV] END C=10, max_iter=5000, penalty=l2, random_state=42, solver=newton-cg; total time=   0.0s\n",
      "[CV] END C=10, max_iter=5000, penalty=l2, random_state=42, solver=newton-cg; total time=   0.0s\n",
      "[CV] END C=10, max_iter=5000, penalty=l2, random_state=42, solver=newton-cg; total time=   0.0s\n",
      "[CV] END C=10, max_iter=5000, penalty=l2, random_state=42, solver=newton-cg; total time=   0.1s\n",
      "[CV] END C=10, max_iter=5000, penalty=l2, random_state=42, solver=newton-cg; total time=   0.0s\n",
      "[CV] END C=10, max_iter=5000, penalty=l2, random_state=42, solver=newton-cholesky; total time=   0.7s\n",
      "[CV] END C=10, max_iter=5000, penalty=l2, random_state=42, solver=newton-cholesky; total time=   0.0s\n",
      "[CV] END C=10, max_iter=5000, penalty=l2, random_state=42, solver=newton-cholesky; total time=   0.0s\n",
      "[CV] END C=10, max_iter=5000, penalty=l2, random_state=42, solver=newton-cholesky; total time=   0.0s\n",
      "[CV] END C=10, max_iter=5000, penalty=l2, random_state=42, solver=newton-cholesky; total time=   0.0s\n",
      "\n",
      "Best Hyperparameters: {'C': 1, 'max_iter': 5000, 'penalty': 'l2', 'random_state': 42, 'solver': 'newton-cg'}\n",
      "Best Model: LogisticRegression(C=1, max_iter=5000, random_state=42, solver='newton-cg')\n",
      "Best Model Accuracy: 0.7911111111111111\n"
     ]
    }
   ],
   "source": [
    "param_grid = {\n",
    "    'penalty': ['l2'],\n",
    "    'C': [0.01, 0.1, 1, 10],\n",
    "    'solver': ['lbfgs', 'liblinear', 'newton-cg', 'newton-cholesky'],\n",
    "    'max_iter': [5000],\n",
    "    'random_state': [42]\n",
    "}\n",
    "\n",
    "best_params, best_model, best_accuracy = tune_model(LogisticRegression(), X_train, y_train, X_test, y_test, param_grid)\n",
    "\n",
    "print(\"\\nBest Hyperparameters:\", best_params)\n",
    "print(\"Best Model:\", best_model)\n",
    "print(\"Best Model Accuracy:\", best_accuracy)"
   ],
   "metadata": {
    "collapsed": false,
    "ExecuteTime": {
     "end_time": "2024-04-19T02:25:59.878007600Z",
     "start_time": "2024-04-19T02:25:30.047892500Z"
    }
   },
   "id": "d6cfd27be7bfa635",
   "execution_count": 76
  },
  {
   "cell_type": "code",
   "outputs": [],
   "source": [
    "# load the test dataset\n",
    "# test_data = load_dataset('../data/assignment2_test.xlsx')"
   ],
   "metadata": {
    "collapsed": false,
    "ExecuteTime": {
     "end_time": "2024-04-19T02:25:59.879005100Z",
     "start_time": "2024-04-19T02:25:59.871993900Z"
    }
   },
   "id": "6513bcc0a13f4fea",
   "execution_count": 77
  },
  {
   "cell_type": "code",
   "outputs": [],
   "source": [
    "# test_predictions = lr_model.predict(test_data)"
   ],
   "metadata": {
    "collapsed": false,
    "ExecuteTime": {
     "end_time": "2024-04-19T02:25:59.889734800Z",
     "start_time": "2024-04-19T02:25:59.878007600Z"
    }
   },
   "id": "9d1248ecc5789a2d",
   "execution_count": 78
  },
  {
   "cell_type": "code",
   "outputs": [],
   "source": [
    "# test_predictions"
   ],
   "metadata": {
    "collapsed": false,
    "ExecuteTime": {
     "end_time": "2024-04-19T02:25:59.902804800Z",
     "start_time": "2024-04-19T02:25:59.887740400Z"
    }
   },
   "id": "891a1fe179ada7c9",
   "execution_count": 79
  },
  {
   "cell_type": "markdown",
   "source": [
    "### Saving the model"
   ],
   "metadata": {
    "collapsed": false
   },
   "id": "906cea1b75eb9749"
  },
  {
   "cell_type": "code",
   "outputs": [],
   "source": [
    "save_model(lr_model, '../output/saved_models/logistic_regression_model.joblib')"
   ],
   "metadata": {
    "collapsed": false,
    "ExecuteTime": {
     "end_time": "2024-04-19T02:25:59.903801600Z",
     "start_time": "2024-04-19T02:25:59.896100400Z"
    }
   },
   "id": "770f806fc4c13d5e",
   "execution_count": 80
  }
 ],
 "metadata": {
  "kernelspec": {
   "display_name": "Python 3",
   "language": "python",
   "name": "python3"
  },
  "language_info": {
   "codemirror_mode": {
    "name": "ipython",
    "version": 2
   },
   "file_extension": ".py",
   "mimetype": "text/x-python",
   "name": "python",
   "nbconvert_exporter": "python",
   "pygments_lexer": "ipython2",
   "version": "2.7.6"
  }
 },
 "nbformat": 4,
 "nbformat_minor": 5
}
