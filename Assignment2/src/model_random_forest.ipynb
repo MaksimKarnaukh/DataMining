{
 "cells": [
  {
   "cell_type": "code",
   "execution_count": 1,
   "id": "initial_id",
   "metadata": {
    "collapsed": true,
    "ExecuteTime": {
     "end_time": "2024-04-30T18:29:14.111754200Z",
     "start_time": "2024-04-30T18:29:11.278199600Z"
    }
   },
   "outputs": [
    {
     "name": "stderr",
     "output_type": "stream",
     "text": [
      "WARNING:root:No module named 'tensorflow': AdversarialDebiasing will be unavailable. To install, run:\n",
      "pip install 'aif360[AdversarialDebiasing]'\n",
      "WARNING:root:No module named 'tensorflow': AdversarialDebiasing will be unavailable. To install, run:\n",
      "pip install 'aif360[AdversarialDebiasing]'\n",
      "WARNING:root:No module named 'fairlearn': ExponentiatedGradientReduction will be unavailable. To install, run:\n",
      "pip install 'aif360[Reductions]'\n",
      "WARNING:root:No module named 'fairlearn': GridSearchReduction will be unavailable. To install, run:\n",
      "pip install 'aif360[Reductions]'\n",
      "WARNING:root:No module named 'inFairness': SenSeI and SenSR will be unavailable. To install, run:\n",
      "pip install 'aif360[inFairness]'\n",
      "WARNING:root:No module named 'fairlearn': GridSearchReduction will be unavailable. To install, run:\n",
      "pip install 'aif360[Reductions]'\n",
      "WARNING:root:No module named 'ot': ot_distance will be unavailable. To install, run:\n",
      "pip install 'aif360[OptimalTransport]'\n"
     ]
    }
   ],
   "source": [
    "from typing import List, Tuple\n",
    "from helper.helper_functions import load_dataset, save_model, get_features_and_target, encode_all_features\n",
    "from helper.clfmodel_functions import tune_model, seq_feat_selection, multi_metric_cv, plot_multi_score_cv_results, forward_feat_selection_hypertuning\n",
    "import pandas as pd\n",
    "import seaborn as sns\n",
    "import matplotlib.pyplot as plt\n",
    "\n",
    "from sklearn.model_selection import train_test_split\n",
    "from sklearn.metrics import accuracy_score, classification_report\n",
    "\n",
    "from sklearn.ensemble import RandomForestClassifier\n",
    "from sklearn.ensemble import AdaBoostClassifier\n",
    "\n",
    "from helper.fairness_functions import split_male_female_metrics, statistical_measures, print_statistical_measures, get_male_female_data, get_male_female_test_data"
   ]
  },
  {
   "cell_type": "markdown",
   "source": [
    "### Loading the cleaned dataset"
   ],
   "metadata": {
    "collapsed": false
   },
   "id": "ced45577f2a46d2"
  },
  {
   "cell_type": "code",
   "outputs": [],
   "source": [
    "data = load_dataset('../data/assignment2_income_cleaned.xlsx')"
   ],
   "metadata": {
    "collapsed": false,
    "ExecuteTime": {
     "end_time": "2024-04-30T18:29:16.694322600Z",
     "start_time": "2024-04-30T18:29:14.110756800Z"
    }
   },
   "id": "573b15a0c08becd2",
   "execution_count": 2
  },
  {
   "cell_type": "markdown",
   "source": [
    "### Feature Engineering (encoding) & Train-Test Split"
   ],
   "metadata": {
    "collapsed": false
   },
   "id": "4d2f4fd682304c4c"
  },
  {
   "cell_type": "code",
   "outputs": [],
   "source": [
    "# Splitting the data into features (X) and target (y)\n",
    "X, y = get_features_and_target(data, 'income')\n",
    "# Encoding the features and target, and excluding some columns\n",
    "X_encoded, y_encoded = encode_all_features(X, y, [])\n",
    "X_train, X_test, y_train, y_test = train_test_split(X_encoded, y_encoded, test_size=0.2, random_state=42)"
   ],
   "metadata": {
    "collapsed": false,
    "ExecuteTime": {
     "end_time": "2024-04-30T18:29:16.740442100Z",
     "start_time": "2024-04-30T18:29:16.698312100Z"
    }
   },
   "id": "6aef9cfa1cf6ddd3",
   "execution_count": 3
  },
  {
   "cell_type": "markdown",
   "source": [
    "### Model\n",
    "\n",
    "Here, we quickly train and evaluate a Random Forest model with random parameters for demonstration."
   ],
   "metadata": {
    "collapsed": false
   },
   "id": "bfc5f29026270e84"
  },
  {
   "cell_type": "code",
   "outputs": [
    {
     "name": "stdout",
     "output_type": "stream",
     "text": [
      "              precision    recall  f1-score   support\n",
      "\n",
      "           0       0.81      0.83      0.82      1175\n",
      "           1       0.66      0.63      0.65       625\n",
      "\n",
      "    accuracy                           0.76      1800\n",
      "   macro avg       0.74      0.73      0.73      1800\n",
      "weighted avg       0.76      0.76      0.76      1800\n",
      "\n",
      "Decision Tree Accuracy: 0.7616666666666667\n"
     ]
    }
   ],
   "source": [
    "# Random Forest Classifier model\n",
    "rf_model = RandomForestClassifier(random_state=42)\n",
    "rf_model.fit(X_train, y_train)\n",
    "dt_preds = rf_model.predict(X_test)\n",
    "dt_accuracy = accuracy_score(y_test, dt_preds)\n",
    "\n",
    "print(classification_report(y_test, dt_preds))\n",
    "print(\"Decision Tree Accuracy:\", dt_accuracy)"
   ],
   "metadata": {
    "collapsed": false,
    "ExecuteTime": {
     "end_time": "2024-04-30T18:29:17.757412800Z",
     "start_time": "2024-04-30T18:29:16.730468800Z"
    }
   },
   "id": "755b22d9e1afea95",
   "execution_count": 4
  },
  {
   "cell_type": "markdown",
   "source": [
    "### Feature Importance using the model itself"
   ],
   "metadata": {
    "collapsed": false
   },
   "id": "80c8c2ebf3fe25a8"
  },
  {
   "cell_type": "code",
   "outputs": [],
   "source": [
    "# Extract feature importances\n",
    "feature_importances = rf_model.feature_importances_\n",
    "feature_importance_df = pd.DataFrame({\n",
    "    'Feature': X_train.columns,\n",
    "    'Importance': feature_importances\n",
    "})\n",
    "feature_importance_df = feature_importance_df.sort_values(by='Importance', ascending=False)"
   ],
   "metadata": {
    "collapsed": false,
    "ExecuteTime": {
     "end_time": "2024-04-30T18:29:17.792598600Z",
     "start_time": "2024-04-30T18:29:17.751428Z"
    }
   },
   "id": "1caff6200c3a0805",
   "execution_count": 5
  },
  {
   "cell_type": "code",
   "outputs": [
    {
     "data": {
      "text/plain": "                                         Feature  Importance\n0                                            age    0.306813\n1                                      education    0.174424\n2                                   workinghours    0.154209\n31                        marital status_Husband    0.056670\n32                  marital status_Never married    0.029318\n16                occupation_Management/Business    0.026655\n23   occupation_Science, Engineering, Technology    0.021451\n24                occupation_Service/Hospitality    0.019174\n4                                     sex_Female    0.014955\n5                                       sex_Male    0.014939\n28                             workclass_private    0.014826\n26                        workclass_governmental    0.012096\n3                       ability to speak english    0.011927\n22                              occupation_Sales    0.010717\n14        occupation_Healthcare/Medical Services    0.010371\n29                       workclass_self employed    0.010239\n18      occupation_Office/Administrative Support    0.010219\n19                occupation_Production/Assembly    0.009956\n8             occupation_Construction/Extraction    0.009655\n25                          occupation_Transport    0.009648\n30                       marital status_Divorced    0.009605\n21                 occupation_Repair/Maintenance    0.009403\n10                          occupation_Education    0.007359\n35                           marital status_Wife    0.007267\n13                 occupation_Finance/Accounting    0.006367\n9   occupation_Counseling/Mental Health Services    0.005303\n20                occupation_Protective Services    0.005217\n34                        marital status_Widowed    0.004425\n15                     occupation_Legal Services    0.004065\n33                      marital status_Separated    0.003131\n11                      occupation_Entertainment    0.002922\n12         occupation_Farming, Fishing, Forestry    0.002053\n17                  occupation_Military Services    0.001357\n7                       gave birth this year_Yes    0.001174\n6                        gave birth this year_No    0.001164\n27                        workclass_no paid work    0.000926",
      "text/html": "<div>\n<style scoped>\n    .dataframe tbody tr th:only-of-type {\n        vertical-align: middle;\n    }\n\n    .dataframe tbody tr th {\n        vertical-align: top;\n    }\n\n    .dataframe thead th {\n        text-align: right;\n    }\n</style>\n<table border=\"1\" class=\"dataframe\">\n  <thead>\n    <tr style=\"text-align: right;\">\n      <th></th>\n      <th>Feature</th>\n      <th>Importance</th>\n    </tr>\n  </thead>\n  <tbody>\n    <tr>\n      <th>0</th>\n      <td>age</td>\n      <td>0.306813</td>\n    </tr>\n    <tr>\n      <th>1</th>\n      <td>education</td>\n      <td>0.174424</td>\n    </tr>\n    <tr>\n      <th>2</th>\n      <td>workinghours</td>\n      <td>0.154209</td>\n    </tr>\n    <tr>\n      <th>31</th>\n      <td>marital status_Husband</td>\n      <td>0.056670</td>\n    </tr>\n    <tr>\n      <th>32</th>\n      <td>marital status_Never married</td>\n      <td>0.029318</td>\n    </tr>\n    <tr>\n      <th>16</th>\n      <td>occupation_Management/Business</td>\n      <td>0.026655</td>\n    </tr>\n    <tr>\n      <th>23</th>\n      <td>occupation_Science, Engineering, Technology</td>\n      <td>0.021451</td>\n    </tr>\n    <tr>\n      <th>24</th>\n      <td>occupation_Service/Hospitality</td>\n      <td>0.019174</td>\n    </tr>\n    <tr>\n      <th>4</th>\n      <td>sex_Female</td>\n      <td>0.014955</td>\n    </tr>\n    <tr>\n      <th>5</th>\n      <td>sex_Male</td>\n      <td>0.014939</td>\n    </tr>\n    <tr>\n      <th>28</th>\n      <td>workclass_private</td>\n      <td>0.014826</td>\n    </tr>\n    <tr>\n      <th>26</th>\n      <td>workclass_governmental</td>\n      <td>0.012096</td>\n    </tr>\n    <tr>\n      <th>3</th>\n      <td>ability to speak english</td>\n      <td>0.011927</td>\n    </tr>\n    <tr>\n      <th>22</th>\n      <td>occupation_Sales</td>\n      <td>0.010717</td>\n    </tr>\n    <tr>\n      <th>14</th>\n      <td>occupation_Healthcare/Medical Services</td>\n      <td>0.010371</td>\n    </tr>\n    <tr>\n      <th>29</th>\n      <td>workclass_self employed</td>\n      <td>0.010239</td>\n    </tr>\n    <tr>\n      <th>18</th>\n      <td>occupation_Office/Administrative Support</td>\n      <td>0.010219</td>\n    </tr>\n    <tr>\n      <th>19</th>\n      <td>occupation_Production/Assembly</td>\n      <td>0.009956</td>\n    </tr>\n    <tr>\n      <th>8</th>\n      <td>occupation_Construction/Extraction</td>\n      <td>0.009655</td>\n    </tr>\n    <tr>\n      <th>25</th>\n      <td>occupation_Transport</td>\n      <td>0.009648</td>\n    </tr>\n    <tr>\n      <th>30</th>\n      <td>marital status_Divorced</td>\n      <td>0.009605</td>\n    </tr>\n    <tr>\n      <th>21</th>\n      <td>occupation_Repair/Maintenance</td>\n      <td>0.009403</td>\n    </tr>\n    <tr>\n      <th>10</th>\n      <td>occupation_Education</td>\n      <td>0.007359</td>\n    </tr>\n    <tr>\n      <th>35</th>\n      <td>marital status_Wife</td>\n      <td>0.007267</td>\n    </tr>\n    <tr>\n      <th>13</th>\n      <td>occupation_Finance/Accounting</td>\n      <td>0.006367</td>\n    </tr>\n    <tr>\n      <th>9</th>\n      <td>occupation_Counseling/Mental Health Services</td>\n      <td>0.005303</td>\n    </tr>\n    <tr>\n      <th>20</th>\n      <td>occupation_Protective Services</td>\n      <td>0.005217</td>\n    </tr>\n    <tr>\n      <th>34</th>\n      <td>marital status_Widowed</td>\n      <td>0.004425</td>\n    </tr>\n    <tr>\n      <th>15</th>\n      <td>occupation_Legal Services</td>\n      <td>0.004065</td>\n    </tr>\n    <tr>\n      <th>33</th>\n      <td>marital status_Separated</td>\n      <td>0.003131</td>\n    </tr>\n    <tr>\n      <th>11</th>\n      <td>occupation_Entertainment</td>\n      <td>0.002922</td>\n    </tr>\n    <tr>\n      <th>12</th>\n      <td>occupation_Farming, Fishing, Forestry</td>\n      <td>0.002053</td>\n    </tr>\n    <tr>\n      <th>17</th>\n      <td>occupation_Military Services</td>\n      <td>0.001357</td>\n    </tr>\n    <tr>\n      <th>7</th>\n      <td>gave birth this year_Yes</td>\n      <td>0.001174</td>\n    </tr>\n    <tr>\n      <th>6</th>\n      <td>gave birth this year_No</td>\n      <td>0.001164</td>\n    </tr>\n    <tr>\n      <th>27</th>\n      <td>workclass_no paid work</td>\n      <td>0.000926</td>\n    </tr>\n  </tbody>\n</table>\n</div>"
     },
     "execution_count": 6,
     "metadata": {},
     "output_type": "execute_result"
    }
   ],
   "source": [
    "feature_importance_df"
   ],
   "metadata": {
    "collapsed": false,
    "ExecuteTime": {
     "end_time": "2024-04-30T18:29:17.818121100Z",
     "start_time": "2024-04-30T18:29:17.777129700Z"
    }
   },
   "id": "a00036dc0784a239",
   "execution_count": 6
  },
  {
   "cell_type": "markdown",
   "source": [
    "### Hyperparameter tuning"
   ],
   "metadata": {
    "collapsed": false
   },
   "id": "3a2dc56e20a45256"
  },
  {
   "cell_type": "markdown",
   "source": [
    "Here, we define the base parameter grid for our hyperparameter tuning function."
   ],
   "metadata": {
    "collapsed": false
   },
   "id": "b741e43c3d433553"
  },
  {
   "cell_type": "code",
   "outputs": [],
   "source": [
    "param_grid = {\n",
    "    'n_estimators': [100, 200, 300, 400, 500],\n",
    "    'max_depth': [10, 20, 30, 40, 50],\n",
    "    'min_samples_split': [2, 5, 10],\n",
    "    'min_samples_leaf': [1, 2, 4],\n",
    "    'bootstrap': [True, False],\n",
    "    'criterion': ['gini', 'entropy', 'log_loss'],\n",
    "    'random_state': [42]\n",
    "}"
   ],
   "metadata": {
    "collapsed": false,
    "ExecuteTime": {
     "end_time": "2024-04-30T18:29:17.853536400Z",
     "start_time": "2024-04-30T18:29:17.797583200Z"
    }
   },
   "id": "c29e653b05e109c8",
   "execution_count": 7
  },
  {
   "cell_type": "markdown",
   "source": [
    "Below, we tune the hyperparameters of the Random Forest model using the defined parameter grid and using all features."
   ],
   "metadata": {
    "collapsed": false
   },
   "id": "3f2cd85f21ea6108"
  },
  {
   "cell_type": "code",
   "outputs": [
    {
     "name": "stdout",
     "output_type": "stream",
     "text": [
      "Fitting 5 folds for each of 1350 candidates, totalling 6750 fits\n"
     ]
    },
    {
     "name": "stderr",
     "output_type": "stream",
     "text": [
      "\n",
      "KeyboardInterrupt\n",
      "\n"
     ]
    }
   ],
   "source": [
    "best_params, best_model, best_accuracy = tune_model(RandomForestClassifier(), X_train, y_train, X_test, y_test, param_grid)\n",
    "\n",
    "print(\"\\nBest Hyperparameters:\", best_params)\n",
    "print(\"Best Model:\", best_model)\n",
    "print(\"Best Model Accuracy:\", best_accuracy)"
   ],
   "metadata": {
    "collapsed": false,
    "ExecuteTime": {
     "end_time": "2024-04-30T19:56:59.896073900Z",
     "start_time": "2024-04-30T18:29:17.812137100Z"
    }
   },
   "id": "b58b63df3b376fb3",
   "execution_count": 8
  },
  {
   "cell_type": "markdown",
   "source": [
    "Below, we tune the hyperparameters of the Random Forest model using the defined parameter grid and using a **subset of features**. We exclude the columns 'age', 'ability to speak english', and 'workclass'."
   ],
   "metadata": {
    "collapsed": false
   },
   "id": "39b916338a8ee5ad"
  },
  {
   "cell_type": "code",
   "outputs": [],
   "source": [
    "if False:\n",
    "    # Splitting the data into features (X) and target (y)\n",
    "    X_, y_ = get_features_and_target(data, 'income')\n",
    "    columns_to_exclude = ['age', 'ability to speak english', 'workclass']\n",
    "    X_ = X_.drop(columns=columns_to_exclude)\n",
    "    # Encoding the features and target, and excluding some columns\n",
    "    X_encoded_, y_encoded_ = encode_all_features(X_, y_, columns_to_exclude)\n",
    "    X_train_, X_test_, y_train_, y_test_ = train_test_split(X_encoded_, y_encoded_, test_size=0.2, random_state=42)\n",
    "    \n",
    "    best_params, best_model, best_accuracy = tune_model(RandomForestClassifier(), X_train_, y_train_, X_test_, y_test_, param_grid)\n",
    "    \n",
    "    print(\"\\nBest Hyperparameters:\", best_params)\n",
    "    print(\"Best Model:\", best_model)\n",
    "    print(\"Best Model Accuracy:\", best_accuracy)"
   ],
   "metadata": {
    "collapsed": false,
    "ExecuteTime": {
     "end_time": "2024-04-30T19:56:59.904052700Z",
     "start_time": "2024-04-30T19:56:59.897071800Z"
    }
   },
   "id": "a059b0e8a56a5377"
  },
  {
   "cell_type": "code",
   "outputs": [],
   "source": [
    "# Forward feature selection with hyperparameter tuning\n",
    "if False:\n",
    "    best_subset, best_params, best_score = forward_feat_selection_hypertuning(RandomForestClassifier(), param_grid, X_train, y_train, X_test, y_test)\n",
    "    \n",
    "    print(\"Best subset of features:\", best_subset)\n",
    "    print(\"Best hyperparameters:\", best_params)\n",
    "    print(\"Best model accuracy:\", best_score)\n",
    "    \n",
    "    # Use the best subset and best hyperparameters for final model\n",
    "    final_model = RandomForestClassifier(**best_params)\n",
    "    final_model.fit(X_train[best_subset], y_train)\n",
    "    final_model_preds = final_model.predict(X_test[best_subset])\n",
    "    final_model_accuracy = accuracy_score(y_test, final_model_preds)\n",
    "    \n",
    "    print(classification_report(y_test, final_model_preds))"
   ],
   "metadata": {
    "collapsed": false,
    "ExecuteTime": {
     "start_time": "2024-04-30T19:56:59.901060700Z"
    }
   },
   "id": "c842c9cbe877c308"
  },
  {
   "cell_type": "code",
   "outputs": [],
   "source": [
    "# Define the parameter grid for AdaBoost\n",
    "param_grid = {\n",
    "    'algorithm': ['SAMME', 'SAMME.R'],\n",
    "    'n_estimators': [50, 75, 100, 150],\n",
    "    'learning_rate': [0.1, 0.5, 1.0],\n",
    "    'estimator': [RandomForestClassifier()],\n",
    "    'random_state': [42]\n",
    "}"
   ],
   "metadata": {
    "collapsed": false,
    "ExecuteTime": {
     "start_time": "2024-04-30T19:56:59.904052700Z"
    }
   },
   "id": "830c04e2c37c90f3"
  },
  {
   "cell_type": "code",
   "outputs": [],
   "source": [
    "if False:\n",
    "    best_params, best_model, best_accuracy = tune_model(AdaBoostClassifier(), X_train, y_train, X_test, y_test, param_grid)\n",
    "    \n",
    "    print(\"\\nBest Hyperparameters:\", best_params)\n",
    "    print(\"Best Model:\", best_model)\n",
    "    print(\"Best Model Accuracy:\", best_accuracy)"
   ],
   "metadata": {
    "collapsed": false,
    "ExecuteTime": {
     "start_time": "2024-04-30T19:56:59.906047600Z"
    }
   },
   "id": "56c2740bed70bf7d"
  },
  {
   "cell_type": "code",
   "outputs": [],
   "source": [
    "# Splitting the data into features (X) and target (y)\n",
    "X_, y_ = get_features_and_target(data, 'income')\n",
    "X_male, X_female = get_male_female_data(X_, False)\n",
    "columns_to_exclude = ['sex', 'gave birth this year', 'marital status']\n",
    "X__ = X_.drop(columns=columns_to_exclude)\n",
    "# Encoding the features and target, and excluding some columns\n",
    "X_encoded_, y_encoded_ = encode_all_features(X__, y_, columns_to_exclude)\n",
    "X_train_, X_test_, y_train_, y_test_ = train_test_split(X_encoded_, y_encoded_, test_size=0.2, random_state=42)\n",
    "\n",
    "X_male_test, y_male_test, X_female_test, y_female_test = get_male_female_test_data(X_male, X_female, X_test_, y_test_)\n",
    "\n",
    "best_params, best_model, best_accuracy = tune_model(AdaBoostClassifier(), X_train_, y_train_, X_test_, y_test_, param_grid)\n",
    "\n",
    "print(\"\\nBest Hyperparameters:\", best_params)\n",
    "print(\"Best Model:\", best_model)\n",
    "print(\"Best Model Accuracy:\", best_accuracy)"
   ],
   "metadata": {
    "collapsed": false,
    "ExecuteTime": {
     "end_time": "2024-04-30T19:56:59.916020500Z",
     "start_time": "2024-04-30T19:56:59.909039700Z"
    }
   },
   "id": "3ca3a4d9929f2568"
  },
  {
   "cell_type": "code",
   "outputs": [],
   "source": [
    "print_male_female_metrics(best_model, X_, X_male, X_female, X_test_, y_test_)"
   ],
   "metadata": {
    "collapsed": false,
    "ExecuteTime": {
     "start_time": "2024-04-30T19:56:59.911034200Z"
    }
   },
   "id": "c41c1d0337eb37c"
  },
  {
   "cell_type": "code",
   "outputs": [],
   "source": [
    "# save model\n",
    "save_model(rf_model, '../output/saved_models/random_forest_model.joblib')"
   ],
   "metadata": {
    "collapsed": false,
    "ExecuteTime": {
     "end_time": "2024-04-30T19:56:59.918015600Z",
     "start_time": "2024-04-30T19:56:59.916020500Z"
    }
   },
   "id": "9199821840b26f4e",
   "execution_count": null
  }
 ],
 "metadata": {
  "kernelspec": {
   "display_name": "Python 3",
   "language": "python",
   "name": "python3"
  },
  "language_info": {
   "codemirror_mode": {
    "name": "ipython",
    "version": 2
   },
   "file_extension": ".py",
   "mimetype": "text/x-python",
   "name": "python",
   "nbconvert_exporter": "python",
   "pygments_lexer": "ipython2",
   "version": "2.7.6"
  }
 },
 "nbformat": 4,
 "nbformat_minor": 5
}
