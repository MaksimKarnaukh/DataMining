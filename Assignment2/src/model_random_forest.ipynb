{
 "cells": [
  {
   "cell_type": "code",
   "execution_count": 1,
   "id": "initial_id",
   "metadata": {
    "collapsed": true,
    "ExecuteTime": {
     "end_time": "2024-04-30T04:09:55.620045800Z",
     "start_time": "2024-04-30T04:09:54.972877700Z"
    }
   },
   "outputs": [
    {
     "name": "stderr",
     "output_type": "stream",
     "text": [
      "WARNING:root:No module named 'tensorflow': AdversarialDebiasing will be unavailable. To install, run:\n",
      "pip install 'aif360[AdversarialDebiasing]'\n",
      "WARNING:root:No module named 'tensorflow': AdversarialDebiasing will be unavailable. To install, run:\n",
      "pip install 'aif360[AdversarialDebiasing]'\n",
      "WARNING:root:No module named 'fairlearn': ExponentiatedGradientReduction will be unavailable. To install, run:\n",
      "pip install 'aif360[Reductions]'\n",
      "WARNING:root:No module named 'fairlearn': GridSearchReduction will be unavailable. To install, run:\n",
      "pip install 'aif360[Reductions]'\n",
      "WARNING:root:No module named 'inFairness': SenSeI and SenSR will be unavailable. To install, run:\n",
      "pip install 'aif360[inFairness]'\n",
      "WARNING:root:No module named 'fairlearn': GridSearchReduction will be unavailable. To install, run:\n",
      "pip install 'aif360[Reductions]'\n",
      "WARNING:root:No module named 'ot': ot_distance will be unavailable. To install, run:\n",
      "pip install 'aif360[OptimalTransport]'\n"
     ]
    }
   ],
   "source": [
    "from typing import List, Tuple\n",
    "from helper.helper_functions import load_dataset, save_model, get_features_and_target, encode_all_features\n",
    "from helper.clfmodel_functions import tune_model, seq_feat_selection, multi_metric_cv, plot_multi_score_cv_results, forward_feat_selection_hypertuning\n",
    "import pandas as pd\n",
    "import seaborn as sns\n",
    "import matplotlib.pyplot as plt\n",
    "\n",
    "from sklearn.model_selection import train_test_split\n",
    "from sklearn.metrics import accuracy_score, classification_report\n",
    "\n",
    "from sklearn.ensemble import RandomForestClassifier\n",
    "from sklearn.ensemble import AdaBoostClassifier\n",
    "\n",
    "from helper.fairness_functions import split_male_female_metrics, statistical_measures, print_statistical_measures, get_male_female_data, get_male_female_test_data"
   ]
  },
  {
   "cell_type": "markdown",
   "source": [
    "### Loading the cleaned dataset"
   ],
   "metadata": {
    "collapsed": false
   },
   "id": "ced45577f2a46d2"
  },
  {
   "cell_type": "code",
   "outputs": [],
   "source": [
    "data = load_dataset('../data/assignment2_income_cleaned.xlsx')"
   ],
   "metadata": {
    "collapsed": false,
    "ExecuteTime": {
     "end_time": "2024-04-30T04:09:57.605067600Z",
     "start_time": "2024-04-30T04:09:55.622041400Z"
    }
   },
   "id": "573b15a0c08becd2",
   "execution_count": 2
  },
  {
   "cell_type": "markdown",
   "source": [
    "### Feature Engineering (encoding) & Train-Test Split"
   ],
   "metadata": {
    "collapsed": false
   },
   "id": "4d2f4fd682304c4c"
  },
  {
   "cell_type": "code",
   "outputs": [],
   "source": [
    "# Splitting the data into features (X) and target (y)\n",
    "X, y = get_features_and_target(data, 'income')\n",
    "# Encoding the features and target, and excluding some columns\n",
    "X_encoded, y_encoded = encode_all_features(X, y, [])\n",
    "X_train, X_test, y_train, y_test = train_test_split(X_encoded, y_encoded, test_size=0.2, random_state=42)"
   ],
   "metadata": {
    "collapsed": false,
    "ExecuteTime": {
     "end_time": "2024-04-30T04:09:57.643248100Z",
     "start_time": "2024-04-30T04:09:57.610054300Z"
    }
   },
   "id": "6aef9cfa1cf6ddd3",
   "execution_count": 3
  },
  {
   "cell_type": "markdown",
   "source": [
    "### Model\n",
    "\n",
    "Here, we quickly train and evaluate a Random Forest model with random parameters for demonstration."
   ],
   "metadata": {
    "collapsed": false
   },
   "id": "bfc5f29026270e84"
  },
  {
   "cell_type": "code",
   "outputs": [
    {
     "name": "stdout",
     "output_type": "stream",
     "text": [
      "              precision    recall  f1-score   support\n",
      "\n",
      "           0       0.81      0.83      0.82      1175\n",
      "           1       0.66      0.63      0.65       625\n",
      "\n",
      "    accuracy                           0.76      1800\n",
      "   macro avg       0.74      0.73      0.73      1800\n",
      "weighted avg       0.76      0.76      0.76      1800\n",
      "\n",
      "Decision Tree Accuracy: 0.7611111111111111\n"
     ]
    }
   ],
   "source": [
    "# Random Forest Classifier model\n",
    "rf_model = RandomForestClassifier(random_state=42)\n",
    "rf_model.fit(X_train, y_train)\n",
    "dt_preds = rf_model.predict(X_test)\n",
    "dt_accuracy = accuracy_score(y_test, dt_preds)\n",
    "\n",
    "print(classification_report(y_test, dt_preds))\n",
    "print(\"Decision Tree Accuracy:\", dt_accuracy)"
   ],
   "metadata": {
    "collapsed": false,
    "ExecuteTime": {
     "end_time": "2024-04-30T04:09:58.525743900Z",
     "start_time": "2024-04-30T04:09:57.632264900Z"
    }
   },
   "id": "755b22d9e1afea95",
   "execution_count": 4
  },
  {
   "cell_type": "markdown",
   "source": [
    "### Feature Importance using the model itself"
   ],
   "metadata": {
    "collapsed": false
   },
   "id": "80c8c2ebf3fe25a8"
  },
  {
   "cell_type": "code",
   "outputs": [],
   "source": [
    "# Extract feature importances\n",
    "feature_importances = rf_model.feature_importances_\n",
    "feature_importance_df = pd.DataFrame({\n",
    "    'Feature': X_train.columns,\n",
    "    'Importance': feature_importances\n",
    "})\n",
    "feature_importance_df = feature_importance_df.sort_values(by='Importance', ascending=False)"
   ],
   "metadata": {
    "collapsed": false,
    "ExecuteTime": {
     "end_time": "2024-04-30T04:09:58.536458100Z",
     "start_time": "2024-04-30T04:09:58.521733500Z"
    }
   },
   "id": "1caff6200c3a0805",
   "execution_count": 5
  },
  {
   "cell_type": "code",
   "outputs": [
    {
     "data": {
      "text/plain": "                                         Feature  Importance\n0                                            age    0.306186\n1                                      education    0.173713\n2                                   workinghours    0.154453\n9                         marital status_Husband    0.066525\n22                occupation_Management/Business    0.026475\n10                  marital status_Never married    0.025336\n29   occupation_Science, Engineering, Technology    0.021523\n30                occupation_Service/Hospitality    0.019419\n34                             workclass_private    0.014913\n5                                       sex_Male    0.014671\n32                        workclass_governmental    0.012438\n3                       ability to speak english    0.011826\n24      occupation_Office/Administrative Support    0.010721\n28                              occupation_Sales    0.010709\n35                       workclass_self employed    0.010452\n20        occupation_Healthcare/Medical Services    0.010180\n25                occupation_Production/Assembly    0.010142\n31                          occupation_Transport    0.009999\n4                                     sex_Female    0.009695\n14            occupation_Construction/Extraction    0.009669\n27                 occupation_Repair/Maintenance    0.009365\n8                        marital status_Divorced    0.009046\n13                           marital status_Wife    0.007889\n16                          occupation_Education    0.007514\n19                 occupation_Finance/Accounting    0.006210\n26                occupation_Protective Services    0.005274\n15  occupation_Counseling/Mental Health Services    0.005105\n12                        marital status_Widowed    0.004206\n21                     occupation_Legal Services    0.003924\n11                      marital status_Separated    0.003176\n17                      occupation_Entertainment    0.002775\n18         occupation_Farming, Fishing, Forestry    0.002090\n23                  occupation_Military Services    0.001261\n7                       gave birth this year_Yes    0.001167\n6                        gave birth this year_No    0.001141\n33                        workclass_no paid work    0.000815",
      "text/html": "<div>\n<style scoped>\n    .dataframe tbody tr th:only-of-type {\n        vertical-align: middle;\n    }\n\n    .dataframe tbody tr th {\n        vertical-align: top;\n    }\n\n    .dataframe thead th {\n        text-align: right;\n    }\n</style>\n<table border=\"1\" class=\"dataframe\">\n  <thead>\n    <tr style=\"text-align: right;\">\n      <th></th>\n      <th>Feature</th>\n      <th>Importance</th>\n    </tr>\n  </thead>\n  <tbody>\n    <tr>\n      <th>0</th>\n      <td>age</td>\n      <td>0.306186</td>\n    </tr>\n    <tr>\n      <th>1</th>\n      <td>education</td>\n      <td>0.173713</td>\n    </tr>\n    <tr>\n      <th>2</th>\n      <td>workinghours</td>\n      <td>0.154453</td>\n    </tr>\n    <tr>\n      <th>9</th>\n      <td>marital status_Husband</td>\n      <td>0.066525</td>\n    </tr>\n    <tr>\n      <th>22</th>\n      <td>occupation_Management/Business</td>\n      <td>0.026475</td>\n    </tr>\n    <tr>\n      <th>10</th>\n      <td>marital status_Never married</td>\n      <td>0.025336</td>\n    </tr>\n    <tr>\n      <th>29</th>\n      <td>occupation_Science, Engineering, Technology</td>\n      <td>0.021523</td>\n    </tr>\n    <tr>\n      <th>30</th>\n      <td>occupation_Service/Hospitality</td>\n      <td>0.019419</td>\n    </tr>\n    <tr>\n      <th>34</th>\n      <td>workclass_private</td>\n      <td>0.014913</td>\n    </tr>\n    <tr>\n      <th>5</th>\n      <td>sex_Male</td>\n      <td>0.014671</td>\n    </tr>\n    <tr>\n      <th>32</th>\n      <td>workclass_governmental</td>\n      <td>0.012438</td>\n    </tr>\n    <tr>\n      <th>3</th>\n      <td>ability to speak english</td>\n      <td>0.011826</td>\n    </tr>\n    <tr>\n      <th>24</th>\n      <td>occupation_Office/Administrative Support</td>\n      <td>0.010721</td>\n    </tr>\n    <tr>\n      <th>28</th>\n      <td>occupation_Sales</td>\n      <td>0.010709</td>\n    </tr>\n    <tr>\n      <th>35</th>\n      <td>workclass_self employed</td>\n      <td>0.010452</td>\n    </tr>\n    <tr>\n      <th>20</th>\n      <td>occupation_Healthcare/Medical Services</td>\n      <td>0.010180</td>\n    </tr>\n    <tr>\n      <th>25</th>\n      <td>occupation_Production/Assembly</td>\n      <td>0.010142</td>\n    </tr>\n    <tr>\n      <th>31</th>\n      <td>occupation_Transport</td>\n      <td>0.009999</td>\n    </tr>\n    <tr>\n      <th>4</th>\n      <td>sex_Female</td>\n      <td>0.009695</td>\n    </tr>\n    <tr>\n      <th>14</th>\n      <td>occupation_Construction/Extraction</td>\n      <td>0.009669</td>\n    </tr>\n    <tr>\n      <th>27</th>\n      <td>occupation_Repair/Maintenance</td>\n      <td>0.009365</td>\n    </tr>\n    <tr>\n      <th>8</th>\n      <td>marital status_Divorced</td>\n      <td>0.009046</td>\n    </tr>\n    <tr>\n      <th>13</th>\n      <td>marital status_Wife</td>\n      <td>0.007889</td>\n    </tr>\n    <tr>\n      <th>16</th>\n      <td>occupation_Education</td>\n      <td>0.007514</td>\n    </tr>\n    <tr>\n      <th>19</th>\n      <td>occupation_Finance/Accounting</td>\n      <td>0.006210</td>\n    </tr>\n    <tr>\n      <th>26</th>\n      <td>occupation_Protective Services</td>\n      <td>0.005274</td>\n    </tr>\n    <tr>\n      <th>15</th>\n      <td>occupation_Counseling/Mental Health Services</td>\n      <td>0.005105</td>\n    </tr>\n    <tr>\n      <th>12</th>\n      <td>marital status_Widowed</td>\n      <td>0.004206</td>\n    </tr>\n    <tr>\n      <th>21</th>\n      <td>occupation_Legal Services</td>\n      <td>0.003924</td>\n    </tr>\n    <tr>\n      <th>11</th>\n      <td>marital status_Separated</td>\n      <td>0.003176</td>\n    </tr>\n    <tr>\n      <th>17</th>\n      <td>occupation_Entertainment</td>\n      <td>0.002775</td>\n    </tr>\n    <tr>\n      <th>18</th>\n      <td>occupation_Farming, Fishing, Forestry</td>\n      <td>0.002090</td>\n    </tr>\n    <tr>\n      <th>23</th>\n      <td>occupation_Military Services</td>\n      <td>0.001261</td>\n    </tr>\n    <tr>\n      <th>7</th>\n      <td>gave birth this year_Yes</td>\n      <td>0.001167</td>\n    </tr>\n    <tr>\n      <th>6</th>\n      <td>gave birth this year_No</td>\n      <td>0.001141</td>\n    </tr>\n    <tr>\n      <th>33</th>\n      <td>workclass_no paid work</td>\n      <td>0.000815</td>\n    </tr>\n  </tbody>\n</table>\n</div>"
     },
     "execution_count": 6,
     "metadata": {},
     "output_type": "execute_result"
    }
   ],
   "source": [
    "feature_importance_df"
   ],
   "metadata": {
    "collapsed": false,
    "ExecuteTime": {
     "end_time": "2024-04-30T04:09:58.568491400Z",
     "start_time": "2024-04-30T04:09:58.539450Z"
    }
   },
   "id": "a00036dc0784a239",
   "execution_count": 6
  },
  {
   "cell_type": "markdown",
   "source": [
    "### Hyperparameter tuning"
   ],
   "metadata": {
    "collapsed": false
   },
   "id": "3a2dc56e20a45256"
  },
  {
   "cell_type": "markdown",
   "source": [
    "Here, we define the base parameter grid for our hyperparameter tuning function."
   ],
   "metadata": {
    "collapsed": false
   },
   "id": "b741e43c3d433553"
  },
  {
   "cell_type": "code",
   "outputs": [],
   "source": [
    "param_grid = {\n",
    "    'n_estimators': [100, 200, 300, 400, 500],\n",
    "    'max_depth': [10, 20, 30, 40, 50],\n",
    "    'min_samples_split': [2, 5, 10],\n",
    "    'min_samples_leaf': [1, 2, 4],\n",
    "    'bootstrap': [True, False],\n",
    "    'criterion': ['gini', 'entropy', 'log_loss'],\n",
    "    'random_state': [42]\n",
    "}"
   ],
   "metadata": {
    "collapsed": false,
    "ExecuteTime": {
     "end_time": "2024-04-30T04:09:58.569488900Z",
     "start_time": "2024-04-30T04:09:58.560394500Z"
    }
   },
   "id": "c29e653b05e109c8",
   "execution_count": 7
  },
  {
   "cell_type": "markdown",
   "source": [
    "Below, we tune the hyperparameters of the Random Forest model using the defined parameter grid and using all features."
   ],
   "metadata": {
    "collapsed": false
   },
   "id": "3f2cd85f21ea6108"
  },
  {
   "cell_type": "code",
   "outputs": [
    {
     "name": "stdout",
     "output_type": "stream",
     "text": [
      "Fitting 5 folds for each of 1350 candidates, totalling 6750 fits\n"
     ]
    }
   ],
   "source": [
    "best_params, best_model, best_accuracy = tune_model(RandomForestClassifier(), X_train, y_train, X_test, y_test, param_grid)\n",
    "\n",
    "print(\"\\nBest Hyperparameters:\", best_params)\n",
    "print(\"Best Model:\", best_model)\n",
    "print(\"Best Model Accuracy:\", best_accuracy)"
   ],
   "metadata": {
    "collapsed": false,
    "is_executing": true,
    "ExecuteTime": {
     "start_time": "2024-04-30T04:09:58.570486400Z"
    }
   },
   "id": "b58b63df3b376fb3",
   "execution_count": null
  },
  {
   "cell_type": "markdown",
   "source": [
    "Below, we tune the hyperparameters of the Random Forest model using the defined parameter grid and using a **subset of features**. We exclude the columns 'age', 'ability to speak english', and 'workclass'."
   ],
   "metadata": {
    "collapsed": false
   },
   "id": "39b916338a8ee5ad"
  },
  {
   "cell_type": "code",
   "outputs": [],
   "source": [
    "if False:\n",
    "    # Splitting the data into features (X) and target (y)\n",
    "    X_, y_ = get_features_and_target(data, 'income')\n",
    "    columns_to_exclude = ['age', 'ability to speak english', 'workclass']\n",
    "    X_ = X_.drop(columns=columns_to_exclude)\n",
    "    # Encoding the features and target, and excluding some columns\n",
    "    X_encoded_, y_encoded_ = encode_all_features(X_, y_, columns_to_exclude)\n",
    "    X_train_, X_test_, y_train_, y_test_ = train_test_split(X_encoded_, y_encoded_, test_size=0.2, random_state=42)\n",
    "    \n",
    "    best_params, best_model, best_accuracy = tune_model(RandomForestClassifier(), X_train_, y_train_, X_test_, y_test_, param_grid)\n",
    "    \n",
    "    print(\"\\nBest Hyperparameters:\", best_params)\n",
    "    print(\"Best Model:\", best_model)\n",
    "    print(\"Best Model Accuracy:\", best_accuracy)"
   ],
   "metadata": {
    "collapsed": false,
    "is_executing": true
   },
   "id": "a059b0e8a56a5377"
  },
  {
   "cell_type": "code",
   "outputs": [],
   "source": [
    "# Forward feature selection with hyperparameter tuning\n",
    "if False:\n",
    "    best_subset, best_params, best_score = forward_feat_selection_hypertuning(RandomForestClassifier(), param_grid, X_train, y_train, X_test, y_test)\n",
    "    \n",
    "    print(\"Best subset of features:\", best_subset)\n",
    "    print(\"Best hyperparameters:\", best_params)\n",
    "    print(\"Best model accuracy:\", best_score)\n",
    "    \n",
    "    # Use the best subset and best hyperparameters for final model\n",
    "    final_model = RandomForestClassifier(**best_params)\n",
    "    final_model.fit(X_train[best_subset], y_train)\n",
    "    final_model_preds = final_model.predict(X_test[best_subset])\n",
    "    final_model_accuracy = accuracy_score(y_test, final_model_preds)\n",
    "    \n",
    "    print(classification_report(y_test, final_model_preds))"
   ],
   "metadata": {
    "collapsed": false,
    "is_executing": true
   },
   "id": "c842c9cbe877c308"
  },
  {
   "cell_type": "code",
   "outputs": [],
   "source": [
    "# Define the parameter grid for AdaBoost\n",
    "param_grid = {\n",
    "    'algorithm': ['SAMME', 'SAMME.R'],\n",
    "    'n_estimators': [50, 75, 100, 150],\n",
    "    'learning_rate': [0.1, 0.5, 1.0],\n",
    "    'estimator': [RandomForestClassifier()],\n",
    "    'random_state': [42]\n",
    "}"
   ],
   "metadata": {
    "collapsed": false,
    "is_executing": true
   },
   "id": "830c04e2c37c90f3"
  },
  {
   "cell_type": "code",
   "outputs": [],
   "source": [
    "if False:\n",
    "    best_params, best_model, best_accuracy = tune_model(AdaBoostClassifier(), X_train, y_train, X_test, y_test, param_grid)\n",
    "    \n",
    "    print(\"\\nBest Hyperparameters:\", best_params)\n",
    "    print(\"Best Model:\", best_model)\n",
    "    print(\"Best Model Accuracy:\", best_accuracy)"
   ],
   "metadata": {
    "collapsed": false,
    "is_executing": true
   },
   "id": "56c2740bed70bf7d"
  },
  {
   "cell_type": "code",
   "outputs": [],
   "source": [
    "# Splitting the data into features (X) and target (y)\n",
    "X_, y_ = get_features_and_target(data, 'income')\n",
    "X_male, X_female = get_male_female_data(X_, False)\n",
    "columns_to_exclude = ['sex', 'gave birth this year', 'marital status']\n",
    "X__ = X_.drop(columns=columns_to_exclude)\n",
    "# Encoding the features and target, and excluding some columns\n",
    "X_encoded_, y_encoded_ = encode_all_features(X__, y_, columns_to_exclude)\n",
    "X_train_, X_test_, y_train_, y_test_ = train_test_split(X_encoded_, y_encoded_, test_size=0.2, random_state=42)\n",
    "\n",
    "X_male_test, y_male_test, X_female_test, y_female_test = get_male_female_test_data(X_male, X_female, X_test_, y_test_)\n",
    "\n",
    "best_params, best_model, best_accuracy = tune_model(AdaBoostClassifier(), X_train_, y_train_, X_test_, y_test_, param_grid)\n",
    "\n",
    "print(\"\\nBest Hyperparameters:\", best_params)\n",
    "print(\"Best Model:\", best_model)\n",
    "print(\"Best Model Accuracy:\", best_accuracy)"
   ],
   "metadata": {
    "collapsed": false,
    "is_executing": true
   },
   "id": "3ca3a4d9929f2568"
  },
  {
   "cell_type": "code",
   "outputs": [],
   "source": [
    "split_testsets = [X_male_test, y_male_test, X_female_test, y_female_test]\n",
    "model = AdaBoostClassifier(**best_params)\n",
    "model.fit(X_train_, y_train_)\n",
    "fpr_male, fpr_female, tpr_male, tpr_female = split_male_female_metrics(model, X_test, y_test, split_testsets=split_testsets)\n",
    "\n",
    "print(\"Male FPR:\", fpr_male)\n",
    "print(\"Male TPR:\", tpr_male)\n",
    "print(\"Female FPR:\", fpr_female)\n",
    "print(\"Female TPR:\", tpr_female)"
   ],
   "metadata": {
    "collapsed": false,
    "is_executing": true
   },
   "id": "c41c1d0337eb37c"
  },
  {
   "cell_type": "code",
   "outputs": [],
   "source": [
    "y_pred = model.predict(X_test_)\n",
    "X_test_with_sex = X_test_.join(X_['sex'])\n",
    "X_test_with_sex['sex'] = X_test_with_sex['sex'].map({'Female': 0, 'Male': 1})\n",
    "DI, DS, EO, EOdds, conf_matrix = statistical_measures(X_test_with_sex, y_test_, y_pred, 'sex', use_lib_implementation=False)\n",
    "print_statistical_measures(DI, DS, EO, EOdds)"
   ],
   "metadata": {
    "collapsed": false,
    "is_executing": true
   },
   "id": "8e86698b0c6e2b09"
  },
  {
   "cell_type": "code",
   "outputs": [],
   "source": [
    "# save model\n",
    "save_model(rf_model, '../output/saved_models/random_forest_model.joblib')"
   ],
   "metadata": {
    "collapsed": false,
    "is_executing": true
   },
   "id": "9199821840b26f4e",
   "execution_count": null
  }
 ],
 "metadata": {
  "kernelspec": {
   "display_name": "Python 3",
   "language": "python",
   "name": "python3"
  },
  "language_info": {
   "codemirror_mode": {
    "name": "ipython",
    "version": 2
   },
   "file_extension": ".py",
   "mimetype": "text/x-python",
   "name": "python",
   "nbconvert_exporter": "python",
   "pygments_lexer": "ipython2",
   "version": "2.7.6"
  }
 },
 "nbformat": 4,
 "nbformat_minor": 5
}
