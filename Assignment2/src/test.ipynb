{
 "cells": [
  {
   "cell_type": "code",
   "execution_count": 117,
   "id": "initial_id",
   "metadata": {
    "collapsed": true,
    "ExecuteTime": {
     "end_time": "2024-05-05T01:58:07.767374200Z",
     "start_time": "2024-05-05T01:58:07.575440400Z"
    }
   },
   "outputs": [],
   "source": [
    "import pandas as pd\n",
    "import numpy as np\n",
    "\n",
    "from helper.helper_functions import load_dataset, save_dataset, load_model, encode_nominal_features\n",
    "\n",
    "from scipy.stats import entropy"
   ]
  },
  {
   "cell_type": "markdown",
   "source": [
    "### Loading the datasets"
   ],
   "metadata": {
    "collapsed": false
   },
   "id": "8bfa0fafb29cd66c"
  },
  {
   "cell_type": "code",
   "outputs": [],
   "source": [
    "data_original = load_dataset(\"../data/assignment2_income_cleaned.xlsx\")\n",
    "data_test = load_dataset(\"../data/assignment2_test.xlsx\")"
   ],
   "metadata": {
    "collapsed": false,
    "ExecuteTime": {
     "end_time": "2024-05-05T01:58:11.278291200Z",
     "start_time": "2024-05-05T01:58:07.771363200Z"
    }
   },
   "id": "f02c765b61d0c1fc",
   "execution_count": 118
  },
  {
   "cell_type": "markdown",
   "source": [
    "### Test Data Inspection"
   ],
   "metadata": {
    "collapsed": false
   },
   "id": "b809c36b73889032"
  },
  {
   "cell_type": "code",
   "outputs": [
    {
     "name": "stdout",
     "output_type": "stream",
     "text": [
      "<class 'pandas.core.frame.DataFrame'>\n",
      "RangeIndex: 2000 entries, 0 to 1999\n",
      "Data columns (total 9 columns):\n",
      " #   Column                    Non-Null Count  Dtype  \n",
      "---  ------                    --------------  -----  \n",
      " 0   age                       2000 non-null   int64  \n",
      " 1   workclass                 2000 non-null   object \n",
      " 2   education                 2000 non-null   int64  \n",
      " 3   marital status            2000 non-null   object \n",
      " 4   occupation                2000 non-null   object \n",
      " 5   workinghours              2000 non-null   int64  \n",
      " 6   sex                       2000 non-null   object \n",
      " 7   ability to speak english  105 non-null    float64\n",
      " 8   gave birth this year      562 non-null    object \n",
      "dtypes: float64(1), int64(3), object(5)\n",
      "memory usage: 140.8+ KB\n"
     ]
    }
   ],
   "source": [
    "data_test.info()"
   ],
   "metadata": {
    "collapsed": false,
    "ExecuteTime": {
     "end_time": "2024-05-05T01:58:11.297528900Z",
     "start_time": "2024-05-05T01:58:11.279289100Z"
    }
   },
   "id": "9af99ecf9c225a99",
   "execution_count": 119
  },
  {
   "cell_type": "code",
   "outputs": [
    {
     "data": {
      "text/plain": "age\n(0, 28]       0\n(28, 38]      0\n(38, 49]      0\n(49, 65]    230\n(65, 93]     55\nName: gave birth this year, dtype: int64"
     },
     "execution_count": 120,
     "metadata": {},
     "output_type": "execute_result"
    }
   ],
   "source": [
    "# check the amount of missing values in the 'gave birth this year' column for the age bins (17-28, 28-38, 38-49, 49-65, 65-93) for females\n",
    "female_data = data_test[data_test['sex'] == 'Female']\n",
    "female_data['gave birth this year'][female_data['gave birth this year'].isnull()].groupby(\n",
    "    pd.cut(female_data['age'], bins=[0, 28, 38, 49, 65, 93]), observed=False).size()"
   ],
   "metadata": {
    "collapsed": false,
    "ExecuteTime": {
     "end_time": "2024-05-05T01:58:11.327219300Z",
     "start_time": "2024-05-05T01:58:11.291545900Z"
    }
   },
   "id": "eadf3b9a5c8593e",
   "execution_count": 120
  },
  {
   "cell_type": "code",
   "outputs": [],
   "source": [
    "data_test['ability to speak english'] = data_test['ability to speak english'].fillna(0)\n",
    "data_test['gave birth this year'] = data_test['gave birth this year'].fillna('No')"
   ],
   "metadata": {
    "collapsed": false,
    "ExecuteTime": {
     "end_time": "2024-05-05T01:58:11.328216600Z",
     "start_time": "2024-05-05T01:58:11.307122100Z"
    }
   },
   "id": "8a9861893e3d903a",
   "execution_count": 121
  },
  {
   "cell_type": "markdown",
   "source": [
    "### Test Data Distribution Discrepancy"
   ],
   "metadata": {
    "collapsed": false
   },
   "id": "76e31a65602a7b9e"
  },
  {
   "cell_type": "markdown",
   "source": [
    "Using the KL divergence to measure the distribution discrepancy between the training and test sets, we want to identify the features that have the highest discrepancy and calculate the mean discrepancy between the two datasets."
   ],
   "metadata": {
    "collapsed": false
   },
   "id": "a6958e3026861097"
  },
  {
   "cell_type": "code",
   "outputs": [],
   "source": [
    "def compute_kl_divergence(train_set: pd.DataFrame, test_set: pd.DataFrame, numerical_features: list[str]):\n",
    "    \"\"\"\n",
    "    Compute KL divergence between the distributions of features in the training and test sets.\n",
    "    :param train_set: DataFrame containing features of the training set.\n",
    "    :param test_set: DataFrame containing features of the test set.\n",
    "    :param numerical_features: List of numerical features.\n",
    "    :return: Array of KL divergence values for each feature in Series format.\n",
    "    \"\"\"\n",
    "\n",
    "    kl_divergences = []\n",
    "    for feature in test_set.columns:  # Use test set columns since it has no target label\n",
    "        if feature not in numerical_features:  # Handle categorical features\n",
    "            train_dist = train_set[feature].value_counts(normalize=True)\n",
    "            test_dist = test_set[feature].value_counts(normalize=True)\n",
    "\n",
    "            # Ensure all possible values are represented in both distributions\n",
    "            all_values = set(train_dist.index) | set(test_dist.index)\n",
    "            for value in all_values:\n",
    "                if value not in train_dist.index:\n",
    "                    train_dist[value] = 0.000001  # Add a small non-zero count for missing value\n",
    "                if value not in test_dist.index:\n",
    "                    test_dist[value] = 0.000001  # Add a small non-zero count for missing value\n",
    "        else:  # Handle numerical features\n",
    "            train_dist, _ = np.histogram(train_set[feature], bins=10, density=True)\n",
    "            test_dist, _ = np.histogram(test_set[feature], bins=10, density=True)\n",
    "\n",
    "        assert train_dist.shape == test_dist.shape\n",
    "\n",
    "        # Normalizing\n",
    "        train_dist /= np.sum(train_dist)\n",
    "        test_dist /= np.sum(test_dist)\n",
    "\n",
    "        # KL divergence\n",
    "        kl_divergence = entropy(train_dist, test_dist)\n",
    "        kl_divergences.append(kl_divergence)\n",
    "\n",
    "    return pd.Series(kl_divergences, index=test_set.columns)\n",
    "\n",
    "\n",
    "def aggregate_kl_divergence(kl_divergences: np.ndarray | pd.Series):\n",
    "    \"\"\"\n",
    "    Aggregate KL divergence values across all features.\n",
    "    :param kl_divergences: Array of KL divergence values for each feature.\n",
    "    :return: Overall measure of distribution discrepancy (in this case the mean value).\n",
    "    \"\"\"\n",
    "    if isinstance(kl_divergences, np.ndarray):\n",
    "        return np.mean(kl_divergences)\n",
    "    elif isinstance(kl_divergences, pd.Series):\n",
    "        return kl_divergences.mean()"
   ],
   "metadata": {
    "collapsed": false,
    "ExecuteTime": {
     "end_time": "2024-05-05T01:58:11.329213200Z",
     "start_time": "2024-05-05T01:58:11.314391800Z"
    }
   },
   "id": "f363d63673834c08",
   "execution_count": 122
  },
  {
   "cell_type": "code",
   "outputs": [
    {
     "data": {
      "text/plain": "                          KL Divergence\nworkinghours                   0.290940\neducation                      0.068560\nage                            0.047542\noccupation                     0.028383\nsex                            0.017073\nworkclass                      0.008632\nability to speak english       0.002802\nmarital status                 0.001831\ngave birth this year           0.000019",
      "text/html": "<div>\n<style scoped>\n    .dataframe tbody tr th:only-of-type {\n        vertical-align: middle;\n    }\n\n    .dataframe tbody tr th {\n        vertical-align: top;\n    }\n\n    .dataframe thead th {\n        text-align: right;\n    }\n</style>\n<table border=\"1\" class=\"dataframe\">\n  <thead>\n    <tr style=\"text-align: right;\">\n      <th></th>\n      <th>KL Divergence</th>\n    </tr>\n  </thead>\n  <tbody>\n    <tr>\n      <th>workinghours</th>\n      <td>0.290940</td>\n    </tr>\n    <tr>\n      <th>education</th>\n      <td>0.068560</td>\n    </tr>\n    <tr>\n      <th>age</th>\n      <td>0.047542</td>\n    </tr>\n    <tr>\n      <th>occupation</th>\n      <td>0.028383</td>\n    </tr>\n    <tr>\n      <th>sex</th>\n      <td>0.017073</td>\n    </tr>\n    <tr>\n      <th>workclass</th>\n      <td>0.008632</td>\n    </tr>\n    <tr>\n      <th>ability to speak english</th>\n      <td>0.002802</td>\n    </tr>\n    <tr>\n      <th>marital status</th>\n      <td>0.001831</td>\n    </tr>\n    <tr>\n      <th>gave birth this year</th>\n      <td>0.000019</td>\n    </tr>\n  </tbody>\n</table>\n</div>"
     },
     "execution_count": 123,
     "metadata": {},
     "output_type": "execute_result"
    }
   ],
   "source": [
    "kl_divergences = compute_kl_divergence(data_original, data_test, ['age', 'workinghours'])\n",
    "kl_divergences_df = pd.DataFrame({'KL Divergence': kl_divergences})\n",
    "kl_divergences_df = kl_divergences_df.sort_values(by='KL Divergence', ascending=False)\n",
    "kl_divergences_df"
   ],
   "metadata": {
    "collapsed": false,
    "ExecuteTime": {
     "end_time": "2024-05-05T01:58:11.370001Z",
     "start_time": "2024-05-05T01:58:11.325224700Z"
    }
   },
   "id": "77bba072f049d84a",
   "execution_count": 123
  },
  {
   "cell_type": "code",
   "outputs": [
    {
     "data": {
      "text/plain": "0.051753484383575445"
     },
     "execution_count": 124,
     "metadata": {},
     "output_type": "execute_result"
    }
   ],
   "source": [
    "aggregate_kl_divergence(kl_divergences)"
   ],
   "metadata": {
    "collapsed": false,
    "ExecuteTime": {
     "end_time": "2024-05-05T01:58:11.370998400Z",
     "start_time": "2024-05-05T01:58:11.357025700Z"
    }
   },
   "id": "1c6bb63f515e365d",
   "execution_count": 124
  },
  {
   "cell_type": "markdown",
   "source": [
    "### Test Data Feature Encoding"
   ],
   "metadata": {
    "collapsed": false
   },
   "id": "15a5cd08e3d1703a"
  },
  {
   "cell_type": "code",
   "outputs": [],
   "source": [
    "# drop columns that our model does not use\n",
    "columns_to_exclude = ['sex', 'gave birth this year', 'marital status']\n",
    "data_test_sexexcl = data_test.drop(columns=columns_to_exclude)"
   ],
   "metadata": {
    "collapsed": false,
    "ExecuteTime": {
     "end_time": "2024-05-05T01:58:11.373990500Z",
     "start_time": "2024-05-05T01:58:11.364017100Z"
    }
   },
   "id": "266d287d2e19493",
   "execution_count": 125
  },
  {
   "cell_type": "code",
   "outputs": [],
   "source": [
    "nominal_features_lc = list(\n",
    "    {'workclass', 'marital status', 'gave birth this year', 'sex', 'occupation'} - set(\n",
    "        columns_to_exclude))  # low cardinality features\n",
    "nominal_features_hc = []\n",
    "\n",
    "# Encoded test set\n",
    "data_test_encoded = encode_nominal_features(data_test_sexexcl, nominal_features_lc, nominal_features_hc)"
   ],
   "metadata": {
    "collapsed": false,
    "ExecuteTime": {
     "end_time": "2024-05-05T01:58:11.425472800Z",
     "start_time": "2024-05-05T01:58:11.371995600Z"
    }
   },
   "id": "2f5f4746649c4f76",
   "execution_count": 126
  },
  {
   "cell_type": "markdown",
   "source": [
    "### Generate predictions for test data using the best model"
   ],
   "metadata": {
    "collapsed": false
   },
   "id": "20adaf68374ff414"
  },
  {
   "cell_type": "code",
   "outputs": [],
   "source": [
    "# load the best model\n",
    "model = load_model('../output/saved_models/dt_model_sexexcl_ffs_tuned_fair.joblib')"
   ],
   "metadata": {
    "collapsed": false,
    "ExecuteTime": {
     "end_time": "2024-05-05T01:58:11.426470500Z",
     "start_time": "2024-05-05T01:58:11.383076300Z"
    }
   },
   "id": "495a0e1422e9ee46",
   "execution_count": 127
  },
  {
   "cell_type": "code",
   "outputs": [],
   "source": [
    "# Get the feature names used during training\n",
    "train_features = model.feature_names_in_\n",
    "data_test_reordered = data_test_encoded[train_features]\n",
    "data_test_encoded = data_test_reordered\n",
    "# predict the test data\n",
    "y_pred = model.predict(data_test_encoded)\n",
    "# save the predictions\n",
    "y_pred = pd.DataFrame(y_pred, columns=['income'])\n",
    "save_dataset(y_pred, '../output/test_predictions/best_model_predictions.xlsx', index=True)"
   ],
   "metadata": {
    "collapsed": false,
    "ExecuteTime": {
     "end_time": "2024-05-05T01:58:11.585462100Z",
     "start_time": "2024-05-05T01:58:11.391563800Z"
    }
   },
   "id": "59dff71094fa492b",
   "execution_count": 128
  },
  {
   "cell_type": "code",
   "outputs": [
    {
     "name": "stdout",
     "output_type": "stream",
     "text": [
      "2000 2000\n"
     ]
    }
   ],
   "source": [
    "p = load_dataset('../output/test_predictions/best_model_predictions.xlsx')\n",
    "print(len(p), len(y_pred)) # the lengths should be the same\n",
    "# see if the predictions were saved correctly\n",
    "differing_values = (y_pred['income'] != p['income']).sum()"
   ],
   "metadata": {
    "collapsed": false,
    "ExecuteTime": {
     "end_time": "2024-05-05T01:58:11.679215800Z",
     "start_time": "2024-05-05T01:58:11.585462100Z"
    }
   },
   "id": "1f0ac6286245d790",
   "execution_count": 129
  },
  {
   "cell_type": "code",
   "outputs": [
    {
     "data": {
      "text/plain": "0"
     },
     "execution_count": 130,
     "metadata": {},
     "output_type": "execute_result"
    }
   ],
   "source": [
    "differing_values"
   ],
   "metadata": {
    "collapsed": false,
    "ExecuteTime": {
     "end_time": "2024-05-05T01:58:11.683981Z",
     "start_time": "2024-05-05T01:58:11.676224700Z"
    }
   },
   "id": "b619a23b51b4ce7e",
   "execution_count": 130
  },
  {
   "cell_type": "markdown",
   "source": [
    "### Inspection of the predictions"
   ],
   "metadata": {
    "collapsed": false
   },
   "id": "9b353dbf70581a28"
  },
  {
   "cell_type": "code",
   "outputs": [],
   "source": [
    "# Count amount of low (0) and high (1) income predictions\n",
    "predicted_1 = (y_pred == 1).sum()\n",
    "predicted_0 = (y_pred == 0).sum()\n",
    "\n",
    "# Create a DataFrame\n",
    "predictions_df = pd.DataFrame({\n",
    "    'Prediction': [1, 0],\n",
    "    'Count': [predicted_1, predicted_0]\n",
    "})"
   ],
   "metadata": {
    "collapsed": false,
    "ExecuteTime": {
     "end_time": "2024-05-05T01:58:11.736524900Z",
     "start_time": "2024-05-05T01:58:11.684978800Z"
    }
   },
   "id": "553be251d85fbaf5",
   "execution_count": 131
  },
  {
   "cell_type": "code",
   "outputs": [
    {
     "data": {
      "text/plain": "income\n1         1051\n0          949\nName: count, dtype: int64"
     },
     "execution_count": 132,
     "metadata": {},
     "output_type": "execute_result"
    }
   ],
   "source": [
    "y_pred.value_counts()"
   ],
   "metadata": {
    "collapsed": false,
    "ExecuteTime": {
     "end_time": "2024-05-05T01:58:11.738520200Z",
     "start_time": "2024-05-05T01:58:11.695288600Z"
    }
   },
   "id": "c986d2f05fb9e6e4",
   "execution_count": 132
  },
  {
   "cell_type": "code",
   "outputs": [],
   "source": [
    "# Filter predictions for males\n",
    "male_predictions = y_pred[data_test['sex'] == 'Male']\n",
    "\n",
    "male_predicted_1 = (male_predictions == 1).sum()\n",
    "male_predicted_0 = (male_predictions == 0).sum()\n",
    "\n",
    "# Filter predictions for females\n",
    "female_predictions = y_pred[data_test['sex'] == 'Female']\n",
    "\n",
    "female_predicted_1 = (female_predictions == 1).sum()\n",
    "female_predicted_0 = (female_predictions == 0).sum()\n",
    "\n",
    "predictions_df_mf = pd.DataFrame({\n",
    "    'Sex': ['Male', 'Female'],\n",
    "    'Predicted_1': [male_predicted_1, female_predicted_1],\n",
    "    'Predicted_0': [male_predicted_0, female_predicted_0]\n",
    "})"
   ],
   "metadata": {
    "collapsed": false,
    "ExecuteTime": {
     "end_time": "2024-05-05T01:58:11.739183300Z",
     "start_time": "2024-05-05T01:58:11.721504400Z"
    }
   },
   "id": "604b0c880ec4b6d5",
   "execution_count": 133
  },
  {
   "cell_type": "code",
   "outputs": [
    {
     "data": {
      "text/plain": "      Sex                 Predicted_1                 Predicted_0\n0    Male  income    666\ndtype: int64  income    487\ndtype: int64\n1  Female  income    385\ndtype: int64  income    462\ndtype: int64",
      "text/html": "<div>\n<style scoped>\n    .dataframe tbody tr th:only-of-type {\n        vertical-align: middle;\n    }\n\n    .dataframe tbody tr th {\n        vertical-align: top;\n    }\n\n    .dataframe thead th {\n        text-align: right;\n    }\n</style>\n<table border=\"1\" class=\"dataframe\">\n  <thead>\n    <tr style=\"text-align: right;\">\n      <th></th>\n      <th>Sex</th>\n      <th>Predicted_1</th>\n      <th>Predicted_0</th>\n    </tr>\n  </thead>\n  <tbody>\n    <tr>\n      <th>0</th>\n      <td>Male</td>\n      <td>income    666\ndtype: int64</td>\n      <td>income    487\ndtype: int64</td>\n    </tr>\n    <tr>\n      <th>1</th>\n      <td>Female</td>\n      <td>income    385\ndtype: int64</td>\n      <td>income    462\ndtype: int64</td>\n    </tr>\n  </tbody>\n</table>\n</div>"
     },
     "execution_count": 134,
     "metadata": {},
     "output_type": "execute_result"
    }
   ],
   "source": [
    "predictions_df_mf"
   ],
   "metadata": {
    "collapsed": false,
    "ExecuteTime": {
     "end_time": "2024-05-05T01:58:11.789980800Z",
     "start_time": "2024-05-05T01:58:11.731538700Z"
    }
   },
   "id": "8a2ad5053d153e78",
   "execution_count": 134
  }
 ],
 "metadata": {
  "kernelspec": {
   "display_name": "Python 3",
   "language": "python",
   "name": "python3"
  },
  "language_info": {
   "codemirror_mode": {
    "name": "ipython",
    "version": 2
   },
   "file_extension": ".py",
   "mimetype": "text/x-python",
   "name": "python",
   "nbconvert_exporter": "python",
   "pygments_lexer": "ipython2",
   "version": "2.7.6"
  }
 },
 "nbformat": 4,
 "nbformat_minor": 5
}
