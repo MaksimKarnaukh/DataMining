{
 "cells": [
  {
   "cell_type": "code",
   "id": "initial_id",
   "metadata": {
    "collapsed": true,
    "ExecuteTime": {
     "end_time": "2024-05-21T03:23:09.287184Z",
     "start_time": "2024-05-21T03:23:07.405881Z"
    }
   },
   "source": [
    "import importlib\n",
    "import data_preprocessor\n",
    "import helper_functions\n",
    "import cluster_validation as cv\n",
    "import cluster_plotting as cp\n",
    "import re\n",
    "import pandas as pd\n",
    "import numpy as np\n",
    "import matplotlib.pyplot as plt\n",
    "import matplotlib.cm as cm\n",
    "\n",
    "importlib.reload(data_preprocessor)\n",
    "importlib.reload(helper_functions)\n",
    "importlib.reload(cv)\n",
    "importlib.reload(cp)\n",
    "\n",
    "from helper_functions import load_dataset, save_dataset\n",
    "from sklearn.feature_extraction.text import TfidfVectorizer, CountVectorizer\n",
    "from data_preprocessor import DataPreprocessor\n",
    "from scipy.spatial.distance import pdist, squareform\n",
    "from scipy.stats import spearmanr\n",
    "from sklearn.cluster import KMeans, MiniBatchKMeans, AgglomerativeClustering, BisectingKMeans, DBSCAN\n",
    "from sklearn_extra.cluster import KMedoids\n",
    "from sklearn.neighbors import NearestNeighbors\n",
    "from sklearn.mixture import GaussianMixture\n",
    "from sklearn.metrics import silhouette_score, pairwise_distances\n",
    "from sklearn.metrics.pairwise import cosine_distances\n",
    "from yellowbrick.cluster import KElbowVisualizer\n",
    "from mpl_toolkits.mplot3d import Axes3D\n",
    "from sklearn.decomposition import PCA, TruncatedSVD\n",
    "from sklearn.manifold import TSNE\n",
    "from sklearn.model_selection import StratifiedKFold\n",
    "\n",
    "import warnings\n",
    "warnings.filterwarnings('ignore')"
   ],
   "outputs": [],
   "execution_count": 1
  },
  {
   "cell_type": "markdown",
   "source": [
    "### Loading the dataset"
   ],
   "metadata": {
    "collapsed": false
   },
   "id": "c78e6b2511ae4d27"
  },
  {
   "cell_type": "code",
   "source": [
    "data = load_dataset(\"../data/assignment3_articles.xlsx\")"
   ],
   "metadata": {
    "collapsed": false,
    "ExecuteTime": {
     "end_time": "2024-05-21T03:23:09.599606Z",
     "start_time": "2024-05-21T03:23:09.288187Z"
    }
   },
   "id": "4e165449a3c30d28",
   "outputs": [],
   "execution_count": 2
  },
  {
   "cell_type": "markdown",
   "source": [
    "## 1) Data Inspection and Preparation"
   ],
   "metadata": {
    "collapsed": false
   },
   "id": "db16e4e109a979a7"
  },
  {
   "cell_type": "markdown",
   "source": [
    "First, we do some basic inspection of the dataset, such as checking the first few rows, the data types, the amount of missing values, and the value counts of certain columns."
   ],
   "metadata": {
    "collapsed": false
   },
   "id": "e699f54b26baa87"
  },
  {
   "cell_type": "code",
   "source": [
    "data"
   ],
   "metadata": {
    "collapsed": false,
    "ExecuteTime": {
     "end_time": "2024-05-21T03:23:09.609751Z",
     "start_time": "2024-05-21T03:23:09.600108Z"
    }
   },
   "id": "ceefc662128d139d",
   "outputs": [
    {
     "data": {
      "text/plain": [
       "      index                                          headlines  \\\n",
       "0         0  Rupee ends 1 paisa lower at 83.38 against US d...   \n",
       "1         1  India vs Syria Live Streaming, AFC Asian Cup 2...   \n",
       "2         2  PM Modi to interact with VCs, teachers, studen...   \n",
       "3         3  How to remove bloatware apps from Samsung, Rea...   \n",
       "4         4  NEET SS 2023 result declared; counselling sche...   \n",
       "...     ...                                                ...   \n",
       "2495   2495  Google Search and Lens can now visualise STEM ...   \n",
       "2496   2496  Arsenal’s Partey an injury doubt as Arteta rel...   \n",
       "2497   2497  iQOO 12 will get 3 Android updates, will not h...   \n",
       "2498   2498  Lava Blaze Pro 5G review: Is this the best 5G ...   \n",
       "2499   2499  Karan Johar breaks down economics of cinema, r...   \n",
       "\n",
       "                                            description  \\\n",
       "0     Besides, selling pressure in the domestic equi...   \n",
       "1     AFC Asian Cup Live Streaming, India vs Syria F...   \n",
       "2     G20 University Connect: The commission has ask...   \n",
       "3     Smartphone companies often ship Android phones...   \n",
       "4     NEET SS 2023 Result: Candidates who appeared f...   \n",
       "...                                                 ...   \n",
       "2495  Google Search and Lens can now help students w...   \n",
       "2496  Partey came off at halftime during Arsenal's F...   \n",
       "2497  iQOO says its upcoming flagship phone, running...   \n",
       "2498  Lava Blaze Pro 5G is an excellent 5G smartphon...   \n",
       "2499  Filmmaker Karan Johar spoke about the business...   \n",
       "\n",
       "                                                content  \n",
       "0     The rupee consolidated in a narrow range and s...  \n",
       "1     India vs Syria AFC Asia Cup Live Streaming Det...  \n",
       "2     The University Grants Commission (UGC) is orga...  \n",
       "3     Smartphone manufacturers often pack new Androi...  \n",
       "4     The National Board of Examinations Medical Sci...  \n",
       "...                                                 ...  \n",
       "2495  Google has been consistently improving its Sea...  \n",
       "2496  Arsenal midfielder Thomas Partey is still an i...  \n",
       "2497  iQOO is all set to launch its upcoming flagshi...  \n",
       "2498  In less than a year, India has accounted for o...  \n",
       "2499  Film production as a business is rife with ris...  \n",
       "\n",
       "[2500 rows x 4 columns]"
      ],
      "text/html": [
       "<div>\n",
       "<style scoped>\n",
       "    .dataframe tbody tr th:only-of-type {\n",
       "        vertical-align: middle;\n",
       "    }\n",
       "\n",
       "    .dataframe tbody tr th {\n",
       "        vertical-align: top;\n",
       "    }\n",
       "\n",
       "    .dataframe thead th {\n",
       "        text-align: right;\n",
       "    }\n",
       "</style>\n",
       "<table border=\"1\" class=\"dataframe\">\n",
       "  <thead>\n",
       "    <tr style=\"text-align: right;\">\n",
       "      <th></th>\n",
       "      <th>index</th>\n",
       "      <th>headlines</th>\n",
       "      <th>description</th>\n",
       "      <th>content</th>\n",
       "    </tr>\n",
       "  </thead>\n",
       "  <tbody>\n",
       "    <tr>\n",
       "      <th>0</th>\n",
       "      <td>0</td>\n",
       "      <td>Rupee ends 1 paisa lower at 83.38 against US d...</td>\n",
       "      <td>Besides, selling pressure in the domestic equi...</td>\n",
       "      <td>The rupee consolidated in a narrow range and s...</td>\n",
       "    </tr>\n",
       "    <tr>\n",
       "      <th>1</th>\n",
       "      <td>1</td>\n",
       "      <td>India vs Syria Live Streaming, AFC Asian Cup 2...</td>\n",
       "      <td>AFC Asian Cup Live Streaming, India vs Syria F...</td>\n",
       "      <td>India vs Syria AFC Asia Cup Live Streaming Det...</td>\n",
       "    </tr>\n",
       "    <tr>\n",
       "      <th>2</th>\n",
       "      <td>2</td>\n",
       "      <td>PM Modi to interact with VCs, teachers, studen...</td>\n",
       "      <td>G20 University Connect: The commission has ask...</td>\n",
       "      <td>The University Grants Commission (UGC) is orga...</td>\n",
       "    </tr>\n",
       "    <tr>\n",
       "      <th>3</th>\n",
       "      <td>3</td>\n",
       "      <td>How to remove bloatware apps from Samsung, Rea...</td>\n",
       "      <td>Smartphone companies often ship Android phones...</td>\n",
       "      <td>Smartphone manufacturers often pack new Androi...</td>\n",
       "    </tr>\n",
       "    <tr>\n",
       "      <th>4</th>\n",
       "      <td>4</td>\n",
       "      <td>NEET SS 2023 result declared; counselling sche...</td>\n",
       "      <td>NEET SS 2023 Result: Candidates who appeared f...</td>\n",
       "      <td>The National Board of Examinations Medical Sci...</td>\n",
       "    </tr>\n",
       "    <tr>\n",
       "      <th>...</th>\n",
       "      <td>...</td>\n",
       "      <td>...</td>\n",
       "      <td>...</td>\n",
       "      <td>...</td>\n",
       "    </tr>\n",
       "    <tr>\n",
       "      <th>2495</th>\n",
       "      <td>2495</td>\n",
       "      <td>Google Search and Lens can now visualise STEM ...</td>\n",
       "      <td>Google Search and Lens can now help students w...</td>\n",
       "      <td>Google has been consistently improving its Sea...</td>\n",
       "    </tr>\n",
       "    <tr>\n",
       "      <th>2496</th>\n",
       "      <td>2496</td>\n",
       "      <td>Arsenal’s Partey an injury doubt as Arteta rel...</td>\n",
       "      <td>Partey came off at halftime during Arsenal's F...</td>\n",
       "      <td>Arsenal midfielder Thomas Partey is still an i...</td>\n",
       "    </tr>\n",
       "    <tr>\n",
       "      <th>2497</th>\n",
       "      <td>2497</td>\n",
       "      <td>iQOO 12 will get 3 Android updates, will not h...</td>\n",
       "      <td>iQOO says its upcoming flagship phone, running...</td>\n",
       "      <td>iQOO is all set to launch its upcoming flagshi...</td>\n",
       "    </tr>\n",
       "    <tr>\n",
       "      <th>2498</th>\n",
       "      <td>2498</td>\n",
       "      <td>Lava Blaze Pro 5G review: Is this the best 5G ...</td>\n",
       "      <td>Lava Blaze Pro 5G is an excellent 5G smartphon...</td>\n",
       "      <td>In less than a year, India has accounted for o...</td>\n",
       "    </tr>\n",
       "    <tr>\n",
       "      <th>2499</th>\n",
       "      <td>2499</td>\n",
       "      <td>Karan Johar breaks down economics of cinema, r...</td>\n",
       "      <td>Filmmaker Karan Johar spoke about the business...</td>\n",
       "      <td>Film production as a business is rife with ris...</td>\n",
       "    </tr>\n",
       "  </tbody>\n",
       "</table>\n",
       "<p>2500 rows × 4 columns</p>\n",
       "</div>"
      ]
     },
     "execution_count": 3,
     "metadata": {},
     "output_type": "execute_result"
    }
   ],
   "execution_count": 3
  },
  {
   "cell_type": "code",
   "source": [
    "data.info()"
   ],
   "metadata": {
    "collapsed": false,
    "ExecuteTime": {
     "end_time": "2024-05-21T03:23:09.615590Z",
     "start_time": "2024-05-21T03:23:09.610754Z"
    }
   },
   "id": "698a43f7eb28c035",
   "outputs": [
    {
     "name": "stdout",
     "output_type": "stream",
     "text": [
      "<class 'pandas.core.frame.DataFrame'>\n",
      "RangeIndex: 2500 entries, 0 to 2499\n",
      "Data columns (total 4 columns):\n",
      " #   Column       Non-Null Count  Dtype \n",
      "---  ------       --------------  ----- \n",
      " 0   index        2500 non-null   int64 \n",
      " 1   headlines    2500 non-null   object\n",
      " 2   description  2500 non-null   object\n",
      " 3   content      2500 non-null   object\n",
      "dtypes: int64(1), object(3)\n",
      "memory usage: 78.2+ KB\n"
     ]
    }
   ],
   "execution_count": 4
  },
  {
   "cell_type": "markdown",
   "source": [
    "### Preprocessing the text data"
   ],
   "metadata": {
    "collapsed": false
   },
   "id": "ab716292afe78ac0"
  },
  {
   "cell_type": "code",
   "source": [
    "# Initialize the DataPreprocessor object\n",
    "preprocessor = DataPreprocessor()"
   ],
   "metadata": {
    "collapsed": false,
    "ExecuteTime": {
     "end_time": "2024-05-21T03:23:09.621036Z",
     "start_time": "2024-05-21T03:23:09.616093Z"
    }
   },
   "id": "ec8602ce3f498caa",
   "outputs": [],
   "execution_count": 5
  },
  {
   "metadata": {},
   "cell_type": "markdown",
   "source": "We quickly how below how the preprocessor works by applying it to the first row of the content column.",
   "id": "e8b6fa7195b612d2"
  },
  {
   "cell_type": "code",
   "source": [
    "# get first row and last column\n",
    "data.iloc[0, -1]"
   ],
   "metadata": {
    "collapsed": false,
    "ExecuteTime": {
     "end_time": "2024-05-21T03:23:09.625159Z",
     "start_time": "2024-05-21T03:23:09.621539Z"
    }
   },
   "id": "cc307f3a88c5515e",
   "outputs": [
    {
     "data": {
      "text/plain": [
       "'The rupee consolidated in a narrow range and settled 1 paisa lower at 83.38 (provisional) against the US dollar on Tuesday, as investors preferred to remain cautious ahead of the domestic inflation data release and upcoming US Fed meeting.\\nBesides, selling pressure in the domestic equity markets dented market sentiments, forex traders said.\\nHowever, a weaker American currency against major currencies overseas restricted the loss in the local currency, they added.\\nADVERTISEMENT\\nAt the interbank foreign exchange market, the local unit opened at 83.36 and settled at 83.38 (provisional) against the greenback, registering a loss of 1 paisa from its previous close.\\nDuring intra-day, the rupee touched a high of 83.35 and hit the lowest level of 83.39.\\nOn Monday, the domestic currency settled at 83.37 against the US dollar.\\nInvestors largely remained concerned over the domestic inflation data as well as industrial production numbers to be announced later in the day.\\nADVERTISEMENT\\nCurrency traders were also awaiting the US Federal Reserve’s monetary policy decision likely to be announced later this week.\\n“The upcoming focus is on the US CPI data in the evening, with expectations of 0.3 per cent on a month-on-month basis and a lower year-on-year figure at 3.1 per cent. Anticipating mixed reactions, the rupee seems unaffected, persisting within the broad range of 83.30-83.45,” Jateen Trivedi, VP Research Analyst at LKP Securities, said.\\nMeanwhile, the dollar index, which gauges the greenback’s strength against a basket of six currencies, was trading 0.28 per cent lower at 103.41 on Tuesday.\\nADVERTISEMENT\\nBrent crude futures, the global oil benchmark, advanced 0.34 per cent to USD 76.29 per barrel.\\nOn the domestic equity market front, the 30-share benchmark BSE Sensex plunged 377.50 points, or 0.54 per cent, to settle at 69,551.03 points. The Nifty also fell 90.70 points, or 0.43 per cent, to 20,906.40 points.\\nForeign Institutional Investors (FIIs) were net buyers in the capital market on Monday as they bought shares worth Rs 1,261.13 crore, according to exchange data.'"
      ]
     },
     "execution_count": 6,
     "metadata": {},
     "output_type": "execute_result"
    }
   ],
   "execution_count": 6
  },
  {
   "cell_type": "code",
   "source": [
    "preprocessor.preprocess_text(data.iloc[0, -1])"
   ],
   "metadata": {
    "collapsed": false,
    "ExecuteTime": {
     "end_time": "2024-05-21T03:23:09.639412Z",
     "start_time": "2024-05-21T03:23:09.625662Z"
    }
   },
   "id": "453d5e7cc1fdf00a",
   "outputs": [
    {
     "data": {
      "text/plain": [
       "'rupe consolid narrow rang settl paisa lower provision us dollar tuesday investor prefer remain cautiou ahead domest inflat data releas upcom us fed meet besid sell pressur domest equiti market dent market sentiment forex trader said howev weaker american currenc major currenc oversea restrict loss local currenc ad interbank foreign exchang market local unit open settl provision greenback regist loss paisa previou close intraday rupe touch high hit lowest level monday domest currenc settl us dollar investor larg remain concern domest inflat data well industri product number announc later day currenc trader also await us feder reserv monetari polici decis like announc later week upcom focu us cpi data even expect per cent monthonmonth basi lower yearonyear figur per cent anticip mix reaction rupe seem unaffect persist within broad rang jateen trivedi vp research analyst lkp secur said meanwhil dollar index gaug greenback strength basket six currenc trade per cent lower tuesday brent crude futur global oil benchmark advanc per cent usd per barrel domest equiti market front benchmark bse sensex plung point per cent settl point nifti also fell point per cent point foreign institut investor fii net buyer capit market monday bought share worth rs crore accord exchang data'"
      ]
     },
     "execution_count": 7,
     "metadata": {},
     "output_type": "execute_result"
    }
   ],
   "execution_count": 7
  },
  {
   "cell_type": "markdown",
   "source": [
    "### Data Preprocessing"
   ],
   "metadata": {
    "collapsed": false
   },
   "id": "7e178fc5a42adcb4"
  },
  {
   "cell_type": "code",
   "source": [
    "def count_numbers(text):\n",
    "    \"\"\"\n",
    "    Count the occurrences of numbers in the text.\n",
    "    \"\"\"\n",
    "    # match numbers\n",
    "    pattern = r'\\b\\d+[,.]\\d+\\b|\\b\\d+[,.]?\\b|\\b[,.]\\d+\\b'\n",
    "    return len(re.findall(pattern, text))\n",
    "\n",
    "def preprocess_col(preprocessor: DataPreprocessor, col: pd.Series, h_pct: float = 0, l_pct: float = 0) -> pd.Series:\n",
    "    \"\"\" \n",
    "    Preprocesses a column of text data using the preprocessor (cfr. data_preprocessor.py), \n",
    "    and by removing the top $h_pct of the most frequent words and the top $l_pct of the least frequent words.\n",
    "    \n",
    "    Inspired partly by: https://medium.com/analytics-vidhya/introduction-to-text-classification-in-python-659eccf6b2e\n",
    "    \n",
    "    :param preprocessor: preprocessor object\n",
    "    :param col: column of text data\n",
    "    :param h_pct: \"the percentage of high frequency words to remove from the corpus\"\n",
    "    :param l_pct: \"the percentage of low frequency words to remove from the corpus\"\n",
    "    :return: preprocessed column\n",
    "    \"\"\"\n",
    "\n",
    "    col = col.apply(preprocessor.preprocess_text)\n",
    "    \n",
    "    if h_pct != 0:\n",
    "        #removing the top $h_pct of the most frequent words \n",
    "        high_freq = pd.Series(' '.join(col).split()).value_counts()[:int(pd.Series(' '.join(col).split()).count()*h_pct/100)]\n",
    "        rem_high = col.apply(lambda x: \" \".join(x for x in x.split() if x not in high_freq))\n",
    "    else:\n",
    "        rem_high = col\n",
    "    \n",
    "    if l_pct != 0:\n",
    "        #removing the top $l_pct of the least frequent words\n",
    "        low_freq = pd.Series(' '.join(rem_high).split()).value_counts()[:-int(pd.Series(' '.join(rem_high).split()).count()*l_pct/100):-1]\n",
    "        rem_low = rem_high.apply(lambda x: \" \".join(x for x in x.split() if x not in low_freq))\n",
    "    else:\n",
    "        rem_low = rem_high\n",
    "    \n",
    "    return rem_low"
   ],
   "metadata": {
    "collapsed": false,
    "ExecuteTime": {
     "end_time": "2024-05-21T03:23:09.643812Z",
     "start_time": "2024-05-21T03:23:09.639915Z"
    }
   },
   "id": "74f30def8a10fd8e",
   "outputs": [],
   "execution_count": 8
  },
  {
   "metadata": {},
   "cell_type": "markdown",
   "source": "We concatenate the headlines, descriptions, and preprocessed content columns into a single column, and preprocess the concatenated column.",
   "id": "56bb6b7c27aab568"
  },
  {
   "cell_type": "code",
   "source": [
    "# count amount of numbers in content column\n",
    "data['amount_of_numbers'] = data['content'].apply(count_numbers)\n",
    "\n",
    "data['preprocessed_content'] = preprocess_col(preprocessor, data['content'], h_pct=1, l_pct=1)\n",
    "data['concatenated'] = data['headlines'] + ' ' + data['description'] + ' ' + data['preprocessed_content']\n",
    "data['preprocessed_concat'] = preprocess_col(preprocessor, data['concatenated'], h_pct=0, l_pct=0)\n",
    "\n",
    "data_preprocessed = data.drop(columns=['headlines', 'description', 'content', 'preprocessed_content', 'concatenated'])"
   ],
   "metadata": {
    "collapsed": false,
    "ExecuteTime": {
     "end_time": "2024-05-21T03:23:14.860197Z",
     "start_time": "2024-05-21T03:23:09.644816Z"
    }
   },
   "id": "f993d796da3ed5d4",
   "outputs": [],
   "execution_count": 9
  },
  {
   "cell_type": "code",
   "source": [
    "data_preprocessed"
   ],
   "metadata": {
    "collapsed": false,
    "ExecuteTime": {
     "end_time": "2024-05-21T03:23:14.865253Z",
     "start_time": "2024-05-21T03:23:14.861201Z"
    }
   },
   "id": "af581ce3e32d3832",
   "outputs": [
    {
     "data": {
      "text/plain": [
       "      index  amount_of_numbers  \\\n",
       "0         0                 27   \n",
       "1         1                  5   \n",
       "2         2                  4   \n",
       "3         3                  0   \n",
       "4         4                  2   \n",
       "...     ...                ...   \n",
       "2495   2495                  0   \n",
       "2496   2496                  1   \n",
       "2497   2497                 10   \n",
       "2498   2498                  1   \n",
       "2499   2499                  1   \n",
       "\n",
       "                                    preprocessed_concat  \n",
       "0     rupe end paisa lower us dollar besid sell pres...  \n",
       "1     india vs syria live stream afc asian cup watch...  \n",
       "2     pm modi interact vc teacher student ugc univer...  \n",
       "3     remov bloatwar app samsung realm xiaomi vivo r...  \n",
       "4     neet ss result declar counsel schedul soon nat...  \n",
       "...                                                 ...  \n",
       "2495  googl search len visualis stem model help calc...  \n",
       "2496  arsen partey injuri doubt arteta reli jorginho...  \n",
       "2497  iqoo get android updat hot app hot game iqoo s...  \n",
       "2498  lava blaze pro review best phone rs lava blaze...  \n",
       "2499  karan johar break econom cinema reveal busi mo...  \n",
       "\n",
       "[2500 rows x 3 columns]"
      ],
      "text/html": [
       "<div>\n",
       "<style scoped>\n",
       "    .dataframe tbody tr th:only-of-type {\n",
       "        vertical-align: middle;\n",
       "    }\n",
       "\n",
       "    .dataframe tbody tr th {\n",
       "        vertical-align: top;\n",
       "    }\n",
       "\n",
       "    .dataframe thead th {\n",
       "        text-align: right;\n",
       "    }\n",
       "</style>\n",
       "<table border=\"1\" class=\"dataframe\">\n",
       "  <thead>\n",
       "    <tr style=\"text-align: right;\">\n",
       "      <th></th>\n",
       "      <th>index</th>\n",
       "      <th>amount_of_numbers</th>\n",
       "      <th>preprocessed_concat</th>\n",
       "    </tr>\n",
       "  </thead>\n",
       "  <tbody>\n",
       "    <tr>\n",
       "      <th>0</th>\n",
       "      <td>0</td>\n",
       "      <td>27</td>\n",
       "      <td>rupe end paisa lower us dollar besid sell pres...</td>\n",
       "    </tr>\n",
       "    <tr>\n",
       "      <th>1</th>\n",
       "      <td>1</td>\n",
       "      <td>5</td>\n",
       "      <td>india vs syria live stream afc asian cup watch...</td>\n",
       "    </tr>\n",
       "    <tr>\n",
       "      <th>2</th>\n",
       "      <td>2</td>\n",
       "      <td>4</td>\n",
       "      <td>pm modi interact vc teacher student ugc univer...</td>\n",
       "    </tr>\n",
       "    <tr>\n",
       "      <th>3</th>\n",
       "      <td>3</td>\n",
       "      <td>0</td>\n",
       "      <td>remov bloatwar app samsung realm xiaomi vivo r...</td>\n",
       "    </tr>\n",
       "    <tr>\n",
       "      <th>4</th>\n",
       "      <td>4</td>\n",
       "      <td>2</td>\n",
       "      <td>neet ss result declar counsel schedul soon nat...</td>\n",
       "    </tr>\n",
       "    <tr>\n",
       "      <th>...</th>\n",
       "      <td>...</td>\n",
       "      <td>...</td>\n",
       "      <td>...</td>\n",
       "    </tr>\n",
       "    <tr>\n",
       "      <th>2495</th>\n",
       "      <td>2495</td>\n",
       "      <td>0</td>\n",
       "      <td>googl search len visualis stem model help calc...</td>\n",
       "    </tr>\n",
       "    <tr>\n",
       "      <th>2496</th>\n",
       "      <td>2496</td>\n",
       "      <td>1</td>\n",
       "      <td>arsen partey injuri doubt arteta reli jorginho...</td>\n",
       "    </tr>\n",
       "    <tr>\n",
       "      <th>2497</th>\n",
       "      <td>2497</td>\n",
       "      <td>10</td>\n",
       "      <td>iqoo get android updat hot app hot game iqoo s...</td>\n",
       "    </tr>\n",
       "    <tr>\n",
       "      <th>2498</th>\n",
       "      <td>2498</td>\n",
       "      <td>1</td>\n",
       "      <td>lava blaze pro review best phone rs lava blaze...</td>\n",
       "    </tr>\n",
       "    <tr>\n",
       "      <th>2499</th>\n",
       "      <td>2499</td>\n",
       "      <td>1</td>\n",
       "      <td>karan johar break econom cinema reveal busi mo...</td>\n",
       "    </tr>\n",
       "  </tbody>\n",
       "</table>\n",
       "<p>2500 rows × 3 columns</p>\n",
       "</div>"
      ]
     },
     "execution_count": 10,
     "metadata": {},
     "output_type": "execute_result"
    }
   ],
   "execution_count": 10
  },
  {
   "metadata": {},
   "cell_type": "markdown",
   "source": "We vectorize the preprocessed text data using the TF-IDF method.",
   "id": "73e791189f8c617b"
  },
  {
   "cell_type": "code",
   "source": [
    "vectorizer = TfidfVectorizer()\n",
    "# vectorizer = CountVectorizer()\n",
    "vectorized_data = vectorizer.fit_transform(data_preprocessed['preprocessed_concat']) # Vectorize preprocessed text data\n",
    "vectorized_data_df = pd.DataFrame(vectorized_data.toarray(), columns=vectorizer.get_feature_names_out())\n",
    "tfidf_features = vectorized_data_df.copy()"
   ],
   "metadata": {
    "collapsed": false,
    "ExecuteTime": {
     "end_time": "2024-05-21T03:23:15.224460Z",
     "start_time": "2024-05-21T03:23:14.865757Z"
    }
   },
   "id": "ddab4a1d095c73e8",
   "outputs": [],
   "execution_count": 11
  },
  {
   "cell_type": "code",
   "source": [
    "tfidf_features"
   ],
   "metadata": {
    "collapsed": false,
    "ExecuteTime": {
     "end_time": "2024-05-21T03:23:15.239299Z",
     "start_time": "2024-05-21T03:23:15.224962Z"
    }
   },
   "id": "c116290ca9b24b78",
   "outputs": [
    {
     "data": {
      "text/plain": [
       "       aa  aaa  aac  aacha  aacsb  aadat  aadhaar  aadhaarvalid  aadhya  \\\n",
       "0     0.0  0.0  0.0    0.0    0.0    0.0      0.0           0.0     0.0   \n",
       "1     0.0  0.0  0.0    0.0    0.0    0.0      0.0           0.0     0.0   \n",
       "2     0.0  0.0  0.0    0.0    0.0    0.0      0.0           0.0     0.0   \n",
       "3     0.0  0.0  0.0    0.0    0.0    0.0      0.0           0.0     0.0   \n",
       "4     0.0  0.0  0.0    0.0    0.0    0.0      0.0           0.0     0.0   \n",
       "...   ...  ...  ...    ...    ...    ...      ...           ...     ...   \n",
       "2495  0.0  0.0  0.0    0.0    0.0    0.0      0.0           0.0     0.0   \n",
       "2496  0.0  0.0  0.0    0.0    0.0    0.0      0.0           0.0     0.0   \n",
       "2497  0.0  0.0  0.0    0.0    0.0    0.0      0.0           0.0     0.0   \n",
       "2498  0.0  0.0  0.0    0.0    0.0    0.0      0.0           0.0     0.0   \n",
       "2499  0.0  0.0  0.0    0.0    0.0    0.0      0.0           0.0     0.0   \n",
       "\n",
       "      aadmi  ...  zonewhuev  zoolog  zoom  zorzi  zouma  zoya  zozo  \\\n",
       "0       0.0  ...        0.0     0.0   0.0    0.0    0.0   0.0   0.0   \n",
       "1       0.0  ...        0.0     0.0   0.0    0.0    0.0   0.0   0.0   \n",
       "2       0.0  ...        0.0     0.0   0.0    0.0    0.0   0.0   0.0   \n",
       "3       0.0  ...        0.0     0.0   0.0    0.0    0.0   0.0   0.0   \n",
       "4       0.0  ...        0.0     0.0   0.0    0.0    0.0   0.0   0.0   \n",
       "...     ...  ...        ...     ...   ...    ...    ...   ...   ...   \n",
       "2495    0.0  ...        0.0     0.0   0.0    0.0    0.0   0.0   0.0   \n",
       "2496    0.0  ...        0.0     0.0   0.0    0.0    0.0   0.0   0.0   \n",
       "2497    0.0  ...        0.0     0.0   0.0    0.0    0.0   0.0   0.0   \n",
       "2498    0.0  ...        0.0     0.0   0.0    0.0    0.0   0.0   0.0   \n",
       "2499    0.0  ...        0.0     0.0   0.0    0.0    0.0   0.0   0.0   \n",
       "\n",
       "      zuckerberg  zulfon  zurich  \n",
       "0            0.0     0.0     0.0  \n",
       "1            0.0     0.0     0.0  \n",
       "2            0.0     0.0     0.0  \n",
       "3            0.0     0.0     0.0  \n",
       "4            0.0     0.0     0.0  \n",
       "...          ...     ...     ...  \n",
       "2495         0.0     0.0     0.0  \n",
       "2496         0.0     0.0     0.0  \n",
       "2497         0.0     0.0     0.0  \n",
       "2498         0.0     0.0     0.0  \n",
       "2499         0.0     0.0     0.0  \n",
       "\n",
       "[2500 rows x 21003 columns]"
      ],
      "text/html": [
       "<div>\n",
       "<style scoped>\n",
       "    .dataframe tbody tr th:only-of-type {\n",
       "        vertical-align: middle;\n",
       "    }\n",
       "\n",
       "    .dataframe tbody tr th {\n",
       "        vertical-align: top;\n",
       "    }\n",
       "\n",
       "    .dataframe thead th {\n",
       "        text-align: right;\n",
       "    }\n",
       "</style>\n",
       "<table border=\"1\" class=\"dataframe\">\n",
       "  <thead>\n",
       "    <tr style=\"text-align: right;\">\n",
       "      <th></th>\n",
       "      <th>aa</th>\n",
       "      <th>aaa</th>\n",
       "      <th>aac</th>\n",
       "      <th>aacha</th>\n",
       "      <th>aacsb</th>\n",
       "      <th>aadat</th>\n",
       "      <th>aadhaar</th>\n",
       "      <th>aadhaarvalid</th>\n",
       "      <th>aadhya</th>\n",
       "      <th>aadmi</th>\n",
       "      <th>...</th>\n",
       "      <th>zonewhuev</th>\n",
       "      <th>zoolog</th>\n",
       "      <th>zoom</th>\n",
       "      <th>zorzi</th>\n",
       "      <th>zouma</th>\n",
       "      <th>zoya</th>\n",
       "      <th>zozo</th>\n",
       "      <th>zuckerberg</th>\n",
       "      <th>zulfon</th>\n",
       "      <th>zurich</th>\n",
       "    </tr>\n",
       "  </thead>\n",
       "  <tbody>\n",
       "    <tr>\n",
       "      <th>0</th>\n",
       "      <td>0.0</td>\n",
       "      <td>0.0</td>\n",
       "      <td>0.0</td>\n",
       "      <td>0.0</td>\n",
       "      <td>0.0</td>\n",
       "      <td>0.0</td>\n",
       "      <td>0.0</td>\n",
       "      <td>0.0</td>\n",
       "      <td>0.0</td>\n",
       "      <td>0.0</td>\n",
       "      <td>...</td>\n",
       "      <td>0.0</td>\n",
       "      <td>0.0</td>\n",
       "      <td>0.0</td>\n",
       "      <td>0.0</td>\n",
       "      <td>0.0</td>\n",
       "      <td>0.0</td>\n",
       "      <td>0.0</td>\n",
       "      <td>0.0</td>\n",
       "      <td>0.0</td>\n",
       "      <td>0.0</td>\n",
       "    </tr>\n",
       "    <tr>\n",
       "      <th>1</th>\n",
       "      <td>0.0</td>\n",
       "      <td>0.0</td>\n",
       "      <td>0.0</td>\n",
       "      <td>0.0</td>\n",
       "      <td>0.0</td>\n",
       "      <td>0.0</td>\n",
       "      <td>0.0</td>\n",
       "      <td>0.0</td>\n",
       "      <td>0.0</td>\n",
       "      <td>0.0</td>\n",
       "      <td>...</td>\n",
       "      <td>0.0</td>\n",
       "      <td>0.0</td>\n",
       "      <td>0.0</td>\n",
       "      <td>0.0</td>\n",
       "      <td>0.0</td>\n",
       "      <td>0.0</td>\n",
       "      <td>0.0</td>\n",
       "      <td>0.0</td>\n",
       "      <td>0.0</td>\n",
       "      <td>0.0</td>\n",
       "    </tr>\n",
       "    <tr>\n",
       "      <th>2</th>\n",
       "      <td>0.0</td>\n",
       "      <td>0.0</td>\n",
       "      <td>0.0</td>\n",
       "      <td>0.0</td>\n",
       "      <td>0.0</td>\n",
       "      <td>0.0</td>\n",
       "      <td>0.0</td>\n",
       "      <td>0.0</td>\n",
       "      <td>0.0</td>\n",
       "      <td>0.0</td>\n",
       "      <td>...</td>\n",
       "      <td>0.0</td>\n",
       "      <td>0.0</td>\n",
       "      <td>0.0</td>\n",
       "      <td>0.0</td>\n",
       "      <td>0.0</td>\n",
       "      <td>0.0</td>\n",
       "      <td>0.0</td>\n",
       "      <td>0.0</td>\n",
       "      <td>0.0</td>\n",
       "      <td>0.0</td>\n",
       "    </tr>\n",
       "    <tr>\n",
       "      <th>3</th>\n",
       "      <td>0.0</td>\n",
       "      <td>0.0</td>\n",
       "      <td>0.0</td>\n",
       "      <td>0.0</td>\n",
       "      <td>0.0</td>\n",
       "      <td>0.0</td>\n",
       "      <td>0.0</td>\n",
       "      <td>0.0</td>\n",
       "      <td>0.0</td>\n",
       "      <td>0.0</td>\n",
       "      <td>...</td>\n",
       "      <td>0.0</td>\n",
       "      <td>0.0</td>\n",
       "      <td>0.0</td>\n",
       "      <td>0.0</td>\n",
       "      <td>0.0</td>\n",
       "      <td>0.0</td>\n",
       "      <td>0.0</td>\n",
       "      <td>0.0</td>\n",
       "      <td>0.0</td>\n",
       "      <td>0.0</td>\n",
       "    </tr>\n",
       "    <tr>\n",
       "      <th>4</th>\n",
       "      <td>0.0</td>\n",
       "      <td>0.0</td>\n",
       "      <td>0.0</td>\n",
       "      <td>0.0</td>\n",
       "      <td>0.0</td>\n",
       "      <td>0.0</td>\n",
       "      <td>0.0</td>\n",
       "      <td>0.0</td>\n",
       "      <td>0.0</td>\n",
       "      <td>0.0</td>\n",
       "      <td>...</td>\n",
       "      <td>0.0</td>\n",
       "      <td>0.0</td>\n",
       "      <td>0.0</td>\n",
       "      <td>0.0</td>\n",
       "      <td>0.0</td>\n",
       "      <td>0.0</td>\n",
       "      <td>0.0</td>\n",
       "      <td>0.0</td>\n",
       "      <td>0.0</td>\n",
       "      <td>0.0</td>\n",
       "    </tr>\n",
       "    <tr>\n",
       "      <th>...</th>\n",
       "      <td>...</td>\n",
       "      <td>...</td>\n",
       "      <td>...</td>\n",
       "      <td>...</td>\n",
       "      <td>...</td>\n",
       "      <td>...</td>\n",
       "      <td>...</td>\n",
       "      <td>...</td>\n",
       "      <td>...</td>\n",
       "      <td>...</td>\n",
       "      <td>...</td>\n",
       "      <td>...</td>\n",
       "      <td>...</td>\n",
       "      <td>...</td>\n",
       "      <td>...</td>\n",
       "      <td>...</td>\n",
       "      <td>...</td>\n",
       "      <td>...</td>\n",
       "      <td>...</td>\n",
       "      <td>...</td>\n",
       "      <td>...</td>\n",
       "    </tr>\n",
       "    <tr>\n",
       "      <th>2495</th>\n",
       "      <td>0.0</td>\n",
       "      <td>0.0</td>\n",
       "      <td>0.0</td>\n",
       "      <td>0.0</td>\n",
       "      <td>0.0</td>\n",
       "      <td>0.0</td>\n",
       "      <td>0.0</td>\n",
       "      <td>0.0</td>\n",
       "      <td>0.0</td>\n",
       "      <td>0.0</td>\n",
       "      <td>...</td>\n",
       "      <td>0.0</td>\n",
       "      <td>0.0</td>\n",
       "      <td>0.0</td>\n",
       "      <td>0.0</td>\n",
       "      <td>0.0</td>\n",
       "      <td>0.0</td>\n",
       "      <td>0.0</td>\n",
       "      <td>0.0</td>\n",
       "      <td>0.0</td>\n",
       "      <td>0.0</td>\n",
       "    </tr>\n",
       "    <tr>\n",
       "      <th>2496</th>\n",
       "      <td>0.0</td>\n",
       "      <td>0.0</td>\n",
       "      <td>0.0</td>\n",
       "      <td>0.0</td>\n",
       "      <td>0.0</td>\n",
       "      <td>0.0</td>\n",
       "      <td>0.0</td>\n",
       "      <td>0.0</td>\n",
       "      <td>0.0</td>\n",
       "      <td>0.0</td>\n",
       "      <td>...</td>\n",
       "      <td>0.0</td>\n",
       "      <td>0.0</td>\n",
       "      <td>0.0</td>\n",
       "      <td>0.0</td>\n",
       "      <td>0.0</td>\n",
       "      <td>0.0</td>\n",
       "      <td>0.0</td>\n",
       "      <td>0.0</td>\n",
       "      <td>0.0</td>\n",
       "      <td>0.0</td>\n",
       "    </tr>\n",
       "    <tr>\n",
       "      <th>2497</th>\n",
       "      <td>0.0</td>\n",
       "      <td>0.0</td>\n",
       "      <td>0.0</td>\n",
       "      <td>0.0</td>\n",
       "      <td>0.0</td>\n",
       "      <td>0.0</td>\n",
       "      <td>0.0</td>\n",
       "      <td>0.0</td>\n",
       "      <td>0.0</td>\n",
       "      <td>0.0</td>\n",
       "      <td>...</td>\n",
       "      <td>0.0</td>\n",
       "      <td>0.0</td>\n",
       "      <td>0.0</td>\n",
       "      <td>0.0</td>\n",
       "      <td>0.0</td>\n",
       "      <td>0.0</td>\n",
       "      <td>0.0</td>\n",
       "      <td>0.0</td>\n",
       "      <td>0.0</td>\n",
       "      <td>0.0</td>\n",
       "    </tr>\n",
       "    <tr>\n",
       "      <th>2498</th>\n",
       "      <td>0.0</td>\n",
       "      <td>0.0</td>\n",
       "      <td>0.0</td>\n",
       "      <td>0.0</td>\n",
       "      <td>0.0</td>\n",
       "      <td>0.0</td>\n",
       "      <td>0.0</td>\n",
       "      <td>0.0</td>\n",
       "      <td>0.0</td>\n",
       "      <td>0.0</td>\n",
       "      <td>...</td>\n",
       "      <td>0.0</td>\n",
       "      <td>0.0</td>\n",
       "      <td>0.0</td>\n",
       "      <td>0.0</td>\n",
       "      <td>0.0</td>\n",
       "      <td>0.0</td>\n",
       "      <td>0.0</td>\n",
       "      <td>0.0</td>\n",
       "      <td>0.0</td>\n",
       "      <td>0.0</td>\n",
       "    </tr>\n",
       "    <tr>\n",
       "      <th>2499</th>\n",
       "      <td>0.0</td>\n",
       "      <td>0.0</td>\n",
       "      <td>0.0</td>\n",
       "      <td>0.0</td>\n",
       "      <td>0.0</td>\n",
       "      <td>0.0</td>\n",
       "      <td>0.0</td>\n",
       "      <td>0.0</td>\n",
       "      <td>0.0</td>\n",
       "      <td>0.0</td>\n",
       "      <td>...</td>\n",
       "      <td>0.0</td>\n",
       "      <td>0.0</td>\n",
       "      <td>0.0</td>\n",
       "      <td>0.0</td>\n",
       "      <td>0.0</td>\n",
       "      <td>0.0</td>\n",
       "      <td>0.0</td>\n",
       "      <td>0.0</td>\n",
       "      <td>0.0</td>\n",
       "      <td>0.0</td>\n",
       "    </tr>\n",
       "  </tbody>\n",
       "</table>\n",
       "<p>2500 rows × 21003 columns</p>\n",
       "</div>"
      ]
     },
     "execution_count": 12,
     "metadata": {},
     "output_type": "execute_result"
    }
   ],
   "execution_count": 12
  },
  {
   "metadata": {
    "ExecuteTime": {
     "end_time": "2024-05-21T03:23:16.698375Z",
     "start_time": "2024-05-21T03:23:15.239802Z"
    }
   },
   "cell_type": "code",
   "source": [
    "from sklearn.decomposition import LatentDirichletAllocation\n",
    "\n",
    "# Fit LDA model\n",
    "n_topics = 5  # Number of topics to extract\n",
    "lda = LatentDirichletAllocation(n_components=n_topics, random_state=42)\n",
    "lda.fit(vectorized_data)\n",
    "\n",
    "# Get the topic distribution for each document\n",
    "topic_distribution = lda.transform(vectorized_data)\n",
    "d = data.copy()\n",
    "d['topic'] = np.argmax(topic_distribution, axis=1)"
   ],
   "id": "1454374be7371c03",
   "outputs": [],
   "execution_count": 13
  },
  {
   "metadata": {
    "ExecuteTime": {
     "end_time": "2024-05-21T03:23:16.701781Z",
     "start_time": "2024-05-21T03:23:16.698878Z"
    }
   },
   "cell_type": "code",
   "source": "d['topic'].value_counts()",
   "id": "979f23a1490e6e74",
   "outputs": [
    {
     "data": {
      "text/plain": [
       "topic\n",
       "2    619\n",
       "4    602\n",
       "3    428\n",
       "1    426\n",
       "0    425\n",
       "Name: count, dtype: int64"
      ]
     },
     "execution_count": 14,
     "metadata": {},
     "output_type": "execute_result"
    }
   ],
   "execution_count": 14
  },
  {
   "metadata": {
    "ExecuteTime": {
     "end_time": "2024-05-21T03:23:16.717113Z",
     "start_time": "2024-05-21T03:23:16.702285Z"
    }
   },
   "cell_type": "code",
   "source": [
    "# Print the top words for each topic\n",
    "def print_top_words(model, feature_names, n_top_words):\n",
    "    for topic_idx, topic in enumerate(model.components_):\n",
    "        print(f\"Topic #{topic_idx}:\")\n",
    "        print(\" \".join([feature_names[i] for i in topic.argsort()[:-n_top_words - 1:-1]]))\n",
    "    print()\n",
    "\n",
    "n_top_words = 20\n",
    "print(\"Topics in LDA model:\")\n",
    "tf_feature_names = vectorizer.get_feature_names_out()\n",
    "print_top_words(lda, tf_feature_names, n_top_words)\n",
    "\n",
    "# Count the number of articles for each topic\n",
    "topic_counts = d['topic'].value_counts()\n",
    "print(\"Number of articles per topic:\")\n",
    "print(topic_counts)"
   ],
   "id": "8d16f27193c9b8c8",
   "outputs": [
    {
     "name": "stdout",
     "output_type": "stream",
     "text": [
      "Topics in LDA model:\n",
      "Topic #0:\n",
      "exam khan india univers ug class first indian new australia cbse boman ctet world said student say cuet board neet\n",
      "Topic #1:\n",
      "result cuet check exam jee student offici websit khan ug india declar main iit year say test releas june nta\n",
      "Topic #2:\n",
      "rs cent per crore collect film india offic day box year inflat sensex rbi said khan bank anim point report\n",
      "Topic #3:\n",
      "india student say year rs kapoor ai open univers khan indian new neet gold cricket watch women said world first\n",
      "Topic #4:\n",
      "googl ai new india galaxi featur neet counsel samsung appl launch news today watch tech ug user app share pro\n",
      "\n",
      "Number of articles per topic:\n",
      "topic\n",
      "2    619\n",
      "4    602\n",
      "3    428\n",
      "1    426\n",
      "0    425\n",
      "Name: count, dtype: int64\n"
     ]
    }
   ],
   "execution_count": 15
  },
  {
   "cell_type": "markdown",
   "source": [
    "### Clustering"
   ],
   "metadata": {
    "collapsed": false
   },
   "id": "5c15dab35506fa78"
  },
  {
   "metadata": {},
   "cell_type": "markdown",
   "source": "### KMeans",
   "id": "411dd49b4e5b9938"
  },
  {
   "cell_type": "code",
   "source": [
    "cp.elbow_method_plot(KMeans(random_state=42, n_init=10), tfidf_features, max_k=12)\n",
    "cp.elbow_method_plot(KMeans(random_state=42, n_init=10), cosine_distances(tfidf_features), max_k=12, distance_metric='cosine')"
   ],
   "metadata": {
    "collapsed": false,
    "ExecuteTime": {
     "end_time": "2024-05-21T03:23:35.006868Z",
     "start_time": "2024-05-21T03:23:16.720987Z"
    }
   },
   "id": "926484d199439c65",
   "outputs": [
    {
     "data": {
      "text/plain": [
       "<Figure size 800x550 with 2 Axes>"
      ],
      "image/png": "[encoded data removed]"
     },
     "metadata": {},
     "output_type": "display_data"
    },
    {
     "data": {
      "text/plain": [
       "<Figure size 800x550 with 2 Axes>"
      ],
      "image/png": "[encoded data removed]"
     },
     "metadata": {},
     "output_type": "display_data"
    }
   ],
   "execution_count": 17
  },
  {
   "cell_type": "code",
   "source": [
    "num_clusters = 5\n",
    "kmeans = KMeans(n_clusters=num_clusters, random_state=42)\n",
    "kmeans.fit(cosine_distances(tfidf_features))\n",
    "cluster_labels = kmeans.labels_\n",
    "kmeans_df = tfidf_features.copy()\n",
    "\n",
    "# Evaluate clustering using silhouette score (optional)\n",
    "silhouette_avg = silhouette_score(tfidf_features, cluster_labels)\n",
    "print(\"Silhouette Score:\", silhouette_avg)\n",
    "print(\"Inertia:\", kmeans.inertia_)\n",
    "\n",
    "# Assign cluster labels to documents in the dataset\n",
    "kmeans_df['cluster'] = cluster_labels"
   ],
   "metadata": {
    "collapsed": false,
    "ExecuteTime": {
     "end_time": "2024-05-21T03:23:36.416224Z",
     "start_time": "2024-05-21T03:23:35.007370Z"
    }
   },
   "id": "a94921c56855b84b",
   "outputs": [
    {
     "name": "stdout",
     "output_type": "stream",
     "text": [
      "Silhouette Score: 0.0027688192729526952\n",
      "Inertia: 3743.6897966472225\n"
     ]
    }
   ],
   "execution_count": 18
  },
  {
   "metadata": {
    "jupyter": {
     "is_executing": true
    },
    "ExecuteTime": {
     "start_time": "2024-05-21T03:23:36.416727Z"
    }
   },
   "cell_type": "code",
   "source": "cv.cv_statistics(kmeans, cluster_labels, kmeans_df, num_clusters, metric='cosine')",
   "id": "21157c831b512476",
   "outputs": [],
   "execution_count": null
  },
  {
   "cell_type": "code",
   "source": "kmeans_df['cluster'].value_counts()",
   "metadata": {
    "collapsed": false,
    "jupyter": {
     "is_executing": true
    }
   },
   "id": "8384194cf45901ce",
   "outputs": [],
   "execution_count": null
  },
  {
   "cell_type": "code",
   "source": [
    "centroids = kmeans.cluster_centers_\n",
    "feature_names = vectorizer.get_feature_names_out()\n",
    "\n",
    "# print top words for each cluster\n",
    "for i in range(num_clusters):\n",
    "    cluster_center = centroids[i]\n",
    "    top_indices = cluster_center.argsort()[::-1][:10]  # Get indices of top 10 words\n",
    "    top_words = [feature_names[idx] for idx in top_indices]  # Map indices to words\n",
    "    print(f\"Cluster {i+1}: {', '.join(top_words)}\")"
   ],
   "metadata": {
    "collapsed": false,
    "jupyter": {
     "is_executing": true
    }
   },
   "id": "c4b36c1c1d52e717",
   "outputs": [],
   "execution_count": null
  },
  {
   "metadata": {
    "jupyter": {
     "is_executing": true
    }
   },
   "cell_type": "code",
   "source": [
    "tfidf = TfidfVectorizer()\n",
    "tfidf.fit(data.preprocessed_concat)\n",
    "text = tfidf.transform(data.preprocessed_concat)\n",
    "text = cosine_distances(text)\n",
    "kmeans = KMeans(n_clusters=5, random_state=20)\n",
    "clusters = kmeans.fit_predict(text)\n",
    "\n",
    "cp.plot_clusters_2d_all(text, clusters)"
   ],
   "id": "77ce6ee5526a1e9a",
   "outputs": [],
   "execution_count": null
  },
  {
   "metadata": {
    "jupyter": {
     "is_executing": true
    }
   },
   "cell_type": "code",
   "source": "cp.plot_clusters_3d_all(text, clusters)",
   "id": "5b293c4041995032",
   "outputs": [],
   "execution_count": null
  },
  {
   "metadata": {
    "jupyter": {
     "is_executing": true
    }
   },
   "cell_type": "code",
   "source": [
    "centroids = kmeans.cluster_centers_\n",
    "feature_names = tfidf.get_feature_names_out()\n",
    "num_clusters = 5\n",
    "\n",
    "# print top words for each cluster\n",
    "for i in range(num_clusters):\n",
    "    cluster_center = centroids[i]\n",
    "    top_indices = cluster_center.argsort()[::-1][:10]  # Get indices of top 10 words\n",
    "    top_words = [feature_names[idx] for idx in top_indices]  # Map indices to words\n",
    "    print(f\"Cluster {i+1}: {', '.join(top_words)}\")"
   ],
   "id": "2a304f02b670cd22",
   "outputs": [],
   "execution_count": null
  },
  {
   "metadata": {},
   "cell_type": "markdown",
   "source": "### Bisecting KMeans",
   "id": "62a5cc94f6c9b9b9"
  },
  {
   "metadata": {
    "jupyter": {
     "is_executing": true
    }
   },
   "cell_type": "code",
   "source": "",
   "id": "e1a40b200511e599",
   "outputs": [],
   "execution_count": null
  },
  {
   "metadata": {
    "jupyter": {
     "is_executing": true
    }
   },
   "cell_type": "code",
   "source": [
    "tfidf_features = vectorized_data_df\n",
    "num_clusters = 7\n",
    "bkmeans = BisectingKMeans(n_clusters=num_clusters, random_state=42)\n",
    "bkmeans.fit(tfidf_features)\n",
    "cluster_labels = bkmeans.labels_\n",
    "\n",
    "# Evaluate clustering using silhouette score\n",
    "silhouette_avg = silhouette_score(tfidf_features, cluster_labels)\n",
    "print(\"Silhouette Score:\", silhouette_avg)\n",
    "print(\"Inertia:\", bkmeans.inertia_)\n",
    "\n",
    "# Assign cluster labels to documents in the dataset\n",
    "tfidf_features['cluster'] = cluster_labels"
   ],
   "id": "cb1cb9fe011b0b4b",
   "outputs": [],
   "execution_count": null
  },
  {
   "metadata": {},
   "cell_type": "markdown",
   "source": "### KMedoids",
   "id": "75fea3763ce19a06"
  },
  {
   "metadata": {
    "jupyter": {
     "is_executing": true
    }
   },
   "cell_type": "code",
   "source": [
    "tfidf_features = vectorized_data_df\n",
    "num_clusters = 7\n",
    "kmedoids = KMedoids(n_clusters=num_clusters, random_state=42)\n",
    "kmedoids.fit(tfidf_features)\n",
    "cluster_labels = kmedoids.labels_\n",
    "\n",
    "# Evaluate clustering using silhouette score\n",
    "silhouette_avg = silhouette_score(tfidf_features, cluster_labels)\n",
    "print(\"Silhouette Score:\", silhouette_avg)\n",
    "print(\"Inertia:\", kmedoids.inertia_)\n",
    "\n",
    "# Assign cluster labels to documents in the dataset\n",
    "tfidf_features['cluster'] = cluster_labels"
   ],
   "id": "140872d7021bc5bb",
   "outputs": [],
   "execution_count": null
  },
  {
   "cell_type": "code",
   "source": [
    "tfidf_features = vectorized_data_df\n",
    "num_clusters = 7\n",
    "kmedoids = KMedoids(n_clusters=num_clusters, random_state=42, metric='cosine')\n",
    "kmedoids.fit(tfidf_features)\n",
    "cluster_labels = kmedoids.labels_\n",
    "\n",
    "# Evaluate clustering using silhouette score\n",
    "silhouette_avg = silhouette_score(tfidf_features, cluster_labels)\n",
    "print(\"Silhouette Score:\", silhouette_avg)\n",
    "print(\"Inertia:\", kmedoids.inertia_)\n",
    "\n",
    "# Assign cluster labels to documents in the dataset\n",
    "tfidf_features['cluster'] = cluster_labels"
   ],
   "metadata": {
    "collapsed": false,
    "jupyter": {
     "is_executing": true
    }
   },
   "id": "4c91eea35b5ca227",
   "outputs": [],
   "execution_count": null
  },
  {
   "metadata": {},
   "cell_type": "markdown",
   "source": "### DBSCAN",
   "id": "4359b24cda2775f5"
  },
  {
   "metadata": {
    "jupyter": {
     "is_executing": true
    }
   },
   "cell_type": "code",
   "source": "plot_k_distance_graph(text, k=8)",
   "id": "9fcee12a964ff93d",
   "outputs": [],
   "execution_count": null
  },
  {
   "metadata": {
    "jupyter": {
     "is_executing": true
    }
   },
   "cell_type": "code",
   "source": [
    "# Perform DBSCAN clustering\n",
    "dbscan = DBSCAN(eps=1.55, min_samples=8, metric='cosine')\n",
    "clusters = dbscan.fit_predict(text)"
   ],
   "id": "c764c037c6cc6b17",
   "outputs": [],
   "execution_count": null
  },
  {
   "metadata": {
    "jupyter": {
     "is_executing": true
    }
   },
   "cell_type": "code",
   "source": [
    "# check amount of items per cluster\n",
    "unique, counts = np.unique(clusters, return_counts=True)\n",
    "# print amount of items per cluster\n",
    "dict(zip(unique, counts))"
   ],
   "id": "3da30ca5b001324",
   "outputs": [],
   "execution_count": null
  },
  {
   "metadata": {},
   "cell_type": "markdown",
   "source": "### Expectation Maximization",
   "id": "455b3dc1f6b4abc6"
  },
  {
   "metadata": {
    "jupyter": {
     "is_executing": true
    }
   },
   "cell_type": "code",
   "source": [
    "tfidf_features = vectorized_data_df\n",
    "num_clusters = 5\n",
    "em = GaussianMixture(n_components=num_clusters, random_state=42, max_iter=20)\n",
    "em.fit(tfidf_features)\n",
    "cluster_labels = em.predict(tfidf_features)\n",
    "\n",
    "# Evaluate clustering using silhouette score\n",
    "silhouette_avg = silhouette_score(tfidf_features, cluster_labels)\n",
    "print(\"Silhouette Score:\", silhouette_avg)\n",
    "print(\"BIC:\", em.bic(tfidf_features))"
   ],
   "id": "71a32f98035ffa17",
   "outputs": [],
   "execution_count": null
  },
  {
   "metadata": {
    "jupyter": {
     "is_executing": true
    }
   },
   "cell_type": "code",
   "source": [
    "# Vectorize the text data\n",
    "tfidf = TfidfVectorizer()\n",
    "tfidf.fit(data.preprocessed_concat)\n",
    "text = tfidf.transform(data.preprocessed_concat)\n",
    "\n",
    "def plot_bic_aic(text_data, max_components=10):\n",
    "    bic = []\n",
    "    aic = []\n",
    "    n_components_range = range(1, max_components + 1)\n",
    "    \n",
    "    for n_components in n_components_range:\n",
    "        gmm = GaussianMixture(n_components=n_components, random_state=42)\n",
    "        gmm.fit(text_data.toarray())\n",
    "        bic.append(gmm.bic(text_data.toarray()))\n",
    "        aic.append(gmm.aic(text_data.toarray()))\n",
    "    \n",
    "    plt.figure(figsize=(12, 6))\n",
    "    \n",
    "    plt.subplot(1, 2, 1)\n",
    "    plt.plot(n_components_range, bic, marker='o', label='BIC')\n",
    "    plt.xlabel('Number of components')\n",
    "    plt.ylabel('BIC')\n",
    "    plt.title('BIC vs. Number of components')\n",
    "    plt.legend()\n",
    "    \n",
    "    plt.subplot(1, 2, 2)\n",
    "    plt.plot(n_components_range, aic, marker='o', label='AIC')\n",
    "    plt.xlabel('Number of components')\n",
    "    plt.ylabel('AIC')\n",
    "    plt.title('AIC vs. Number of components')\n",
    "    plt.legend()\n",
    "    \n",
    "    plt.tight_layout()\n",
    "    plt.show()\n",
    "\n",
    "# Example usage\n",
    "# plot_bic_aic(text, max_components=10)"
   ],
   "id": "272cf7e6fa215f5c",
   "outputs": [],
   "execution_count": null
  },
  {
   "metadata": {
    "jupyter": {
     "is_executing": true
    }
   },
   "cell_type": "code",
   "source": [
    "def cross_val_log_likelihood(text_data, max_components=10):\n",
    "    n_components_range = range(1, max_components + 1)\n",
    "    log_likelihoods = []\n",
    "    \n",
    "    skf = StratifiedKFold(n_splits=5, shuffle=True, random_state=42)\n",
    "    \n",
    "    for n_components in n_components_range:\n",
    "        gmm = GaussianMixture(n_components=n_components, random_state=42)\n",
    "        log_likelihood = 0\n",
    "        \n",
    "        for train_index, test_index in skf.split(text_data, np.zeros(text_data.shape[0])):\n",
    "            gmm.fit(text_data[train_index].toarray())\n",
    "            log_likelihood += gmm.score(text_data[test_index].toarray())\n",
    "        \n",
    "        log_likelihoods.append(log_likelihood / skf.n_splits)\n",
    "    \n",
    "    plt.figure(figsize=(8, 6))\n",
    "    plt.plot(n_components_range, log_likelihoods, marker='o')\n",
    "    plt.xlabel('Number of components')\n",
    "    plt.ylabel('Log-Likelihood')\n",
    "    plt.title('Log-Likelihood vs. Number of components')\n",
    "    plt.grid(True)\n",
    "    plt.show()\n",
    "\n",
    "# Example usage\n",
    "# cross_val_log_likelihood(text, max_components=10)"
   ],
   "id": "eb788edf091a6aad",
   "outputs": [],
   "execution_count": null
  },
  {
   "metadata": {},
   "cell_type": "markdown",
   "source": "### Hierarchical Clustering",
   "id": "906eeee2b2696440"
  },
  {
   "metadata": {},
   "cell_type": "markdown",
   "source": "#### Agglomerative Clustering",
   "id": "5dbd56e24d8fe4c1"
  },
  {
   "metadata": {
    "jupyter": {
     "is_executing": true
    }
   },
   "cell_type": "code",
   "source": [
    "tfidf_features = vectorized_data_df\n",
    "num_clusters = 7\n",
    "agg = AgglomerativeClustering(n_clusters=num_clusters, metric='cosine', linkage='average')\n",
    "agg.fit(tfidf_features)\n",
    "cluster_labels = agg.labels_\n",
    "\n",
    "# Evaluate clustering using silhouette score\n",
    "silhouette_avg = silhouette_score(tfidf_features, cluster_labels)\n",
    "print(\"Silhouette Score:\", silhouette_avg)"
   ],
   "id": "da49e5f26026e05",
   "outputs": [],
   "execution_count": null
  },
  {
   "metadata": {
    "jupyter": {
     "is_executing": true
    }
   },
   "cell_type": "code",
   "source": [
    "\n",
    "# data = pd.DataFrame({'preprocessed_concat': [\"This is the first document.\", \"This document is the second document.\", \n",
    "#                                              \"And this is the third one.\", \"Is this the first document?\"]})\n",
    "# Vectorize the text data\n",
    "# tfidf = TfidfVectorizer()\n",
    "# tfidf.fit(data.preprocessed_concat)\n",
    "# text = tfidf.transform(data.preprocessed_concat)\n",
    "\n",
    "\n",
    "# Perform K-Means Clustering\n",
    "# kmeans = KMeans(n_clusters=7, random_state=42)\n",
    "# clusters = kmeans.fit_predict(vectorized_data)\n",
    "# \n",
    "# # Measure Cluster Validity\n",
    "# correlation = correlation(vectorized_data, clusters, metric='cosine')\n",
    "# print(f'Cluster Validity Correlation: {correlation:.3f}')"
   ],
   "id": "6e0520b61b791acf",
   "outputs": [],
   "execution_count": null
  },
  {
   "metadata": {
    "jupyter": {
     "is_executing": true
    }
   },
   "cell_type": "code",
   "source": [
    "# print all entries per cluster\n",
    "for i in range(7):\n",
    "    print(f'Cluster {i}:')\n",
    "    print(data_preprocessed[clusters == i])\n",
    "    print()"
   ],
   "id": "48a554f22f97a6d2",
   "outputs": [],
   "execution_count": null
  },
  {
   "metadata": {
    "jupyter": {
     "is_executing": true
    }
   },
   "cell_type": "code",
   "source": [
    "kmeans = KMeans(n_clusters=6, random_state=42)\n",
    "clusters = kmeans.fit_predict(cosine_distances(vectorized_data_df))\n",
    "\n",
    "cv.cv_similarity_matrix(vectorized_data_df, clusters, metric='euclidean')"
   ],
   "id": "a1a29e4bfb3b4d0c",
   "outputs": [],
   "execution_count": null
  }
 ],
 "metadata": {
  "kernelspec": {
   "display_name": "Python 3",
   "language": "python",
   "name": "python3"
  },
  "language_info": {
   "codemirror_mode": {
    "name": "ipython",
    "version": 2
   },
   "file_extension": ".py",
   "mimetype": "text/x-python",
   "name": "python",
   "nbconvert_exporter": "python",
   "pygments_lexer": "ipython2",
   "version": "2.7.6"
  }
 },
 "nbformat": 4,
 "nbformat_minor": 5
}
