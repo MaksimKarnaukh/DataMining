{
 "cells": [
  {
   "cell_type": "code",
   "execution_count": 1,
   "id": "initial_id",
   "metadata": {
    "collapsed": true,
    "ExecuteTime": {
     "end_time": "2024-05-06T20:45:21.829612400Z",
     "start_time": "2024-05-06T20:45:21.822260600Z"
    }
   },
   "outputs": [],
   "source": [
    "import pandas as pd\n",
    "import matplotlib\n",
    "from matplotlib import pyplot as plt\n",
    "import seaborn as sns\n",
    "from helper_functions import load_dataset, save_dataset"
   ]
  },
  {
   "cell_type": "markdown",
   "source": [
    "### Loading the dataset"
   ],
   "metadata": {
    "collapsed": false
   },
   "id": "c78e6b2511ae4d27"
  },
  {
   "cell_type": "code",
   "outputs": [],
   "source": [
    "data = load_dataset(\"../data/assignment3_articles.xlsx\")"
   ],
   "metadata": {
    "collapsed": false,
    "ExecuteTime": {
     "end_time": "2024-05-06T20:45:24.017446400Z",
     "start_time": "2024-05-06T20:45:21.831607100Z"
    }
   },
   "id": "4e165449a3c30d28",
   "execution_count": 2
  },
  {
   "cell_type": "markdown",
   "source": [
    "## 1) Data Inspection and Preparation"
   ],
   "metadata": {
    "collapsed": false
   },
   "id": "db16e4e109a979a7"
  },
  {
   "cell_type": "markdown",
   "source": [
    "First, we do some basic inspection of the dataset, such as checking the first few rows, the data types, the amount of missing values, and the value counts of certain columns."
   ],
   "metadata": {
    "collapsed": false
   },
   "id": "e699f54b26baa87"
  },
  {
   "cell_type": "code",
   "outputs": [
    {
     "data": {
      "text/plain": "   Unnamed: 0                                          headlines  \\\n0           0  Rupee ends 1 paisa lower at 83.38 against US d...   \n1           1  India vs Syria Live Streaming, AFC Asian Cup 2...   \n2           2  PM Modi to interact with VCs, teachers, studen...   \n3           3  How to remove bloatware apps from Samsung, Rea...   \n4           4  NEET SS 2023 result declared; counselling sche...   \n\n                                         description  \\\n0  Besides, selling pressure in the domestic equi...   \n1  AFC Asian Cup Live Streaming, India vs Syria F...   \n2  G20 University Connect: The commission has ask...   \n3  Smartphone companies often ship Android phones...   \n4  NEET SS 2023 Result: Candidates who appeared f...   \n\n                                             content  \n0  The rupee consolidated in a narrow range and s...  \n1  India vs Syria AFC Asia Cup Live Streaming Det...  \n2  The University Grants Commission (UGC) is orga...  \n3  Smartphone manufacturers often pack new Androi...  \n4  The National Board of Examinations Medical Sci...  ",
      "text/html": "<div>\n<style scoped>\n    .dataframe tbody tr th:only-of-type {\n        vertical-align: middle;\n    }\n\n    .dataframe tbody tr th {\n        vertical-align: top;\n    }\n\n    .dataframe thead th {\n        text-align: right;\n    }\n</style>\n<table border=\"1\" class=\"dataframe\">\n  <thead>\n    <tr style=\"text-align: right;\">\n      <th></th>\n      <th>Unnamed: 0</th>\n      <th>headlines</th>\n      <th>description</th>\n      <th>content</th>\n    </tr>\n  </thead>\n  <tbody>\n    <tr>\n      <th>0</th>\n      <td>0</td>\n      <td>Rupee ends 1 paisa lower at 83.38 against US d...</td>\n      <td>Besides, selling pressure in the domestic equi...</td>\n      <td>The rupee consolidated in a narrow range and s...</td>\n    </tr>\n    <tr>\n      <th>1</th>\n      <td>1</td>\n      <td>India vs Syria Live Streaming, AFC Asian Cup 2...</td>\n      <td>AFC Asian Cup Live Streaming, India vs Syria F...</td>\n      <td>India vs Syria AFC Asia Cup Live Streaming Det...</td>\n    </tr>\n    <tr>\n      <th>2</th>\n      <td>2</td>\n      <td>PM Modi to interact with VCs, teachers, studen...</td>\n      <td>G20 University Connect: The commission has ask...</td>\n      <td>The University Grants Commission (UGC) is orga...</td>\n    </tr>\n    <tr>\n      <th>3</th>\n      <td>3</td>\n      <td>How to remove bloatware apps from Samsung, Rea...</td>\n      <td>Smartphone companies often ship Android phones...</td>\n      <td>Smartphone manufacturers often pack new Androi...</td>\n    </tr>\n    <tr>\n      <th>4</th>\n      <td>4</td>\n      <td>NEET SS 2023 result declared; counselling sche...</td>\n      <td>NEET SS 2023 Result: Candidates who appeared f...</td>\n      <td>The National Board of Examinations Medical Sci...</td>\n    </tr>\n  </tbody>\n</table>\n</div>"
     },
     "execution_count": 3,
     "metadata": {},
     "output_type": "execute_result"
    }
   ],
   "source": [
    "data.head()"
   ],
   "metadata": {
    "collapsed": false,
    "ExecuteTime": {
     "end_time": "2024-05-06T20:45:24.062561Z",
     "start_time": "2024-05-06T20:45:24.020430100Z"
    }
   },
   "id": "ceefc662128d139d",
   "execution_count": 3
  },
  {
   "cell_type": "code",
   "outputs": [
    {
     "name": "stdout",
     "output_type": "stream",
     "text": [
      "<class 'pandas.core.frame.DataFrame'>\n",
      "RangeIndex: 2500 entries, 0 to 2499\n",
      "Data columns (total 4 columns):\n",
      " #   Column       Non-Null Count  Dtype \n",
      "---  ------       --------------  ----- \n",
      " 0   Unnamed: 0   2500 non-null   int64 \n",
      " 1   headlines    2500 non-null   object\n",
      " 2   description  2500 non-null   object\n",
      " 3   content      2500 non-null   object\n",
      "dtypes: int64(1), object(3)\n",
      "memory usage: 78.3+ KB\n"
     ]
    }
   ],
   "source": [
    "data.info()"
   ],
   "metadata": {
    "collapsed": false,
    "ExecuteTime": {
     "end_time": "2024-05-06T20:45:24.084505600Z",
     "start_time": "2024-05-06T20:45:24.059569300Z"
    }
   },
   "id": "698a43f7eb28c035",
   "execution_count": 4
  },
  {
   "cell_type": "code",
   "outputs": [
    {
     "data": {
      "text/plain": "       Unnamed: 0\ncount  2500.00000\nmean   1249.50000\nstd     721.83216\nmin       0.00000\n25%     624.75000\n50%    1249.50000\n75%    1874.25000\nmax    2499.00000",
      "text/html": "<div>\n<style scoped>\n    .dataframe tbody tr th:only-of-type {\n        vertical-align: middle;\n    }\n\n    .dataframe tbody tr th {\n        vertical-align: top;\n    }\n\n    .dataframe thead th {\n        text-align: right;\n    }\n</style>\n<table border=\"1\" class=\"dataframe\">\n  <thead>\n    <tr style=\"text-align: right;\">\n      <th></th>\n      <th>Unnamed: 0</th>\n    </tr>\n  </thead>\n  <tbody>\n    <tr>\n      <th>count</th>\n      <td>2500.00000</td>\n    </tr>\n    <tr>\n      <th>mean</th>\n      <td>1249.50000</td>\n    </tr>\n    <tr>\n      <th>std</th>\n      <td>721.83216</td>\n    </tr>\n    <tr>\n      <th>min</th>\n      <td>0.00000</td>\n    </tr>\n    <tr>\n      <th>25%</th>\n      <td>624.75000</td>\n    </tr>\n    <tr>\n      <th>50%</th>\n      <td>1249.50000</td>\n    </tr>\n    <tr>\n      <th>75%</th>\n      <td>1874.25000</td>\n    </tr>\n    <tr>\n      <th>max</th>\n      <td>2499.00000</td>\n    </tr>\n  </tbody>\n</table>\n</div>"
     },
     "execution_count": 5,
     "metadata": {},
     "output_type": "execute_result"
    }
   ],
   "source": [
    "data.describe()"
   ],
   "metadata": {
    "collapsed": false,
    "ExecuteTime": {
     "end_time": "2024-05-06T20:45:24.138402600Z",
     "start_time": "2024-05-06T20:45:24.084505600Z"
    }
   },
   "id": "511450a96d14e84c",
   "execution_count": 5
  },
  {
   "cell_type": "code",
   "outputs": [
    {
     "data": {
      "text/plain": "Unnamed: 0     0\nheadlines      0\ndescription    0\ncontent        0\ndtype: int64"
     },
     "execution_count": 6,
     "metadata": {},
     "output_type": "execute_result"
    }
   ],
   "source": [
    "data.isnull().sum() # check amount of missing values per column"
   ],
   "metadata": {
    "collapsed": false,
    "ExecuteTime": {
     "end_time": "2024-05-06T20:45:24.195250200Z",
     "start_time": "2024-05-06T20:45:24.098853100Z"
    }
   },
   "id": "124c81f4a0471fa2",
   "execution_count": 6
  }
 ],
 "metadata": {
  "kernelspec": {
   "display_name": "Python 3",
   "language": "python",
   "name": "python3"
  },
  "language_info": {
   "codemirror_mode": {
    "name": "ipython",
    "version": 2
   },
   "file_extension": ".py",
   "mimetype": "text/x-python",
   "name": "python",
   "nbconvert_exporter": "python",
   "pygments_lexer": "ipython2",
   "version": "2.7.6"
  }
 },
 "nbformat": 4,
 "nbformat_minor": 5
}
