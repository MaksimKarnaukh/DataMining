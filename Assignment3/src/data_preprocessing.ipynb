{
 "cells": [
  {
   "cell_type": "code",
   "execution_count": 11,
   "id": "initial_id",
   "metadata": {
    "collapsed": true,
    "ExecuteTime": {
     "end_time": "2024-05-07T04:00:32.672966900Z",
     "start_time": "2024-05-07T04:00:32.619110500Z"
    }
   },
   "outputs": [],
   "source": [
    "import pandas as pd\n",
    "import matplotlib\n",
    "from matplotlib import pyplot as plt\n",
    "import seaborn as sns\n",
    "from helper_functions import load_dataset, save_dataset"
   ]
  },
  {
   "cell_type": "markdown",
   "source": [
    "### Loading the dataset"
   ],
   "metadata": {
    "collapsed": false
   },
   "id": "c78e6b2511ae4d27"
  },
  {
   "cell_type": "code",
   "outputs": [],
   "source": [
    "data = load_dataset(\"../data/assignment3_articles.xlsx\")"
   ],
   "metadata": {
    "collapsed": false,
    "ExecuteTime": {
     "end_time": "2024-05-07T04:00:33.028090300Z",
     "start_time": "2024-05-07T04:00:32.674961100Z"
    }
   },
   "id": "4e165449a3c30d28",
   "execution_count": 12
  },
  {
   "cell_type": "markdown",
   "source": [
    "## 1) Data Inspection and Preparation"
   ],
   "metadata": {
    "collapsed": false
   },
   "id": "db16e4e109a979a7"
  },
  {
   "cell_type": "markdown",
   "source": [
    "First, we do some basic inspection of the dataset, such as checking the first few rows, the data types, the amount of missing values, and the value counts of certain columns."
   ],
   "metadata": {
    "collapsed": false
   },
   "id": "e699f54b26baa87"
  },
  {
   "cell_type": "code",
   "outputs": [
    {
     "data": {
      "text/plain": "      Unnamed: 0                                          headlines  \\\n0              0  Rupee ends 1 paisa lower at 83.38 against US d...   \n1              1  India vs Syria Live Streaming, AFC Asian Cup 2...   \n2              2  PM Modi to interact with VCs, teachers, studen...   \n3              3  How to remove bloatware apps from Samsung, Rea...   \n4              4  NEET SS 2023 result declared; counselling sche...   \n...          ...                                                ...   \n2495        2495  Google Search and Lens can now visualise STEM ...   \n2496        2496  Arsenal’s Partey an injury doubt as Arteta rel...   \n2497        2497  iQOO 12 will get 3 Android updates, will not h...   \n2498        2498  Lava Blaze Pro 5G review: Is this the best 5G ...   \n2499        2499  Karan Johar breaks down economics of cinema, r...   \n\n                                            description  \\\n0     Besides, selling pressure in the domestic equi...   \n1     AFC Asian Cup Live Streaming, India vs Syria F...   \n2     G20 University Connect: The commission has ask...   \n3     Smartphone companies often ship Android phones...   \n4     NEET SS 2023 Result: Candidates who appeared f...   \n...                                                 ...   \n2495  Google Search and Lens can now help students w...   \n2496  Partey came off at halftime during Arsenal's F...   \n2497  iQOO says its upcoming flagship phone, running...   \n2498  Lava Blaze Pro 5G is an excellent 5G smartphon...   \n2499  Filmmaker Karan Johar spoke about the business...   \n\n                                                content  \n0     The rupee consolidated in a narrow range and s...  \n1     India vs Syria AFC Asia Cup Live Streaming Det...  \n2     The University Grants Commission (UGC) is orga...  \n3     Smartphone manufacturers often pack new Androi...  \n4     The National Board of Examinations Medical Sci...  \n...                                                 ...  \n2495  Google has been consistently improving its Sea...  \n2496  Arsenal midfielder Thomas Partey is still an i...  \n2497  iQOO is all set to launch its upcoming flagshi...  \n2498  In less than a year, India has accounted for o...  \n2499  Film production as a business is rife with ris...  \n\n[2500 rows x 4 columns]",
      "text/html": "<div>\n<style scoped>\n    .dataframe tbody tr th:only-of-type {\n        vertical-align: middle;\n    }\n\n    .dataframe tbody tr th {\n        vertical-align: top;\n    }\n\n    .dataframe thead th {\n        text-align: right;\n    }\n</style>\n<table border=\"1\" class=\"dataframe\">\n  <thead>\n    <tr style=\"text-align: right;\">\n      <th></th>\n      <th>Unnamed: 0</th>\n      <th>headlines</th>\n      <th>description</th>\n      <th>content</th>\n    </tr>\n  </thead>\n  <tbody>\n    <tr>\n      <th>0</th>\n      <td>0</td>\n      <td>Rupee ends 1 paisa lower at 83.38 against US d...</td>\n      <td>Besides, selling pressure in the domestic equi...</td>\n      <td>The rupee consolidated in a narrow range and s...</td>\n    </tr>\n    <tr>\n      <th>1</th>\n      <td>1</td>\n      <td>India vs Syria Live Streaming, AFC Asian Cup 2...</td>\n      <td>AFC Asian Cup Live Streaming, India vs Syria F...</td>\n      <td>India vs Syria AFC Asia Cup Live Streaming Det...</td>\n    </tr>\n    <tr>\n      <th>2</th>\n      <td>2</td>\n      <td>PM Modi to interact with VCs, teachers, studen...</td>\n      <td>G20 University Connect: The commission has ask...</td>\n      <td>The University Grants Commission (UGC) is orga...</td>\n    </tr>\n    <tr>\n      <th>3</th>\n      <td>3</td>\n      <td>How to remove bloatware apps from Samsung, Rea...</td>\n      <td>Smartphone companies often ship Android phones...</td>\n      <td>Smartphone manufacturers often pack new Androi...</td>\n    </tr>\n    <tr>\n      <th>4</th>\n      <td>4</td>\n      <td>NEET SS 2023 result declared; counselling sche...</td>\n      <td>NEET SS 2023 Result: Candidates who appeared f...</td>\n      <td>The National Board of Examinations Medical Sci...</td>\n    </tr>\n    <tr>\n      <th>...</th>\n      <td>...</td>\n      <td>...</td>\n      <td>...</td>\n      <td>...</td>\n    </tr>\n    <tr>\n      <th>2495</th>\n      <td>2495</td>\n      <td>Google Search and Lens can now visualise STEM ...</td>\n      <td>Google Search and Lens can now help students w...</td>\n      <td>Google has been consistently improving its Sea...</td>\n    </tr>\n    <tr>\n      <th>2496</th>\n      <td>2496</td>\n      <td>Arsenal’s Partey an injury doubt as Arteta rel...</td>\n      <td>Partey came off at halftime during Arsenal's F...</td>\n      <td>Arsenal midfielder Thomas Partey is still an i...</td>\n    </tr>\n    <tr>\n      <th>2497</th>\n      <td>2497</td>\n      <td>iQOO 12 will get 3 Android updates, will not h...</td>\n      <td>iQOO says its upcoming flagship phone, running...</td>\n      <td>iQOO is all set to launch its upcoming flagshi...</td>\n    </tr>\n    <tr>\n      <th>2498</th>\n      <td>2498</td>\n      <td>Lava Blaze Pro 5G review: Is this the best 5G ...</td>\n      <td>Lava Blaze Pro 5G is an excellent 5G smartphon...</td>\n      <td>In less than a year, India has accounted for o...</td>\n    </tr>\n    <tr>\n      <th>2499</th>\n      <td>2499</td>\n      <td>Karan Johar breaks down economics of cinema, r...</td>\n      <td>Filmmaker Karan Johar spoke about the business...</td>\n      <td>Film production as a business is rife with ris...</td>\n    </tr>\n  </tbody>\n</table>\n<p>2500 rows × 4 columns</p>\n</div>"
     },
     "execution_count": 13,
     "metadata": {},
     "output_type": "execute_result"
    }
   ],
   "source": [
    "data"
   ],
   "metadata": {
    "collapsed": false,
    "ExecuteTime": {
     "end_time": "2024-05-07T04:00:33.048249800Z",
     "start_time": "2024-05-07T04:00:33.029088100Z"
    }
   },
   "id": "ceefc662128d139d",
   "execution_count": 13
  },
  {
   "cell_type": "code",
   "outputs": [
    {
     "name": "stdout",
     "output_type": "stream",
     "text": [
      "<class 'pandas.core.frame.DataFrame'>\n",
      "RangeIndex: 2500 entries, 0 to 2499\n",
      "Data columns (total 4 columns):\n",
      " #   Column       Non-Null Count  Dtype \n",
      "---  ------       --------------  ----- \n",
      " 0   Unnamed: 0   2500 non-null   int64 \n",
      " 1   headlines    2500 non-null   object\n",
      " 2   description  2500 non-null   object\n",
      " 3   content      2500 non-null   object\n",
      "dtypes: int64(1), object(3)\n",
      "memory usage: 78.3+ KB\n"
     ]
    }
   ],
   "source": [
    "data.info()"
   ],
   "metadata": {
    "collapsed": false,
    "ExecuteTime": {
     "end_time": "2024-05-07T04:00:33.062445900Z",
     "start_time": "2024-05-07T04:00:33.043253900Z"
    }
   },
   "id": "698a43f7eb28c035",
   "execution_count": 14
  },
  {
   "cell_type": "markdown",
   "source": [
    "### Preprocessing the text data"
   ],
   "metadata": {
    "collapsed": false
   },
   "id": "ab716292afe78ac0"
  },
  {
   "cell_type": "code",
   "outputs": [],
   "source": [
    "import data_preprocessor\n",
    "from data_preprocessor import DataPreprocessor\n",
    "import importlib\n",
    "importlib.reload(data_preprocessor)\n",
    "\n",
    "preprocessor = DataPreprocessor()"
   ],
   "metadata": {
    "collapsed": false,
    "ExecuteTime": {
     "end_time": "2024-05-07T04:00:33.128137800Z",
     "start_time": "2024-05-07T04:00:33.061448400Z"
    }
   },
   "id": "81f0b53bb3ba0210",
   "execution_count": 15
  },
  {
   "cell_type": "code",
   "outputs": [
    {
     "data": {
      "text/plain": "'The rupee consolidated in a narrow range and settled 1 paisa lower at 83.38 (provisional) against the US dollar on Tuesday, as investors preferred to remain cautious ahead of the domestic inflation data release and upcoming US Fed meeting.\\nBesides, selling pressure in the domestic equity markets dented market sentiments, forex traders said.\\nHowever, a weaker American currency against major currencies overseas restricted the loss in the local currency, they added.\\nADVERTISEMENT\\nAt the interbank foreign exchange market, the local unit opened at 83.36 and settled at 83.38 (provisional) against the greenback, registering a loss of 1 paisa from its previous close.\\nDuring intra-day, the rupee touched a high of 83.35 and hit the lowest level of 83.39.\\nOn Monday, the domestic currency settled at 83.37 against the US dollar.\\nInvestors largely remained concerned over the domestic inflation data as well as industrial production numbers to be announced later in the day.\\nADVERTISEMENT\\nCurrency traders were also awaiting the US Federal Reserve’s monetary policy decision likely to be announced later this week.\\n“The upcoming focus is on the US CPI data in the evening, with expectations of 0.3 per cent on a month-on-month basis and a lower year-on-year figure at 3.1 per cent. Anticipating mixed reactions, the rupee seems unaffected, persisting within the broad range of 83.30-83.45,” Jateen Trivedi, VP Research Analyst at LKP Securities, said.\\nMeanwhile, the dollar index, which gauges the greenback’s strength against a basket of six currencies, was trading 0.28 per cent lower at 103.41 on Tuesday.\\nADVERTISEMENT\\nBrent crude futures, the global oil benchmark, advanced 0.34 per cent to USD 76.29 per barrel.\\nOn the domestic equity market front, the 30-share benchmark BSE Sensex plunged 377.50 points, or 0.54 per cent, to settle at 69,551.03 points. The Nifty also fell 90.70 points, or 0.43 per cent, to 20,906.40 points.\\nForeign Institutional Investors (FIIs) were net buyers in the capital market on Monday as they bought shares worth Rs 1,261.13 crore, according to exchange data.'"
     },
     "execution_count": 16,
     "metadata": {},
     "output_type": "execute_result"
    }
   ],
   "source": [
    "# get first row and last column\n",
    "data.iloc[0, -1]"
   ],
   "metadata": {
    "collapsed": false,
    "ExecuteTime": {
     "end_time": "2024-05-07T04:00:33.128137800Z",
     "start_time": "2024-05-07T04:00:33.074946700Z"
    }
   },
   "id": "cc307f3a88c5515e",
   "execution_count": 16
  },
  {
   "cell_type": "code",
   "outputs": [
    {
     "data": {
      "text/plain": "'rupe consolid narrow rang settl paisa lower provision us dollar tuesday investor prefer remain cautiou ahead domest inflat data releas upcom us fed meet besid sell pressur domest equiti market dent market sentiment forex trader said howev weaker american currenc major currenc oversea restrict loss local currenc ad interbank foreign exchang market local unit open settl provision greenback regist loss paisa previou close intraday rupe touch high hit lowest level monday domest currenc settl us dollar investor larg remain concern domest inflat data well industri product number announc later day currenc trader also await us feder reserv monetari polici decis like announc later week upcom focu us cpi data even expect per cent monthonmonth basi lower yearonyear figur per cent anticip mix reaction rupe seem unaffect persist within broad rang jateen trivedi vp research analyst lkp secur said meanwhil dollar index gaug greenback strength basket six currenc trade per cent lower tuesday brent crude futur global oil benchmark advanc per cent usd per barrel domest equiti market front 30share benchmark bse sensex plung point per cent settl point nifti also fell point per cent point foreign institut investor fii net buyer capit market monday bought share worth rs crore accord exchang data'"
     },
     "execution_count": 17,
     "metadata": {},
     "output_type": "execute_result"
    }
   ],
   "source": [
    "preprocessor.preprocess_text(data.iloc[0, -1])"
   ],
   "metadata": {
    "collapsed": false,
    "ExecuteTime": {
     "end_time": "2024-05-07T04:00:33.129134800Z",
     "start_time": "2024-05-07T04:00:33.084432400Z"
    }
   },
   "id": "453d5e7cc1fdf00a",
   "execution_count": 17
  },
  {
   "cell_type": "code",
   "outputs": [],
   "source": [
    "import re\n",
    "\n",
    "def count_numbers(text):\n",
    "    \"\"\"\n",
    "    Count the occurrences of numbers in the text.\n",
    "    \"\"\"\n",
    "    # Define a regular expression pattern to match numbers\n",
    "    pattern = r'\\b\\d+[,.]\\d+\\b|\\b\\d+[,.]?\\b|\\b[,.]\\d+\\b'\n",
    "    return len(re.findall(pattern, text))\n",
    "\n",
    "def preprocess_col(preprocessor: DataPreprocessor, col: pd.Series, h_pct: float = 0, l_pct: float = 0):\n",
    "    \"\"\" \n",
    "    Preprocesses a column of text data using the preprocessor (cfr. data_preprocessor.py), \n",
    "    and by removing the top $h_pct of the most frequent words and the top $l_pct of the least frequent words.\n",
    "    \n",
    "    Inspired partly by: https://medium.com/analytics-vidhya/introduction-to-text-classification-in-python-659eccf6b2e\n",
    "    \n",
    "    :param preprocessor: preprocessor object\n",
    "    :param col: column of text data\n",
    "    :param h_pct: \"the percentage of high frequency words to remove from the corpus\"\n",
    "    :param l_pct: \"the percentage of low frequency words to remove from the corpus\"\n",
    "    :return: \n",
    "    \"\"\"\n",
    "\n",
    "    col = col.apply(preprocessor.preprocess_text)\n",
    "    \n",
    "    if h_pct != 0:\n",
    "        #removing the top $h_pct of the most frequent words \n",
    "        high_freq = pd.Series(' '.join(col).split()).value_counts()[:int(pd.Series(' '.join(col).split()).count()*h_pct/100)]\n",
    "        rem_high = col.apply(lambda x: \" \".join(x for x in x.split() if x not in high_freq))\n",
    "    else:\n",
    "        rem_high = col\n",
    "    \n",
    "    if l_pct != 0:\n",
    "        #removing the top $l_pct of the least frequent words\n",
    "        low_freq = pd.Series(' '.join(rem_high).split()).value_counts()[:-int(pd.Series(' '.join(rem_high).split()).count()*l_pct/100):-1]\n",
    "        rem_low = rem_high.apply(lambda x: \" \".join(x for x in x.split() if x not in low_freq))\n",
    "    else:\n",
    "        rem_low = rem_high\n",
    "    \n",
    "    return rem_low"
   ],
   "metadata": {
    "collapsed": false,
    "ExecuteTime": {
     "end_time": "2024-05-07T04:00:33.203934700Z",
     "start_time": "2024-05-07T04:00:33.110362900Z"
    }
   },
   "id": "74f30def8a10fd8e",
   "execution_count": 18
  },
  {
   "cell_type": "code",
   "outputs": [],
   "source": [
    "from sklearn.feature_extraction.text import TfidfVectorizer\n",
    "\n",
    "# count amount of numbers in content column\n",
    "data['amount_of_numbers'] = data['content'].apply(count_numbers)\n",
    "\n",
    "data['preprocessed_content'] = preprocess_col(preprocessor, data['content'], h_pct=1, l_pct=1)\n",
    "data['concatenated'] = data['headlines'] + ' ' + data['description'] + ' ' + data['preprocessed_content']\n",
    "data['preprocessed_concat'] = preprocess_col(preprocessor, data['concatenated'], h_pct=0, l_pct=0)\n",
    "\n",
    "# Vectorize preprocessed text data\n",
    "vectorizer = TfidfVectorizer()\n",
    "vectorized_data = vectorizer.fit_transform(data['preprocessed_concat'])\n",
    "\n",
    "# Create DataFrame with vectorized data\n",
    "vectorized_df = pd.DataFrame(vectorized_data.toarray(), columns=vectorizer.get_feature_names_out())\n",
    "# Concatenate vectorized DataFrame with original DataFrame\n",
    "final_df = pd.concat([data, vectorized_df], axis=1)\n",
    "\n",
    "# Save DataFrame with vectorized data\n",
    "# final_df.to_csv('vectorized_articles.csv', index=False)  # Save to CSV file"
   ],
   "metadata": {
    "collapsed": false,
    "ExecuteTime": {
     "end_time": "2024-05-07T04:00:47.676650200Z",
     "start_time": "2024-05-07T04:00:33.119162400Z"
    }
   },
   "id": "ddab4a1d095c73e8",
   "execution_count": 19
  },
  {
   "cell_type": "code",
   "outputs": [
    {
     "data": {
      "text/plain": "      Unnamed: 0                                          headlines  \\\n0              0  Rupee ends 1 paisa lower at 83.38 against US d...   \n1              1  India vs Syria Live Streaming, AFC Asian Cup 2...   \n2              2  PM Modi to interact with VCs, teachers, studen...   \n3              3  How to remove bloatware apps from Samsung, Rea...   \n4              4  NEET SS 2023 result declared; counselling sche...   \n...          ...                                                ...   \n2495        2495  Google Search and Lens can now visualise STEM ...   \n2496        2496  Arsenal’s Partey an injury doubt as Arteta rel...   \n2497        2497  iQOO 12 will get 3 Android updates, will not h...   \n2498        2498  Lava Blaze Pro 5G review: Is this the best 5G ...   \n2499        2499  Karan Johar breaks down economics of cinema, r...   \n\n                                            description  \\\n0     Besides, selling pressure in the domestic equi...   \n1     AFC Asian Cup Live Streaming, India vs Syria F...   \n2     G20 University Connect: The commission has ask...   \n3     Smartphone companies often ship Android phones...   \n4     NEET SS 2023 Result: Candidates who appeared f...   \n...                                                 ...   \n2495  Google Search and Lens can now help students w...   \n2496  Partey came off at halftime during Arsenal's F...   \n2497  iQOO says its upcoming flagship phone, running...   \n2498  Lava Blaze Pro 5G is an excellent 5G smartphon...   \n2499  Filmmaker Karan Johar spoke about the business...   \n\n                                                content  amount_of_numbers  \\\n0     The rupee consolidated in a narrow range and s...                 27   \n1     India vs Syria AFC Asia Cup Live Streaming Det...                  5   \n2     The University Grants Commission (UGC) is orga...                  4   \n3     Smartphone manufacturers often pack new Androi...                  0   \n4     The National Board of Examinations Medical Sci...                  2   \n...                                                 ...                ...   \n2495  Google has been consistently improving its Sea...                  0   \n2496  Arsenal midfielder Thomas Partey is still an i...                  1   \n2497  iQOO is all set to launch its upcoming flagshi...                 10   \n2498  In less than a year, India has accounted for o...                  1   \n2499  Film production as a business is rife with ris...                  1   \n\n                                   preprocessed_content  \\\n0     paisa cautiou dent weaker paisa monthonmonth u...   \n1     syria afc syria doordi afc bottom uzbekistan t...   \n2     vicechancellor princip mandapam vicechancellor...   \n3     bloatwar candi crush saga useless uninstal blo...   \n4     nbem eligibilitycumentr specialti ss scorecard...   \n...                                                 ...   \n2495  len bunch math visualis 3d len stepbystep expl...   \n2496  partey discomfort rib mikel partey halftim mri...   \n2497  iqoo iqoo snapdragon funtouch os iqoo nipun ma...   \n2498  lava lure blaze lava blaze highend gigabitclas...   \n2499     directorproduc collat aliv dharma divid vertic   \n\n                                           concatenated  \\\n0     Rupee ends 1 paisa lower at 83.38 against US d...   \n1     India vs Syria Live Streaming, AFC Asian Cup 2...   \n2     PM Modi to interact with VCs, teachers, studen...   \n3     How to remove bloatware apps from Samsung, Rea...   \n4     NEET SS 2023 result declared; counselling sche...   \n...                                                 ...   \n2495  Google Search and Lens can now visualise STEM ...   \n2496  Arsenal’s Partey an injury doubt as Arteta rel...   \n2497  iQOO 12 will get 3 Android updates, will not h...   \n2498  Lava Blaze Pro 5G review: Is this the best 5G ...   \n2499  Karan Johar breaks down economics of cinema, r...   \n\n                                    preprocessed_concat  03httpstco8pkjgg8udm  \\\n0     rupe end paisa lower us dollar besid sell pres...                   0.0   \n1     india vs syria live stream afc asian cup watch...                   0.0   \n2     pm modi interact vc teacher student ugc g20 un...                   0.0   \n3     remov bloatwar app samsung realm xiaomi vivo r...                   0.0   \n4     neet ss result declar counsel schedul soon nat...                   0.0   \n...                                                 ...                   ...   \n2495  googl search len visualis stem model help calc...                   0.0   \n2496  arsen partey injuri doubt arteta reli jorginho...                   0.0   \n2497  iqoo get android updat hot app hot game iqoo s...                   0.0   \n2498  lava blaze pro 5g review best 5g phone rs 15k ...                   0.0   \n2499  karan johar break econom cinema reveal busi mo...                   0.0   \n\n      03mm  ...  zonewhuev  zoolog  zoom  zorzi  zouma  zoya  zozo  \\\n0      0.0  ...        0.0     0.0   0.0    0.0    0.0   0.0   0.0   \n1      0.0  ...        0.0     0.0   0.0    0.0    0.0   0.0   0.0   \n2      0.0  ...        0.0     0.0   0.0    0.0    0.0   0.0   0.0   \n3      0.0  ...        0.0     0.0   0.0    0.0    0.0   0.0   0.0   \n4      0.0  ...        0.0     0.0   0.0    0.0    0.0   0.0   0.0   \n...    ...  ...        ...     ...   ...    ...    ...   ...   ...   \n2495   0.0  ...        0.0     0.0   0.0    0.0    0.0   0.0   0.0   \n2496   0.0  ...        0.0     0.0   0.0    0.0    0.0   0.0   0.0   \n2497   0.0  ...        0.0     0.0   0.0    0.0    0.0   0.0   0.0   \n2498   0.0  ...        0.0     0.0   0.0    0.0    0.0   0.0   0.0   \n2499   0.0  ...        0.0     0.0   0.0    0.0    0.0   0.0   0.0   \n\n      zuckerberg  zulfon  zurich  \n0            0.0     0.0     0.0  \n1            0.0     0.0     0.0  \n2            0.0     0.0     0.0  \n3            0.0     0.0     0.0  \n4            0.0     0.0     0.0  \n...          ...     ...     ...  \n2495         0.0     0.0     0.0  \n2496         0.0     0.0     0.0  \n2497         0.0     0.0     0.0  \n2498         0.0     0.0     0.0  \n2499         0.0     0.0     0.0  \n\n[2500 rows x 21985 columns]",
      "text/html": "<div>\n<style scoped>\n    .dataframe tbody tr th:only-of-type {\n        vertical-align: middle;\n    }\n\n    .dataframe tbody tr th {\n        vertical-align: top;\n    }\n\n    .dataframe thead th {\n        text-align: right;\n    }\n</style>\n<table border=\"1\" class=\"dataframe\">\n  <thead>\n    <tr style=\"text-align: right;\">\n      <th></th>\n      <th>Unnamed: 0</th>\n      <th>headlines</th>\n      <th>description</th>\n      <th>content</th>\n      <th>amount_of_numbers</th>\n      <th>preprocessed_content</th>\n      <th>concatenated</th>\n      <th>preprocessed_concat</th>\n      <th>03httpstco8pkjgg8udm</th>\n      <th>03mm</th>\n      <th>...</th>\n      <th>zonewhuev</th>\n      <th>zoolog</th>\n      <th>zoom</th>\n      <th>zorzi</th>\n      <th>zouma</th>\n      <th>zoya</th>\n      <th>zozo</th>\n      <th>zuckerberg</th>\n      <th>zulfon</th>\n      <th>zurich</th>\n    </tr>\n  </thead>\n  <tbody>\n    <tr>\n      <th>0</th>\n      <td>0</td>\n      <td>Rupee ends 1 paisa lower at 83.38 against US d...</td>\n      <td>Besides, selling pressure in the domestic equi...</td>\n      <td>The rupee consolidated in a narrow range and s...</td>\n      <td>27</td>\n      <td>paisa cautiou dent weaker paisa monthonmonth u...</td>\n      <td>Rupee ends 1 paisa lower at 83.38 against US d...</td>\n      <td>rupe end paisa lower us dollar besid sell pres...</td>\n      <td>0.0</td>\n      <td>0.0</td>\n      <td>...</td>\n      <td>0.0</td>\n      <td>0.0</td>\n      <td>0.0</td>\n      <td>0.0</td>\n      <td>0.0</td>\n      <td>0.0</td>\n      <td>0.0</td>\n      <td>0.0</td>\n      <td>0.0</td>\n      <td>0.0</td>\n    </tr>\n    <tr>\n      <th>1</th>\n      <td>1</td>\n      <td>India vs Syria Live Streaming, AFC Asian Cup 2...</td>\n      <td>AFC Asian Cup Live Streaming, India vs Syria F...</td>\n      <td>India vs Syria AFC Asia Cup Live Streaming Det...</td>\n      <td>5</td>\n      <td>syria afc syria doordi afc bottom uzbekistan t...</td>\n      <td>India vs Syria Live Streaming, AFC Asian Cup 2...</td>\n      <td>india vs syria live stream afc asian cup watch...</td>\n      <td>0.0</td>\n      <td>0.0</td>\n      <td>...</td>\n      <td>0.0</td>\n      <td>0.0</td>\n      <td>0.0</td>\n      <td>0.0</td>\n      <td>0.0</td>\n      <td>0.0</td>\n      <td>0.0</td>\n      <td>0.0</td>\n      <td>0.0</td>\n      <td>0.0</td>\n    </tr>\n    <tr>\n      <th>2</th>\n      <td>2</td>\n      <td>PM Modi to interact with VCs, teachers, studen...</td>\n      <td>G20 University Connect: The commission has ask...</td>\n      <td>The University Grants Commission (UGC) is orga...</td>\n      <td>4</td>\n      <td>vicechancellor princip mandapam vicechancellor...</td>\n      <td>PM Modi to interact with VCs, teachers, studen...</td>\n      <td>pm modi interact vc teacher student ugc g20 un...</td>\n      <td>0.0</td>\n      <td>0.0</td>\n      <td>...</td>\n      <td>0.0</td>\n      <td>0.0</td>\n      <td>0.0</td>\n      <td>0.0</td>\n      <td>0.0</td>\n      <td>0.0</td>\n      <td>0.0</td>\n      <td>0.0</td>\n      <td>0.0</td>\n      <td>0.0</td>\n    </tr>\n    <tr>\n      <th>3</th>\n      <td>3</td>\n      <td>How to remove bloatware apps from Samsung, Rea...</td>\n      <td>Smartphone companies often ship Android phones...</td>\n      <td>Smartphone manufacturers often pack new Androi...</td>\n      <td>0</td>\n      <td>bloatwar candi crush saga useless uninstal blo...</td>\n      <td>How to remove bloatware apps from Samsung, Rea...</td>\n      <td>remov bloatwar app samsung realm xiaomi vivo r...</td>\n      <td>0.0</td>\n      <td>0.0</td>\n      <td>...</td>\n      <td>0.0</td>\n      <td>0.0</td>\n      <td>0.0</td>\n      <td>0.0</td>\n      <td>0.0</td>\n      <td>0.0</td>\n      <td>0.0</td>\n      <td>0.0</td>\n      <td>0.0</td>\n      <td>0.0</td>\n    </tr>\n    <tr>\n      <th>4</th>\n      <td>4</td>\n      <td>NEET SS 2023 result declared; counselling sche...</td>\n      <td>NEET SS 2023 Result: Candidates who appeared f...</td>\n      <td>The National Board of Examinations Medical Sci...</td>\n      <td>2</td>\n      <td>nbem eligibilitycumentr specialti ss scorecard...</td>\n      <td>NEET SS 2023 result declared; counselling sche...</td>\n      <td>neet ss result declar counsel schedul soon nat...</td>\n      <td>0.0</td>\n      <td>0.0</td>\n      <td>...</td>\n      <td>0.0</td>\n      <td>0.0</td>\n      <td>0.0</td>\n      <td>0.0</td>\n      <td>0.0</td>\n      <td>0.0</td>\n      <td>0.0</td>\n      <td>0.0</td>\n      <td>0.0</td>\n      <td>0.0</td>\n    </tr>\n    <tr>\n      <th>...</th>\n      <td>...</td>\n      <td>...</td>\n      <td>...</td>\n      <td>...</td>\n      <td>...</td>\n      <td>...</td>\n      <td>...</td>\n      <td>...</td>\n      <td>...</td>\n      <td>...</td>\n      <td>...</td>\n      <td>...</td>\n      <td>...</td>\n      <td>...</td>\n      <td>...</td>\n      <td>...</td>\n      <td>...</td>\n      <td>...</td>\n      <td>...</td>\n      <td>...</td>\n      <td>...</td>\n    </tr>\n    <tr>\n      <th>2495</th>\n      <td>2495</td>\n      <td>Google Search and Lens can now visualise STEM ...</td>\n      <td>Google Search and Lens can now help students w...</td>\n      <td>Google has been consistently improving its Sea...</td>\n      <td>0</td>\n      <td>len bunch math visualis 3d len stepbystep expl...</td>\n      <td>Google Search and Lens can now visualise STEM ...</td>\n      <td>googl search len visualis stem model help calc...</td>\n      <td>0.0</td>\n      <td>0.0</td>\n      <td>...</td>\n      <td>0.0</td>\n      <td>0.0</td>\n      <td>0.0</td>\n      <td>0.0</td>\n      <td>0.0</td>\n      <td>0.0</td>\n      <td>0.0</td>\n      <td>0.0</td>\n      <td>0.0</td>\n      <td>0.0</td>\n    </tr>\n    <tr>\n      <th>2496</th>\n      <td>2496</td>\n      <td>Arsenal’s Partey an injury doubt as Arteta rel...</td>\n      <td>Partey came off at halftime during Arsenal's F...</td>\n      <td>Arsenal midfielder Thomas Partey is still an i...</td>\n      <td>1</td>\n      <td>partey discomfort rib mikel partey halftim mri...</td>\n      <td>Arsenal’s Partey an injury doubt as Arteta rel...</td>\n      <td>arsen partey injuri doubt arteta reli jorginho...</td>\n      <td>0.0</td>\n      <td>0.0</td>\n      <td>...</td>\n      <td>0.0</td>\n      <td>0.0</td>\n      <td>0.0</td>\n      <td>0.0</td>\n      <td>0.0</td>\n      <td>0.0</td>\n      <td>0.0</td>\n      <td>0.0</td>\n      <td>0.0</td>\n      <td>0.0</td>\n    </tr>\n    <tr>\n      <th>2497</th>\n      <td>2497</td>\n      <td>iQOO 12 will get 3 Android updates, will not h...</td>\n      <td>iQOO says its upcoming flagship phone, running...</td>\n      <td>iQOO is all set to launch its upcoming flagshi...</td>\n      <td>10</td>\n      <td>iqoo iqoo snapdragon funtouch os iqoo nipun ma...</td>\n      <td>iQOO 12 will get 3 Android updates, will not h...</td>\n      <td>iqoo get android updat hot app hot game iqoo s...</td>\n      <td>0.0</td>\n      <td>0.0</td>\n      <td>...</td>\n      <td>0.0</td>\n      <td>0.0</td>\n      <td>0.0</td>\n      <td>0.0</td>\n      <td>0.0</td>\n      <td>0.0</td>\n      <td>0.0</td>\n      <td>0.0</td>\n      <td>0.0</td>\n      <td>0.0</td>\n    </tr>\n    <tr>\n      <th>2498</th>\n      <td>2498</td>\n      <td>Lava Blaze Pro 5G review: Is this the best 5G ...</td>\n      <td>Lava Blaze Pro 5G is an excellent 5G smartphon...</td>\n      <td>In less than a year, India has accounted for o...</td>\n      <td>1</td>\n      <td>lava lure blaze lava blaze highend gigabitclas...</td>\n      <td>Lava Blaze Pro 5G review: Is this the best 5G ...</td>\n      <td>lava blaze pro 5g review best 5g phone rs 15k ...</td>\n      <td>0.0</td>\n      <td>0.0</td>\n      <td>...</td>\n      <td>0.0</td>\n      <td>0.0</td>\n      <td>0.0</td>\n      <td>0.0</td>\n      <td>0.0</td>\n      <td>0.0</td>\n      <td>0.0</td>\n      <td>0.0</td>\n      <td>0.0</td>\n      <td>0.0</td>\n    </tr>\n    <tr>\n      <th>2499</th>\n      <td>2499</td>\n      <td>Karan Johar breaks down economics of cinema, r...</td>\n      <td>Filmmaker Karan Johar spoke about the business...</td>\n      <td>Film production as a business is rife with ris...</td>\n      <td>1</td>\n      <td>directorproduc collat aliv dharma divid vertic</td>\n      <td>Karan Johar breaks down economics of cinema, r...</td>\n      <td>karan johar break econom cinema reveal busi mo...</td>\n      <td>0.0</td>\n      <td>0.0</td>\n      <td>...</td>\n      <td>0.0</td>\n      <td>0.0</td>\n      <td>0.0</td>\n      <td>0.0</td>\n      <td>0.0</td>\n      <td>0.0</td>\n      <td>0.0</td>\n      <td>0.0</td>\n      <td>0.0</td>\n      <td>0.0</td>\n    </tr>\n  </tbody>\n</table>\n<p>2500 rows × 21985 columns</p>\n</div>"
     },
     "execution_count": 20,
     "metadata": {},
     "output_type": "execute_result"
    }
   ],
   "source": [
    "final_df"
   ],
   "metadata": {
    "collapsed": false,
    "ExecuteTime": {
     "end_time": "2024-05-07T04:00:47.778876100Z",
     "start_time": "2024-05-07T04:00:47.678645800Z"
    }
   },
   "id": "c116290ca9b24b78",
   "execution_count": 20
  },
  {
   "cell_type": "code",
   "outputs": [],
   "source": [
    "from sklearn.cluster import KMeans\n",
    "from sklearn.metrics import silhouette_score\n",
    "import pandas as pd\n",
    "\n",
    "# Assuming 'tfidf_features' contains TF-IDF scores as features for each document\n",
    "tfidf_features = pd.read_csv('tfidf_features.csv')\n",
    "\n",
    "# Choose the number of clusters\n",
    "num_clusters = 5\n",
    "\n",
    "# Initialize K-means clustering algorithm\n",
    "kmeans = KMeans(n_clusters=num_clusters, random_state=42)\n",
    "\n",
    "# Fit K-means to the TF-IDF features\n",
    "kmeans.fit(tfidf_features)\n",
    "\n",
    "# Get cluster labels for each document\n",
    "cluster_labels = kmeans.labels_\n",
    "\n",
    "# Evaluate clustering using silhouette score (optional)\n",
    "silhouette_avg = silhouette_score(tfidf_features, cluster_labels)\n",
    "print(\"Silhouette Score:\", silhouette_avg)\n",
    "\n",
    "# Assign cluster labels to documents in the dataset\n",
    "tfidf_features['cluster'] = cluster_labels\n",
    "\n",
    "# Visualize or analyze the clusters as needed\n",
    "print(tfidf_features.head())"
   ],
   "metadata": {
    "collapsed": false
   },
   "id": "a94921c56855b84b"
  }
 ],
 "metadata": {
  "kernelspec": {
   "display_name": "Python 3",
   "language": "python",
   "name": "python3"
  },
  "language_info": {
   "codemirror_mode": {
    "name": "ipython",
    "version": 2
   },
   "file_extension": ".py",
   "mimetype": "text/x-python",
   "name": "python",
   "nbconvert_exporter": "python",
   "pygments_lexer": "ipython2",
   "version": "2.7.6"
  }
 },
 "nbformat": 4,
 "nbformat_minor": 5
}
